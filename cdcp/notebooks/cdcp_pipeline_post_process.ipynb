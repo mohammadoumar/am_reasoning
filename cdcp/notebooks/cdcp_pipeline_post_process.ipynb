{
 "cells": [
  {
   "cell_type": "markdown",
   "id": "671272c9-0c9d-4265-a75b-480471345729",
   "metadata": {},
   "source": [
    "# Joint Task Post-Processing"
   ]
  },
  {
   "cell_type": "markdown",
   "id": "1165cbdc-bb7a-48d3-b17d-442687c00173",
   "metadata": {},
   "source": [
    "## Libraries"
   ]
  },
  {
   "cell_type": "code",
   "execution_count": null,
   "id": "d3de7add-5182-4d9f-af93-5446726c9d34",
   "metadata": {},
   "outputs": [],
   "source": [
    "import os\n",
    "import re\n",
    "import pickle\n",
    "import json\n",
    "import pandas as pd\n",
    "import ast\n",
    "\n",
    "from sklearn.metrics import classification_report"
   ]
  },
  {
   "cell_type": "code",
   "execution_count": 2,
   "id": "b730bdf5-bfc3-4ddd-980d-fadf1211c638",
   "metadata": {},
   "outputs": [],
   "source": [
    "#am_work/coling_2025/cdcp/finetuned_models_run3/CDCP_acc_mistral-7b-instruct-v0.3-bnb-4bit"
   ]
  },
  {
   "cell_type": "code",
   "execution_count": 3,
   "id": "2c9015fa-e4a5-4f93-ac36-af34da3df038",
   "metadata": {},
   "outputs": [],
   "source": [
    "# nb_epochs = 0.2\n",
    "# OUTPUT_DIR = \"../finetuned_models_run3/CDCP_acc_mistral-7b-instruct-v0.3-bnb-4bit\""
   ]
  },
  {
   "cell_type": "code",
   "execution_count": 4,
   "id": "bccd9d4b-e136-48ae-9d49-ee50f742743c",
   "metadata": {},
   "outputs": [],
   "source": [
    "with open(\"/Utilisateurs/umushtaq/am_reasoning/cdcp/saved_models/cdcp_pipeline_llama-3-8b-Instruct-bnb-4bit/cdcp_pipeline_results_5.pickle\", \"rb\") as fh:\n",
    "        \n",
    "        results = pickle.load(fh)"
   ]
  },
  {
   "cell_type": "code",
   "execution_count": 5,
   "id": "fab70013-5bf8-4685-b643-a05ecfcab4a5",
   "metadata": {
    "scrolled": true
   },
   "outputs": [
    {
     "data": {
      "text/plain": [
       "{'grounds': ['### Output:\\n{\"argument_types\": [\\'F\\', \\'V\\', \\'P\\']}\\n{\"relation_types\": [(3, 2, \\'R\\')]}\\n',\n",
       "  '### Output:\\n{\"argument_types\": [\\'V\\', \\'P\\', \\'P\\', \\'P\\', \\'P\\']}\\n{\"relation_types\": []}\\n',\n",
       "  '### Output:\\n{\"argument_types\": [\\'P\\', \\'P\\']}\\n{\"relation_types\": []}\\n',\n",
       "  '### Output:\\n{\"argument_types\": [\\'V\\', \\'V\\']}\\n{\"relation_types\": []}\\n',\n",
       "  '### Output:\\n{\"argument_types\": [\\'V\\', \\'V\\', \\'V\\', \\'T\\', \\'V\\']}\\n{\"relation_types\": [(5, 3, \\'R\\'), (5, 4, \\'R\\')]}\\n',\n",
       "  '### Output:\\n{\"argument_types\": [\\'T\\', \\'T\\', \\'T\\', \\'V\\', \\'V\\', \\'P\\']}\\n{\"relation_types\": [(5, 1, \\'R\\'), (5, 2, \\'R\\'), (5, 3, \\'R\\'), (5, 4, \\'R\\')]}\\n',\n",
       "  '### Output:\\n{\"argument_types\": [\\'V\\', \\'F\\', \\'T\\', \\'T\\', \\'T\\']}\\n{\"relation_types\": [(2, 3, \\'E\\'), (2, 4, \\'E\\'), (2, 5, \\'E\\'), (1, 4, \\'R\\'), (1, 5, \\'R\\')]}\\n',\n",
       "  '### Output:\\n{\"argument_types\": [\\'V\\', \\'T\\', \\'V\\', \\'V\\', \\'P\\', \\'P\\']}\\n{\"relation_types\": [(1, 2, \\'R\\'), (4, 3, \\'R\\'), (6, 3, \\'R\\')]}\\n',\n",
       "  '### Output:\\n{\"argument_types\": [\\'T\\', \\'F\\', \\'F\\', \\'P\\', \\'F\\', \\'V\\', \\'F\\', \\'F\\', \\'F\\', \\'V\\']}\\n{\"relation_types\": [(4, 5, \\'R\\'), (4, 6, \\'R\\'), (6, 8, \\'R\\'), (6, 9, \\'R\\'), (6, 10, \\'R\\')]}\\n',\n",
       "  '### Output:\\n{\"argument_types\": [\\'V\\', \\'V\\', \\'V\\', \\'V\\']}\\n{\"relation_types\": [(1, 2, \\'R\\'), (1, 4, \\'R\\')]}\\n',\n",
       "  '### Output:\\n{\"argument_types\": [\\'F\\', \\'V\\', \\'T\\', \\'T\\', \\'T\\', \\'P\\', \\'V\\', \\'V\\']}\\n{\"relation_types\": [(2, 3, \\'R\\'), (2, 4, \\'R\\'), (2, 5, \\'R\\'), (6, 7, \\'R\\'), (6, 8, \\'R\\')]}\\n',\n",
       "  '### Output:\\n{\"argument_types\": [\\'F\\', \\'V\\', \\'P\\', \\'V\\', \\'P\\', \\'P\\']}\\n{\"relation_types\": [(3, 4, \\'R\\')]}\\n',\n",
       "  '### Output:\\n{\"argument_types\": [\\'V\\', \\'V\\', \\'F\\', \\'V\\', \\'T\\', \\'P\\']}\\n{\"relation_types\": [(1, 2, \\'R\\'), (1, 3, \\'R\\'), (5, 2, \\'R\\')]}\\n',\n",
       "  '### Output:\\n{\"argument_types\": [\\'T\\', \\'F\\', \\'V\\', \\'V\\']}\\n{\"relation_types\": []}\\n',\n",
       "  '### Output:\\n{\"argument_types\": [\\'V\\', \\'V\\', \\'V\\', \\'V\\']}\\n{\"relation_types\": [(2, 3, \\'R\\'), (2, 4, \\'R\\')]}\\n',\n",
       "  '### Output:\\n{\"argument_types\": [\\'V\\', \\'V\\', \\'V\\', \\'V\\']}\\n{\"relation_types\": [(1, 2, \\'R\\'), (3, 4, \\'R\\')]}\\n',\n",
       "  '### Output:\\n{\"argument_types\": [\\'P\\', \\'F\\', \\'F\\', \\'F\\']}\\n{\"relation_types\": [(1, 2, \\'R\\'), (1, 3, \\'R\\'), (1, 4, \\'R\\')]}\\n',\n",
       "  '### Output:\\n{\"argument_types\": [\\'V\\', \\'T\\', \\'T\\', \\'T\\']}\\n{\"relation_types\": [(1, 2, \\'R\\'), (1, 3, \\'R\\'), (1, 4, \\'R\\')]}\\n',\n",
       "  '### Output:\\n{\"argument_types\": [\\'T\\', \\'T\\', \\'T\\', \\'T\\']}\\n{\"relation_types\": []}\\n',\n",
       "  '### Output:\\n{\"argument_types\": [\\'V\\', \\'P\\']}\\n{\"relation_types\": []}\\n',\n",
       "  '### Output:\\n{\"argument_types\": [\\'V\\', \\'V\\', \\'V\\', \\'V\\', \\'P\\', \\'V\\']}\\n{\"relation_types\": [(1, 3, \\'R\\'), (3, 2, \\'R\\'), (5, 6, \\'R\\')]}\\n',\n",
       "  '### Output:\\n{\"argument_types\": [\\'T\\', \\'V\\', \\'F\\', \\'F\\', \\'P\\', \\'F\\', \\'P\\', \\'V\\', \\'V\\']}\\n{\"relation_types\": [(2, 3, \\'R\\'), (2, 4, \\'R\\'), (7, 8, \\'R\\'), (8, 9, \\'R\\')]}\\n',\n",
       "  '### Output:\\n{\"argument_types\": [\\'V\\', \\'T\\', \\'V\\', \\'V\\', \\'F\\', \\'F\\']}\\n{\"relation_types\": [(3, 4, \\'R\\')]}\\n',\n",
       "  '### Output:\\n{\"argument_types\": [\\'T\\', \\'T\\']}\\n{\"relation_types\": []}\\n',\n",
       "  '### Output:\\n{\"argument_types\": [\\'F\\', \\'V\\']}\\n{\"relation_types\": []}\\n',\n",
       "  '### Output:\\n{\"argument_types\": [\\'V\\', \\'V\\', \\'V\\', \\'T\\', \\'T\\', \\'V\\', \\'V\\', \\'T\\', \\'T\\', \\'T\\', \\'T\\', \\'V\\', \\'T\\', \\'T\\', \\'T\\', \\'T\\', \\'T\\', \\'T\\', \\'T\\', \\'T\\', \\'T\\', \\'T\\', \\'T\\', \\'T\\', \\'V\\', \\'V\\', \\'V\\']}\\n{\"relation_types\": [(2, 3, \\'R\\'), (2, 4, \\'R\\'), (2, 5, \\'R\\'), (9, 11, \\'R\\'), (9, 12, \\'R\\'), (9, 10, \\'R\\'), (14, 13, \\'R\\'), (26, 25, \\'R\\'), (26, 27, \\'R\\')]}\\n',\n",
       "  '### Output:\\n{\"argument_types\": [\\'V\\', \\'V\\', \\'F\\', \\'F\\', \\'F\\', \\'P\\']}\\n{\"relation_types\": [(5, 4, \\'R\\')]}\\n',\n",
       "  '### Output:\\n{\"argument_types\": [\\'P\\', \\'P\\', \\'P\\']}\\n{\"relation_types\": []}\\n',\n",
       "  '### Output:\\n{\"argument_types\": [\\'T\\', \\'T\\', \\'F\\', \\'T\\', \\'V\\', \\'P\\', \\'V\\']}\\n{\"relation_types\": [(2, 3, \\'E\\'), (2, 4, \\'E\\'), (5, 1, \\'R\\'), (5, 2, \\'R\\'), (6, 7, \\'R\\'), (7, 1, \\'R\\'), (7, 2, \\'R\\')]}\\n',\n",
       "  '### Output:\\n{\"argument_types\": [\\'V\\', \\'V\\', \\'V\\']}\\n{\"relation_types\": []}\\n',\n",
       "  '### Output:\\n{\"argument_types\": [\\'V\\', \\'F\\', \\'P\\', \\'P\\', \\'P\\', \\'T\\']}\\n{\"relation_types\": [(1, 2, \\'R\\'), (5, 6, \\'R\\')]}\\n',\n",
       "  '### Output:\\n{\"argument_types\": [\\'V\\', \\'V\\', \\'F\\', \\'V\\', \\'F\\']}\\n{\"relation_types\": []}\\n',\n",
       "  '### Output:\\n{\"argument_types\": [\\'T\\', \\'T\\', \\'T\\', \\'T\\', \\'T\\', \\'T\\', \\'V\\', \\'T\\', \\'T\\', \\'T\\', \\'T\\', \\'T\\', \\'V\\', \\'T\\', \\'V\\']}\\n{\"relation_types\": []}\\n',\n",
       "  '### Output:\\n{\"argument_types\": [\\'T\\', \\'V\\']}\\n{\"relation_types\": []}\\n',\n",
       "  '### Output:\\n{\"argument_types\": [\\'V\\', \\'F\\', \\'P\\']}\\n{\"relation_types\": []}\\n',\n",
       "  '### Output:\\n{\"argument_types\": [\\'P\\', \\'V\\']}\\n{\"relation_types\": []}\\n',\n",
       "  '### Output:\\n{\"argument_types\": [\\'V\\', \\'P\\', \\'F\\']}\\n{\"relation_types\": [(2, 1, \\'R\\')]}\\n',\n",
       "  '### Output:\\n{\"argument_types\": [\\'V\\', \\'T\\', \\'T\\', \\'V\\', \\'V\\', \\'V\\']}\\n{\"relation_types\": [(1, 2, \\'R\\'), (1, 3, \\'R\\'), (4, 5, \\'R\\'), (6, 5, \\'R\\')]}\\n',\n",
       "  '### Output:\\n{\"argument_types\": [\\'P\\', \\'V\\', \\'V\\', \\'T\\', \\'V\\', \\'P\\']}\\n{\"relation_types\": [(1, 3, \\'R\\'), (1, 4, \\'R\\'), (1, 5, \\'R\\'), (6, 3, \\'R\\'), (6, 4, \\'R\\'), (6, 5, \\'R\\')]}\\n',\n",
       "  '### Output:\\n{\"argument_types\": [\\'P\\', \\'F\\']}\\n{\"relation_types\": []}\\n',\n",
       "  '### Output:\\n{\"argument_types\": [\\'F\\', \\'V\\', \\'T\\', \\'T\\', \\'V\\']}\\n{\"relation_types\": []}\\n',\n",
       "  '### Output:\\n{\"argument_types\": [\\'T\\', \\'T\\', \\'T\\', \\'T\\', \\'T\\', \\'T\\', \\'T\\', \\'V\\', \\'V\\', \\'V\\']}\\n{\"relation_types\": []}\\n',\n",
       "  '### Output:\\n{\"argument_types\": [\\'P\\', \\'F\\', \\'P\\']}\\n{\"relation_types\": [(1, 2, \\'R\\')]}\\n',\n",
       "  '### Output:\\n{\"argument_types\": [\\'F\\', \\'T\\', \\'T\\', \\'T\\', \\'T\\', \\'T\\', \\'T\\', \\'T\\']}\\n{\"relation_types\": [(1, 2, \\'E\\'), (1, 3, \\'E\\'), (1, 4, \\'E\\'), (1, 5, \\'E\\'), (1, 6, \\'E\\'), (1, 7, \\'E\\'), (1, 8, \\'E\\')]}\\n',\n",
       "  '### Output:\\n{\"argument_types\": [\\'V\\', \\'V\\', \\'F\\', \\'T\\', \\'F\\', \\'F\\', \\'V\\']}\\n{\"relation_types\": [(2, 3, \\'R\\'), (2, 4, \\'R\\'), (2, 5, \\'R\\')]}\\n',\n",
       "  '### Output:\\n{\"argument_types\": [\\'V\\', \\'V\\', \\'P\\', \\'V\\', \\'V\\']}\\n{\"relation_types\": []}\\n',\n",
       "  '### Output:\\n{\"argument_types\": [\\'P\\', \\'V\\', \\'V\\', \\'V\\']}\\n{\"relation_types\": []}\\n',\n",
       "  '### Output:\\n{\"argument_types\": [\\'T\\', \\'T\\', \\'T\\', \\'T\\', \\'T\\', \\'T\\', \\'V\\', \\'P\\']}\\n{\"relation_types\": [(4, 3, \\'R\\'), (7, 6, \\'R\\'), (8, 2, \\'R\\'), (8, 4, \\'R\\')]}\\n',\n",
       "  '### Output:\\n{\"argument_types\": [\\'F\\', \\'F\\', \\'F\\', \\'V\\', \\'P\\', \\'V\\', \\'V\\', \\'V\\', \\'V\\']}\\n{\"relation_types\": []}\\n',\n",
       "  '### Output:\\n{\"argument_types\": [\\'V\\', \\'V\\', \\'F\\']}\\n{\"relation_types\": []}\\n',\n",
       "  '### Output:\\n{\"argument_types\": [\\'V\\', \\'F\\', \\'V\\', \\'V\\', \\'V\\', \\'V\\', \\'V\\']}\\n{\"relation_types\": [(1, 2, \\'R\\'), (1, 3, \\'R\\'), (5, 6, \\'R\\')]}\\n',\n",
       "  '### Output:\\n{\"argument_types\": [\\'P\\', \\'F\\', \\'V\\', \\'P\\', \\'V\\', \\'P\\', \\'V\\', \\'F\\', \\'V\\', \\'V\\', \\'P\\', \\'V\\', \\'V\\', \\'P\\']}\\n{\"relation_types\": [(10, 9, \\'R\\'), (12, 13, \\'R\\')]}\\n',\n",
       "  '### Output:\\n{\"argument_types\": [\\'T\\', \\'T\\', \\'T\\', \\'T\\', \\'V\\', \\'F\\', \\'V\\', \\'T\\', \\'F\\', \\'F\\', \\'V\\']}\\n{\"relation_types\": [(7, 8, \\'R\\')]}\\n',\n",
       "  '### Output:\\n{\"argument_types\": [\\'V\\', \\'T\\', \\'T\\', \\'V\\', \\'V\\']}\\n{\"relation_types\": [(1, 2, \\'R\\')]}\\n',\n",
       "  '### Output:\\n{\"argument_types\": [\\'P\\', \\'F\\', \\'T\\', \\'T\\', \\'T\\', \\'T\\', \\'V\\']}\\n{\"relation_types\": [(1, 2, \\'R\\'), (7, 6, \\'R\\')]}\\n',\n",
       "  '### Output:\\n{\"argument_types\": [\\'T\\', \\'T\\', \\'T\\', \\'T\\', \\'T\\', \\'T\\', \\'T\\', \\'T\\', \\'T\\', \\'V\\', \\'V\\', \\'V\\', \\'V\\', \\'V\\']}\\n{\"relation_types\": [(8, 9, \\'E\\'), (2, 3, \\'R\\'), (12, 11, \\'R\\'), (14, 13, \\'R\\')]}\\n',\n",
       "  '### Output:\\n{\"argument_types\": [\\'V\\', \\'F\\']}\\n{\"relation_types\": []}\\n',\n",
       "  '### Output:\\n{\"argument_types\": [\\'P\\', \\'P\\', \\'V\\', \\'V\\']}\\n{\"relation_types\": [(2, 3, \\'R\\'), (2, 4, \\'R\\')]}\\n',\n",
       "  '### Output:\\n{\"argument_types\": [\\'P\\', \\'V\\', \\'P\\', \\'V\\']}\\n{\"relation_types\": [(1, 3, \\'R\\'), (1, 4, \\'R\\')]}\\n',\n",
       "  '### Output:\\n{\"argument_types\": [\\'V\\', \\'T\\', \\'T\\', \\'T\\']}\\n{\"relation_types\": [(1, 2, \\'R\\'), (1, 3, \\'R\\'), (1, 4, \\'R\\')]}\\n',\n",
       "  '### Output:\\n{\"argument_types\": [\\'P\\', \\'T\\', \\'V\\', \\'V\\', \\'F\\', \\'V\\', \\'V\\', \\'V\\', \\'V\\', \\'V\\', \\'P\\', \\'P\\', \\'V\\', \\'V\\', \\'P\\']}\\n{\"relation_types\": [(1, 5, \\'R\\'), (3, 4, \\'R\\'), (3, 5, \\'R\\'), (6, 7, \\'R\\'), (11, 13, \\'R\\'), (11, 14, \\'R\\'), (12, 11, \\'R\\'), (15, 13, \\'R\\'), (15, 14, \\'R\\')]}\\n',\n",
       "  '### Output:\\n{\"argument_types\": [\\'T\\', \\'T\\', \\'V\\', \\'F\\', \\'V\\', \\'V\\', \\'T\\', \\'T\\']}\\n{\"relation_types\": [(3, 2, \\'R\\')]}\\n',\n",
       "  '### Output:\\n{\"argument_types\": [\\'V\\', \\'T\\', \\'T\\', \\'V\\', \\'T\\', \\'V\\', \\'V\\', \\'V\\', \\'V\\', \\'T\\', \\'V\\', \\'V\\', \\'T\\', \\'T\\', \\'T\\', \\'V\\', \\'T\\', \\'T\\', \\'T\\', \\'V\\', \\'V\\']}\\n{\"relation_types\": [(1, 2, \\'R\\'), (1, 3, \\'R\\'), (4, 5, \\'R\\'), (8, 9, \\'R\\'), (12, 13, \\'R\\'), (15, 16, \\'R\\')]}\\n',\n",
       "  '### Output:\\n{\"argument_types\": [\\'T\\', \\'T\\', \\'T\\', \\'T\\', \\'T\\', \\'T\\']}\\n{\"relation_types\": []}\\n',\n",
       "  '### Output:\\n{\"argument_types\": [\\'P\\', \\'V\\', \\'V\\', \\'V\\', \\'V\\', \\'V\\', \\'P\\', \\'V\\']}\\n{\"relation_types\": [(1, 2, \\'R\\'), (1, 3, \\'R\\'), (1, 4, \\'R\\'), (1, 5, \\'R\\'), (1, 6, \\'R\\'), (3, 4, \\'R\\'), (4, 5, \\'R\\'), (7, 8, \\'R\\')]}\\n',\n",
       "  '### Output:\\n{\"argument_types\": [\\'F\\', \\'F\\', \\'T\\']}\\n{\"relation_types\": []}\\n',\n",
       "  '### Output:\\n{\"argument_types\": [\\'P\\', \\'V\\', \\'V\\', \\'V\\', \\'V\\', \\'V\\']}\\n{\"relation_types\": [(1, 2, \\'R\\'), (3, 4, \\'R\\'), (6, 5, \\'R\\')]}\\n',\n",
       "  '### Output:\\n{\"argument_types\": [\\'F\\', \\'T\\', \\'T\\', \\'T\\', \\'P\\', \\'P\\', \\'P\\']}\\n{\"relation_types\": [(1, 2, \\'E\\'), (1, 3, \\'E\\'), (1, 4, \\'E\\'), (6, 7, \\'R\\')]}\\n',\n",
       "  '### Output:\\n{\"argument_types\": [\\'V\\', \\'P\\', \\'P\\', \\'P\\']}\\n{\"relation_types\": []}\\n',\n",
       "  '### Output:\\n{\"argument_types\": [\\'V\\', \\'V\\', \\'F\\']}\\n{\"relation_types\": [(2, 3, \\'R\\')]}\\n',\n",
       "  '### Output:\\n{\"argument_types\": [\\'F\\', \\'V\\', \\'T\\', \\'V\\']}\\n{\"relation_types\": []}\\n',\n",
       "  '### Output:\\n{\"argument_types\": [\\'V\\', \\'F\\', \\'F\\', \\'V\\', \\'V\\']}\\n{\"relation_types\": [(1, 2, \\'R\\'), (1, 3, \\'R\\')]}\\n',\n",
       "  '### Output:\\n{\"argument_types\": [\\'V\\', \\'V\\', \\'V\\']}\\n{\"relation_types\": [(1, 2, \\'R\\'), (3, 2, \\'R\\')]}\\n',\n",
       "  '### Output:\\n{\"argument_types\": [\\'V\\', \\'V\\', \\'V\\', \\'V\\', \\'T\\', \\'V\\', \\'T\\', \\'T\\', \\'T\\', \\'V\\', \\'T\\', \\'T\\', \\'T\\', \\'V\\', \\'V\\', \\'V\\', \\'V\\', \\'V\\', \\'V\\']}\\n{\"relation_types\": [(3, 4, \\'R\\'), (4, 5, \\'R\\'), (4, 6, \\'R\\'), (4, 7, \\'R\\'), (4, 8, \\'R\\'), (4, 9, \\'R\\'), (4, 10, \\'R\\'), (4, 11, \\'R\\'), (4, 12, \\'R\\'), (4, 13, \\'R\\'), (15, 16, \\'R\\'), (17, 18, \\'R\\'), (18, 19, \\'R\\')]}\\n',\n",
       "  '### Output:\\n{\"argument_types\": [\\'V\\', \\'V\\', \\'V\\', \\'V\\', \\'V\\', \\'V\\', \\'V\\', \\'V\\', \\'V\\', \\'V\\', \\'V\\', \\'V\\', \\'V\\', \\'V\\', \\'V\\', \\'V\\', \\'V\\']}\\n{\"relation_types\": [(7, 8, \\'R\\'), (9, 10, \\'R\\'), (10, 11, \\'R\\'), (16, 15, \\'R\\')]}\\n',\n",
       "  '### Output:\\n{\"argument_types\": [\\'V\\', \\'V\\', \\'V\\', \\'V\\', \\'V\\', \\'V\\', \\'V\\', \\'F\\', \\'F\\', \\'V\\', \\'V\\', \\'V\\', \\'P\\', \\'V\\', \\'F\\', \\'F\\', \\'V\\', \\'V\\', \\'P\\', \\'P\\', \\'V\\', \\'V\\', \\'P\\', \\'P\\', \\'P\\', \\'P\\', \\'V\\', \\'V\\', \\'V\\', \\'P\\', \\'P\\', \\'V\\', \\'P\\', \\'V\\']}\\n{\"relation_types\": [(1, 2, \\'R\\'), (1, 3, \\'R\\'), (13, 14, \\'R\\'), (20, 19, \\'R\\'), (22, 21, \\'R\\'), (27, 28, \\'R\\'), (31, 32, \\'R\\')]}\\n',\n",
       "  '### Output:\\n{\"argument_types\": [\\'P\\', \\'V\\', \\'P\\', \\'V\\']}\\n{\"relation_types\": [(1, 2, \\'R\\'), (3, 4, \\'R\\')]}\\n',\n",
       "  '### Output:\\n{\"argument_types\": [\\'F\\', \\'V\\', \\'F\\', \\'V\\']}\\n{\"relation_types\": [(3, 4, \\'R\\')]}\\n',\n",
       "  '### Output:\\n{\"argument_types\": [\\'V\\', \\'V\\', \\'V\\', \\'F\\', \\'V\\', \\'V\\', \\'F\\', \\'V\\', \\'V\\', \\'V\\', \\'V\\', \\'P\\', \\'V\\', \\'P\\', \\'P\\']}\\n{\"relation_types\": [(1, 2, \\'R\\'), (2, 13, \\'R\\'), (2, 3, \\'R\\'), (2, 4, \\'R\\'), (2, 6, \\'R\\'), (2, 9, \\'R\\'), (2, 10, \\'R\\'), (5, 4, \\'R\\'), (9, 8, \\'R\\'), (11, 10, \\'R\\'), (14, 13, \\'R\\')]}\\n',\n",
       "  '### Output:\\n{\"argument_types\": [\\'F\\', \\'V\\', \\'V\\', \\'V\\']}\\n{\"relation_types\": [(3, 2, \\'R\\'), (4, 3, \\'R\\')]}\\n',\n",
       "  '### Output:\\n{\"argument_types\": [\\'T\\', \\'T\\', \\'T\\', \\'T\\', \\'T\\', \\'T\\', \\'T\\', \\'V\\', \\'V\\', \\'V\\', \\'V\\', \\'P\\']}\\n{\"relation_types\": [(3, 4, \\'R\\'), (12, 11, \\'R\\')]}\\n',\n",
       "  '### Output:\\n{\"argument_types\": [\\'F\\', \\'F\\', \\'F\\', \\'F\\', \\'V\\', \\'V\\', \\'F\\', \\'F\\', \\'F\\']}\\n{\"relation_types\": []}\\n',\n",
       "  '### Output:\\n{\"argument_types\": [\\'F\\', \\'V\\']}\\n{\"relation_types\": []}\\n',\n",
       "  '### Output:\\n{\"argument_types\": [\\'V\\', \\'T\\', \\'P\\', \\'P\\', \\'T\\', \\'T\\', \\'T\\', \\'T\\', \\'F\\', \\'V\\', \\'V\\', \\'V\\', \\'V\\', \\'T\\']}\\n{\"relation_types\": [(3, 4, \\'R\\'), (13, 14, \\'R\\')]}\\n',\n",
       "  '### Output:\\n{\"argument_types\": [\\'V\\', \\'V\\', \\'V\\', \\'V\\', \\'V\\', \\'F\\', \\'F\\', \\'V\\', \\'P\\', \\'V\\', \\'V\\', \\'F\\', \\'F\\', \\'V\\', \\'V\\', \\'V\\', \\'V\\', \\'P\\', \\'P\\', \\'V\\', \\'V\\', \\'V\\', \\'V\\']}\\n{\"relation_types\": [(3, 4, \\'R\\'), (5, 3, \\'R\\'), (5, 4, \\'R\\'), (6, 7, \\'R\\'), (9, 10, \\'R\\'), (11, 12, \\'R\\'), (11, 13, \\'R\\')]}\\n',\n",
       "  '### Output:\\n{\"argument_types\": [\\'T\\', \\'F\\', \\'V\\', \\'V\\', \\'T\\', \\'P\\']}\\n{\"relation_types\": [(3, 2, \\'R\\')]}\\n',\n",
       "  '### Output:\\n{\"argument_types\": [\\'T\\', \\'T\\', \\'T\\', \\'V\\', \\'P\\', \\'T\\']}\\n{\"relation_types\": [(5, 3, \\'R\\')]}\\n',\n",
       "  '### Output:\\n{\"argument_types\": [\\'V\\', \\'V\\', \\'V\\', \\'T\\', \\'T\\', \\'P\\', \\'V\\']}\\n{\"relation_types\": [(1, 3, \\'R\\'), (6, 4, \\'R\\'), (6, 5, \\'R\\')]}\\n',\n",
       "  '### Output:\\n{\"argument_types\": [\\'P\\', \\'T\\', \\'T\\', \\'T\\', \\'T\\', \\'T\\', \\'T\\', \\'T\\', \\'T\\', \\'T\\', \\'V\\']}\\n{\"relation_types\": [(1, 2, \\'R\\'), (1, 3, \\'R\\'), (1, 4, \\'R\\'), (1, 5, \\'R\\'), (1, 6, \\'R\\'), (1, 7, \\'R\\'), (1, 8, \\'R\\'), (1, 9, \\'R\\'), (1, 10, \\'R\\'), (1, 11, \\'R\\')]}\\n',\n",
       "  '### Output:\\n{\"argument_types\": [\\'F\\', \\'F\\', \\'F\\', \\'F\\', \\'P\\', \\'V\\', \\'T\\', \\'V\\', \\'V\\', \\'T\\', \\'V\\', \\'V\\']}\\n{\"relation_types\": [(1, 2, \\'R\\')]}\\n',\n",
       "  '### Output:\\n{\"argument_types\": [\\'T\\', \\'T\\', \\'T\\', \\'T\\', \\'T\\', \\'T\\', \\'V\\', \\'V\\']}\\n{\"relation_types\": [(5, 4, \\'R\\')]}\\n',\n",
       "  '### Output:\\n{\"argument_types\": [\\'F\\', \\'F\\', \\'V\\', \\'V\\', \\'V\\', \\'P\\', \\'V\\']}\\n{\"relation_types\": [(3, 2, \\'R\\'), (6, 5, \\'R\\'), (6, 7, \\'R\\')]}\\n',\n",
       "  '### Output:\\n{\"argument_types\": [\\'T\\', \\'T\\', \\'T\\', \\'V\\', \\'V\\']}\\n{\"relation_types\": [(4, 5, \\'R\\'), (5, 1, \\'R\\'), (5, 2, \\'R\\')]}\\n',\n",
       "  '### Output:\\n{\"argument_types\": [\\'P\\', \\'P\\', \\'V\\', \\'V\\', \\'V\\', \\'V\\', \\'P\\', \\'V\\', \\'V\\']}\\n{\"relation_types\": [(4, 5, \\'R\\'), (4, 6, \\'R\\'), (7, 8, \\'R\\'), (8, 9, \\'R\\')]}\\n',\n",
       "  '### Output:\\n{\"argument_types\": [\\'T\\', \\'T\\', \\'V\\', \\'V\\', \\'V\\', \\'V\\', \\'F\\', \\'V\\', \\'P\\', \\'F\\', \\'F\\', \\'V\\', \\'F\\', \\'F\\', \\'P\\', \\'P\\', \\'F\\', \\'P\\', \\'P\\', \\'P\\', \\'P\\', \\'P\\', \\'V\\', \\'V\\', \\'V\\', \\'F\\', \\'V\\', \\'P\\']}\\n{\"relation_types\": [(2, 1, \\'R\\'), (5, 4, \\'R\\'), (6, 7, \\'R\\'), (6, 8, \\'R\\'), (11, 10, \\'R\\'), (12, 13, \\'R\\'), (20, 21, \\'R\\'), (22, 23, \\'R\\')]}\\n',\n",
       "  '### Output:\\n{\"argument_types\": [\\'T\\', \\'T\\', \\'T\\', \\'T\\']}\\n{\"relation_types\": [(2, 3, \\'R\\')]}\\n',\n",
       "  '### Output:\\n{\"argument_types\": [\\'V\\', \\'V\\', \\'V\\', \\'F\\', \\'F\\', \\'V\\', \\'P\\', \\'V\\', \\'V\\']}\\n{\"relation_types\": [(1, 2, \\'R\\'), (2, 3, \\'R\\')]}\\n',\n",
       "  '### Output:\\n{\"argument_types\": [\\'V\\', \\'P\\', \\'V\\', \\'T\\', \\'V\\']}\\n{\"relation_types\": [(4, 5, \\'R\\')]}\\n',\n",
       "  '### Output:\\n{\"argument_types\": [\\'V\\', \\'P\\', \\'V\\', \\'P\\', \\'P\\', \\'V\\']}\\n{\"relation_types\": [(2, 1, \\'R\\'), (5, 6, \\'R\\')]}\\n',\n",
       "  '### Output:\\n{\"argument_types\": [\\'V\\', \\'V\\', \\'F\\', \\'V\\']}\\n{\"relation_types\": []}\\n',\n",
       "  '### Output:\\n{\"argument_types\": [\\'F\\', \\'F\\', \\'V\\']}\\n{\"relation_types\": [(2, 3, \\'R\\')]}\\n',\n",
       "  '### Output:\\n{\"argument_types\": [\\'V\\', \\'V\\']}\\n{\"relation_types\": [(1, 2, \\'R\\')]}\\n',\n",
       "  '### Output:\\n{\"argument_types\": [\\'V\\', \\'F\\', \\'V\\']}\\n{\"relation_types\": [(3, 2, \\'R\\')]}\\n',\n",
       "  '### Output:\\n{\"argument_types\": [\\'P\\', \\'V\\', \\'T\\', \\'T\\', \\'V\\', \\'V\\', \\'V\\', \\'V\\', \\'F\\', \\'V\\', \\'V\\', \\'P\\']}\\n{\"relation_types\": []}\\n',\n",
       "  '### Output:\\n{\"argument_types\": [\\'V\\', \\'P\\', \\'V\\', \\'P\\']}\\n{\"relation_types\": [(2, 1, \\'R\\'), (4, 3, \\'R\\')]}\\n',\n",
       "  '### Output:\\n{\"argument_types\": [\\'T\\', \\'T\\', \\'T\\', \\'T\\', \\'T\\', \\'T\\', \\'V\\', \\'T\\']}\\n{\"relation_types\": [(5, 6, \\'R\\'), (7, 1, \\'R\\'), (7, 2, \\'R\\'), (7, 3, \\'R\\'), (7, 4, \\'R\\'), (7, 5, \\'R\\')]}\\n',\n",
       "  '### Output:\\n{\"argument_types\": [\\'P\\', \\'V\\', \\'V\\', \\'V\\', \\'V\\', \\'V\\', \\'P\\', \\'V\\', \\'V\\']}\\n{\"relation_types\": []}\\n',\n",
       "  '### Output:\\n{\"argument_types\": [\\'V\\', \\'V\\', \\'V\\', \\'V\\', \\'V\\', \\'V\\', \\'P\\', \\'V\\']}\\n{\"relation_types\": [(7, 6, \\'R\\')]}\\n',\n",
       "  '### Output:\\n{\"argument_types\": [\\'P\\', \\'V\\', \\'V\\', \\'T\\', \\'V\\', \\'P\\', \\'V\\']}\\n{\"relation_types\": [(1, 2, \\'R\\'), (1, 3, \\'R\\'), (4, 5, \\'R\\')]}\\n',\n",
       "  '### Output:\\n{\"argument_types\": [\\'P\\', \\'P\\']}\\n{\"relation_types\": []}\\n',\n",
       "  '### Output:\\n{\"argument_types\": [\\'F\\', \\'T\\', \\'T\\', \\'T\\', \\'V\\']}\\n{\"relation_types\": [(1, 2, \\'E\\'), (1, 3, \\'E\\'), (1, 4, \\'E\\'), (1, 5, \\'E\\'), (4, 5, \\'R\\')]}\\n',\n",
       "  '### Output:\\n{\"argument_types\": [\\'V\\', \\'F\\']}\\n{\"relation_types\": [(1, 2, \\'R\\')]}\\n',\n",
       "  '### Output:\\n{\"argument_types\": [\\'F\\', \\'V\\', \\'V\\']}\\n{\"relation_types\": [(2, 1, \\'R\\'), (3, 2, \\'R\\')]}\\n',\n",
       "  '### Output:\\n{\"argument_types\": [\\'P\\', \\'P\\']}\\n{\"relation_types\": []}\\n',\n",
       "  '### Output:\\n{\"argument_types\": [\\'P\\', \\'V\\', \\'P\\', \\'V\\', \\'P\\', \\'V\\']}\\n{\"relation_types\": [(1, 4, \\'R\\'), (1, 6, \\'R\\'), (3, 4, \\'R\\'), (5, 6, \\'R\\')]}\\n',\n",
       "  '### Output:\\n{\"argument_types\": [\\'F\\', \\'V\\', \\'V\\', \\'V\\', \\'T\\', \\'F\\', \\'V\\', \\'V\\', \\'V\\', \\'V\\']}\\n{\"relation_types\": [(6, 5, \\'E\\'), (2, 1, \\'R\\')]}\\n',\n",
       "  '### Output:\\n{\"argument_types\": [\\'V\\', \\'V\\', \\'V\\', \\'V\\', \\'T\\', \\'T\\', \\'T\\', \\'V\\', \\'P\\']}\\n{\"relation_types\": [(2, 4, \\'R\\'), (3, 2, \\'R\\'), (4, 5, \\'R\\'), (4, 6, \\'R\\'), (4, 7, \\'R\\'), (4, 8, \\'R\\'), (9, 4, \\'R\\')]}\\n',\n",
       "  '### Output:\\n{\"argument_types\": [\\'V\\', \\'V\\', \\'V\\', \\'V\\']}\\n{\"relation_types\": []}\\n',\n",
       "  '### Output:\\n{\"argument_types\": [\\'V\\', \\'V\\']}\\n{\"relation_types\": []}\\n',\n",
       "  '### Output:\\n{\"argument_types\": [\\'V\\', \\'V\\', \\'V\\', \\'P\\', \\'V\\']}\\n{\"relation_types\": [(1, 2, \\'R\\'), (4, 5, \\'R\\')]}\\n',\n",
       "  '### Output:\\n{\"argument_types\": [\\'V\\', \\'V\\', \\'V\\', \\'F\\']}\\n{\"relation_types\": []}\\n',\n",
       "  '### Output:\\n{\"argument_types\": [\\'F\\', \\'V\\', \\'V\\', \\'F\\', \\'T\\', \\'T\\', \\'T\\', \\'T\\', \\'T\\', \\'V\\', \\'V\\', \\'V\\', \\'V\\', \\'V\\', \\'V\\']}\\n{\"relation_types\": [(4, 5, \\'E\\'), (4, 6, \\'E\\'), (4, 7, \\'E\\'), (4, 8, \\'E\\'), (4, 9, \\'E\\'), (2, 1, \\'R\\'), (9, 8, \\'R\\')]}\\n',\n",
       "  '### Output:\\n{\"argument_types\": [\\'V\\', \\'V\\', \\'P\\', \\'V\\']}\\n{\"relation_types\": []}\\n',\n",
       "  '### Output:\\n{\"argument_types\": [\\'T\\', \\'T\\', \\'V\\', \\'V\\', \\'V\\']}\\n{\"relation_types\": []}\\n',\n",
       "  '### Output:\\n{\"argument_types\": [\\'V\\', \\'V\\', \\'T\\', \\'T\\']}\\n{\"relation_types\": [(2, 3, \\'R\\')]}\\n',\n",
       "  '### Output:\\n{\"argument_types\": [\\'T\\', \\'V\\', \\'F\\', \\'V\\', \\'V\\', \\'V\\', \\'V\\', \\'V\\', \\'F\\', \\'P\\']}\\n{\"relation_types\": [(5, 4, \\'R\\'), (7, 8, \\'R\\')]}\\n',\n",
       "  '### Output:\\n{\"argument_types\": [\\'T\\', \\'T\\', \\'F\\']}\\n{\"relation_types\": []}\\n',\n",
       "  '### Output:\\n{\"argument_types\": [\\'F\\', \\'V\\']}\\n{\"relation_types\": [(2, 1, \\'R\\')]}\\n',\n",
       "  '### Output:\\n{\"argument_types\": [\\'V\\', \\'T\\']}\\n{\"relation_types\": []}\\n',\n",
       "  '### Output:\\n{\"argument_types\": [\\'P\\', \\'P\\']}\\n{\"relation_types\": []}\\n',\n",
       "  '### Output:\\n{\"argument_types\": [\\'V\\', \\'F\\', \\'T\\', \\'P\\', \\'V\\', \\'V\\']}\\n{\"relation_types\": [(1, 2, \\'R\\'), (4, 2, \\'R\\'), (4, 3, \\'R\\'), (4, 5, \\'R\\'), (6, 2, \\'R\\'), (6, 3, \\'R\\')]}\\n',\n",
       "  '### Output:\\n{\"argument_types\": [\\'F\\', \\'V\\']}\\n{\"relation_types\": []}\\n',\n",
       "  '### Output:\\n{\"argument_types\": [\\'F\\', \\'V\\', \\'F\\', \\'P\\', \\'V\\', \\'V\\', \\'V\\', \\'F\\']}\\n{\"relation_types\": []}\\n',\n",
       "  '### Output:\\n{\"argument_types\": [\\'P\\', \\'T\\', \\'T\\', \\'T\\', \\'V\\', \\'P\\', \\'P\\', \\'P\\']}\\n{\"relation_types\": [(6, 5, \\'R\\')]}\\n',\n",
       "  '### Output:\\n{\"argument_types\": [\\'V\\', \\'V\\', \\'F\\', \\'V\\', \\'V\\']}\\n{\"relation_types\": []}\\n',\n",
       "  '### Output:\\n{\"argument_types\": [\\'T\\', \\'T\\', \\'T\\', \\'T\\', \\'T\\']}\\n{\"relation_types\": []}\\n',\n",
       "  '### Output:\\n{\"argument_types\": [\\'V\\', \\'F\\', \\'F\\', \\'V\\']}\\n{\"relation_types\": [(3, 2, \\'R\\')]}\\n',\n",
       "  '### Output:\\n{\"argument_types\": [\\'V\\', \\'P\\', \\'P\\', \\'P\\', \\'V\\', \\'V\\']}\\n{\"relation_types\": [(5, 6, \\'R\\')]}\\n',\n",
       "  '### Output:\\n{\"argument_types\": [\\'P\\', \\'V\\']}\\n{\"relation_types\": []}\\n',\n",
       "  '### Output:\\n{\"argument_types\": [\\'T\\', \\'F\\', \\'T\\', \\'F\\', \\'T\\', \\'T\\', \\'P\\', \\'F\\', \\'T\\', \\'T\\', \\'T\\', \\'T\\', \\'T\\', \\'P\\']}\\n{\"relation_types\": [(3, 4, \\'R\\'), (6, 5, \\'R\\'), (7, 8, \\'R\\')]}\\n',\n",
       "  '### Output:\\n{\"argument_types\": [\\'P\\', \\'P\\', \\'P\\', \\'V\\']}\\n{\"relation_types\": [(3, 4, \\'R\\')]}\\n',\n",
       "  '### Output:\\n{\"argument_types\": [\\'V\\', \\'F\\', \\'V\\', \\'T\\', \\'P\\', \\'V\\']}\\n{\"relation_types\": [(5, 6, \\'R\\')]}\\n',\n",
       "  '### Output:\\n{\"argument_types\": [\\'V\\', \\'P\\', \\'V\\', \\'V\\', \\'V\\', \\'P\\', \\'V\\']}\\n{\"relation_types\": [(2, 1, \\'R\\'), (4, 5, \\'R\\'), (4, 7, \\'R\\'), (6, 5, \\'R\\'), (6, 7, \\'R\\')]}\\n',\n",
       "  '### Output:\\n{\"argument_types\": [\\'P\\', \\'V\\', \\'V\\']}\\n{\"relation_types\": [(1, 2, \\'R\\')]}\\n',\n",
       "  '### Output:\\n{\"argument_types\": [\\'F\\', \\'V\\', \\'V\\', \\'F\\', \\'F\\', \\'V\\', \\'P\\']}\\n{\"relation_types\": []}\\n',\n",
       "  '### Output:\\n{\"argument_types\": [\\'V\\', \\'V\\', \\'F\\', \\'F\\', \\'V\\', \\'V\\', \\'T\\', \\'T\\', \\'T\\', \\'V\\', \\'V\\', \\'F\\', \\'T\\', \\'V\\', \\'V\\', \\'V\\', \\'V\\', \\'V\\', \\'V\\', \\'V\\', \\'V\\', \\'V\\', \\'V\\']}\\n{\"relation_types\": [(17, 18, \\'R\\'), (20, 22, \\'R\\')]}\\n',\n",
       "  '### Output:\\n{\"argument_types\": [\\'V\\', \\'P\\', \\'V\\', \\'V\\', \\'V\\', \\'V\\', \\'V\\', \\'V\\', \\'V\\', \\'F\\', \\'V\\', \\'P\\', \\'V\\']}\\n{\"relation_types\": [(5, 4, \\'R\\'), (8, 9, \\'R\\')]}\\n',\n",
       "  '### Output:\\n{\"argument_types\": [\\'V\\', \\'V\\']}\\n{\"relation_types\": [(1, 2, \\'R\\')]}\\n',\n",
       "  '### Output:\\n{\"argument_types\": [\\'V\\', \\'V\\', \\'V\\', \\'V\\', \\'V\\', \\'V\\', \\'V\\', \\'V\\', \\'V\\', \\'V\\', \\'V\\', \\'V\\', \\'V\\', \\'T\\', \\'P\\']}\\n{\"relation_types\": [(1, 4, \\'R\\'), (4, 5, \\'R\\'), (6, 5, \\'R\\'), (7, 4, \\'R\\'), (8, 9, \\'R\\'), (10, 11, \\'R\\'), (12, 13, \\'R\\'), (14, 13, \\'R\\')]}\\n',\n",
       "  '### Output:\\n{\"argument_types\": [\\'R\\', \\'V\\', \\'V\\']}\\n{\"relation_types\": []}\\n'],\n",
       " 'predictions': ['### Output:\\n{\"argument_types\": [\\'F\\', \\'F\\', \\'P\\']}\\n{\"relation_types\": [(3, 1, \\'R\\'), (3, 2, \\'R\\')]}\\n',\n",
       "  '### Output:\\n{\"argument_types\": [\\'V\\', \\'P\\', \\'P\\', \\'P\\', \\'V\\']}\\n{\"relation_types\": [(2, 1, \\'R\\'), (3, 1, \\'R\\'), (4, 1, \\'R\\'), (5, 1, \\'R\\')]}\\n',\n",
       "  '### Output:\\n{\"argument_types\": [\\'P\\', \\'P\\']}\\n{\"relation_types\": []}\\n',\n",
       "  '### Output:\\n{\"argument_types\": [\\'V\\', \\'V\\']}\\n{\"relation_types\": []}\\n',\n",
       "  '### Output:\\n{\"argument_types\": [\\'V\\', \\'V\\', \\'F\\', \\'T\\', \\'V\\']}\\n{\"relation_types\": [(1, 3, \\'R\\'), (2, 1, \\'R\\'), (3, 4, \\'R\\')]}\\n',\n",
       "  '### Output:\\n{\"argument_types\": [\\'T\\', \\'T\\', \\'T\\', \\'V\\', \\'V\\', \\'P\\']}\\n{\"relation_types\": []}\\n',\n",
       "  '### Output:\\n{\"argument_types\": [\\'T\\', \\'T\\', \\'T\\', \\'T\\', \\'T\\']}\\n{\"relation_types\": []}\\n',\n",
       "  '### Output:\\n{\"argument_types\": [\\'V\\', \\'F\\', \\'P\\', \\'V\\', \\'P\\', \\'P\\']}\\n{\"relation_types\": [(3, 1, \\'R\\'), (3, 2, \\'R\\'), (5, 4, \\'R\\'), (6, 5, \\'R\\')]}\\n',\n",
       "  '### Output:\\n{\"argument_types\": [\\'T\\', \\'V\\', \\'V\\', \\'P\\', \\'F\\', \\'V\\', \\'F\\', \\'F\\', \\'F\\', \\'V\\']}\\n{\"relation_types\": [(4, 5, \\'R\\'), (6, 8, \\'R\\'), (6, 9, \\'R\\'), (10, 8, \\'R\\'), (10, 9, \\'R\\')]}\\n',\n",
       "  '### Output:\\n{\"argument_types\": [\\'V\\', \\'F\\', \\'V\\', \\'V\\']}\\n{\"relation_types\": [(1, 2, \\'R\\'), (1, 4, \\'R\\'), (4, 3, \\'R\\')]}\\n',\n",
       "  '### Output:\\n{\"argument_types\": [\\'T\\', \\'V\\', \\'T\\', \\'T\\', \\'T\\', \\'P\\', \\'V\\', \\'V\\']}\\n{\"relation_types\": [(6, 7, \\'R\\'), (6, 8, \\'R\\')]}\\n',\n",
       "  '### Output:\\n{\"argument_types\": [\\'F\\', \\'V\\', \\'P\\', \\'V\\', \\'P\\', \\'P\\']}\\n{\"relation_types\": [(3, 4, \\'R\\'), (5, 3, \\'R\\'), (5, 6, \\'R\\')]}\\n',\n",
       "  '### Output:\\n{\"argument_types\": [\\'V\\', \\'V\\', \\'F\\', \\'V\\', \\'T\\', \\'P\\']}\\n{\"relation_types\": [(1, 2, \\'R\\'), (6, 3, \\'R\\'), (6, 5, \\'R\\')]}\\n',\n",
       "  '### Output:\\n{\"argument_types\": [\\'T\\', \\'T\\', \\'F\\', \\'V\\']}\\n{\"relation_types\": []}\\n',\n",
       "  '### Output:\\n{\"argument_types\": [\\'V\\', \\'V\\', \\'V\\', \\'V\\']}\\n{\"relation_types\": [(2, 3, \\'R\\'), (2, 4, \\'R\\')]}\\n',\n",
       "  '### Output:\\n{\"argument_types\": [\\'V\\', \\'V\\', \\'V\\', \\'V\\']}\\n{\"relation_types\": [(1, 2, \\'R\\')]}\\n',\n",
       "  '### Output:\\n{\"argument_types\": [\\'P\\', \\'F\\', \\'F\\', \\'F\\']}\\n{\"relation_types\": [(1, 2, \\'R\\')]}\\n',\n",
       "  '### Output:\\n{\"argument_types\": [\\'V\\', \\'T\\', \\'T\\', \\'T\\']}\\n{\"relation_types\": []}\\n',\n",
       "  '### Output:\\n{\"argument_types\": [\\'T\\', \\'V\\', \\'V\\', \\'V\\']}\\n{\"relation_types\": []}\\n',\n",
       "  '### Output:\\n{\"argument_types\": [\\'V\\', \\'P\\']}\\n{\"relation_types\": []}\\n',\n",
       "  '### Output:\\n{\"argument_types\": [\\'V\\', \\'V\\', \\'V\\', \\'V\\', \\'P\\', \\'V\\']}\\n{\"relation_types\": []}\\n',\n",
       "  '### Output:\\n{\"argument_types\": [\\'T\\', \\'V\\', \\'F\\', \\'F\\', \\'P\\', \\'V\\', \\'P\\', \\'V\\', \\'V\\']}\\n{\"relation_types\": [(8, 9, \\'R\\')]}\\n',\n",
       "  '### Output:\\n{\"argument_types\": [\\'V\\', \\'T\\', \\'V\\', \\'V\\', \\'V\\', \\'V\\']}\\n{\"relation_types\": [(1, 2, \\'R\\'), (4, 3, \\'R\\'), (4, 5, \\'R\\'), (4, 6, \\'R\\')]}\\n',\n",
       "  '### Output:\\n{\"argument_types\": [\\'T\\', \\'T\\']}\\n{\"relation_types\": []}\\n',\n",
       "  '### Output:\\n{\"argument_types\": [\\'F\\', \\'V\\']}\\n{\"relation_types\": []}\\n',\n",
       "  '### Output:\\n{\"argument_types\": [\\'V\\', \\'V\\', \\'V\\', \\'T\\', \\'T\\', \\'V\\', \\'V\\', \\'T\\', \\'T\\', \\'T\\', \\'T\\', \\'V\\', \\'T\\', \\'T\\', \\'T\\', \\'T\\', \\'T\\', \\'T\\', \\'T\\', \\'T\\', \\'T\\', \\'T\\', \\'T\\', \\'T\\', \\'V\\', \\'P\\', \\'V\\']}\\n{\"relation_types\": [(14, 13, \\'R\\'), (26, 25, \\'R\\')]}\\n',\n",
       "  '### Output:\\n{\"argument_types\": [\\'T\\', \\'T\\', \\'V\\', \\'F\\', \\'F\\', \\'P\\']}\\n{\"relation_types\": [(3, 4, \\'R\\'), (6, 5, \\'R\\'), (6, 3, \\'R\\')]}\\n',\n",
       "  '### Output:\\n{\"argument_types\": [\\'P\\', \\'P\\', \\'P\\']}\\n{\"relation_types\": []}\\n',\n",
       "  '### Output:\\n{\"argument_types\": [\\'T\\', \\'T\\', \\'V\\', \\'V\\', \\'P\\', \\'P\\', \\'V\\']}\\n{\"relation_types\": [(5, 1, \\'R\\'), (5, 2, \\'R\\'), (5, 4, \\'R\\')]}\\n',\n",
       "  '### Output:\\n{\"argument_types\": [\\'V\\', \\'F\\', \\'V\\']}\\n{\"relation_types\": []}\\n',\n",
       "  '### Output:\\n{\"argument_types\": [\\'V\\', \\'F\\', \\'P\\', \\'P\\', \\'P\\', \\'T\\']}\\n{\"relation_types\": [(5, 6, \\'R\\')]}\\n',\n",
       "  '### Output:\\n{\"argument_types\": [\\'V\\', \\'V\\', \\'V\\', \\'V\\', \\'V\\']}\\n{\"relation_types\": []}\\n',\n",
       "  '### Output:\\n{\"argument_types\": [\\'T\\', \\'T\\', \\'T\\', \\'T\\', \\'T\\', \\'T\\', \\'V\\', \\'T\\', \\'T\\', \\'T\\', \\'T\\', \\'T\\', \\'V\\', \\'T\\', \\'V\\']}\\n{\"relation_types\": [(7, 6, \\'R\\')]}\\n',\n",
       "  '### Output:\\n{\"argument_types\": [\\'T\\', \\'V\\']}\\n{\"relation_types\": []}\\n',\n",
       "  '### Output:\\n{\"argument_types\": [\\'V\\', \\'V\\', \\'P\\']}\\n{\"relation_types\": []}\\n',\n",
       "  '### Output:\\n{\"argument_types\": [\\'P\\', \\'V\\']}\\n{\"relation_types\": []}\\n',\n",
       "  '### Output:\\n{\"argument_types\": [\\'V\\', \\'P\\', \\'V\\']}\\n{\"relation_types\": []}\\n',\n",
       "  '### Output:\\n{\"argument_types\": [\\'V\\', \\'T\\', \\'T\\', \\'V\\', \\'V\\', \\'V\\']}\\n{\"relation_types\": [(4, 5, \\'R\\'), (6, 5, \\'R\\')]}\\n',\n",
       "  '### Output:\\n{\"argument_types\": [\\'P\\', \\'V\\', \\'V\\', \\'T\\', \\'V\\', \\'P\\']}\\n{\"relation_types\": [(1, 3, \\'R\\'), (2, 1, \\'R\\'), (6, 5, \\'R\\')]}\\n',\n",
       "  '### Output:\\n{\"argument_types\": [\\'P\\', \\'F\\']}\\n{\"relation_types\": [(1, 2, \\'R\\')]}\\n',\n",
       "  '### Output:\\n{\"argument_types\": [\\'F\\', \\'V\\', \\'T\\', \\'T\\', \\'V\\']}\\n{\"relation_types\": [(2, 1, \\'R\\')]}\\n',\n",
       "  '### Output:\\n{\"argument_types\": [\\'T\\', \\'T\\', \\'T\\', \\'T\\', \\'T\\', \\'V\\', \\'V\\', \\'V\\', \\'V\\', \\'V\\']}\\n{\"relation_types\": [(8, 6, \\'R\\'), (8, 7, \\'R\\'), (9, 6, \\'R\\'), (9, 7, \\'R\\')]}\\n',\n",
       "  '### Output:\\n{\"argument_types\": [\\'P\\', \\'F\\', \\'P\\']}\\n{\"relation_types\": [(1, 2, \\'R\\')]}\\n',\n",
       "  '### Output:\\n{\"argument_types\": [\\'V\\', \\'T\\', \\'T\\', \\'T\\', \\'T\\', \\'T\\', \\'T\\', \\'T\\']}\\n{\"relation_types\": [(3, 2, \\'R\\')]}\\n',\n",
       "  '### Output:\\n{\"argument_types\": [\\'V\\', \\'V\\', \\'F\\', \\'T\\', \\'F\\', \\'V\\', \\'V\\']}\\n{\"relation_types\": [(7, 6, \\'R\\')]}\\n',\n",
       "  '### Output:\\n{\"argument_types\": [\\'V\\', \\'V\\', \\'P\\', \\'V\\', \\'V\\']}\\n{\"relation_types\": [(4, 5, \\'R\\')]}\\n',\n",
       "  '### Output:\\n{\"argument_types\": [\\'P\\', \\'V\\', \\'V\\', \\'V\\']}\\n{\"relation_types\": [(1, 2, \\'R\\')]}\\n',\n",
       "  '### Output:\\n{\"argument_types\": [\\'T\\', \\'T\\', \\'T\\', \\'V\\', \\'T\\', \\'T\\', \\'V\\', \\'V\\']}\\n{\"relation_types\": [(7, 6, \\'R\\')]}\\n',\n",
       "  '### Output:\\n{\"argument_types\": [\\'F\\', \\'F\\', \\'F\\', \\'V\\', \\'P\\', \\'V\\', \\'V\\', \\'V\\', \\'V\\']}\\n{\"relation_types\": [(8, 9, \\'R\\')]}\\n',\n",
       "  '### Output:\\n{\"argument_types\": [\\'V\\', \\'V\\', \\'F\\']}\\n{\"relation_types\": []}\\n',\n",
       "  '### Output:\\n{\"argument_types\": [\\'V\\', \\'F\\', \\'V\\', \\'V\\', \\'V\\', \\'V\\', \\'V\\']}\\n{\"relation_types\": [(1, 2, \\'R\\'), (1, 3, \\'R\\'), (1, 4, \\'R\\'), (1, 5, \\'R\\'), (1, 6, \\'R\\'), (1, 7, \\'R\\')]}\\n',\n",
       "  '### Output:\\n{\"argument_types\": [\\'P\\', \\'V\\', \\'V\\', \\'P\\', \\'V\\', \\'P\\', \\'V\\', \\'V\\', \\'V\\', \\'V\\', \\'P\\', \\'V\\', \\'V\\', \\'P\\']}\\n{\"relation_types\": [(1, 2, \\'R\\'), (4, 5, \\'R\\'), (6, 5, \\'R\\'), (11, 10, \\'R\\'), (12, 13, \\'R\\'), (14, 12, \\'R\\')]}\\n',\n",
       "  '### Output:\\n{\"argument_types\": [\\'T\\', \\'T\\', \\'T\\', \\'T\\', \\'V\\', \\'V\\', \\'V\\', \\'T\\', \\'V\\', \\'V\\', \\'V\\']}\\n{\"relation_types\": [(6, 7, \\'R\\'), (7, 8, \\'R\\'), (11, 10, \\'R\\')]}\\n',\n",
       "  '### Output:\\n{\"argument_types\": [\\'V\\', \\'F\\', \\'T\\', \\'F\\', \\'V\\']}\\n{\"relation_types\": [(1, 2, \\'R\\')]}\\n',\n",
       "  '### Output:\\n{\"argument_types\": [\\'P\\', \\'P\\', \\'T\\', \\'F\\', \\'F\\', \\'F\\', \\'V\\']}\\n{\"relation_types\": [(1, 2, \\'R\\'), (2, 3, \\'R\\'), (2, 4, \\'R\\'), (2, 5, \\'R\\'), (7, 6, \\'R\\')]}\\n',\n",
       "  '### Output:\\n{\"argument_types\": [\\'T\\', \\'T\\', \\'T\\', \\'V\\', \\'T\\', \\'T\\', \\'T\\', \\'V\\', \\'T\\', \\'V\\', \\'V\\', \\'V\\', \\'V\\', \\'V\\']}\\n{\"relation_types\": [(2, 3, \\'R\\'), (12, 11, \\'R\\'), (14, 13, \\'R\\')]}\\n',\n",
       "  '### Output:\\n{\"argument_types\": [\\'V\\', \\'V\\']}\\n{\"relation_types\": []}\\n',\n",
       "  '### Output:\\n{\"argument_types\": [\\'P\\', \\'P\\', \\'V\\', \\'V\\']}\\n{\"relation_types\": [(2, 3, \\'R\\'), (2, 4, \\'R\\')]}\\n',\n",
       "  '### Output:\\n{\"argument_types\": [\\'P\\', \\'F\\', \\'P\\', \\'V\\']}\\n{\"relation_types\": []}\\n',\n",
       "  '### Output:\\n{\"argument_types\": [\\'V\\', \\'T\\', \\'T\\', \\'T\\']}\\n{\"relation_types\": [(1, 2, \\'R\\'), (1, 3, \\'R\\'), (1, 4, \\'R\\')]}\\n',\n",
       "  '### Output:\\n{\"argument_types\": [\\'P\\', \\'V\\', \\'V\\', \\'V\\', \\'F\\', \\'V\\', \\'V\\', \\'V\\', \\'V\\', \\'V\\', \\'P\\', \\'P\\', \\'V\\', \\'V\\', \\'P\\']}\\n{\"relation_types\": [(1, 3, \\'R\\'), (1, 4, \\'R\\'), (1, 5, \\'R\\'), (1, 6, \\'R\\'), (1, 7, \\'R\\'), (11, 13, \\'R\\'), (11, 14, \\'R\\'), (12, 13, \\'R\\'), (12, 14, \\'R\\'), (15, 13, \\'R\\'), (15, 14, \\'R\\')]}\\n',\n",
       "  '### Output:\\n{\"argument_types\": [\\'T\\', \\'T\\', \\'V\\', \\'F\\', \\'T\\', \\'V\\', \\'F\\', \\'T\\']}\\n{\"relation_types\": []}\\n',\n",
       "  '### Output:\\n{\"argument_types\": [\\'T\\', \\'T\\', \\'T\\', \\'T\\', \\'T\\', \\'T\\', \\'T\\', \\'V\\', \\'V\\', \\'T\\', \\'V\\', \\'V\\', \\'T\\', \\'T\\', \\'T\\', \\'T\\', \\'T\\', \\'T\\', \\'T\\', \\'T\\', \\'V\\']}\\n{\"relation_types\": [(8, 7, \\'R\\'), (14, 13, \\'R\\'), (15, 16, \\'R\\')]}\\n',\n",
       "  '### Output:\\n{\"argument_types\": [\\'T\\', \\'T\\', \\'T\\', \\'T\\', \\'T\\', \\'T\\']}\\n{\"relation_types\": []}\\n',\n",
       "  '### Output:\\n{\"argument_types\": [\\'P\\', \\'V\\', \\'V\\', \\'V\\', \\'V\\', \\'V\\', \\'P\\', \\'V\\']}\\n{\"relation_types\": [(1, 2, \\'R\\'), (1, 3, \\'R\\'), (1, 4, \\'R\\'), (1, 5, \\'R\\'), (6, 5, \\'R\\')]}\\n',\n",
       "  '### Output:\\n{\"argument_types\": [\\'F\\', \\'F\\', \\'T\\']}\\n{\"relation_types\": []}\\n',\n",
       "  '### Output:\\n{\"argument_types\": [\\'P\\', \\'F\\', \\'F\\', \\'V\\', \\'V\\', \\'V\\']}\\n{\"relation_types\": [(1, 3, \\'R\\'), (3, 4, \\'R\\'), (1, 5, \\'R\\'), (5, 6, \\'R\\')]}\\n',\n",
       "  '### Output:\\n{\"argument_types\": [\\'F\\', \\'F\\', \\'F\\', \\'F\\', \\'P\\', \\'P\\', \\'P\\']}\\n{\"relation_types\": [(1, 2, \\'R\\'), (4, 3, \\'R\\')]}\\n',\n",
       "  '### Output:\\n{\"argument_types\": [\\'V\\', \\'P\\', \\'P\\', \\'P\\']}\\n{\"relation_types\": []}\\n',\n",
       "  '### Output:\\n{\"argument_types\": [\\'V\\', \\'V\\', \\'F\\']}\\n{\"relation_types\": [(2, 3, \\'R\\')]}\\n',\n",
       "  '### Output:\\n{\"argument_types\": [\\'F\\', \\'F\\', \\'T\\', \\'V\\']}\\n{\"relation_types\": []}\\n',\n",
       "  '### Output:\\n{\"argument_types\": [\\'V\\', \\'F\\', \\'F\\', \\'V\\', \\'V\\']}\\n{\"relation_types\": [(1, 2, \\'R\\'), (3, 2, \\'R\\'), (5, 4, \\'R\\')]}\\n',\n",
       "  '### Output:\\n{\"argument_types\": [\\'V\\', \\'V\\', \\'V\\']}\\n{\"relation_types\": [(1, 2, \\'R\\'), (1, 3, \\'R\\')]}\\n',\n",
       "  '### Output:\\n{\"argument_types\": [\\'V\\', \\'V\\', \\'V\\', \\'F\\', \\'T\\', \\'T\\', \\'T\\', \\'T\\', \\'T\\', \\'V\\', \\'T\\', \\'T\\', \\'T\\', \\'V\\', \\'V\\', \\'F\\', \\'V\\', \\'V\\', \\'V\\']}\\n{\"relation_types\": [(3, 4, \\'R\\'), (17, 18, \\'R\\'), (18, 19, \\'R\\')]}\\n',\n",
       "  '### Output:\\n{\"argument_types\": [\\'V\\', \\'F\\', \\'F\\', \\'V\\', \\'V\\', \\'V\\', \\'V\\', \\'V\\', \\'V\\', \\'V\\', \\'V\\', \\'V\\', \\'V\\', \\'V\\', \\'V\\', \\'V\\', \\'V\\']}\\n{\"relation_types\": [(9, 10, \\'R\\'), (11, 12, \\'R\\'), (13, 14, \\'R\\'), (15, 14, \\'R\\'), (16, 15, \\'R\\'), (17, 16, \\'R\\')]}\\n',\n",
       "  '### Output:\\n{\"argument_types\": [\\'V\\', \\'V\\', \\'V\\', \\'V\\', \\'V\\', \\'V\\', \\'V\\', \\'F\\', \\'F\\', \\'F\\', \\'V\\', \\'V\\', \\'P\\', \\'V\\', \\'F\\', \\'F\\', \\'V\\', \\'V\\', \\'P\\', \\'V\\', \\'V\\', \\'V\\', \\'V\\', \\'V\\', \\'V\\', \\'V\\', \\'V\\', \\'V\\', \\'F\\', \\'P\\', \\'P\\', \\'F\\']}\\n{\"relation_types\": [(14, 13, \\'R\\'), (17, 18, \\'R\\'), (21, 22, \\'R\\'), (24, 25, \\'R\\'), (27, 28, \\'R\\'), (30, 29, \\'R\\'), (31, 32, \\'R\\'), (31, 33, \\'R\\'), (32, 33, \\'R\\')]}\\n',\n",
       "  '### Output:\\n{\"argument_types\": [\\'V\\', \\'V\\', \\'P\\', \\'V\\']}\\n{\"relation_types\": [(1, 2, \\'R\\')]}\\n',\n",
       "  '### Output:\\n{\"argument_types\": [\\'F\\', \\'F\\', \\'V\\', \\'V\\']}\\n{\"relation_types\": []}\\n',\n",
       "  '### Output:\\n{\"argument_types\": [\\'V\\', \\'V\\', \\'V\\', \\'V\\', \\'V\\', \\'V\\', \\'V\\', \\'V\\', \\'V\\', \\'V\\', \\'V\\', \\'P\\', \\'V\\', \\'P\\', \\'P\\']}\\n{\"relation_types\": [(1, 2, \\'R\\'), (2, 3, \\'R\\'), (5, 4, \\'R\\'), (12, 10, \\'R\\'), (12, 11, \\'R\\'), (14, 13, \\'R\\')]}\\n',\n",
       "  '### Output:\\n{\"argument_types\": [\\'F\\', \\'V\\', \\'V\\', \\'V\\']}\\n{\"relation_types\": [(3, 2, \\'R\\'), (4, 3, \\'R\\')]}\\n',\n",
       "  '### Output:\\n{\"argument_types\": [\\'T\\', \\'T\\', \\'T\\', \\'T\\', \\'T\\', \\'T\\', \\'T\\', \\'V\\', \\'V\\', \\'V\\', \\'V\\', \\'P\\']}\\n{\"relation_types\": [(3, 4, \\'R\\')]}\\n',\n",
       "  '### Output:\\n{\"argument_types\": [\\'F\\', \\'F\\', \\'F\\', \\'F\\', \\'V\\', \\'V\\', \\'F\\', \\'F\\', \\'F\\']}\\n{\"relation_types\": [(1, 2, \\'R\\'), (1, 3, \\'R\\'), (1, 4, \\'R\\'), (1, 5, \\'R\\'), (6, 7, \\'R\\'), (6, 8, \\'R\\'), (6, 9, \\'R\\')]}\\n',\n",
       "  '### Output:\\n{\"argument_types\": [\\'V\\', \\'V\\']}\\n{\"relation_types\": []}\\n',\n",
       "  '### Output:\\n{\"argument_types\": [\\'P\\', \\'F\\', \\'P\\', \\'P\\', \\'T\\', \\'T\\', \\'V\\', \\'T\\', \\'F\\', \\'V\\', \\'V\\', \\'V\\', \\'V\\', \\'T\\']}\\n{\"relation_types\": [(3, 4, \\'R\\'), (7, 6, \\'R\\'), (10, 11, \\'R\\'), (10, 12, \\'R\\'), (10, 13, \\'R\\'), (10, 14, \\'R\\'), (11, 12, \\'R\\'), (13, 14, \\'R\\')]}\\n',\n",
       "  '### Output:\\n{\"argument_types\": [\\'V\\', \\'V\\', \\'V\\', \\'V\\', \\'V\\', \\'F\\', \\'V\\', \\'V\\', \\'P\\', \\'V\\', \\'F\\', \\'F\\', \\'F\\', \\'V\\', \\'V\\', \\'V\\', \\'V\\', \\'P\\', \\'P\\', \\'V\\', \\'V\\', \\'V\\', \\'V\\']}\\n{\"relation_types\": [(4, 6, \\'R\\'), (5, 4, \\'R\\'), (9, 10, \\'R\\'), (16, 12, \\'R\\'), (16, 13, \\'R\\'), (16, 14, \\'R\\'), (16, 15, \\'R\\'), (19, 20, \\'R\\')]}\\n',\n",
       "  '### Output:\\n{\"argument_types\": [\\'T\\', \\'F\\', \\'F\\', \\'V\\', \\'V\\', \\'P\\']}\\n{\"relation_types\": [(3, 2, \\'R\\'), (6, 1, \\'R\\'), (6, 4, \\'R\\'), (6, 5, \\'R\\')]}\\n',\n",
       "  '### Output:\\n{\"argument_types\": [\\'T\\', \\'T\\', \\'T\\', \\'V\\', \\'P\\', \\'T\\']}\\n{\"relation_types\": [(5, 1, \\'R\\'), (5, 2, \\'R\\'), (5, 4, \\'R\\')]}\\n',\n",
       "  '### Output:\\n{\"argument_types\": [\\'V\\', \\'V\\', \\'V\\', \\'T\\', \\'T\\', \\'P\\', \\'V\\']}\\n{\"relation_types\": [(3, 4, \\'R\\'), (3, 5, \\'R\\')]}\\n',\n",
       "  '### Output:\\n{\"argument_types\": [\\'P\\', \\'T\\', \\'T\\', \\'T\\', \\'T\\', \\'T\\', \\'T\\', \\'T\\', \\'T\\', \\'T\\', \\'V\\']}\\n{\"relation_types\": []}\\n',\n",
       "  '### Output:\\n{\"argument_types\": [\\'F\\', \\'V\\', \\'F\\', \\'F\\', \\'F\\', \\'V\\', \\'T\\', \\'V\\', \\'V\\', \\'T\\', \\'V\\', \\'V\\']}\\n{\"relation_types\": [(5, 4, \\'R\\')]}\\n',\n",
       "  '### Output:\\n{\"argument_types\": [\\'T\\', \\'T\\', \\'T\\', \\'T\\', \\'T\\', \\'T\\', \\'T\\', \\'V\\']}\\n{\"relation_types\": []}\\n',\n",
       "  '### Output:\\n{\"argument_types\": [\\'F\\', \\'F\\', \\'F\\', \\'V\\', \\'V\\', \\'P\\', \\'V\\']}\\n{\"relation_types\": [(3, 2, \\'R\\'), (6, 5, \\'R\\'), (6, 7, \\'R\\')]}\\n',\n",
       "  '### Output:\\n{\"argument_types\": [\\'T\\', \\'T\\', \\'T\\', \\'V\\', \\'V\\']}\\n{\"relation_types\": [(4, 5, \\'R\\')]}\\n',\n",
       "  '### Output:\\n{\"argument_types\": [\\'P\\', \\'P\\', \\'V\\', \\'V\\', \\'T\\', \\'V\\', \\'P\\', \\'V\\', \\'V\\']}\\n{\"relation_types\": [(1, 4, \\'R\\'), (4, 5, \\'R\\'), (4, 6, \\'R\\'), (7, 8, \\'R\\')]}\\n',\n",
       "  '### Output:\\n{\"argument_types\": [\\'T\\', \\'T\\', \\'F\\', \\'F\\', \\'V\\', \\'V\\', \\'F\\', \\'F\\', \\'P\\', \\'F\\', \\'V\\', \\'V\\', \\'T\\', \\'V\\', \\'P\\', \\'P\\', \\'F\\', \\'P\\', \\'P\\', \\'P\\', \\'P\\', \\'P\\', \\'F\\', \\'F\\', \\'T\\', \\'F\\', \\'V\\', \\'V\\']}\\n{\"relation_types\": [(6, 7, \\'R\\'), (8, 7, \\'R\\'), (9, 10, \\'R\\'), (11, 10, \\'R\\'), (16, 15, \\'R\\'), (18, 17, \\'R\\'), (20, 19, \\'R\\'), (22, 23, \\'R\\'), (23, 24, \\'R\\'), (25, 26, \\'R\\')]}\\n',\n",
       "  '### Output:\\n{\"argument_types\": [\\'T\\', \\'T\\', \\'T\\', \\'T\\']}\\n{\"relation_types\": [(2, 3, \\'R\\')]}\\n',\n",
       "  '### Output:\\n{\"argument_types\": [\\'V\\', \\'V\\', \\'V\\', \\'F\\', \\'F\\', \\'V\\', \\'V\\', \\'V\\', \\'V\\']}\\n{\"relation_types\": [(1, 2, \\'R\\'), (1, 3, \\'R\\'), (3, 4, \\'R\\'), (6, 5, \\'R\\')]}\\n',\n",
       "  '### Output:\\n{\"argument_types\": [\\'V\\', \\'P\\', \\'V\\', \\'T\\', \\'V\\']}\\n{\"relation_types\": [(4, 5, \\'R\\')]}\\n',\n",
       "  '### Output:\\n{\"argument_types\": [\\'V\\', \\'P\\', \\'V\\', \\'P\\', \\'P\\', \\'V\\']}\\n{\"relation_types\": [(2, 1, \\'R\\'), (5, 6, \\'R\\')]}\\n',\n",
       "  '### Output:\\n{\"argument_types\": [\\'V\\', \\'V\\', \\'F\\', \\'V\\']}\\n{\"relation_types\": [(2, 3, \\'R\\')]}\\n',\n",
       "  '### Output:\\n{\"argument_types\": [\\'V\\', \\'F\\', \\'F\\']}\\n{\"relation_types\": [(2, 3, \\'R\\')]}\\n',\n",
       "  '### Output:\\n{\"argument_types\": [\\'V\\', \\'V\\']}\\n{\"relation_types\": [(1, 2, \\'R\\')]}\\n',\n",
       "  '### Output:\\n{\"argument_types\": [\\'V\\', \\'F\\', \\'V\\']}\\n{\"relation_types\": [(1, 2, \\'R\\'), (2, 3, \\'R\\')]}\\n',\n",
       "  '### Output:\\n{\"argument_types\": [\\'P\\', \\'V\\', \\'T\\', \\'T\\', \\'V\\', \\'V\\', \\'V\\', \\'V\\', \\'V\\', \\'V\\', \\'V\\', \\'P\\']}\\n{\"relation_types\": [(2, 3, \\'R\\'), (2, 4, \\'R\\'), (2, 5, \\'R\\'), (2, 6, \\'R\\'), (1, 2, \\'R\\'), (12, 10, \\'R\\'), (12, 11, \\'R\\')]}\\n',\n",
       "  '### Output:\\n{\"argument_types\": [\\'V\\', \\'P\\', \\'V\\', \\'P\\']}\\n{\"relation_types\": [(2, 1, \\'R\\'), (4, 3, \\'R\\')]}\\n',\n",
       "  '### Output:\\n{\"argument_types\": [\\'T\\', \\'T\\', \\'T\\', \\'T\\', \\'T\\', \\'T\\', \\'V\\', \\'T\\']}\\n{\"relation_types\": [(5, 6, \\'R\\')]}\\n',\n",
       "  '### Output:\\n{\"argument_types\": [\\'P\\', \\'V\\', \\'V\\', \\'V\\', \\'V\\', \\'V\\', \\'P\\', \\'V\\', \\'V\\']}\\n{\"relation_types\": [(1, 3, \\'R\\'), (4, 5, \\'R\\'), (4, 6, \\'R\\'), (7, 8, \\'R\\'), (7, 9, \\'R\\')]}\\n',\n",
       "  '### Output:\\n{\"argument_types\": [\\'V\\', \\'V\\', \\'V\\', \\'V\\', \\'V\\', \\'V\\', \\'P\\', \\'V\\']}\\n{\"relation_types\": [(1, 2, \\'R\\')]}\\n',\n",
       "  '### Output:\\n{\"argument_types\": [\\'P\\', \\'V\\', \\'V\\', \\'T\\', \\'V\\', \\'P\\', \\'V\\']}\\n{\"relation_types\": [(1, 3, \\'R\\'), (1, 5, \\'R\\'), (5, 4, \\'R\\'), (6, 7, \\'R\\')]}\\n',\n",
       "  '### Output:\\n{\"argument_types\": [\\'P\\', \\'P\\']}\\n{\"relation_types\": []}\\n',\n",
       "  '### Output:\\n{\"argument_types\": [\\'F\\', \\'T\\', \\'T\\', \\'T\\', \\'V\\']}\\n{\"relation_types\": []}\\n',\n",
       "  '### Output:\\n{\"argument_types\": [\\'V\\', \\'F\\']}\\n{\"relation_types\": [(1, 2, \\'R\\')]}\\n',\n",
       "  '### Output:\\n{\"argument_types\": [\\'F\\', \\'F\\', \\'V\\']}\\n{\"relation_types\": [(3, 2, \\'R\\')]}\\n',\n",
       "  '### Output:\\n{\"argument_types\": [\\'P\\', \\'P\\']}\\n{\"relation_types\": []}\\n',\n",
       "  '### Output:\\n{\"argument_types\": [\\'P\\', \\'P\\', \\'P\\', \\'V\\', \\'P\\', \\'V\\']}\\n{\"relation_types\": [(1, 4, \\'R\\'), (5, 6, \\'R\\')]}\\n',\n",
       "  '### Output:\\n{\"argument_types\": [\\'V\\', \\'V\\', \\'V\\', \\'F\\', \\'T\\', \\'F\\', \\'V\\', \\'V\\', \\'V\\', \\'V\\']}\\n{\"relation_types\": [(2, 1, \\'R\\'), (6, 5, \\'R\\'), (10, 9, \\'R\\')]}\\n',\n",
       "  '### Output:\\n{\"argument_types\": [\\'V\\', \\'V\\', \\'V\\', \\'V\\', \\'T\\', \\'T\\', \\'T\\', \\'V\\', \\'P\\']}\\n{\"relation_types\": [(9, 4, \\'R\\')]}\\n',\n",
       "  '### Output:\\n{\"argument_types\": [\\'F\\', \\'V\\', \\'V\\', \\'P\\']}\\n{\"relation_types\": [(1, 2, \\'R\\')]}\\n',\n",
       "  '### Output:\\n{\"argument_types\": [\\'F\\', \\'F\\']}\\n{\"relation_types\": []}\\n',\n",
       "  '### Output:\\n{\"argument_types\": [\\'P\\', \\'V\\', \\'V\\', \\'P\\', \\'V\\']}\\n{\"relation_types\": [(1, 2, \\'R\\'), (4, 5, \\'R\\')]}\\n',\n",
       "  '### Output:\\n{\"argument_types\": [\\'V\\', \\'V\\', \\'V\\', \\'V\\']}\\n{\"relation_types\": []}\\n',\n",
       "  '### Output:\\n{\"argument_types\": [\\'V\\', \\'V\\', \\'V\\', \\'V\\', \\'T\\', \\'T\\', \\'T\\', \\'V\\', \\'T\\', \\'V\\', \\'V\\', \\'T\\', \\'V\\', \\'V\\', \\'V\\']}\\n{\"relation_types\": [(13, 14, \\'R\\')]}\\n',\n",
       "  '### Output:\\n{\"argument_types\": [\\'V\\', \\'V\\', \\'P\\', \\'V\\']}\\n{\"relation_types\": [(3, 2, \\'R\\')]}\\n',\n",
       "  '### Output:\\n{\"argument_types\": [\\'T\\', \\'T\\', \\'V\\', \\'V\\', \\'V\\']}\\n{\"relation_types\": []}\\n',\n",
       "  '### Output:\\n{\"argument_types\": [\\'V\\', \\'V\\', \\'T\\', \\'T\\']}\\n{\"relation_types\": [(2, 3, \\'E\\'), (2, 4, \\'E\\')]}\\n',\n",
       "  '### Output:\\n{\"argument_types\": [\\'T\\', \\'F\\', \\'V\\', \\'V\\', \\'V\\', \\'V\\', \\'V\\', \\'F\\', \\'F\\', \\'V\\']}\\n{\"relation_types\": [(10, 6, \\'R\\'), (10, 7, \\'R\\'), (10, 8, \\'R\\'), (10, 9, \\'R\\')]}\\n',\n",
       "  '### Output:\\n{\"argument_types\": [\\'F\\', \\'T\\', \\'F\\']}\\n{\"relation_types\": []}\\n',\n",
       "  '### Output:\\n{\"argument_types\": [\\'T\\', \\'V\\']}\\n{\"relation_types\": [(2, 1, \\'R\\')]}\\n',\n",
       "  '### Output:\\n{\"argument_types\": [\\'V\\', \\'T\\']}\\n{\"relation_types\": []}\\n',\n",
       "  '### Output:\\n{\"argument_types\": [\\'P\\', \\'P\\']}\\n{\"relation_types\": []}\\n',\n",
       "  '### Output:\\n{\"argument_types\": [\\'F\\', \\'F\\', \\'F\\', \\'P\\', \\'V\\', \\'V\\']}\\n{\"relation_types\": [(1, 2, \\'R\\'), (1, 3, \\'R\\'), (4, 5, \\'R\\'), (4, 6, \\'R\\')]}\\n',\n",
       "  '### Output:\\n{\"argument_types\": [\\'F\\', \\'V\\']}\\n{\"relation_types\": []}\\n',\n",
       "  '### Output:\\n{\"argument_types\": [\\'F\\', \\'V\\', \\'V\\', \\'V\\', \\'V\\', \\'V\\', \\'V\\', \\'V\\']}\\n{\"relation_types\": []}\\n',\n",
       "  '### Output:\\n{\"argument_types\": [\\'P\\', \\'T\\', \\'T\\', \\'T\\', \\'V\\', \\'P\\', \\'P\\', \\'P\\']}\\n{\"relation_types\": []}\\n',\n",
       "  '### Output:\\n{\"argument_types\": [\\'V\\', \\'V\\', \\'V\\', \\'V\\', \\'P\\']}\\n{\"relation_types\": []}\\n',\n",
       "  '### Output:\\n{\"argument_types\": [\\'T\\', \\'T\\', \\'T\\', \\'T\\', \\'T\\']}\\n{\"relation_types\": []}\\n',\n",
       "  '### Output:\\n{\"argument_types\": [\\'V\\', \\'F\\', \\'F\\', \\'V\\']}\\n{\"relation_types\": []}\\n',\n",
       "  '### Output:\\n{\"argument_types\": [\\'V\\', \\'P\\', \\'P\\', \\'P\\', \\'V\\', \\'V\\']}\\n{\"relation_types\": [(4, 5, \\'R\\'), (5, 6, \\'R\\')]}\\n',\n",
       "  '### Output:\\n{\"argument_types\": [\\'V\\', \\'V\\']}\\n{\"relation_types\": [(1, 2, \\'R\\')]}\\n',\n",
       "  '### Output:\\n{\"argument_types\": [\\'T\\', \\'F\\', \\'T\\', \\'T\\', \\'T\\', \\'T\\', \\'P\\', \\'V\\', \\'T\\', \\'T\\', \\'T\\', \\'T\\', \\'T\\', \\'P\\']}\\n{\"relation_types\": [(3, 4, \\'R\\'), (6, 5, \\'R\\'), (7, 8, \\'R\\'), (14, 13, \\'R\\')]}\\n',\n",
       "  '### Output:\\n{\"argument_types\": [\\'P\\', \\'P\\', \\'P\\', \\'V\\']}\\n{\"relation_types\": [(3, 4, \\'R\\')]}\\n',\n",
       "  '### Output:\\n{\"argument_types\": [\\'V\\', \\'F\\', \\'V\\', \\'V\\', \\'P\\', \\'V\\']}\\n{\"relation_types\": [(5, 4, \\'R\\'), (5, 6, \\'R\\')]}\\n',\n",
       "  '### Output:\\n{\"argument_types\": [\\'V\\', \\'P\\', \\'V\\', \\'V\\', \\'V\\', \\'P\\', \\'V\\']}\\n{\"relation_types\": [(6, 7, \\'R\\')]}\\n',\n",
       "  '### Output:\\n{\"argument_types\": [\\'P\\', \\'V\\', \\'V\\']}\\n{\"relation_types\": [(1, 2, \\'R\\')]}\\n',\n",
       "  '### Output:\\n{\"argument_types\": [\\'F\\', \\'F\\', \\'F\\', \\'F\\', \\'F\\', \\'V\\', \\'P\\']}\\n{\"relation_types\": [(1, 2, \\'R\\'), (6, 5, \\'R\\')]}\\n',\n",
       "  '### Output:\\n{\"argument_types\": [\\'V\\', \\'V\\', \\'F\\', \\'V\\', \\'V\\', \\'V\\', \\'T\\', \\'T\\', \\'T\\', \\'V\\', \\'V\\', \\'V\\', \\'F\\', \\'F\\', \\'V\\', \\'V\\', \\'V\\', \\'V\\', \\'V\\', \\'V\\', \\'V\\', \\'V\\', \\'V\\']}\\n{\"relation_types\": [(17, 18, \\'R\\'), (19, 15, \\'R\\'), (19, 16, \\'R\\')]}\\n',\n",
       "  '### Output:\\n{\"argument_types\": [\\'V\\', \\'V\\', \\'T\\', \\'V\\', \\'V\\', \\'V\\', \\'V\\', \\'V\\', \\'V\\', \\'F\\', \\'V\\', \\'P\\', \\'V\\']}\\n{\"relation_types\": [(2, 3, \\'R\\'), (8, 9, \\'R\\'), (12, 13, \\'R\\')]}\\n',\n",
       "  '### Output:\\n{\"argument_types\": [\\'V\\', \\'V\\']}\\n{\"relation_types\": [(1, 2, \\'R\\')]}\\n',\n",
       "  '### Output:\\n{\"argument_types\": [\\'V\\', \\'V\\', \\'V\\', \\'V\\', \\'F\\', \\'V\\', \\'V\\', \\'V\\', \\'V\\', \\'V\\', \\'V\\', \\'V\\', \\'F\\', \\'T\\', \\'P\\']}\\n{\"relation_types\": [(3, 4, \\'R\\'), (8, 9, \\'R\\'), (10, 11, \\'R\\'), (12, 13, \\'R\\'), (12, 14, \\'R\\')]}\\n',\n",
       "  '### Output:\\n{\"argument_types\": [\\'R\\', \\'V\\', \\'V\\']}\\n{\"relation_types\": [(2, 1, \\'R\\')]}\\n']}"
      ]
     },
     "execution_count": 5,
     "metadata": {},
     "output_type": "execute_result"
    }
   ],
   "source": [
    "results"
   ]
  },
  {
   "cell_type": "code",
   "execution_count": 6,
   "id": "911df15f-a6db-4cb7-a41d-d6252afe9218",
   "metadata": {},
   "outputs": [],
   "source": [
    "grounds_global = results[\"grounds\"]"
   ]
  },
  {
   "cell_type": "code",
   "execution_count": 7,
   "id": "1273284e-f3d7-46d3-842f-d8a8ebde974e",
   "metadata": {},
   "outputs": [],
   "source": [
    "preds_global = results[\"predictions\"]"
   ]
  },
  {
   "cell_type": "code",
   "execution_count": 8,
   "id": "95d24a40-391b-4249-b041-c225fbc3dd23",
   "metadata": {},
   "outputs": [
    {
     "data": {
      "text/plain": [
       "(150, 150)"
      ]
     },
     "execution_count": 8,
     "metadata": {},
     "output_type": "execute_result"
    }
   ],
   "source": [
    "len(grounds_global), len(preds_global)"
   ]
  },
  {
   "cell_type": "markdown",
   "id": "4c6bcd80-226f-4922-b6c5-44bf6b723eea",
   "metadata": {},
   "source": [
    "## ACC post-processing"
   ]
  },
  {
   "cell_type": "code",
   "execution_count": 30,
   "id": "b771ddc5",
   "metadata": {},
   "outputs": [
    {
     "data": {
      "text/plain": [
       "'{\"argument_types\": [\\'F\\', \\'V\\', \\'P\\']}'"
      ]
     },
     "execution_count": 30,
     "metadata": {},
     "output_type": "execute_result"
    }
   ],
   "source": [
    "grounds_global[0].split(\"\\n\")[1]"
   ]
  },
  {
   "cell_type": "code",
   "execution_count": 31,
   "id": "3e20283f-0b64-4db9-ac49-1ad9c3f4955f",
   "metadata": {},
   "outputs": [],
   "source": [
    "grounds_acc = [json.loads(x.replace('### Output:\\n', '').strip().split('\\n')[0].replace(\"'\", '\"'))[\"argument_types\"] for x in grounds_global]"
   ]
  },
  {
   "cell_type": "code",
   "execution_count": 32,
   "id": "27412c25-029d-4ceb-912b-d33b843a6e3a",
   "metadata": {},
   "outputs": [],
   "source": [
    "predictions_acc = [json.loads(x.replace('### Output:\\n', '').strip().split('\\n')[0].replace(\"'\", '\"'))[\"argument_types\"] for x in preds_global]"
   ]
  },
  {
   "cell_type": "code",
   "execution_count": 33,
   "id": "67026857-986d-4c96-b043-eb6845555bdf",
   "metadata": {},
   "outputs": [
    {
     "data": {
      "text/plain": [
       "(150, 150)"
      ]
     },
     "execution_count": 33,
     "metadata": {},
     "output_type": "execute_result"
    }
   ],
   "source": [
    "len(grounds_acc), len(predictions_acc)"
   ]
  },
  {
   "cell_type": "code",
   "execution_count": 13,
   "id": "992e83a2-ba18-46a0-a51c-29176d62a2b7",
   "metadata": {},
   "outputs": [
    {
     "name": "stdout",
     "output_type": "stream",
     "text": [
      "75\n"
     ]
    }
   ],
   "source": [
    "bad_idx = []\n",
    "for i,(x,y) in enumerate(zip(grounds_acc, predictions_acc)):\n",
    "    \n",
    "    if len(x) != len(y):\n",
    "        bad_idx.append(i)\n",
    "        print(i)\n",
    "        #preds[i] = harmonize_preds(x, y)"
   ]
  },
  {
   "cell_type": "code",
   "execution_count": 14,
   "id": "087db954-f94c-467f-b298-00328cc6199d",
   "metadata": {},
   "outputs": [],
   "source": [
    "grounds_acc = [elem for idx, elem in enumerate(grounds_acc) if idx not in bad_idx]\n",
    "predictions_acc = [elem for idx, elem in enumerate(predictions_acc) if idx not in bad_idx]"
   ]
  },
  {
   "cell_type": "code",
   "execution_count": 15,
   "id": "c50b77e1-26ca-4eb3-b253-e9a588d1ad6e",
   "metadata": {},
   "outputs": [],
   "source": [
    "ATC_preds = [item for row in predictions_acc for item in row]\n",
    "ATC_grounds = [item for row in grounds_acc for item in row]"
   ]
  },
  {
   "cell_type": "code",
   "execution_count": 16,
   "id": "779c7dc5-843d-4a51-8c2d-e8ba386e770e",
   "metadata": {},
   "outputs": [
    {
     "data": {
      "text/plain": [
       "True"
      ]
     },
     "execution_count": 16,
     "metadata": {},
     "output_type": "execute_result"
    }
   ],
   "source": [
    "# sanity check: \n",
    "len(ATC_preds) == len(ATC_grounds)"
   ]
  },
  {
   "cell_type": "code",
   "execution_count": null,
   "id": "ab2d03ac-f035-4fd6-a7ed-269de3445333",
   "metadata": {},
   "outputs": [],
   "source": []
  },
  {
   "cell_type": "code",
   "execution_count": 18,
   "id": "554dc526-d033-405a-8a0b-57e85e81975c",
   "metadata": {},
   "outputs": [
    {
     "name": "stdout",
     "output_type": "stream",
     "text": [
      "              precision    recall  f1-score   support\n",
      "\n",
      "           F      0.614     0.633     0.623       128\n",
      "           P      0.937     0.930     0.933       143\n",
      "           R      1.000     1.000     1.000         1\n",
      "           T      0.908     0.889     0.899       244\n",
      "           V      0.868     0.872     0.870       476\n",
      "\n",
      "    accuracy                          0.854       992\n",
      "   macro avg      0.865     0.865     0.865       992\n",
      "weighted avg      0.855     0.854     0.854       992\n",
      "\n"
     ]
    }
   ],
   "source": [
    "print(classification_report(ATC_grounds, ATC_preds, digits=3))"
   ]
  },
  {
   "cell_type": "raw",
   "id": "8917c85d",
   "metadata": {
    "vscode": {
     "languageId": "raw"
    }
   },
   "source": [
    "precision    recall  f1-score   support\n",
    "\n",
    "        fact      0.575     0.583     0.579       132\n",
    "      policy      0.894     0.830     0.861       153\n",
    "   reference      1.000     1.000     1.000         1\n",
    "   testimony      0.904     0.852     0.878       244\n",
    "       value      0.823     0.861     0.841       496\n",
    "\n",
    "    accuracy                          0.819      1026\n",
    "   macro avg      0.839     0.825     0.832      1026\n",
    "weighted avg      0.821     0.819     0.819      1026\n",
    "\n",
    "old results ###\n",
    "\n",
    "\n",
    "precision    recall  f1-score   support\n",
    "\n",
    "        fact      0.694     0.656     0.675       128\n",
    "      policy      0.907     0.958     0.932       143\n",
    "   reference      1.000     1.000     1.000         1\n",
    "   testimony      0.922     0.852     0.886       237\n",
    "       value      0.852     0.884     0.868       464\n",
    "\n",
    "    accuracy                          0.857       973\n",
    "   macro avg      0.875     0.870     0.872       973\n",
    "weighted avg      0.857     0.857     0.856       973\n",
    "\n",
    "8B\n",
    "\n",
    "\n",
    "precision    recall  f1-score   support\n",
    "\n",
    "        fact      0.701     0.674     0.687       132\n",
    "      policy      0.881     0.915     0.897       153\n",
    "   reference      1.000     1.000     1.000         1\n",
    "   testimony      0.915     0.903     0.909       226\n",
    "       value      0.865     0.869     0.867       487\n",
    "\n",
    "    accuracy                          0.858       999\n",
    "   macro avg      0.872     0.872     0.872       999\n",
    "weighted avg      0.857     0.858     0.857       999\n",
    "\n",
    "\n",
    "70 B\n",
    "\n",
    "precision    recall  f1-score   support\n",
    "\n",
    "           F      0.614     0.633     0.623       128\n",
    "           P      0.937     0.930     0.933       143\n",
    "           R      1.000     1.000     1.000         1\n",
    "           T      0.908     0.889     0.899       244\n",
    "           V      0.868     0.872     0.870       476\n",
    "\n",
    "    accuracy                          0.854       992\n",
    "   macro avg      0.865     0.865     0.865       992\n",
    "weighted avg      0.855     0.854     0.854       992\n",
    "\n",
    "new prompt 8B llama 3"
   ]
  },
  {
   "cell_type": "markdown",
   "id": "ffc32bae-7a9c-4904-959a-92257d8268a0",
   "metadata": {},
   "source": [
    "### ARIC"
   ]
  },
  {
   "cell_type": "code",
   "execution_count": 34,
   "id": "3d8d6462",
   "metadata": {},
   "outputs": [],
   "source": [
    "import re"
   ]
  },
  {
   "cell_type": "code",
   "execution_count": 35,
   "id": "a392b93c-737a-467e-84e7-8287e60f9b9c",
   "metadata": {},
   "outputs": [
    {
     "data": {
      "text/plain": [
       "(150, 150)"
      ]
     },
     "execution_count": 35,
     "metadata": {},
     "output_type": "execute_result"
    }
   ],
   "source": [
    "len(grounds_global), len(preds_global)"
   ]
  },
  {
   "cell_type": "code",
   "execution_count": 36,
   "id": "6db466ed",
   "metadata": {},
   "outputs": [],
   "source": [
    "grounds_aric = [json.loads(json.dumps(ast.literal_eval(x.replace('### Output:\\n', '').strip().split('\\n')[1])))[\"relation_types\"] for x in grounds_global]"
   ]
  },
  {
   "cell_type": "code",
   "execution_count": 37,
   "id": "134e5563",
   "metadata": {},
   "outputs": [
    {
     "data": {
      "text/plain": [
       "[[[3, 2, 'R']],\n",
       " [],\n",
       " [],\n",
       " [],\n",
       " [[5, 3, 'R'], [5, 4, 'R']],\n",
       " [[5, 1, 'R'], [5, 2, 'R'], [5, 3, 'R'], [5, 4, 'R']],\n",
       " [[2, 3, 'E'], [2, 4, 'E'], [2, 5, 'E'], [1, 4, 'R'], [1, 5, 'R']],\n",
       " [[1, 2, 'R'], [4, 3, 'R'], [6, 3, 'R']],\n",
       " [[4, 5, 'R'], [4, 6, 'R'], [6, 8, 'R'], [6, 9, 'R'], [6, 10, 'R']],\n",
       " [[1, 2, 'R'], [1, 4, 'R']],\n",
       " [[2, 3, 'R'], [2, 4, 'R'], [2, 5, 'R'], [6, 7, 'R'], [6, 8, 'R']],\n",
       " [[3, 4, 'R']],\n",
       " [[1, 2, 'R'], [1, 3, 'R'], [5, 2, 'R']],\n",
       " [],\n",
       " [[2, 3, 'R'], [2, 4, 'R']],\n",
       " [[1, 2, 'R'], [3, 4, 'R']],\n",
       " [[1, 2, 'R'], [1, 3, 'R'], [1, 4, 'R']],\n",
       " [[1, 2, 'R'], [1, 3, 'R'], [1, 4, 'R']],\n",
       " [],\n",
       " [],\n",
       " [[1, 3, 'R'], [3, 2, 'R'], [5, 6, 'R']],\n",
       " [[2, 3, 'R'], [2, 4, 'R'], [7, 8, 'R'], [8, 9, 'R']],\n",
       " [[3, 4, 'R']],\n",
       " [],\n",
       " [],\n",
       " [[2, 3, 'R'],\n",
       "  [2, 4, 'R'],\n",
       "  [2, 5, 'R'],\n",
       "  [9, 11, 'R'],\n",
       "  [9, 12, 'R'],\n",
       "  [9, 10, 'R'],\n",
       "  [14, 13, 'R'],\n",
       "  [26, 25, 'R'],\n",
       "  [26, 27, 'R']],\n",
       " [[5, 4, 'R']],\n",
       " [],\n",
       " [[2, 3, 'E'],\n",
       "  [2, 4, 'E'],\n",
       "  [5, 1, 'R'],\n",
       "  [5, 2, 'R'],\n",
       "  [6, 7, 'R'],\n",
       "  [7, 1, 'R'],\n",
       "  [7, 2, 'R']],\n",
       " [],\n",
       " [[1, 2, 'R'], [5, 6, 'R']],\n",
       " [],\n",
       " [],\n",
       " [],\n",
       " [],\n",
       " [],\n",
       " [[2, 1, 'R']],\n",
       " [[1, 2, 'R'], [1, 3, 'R'], [4, 5, 'R'], [6, 5, 'R']],\n",
       " [[1, 3, 'R'],\n",
       "  [1, 4, 'R'],\n",
       "  [1, 5, 'R'],\n",
       "  [6, 3, 'R'],\n",
       "  [6, 4, 'R'],\n",
       "  [6, 5, 'R']],\n",
       " [],\n",
       " [],\n",
       " [],\n",
       " [[1, 2, 'R']],\n",
       " [[1, 2, 'E'],\n",
       "  [1, 3, 'E'],\n",
       "  [1, 4, 'E'],\n",
       "  [1, 5, 'E'],\n",
       "  [1, 6, 'E'],\n",
       "  [1, 7, 'E'],\n",
       "  [1, 8, 'E']],\n",
       " [[2, 3, 'R'], [2, 4, 'R'], [2, 5, 'R']],\n",
       " [],\n",
       " [],\n",
       " [[4, 3, 'R'], [7, 6, 'R'], [8, 2, 'R'], [8, 4, 'R']],\n",
       " [],\n",
       " [],\n",
       " [[1, 2, 'R'], [1, 3, 'R'], [5, 6, 'R']],\n",
       " [[10, 9, 'R'], [12, 13, 'R']],\n",
       " [[7, 8, 'R']],\n",
       " [[1, 2, 'R']],\n",
       " [[1, 2, 'R'], [7, 6, 'R']],\n",
       " [[8, 9, 'E'], [2, 3, 'R'], [12, 11, 'R'], [14, 13, 'R']],\n",
       " [],\n",
       " [[2, 3, 'R'], [2, 4, 'R']],\n",
       " [[1, 3, 'R'], [1, 4, 'R']],\n",
       " [[1, 2, 'R'], [1, 3, 'R'], [1, 4, 'R']],\n",
       " [[1, 5, 'R'],\n",
       "  [3, 4, 'R'],\n",
       "  [3, 5, 'R'],\n",
       "  [6, 7, 'R'],\n",
       "  [11, 13, 'R'],\n",
       "  [11, 14, 'R'],\n",
       "  [12, 11, 'R'],\n",
       "  [15, 13, 'R'],\n",
       "  [15, 14, 'R']],\n",
       " [[3, 2, 'R']],\n",
       " [[1, 2, 'R'],\n",
       "  [1, 3, 'R'],\n",
       "  [4, 5, 'R'],\n",
       "  [8, 9, 'R'],\n",
       "  [12, 13, 'R'],\n",
       "  [15, 16, 'R']],\n",
       " [],\n",
       " [[1, 2, 'R'],\n",
       "  [1, 3, 'R'],\n",
       "  [1, 4, 'R'],\n",
       "  [1, 5, 'R'],\n",
       "  [1, 6, 'R'],\n",
       "  [3, 4, 'R'],\n",
       "  [4, 5, 'R'],\n",
       "  [7, 8, 'R']],\n",
       " [],\n",
       " [[1, 2, 'R'], [3, 4, 'R'], [6, 5, 'R']],\n",
       " [[1, 2, 'E'], [1, 3, 'E'], [1, 4, 'E'], [6, 7, 'R']],\n",
       " [],\n",
       " [[2, 3, 'R']],\n",
       " [],\n",
       " [[1, 2, 'R'], [1, 3, 'R']],\n",
       " [[1, 2, 'R'], [3, 2, 'R']],\n",
       " [[3, 4, 'R'],\n",
       "  [4, 5, 'R'],\n",
       "  [4, 6, 'R'],\n",
       "  [4, 7, 'R'],\n",
       "  [4, 8, 'R'],\n",
       "  [4, 9, 'R'],\n",
       "  [4, 10, 'R'],\n",
       "  [4, 11, 'R'],\n",
       "  [4, 12, 'R'],\n",
       "  [4, 13, 'R'],\n",
       "  [15, 16, 'R'],\n",
       "  [17, 18, 'R'],\n",
       "  [18, 19, 'R']],\n",
       " [[7, 8, 'R'], [9, 10, 'R'], [10, 11, 'R'], [16, 15, 'R']],\n",
       " [[1, 2, 'R'],\n",
       "  [1, 3, 'R'],\n",
       "  [13, 14, 'R'],\n",
       "  [20, 19, 'R'],\n",
       "  [22, 21, 'R'],\n",
       "  [27, 28, 'R'],\n",
       "  [31, 32, 'R']],\n",
       " [[1, 2, 'R'], [3, 4, 'R']],\n",
       " [[3, 4, 'R']],\n",
       " [[1, 2, 'R'],\n",
       "  [2, 13, 'R'],\n",
       "  [2, 3, 'R'],\n",
       "  [2, 4, 'R'],\n",
       "  [2, 6, 'R'],\n",
       "  [2, 9, 'R'],\n",
       "  [2, 10, 'R'],\n",
       "  [5, 4, 'R'],\n",
       "  [9, 8, 'R'],\n",
       "  [11, 10, 'R'],\n",
       "  [14, 13, 'R']],\n",
       " [[3, 2, 'R'], [4, 3, 'R']],\n",
       " [[3, 4, 'R'], [12, 11, 'R']],\n",
       " [],\n",
       " [],\n",
       " [[3, 4, 'R'], [13, 14, 'R']],\n",
       " [[3, 4, 'R'],\n",
       "  [5, 3, 'R'],\n",
       "  [5, 4, 'R'],\n",
       "  [6, 7, 'R'],\n",
       "  [9, 10, 'R'],\n",
       "  [11, 12, 'R'],\n",
       "  [11, 13, 'R']],\n",
       " [[3, 2, 'R']],\n",
       " [[5, 3, 'R']],\n",
       " [[1, 3, 'R'], [6, 4, 'R'], [6, 5, 'R']],\n",
       " [[1, 2, 'R'],\n",
       "  [1, 3, 'R'],\n",
       "  [1, 4, 'R'],\n",
       "  [1, 5, 'R'],\n",
       "  [1, 6, 'R'],\n",
       "  [1, 7, 'R'],\n",
       "  [1, 8, 'R'],\n",
       "  [1, 9, 'R'],\n",
       "  [1, 10, 'R'],\n",
       "  [1, 11, 'R']],\n",
       " [[1, 2, 'R']],\n",
       " [[5, 4, 'R']],\n",
       " [[3, 2, 'R'], [6, 5, 'R'], [6, 7, 'R']],\n",
       " [[4, 5, 'R'], [5, 1, 'R'], [5, 2, 'R']],\n",
       " [[4, 5, 'R'], [4, 6, 'R'], [7, 8, 'R'], [8, 9, 'R']],\n",
       " [[2, 1, 'R'],\n",
       "  [5, 4, 'R'],\n",
       "  [6, 7, 'R'],\n",
       "  [6, 8, 'R'],\n",
       "  [11, 10, 'R'],\n",
       "  [12, 13, 'R'],\n",
       "  [20, 21, 'R'],\n",
       "  [22, 23, 'R']],\n",
       " [[2, 3, 'R']],\n",
       " [[1, 2, 'R'], [2, 3, 'R']],\n",
       " [[4, 5, 'R']],\n",
       " [[2, 1, 'R'], [5, 6, 'R']],\n",
       " [],\n",
       " [[2, 3, 'R']],\n",
       " [[1, 2, 'R']],\n",
       " [[3, 2, 'R']],\n",
       " [],\n",
       " [[2, 1, 'R'], [4, 3, 'R']],\n",
       " [[5, 6, 'R'],\n",
       "  [7, 1, 'R'],\n",
       "  [7, 2, 'R'],\n",
       "  [7, 3, 'R'],\n",
       "  [7, 4, 'R'],\n",
       "  [7, 5, 'R']],\n",
       " [],\n",
       " [[7, 6, 'R']],\n",
       " [[1, 2, 'R'], [1, 3, 'R'], [4, 5, 'R']],\n",
       " [],\n",
       " [[1, 2, 'E'], [1, 3, 'E'], [1, 4, 'E'], [1, 5, 'E'], [4, 5, 'R']],\n",
       " [[1, 2, 'R']],\n",
       " [[2, 1, 'R'], [3, 2, 'R']],\n",
       " [],\n",
       " [[1, 4, 'R'], [1, 6, 'R'], [3, 4, 'R'], [5, 6, 'R']],\n",
       " [[6, 5, 'E'], [2, 1, 'R']],\n",
       " [[2, 4, 'R'],\n",
       "  [3, 2, 'R'],\n",
       "  [4, 5, 'R'],\n",
       "  [4, 6, 'R'],\n",
       "  [4, 7, 'R'],\n",
       "  [4, 8, 'R'],\n",
       "  [9, 4, 'R']],\n",
       " [],\n",
       " [],\n",
       " [[1, 2, 'R'], [4, 5, 'R']],\n",
       " [],\n",
       " [[4, 5, 'E'],\n",
       "  [4, 6, 'E'],\n",
       "  [4, 7, 'E'],\n",
       "  [4, 8, 'E'],\n",
       "  [4, 9, 'E'],\n",
       "  [2, 1, 'R'],\n",
       "  [9, 8, 'R']],\n",
       " [],\n",
       " [],\n",
       " [[2, 3, 'R']],\n",
       " [[5, 4, 'R'], [7, 8, 'R']],\n",
       " [],\n",
       " [[2, 1, 'R']],\n",
       " [],\n",
       " [],\n",
       " [[1, 2, 'R'],\n",
       "  [4, 2, 'R'],\n",
       "  [4, 3, 'R'],\n",
       "  [4, 5, 'R'],\n",
       "  [6, 2, 'R'],\n",
       "  [6, 3, 'R']],\n",
       " [],\n",
       " [],\n",
       " [[6, 5, 'R']],\n",
       " [],\n",
       " [],\n",
       " [[3, 2, 'R']],\n",
       " [[5, 6, 'R']],\n",
       " [],\n",
       " [[3, 4, 'R'], [6, 5, 'R'], [7, 8, 'R']],\n",
       " [[3, 4, 'R']],\n",
       " [[5, 6, 'R']],\n",
       " [[2, 1, 'R'], [4, 5, 'R'], [4, 7, 'R'], [6, 5, 'R'], [6, 7, 'R']],\n",
       " [[1, 2, 'R']],\n",
       " [],\n",
       " [[17, 18, 'R'], [20, 22, 'R']],\n",
       " [[5, 4, 'R'], [8, 9, 'R']],\n",
       " [[1, 2, 'R']],\n",
       " [[1, 4, 'R'],\n",
       "  [4, 5, 'R'],\n",
       "  [6, 5, 'R'],\n",
       "  [7, 4, 'R'],\n",
       "  [8, 9, 'R'],\n",
       "  [10, 11, 'R'],\n",
       "  [12, 13, 'R'],\n",
       "  [14, 13, 'R']],\n",
       " []]"
      ]
     },
     "execution_count": 37,
     "metadata": {},
     "output_type": "execute_result"
    }
   ],
   "source": [
    "grounds_aric"
   ]
  },
  {
   "cell_type": "code",
   "execution_count": 38,
   "id": "2b6d1dd1",
   "metadata": {},
   "outputs": [],
   "source": [
    "def safe_eval(s):\n",
    "    try:\n",
    "        return ast.literal_eval(s)\n",
    "    except (SyntaxError, ValueError):\n",
    "        # Fix unquoted 'reason' strings like: (3, 1, reason') → (3, 1, 'reason')\n",
    "        s = re.sub(r\"\\((\\d+),\\s*(\\d+),\\s*([a-zA-Z_][a-zA-Z0-9_]*)'\\)\", r\"(\\1, \\2, '\\3')\", s)\n",
    "        try:\n",
    "            return ast.literal_eval(s)\n",
    "        except Exception as e:\n",
    "            print(\"Still failed to parse:\", s)\n",
    "            return {}"
   ]
  },
  {
   "cell_type": "code",
   "execution_count": 39,
   "id": "872fe838",
   "metadata": {},
   "outputs": [],
   "source": [
    "predictions_aric = []\n",
    "\n",
    "for x in preds_global:\n",
    "    try:\n",
    "        output_line = x.replace('### Output:\\n', '').strip().split('\\n')[1]\n",
    "        parsed = safe_eval(output_line)\n",
    "        if isinstance(parsed, dict) and \"relation_types\" in parsed:\n",
    "            predictions_aric.append(parsed[\"relation_types\"])\n",
    "        else:\n",
    "            predictions_aric.append([])  # Fallback for malformed inputs\n",
    "    except Exception as e:\n",
    "        print(f\"Error parsing line: {x}\\n{e}\")\n",
    "        predictions_aric.append([])  # Add empty entry on failure"
   ]
  },
  {
   "cell_type": "code",
   "execution_count": 40,
   "id": "c73fb8ad",
   "metadata": {},
   "outputs": [
    {
     "data": {
      "text/plain": [
       "(150, 150)"
      ]
     },
     "execution_count": 40,
     "metadata": {},
     "output_type": "execute_result"
    }
   ],
   "source": [
    "len(grounds_aric), len(predictions_aric)"
   ]
  },
  {
   "cell_type": "code",
   "execution_count": 41,
   "id": "ee8ff61a",
   "metadata": {},
   "outputs": [],
   "source": [
    "def process_grounds_aric(grounds_l, nr_acs):\n",
    "    \n",
    "    relations_aric = []\n",
    "    \n",
    "    relation_dict = {(i, j): rel for i, j, rel in grounds_l}\n",
    "    \n",
    "    for i in range(1, nr_acs + 1):\n",
    "        for j in range(1, nr_acs + 1):\n",
    "            if i != j:\n",
    "                relation = relation_dict.get((i, j), \"NR\")\n",
    "                relations_aric.append((i, j, relation))\n",
    "                \n",
    "    return relations_aric"
   ]
  },
  {
   "cell_type": "code",
   "execution_count": 42,
   "id": "8ba6452f",
   "metadata": {},
   "outputs": [],
   "source": [
    "nr_acs_l = [len(elem) for elem in grounds_acc]"
   ]
  },
  {
   "cell_type": "code",
   "execution_count": 43,
   "id": "b5318d27",
   "metadata": {},
   "outputs": [],
   "source": [
    "ground_relations = []\n",
    "\n",
    "for i, j in zip(grounds_aric, nr_acs_l):\n",
    "    ground_relations.append(process_grounds_aric(i, j))"
   ]
  },
  {
   "cell_type": "code",
   "execution_count": 44,
   "id": "666e87e5",
   "metadata": {},
   "outputs": [
    {
     "data": {
      "text/plain": [
       "150"
      ]
     },
     "execution_count": 44,
     "metadata": {},
     "output_type": "execute_result"
    }
   ],
   "source": [
    "len(ground_relations)"
   ]
  },
  {
   "cell_type": "code",
   "execution_count": 45,
   "id": "8a060aaf",
   "metadata": {},
   "outputs": [],
   "source": [
    "def process_predictions_aric(predictions_l, nr_acs):\n",
    "    \n",
    "    relations_aric = []\n",
    "    \n",
    "    relation_dict = {(i, j): rel for i, j, rel in predictions_l}\n",
    "    \n",
    "    for i in range(1, nr_acs + 1):\n",
    "        for j in range(1, nr_acs + 1):\n",
    "            if i != j:\n",
    "                relation = relation_dict.get((i, j), \"NR\")\n",
    "                relations_aric.append((i, j, relation))\n",
    "                \n",
    "    return relations_aric"
   ]
  },
  {
   "cell_type": "code",
   "execution_count": 46,
   "id": "7b583b9f",
   "metadata": {},
   "outputs": [],
   "source": [
    "prediction_relations = []\n",
    "\n",
    "for i, j in zip(predictions_aric, nr_acs_l):\n",
    "    prediction_relations.append(process_predictions_aric(i, j))"
   ]
  },
  {
   "cell_type": "code",
   "execution_count": 47,
   "id": "7f776ce8",
   "metadata": {},
   "outputs": [
    {
     "data": {
      "text/plain": [
       "150"
      ]
     },
     "execution_count": 47,
     "metadata": {},
     "output_type": "execute_result"
    }
   ],
   "source": [
    "len(prediction_relations)"
   ]
  },
  {
   "cell_type": "code",
   "execution_count": 48,
   "id": "edb6f976",
   "metadata": {},
   "outputs": [],
   "source": [
    "grounds_l = [elem[2] for sl in ground_relations for elem in sl]\n",
    "predictions_l = [elem[2] for sl in prediction_relations for elem in sl]"
   ]
  },
  {
   "cell_type": "code",
   "execution_count": 49,
   "id": "d93028d6",
   "metadata": {},
   "outputs": [
    {
     "data": {
      "text/plain": [
       "(10328, 10328)"
      ]
     },
     "execution_count": 49,
     "metadata": {},
     "output_type": "execute_result"
    }
   ],
   "source": [
    "len(grounds_l), len(predictions_l)"
   ]
  },
  {
   "cell_type": "code",
   "execution_count": 50,
   "id": "3cacd3d1",
   "metadata": {},
   "outputs": [
    {
     "name": "stdout",
     "output_type": "stream",
     "text": [
      "              precision    recall  f1-score   support\n",
      "\n",
      "           E      0.000     0.000     0.000        26\n",
      "          NR      0.980     0.984     0.982     10004\n",
      "           R      0.422     0.406     0.414       298\n",
      "\n",
      "    accuracy                          0.964     10328\n",
      "   macro avg      0.467     0.463     0.465     10328\n",
      "weighted avg      0.961     0.964     0.963     10328\n",
      "\n"
     ]
    }
   ],
   "source": [
    "print(classification_report(grounds_l, predictions_l, digits=3))"
   ]
  },
  {
   "cell_type": "raw",
   "id": "2842d2b7",
   "metadata": {
    "vscode": {
     "languageId": "raw"
    }
   },
   "source": [
    "precision    recall  f1-score   support\n",
    "\n",
    "       N-Rel      0.985     0.988     0.986     10078\n",
    "         Rel      0.434     0.380     0.405       250\n",
    "\n",
    "    accuracy                          0.973     10328\n",
    "   macro avg      0.709     0.684     0.696     10328\n",
    "weighted avg      0.971     0.973     0.972     10328\n",
    "\n",
    "old results\n",
    "\n",
    "\n",
    "precision    recall  f1-score   support\n",
    "\n",
    "          NR      0.982     0.989     0.986      8606\n",
    "    evidence      0.000     0.000     0.000        19\n",
    "      reason      0.507     0.427     0.464       239\n",
    "\n",
    "    accuracy                          0.972      8864\n",
    "   macro avg      0.497     0.472     0.483      8864\n",
    "weighted avg      0.968     0.972     0.969      8864\n",
    "\n",
    "\n",
    "8b"
   ]
  }
 ],
 "metadata": {
  "kernelspec": {
   "display_name": "Python (17M_env)",
   "language": "python",
   "name": "17m_env"
  },
  "language_info": {
   "codemirror_mode": {
    "name": "ipython",
    "version": 3
   },
   "file_extension": ".py",
   "mimetype": "text/x-python",
   "name": "python",
   "nbconvert_exporter": "python",
   "pygments_lexer": "ipython3",
   "version": "3.11.11"
  }
 },
 "nbformat": 4,
 "nbformat_minor": 5
}
