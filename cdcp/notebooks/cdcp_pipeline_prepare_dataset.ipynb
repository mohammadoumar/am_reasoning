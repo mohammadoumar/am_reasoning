{
 "cells": [
  {
   "cell_type": "markdown",
   "id": "9b092f16-851d-4a47-ae4f-2a85603d6c77",
   "metadata": {},
   "source": [
    "# Prepare dataset (jsonl file)"
   ]
  },
  {
   "cell_type": "markdown",
   "id": "8798ef15",
   "metadata": {},
   "source": [
    "- Prepare CDCP datasets for llama factory.\n",
    "\n",
    "- Joint Task\n",
    "\n",
    "- We create the data files: `CDCP_joint_train.json`, `CDCP_joint_test.json`"
   ]
  },
  {
   "cell_type": "markdown",
   "id": "afdfbf4b-663f-41af-85a1-266a48239c9e",
   "metadata": {},
   "source": [
    "## Libraries"
   ]
  },
  {
   "cell_type": "code",
   "execution_count": 1,
   "id": "872238e4-5235-4176-bd84-4cc384bca8d4",
   "metadata": {
    "tags": []
   },
   "outputs": [],
   "source": [
    "import os\n",
    "import json\n",
    "import datasets\n",
    "\n",
    "import pandas as pd\n",
    "from pathlib import Path\n",
    "from datasets import load_dataset"
   ]
  },
  {
   "cell_type": "markdown",
   "id": "7af75678-bbcc-4cfa-9b81-c9a66d170182",
   "metadata": {},
   "source": [
    "## Load Data"
   ]
  },
  {
   "cell_type": "code",
   "execution_count": 2,
   "id": "fccf6a27-07f6-4582-9160-01cd030b47a8",
   "metadata": {},
   "outputs": [
    {
     "data": {
      "application/vnd.jupyter.widget-view+json": {
       "model_id": "4fa707e8921944e7bd576769cf652757",
       "version_major": 2,
       "version_minor": 0
      },
      "text/plain": [
       "README.md:   0%|          | 0.00/9.53k [00:00<?, ?B/s]"
      ]
     },
     "metadata": {},
     "output_type": "display_data"
    },
    {
     "data": {
      "application/vnd.jupyter.widget-view+json": {
       "model_id": "796ec7f58f104a109488f2cc0b7ca033",
       "version_major": 2,
       "version_minor": 0
      },
      "text/plain": [
       "cdcp.py:   0%|          | 0.00/7.90k [00:00<?, ?B/s]"
      ]
     },
     "metadata": {},
     "output_type": "display_data"
    }
   ],
   "source": [
    "cdcp_dataset = load_dataset(\"DFKI-SLT/cdcp\", trust_remote_code=True)"
   ]
  },
  {
   "cell_type": "code",
   "execution_count": 3,
   "id": "44fadc88-bba2-4f88-9d00-8b4ffd2153f7",
   "metadata": {},
   "outputs": [
    {
     "data": {
      "text/plain": [
       "DatasetDict({\n",
       "    train: Dataset({\n",
       "        features: ['id', 'text', 'propositions', 'relations'],\n",
       "        num_rows: 580\n",
       "    })\n",
       "    test: Dataset({\n",
       "        features: ['id', 'text', 'propositions', 'relations'],\n",
       "        num_rows: 150\n",
       "    })\n",
       "})"
      ]
     },
     "execution_count": 3,
     "metadata": {},
     "output_type": "execute_result"
    }
   ],
   "source": [
    "cdcp_dataset"
   ]
  },
  {
   "cell_type": "code",
   "execution_count": 4,
   "id": "2dd1e1a7-a1dd-4d0e-9f25-8fe27b41649b",
   "metadata": {},
   "outputs": [
    {
     "data": {
      "text/plain": [
       "{'id': '00525',\n",
       " 'text': \"AT & T is notorious for setting up new accounts that don't have an official phone number attached. I was put in the situation of having an 800 number that AT & T customer service reps could not find in their system. I had no way to cancel it! Eventually the false 100 dollar debt went to a debt collector. I respectfully explained that the debt was not valid, in a letter. A few months later I got a letter from a different debt collector. Again I wrote a letter. A few months later another letter over the same faux debt from a third debt collector.\",\n",
       " 'propositions': {'start': [0, 98, 215, 242, 305, 372, 439, 463],\n",
       "  'end': [98, 215, 242, 305, 372, 439, 463, 550],\n",
       "  'label': [0, 3, 3, 3, 3, 3, 3, 3],\n",
       "  'url': ['', '', '', '', '', '', '', '']},\n",
       " 'relations': {'head': [0, 0, 0, 0, 0, 0, 0],\n",
       "  'tail': [1, 2, 3, 4, 5, 6, 7],\n",
       "  'label': [0, 0, 0, 0, 0, 0, 0]}}"
      ]
     },
     "execution_count": 4,
     "metadata": {},
     "output_type": "execute_result"
    }
   ],
   "source": [
    "cdcp_dataset['test'][43] # type: ignore"
   ]
  },
  {
   "cell_type": "code",
   "execution_count": 5,
   "id": "597edae9",
   "metadata": {},
   "outputs": [],
   "source": [
    "def build_data(dataset):\n",
    "    \n",
    "    data = []\n",
    "    \n",
    "    for sample in dataset:\n",
    "    \n",
    "        id = sample['id']\n",
    "        rel_sources = sample[\"relations\"][\"head\"]\n",
    "        rel_targets = sample[\"relations\"][\"tail\"]\n",
    "        rel_labels = sample[\"relations\"][\"label\"]\n",
    "        \n",
    "        acs = []\n",
    "        rels = []\n",
    "        \n",
    "        class_labels = [\"fact\", \"policy\", \"reference\", \"testimony\", \"value\"]\n",
    "        relation_labels = [\"evidence\", \"reason\"]   \n",
    "        \n",
    "        \n",
    "        text = sample[\"text\"]\n",
    "        start_idxs = sample[\"propositions\"]['start']\n",
    "        end_idxs = sample[\"propositions\"]['end']\n",
    "        \n",
    "        for i, j in zip(start_idxs, end_idxs):\n",
    "            \n",
    "            acs.append(text[i:j+1].strip())\n",
    "            \n",
    "        ac_labels = [class_labels[i] for i in sample[\"propositions\"]['label']]\n",
    "        \n",
    "        for i in range(len(rel_sources)):\n",
    "\n",
    "            rel = (rel_sources[i]+1, rel_targets[i]+1, relation_labels[rel_labels[i]])\n",
    "            rels.append(rel)\n",
    "            \n",
    "        data.append([id, text, acs, ac_labels, rel_sources, rel_targets, rel_labels, rels])\n",
    "        \n",
    "    return data\n",
    "        \n",
    "    "
   ]
  },
  {
   "cell_type": "code",
   "execution_count": 6,
   "id": "334ce188",
   "metadata": {},
   "outputs": [],
   "source": [
    "train_data = build_data(cdcp_dataset['train'])"
   ]
  },
  {
   "cell_type": "code",
   "execution_count": 7,
   "id": "be6e1cc9",
   "metadata": {},
   "outputs": [],
   "source": [
    "test_data = build_data(cdcp_dataset['test'])"
   ]
  },
  {
   "cell_type": "code",
   "execution_count": 8,
   "id": "36c36014",
   "metadata": {},
   "outputs": [
    {
     "data": {
      "text/plain": [
       "(580, 150)"
      ]
     },
     "execution_count": 8,
     "metadata": {},
     "output_type": "execute_result"
    }
   ],
   "source": [
    "len(train_data), len(test_data)"
   ]
  },
  {
   "cell_type": "code",
   "execution_count": 9,
   "id": "1d535b52",
   "metadata": {},
   "outputs": [],
   "source": [
    "train_df = pd.DataFrame(train_data, columns=[\"id\", \"text\", \"acs_list\", \"ac_types\", \"rel_sources\", \"rel_targets\", \"rel_types\", \"relations\"])\n",
    "test_df = pd.DataFrame(test_data, columns=[\"id\", \"text\", \"acs_list\", \"ac_types\", \"rel_sources\", \"rel_targets\", \"rel_types\", \"relations\"])"
   ]
  },
  {
   "cell_type": "code",
   "execution_count": 10,
   "id": "b6521edc",
   "metadata": {},
   "outputs": [
    {
     "data": {
      "text/html": [
       "<div>\n",
       "<style scoped>\n",
       "    .dataframe tbody tr th:only-of-type {\n",
       "        vertical-align: middle;\n",
       "    }\n",
       "\n",
       "    .dataframe tbody tr th {\n",
       "        vertical-align: top;\n",
       "    }\n",
       "\n",
       "    .dataframe thead th {\n",
       "        text-align: right;\n",
       "    }\n",
       "</style>\n",
       "<table border=\"1\" class=\"dataframe\">\n",
       "  <thead>\n",
       "    <tr style=\"text-align: right;\">\n",
       "      <th></th>\n",
       "      <th>id</th>\n",
       "      <th>text</th>\n",
       "      <th>acs_list</th>\n",
       "      <th>ac_types</th>\n",
       "      <th>rel_sources</th>\n",
       "      <th>rel_targets</th>\n",
       "      <th>rel_types</th>\n",
       "      <th>relations</th>\n",
       "    </tr>\n",
       "  </thead>\n",
       "  <tbody>\n",
       "    <tr>\n",
       "      <th>0</th>\n",
       "      <td>00195</td>\n",
       "      <td>State and local court rules sometimes make def...</td>\n",
       "      <td>[State and local court rules sometimes make de...</td>\n",
       "      <td>[value, value, policy]</td>\n",
       "      <td>[0, 2]</td>\n",
       "      <td>[1, 0]</td>\n",
       "      <td>[1, 1]</td>\n",
       "      <td>[(1, 2, reason), (3, 1, reason)]</td>\n",
       "    </tr>\n",
       "    <tr>\n",
       "      <th>1</th>\n",
       "      <td>00197</td>\n",
       "      <td>There is currently a split between the Ninth a...</td>\n",
       "      <td>[There is currently a split between the Ninth ...</td>\n",
       "      <td>[fact, fact, value, policy]</td>\n",
       "      <td>[3]</td>\n",
       "      <td>[0]</td>\n",
       "      <td>[1]</td>\n",
       "      <td>[(4, 1, reason)]</td>\n",
       "    </tr>\n",
       "    <tr>\n",
       "      <th>2</th>\n",
       "      <td>00198</td>\n",
       "      <td>In many districts where bad check diversion pr...</td>\n",
       "      <td>[In many districts where bad check diversion p...</td>\n",
       "      <td>[fact, fact, policy, policy]</td>\n",
       "      <td>[2]</td>\n",
       "      <td>[0]</td>\n",
       "      <td>[1]</td>\n",
       "      <td>[(3, 1, reason)]</td>\n",
       "    </tr>\n",
       "    <tr>\n",
       "      <th>3</th>\n",
       "      <td>00200</td>\n",
       "      <td>Consumer attorneys occasionally advise their c...</td>\n",
       "      <td>[Consumer attorneys occasionally advise their ...</td>\n",
       "      <td>[fact, policy]</td>\n",
       "      <td>[1]</td>\n",
       "      <td>[0]</td>\n",
       "      <td>[1]</td>\n",
       "      <td>[(2, 1, reason)]</td>\n",
       "    </tr>\n",
       "    <tr>\n",
       "      <th>4</th>\n",
       "      <td>00201</td>\n",
       "      <td>When an attorney is a 'Debt Collector' (as per...</td>\n",
       "      <td>[When an attorney is a 'Debt Collector' (as pe...</td>\n",
       "      <td>[fact, policy, fact, fact, fact, fact, fact, f...</td>\n",
       "      <td>[2, 5, 8]</td>\n",
       "      <td>[3, 6, 9]</td>\n",
       "      <td>[1, 1, 1]</td>\n",
       "      <td>[(3, 4, reason), (6, 7, reason), (9, 10, reason)]</td>\n",
       "    </tr>\n",
       "    <tr>\n",
       "      <th>...</th>\n",
       "      <td>...</td>\n",
       "      <td>...</td>\n",
       "      <td>...</td>\n",
       "      <td>...</td>\n",
       "      <td>...</td>\n",
       "      <td>...</td>\n",
       "      <td>...</td>\n",
       "      <td>...</td>\n",
       "    </tr>\n",
       "    <tr>\n",
       "      <th>575</th>\n",
       "      <td>01409</td>\n",
       "      <td>it still bothers me that \"financial literacy\" ...</td>\n",
       "      <td>[it still bothers me that \"financial literacy\"...</td>\n",
       "      <td>[value, value, fact, fact, fact, value, testim...</td>\n",
       "      <td>[6]</td>\n",
       "      <td>[7]</td>\n",
       "      <td>[0]</td>\n",
       "      <td>[(7, 8, evidence)]</td>\n",
       "    </tr>\n",
       "    <tr>\n",
       "      <th>576</th>\n",
       "      <td>01410</td>\n",
       "      <td>Even when the right person is hauled into cour...</td>\n",
       "      <td>[Even when the right person is hauled into cou...</td>\n",
       "      <td>[value, policy, fact, policy, policy]</td>\n",
       "      <td>[3, 4]</td>\n",
       "      <td>[2, 2]</td>\n",
       "      <td>[1, 1]</td>\n",
       "      <td>[(4, 3, reason), (5, 3, reason)]</td>\n",
       "    </tr>\n",
       "    <tr>\n",
       "      <th>577</th>\n",
       "      <td>01412</td>\n",
       "      <td>This Draft Summary of Discussion fails to addr...</td>\n",
       "      <td>[This Draft Summary of Discussion fails to add...</td>\n",
       "      <td>[value, value, value, fact, fact, value, value...</td>\n",
       "      <td>[3, 4, 2, 2, 2, 8, 10]</td>\n",
       "      <td>[12, 14, 3, 4, 6, 9, 11]</td>\n",
       "      <td>[0, 0, 1, 1, 1, 1, 1]</td>\n",
       "      <td>[(4, 13, evidence), (5, 15, evidence), (3, 4, ...</td>\n",
       "    </tr>\n",
       "    <tr>\n",
       "      <th>578</th>\n",
       "      <td>01414</td>\n",
       "      <td>I would disagree that there is confusion among...</td>\n",
       "      <td>[I would disagree that there is confusion amon...</td>\n",
       "      <td>[value, testimony, policy, value, value, polic...</td>\n",
       "      <td>[2, 11]</td>\n",
       "      <td>[3, 8]</td>\n",
       "      <td>[1, 1]</td>\n",
       "      <td>[(3, 4, reason), (12, 9, reason)]</td>\n",
       "    </tr>\n",
       "    <tr>\n",
       "      <th>579</th>\n",
       "      <td>01417</td>\n",
       "      <td>I respectfully disagree with your assessment. ...</td>\n",
       "      <td>[I respectfully disagree with your assessment....</td>\n",
       "      <td>[value, value, value, policy, fact, value, fac...</td>\n",
       "      <td>[0, 5, 11, 12]</td>\n",
       "      <td>[1, 6, 10, 11]</td>\n",
       "      <td>[1, 1, 1, 1]</td>\n",
       "      <td>[(1, 2, reason), (6, 7, reason), (12, 11, reas...</td>\n",
       "    </tr>\n",
       "  </tbody>\n",
       "</table>\n",
       "<p>580 rows × 8 columns</p>\n",
       "</div>"
      ],
      "text/plain": [
       "        id                                               text  \\\n",
       "0    00195  State and local court rules sometimes make def...   \n",
       "1    00197  There is currently a split between the Ninth a...   \n",
       "2    00198  In many districts where bad check diversion pr...   \n",
       "3    00200  Consumer attorneys occasionally advise their c...   \n",
       "4    00201  When an attorney is a 'Debt Collector' (as per...   \n",
       "..     ...                                                ...   \n",
       "575  01409  it still bothers me that \"financial literacy\" ...   \n",
       "576  01410  Even when the right person is hauled into cour...   \n",
       "577  01412  This Draft Summary of Discussion fails to addr...   \n",
       "578  01414  I would disagree that there is confusion among...   \n",
       "579  01417  I respectfully disagree with your assessment. ...   \n",
       "\n",
       "                                              acs_list  \\\n",
       "0    [State and local court rules sometimes make de...   \n",
       "1    [There is currently a split between the Ninth ...   \n",
       "2    [In many districts where bad check diversion p...   \n",
       "3    [Consumer attorneys occasionally advise their ...   \n",
       "4    [When an attorney is a 'Debt Collector' (as pe...   \n",
       "..                                                 ...   \n",
       "575  [it still bothers me that \"financial literacy\"...   \n",
       "576  [Even when the right person is hauled into cou...   \n",
       "577  [This Draft Summary of Discussion fails to add...   \n",
       "578  [I would disagree that there is confusion amon...   \n",
       "579  [I respectfully disagree with your assessment....   \n",
       "\n",
       "                                              ac_types  \\\n",
       "0                               [value, value, policy]   \n",
       "1                          [fact, fact, value, policy]   \n",
       "2                         [fact, fact, policy, policy]   \n",
       "3                                       [fact, policy]   \n",
       "4    [fact, policy, fact, fact, fact, fact, fact, f...   \n",
       "..                                                 ...   \n",
       "575  [value, value, fact, fact, fact, value, testim...   \n",
       "576              [value, policy, fact, policy, policy]   \n",
       "577  [value, value, value, fact, fact, value, value...   \n",
       "578  [value, testimony, policy, value, value, polic...   \n",
       "579  [value, value, value, policy, fact, value, fac...   \n",
       "\n",
       "                rel_sources               rel_targets              rel_types  \\\n",
       "0                    [0, 2]                    [1, 0]                 [1, 1]   \n",
       "1                       [3]                       [0]                    [1]   \n",
       "2                       [2]                       [0]                    [1]   \n",
       "3                       [1]                       [0]                    [1]   \n",
       "4                 [2, 5, 8]                 [3, 6, 9]              [1, 1, 1]   \n",
       "..                      ...                       ...                    ...   \n",
       "575                     [6]                       [7]                    [0]   \n",
       "576                  [3, 4]                    [2, 2]                 [1, 1]   \n",
       "577  [3, 4, 2, 2, 2, 8, 10]  [12, 14, 3, 4, 6, 9, 11]  [0, 0, 1, 1, 1, 1, 1]   \n",
       "578                 [2, 11]                    [3, 8]                 [1, 1]   \n",
       "579          [0, 5, 11, 12]            [1, 6, 10, 11]           [1, 1, 1, 1]   \n",
       "\n",
       "                                             relations  \n",
       "0                     [(1, 2, reason), (3, 1, reason)]  \n",
       "1                                     [(4, 1, reason)]  \n",
       "2                                     [(3, 1, reason)]  \n",
       "3                                     [(2, 1, reason)]  \n",
       "4    [(3, 4, reason), (6, 7, reason), (9, 10, reason)]  \n",
       "..                                                 ...  \n",
       "575                                 [(7, 8, evidence)]  \n",
       "576                   [(4, 3, reason), (5, 3, reason)]  \n",
       "577  [(4, 13, evidence), (5, 15, evidence), (3, 4, ...  \n",
       "578                  [(3, 4, reason), (12, 9, reason)]  \n",
       "579  [(1, 2, reason), (6, 7, reason), (12, 11, reas...  \n",
       "\n",
       "[580 rows x 8 columns]"
      ]
     },
     "execution_count": 10,
     "metadata": {},
     "output_type": "execute_result"
    }
   ],
   "source": [
    "train_df"
   ]
  },
  {
   "cell_type": "code",
   "execution_count": 11,
   "id": "b068af8f",
   "metadata": {},
   "outputs": [
    {
     "data": {
      "text/html": [
       "<div>\n",
       "<style scoped>\n",
       "    .dataframe tbody tr th:only-of-type {\n",
       "        vertical-align: middle;\n",
       "    }\n",
       "\n",
       "    .dataframe tbody tr th {\n",
       "        vertical-align: top;\n",
       "    }\n",
       "\n",
       "    .dataframe thead th {\n",
       "        text-align: right;\n",
       "    }\n",
       "</style>\n",
       "<table border=\"1\" class=\"dataframe\">\n",
       "  <thead>\n",
       "    <tr style=\"text-align: right;\">\n",
       "      <th></th>\n",
       "      <th>id</th>\n",
       "      <th>text</th>\n",
       "      <th>acs_list</th>\n",
       "      <th>ac_types</th>\n",
       "      <th>rel_sources</th>\n",
       "      <th>rel_targets</th>\n",
       "      <th>rel_types</th>\n",
       "      <th>relations</th>\n",
       "    </tr>\n",
       "  </thead>\n",
       "  <tbody>\n",
       "    <tr>\n",
       "      <th>0</th>\n",
       "      <td>00194</td>\n",
       "      <td>Recently, courts have held that debt collector...</td>\n",
       "      <td>[Recently, courts have held that debt collecto...</td>\n",
       "      <td>[fact, value, policy]</td>\n",
       "      <td>[2]</td>\n",
       "      <td>[1]</td>\n",
       "      <td>[1]</td>\n",
       "      <td>[(3, 2, reason)]</td>\n",
       "    </tr>\n",
       "    <tr>\n",
       "      <th>1</th>\n",
       "      <td>00196</td>\n",
       "      <td>When alleged debtors are served with state cou...</td>\n",
       "      <td>[When alleged debtors are served with state co...</td>\n",
       "      <td>[value, policy, policy, policy, policy]</td>\n",
       "      <td>[]</td>\n",
       "      <td>[]</td>\n",
       "      <td>[]</td>\n",
       "      <td>[]</td>\n",
       "    </tr>\n",
       "    <tr>\n",
       "      <th>2</th>\n",
       "      <td>00199</td>\n",
       "      <td>To avoid consumers getting sued repeatedly on ...</td>\n",
       "      <td>[To avoid consumers getting sued repeatedly on...</td>\n",
       "      <td>[policy, policy]</td>\n",
       "      <td>[]</td>\n",
       "      <td>[]</td>\n",
       "      <td>[]</td>\n",
       "      <td>[]</td>\n",
       "    </tr>\n",
       "    <tr>\n",
       "      <th>3</th>\n",
       "      <td>00226</td>\n",
       "      <td>The solution to this problem is a mandate that...</td>\n",
       "      <td>[The solution to this problem is a mandate tha...</td>\n",
       "      <td>[value, value]</td>\n",
       "      <td>[]</td>\n",
       "      <td>[]</td>\n",
       "      <td>[]</td>\n",
       "      <td>[]</td>\n",
       "    </tr>\n",
       "    <tr>\n",
       "      <th>4</th>\n",
       "      <td>00236</td>\n",
       "      <td>If the present mortgage repayment debacle is a...</td>\n",
       "      <td>[If the present mortgage repayment debacle is ...</td>\n",
       "      <td>[value, value, value, testimony, value]</td>\n",
       "      <td>[4, 4]</td>\n",
       "      <td>[2, 3]</td>\n",
       "      <td>[1, 1]</td>\n",
       "      <td>[(5, 3, reason), (5, 4, reason)]</td>\n",
       "    </tr>\n",
       "    <tr>\n",
       "      <th>...</th>\n",
       "      <td>...</td>\n",
       "      <td>...</td>\n",
       "      <td>...</td>\n",
       "      <td>...</td>\n",
       "      <td>...</td>\n",
       "      <td>...</td>\n",
       "      <td>...</td>\n",
       "      <td>...</td>\n",
       "    </tr>\n",
       "    <tr>\n",
       "      <th>145</th>\n",
       "      <td>01388</td>\n",
       "      <td>I appreciate Mr. Bartmann's comments but they ...</td>\n",
       "      <td>[I appreciate Mr. Bartmann's comments, but the...</td>\n",
       "      <td>[value, value, fact, fact, value, value, testi...</td>\n",
       "      <td>[16, 19]</td>\n",
       "      <td>[17, 21]</td>\n",
       "      <td>[1, 1]</td>\n",
       "      <td>[(17, 18, reason), (20, 22, reason)]</td>\n",
       "    </tr>\n",
       "    <tr>\n",
       "      <th>146</th>\n",
       "      <td>01398</td>\n",
       "      <td>This is the PROBLEM over and over Why should l...</td>\n",
       "      <td>[This is the PROBLEM over and over, Why should...</td>\n",
       "      <td>[value, policy, value, value, value, value, va...</td>\n",
       "      <td>[4, 7]</td>\n",
       "      <td>[3, 8]</td>\n",
       "      <td>[1, 1]</td>\n",
       "      <td>[(5, 4, reason), (8, 9, reason)]</td>\n",
       "    </tr>\n",
       "    <tr>\n",
       "      <th>147</th>\n",
       "      <td>01405</td>\n",
       "      <td>I disagree. Keeping a paper trail protects eve...</td>\n",
       "      <td>[I disagree., Keeping a paper trail protects e...</td>\n",
       "      <td>[value, value]</td>\n",
       "      <td>[0]</td>\n",
       "      <td>[1]</td>\n",
       "      <td>[1]</td>\n",
       "      <td>[(1, 2, reason)]</td>\n",
       "    </tr>\n",
       "    <tr>\n",
       "      <th>148</th>\n",
       "      <td>01411</td>\n",
       "      <td>The Permissible hours of 9am - 8 pm is good. I...</td>\n",
       "      <td>[The Permissible hours of 9am - 8 pm is good.,...</td>\n",
       "      <td>[value, value, value, value, value, value, val...</td>\n",
       "      <td>[0, 3, 5, 6, 7, 9, 11, 13]</td>\n",
       "      <td>[3, 4, 4, 3, 8, 10, 12, 12]</td>\n",
       "      <td>[1, 1, 1, 1, 1, 1, 1, 1]</td>\n",
       "      <td>[(1, 4, reason), (4, 5, reason), (6, 5, reason...</td>\n",
       "    </tr>\n",
       "    <tr>\n",
       "      <th>149</th>\n",
       "      <td>01418</td>\n",
       "      <td>For further reference on debt tolling: __URL__...</td>\n",
       "      <td>[For further reference on debt tolling: __URL_...</td>\n",
       "      <td>[reference, value, value]</td>\n",
       "      <td>[]</td>\n",
       "      <td>[]</td>\n",
       "      <td>[]</td>\n",
       "      <td>[]</td>\n",
       "    </tr>\n",
       "  </tbody>\n",
       "</table>\n",
       "<p>150 rows × 8 columns</p>\n",
       "</div>"
      ],
      "text/plain": [
       "        id                                               text  \\\n",
       "0    00194  Recently, courts have held that debt collector...   \n",
       "1    00196  When alleged debtors are served with state cou...   \n",
       "2    00199  To avoid consumers getting sued repeatedly on ...   \n",
       "3    00226  The solution to this problem is a mandate that...   \n",
       "4    00236  If the present mortgage repayment debacle is a...   \n",
       "..     ...                                                ...   \n",
       "145  01388  I appreciate Mr. Bartmann's comments but they ...   \n",
       "146  01398  This is the PROBLEM over and over Why should l...   \n",
       "147  01405  I disagree. Keeping a paper trail protects eve...   \n",
       "148  01411  The Permissible hours of 9am - 8 pm is good. I...   \n",
       "149  01418  For further reference on debt tolling: __URL__...   \n",
       "\n",
       "                                              acs_list  \\\n",
       "0    [Recently, courts have held that debt collecto...   \n",
       "1    [When alleged debtors are served with state co...   \n",
       "2    [To avoid consumers getting sued repeatedly on...   \n",
       "3    [The solution to this problem is a mandate tha...   \n",
       "4    [If the present mortgage repayment debacle is ...   \n",
       "..                                                 ...   \n",
       "145  [I appreciate Mr. Bartmann's comments, but the...   \n",
       "146  [This is the PROBLEM over and over, Why should...   \n",
       "147  [I disagree., Keeping a paper trail protects e...   \n",
       "148  [The Permissible hours of 9am - 8 pm is good.,...   \n",
       "149  [For further reference on debt tolling: __URL_...   \n",
       "\n",
       "                                              ac_types  \\\n",
       "0                                [fact, value, policy]   \n",
       "1              [value, policy, policy, policy, policy]   \n",
       "2                                     [policy, policy]   \n",
       "3                                       [value, value]   \n",
       "4              [value, value, value, testimony, value]   \n",
       "..                                                 ...   \n",
       "145  [value, value, fact, fact, value, value, testi...   \n",
       "146  [value, policy, value, value, value, value, va...   \n",
       "147                                     [value, value]   \n",
       "148  [value, value, value, value, value, value, val...   \n",
       "149                          [reference, value, value]   \n",
       "\n",
       "                    rel_sources                  rel_targets  \\\n",
       "0                           [2]                          [1]   \n",
       "1                            []                           []   \n",
       "2                            []                           []   \n",
       "3                            []                           []   \n",
       "4                        [4, 4]                       [2, 3]   \n",
       "..                          ...                          ...   \n",
       "145                    [16, 19]                     [17, 21]   \n",
       "146                      [4, 7]                       [3, 8]   \n",
       "147                         [0]                          [1]   \n",
       "148  [0, 3, 5, 6, 7, 9, 11, 13]  [3, 4, 4, 3, 8, 10, 12, 12]   \n",
       "149                          []                           []   \n",
       "\n",
       "                    rel_types  \\\n",
       "0                         [1]   \n",
       "1                          []   \n",
       "2                          []   \n",
       "3                          []   \n",
       "4                      [1, 1]   \n",
       "..                        ...   \n",
       "145                    [1, 1]   \n",
       "146                    [1, 1]   \n",
       "147                       [1]   \n",
       "148  [1, 1, 1, 1, 1, 1, 1, 1]   \n",
       "149                        []   \n",
       "\n",
       "                                             relations  \n",
       "0                                     [(3, 2, reason)]  \n",
       "1                                                   []  \n",
       "2                                                   []  \n",
       "3                                                   []  \n",
       "4                     [(5, 3, reason), (5, 4, reason)]  \n",
       "..                                                 ...  \n",
       "145               [(17, 18, reason), (20, 22, reason)]  \n",
       "146                   [(5, 4, reason), (8, 9, reason)]  \n",
       "147                                   [(1, 2, reason)]  \n",
       "148  [(1, 4, reason), (4, 5, reason), (6, 5, reason...  \n",
       "149                                                 []  \n",
       "\n",
       "[150 rows x 8 columns]"
      ]
     },
     "execution_count": 11,
     "metadata": {},
     "output_type": "execute_result"
    }
   ],
   "source": [
    "test_df"
   ]
  },
  {
   "cell_type": "code",
   "execution_count": 12,
   "id": "63fc1dab",
   "metadata": {},
   "outputs": [],
   "source": [
    "def sanity_check(row):\n",
    "    \n",
    "    acs_check = 1 if (len(row.acs_list) == len(row.ac_types)) else 0\n",
    "    rels_check = 1 if (len(row.rel_sources) == len(row.rel_targets) == len(row.rel_types) == len(row.relations)) else 0\n",
    "    \n",
    "    return 1 if acs_check and rels_check else 0"
   ]
  },
  {
   "cell_type": "code",
   "execution_count": 13,
   "id": "2357e2f7",
   "metadata": {},
   "outputs": [],
   "source": [
    "train_df['sanity'] = train_df.apply(lambda row: sanity_check(row), axis=1)\n",
    "test_df['sanity'] = test_df.apply(lambda row: sanity_check(row), axis=1)"
   ]
  },
  {
   "cell_type": "code",
   "execution_count": 14,
   "id": "5776c6f7",
   "metadata": {},
   "outputs": [
    {
     "data": {
      "text/plain": [
       "(sanity\n",
       " 1    580\n",
       " Name: count, dtype: int64,\n",
       " sanity\n",
       " 1    150\n",
       " Name: count, dtype: int64)"
      ]
     },
     "execution_count": 14,
     "metadata": {},
     "output_type": "execute_result"
    }
   ],
   "source": [
    "train_df['sanity'].value_counts(), test_df['sanity'].value_counts()"
   ]
  },
  {
   "cell_type": "code",
   "execution_count": 15,
   "id": "aa6307c6",
   "metadata": {},
   "outputs": [
    {
     "data": {
      "text/plain": [
       "['00538',\n",
       " 'People get fired for personal calls at work. I worked at a place where employee phone call was recorded and randomly monitored due to the sensitivity of our work. And every now and then an employee would get caught making/taking a personal phone call and would be fired with no questions asked. Work is not the place for personal business.',\n",
       " ['People get fired for personal calls at work.',\n",
       "  'I worked at a place where employee phone call was recorded and randomly monitored due to the sensitivity of our work.',\n",
       "  'And every now and then an employee would get caught making/taking a personal phone call and would be fired with no questions asked.',\n",
       "  'Work is not the place for personal business.'],\n",
       " ['fact', 'testimony', 'testimony', 'value'],\n",
       " [0, 0, 3],\n",
       " [1, 2, 0],\n",
       " [0, 0, 1],\n",
       " [(1, 2, 'evidence'), (1, 3, 'evidence'), (4, 1, 'reason')]]"
      ]
     },
     "execution_count": 15,
     "metadata": {},
     "output_type": "execute_result"
    }
   ],
   "source": [
    "train_data[159]"
   ]
  },
  {
   "cell_type": "markdown",
   "id": "f906d3ed",
   "metadata": {},
   "source": [
    "### Build Prompts"
   ]
  },
  {
   "cell_type": "raw",
   "id": "989b8b61-76b8-486a-9b9b-21ab46f66012",
   "metadata": {
    "vscode": {
     "languageId": "raw"
    }
   },
   "source": [
    "# def write_instruction(nr_acs):\n",
    "\n",
    "#     results = json.dumps([\"component_type (str)\"] * nr_acs)\n",
    "\n",
    "#     instruction = f\"\"\"### You are an expert in Argument Mining. You are given a text which contains numbered argument components enclosed by <AC></AC> tags. Your task is to classify the argument components in the text as well as to identify and classify argument relations between the argument components. For each argument component, its component_type (str) is either \"fact\", \"policy\", \"reference\", \"testimony\" or \"value\". For each argument relation (source_component (int), target_component (int)), its relation_type (str) is either \"evidence\" or \"reason\". \n",
    "\n",
    "# You must return two lists in following JSON format: {{\"component_types\": [component_type (str), ..., component_type (str)], \"argument_relations_and_types\": [[source_component (int), target_component (int), relation_type (str)], ..., [source_component (int), target_component (int), relation_type (str)]]}}.\n",
    "\n",
    "# The first list \"component_types\", strictly of length {nr_acs}, must be in following JSON format: {{\"component_types\": {results}}} where each element \"component_type (str)\" is replaced by either \"fact\", \"policy\", \"reference\", \"testimony\" or \"value\".\n",
    "\n",
    "# The second list \"argument_relations_and_types\" must be a list of triplets in the following JSON format: {{\"argument_relations_and_types\": [[source_component (int), target_component (int), relation_type (str)], ..., [source_component (int), target_component (int), relation_type (str)]]}} where each element \"relation_type (str)\" is replaced by either \"evidence\" or \"reason\".\n",
    "# \"\"\"\n",
    "    \n",
    "#     return instruction\n",
    "\n",
    "['P', 'P', 'V', 'V', 'V', 'V', 'P', 'V', 'V']\n",
    "\n"
   ]
  },
  {
   "cell_type": "code",
   "execution_count": 16,
   "id": "dc6041a1-f9ff-4098-a684-dd51eb92e7c8",
   "metadata": {},
   "outputs": [],
   "source": [
    "def formatting_fct(instruction=\"\", input=\"\", output=\"\"):\n",
    "    \n",
    "    prompt_d ={\n",
    "            \n",
    "        \"instruction\": f\"\"\"{instruction}\"\"\",\n",
    "        \"input\": f\"\"\"{input}\"\"\",\n",
    "        \"output\": f\"\"\"{output}\"\"\"\n",
    "            \n",
    "        }\n",
    "    \n",
    "    return prompt_d"
   ]
  },
  {
   "cell_type": "code",
   "execution_count": 17,
   "id": "1c056016",
   "metadata": {},
   "outputs": [],
   "source": [
    "def build_instruction():\n",
    "    \n",
    "    instruction = \"\"\"### You are an expert in Argument Mining tasked with analyzing user comments on Consumer Debt Collection Practices (CDCP) rule by the Consumer Financial Protection Bureau (CFPB). \n",
    "\n",
    "INPUT:\n",
    "You will receive:\n",
    "- The complete user comment.\n",
    "- An enumerated list of identified arguments extracted from the user comment.\n",
    "\n",
    "TASK 1: Argument Classification\n",
    "- Classify each argument in the user comment into one of the following categories: \"fact\"(F), \"policy\"(P), \"reference\"(R), \"testimony\"(T) or \"value\"(V).\n",
    "- \"fact\"(F): expressing or dealing with facts or conditions as perceived without distortion by personal feelings, prejudices, or interpretations\n",
    "- \"policy\"(P): a specific course of action to be taken, typically contains modal verbs like \"should\" and \"ought to\"\n",
    "- \"reference\"(R): a source of objective evidence\n",
    "- \"testimony\"(T): an objective proposition about the author's personal state or experience\n",
    "- \"value\"(V): judgments without making specific claims about what should be done\n",
    "- You must return a list of argument types in following JSON format: {\"argument_types\": [argument_types (str), argument_types (str), ..., argument_types (str)]}\n",
    "\n",
    "TASK 2: Argument Relations Identification and Classification\n",
    "- Identify relationships between arguments by determining which arguments evidence or reason for other arguments.\n",
    "- For each related argument pair, classify the relationship as either: \"evidence\"(E) or \"reason\"(R).\n",
    "- \"evidence\"(E): X (testimony, fact, reference) is evidence for a proposition Y if X proves whether proposition Y is true or not\n",
    "- \"reason\"(R): X (source) is reason for a proposition Y (target; policy, value, fact, testimony) if X provides rationale for Y\n",
    "- You must return a list of triplets in the following JSON format: {\"argument_relations\": [(target_index (int), source_index (int), relation_type (str)), (target_index (int), source_index (int), relation_type (str)), ...]}\n",
    "- Note: Indices are 1-based, referring to the position in the provided arguments list.\n",
    "\n",
    "Example:\n",
    "\n",
    "### Output:\n",
    "{\"argument_types\": ['F', 'T', 'T', 'V']}\n",
    "{\"argument_relations\": [(1, 2, 'E'), (1, 3, 'E'), (4, 1, 'R')]}\n",
    "\"\"\"\n",
    "\n",
    "    return instruction"
   ]
  },
  {
   "cell_type": "code",
   "execution_count": 24,
   "id": "31a55082-ec6e-40c9-a754-43175e6dbc7b",
   "metadata": {},
   "outputs": [],
   "source": [
    "def build_input(text, acs_l):\n",
    "\n",
    "    text = f\"\"\"### User comment:\\n{text}\\n\\n\"\"\"\n",
    "    acs = \"### List of arguments in the user comment: \\n\" + '\\n'.join(f\"{i + 1}. {ac}\" for i, ac in enumerate(acs_l)) + \"\\n\\n\"\n",
    "\n",
    "    return text + acs"
   ]
  },
  {
   "cell_type": "code",
   "execution_count": 25,
   "id": "cfae3867-aa66-44f5-bebc-90b4e4b11dd8",
   "metadata": {},
   "outputs": [],
   "source": [
    "def build_output(ac_types, relations):\n",
    "    \n",
    "    class_labels_d = {\"fact\": \"F\", \"policy\": \"P\", \"reference\": \"R\", \"testimony\": \"T\", \"value\": \"V\"}\n",
    "    relation_labels_d = {\"evidence\": \"E\", \"reason\": \"R\"}\n",
    "    \n",
    "    ac_types = [class_labels_d[elem] for elem in ac_types]\n",
    "    relations = [(i, j, relation_labels_d[elem]) for i, j, elem in relations]\n",
    "\n",
    "    output_indic = \"### Output:\\n\"\n",
    "    ac_types = f'{{\"argument_types\": {ac_types}}}\\n'\n",
    "    rels_types = f'{{\"relation_types\": {relations}}}\\n'\n",
    "    \n",
    "    return output_indic + ac_types + rels_types"
   ]
  },
  {
   "cell_type": "markdown",
   "id": "a0fa5d61-2b62-4050-a089-2705a327c556",
   "metadata": {},
   "source": [
    "## Create Data Files"
   ]
  },
  {
   "cell_type": "code",
   "execution_count": 26,
   "id": "dd1e9b28-bb55-41ff-a927-372b933574e0",
   "metadata": {},
   "outputs": [],
   "source": [
    "data_file_train = []\n",
    "\n",
    "for _, row in train_df.iterrows():\n",
    "\n",
    "\n",
    "    instruction = build_instruction()\n",
    "    question = build_input(row.text, row.acs_list)\n",
    "    answer = build_output(row.ac_types, row.relations)\n",
    "    \n",
    "    data_file_train.append(formatting_fct(instruction, question, answer))"
   ]
  },
  {
   "cell_type": "code",
   "execution_count": 27,
   "id": "b7ef4fc0-7cfc-4c4b-b81b-237cbdbc1b51",
   "metadata": {},
   "outputs": [
    {
     "data": {
      "text/plain": [
       "580"
      ]
     },
     "execution_count": 27,
     "metadata": {},
     "output_type": "execute_result"
    }
   ],
   "source": [
    "len(data_file_train)"
   ]
  },
  {
   "cell_type": "code",
   "execution_count": 28,
   "id": "f40b355c-2b04-47b3-92d4-d75a191903c5",
   "metadata": {},
   "outputs": [
    {
     "name": "stdout",
     "output_type": "stream",
     "text": [
      "### You are an expert in Argument Mining tasked with analyzing user comments on Consumer Debt Collection Practices (CDCP) rule by the Consumer Financial Protection Bureau (CFPB). \n",
      "\n",
      "INPUT:\n",
      "You will receive:\n",
      "- The complete user comment.\n",
      "- An enumerated list of identified arguments extracted from the user comment.\n",
      "\n",
      "TASK 1: Argument Classification\n",
      "- Classify each argument in the user comment into one of the following categories: \"fact\"(F), \"policy\"(P), \"reference\"(R), \"testimony\"(T) or \"value\"(V).\n",
      "- \"fact\"(F): expressing or dealing with facts or conditions as perceived without distortion by personal feelings, prejudices, or interpretations\n",
      "- \"policy\"(P): a specific course of action to be taken, typically contains modal verbs like \"should\" and \"ought to\"\n",
      "- \"reference\"(R): a source of objective evidence\n",
      "- \"testimony\"(T): an objective proposition about the author's personal state or experience\n",
      "- \"value\"(V): judgments without making specific claims about what should be done\n",
      "- You must return a list of argument types in following JSON format: {\"argument_types\": [argument_types (str), argument_types (str), ..., argument_types (str)]}\n",
      "\n",
      "TASK 2: Argument Relations Identification and Classification\n",
      "- Identify relationships between arguments by determining which arguments evidence or reason for other arguments.\n",
      "- For each related argument pair, classify the relationship as either: \"evidence\"(E) or \"reason\"(R).\n",
      "- \"evidence\"(E): X (testimony, fact, reference) is evidence for a proposition Y if X proves whether proposition Y is true or not\n",
      "- \"reason\"(R): X (source) is reason for a proposition Y (target; policy, value, fact, testimony) if X provides rationale for Y\n",
      "- You must return a list of triplets in the following JSON format: {\"argument_relations\": [(target_index (int), source_index (int), relation_type (str)), (target_index (int), source_index (int), relation_type (str)), ...]}\n",
      "- Note: Indices are 1-based, referring to the position in the provided arguments list.\n",
      "\n",
      "Example:\n",
      "\n",
      "### Output:\n",
      "{\"argument_types\": ['F', 'T', 'T', 'V']}\n",
      "{\"argument_relations\": [(1, 2, 'E'), (1, 3, 'E'), (4, 1, 'R')]}\n",
      "\n"
     ]
    }
   ],
   "source": [
    "print(data_file_train[0]['instruction'])"
   ]
  },
  {
   "cell_type": "code",
   "execution_count": 29,
   "id": "a46e5f3e",
   "metadata": {},
   "outputs": [
    {
     "name": "stdout",
     "output_type": "stream",
     "text": [
      "### User comment:\n",
      "State and local court rules sometimes make default judgments much more likely. For example, when a person who allegedly owes a debt is told to come to court on a work day, they may be forced to choose between a default judgment and their job. I urge the CFPB to find practices that involve scheduling hearings at inconvenient times unfair, deceptive, and abusive, or inconsistent with 1692i.\n",
      "\n",
      "### List of arguments in the user comment: \n",
      "1. State and local court rules sometimes make default judgments much more likely.\n",
      "2. For example, when a person who allegedly owes a debt is told to come to court on a work day, they may be forced to choose between a default judgment and their job.\n",
      "3. I urge the CFPB to find practices that involve scheduling hearings at inconvenient times unfair, deceptive, and abusive, or inconsistent with 1692i.\n",
      "\n",
      "\n"
     ]
    }
   ],
   "source": [
    "print(data_file_train[0]['input'])"
   ]
  },
  {
   "cell_type": "code",
   "execution_count": 30,
   "id": "042fb150",
   "metadata": {},
   "outputs": [
    {
     "name": "stdout",
     "output_type": "stream",
     "text": [
      "### Output:\n",
      "{\"argument_types\": ['V', 'V', 'P']}\n",
      "{\"relation_types\": [(1, 2, 'R'), (3, 1, 'R')]}\n",
      "\n"
     ]
    }
   ],
   "source": [
    "print(data_file_train[0]['output'])"
   ]
  },
  {
   "cell_type": "code",
   "execution_count": 31,
   "id": "3d724e7b-c002-45f3-ad2c-0341069d91ea",
   "metadata": {},
   "outputs": [],
   "source": [
    "data_file_test = []\n",
    "\n",
    "for _, row in test_df.iterrows():\n",
    "\n",
    "\n",
    "    instruction = build_instruction()\n",
    "    question = build_input(row.text, row.acs_list)\n",
    "    answer = build_output(row.ac_types, row.relations)\n",
    "    \n",
    "    data_file_test.append(formatting_fct(instruction, question, answer))"
   ]
  },
  {
   "cell_type": "code",
   "execution_count": 32,
   "id": "0ef8d353-526e-48e4-89c4-d7e05082fd4a",
   "metadata": {},
   "outputs": [
    {
     "data": {
      "text/plain": [
       "150"
      ]
     },
     "execution_count": 32,
     "metadata": {},
     "output_type": "execute_result"
    }
   ],
   "source": [
    "len(data_file_test)"
   ]
  },
  {
   "cell_type": "code",
   "execution_count": 33,
   "id": "1edc9c98-3134-4515-a301-28ef58864f38",
   "metadata": {},
   "outputs": [
    {
     "name": "stdout",
     "output_type": "stream",
     "text": [
      "### You are an expert in Argument Mining tasked with analyzing user comments on Consumer Debt Collection Practices (CDCP) rule by the Consumer Financial Protection Bureau (CFPB). \n",
      "\n",
      "INPUT:\n",
      "You will receive:\n",
      "- The complete user comment.\n",
      "- An enumerated list of identified arguments extracted from the user comment.\n",
      "\n",
      "TASK 1: Argument Classification\n",
      "- Classify each argument in the user comment into one of the following categories: \"fact\"(F), \"policy\"(P), \"reference\"(R), \"testimony\"(T) or \"value\"(V).\n",
      "- \"fact\"(F): expressing or dealing with facts or conditions as perceived without distortion by personal feelings, prejudices, or interpretations\n",
      "- \"policy\"(P): a specific course of action to be taken, typically contains modal verbs like \"should\" and \"ought to\"\n",
      "- \"reference\"(R): a source of objective evidence\n",
      "- \"testimony\"(T): an objective proposition about the author's personal state or experience\n",
      "- \"value\"(V): judgments without making specific claims about what should be done\n",
      "- You must return a list of argument types in following JSON format: {\"argument_types\": [argument_types (str), argument_types (str), ..., argument_types (str)]}\n",
      "\n",
      "TASK 2: Argument Relations Identification and Classification\n",
      "- Identify relationships between arguments by determining which arguments evidence or reason for other arguments.\n",
      "- For each related argument pair, classify the relationship as either: \"evidence\"(E) or \"reason\"(R).\n",
      "- \"evidence\"(E): X (testimony, fact, reference) is evidence for a proposition Y if X proves whether proposition Y is true or not\n",
      "- \"reason\"(R): X (source) is reason for a proposition Y (target; policy, value, fact, testimony) if X provides rationale for Y\n",
      "- You must return a list of triplets in the following JSON format: {\"argument_relations\": [(target_index (int), source_index (int), relation_type (str)), (target_index (int), source_index (int), relation_type (str)), ...]}\n",
      "- Note: Indices are 1-based, referring to the position in the provided arguments list.\n",
      "\n",
      "Example:\n",
      "\n",
      "### Output:\n",
      "{\"argument_types\": ['F', 'T', 'T', 'V']}\n",
      "{\"argument_relations\": [(1, 2, 'E'), (1, 3, 'E'), (4, 1, 'R')]}\n",
      "\n"
     ]
    }
   ],
   "source": [
    "print(data_file_test[0]['instruction'])"
   ]
  },
  {
   "cell_type": "code",
   "execution_count": 34,
   "id": "93a56b8d",
   "metadata": {},
   "outputs": [
    {
     "name": "stdout",
     "output_type": "stream",
     "text": [
      "### User comment:\n",
      "Recently, courts have held that debt collectors can escape 1692i's venue provisions entirely by pursuing debt collection through arbitration instead. As the NAF studies reflect, arbitration has not proven a satisfactory alternative. I urge the CFPB to include in a rule language interpreting 1692i as requiring debt collectors to proceed in court, not through largely-unregulated arbitral forums.\n",
      "\n",
      "### List of arguments in the user comment: \n",
      "1. Recently, courts have held that debt collectors can escape 1692i's venue provisions entirely by pursuing debt collection through arbitration instead.\n",
      "2. As the NAF studies reflect, arbitration has not proven a satisfactory alternative.\n",
      "3. I urge the CFPB to include in a rule language interpreting 1692i as requiring debt collectors to proceed in court, not through largely-unregulated arbitral forums.\n",
      "\n",
      "\n"
     ]
    }
   ],
   "source": [
    "print(data_file_test[0]['input'])"
   ]
  },
  {
   "cell_type": "code",
   "execution_count": 35,
   "id": "29d2d5b9",
   "metadata": {},
   "outputs": [
    {
     "name": "stdout",
     "output_type": "stream",
     "text": [
      "### Output:\n",
      "{\"argument_types\": ['F', 'V', 'P']}\n",
      "{\"relation_types\": [(3, 2, 'R')]}\n",
      "\n"
     ]
    }
   ],
   "source": [
    "print(data_file_test[0]['output'])"
   ]
  },
  {
   "cell_type": "markdown",
   "id": "13a8dad5-0a92-4460-a027-64e9d6ffba6a",
   "metadata": {},
   "source": [
    "## Save `jsonl` files"
   ]
  },
  {
   "cell_type": "code",
   "execution_count": 36,
   "id": "70c54081",
   "metadata": {},
   "outputs": [],
   "source": [
    "DATASETS_DIR = Path(\"/home/umushtaq/am_reasoning/cdcp/datasets\")"
   ]
  },
  {
   "cell_type": "code",
   "execution_count": 37,
   "id": "828863ac-a9f2-497a-8a1f-92b7685d1a48",
   "metadata": {
    "tags": []
   },
   "outputs": [],
   "source": [
    "file_path = DATASETS_DIR / \"cdcp_pipeline_train.json\"\n",
    "\n",
    "with open(file_path, 'w') as file:\n",
    "    \n",
    "    json.dump(data_file_train, file)"
   ]
  },
  {
   "cell_type": "code",
   "execution_count": 38,
   "id": "7c0ed1c8-af63-42e5-831b-7a4b501241f7",
   "metadata": {
    "tags": []
   },
   "outputs": [],
   "source": [
    "file_path = DATASETS_DIR / \"cdcp_pipeline_test.json\"\n",
    "\n",
    "with open(file_path, 'w') as file:\n",
    "    \n",
    "    json.dump(data_file_test, file)"
   ]
  },
  {
   "cell_type": "raw",
   "id": "6da58108-5314-4861-9e1e-58da1517f5b2",
   "metadata": {},
   "source": [
    "### You are an expert in Argument Mining. You are given a text which contains numbered argument components enclosed by <AC></AC> tags. Your task is to classify each argument components in the text as either \"fact\", \"policy\", \"reference\", \"testimony\" or \"value\". You must return a list of argument component types, strictly of length 3, in following JSON format: {\"component_types\": [component_type (str), component_type (str), ..., component_type (str)]}\\n"
   ]
  }
 ],
 "metadata": {
  "kernelspec": {
   "display_name": "icdar_env",
   "language": "python",
   "name": "python3"
  },
  "language_info": {
   "codemirror_mode": {
    "name": "ipython",
    "version": 3
   },
   "file_extension": ".py",
   "mimetype": "text/x-python",
   "name": "python",
   "nbconvert_exporter": "python",
   "pygments_lexer": "ipython3",
   "version": "3.10.16"
  }
 },
 "nbformat": 4,
 "nbformat_minor": 5
}
