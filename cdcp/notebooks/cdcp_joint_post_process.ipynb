{
 "cells": [
  {
   "cell_type": "markdown",
   "id": "671272c9-0c9d-4265-a75b-480471345729",
   "metadata": {},
   "source": [
    "# Joint Task Post-Processing"
   ]
  },
  {
   "cell_type": "markdown",
   "id": "1165cbdc-bb7a-48d3-b17d-442687c00173",
   "metadata": {},
   "source": [
    "## Libraries"
   ]
  },
  {
   "cell_type": "code",
   "execution_count": 1,
   "id": "d3de7add-5182-4d9f-af93-5446726c9d34",
   "metadata": {},
   "outputs": [],
   "source": [
    "import os\n",
    "import pickle\n",
    "import json\n",
    "import pandas as pd\n",
    "import ast"
   ]
  },
  {
   "cell_type": "code",
   "execution_count": 2,
   "id": "b730bdf5-bfc3-4ddd-980d-fadf1211c638",
   "metadata": {},
   "outputs": [],
   "source": [
    "#am_work/coling_2025/cdcp/finetuned_models_run3/CDCP_acc_mistral-7b-instruct-v0.3-bnb-4bit"
   ]
  },
  {
   "cell_type": "code",
   "execution_count": 3,
   "id": "2c9015fa-e4a5-4f93-ac36-af34da3df038",
   "metadata": {},
   "outputs": [],
   "source": [
    "# nb_epochs = 0.2\n",
    "# OUTPUT_DIR = \"../finetuned_models_run3/CDCP_acc_mistral-7b-instruct-v0.3-bnb-4bit\""
   ]
  },
  {
   "cell_type": "code",
   "execution_count": 4,
   "id": "bccd9d4b-e136-48ae-9d49-ee50f742743c",
   "metadata": {},
   "outputs": [],
   "source": [
    "with open(\"/Utilisateurs/umushtaq/am_reasoning/cdcp/saved_models/cdcp_pipeline_Meta-Llama-3.1-8B-Instruct-bnb-4bit/cdcp_pipeline_results_5.pickle\", \"rb\") as fh:\n",
    "        \n",
    "        results = pickle.load(fh)"
   ]
  },
  {
   "cell_type": "code",
   "execution_count": 5,
   "id": "fab70013-5bf8-4685-b643-a05ecfcab4a5",
   "metadata": {
    "scrolled": true
   },
   "outputs": [
    {
     "data": {
      "text/plain": [
       "{'grounds': ['### Output:\\n{\"argument_types\": [\\'fact\\', \\'value\\', \\'policy\\']}\\n{\"relation_types\": [(3, 2, \\'reason\\')]}\\n',\n",
       "  '### Output:\\n{\"argument_types\": [\\'value\\', \\'policy\\', \\'policy\\', \\'policy\\', \\'policy\\']}\\n{\"relation_types\": []}\\n',\n",
       "  '### Output:\\n{\"argument_types\": [\\'policy\\', \\'policy\\']}\\n{\"relation_types\": []}\\n',\n",
       "  '### Output:\\n{\"argument_types\": [\\'value\\', \\'value\\']}\\n{\"relation_types\": []}\\n',\n",
       "  '### Output:\\n{\"argument_types\": [\\'value\\', \\'value\\', \\'value\\', \\'testimony\\', \\'value\\']}\\n{\"relation_types\": [(5, 3, \\'reason\\'), (5, 4, \\'reason\\')]}\\n',\n",
       "  '### Output:\\n{\"argument_types\": [\\'testimony\\', \\'testimony\\', \\'testimony\\', \\'value\\', \\'value\\', \\'policy\\']}\\n{\"relation_types\": [(5, 1, \\'reason\\'), (5, 2, \\'reason\\'), (5, 3, \\'reason\\'), (5, 4, \\'reason\\')]}\\n',\n",
       "  '### Output:\\n{\"argument_types\": [\\'value\\', \\'fact\\', \\'testimony\\', \\'testimony\\', \\'testimony\\']}\\n{\"relation_types\": [(2, 3, \\'evidence\\'), (2, 4, \\'evidence\\'), (2, 5, \\'evidence\\'), (1, 4, \\'reason\\'), (1, 5, \\'reason\\')]}\\n',\n",
       "  '### Output:\\n{\"argument_types\": [\\'value\\', \\'testimony\\', \\'value\\', \\'value\\', \\'policy\\', \\'policy\\']}\\n{\"relation_types\": [(1, 2, \\'reason\\'), (4, 3, \\'reason\\'), (6, 3, \\'reason\\')]}\\n',\n",
       "  '### Output:\\n{\"argument_types\": [\\'testimony\\', \\'fact\\', \\'fact\\', \\'policy\\', \\'fact\\', \\'value\\', \\'fact\\', \\'fact\\', \\'fact\\', \\'value\\']}\\n{\"relation_types\": [(4, 5, \\'reason\\'), (4, 6, \\'reason\\'), (6, 8, \\'reason\\'), (6, 9, \\'reason\\'), (6, 10, \\'reason\\')]}\\n',\n",
       "  '### Output:\\n{\"argument_types\": [\\'value\\', \\'value\\', \\'value\\', \\'value\\']}\\n{\"relation_types\": [(1, 2, \\'reason\\'), (1, 4, \\'reason\\')]}\\n',\n",
       "  '### Output:\\n{\"argument_types\": [\\'fact\\', \\'value\\', \\'testimony\\', \\'testimony\\', \\'testimony\\', \\'policy\\', \\'value\\', \\'value\\']}\\n{\"relation_types\": [(2, 3, \\'reason\\'), (2, 4, \\'reason\\'), (2, 5, \\'reason\\'), (6, 7, \\'reason\\'), (6, 8, \\'reason\\')]}\\n',\n",
       "  '### Output:\\n{\"argument_types\": [\\'fact\\', \\'value\\', \\'policy\\', \\'value\\', \\'policy\\', \\'policy\\']}\\n{\"relation_types\": [(3, 4, \\'reason\\')]}\\n',\n",
       "  '### Output:\\n{\"argument_types\": [\\'value\\', \\'value\\', \\'fact\\', \\'value\\', \\'testimony\\', \\'policy\\']}\\n{\"relation_types\": [(1, 2, \\'reason\\'), (1, 3, \\'reason\\'), (5, 2, \\'reason\\')]}\\n',\n",
       "  '### Output:\\n{\"argument_types\": [\\'testimony\\', \\'fact\\', \\'value\\', \\'value\\']}\\n{\"relation_types\": []}\\n',\n",
       "  '### Output:\\n{\"argument_types\": [\\'value\\', \\'value\\', \\'value\\', \\'value\\']}\\n{\"relation_types\": [(2, 3, \\'reason\\'), (2, 4, \\'reason\\')]}\\n',\n",
       "  '### Output:\\n{\"argument_types\": [\\'value\\', \\'value\\', \\'value\\', \\'value\\']}\\n{\"relation_types\": [(1, 2, \\'reason\\'), (3, 4, \\'reason\\')]}\\n',\n",
       "  '### Output:\\n{\"argument_types\": [\\'policy\\', \\'fact\\', \\'fact\\', \\'fact\\']}\\n{\"relation_types\": [(1, 2, \\'reason\\'), (1, 3, \\'reason\\'), (1, 4, \\'reason\\')]}\\n',\n",
       "  '### Output:\\n{\"argument_types\": [\\'value\\', \\'testimony\\', \\'testimony\\', \\'testimony\\']}\\n{\"relation_types\": [(1, 2, \\'reason\\'), (1, 3, \\'reason\\'), (1, 4, \\'reason\\')]}\\n',\n",
       "  '### Output:\\n{\"argument_types\": [\\'testimony\\', \\'testimony\\', \\'testimony\\', \\'testimony\\']}\\n{\"relation_types\": []}\\n',\n",
       "  '### Output:\\n{\"argument_types\": [\\'value\\', \\'policy\\']}\\n{\"relation_types\": []}\\n',\n",
       "  '### Output:\\n{\"argument_types\": [\\'value\\', \\'value\\', \\'value\\', \\'value\\', \\'policy\\', \\'value\\']}\\n{\"relation_types\": [(1, 3, \\'reason\\'), (3, 2, \\'reason\\'), (5, 6, \\'reason\\')]}\\n',\n",
       "  '### Output:\\n{\"argument_types\": [\\'testimony\\', \\'value\\', \\'fact\\', \\'fact\\', \\'policy\\', \\'fact\\', \\'policy\\', \\'value\\', \\'value\\']}\\n{\"relation_types\": [(2, 3, \\'reason\\'), (2, 4, \\'reason\\'), (7, 8, \\'reason\\'), (8, 9, \\'reason\\')]}\\n',\n",
       "  '### Output:\\n{\"argument_types\": [\\'value\\', \\'testimony\\', \\'value\\', \\'value\\', \\'fact\\', \\'fact\\']}\\n{\"relation_types\": [(3, 4, \\'reason\\')]}\\n',\n",
       "  '### Output:\\n{\"argument_types\": [\\'testimony\\', \\'testimony\\']}\\n{\"relation_types\": []}\\n',\n",
       "  '### Output:\\n{\"argument_types\": [\\'fact\\', \\'value\\']}\\n{\"relation_types\": []}\\n',\n",
       "  '### Output:\\n{\"argument_types\": [\\'value\\', \\'value\\', \\'value\\', \\'testimony\\', \\'testimony\\', \\'value\\', \\'value\\', \\'testimony\\', \\'testimony\\', \\'testimony\\', \\'testimony\\', \\'value\\', \\'testimony\\', \\'testimony\\', \\'testimony\\', \\'testimony\\', \\'testimony\\', \\'testimony\\', \\'testimony\\', \\'testimony\\', \\'testimony\\', \\'testimony\\', \\'testimony\\', \\'testimony\\', \\'value\\', \\'value\\', \\'value\\']}\\n{\"relation_types\": [(2, 3, \\'reason\\'), (2, 4, \\'reason\\'), (2, 5, \\'reason\\'), (9, 11, \\'reason\\'), (9, 12, \\'reason\\'), (9, 10, \\'reason\\'), (14, 13, \\'reason\\'), (26, 25, \\'reason\\'), (26, 27, \\'reason\\')]}\\n',\n",
       "  '### Output:\\n{\"argument_types\": [\\'value\\', \\'value\\', \\'fact\\', \\'fact\\', \\'fact\\', \\'policy\\']}\\n{\"relation_types\": [(5, 4, \\'reason\\')]}\\n',\n",
       "  '### Output:\\n{\"argument_types\": [\\'policy\\', \\'policy\\', \\'policy\\']}\\n{\"relation_types\": []}\\n',\n",
       "  '### Output:\\n{\"argument_types\": [\\'testimony\\', \\'testimony\\', \\'fact\\', \\'testimony\\', \\'value\\', \\'policy\\', \\'value\\']}\\n{\"relation_types\": [(2, 3, \\'evidence\\'), (2, 4, \\'evidence\\'), (5, 1, \\'reason\\'), (5, 2, \\'reason\\'), (6, 7, \\'reason\\'), (7, 1, \\'reason\\'), (7, 2, \\'reason\\')]}\\n',\n",
       "  '### Output:\\n{\"argument_types\": [\\'value\\', \\'value\\', \\'value\\']}\\n{\"relation_types\": []}\\n',\n",
       "  '### Output:\\n{\"argument_types\": [\\'value\\', \\'fact\\', \\'policy\\', \\'policy\\', \\'policy\\', \\'testimony\\']}\\n{\"relation_types\": [(1, 2, \\'reason\\'), (5, 6, \\'reason\\')]}\\n',\n",
       "  '### Output:\\n{\"argument_types\": [\\'value\\', \\'value\\', \\'fact\\', \\'value\\', \\'fact\\']}\\n{\"relation_types\": []}\\n',\n",
       "  '### Output:\\n{\"argument_types\": [\\'testimony\\', \\'testimony\\', \\'testimony\\', \\'testimony\\', \\'testimony\\', \\'testimony\\', \\'value\\', \\'testimony\\', \\'testimony\\', \\'testimony\\', \\'testimony\\', \\'testimony\\', \\'value\\', \\'testimony\\', \\'value\\']}\\n{\"relation_types\": []}\\n',\n",
       "  '### Output:\\n{\"argument_types\": [\\'testimony\\', \\'value\\']}\\n{\"relation_types\": []}\\n',\n",
       "  '### Output:\\n{\"argument_types\": [\\'value\\', \\'fact\\', \\'policy\\']}\\n{\"relation_types\": []}\\n',\n",
       "  '### Output:\\n{\"argument_types\": [\\'policy\\', \\'value\\']}\\n{\"relation_types\": []}\\n',\n",
       "  '### Output:\\n{\"argument_types\": [\\'value\\', \\'policy\\', \\'fact\\']}\\n{\"relation_types\": [(2, 1, \\'reason\\')]}\\n',\n",
       "  '### Output:\\n{\"argument_types\": [\\'value\\', \\'testimony\\', \\'testimony\\', \\'value\\', \\'value\\', \\'value\\']}\\n{\"relation_types\": [(1, 2, \\'reason\\'), (1, 3, \\'reason\\'), (4, 5, \\'reason\\'), (6, 5, \\'reason\\')]}\\n',\n",
       "  '### Output:\\n{\"argument_types\": [\\'policy\\', \\'value\\', \\'value\\', \\'testimony\\', \\'value\\', \\'policy\\']}\\n{\"relation_types\": [(1, 3, \\'reason\\'), (1, 4, \\'reason\\'), (1, 5, \\'reason\\'), (6, 3, \\'reason\\'), (6, 4, \\'reason\\'), (6, 5, \\'reason\\')]}\\n',\n",
       "  '### Output:\\n{\"argument_types\": [\\'policy\\', \\'fact\\']}\\n{\"relation_types\": []}\\n',\n",
       "  '### Output:\\n{\"argument_types\": [\\'fact\\', \\'value\\', \\'testimony\\', \\'testimony\\', \\'value\\']}\\n{\"relation_types\": []}\\n',\n",
       "  '### Output:\\n{\"argument_types\": [\\'testimony\\', \\'testimony\\', \\'testimony\\', \\'testimony\\', \\'testimony\\', \\'testimony\\', \\'testimony\\', \\'value\\', \\'value\\', \\'value\\']}\\n{\"relation_types\": []}\\n',\n",
       "  '### Output:\\n{\"argument_types\": [\\'policy\\', \\'fact\\', \\'policy\\']}\\n{\"relation_types\": [(1, 2, \\'reason\\')]}\\n',\n",
       "  '### Output:\\n{\"argument_types\": [\\'fact\\', \\'testimony\\', \\'testimony\\', \\'testimony\\', \\'testimony\\', \\'testimony\\', \\'testimony\\', \\'testimony\\']}\\n{\"relation_types\": [(1, 2, \\'evidence\\'), (1, 3, \\'evidence\\'), (1, 4, \\'evidence\\'), (1, 5, \\'evidence\\'), (1, 6, \\'evidence\\'), (1, 7, \\'evidence\\'), (1, 8, \\'evidence\\')]}\\n',\n",
       "  '### Output:\\n{\"argument_types\": [\\'value\\', \\'value\\', \\'fact\\', \\'testimony\\', \\'fact\\', \\'fact\\', \\'value\\']}\\n{\"relation_types\": [(2, 3, \\'reason\\'), (2, 4, \\'reason\\'), (2, 5, \\'reason\\')]}\\n',\n",
       "  '### Output:\\n{\"argument_types\": [\\'value\\', \\'value\\', \\'policy\\', \\'value\\', \\'value\\']}\\n{\"relation_types\": []}\\n',\n",
       "  '### Output:\\n{\"argument_types\": [\\'policy\\', \\'value\\', \\'value\\', \\'value\\']}\\n{\"relation_types\": []}\\n',\n",
       "  '### Output:\\n{\"argument_types\": [\\'testimony\\', \\'testimony\\', \\'testimony\\', \\'testimony\\', \\'testimony\\', \\'testimony\\', \\'value\\', \\'policy\\']}\\n{\"relation_types\": [(4, 3, \\'reason\\'), (7, 6, \\'reason\\'), (8, 2, \\'reason\\'), (8, 4, \\'reason\\')]}\\n',\n",
       "  '### Output:\\n{\"argument_types\": [\\'fact\\', \\'fact\\', \\'fact\\', \\'value\\', \\'policy\\', \\'value\\', \\'value\\', \\'value\\', \\'value\\']}\\n{\"relation_types\": []}\\n',\n",
       "  '### Output:\\n{\"argument_types\": [\\'value\\', \\'value\\', \\'fact\\']}\\n{\"relation_types\": []}\\n',\n",
       "  '### Output:\\n{\"argument_types\": [\\'value\\', \\'fact\\', \\'value\\', \\'value\\', \\'value\\', \\'value\\', \\'value\\']}\\n{\"relation_types\": [(1, 2, \\'reason\\'), (1, 3, \\'reason\\'), (5, 6, \\'reason\\')]}\\n',\n",
       "  '### Output:\\n{\"argument_types\": [\\'policy\\', \\'fact\\', \\'value\\', \\'policy\\', \\'value\\', \\'policy\\', \\'value\\', \\'fact\\', \\'value\\', \\'value\\', \\'policy\\', \\'value\\', \\'value\\', \\'policy\\']}\\n{\"relation_types\": [(10, 9, \\'reason\\'), (12, 13, \\'reason\\')]}\\n',\n",
       "  '### Output:\\n{\"argument_types\": [\\'testimony\\', \\'testimony\\', \\'testimony\\', \\'testimony\\', \\'value\\', \\'fact\\', \\'value\\', \\'testimony\\', \\'fact\\', \\'fact\\', \\'value\\']}\\n{\"relation_types\": [(7, 8, \\'reason\\')]}\\n',\n",
       "  '### Output:\\n{\"argument_types\": [\\'value\\', \\'testimony\\', \\'testimony\\', \\'value\\', \\'value\\']}\\n{\"relation_types\": [(1, 2, \\'reason\\')]}\\n',\n",
       "  '### Output:\\n{\"argument_types\": [\\'policy\\', \\'fact\\', \\'testimony\\', \\'testimony\\', \\'testimony\\', \\'testimony\\', \\'value\\']}\\n{\"relation_types\": [(1, 2, \\'reason\\'), (7, 6, \\'reason\\')]}\\n',\n",
       "  '### Output:\\n{\"argument_types\": [\\'testimony\\', \\'testimony\\', \\'testimony\\', \\'testimony\\', \\'testimony\\', \\'testimony\\', \\'testimony\\', \\'testimony\\', \\'testimony\\', \\'value\\', \\'value\\', \\'value\\', \\'value\\', \\'value\\']}\\n{\"relation_types\": [(8, 9, \\'evidence\\'), (2, 3, \\'reason\\'), (12, 11, \\'reason\\'), (14, 13, \\'reason\\')]}\\n',\n",
       "  '### Output:\\n{\"argument_types\": [\\'value\\', \\'fact\\']}\\n{\"relation_types\": []}\\n',\n",
       "  '### Output:\\n{\"argument_types\": [\\'policy\\', \\'policy\\', \\'value\\', \\'value\\']}\\n{\"relation_types\": [(2, 3, \\'reason\\'), (2, 4, \\'reason\\')]}\\n',\n",
       "  '### Output:\\n{\"argument_types\": [\\'policy\\', \\'value\\', \\'policy\\', \\'value\\']}\\n{\"relation_types\": [(1, 3, \\'reason\\'), (1, 4, \\'reason\\')]}\\n',\n",
       "  '### Output:\\n{\"argument_types\": [\\'value\\', \\'testimony\\', \\'testimony\\', \\'testimony\\']}\\n{\"relation_types\": [(1, 2, \\'reason\\'), (1, 3, \\'reason\\'), (1, 4, \\'reason\\')]}\\n',\n",
       "  '### Output:\\n{\"argument_types\": [\\'policy\\', \\'testimony\\', \\'value\\', \\'value\\', \\'fact\\', \\'value\\', \\'value\\', \\'value\\', \\'value\\', \\'value\\', \\'policy\\', \\'policy\\', \\'value\\', \\'value\\', \\'policy\\']}\\n{\"relation_types\": [(1, 5, \\'reason\\'), (3, 4, \\'reason\\'), (3, 5, \\'reason\\'), (6, 7, \\'reason\\'), (11, 13, \\'reason\\'), (11, 14, \\'reason\\'), (12, 11, \\'reason\\'), (15, 13, \\'reason\\'), (15, 14, \\'reason\\')]}\\n',\n",
       "  '### Output:\\n{\"argument_types\": [\\'testimony\\', \\'testimony\\', \\'value\\', \\'fact\\', \\'value\\', \\'value\\', \\'testimony\\', \\'testimony\\']}\\n{\"relation_types\": [(3, 2, \\'reason\\')]}\\n',\n",
       "  '### Output:\\n{\"argument_types\": [\\'value\\', \\'testimony\\', \\'testimony\\', \\'value\\', \\'testimony\\', \\'value\\', \\'value\\', \\'value\\', \\'value\\', \\'testimony\\', \\'value\\', \\'value\\', \\'testimony\\', \\'testimony\\', \\'testimony\\', \\'value\\', \\'testimony\\', \\'testimony\\', \\'testimony\\', \\'value\\', \\'value\\']}\\n{\"relation_types\": [(1, 2, \\'reason\\'), (1, 3, \\'reason\\'), (4, 5, \\'reason\\'), (8, 9, \\'reason\\'), (12, 13, \\'reason\\'), (15, 16, \\'reason\\')]}\\n',\n",
       "  '### Output:\\n{\"argument_types\": [\\'testimony\\', \\'testimony\\', \\'testimony\\', \\'testimony\\', \\'testimony\\', \\'testimony\\']}\\n{\"relation_types\": []}\\n',\n",
       "  '### Output:\\n{\"argument_types\": [\\'policy\\', \\'value\\', \\'value\\', \\'value\\', \\'value\\', \\'value\\', \\'policy\\', \\'value\\']}\\n{\"relation_types\": [(1, 2, \\'reason\\'), (1, 3, \\'reason\\'), (1, 4, \\'reason\\'), (1, 5, \\'reason\\'), (1, 6, \\'reason\\'), (3, 4, \\'reason\\'), (4, 5, \\'reason\\'), (7, 8, \\'reason\\')]}\\n',\n",
       "  '### Output:\\n{\"argument_types\": [\\'fact\\', \\'fact\\', \\'testimony\\']}\\n{\"relation_types\": []}\\n',\n",
       "  '### Output:\\n{\"argument_types\": [\\'policy\\', \\'value\\', \\'value\\', \\'value\\', \\'value\\', \\'value\\']}\\n{\"relation_types\": [(1, 2, \\'reason\\'), (3, 4, \\'reason\\'), (6, 5, \\'reason\\')]}\\n',\n",
       "  '### Output:\\n{\"argument_types\": [\\'fact\\', \\'testimony\\', \\'testimony\\', \\'testimony\\', \\'policy\\', \\'policy\\', \\'policy\\']}\\n{\"relation_types\": [(1, 2, \\'evidence\\'), (1, 3, \\'evidence\\'), (1, 4, \\'evidence\\'), (6, 7, \\'reason\\')]}\\n',\n",
       "  '### Output:\\n{\"argument_types\": [\\'value\\', \\'policy\\', \\'policy\\', \\'policy\\']}\\n{\"relation_types\": []}\\n',\n",
       "  '### Output:\\n{\"argument_types\": [\\'value\\', \\'value\\', \\'fact\\']}\\n{\"relation_types\": [(2, 3, \\'reason\\')]}\\n',\n",
       "  '### Output:\\n{\"argument_types\": [\\'fact\\', \\'value\\', \\'testimony\\', \\'value\\']}\\n{\"relation_types\": []}\\n',\n",
       "  '### Output:\\n{\"argument_types\": [\\'value\\', \\'fact\\', \\'fact\\', \\'value\\', \\'value\\']}\\n{\"relation_types\": [(1, 2, \\'reason\\'), (1, 3, \\'reason\\')]}\\n',\n",
       "  '### Output:\\n{\"argument_types\": [\\'value\\', \\'value\\', \\'value\\']}\\n{\"relation_types\": [(1, 2, \\'reason\\'), (3, 2, \\'reason\\')]}\\n',\n",
       "  '### Output:\\n{\"argument_types\": [\\'value\\', \\'value\\', \\'value\\', \\'value\\', \\'testimony\\', \\'value\\', \\'testimony\\', \\'testimony\\', \\'testimony\\', \\'value\\', \\'testimony\\', \\'testimony\\', \\'testimony\\', \\'value\\', \\'value\\', \\'value\\', \\'value\\', \\'value\\', \\'value\\']}\\n{\"relation_types\": [(3, 4, \\'reason\\'), (4, 5, \\'reason\\'), (4, 6, \\'reason\\'), (4, 7, \\'reason\\'), (4, 8, \\'reason\\'), (4, 9, \\'reason\\'), (4, 10, \\'reason\\'), (4, 11, \\'reason\\'), (4, 12, \\'reason\\'), (4, 13, \\'reason\\'), (15, 16, \\'reason\\'), (17, 18, \\'reason\\'), (18, 19, \\'reason\\')]}\\n',\n",
       "  '### Output:\\n{\"argument_types\": [\\'value\\', \\'value\\', \\'value\\', \\'value\\', \\'value\\', \\'value\\', \\'value\\', \\'value\\', \\'value\\', \\'value\\', \\'value\\', \\'value\\', \\'value\\', \\'value\\', \\'value\\', \\'value\\', \\'value\\']}\\n{\"relation_types\": [(7, 8, \\'reason\\'), (9, 10, \\'reason\\'), (10, 11, \\'reason\\'), (16, 15, \\'reason\\')]}\\n',\n",
       "  '### Output:\\n{\"argument_types\": [\\'value\\', \\'value\\', \\'value\\', \\'value\\', \\'value\\', \\'value\\', \\'value\\', \\'fact\\', \\'fact\\', \\'value\\', \\'value\\', \\'value\\', \\'policy\\', \\'value\\', \\'fact\\', \\'fact\\', \\'value\\', \\'value\\', \\'policy\\', \\'policy\\', \\'value\\', \\'value\\', \\'policy\\', \\'policy\\', \\'policy\\', \\'policy\\', \\'value\\', \\'value\\', \\'value\\', \\'policy\\', \\'policy\\', \\'value\\', \\'policy\\', \\'value\\']}\\n{\"relation_types\": [(1, 2, \\'reason\\'), (1, 3, \\'reason\\'), (13, 14, \\'reason\\'), (20, 19, \\'reason\\'), (22, 21, \\'reason\\'), (27, 28, \\'reason\\'), (31, 32, \\'reason\\')]}\\n',\n",
       "  '### Output:\\n{\"argument_types\": [\\'policy\\', \\'value\\', \\'policy\\', \\'value\\']}\\n{\"relation_types\": [(1, 2, \\'reason\\'), (3, 4, \\'reason\\')]}\\n',\n",
       "  '### Output:\\n{\"argument_types\": [\\'fact\\', \\'value\\', \\'fact\\', \\'value\\']}\\n{\"relation_types\": [(3, 4, \\'reason\\')]}\\n',\n",
       "  '### Output:\\n{\"argument_types\": [\\'value\\', \\'value\\', \\'value\\', \\'fact\\', \\'value\\', \\'value\\', \\'fact\\', \\'value\\', \\'value\\', \\'value\\', \\'value\\', \\'policy\\', \\'value\\', \\'policy\\', \\'policy\\']}\\n{\"relation_types\": [(1, 2, \\'reason\\'), (2, 13, \\'reason\\'), (2, 3, \\'reason\\'), (2, 4, \\'reason\\'), (2, 6, \\'reason\\'), (2, 9, \\'reason\\'), (2, 10, \\'reason\\'), (5, 4, \\'reason\\'), (9, 8, \\'reason\\'), (11, 10, \\'reason\\'), (14, 13, \\'reason\\')]}\\n',\n",
       "  '### Output:\\n{\"argument_types\": [\\'fact\\', \\'value\\', \\'value\\', \\'value\\']}\\n{\"relation_types\": [(3, 2, \\'reason\\'), (4, 3, \\'reason\\')]}\\n',\n",
       "  '### Output:\\n{\"argument_types\": [\\'testimony\\', \\'testimony\\', \\'testimony\\', \\'testimony\\', \\'testimony\\', \\'testimony\\', \\'testimony\\', \\'value\\', \\'value\\', \\'value\\', \\'value\\', \\'policy\\']}\\n{\"relation_types\": [(3, 4, \\'reason\\'), (12, 11, \\'reason\\')]}\\n',\n",
       "  '### Output:\\n{\"argument_types\": [\\'fact\\', \\'fact\\', \\'fact\\', \\'fact\\', \\'value\\', \\'value\\', \\'fact\\', \\'fact\\', \\'fact\\']}\\n{\"relation_types\": []}\\n',\n",
       "  '### Output:\\n{\"argument_types\": [\\'fact\\', \\'value\\']}\\n{\"relation_types\": []}\\n',\n",
       "  '### Output:\\n{\"argument_types\": [\\'value\\', \\'testimony\\', \\'policy\\', \\'policy\\', \\'testimony\\', \\'testimony\\', \\'testimony\\', \\'testimony\\', \\'fact\\', \\'value\\', \\'value\\', \\'value\\', \\'value\\', \\'testimony\\']}\\n{\"relation_types\": [(3, 4, \\'reason\\'), (13, 14, \\'reason\\')]}\\n',\n",
       "  '### Output:\\n{\"argument_types\": [\\'value\\', \\'value\\', \\'value\\', \\'value\\', \\'value\\', \\'fact\\', \\'fact\\', \\'value\\', \\'policy\\', \\'value\\', \\'value\\', \\'fact\\', \\'fact\\', \\'value\\', \\'value\\', \\'value\\', \\'value\\', \\'policy\\', \\'policy\\', \\'value\\', \\'value\\', \\'value\\', \\'value\\']}\\n{\"relation_types\": [(3, 4, \\'reason\\'), (5, 3, \\'reason\\'), (5, 4, \\'reason\\'), (6, 7, \\'reason\\'), (9, 10, \\'reason\\'), (11, 12, \\'reason\\'), (11, 13, \\'reason\\')]}\\n',\n",
       "  '### Output:\\n{\"argument_types\": [\\'testimony\\', \\'fact\\', \\'value\\', \\'value\\', \\'testimony\\', \\'policy\\']}\\n{\"relation_types\": [(3, 2, \\'reason\\')]}\\n',\n",
       "  '### Output:\\n{\"argument_types\": [\\'testimony\\', \\'testimony\\', \\'testimony\\', \\'value\\', \\'policy\\', \\'testimony\\']}\\n{\"relation_types\": [(5, 3, \\'reason\\')]}\\n',\n",
       "  '### Output:\\n{\"argument_types\": [\\'value\\', \\'value\\', \\'value\\', \\'testimony\\', \\'testimony\\', \\'policy\\', \\'value\\']}\\n{\"relation_types\": [(1, 3, \\'reason\\'), (6, 4, \\'reason\\'), (6, 5, \\'reason\\')]}\\n',\n",
       "  '### Output:\\n{\"argument_types\": [\\'policy\\', \\'testimony\\', \\'testimony\\', \\'testimony\\', \\'testimony\\', \\'testimony\\', \\'testimony\\', \\'testimony\\', \\'testimony\\', \\'testimony\\', \\'value\\']}\\n{\"relation_types\": [(1, 2, \\'reason\\'), (1, 3, \\'reason\\'), (1, 4, \\'reason\\'), (1, 5, \\'reason\\'), (1, 6, \\'reason\\'), (1, 7, \\'reason\\'), (1, 8, \\'reason\\'), (1, 9, \\'reason\\'), (1, 10, \\'reason\\'), (1, 11, \\'reason\\')]}\\n',\n",
       "  '### Output:\\n{\"argument_types\": [\\'fact\\', \\'fact\\', \\'fact\\', \\'fact\\', \\'policy\\', \\'value\\', \\'testimony\\', \\'value\\', \\'value\\', \\'testimony\\', \\'value\\', \\'value\\']}\\n{\"relation_types\": [(1, 2, \\'reason\\')]}\\n',\n",
       "  '### Output:\\n{\"argument_types\": [\\'testimony\\', \\'testimony\\', \\'testimony\\', \\'testimony\\', \\'testimony\\', \\'testimony\\', \\'value\\', \\'value\\']}\\n{\"relation_types\": [(5, 4, \\'reason\\')]}\\n',\n",
       "  '### Output:\\n{\"argument_types\": [\\'fact\\', \\'fact\\', \\'value\\', \\'value\\', \\'value\\', \\'policy\\', \\'value\\']}\\n{\"relation_types\": [(3, 2, \\'reason\\'), (6, 5, \\'reason\\'), (6, 7, \\'reason\\')]}\\n',\n",
       "  '### Output:\\n{\"argument_types\": [\\'testimony\\', \\'testimony\\', \\'testimony\\', \\'value\\', \\'value\\']}\\n{\"relation_types\": [(4, 5, \\'reason\\'), (5, 1, \\'reason\\'), (5, 2, \\'reason\\')]}\\n',\n",
       "  '### Output:\\n{\"argument_types\": [\\'policy\\', \\'policy\\', \\'value\\', \\'value\\', \\'value\\', \\'value\\', \\'policy\\', \\'value\\', \\'value\\']}\\n{\"relation_types\": [(4, 5, \\'reason\\'), (4, 6, \\'reason\\'), (7, 8, \\'reason\\'), (8, 9, \\'reason\\')]}\\n',\n",
       "  '### Output:\\n{\"argument_types\": [\\'testimony\\', \\'testimony\\', \\'value\\', \\'value\\', \\'value\\', \\'value\\', \\'fact\\', \\'value\\', \\'policy\\', \\'fact\\', \\'fact\\', \\'value\\', \\'fact\\', \\'fact\\', \\'policy\\', \\'policy\\', \\'fact\\', \\'policy\\', \\'policy\\', \\'policy\\', \\'policy\\', \\'policy\\', \\'value\\', \\'value\\', \\'value\\', \\'fact\\', \\'value\\', \\'policy\\']}\\n{\"relation_types\": [(2, 1, \\'reason\\'), (5, 4, \\'reason\\'), (6, 7, \\'reason\\'), (6, 8, \\'reason\\'), (11, 10, \\'reason\\'), (12, 13, \\'reason\\'), (20, 21, \\'reason\\'), (22, 23, \\'reason\\')]}\\n',\n",
       "  '### Output:\\n{\"argument_types\": [\\'testimony\\', \\'testimony\\', \\'testimony\\', \\'testimony\\']}\\n{\"relation_types\": [(2, 3, \\'reason\\')]}\\n',\n",
       "  '### Output:\\n{\"argument_types\": [\\'value\\', \\'value\\', \\'value\\', \\'fact\\', \\'fact\\', \\'value\\', \\'policy\\', \\'value\\', \\'value\\']}\\n{\"relation_types\": [(1, 2, \\'reason\\'), (2, 3, \\'reason\\')]}\\n',\n",
       "  '### Output:\\n{\"argument_types\": [\\'value\\', \\'policy\\', \\'value\\', \\'testimony\\', \\'value\\']}\\n{\"relation_types\": [(4, 5, \\'reason\\')]}\\n',\n",
       "  '### Output:\\n{\"argument_types\": [\\'value\\', \\'policy\\', \\'value\\', \\'policy\\', \\'policy\\', \\'value\\']}\\n{\"relation_types\": [(2, 1, \\'reason\\'), (5, 6, \\'reason\\')]}\\n',\n",
       "  '### Output:\\n{\"argument_types\": [\\'value\\', \\'value\\', \\'fact\\', \\'value\\']}\\n{\"relation_types\": []}\\n',\n",
       "  '### Output:\\n{\"argument_types\": [\\'fact\\', \\'fact\\', \\'value\\']}\\n{\"relation_types\": [(2, 3, \\'reason\\')]}\\n',\n",
       "  '### Output:\\n{\"argument_types\": [\\'value\\', \\'value\\']}\\n{\"relation_types\": [(1, 2, \\'reason\\')]}\\n',\n",
       "  '### Output:\\n{\"argument_types\": [\\'value\\', \\'fact\\', \\'value\\']}\\n{\"relation_types\": [(3, 2, \\'reason\\')]}\\n',\n",
       "  '### Output:\\n{\"argument_types\": [\\'policy\\', \\'value\\', \\'testimony\\', \\'testimony\\', \\'value\\', \\'value\\', \\'value\\', \\'value\\', \\'fact\\', \\'value\\', \\'value\\', \\'policy\\']}\\n{\"relation_types\": []}\\n',\n",
       "  '### Output:\\n{\"argument_types\": [\\'value\\', \\'policy\\', \\'value\\', \\'policy\\']}\\n{\"relation_types\": [(2, 1, \\'reason\\'), (4, 3, \\'reason\\')]}\\n',\n",
       "  '### Output:\\n{\"argument_types\": [\\'testimony\\', \\'testimony\\', \\'testimony\\', \\'testimony\\', \\'testimony\\', \\'testimony\\', \\'value\\', \\'testimony\\']}\\n{\"relation_types\": [(5, 6, \\'reason\\'), (7, 1, \\'reason\\'), (7, 2, \\'reason\\'), (7, 3, \\'reason\\'), (7, 4, \\'reason\\'), (7, 5, \\'reason\\')]}\\n',\n",
       "  '### Output:\\n{\"argument_types\": [\\'policy\\', \\'value\\', \\'value\\', \\'value\\', \\'value\\', \\'value\\', \\'policy\\', \\'value\\', \\'value\\']}\\n{\"relation_types\": []}\\n',\n",
       "  '### Output:\\n{\"argument_types\": [\\'value\\', \\'value\\', \\'value\\', \\'value\\', \\'value\\', \\'value\\', \\'policy\\', \\'value\\']}\\n{\"relation_types\": [(7, 6, \\'reason\\')]}\\n',\n",
       "  '### Output:\\n{\"argument_types\": [\\'policy\\', \\'value\\', \\'value\\', \\'testimony\\', \\'value\\', \\'policy\\', \\'value\\']}\\n{\"relation_types\": [(1, 2, \\'reason\\'), (1, 3, \\'reason\\'), (4, 5, \\'reason\\')]}\\n',\n",
       "  '### Output:\\n{\"argument_types\": [\\'policy\\', \\'policy\\']}\\n{\"relation_types\": []}\\n',\n",
       "  '### Output:\\n{\"argument_types\": [\\'fact\\', \\'testimony\\', \\'testimony\\', \\'testimony\\', \\'value\\']}\\n{\"relation_types\": [(1, 2, \\'evidence\\'), (1, 3, \\'evidence\\'), (1, 4, \\'evidence\\'), (1, 5, \\'evidence\\'), (4, 5, \\'reason\\')]}\\n',\n",
       "  '### Output:\\n{\"argument_types\": [\\'value\\', \\'fact\\']}\\n{\"relation_types\": [(1, 2, \\'reason\\')]}\\n',\n",
       "  '### Output:\\n{\"argument_types\": [\\'fact\\', \\'value\\', \\'value\\']}\\n{\"relation_types\": [(2, 1, \\'reason\\'), (3, 2, \\'reason\\')]}\\n',\n",
       "  '### Output:\\n{\"argument_types\": [\\'policy\\', \\'policy\\']}\\n{\"relation_types\": []}\\n',\n",
       "  '### Output:\\n{\"argument_types\": [\\'policy\\', \\'value\\', \\'policy\\', \\'value\\', \\'policy\\', \\'value\\']}\\n{\"relation_types\": [(1, 4, \\'reason\\'), (1, 6, \\'reason\\'), (3, 4, \\'reason\\'), (5, 6, \\'reason\\')]}\\n',\n",
       "  '### Output:\\n{\"argument_types\": [\\'fact\\', \\'value\\', \\'value\\', \\'value\\', \\'testimony\\', \\'fact\\', \\'value\\', \\'value\\', \\'value\\', \\'value\\']}\\n{\"relation_types\": [(6, 5, \\'evidence\\'), (2, 1, \\'reason\\')]}\\n',\n",
       "  '### Output:\\n{\"argument_types\": [\\'value\\', \\'value\\', \\'value\\', \\'value\\', \\'testimony\\', \\'testimony\\', \\'testimony\\', \\'value\\', \\'policy\\']}\\n{\"relation_types\": [(2, 4, \\'reason\\'), (3, 2, \\'reason\\'), (4, 5, \\'reason\\'), (4, 6, \\'reason\\'), (4, 7, \\'reason\\'), (4, 8, \\'reason\\'), (9, 4, \\'reason\\')]}\\n',\n",
       "  '### Output:\\n{\"argument_types\": [\\'value\\', \\'value\\', \\'value\\', \\'value\\']}\\n{\"relation_types\": []}\\n',\n",
       "  '### Output:\\n{\"argument_types\": [\\'value\\', \\'value\\']}\\n{\"relation_types\": []}\\n',\n",
       "  '### Output:\\n{\"argument_types\": [\\'value\\', \\'value\\', \\'value\\', \\'policy\\', \\'value\\']}\\n{\"relation_types\": [(1, 2, \\'reason\\'), (4, 5, \\'reason\\')]}\\n',\n",
       "  '### Output:\\n{\"argument_types\": [\\'value\\', \\'value\\', \\'value\\', \\'fact\\']}\\n{\"relation_types\": []}\\n',\n",
       "  '### Output:\\n{\"argument_types\": [\\'fact\\', \\'value\\', \\'value\\', \\'fact\\', \\'testimony\\', \\'testimony\\', \\'testimony\\', \\'testimony\\', \\'testimony\\', \\'value\\', \\'value\\', \\'value\\', \\'value\\', \\'value\\', \\'value\\']}\\n{\"relation_types\": [(4, 5, \\'evidence\\'), (4, 6, \\'evidence\\'), (4, 7, \\'evidence\\'), (4, 8, \\'evidence\\'), (4, 9, \\'evidence\\'), (2, 1, \\'reason\\'), (9, 8, \\'reason\\')]}\\n',\n",
       "  '### Output:\\n{\"argument_types\": [\\'value\\', \\'value\\', \\'policy\\', \\'value\\']}\\n{\"relation_types\": []}\\n',\n",
       "  '### Output:\\n{\"argument_types\": [\\'testimony\\', \\'testimony\\', \\'value\\', \\'value\\', \\'value\\']}\\n{\"relation_types\": []}\\n',\n",
       "  '### Output:\\n{\"argument_types\": [\\'value\\', \\'value\\', \\'testimony\\', \\'testimony\\']}\\n{\"relation_types\": [(2, 3, \\'reason\\')]}\\n',\n",
       "  '### Output:\\n{\"argument_types\": [\\'testimony\\', \\'value\\', \\'fact\\', \\'value\\', \\'value\\', \\'value\\', \\'value\\', \\'value\\', \\'fact\\', \\'policy\\']}\\n{\"relation_types\": [(5, 4, \\'reason\\'), (7, 8, \\'reason\\')]}\\n',\n",
       "  '### Output:\\n{\"argument_types\": [\\'testimony\\', \\'testimony\\', \\'fact\\']}\\n{\"relation_types\": []}\\n',\n",
       "  '### Output:\\n{\"argument_types\": [\\'fact\\', \\'value\\']}\\n{\"relation_types\": [(2, 1, \\'reason\\')]}\\n',\n",
       "  '### Output:\\n{\"argument_types\": [\\'value\\', \\'testimony\\']}\\n{\"relation_types\": []}\\n',\n",
       "  '### Output:\\n{\"argument_types\": [\\'policy\\', \\'policy\\']}\\n{\"relation_types\": []}\\n',\n",
       "  '### Output:\\n{\"argument_types\": [\\'value\\', \\'fact\\', \\'testimony\\', \\'policy\\', \\'value\\', \\'value\\']}\\n{\"relation_types\": [(1, 2, \\'reason\\'), (4, 2, \\'reason\\'), (4, 3, \\'reason\\'), (4, 5, \\'reason\\'), (6, 2, \\'reason\\'), (6, 3, \\'reason\\')]}\\n',\n",
       "  '### Output:\\n{\"argument_types\": [\\'fact\\', \\'value\\']}\\n{\"relation_types\": []}\\n',\n",
       "  '### Output:\\n{\"argument_types\": [\\'fact\\', \\'value\\', \\'fact\\', \\'policy\\', \\'value\\', \\'value\\', \\'value\\', \\'fact\\']}\\n{\"relation_types\": []}\\n',\n",
       "  '### Output:\\n{\"argument_types\": [\\'policy\\', \\'testimony\\', \\'testimony\\', \\'testimony\\', \\'value\\', \\'policy\\', \\'policy\\', \\'policy\\']}\\n{\"relation_types\": [(6, 5, \\'reason\\')]}\\n',\n",
       "  '### Output:\\n{\"argument_types\": [\\'value\\', \\'value\\', \\'fact\\', \\'value\\', \\'value\\']}\\n{\"relation_types\": []}\\n',\n",
       "  '### Output:\\n{\"argument_types\": [\\'testimony\\', \\'testimony\\', \\'testimony\\', \\'testimony\\', \\'testimony\\']}\\n{\"relation_types\": []}\\n',\n",
       "  '### Output:\\n{\"argument_types\": [\\'value\\', \\'fact\\', \\'fact\\', \\'value\\']}\\n{\"relation_types\": [(3, 2, \\'reason\\')]}\\n',\n",
       "  '### Output:\\n{\"argument_types\": [\\'value\\', \\'policy\\', \\'policy\\', \\'policy\\', \\'value\\', \\'value\\']}\\n{\"relation_types\": [(5, 6, \\'reason\\')]}\\n',\n",
       "  '### Output:\\n{\"argument_types\": [\\'policy\\', \\'value\\']}\\n{\"relation_types\": []}\\n',\n",
       "  '### Output:\\n{\"argument_types\": [\\'testimony\\', \\'fact\\', \\'testimony\\', \\'fact\\', \\'testimony\\', \\'testimony\\', \\'policy\\', \\'fact\\', \\'testimony\\', \\'testimony\\', \\'testimony\\', \\'testimony\\', \\'testimony\\', \\'policy\\']}\\n{\"relation_types\": [(3, 4, \\'reason\\'), (6, 5, \\'reason\\'), (7, 8, \\'reason\\')]}\\n',\n",
       "  '### Output:\\n{\"argument_types\": [\\'policy\\', \\'policy\\', \\'policy\\', \\'value\\']}\\n{\"relation_types\": [(3, 4, \\'reason\\')]}\\n',\n",
       "  '### Output:\\n{\"argument_types\": [\\'value\\', \\'fact\\', \\'value\\', \\'testimony\\', \\'policy\\', \\'value\\']}\\n{\"relation_types\": [(5, 6, \\'reason\\')]}\\n',\n",
       "  '### Output:\\n{\"argument_types\": [\\'value\\', \\'policy\\', \\'value\\', \\'value\\', \\'value\\', \\'policy\\', \\'value\\']}\\n{\"relation_types\": [(2, 1, \\'reason\\'), (4, 5, \\'reason\\'), (4, 7, \\'reason\\'), (6, 5, \\'reason\\'), (6, 7, \\'reason\\')]}\\n',\n",
       "  '### Output:\\n{\"argument_types\": [\\'policy\\', \\'value\\', \\'value\\']}\\n{\"relation_types\": [(1, 2, \\'reason\\')]}\\n',\n",
       "  '### Output:\\n{\"argument_types\": [\\'fact\\', \\'value\\', \\'value\\', \\'fact\\', \\'fact\\', \\'value\\', \\'policy\\']}\\n{\"relation_types\": []}\\n',\n",
       "  '### Output:\\n{\"argument_types\": [\\'value\\', \\'value\\', \\'fact\\', \\'fact\\', \\'value\\', \\'value\\', \\'testimony\\', \\'testimony\\', \\'testimony\\', \\'value\\', \\'value\\', \\'fact\\', \\'testimony\\', \\'value\\', \\'value\\', \\'value\\', \\'value\\', \\'value\\', \\'value\\', \\'value\\', \\'value\\', \\'value\\', \\'value\\']}\\n{\"relation_types\": [(17, 18, \\'reason\\'), (20, 22, \\'reason\\')]}\\n',\n",
       "  '### Output:\\n{\"argument_types\": [\\'value\\', \\'policy\\', \\'value\\', \\'value\\', \\'value\\', \\'value\\', \\'value\\', \\'value\\', \\'value\\', \\'fact\\', \\'value\\', \\'policy\\', \\'value\\']}\\n{\"relation_types\": [(5, 4, \\'reason\\'), (8, 9, \\'reason\\')]}\\n',\n",
       "  '### Output:\\n{\"argument_types\": [\\'value\\', \\'value\\']}\\n{\"relation_types\": [(1, 2, \\'reason\\')]}\\n',\n",
       "  '### Output:\\n{\"argument_types\": [\\'value\\', \\'value\\', \\'value\\', \\'value\\', \\'value\\', \\'value\\', \\'value\\', \\'value\\', \\'value\\', \\'value\\', \\'value\\', \\'value\\', \\'value\\', \\'testimony\\', \\'policy\\']}\\n{\"relation_types\": [(1, 4, \\'reason\\'), (4, 5, \\'reason\\'), (6, 5, \\'reason\\'), (7, 4, \\'reason\\'), (8, 9, \\'reason\\'), (10, 11, \\'reason\\'), (12, 13, \\'reason\\'), (14, 13, \\'reason\\')]}\\n',\n",
       "  '### Output:\\n{\"argument_types\": [\\'reference\\', \\'value\\', \\'value\\']}\\n{\"relation_types\": []}\\n'],\n",
       " 'predictions': ['### Output:\\n{\"argument_types\": [\\'fact\\', \\'value\\', \\'policy\\']}\\n{\"relation_types\": [(3, 1, reason\\'), (3, 2, reason\\')]}\\n',\n",
       "  '### Output:\\n{\"argument_types\": [\\'value\\', \\'policy\\', \\'policy\\', \\'policy\\', \\'value\\']}\\n{\"relation_types\": []}\\n',\n",
       "  '### Output:\\n{\"argument_types\": [\\'policy\\', \\'policy\\']}\\n{\"relation_types\": []}\\n',\n",
       "  '### Output:\\n{\"argument_types\": [\\'value\\', \\'value\\']}\\n{\"relation_types\": []}\\n',\n",
       "  '### Output:\\n{\"argument_types\": [\\'value\\', \\'value\\', \\'fact\\', \\'testimony\\', \\'value\\']}\\n{\"relation_types\": [(2, 4, reason\\')]}\\n',\n",
       "  '### Output:\\n{\"argument_types\": [\\'testimony\\', \\'testimony\\', \\'testimony\\', \\'value\\', \\'value\\', \\'policy\\']}\\n{\"relation_types\": [(5, 4, reason\\'), (6, 4, reason\\')]}\\n',\n",
       "  '### Output:\\n{\"argument_types\": [\\'value\\', \\'testimony\\', \\'testimony\\', \\'value\\', \\'testimony\\']}\\n{\"relation_types\": []}\\n',\n",
       "  '### Output:\\n{\"argument_types\": [\\'value\\', \\'value\\', \\'policy\\', \\'value\\', \\'policy\\', \\'policy\\']}\\n{\"relation_types\": [(3, 4, reason\\'), (5, 6, reason\\')]}\\n',\n",
       "  '### Output:\\n{\"argument_types\": [\\'testimony\\', \\'value\\', \\'value\\', \\'policy\\', \\'fact\\', \\'value\\', \\'fact\\', \\'fact\\', \\'fact\\', \\'value\\']}\\n{\"relation_types\": [(4, 6, reason\\'), (6, 8, reason\\'), (6, 9, reason\\')]}\\n',\n",
       "  '### Output:\\n{\"argument_types\": [\\'value\\', \\'fact\\', \\'value\\', \\'value\\']}\\n{\"relation_types\": [(1, 2, reason\\'), (1, 4, reason\\')]}\\n',\n",
       "  '### Output:\\n{\"argument_types\": [\\'testimony\\', \\'value\\', \\'testimony\\', \\'testimony\\', \\'testimony\\', \\'policy\\', \\'value\\', \\'value\\']}\\n{\"relation_types\": [(6, 7, reason\\'), (6, 8, reason\\')]}\\n',\n",
       "  '### Output:\\n{\"argument_types\": [\\'fact\\', \\'fact\\', \\'policy\\', \\'value\\', \\'policy\\', \\'policy\\']}\\n{\"relation_types\": [(3, 4, reason\\')]}\\n',\n",
       "  '### Output:\\n{\"argument_types\": [\\'value\\', \\'value\\', \\'fact\\', \\'value\\', \\'testimony\\', \\'policy\\']}\\n{\"relation_types\": []}\\n',\n",
       "  '### Output:\\n{\"argument_types\": [\\'testimony\\', \\'fact\\', \\'value\\', \\'value\\']}\\n{\"relation_types\": []}\\n',\n",
       "  '### Output:\\n{\"argument_types\": [\\'value\\', \\'value\\', \\'value\\', \\'value\\']}\\n{\"relation_types\": [(2, 3, reason\\'), (2, 4, reason\\')]}\\n',\n",
       "  '### Output:\\n{\"argument_types\": [\\'value\\', \\'value\\', \\'value\\', \\'value\\']}\\n{\"relation_types\": [(1, 2, reason\\')]}\\n',\n",
       "  '### Output:\\n{\"argument_types\": [\\'policy\\', \\'fact\\', \\'fact\\', \\'fact\\']}\\n{\"relation_types\": [(1, 2, reason\\')]}\\n',\n",
       "  '### Output:\\n{\"argument_types\": [\\'value\\', \\'testimony\\', \\'testimony\\', \\'testimony\\']}\\n{\"relation_types\": []}\\n',\n",
       "  '### Output:\\n{\"argument_types\": [\\'testimony\\', \\'value\\', \\'value\\', \\'value\\']}\\n{\"relation_types\": [(3, 1, reason\\')]}\\n',\n",
       "  '### Output:\\n{\"argument_types\": [\\'value\\', \\'policy\\']}\\n{\"relation_types\": []}\\n',\n",
       "  '### Output:\\n{\"argument_types\": [\\'value\\', \\'value\\', \\'value\\', \\'value\\', \\'policy\\', \\'value\\']}\\n{\"relation_types\": [(3, 4, reason\\')]}\\n',\n",
       "  '### Output:\\n{\"argument_types\": [\\'testimony\\', \\'value\\', \\'fact\\', \\'fact\\', \\'policy\\', \\'value\\', \\'policy\\', \\'value\\', \\'value\\']}\\n{\"relation_types\": [(2, 1, reason\\'), (5, 8, reason\\'), (8, 9, reason\\')]}\\n',\n",
       "  '### Output:\\n{\"argument_types\": [\\'value\\', \\'testimony\\', \\'value\\', \\'value\\', \\'value\\', \\'value\\']}\\n{\"relation_types\": [(1, 2, reason\\'), (4, 3, reason\\'), (5, 6, reason\\')]}\\n',\n",
       "  '### Output:\\n{\"argument_types\": [\\'testimony\\', \\'testimony\\']}\\n{\"relation_types\": []}\\n',\n",
       "  '### Output:\\n{\"argument_types\": [\\'fact\\', \\'value\\']}\\n{\"relation_types\": [(1, 2, reason\\')]}\\n',\n",
       "  '### Output:\\n{\"argument_types\": [\\'value\\', \\'value\\', \\'value\\', \\'testimony\\', \\'testimony\\', \\'value\\', \\'value\\', \\'testimony\\', \\'testimony\\', \\'testimony\\', \\'testimony\\', \\'value\\', \\'testimony\\', \\'testimony\\', \\'testimony\\', \\'testimony\\', \\'testimony\\', \\'testimony\\', \\'value\\', \\'value\\', \\'value\\', \\'testimony\\', \\'testimony\\', \\'testimony\\', \\'value\\', \\'value\\', \\'value\\']}\\n{\"relation_types\": [(2, 3, reason\\'), (14, 13, reason\\'), (26, 25, reason\\'), (26, 27, reason\\')]}\\n',\n",
       "  '### Output:\\n{\"argument_types\": [\\'value\\', \\'value\\', \\'value\\', \\'fact\\', \\'fact\\', \\'policy\\']}\\n{\"relation_types\": [(3, 4, reason\\'), (6, 5, reason\\')]}\\n',\n",
       "  '### Output:\\n{\"argument_types\": [\\'policy\\', \\'policy\\', \\'policy\\']}\\n{\"relation_types\": []}\\n',\n",
       "  '### Output:\\n{\"argument_types\": [\\'testimony\\', \\'testimony\\', \\'fact\\', \\'fact\\', \\'policy\\', \\'policy\\', \\'value\\']}\\n{\"relation_types\": [(5, 1, reason\\'), (5, 2, reason\\'), (6, 7, reason\\')]}\\n',\n",
       "  '### Output:\\n{\"argument_types\": [\\'value\\', \\'fact\\', \\'testimony\\']}\\n{\"relation_types\": []}\\n',\n",
       "  '### Output:\\n{\"argument_types\": [\\'value\\', \\'fact\\', \\'policy\\', \\'policy\\', \\'policy\\', \\'testimony\\']}\\n{\"relation_types\": [(3, 4, reason\\')]}\\n',\n",
       "  '### Output:\\n{\"argument_types\": [\\'value\\', \\'value\\', \\'value\\', \\'value\\', \\'value\\']}\\n{\"relation_types\": []}\\n',\n",
       "  '### Output:\\n{\"argument_types\": [\\'testimony\\', \\'testimony\\', \\'testimony\\', \\'testimony\\', \\'testimony\\', \\'testimony\\', \\'value\\', \\'testimony\\', \\'testimony\\', \\'testimony\\', \\'testimony\\', \\'testimony\\', \\'value\\', \\'testimony\\', \\'value\\']}\\n{\"relation_types\": [(7, 6, reason\\')]}\\n',\n",
       "  '### Output:\\n{\"argument_types\": [\\'testimony\\', \\'testimony\\']}\\n{\"relation_types\": []}\\n',\n",
       "  '### Output:\\n{\"argument_types\": [\\'value\\', \\'value\\', \\'policy\\']}\\n{\"relation_types\": []}\\n',\n",
       "  '### Output:\\n{\"argument_types\": [\\'policy\\', \\'value\\']}\\n{\"relation_types\": []}\\n',\n",
       "  '### Output:\\n{\"argument_types\": [\\'value\\', \\'policy\\', \\'fact\\']}\\n{\"relation_types\": [(2, 1, reason\\')]}\\n',\n",
       "  '### Output:\\n{\"argument_types\": [\\'value\\', \\'testimony\\', \\'testimony\\', \\'value\\', \\'value\\', \\'value\\']}\\n{\"relation_types\": [(4, 5, reason\\'), (6, 5, reason\\')]}\\n',\n",
       "  '### Output:\\n{\"argument_types\": [\\'policy\\', \\'value\\', \\'value\\', \\'testimony\\', \\'value\\', \\'policy\\']}\\n{\"relation_types\": [(2, 3, reason\\')]}\\n',\n",
       "  '### Output:\\n{\"argument_types\": [\\'policy\\', \\'value\\']}\\n{\"relation_types\": [(1, 2, reason\\')]}\\n',\n",
       "  '### Output:\\n{\"argument_types\": [\\'fact\\', \\'value\\', \\'testimony\\', \\'testimony\\', \\'value\\']}\\n{\"relation_types\": []}\\n',\n",
       "  '### Output:\\n{\"argument_types\": [\\'testimony\\', \\'testimony\\', \\'testimony\\', \\'testimony\\', \\'testimony\\', \\'testimony\\', \\'testimony\\', \\'value\\', \\'value\\', \\'value\\']}\\n{\"relation_types\": [(2, 3, reason\\'), (8, 7, reason\\'), (10, 7, reason\\'), (10, 8, reason\\'), (10, 9, reason\\')]}\\n',\n",
       "  '### Output:\\n{\"argument_types\": [\\'policy\\', \\'fact\\', \\'policy\\']}\\n{\"relation_types\": [(1, 2, reason\\')]}\\n',\n",
       "  '### Output:\\n{\"argument_types\": [\\'value\\', \\'testimony\\', \\'value\\', \\'testimony\\', \\'testimony\\', \\'testimony\\', \\'testimony\\', \\'testimony\\']}\\n{\"relation_types\": [(3, 2, reason\\')]}\\n',\n",
       "  '### Output:\\n{\"argument_types\": [\\'value\\', \\'value\\', \\'fact\\', \\'testimony\\', \\'fact\\', \\'value\\', \\'value\\']}\\n{\"relation_types\": [(2, 3, reason\\'), (2, 4, reason\\'), (6, 5, reason\\'), (7, 6, reason\\')]}\\n',\n",
       "  '### Output:\\n{\"argument_types\": [\\'testimony\\', \\'value\\', \\'policy\\', \\'value\\', \\'value\\']}\\n{\"relation_types\": []}\\n',\n",
       "  '### Output:\\n{\"argument_types\": [\\'policy\\', \\'value\\', \\'value\\', \\'value\\']}\\n{\"relation_types\": [(1, 2, reason\\')]}\\n',\n",
       "  '### Output:\\n{\"argument_types\": [\\'testimony\\', \\'testimony\\', \\'testimony\\', \\'value\\', \\'testimony\\', \\'testimony\\', \\'value\\', \\'policy\\']}\\n{\"relation_types\": [(4, 3, reason\\'), (7, 6, reason\\')]}\\n',\n",
       "  '### Output:\\n{\"argument_types\": [\\'fact\\', \\'fact\\', \\'fact\\', \\'value\\', \\'policy\\', \\'value\\', \\'value\\', \\'value\\', \\'value\\']}\\n{\"relation_types\": []}\\n',\n",
       "  '### Output:\\n{\"argument_types\": [\\'value\\', \\'value\\', \\'fact\\']}\\n{\"relation_types\": []}\\n',\n",
       "  '### Output:\\n{\"argument_types\": [\\'value\\', \\'fact\\', \\'value\\', \\'value\\', \\'fact\\', \\'value\\', \\'value\\']}\\n{\"relation_types\": [(1, 2, reason\\'), (5, 7, reason\\')]}\\n',\n",
       "  '### Output:\\n{\"argument_types\": [\\'policy\\', \\'value\\', \\'value\\', \\'policy\\', \\'value\\', \\'policy\\', \\'value\\', \\'value\\', \\'value\\', \\'value\\', \\'policy\\', \\'value\\', \\'value\\', \\'policy\\']}\\n{\"relation_types\": [(1, 2, reason\\'), (4, 6, reason\\'), (6, 5, reason\\'), (10, 9, reason\\'), (12, 13, reason\\'), (14, 12, reason\\')]}\\n',\n",
       "  '### Output:\\n{\"argument_types\": [\\'testimony\\', \\'testimony\\', \\'testimony\\', \\'testimony\\', \\'value\\', \\'value\\', \\'value\\', \\'testimony\\', \\'value\\', \\'value\\', \\'value\\']}\\n{\"relation_types\": [(6, 7, reason\\'), (7, 8, reason\\'), (11, 10, reason\\')]}\\n',\n",
       "  '### Output:\\n{\"argument_types\": [\\'value\\', \\'testimony\\', \\'value\\', \\'value\\', \\'value\\']}\\n{\"relation_types\": [(1, 2, reason\\')]}\\n',\n",
       "  '### Output:\\n{\"argument_types\": [\\'policy\\', \\'policy\\', \\'testimony\\', \\'fact\\', \\'fact\\', \\'testimony\\', \\'value\\']}\\n{\"relation_types\": [(1, 2, reason\\'), (2, 3, reason\\'), (2, 4, reason\\'), (2, 5, reason\\'), (4, 5, reason\\'), (7, 6, reason\\')]}\\n',\n",
       "  '### Output:\\n{\"argument_types\": [\\'testimony\\', \\'testimony\\', \\'testimony\\', \\'value\\', \\'testimony\\', \\'testimony\\', \\'testimony\\', \\'value\\', \\'testimony\\', \\'value\\', \\'value\\', \\'value\\', \\'value\\', \\'value\\']}\\n{\"relation_types\": [(2, 3, reason\\'), (12, 11, reason\\')]}\\n',\n",
       "  '### Output:\\n{\"argument_types\": [\\'value\\', \\'value\\']}\\n{\"relation_types\": []}\\n',\n",
       "  '### Output:\\n{\"argument_types\": [\\'policy\\', \\'policy\\', \\'value\\', \\'value\\']}\\n{\"relation_types\": [(1, 3, reason\\'), (1, 4, reason\\'), (2, 1, reason\\'), (2, 3, reason\\'), (2, 4, reason\\')]}\\n',\n",
       "  '### Output:\\n{\"argument_types\": [\\'policy\\', \\'policy\\', \\'policy\\', \\'value\\']}\\n{\"relation_types\": [(1, 2, reason\\'), (1, 3, reason\\'), (1, 4, reason\\')]}\\n',\n",
       "  '### Output:\\n{\"argument_types\": [\\'value\\', \\'testimony\\', \\'testimony\\', \\'testimony\\']}\\n{\"relation_types\": []}\\n',\n",
       "  '### Output:\\n{\"argument_types\": [\\'policy\\', \\'value\\', \\'value\\', \\'fact\\', \\'fact\\', \\'value\\', \\'value\\', \\'fact\\', \\'policy\\', \\'value\\', \\'policy\\', \\'policy\\', \\'value\\', \\'value\\', \\'policy\\']}\\n{\"relation_types\": [(1, 6, reason\\'), (1, 7, reason\\'), (6, 7, reason\\'), (11, 14, reason\\'), (12, 14, reason\\'), (12, 15, reason\\'), (15, 14, reason\\')]}\\n',\n",
       "  '### Output:\\n{\"argument_types\": [\\'testimony\\', \\'testimony\\', \\'value\\', \\'fact\\', \\'fact\\', \\'value\\', \\'fact\\', \\'testimony\\']}\\n{\"relation_types\": []}\\n',\n",
       "  '### Output:\\n{\"argument_types\": [\\'testimony\\', \\'testimony\\', \\'testimony\\', \\'value\\', \\'testimony\\', \\'testimony\\', \\'value\\', \\'value\\', \\'value\\', \\'testimony\\', \\'value\\', \\'value\\', \\'value\\', \\'value\\', \\'value\\', \\'value\\', \\'testimony\\', \\'testimony\\', \\'testimony\\', \\'value\\', \\'value\\']}\\n{\"relation_types\": [(1, 2, reason\\'), (4, 5, reason\\'), (11, 10, reason\\'), (15, 16, reason\\')]}\\n',\n",
       "  '### Output:\\n{\"argument_types\": [\\'testimony\\', \\'testimony\\', \\'testimony\\', \\'testimony\\', \\'testimony\\', \\'testimony\\']}\\n{\"relation_types\": []}\\n',\n",
       "  '### Output:\\n{\"argument_types\": [\\'policy\\', \\'value\\', \\'value\\', \\'value\\', \\'value\\', \\'value\\', \\'policy\\', \\'value\\']}\\n{\"relation_types\": [(1, 2, reason\\'), (1, 3, reason\\'), (3, 4, reason\\'), (6, 5, reason\\')]}\\n',\n",
       "  '### Output:\\n{\"argument_types\": [\\'fact\\', \\'fact\\', \\'testimony\\']}\\n{\"relation_types\": []}\\n',\n",
       "  '### Output:\\n{\"argument_types\": [\\'policy\\', \\'value\\', \\'value\\', \\'value\\', \\'value\\', \\'value\\']}\\n{\"relation_types\": [(1, 3, reason\\'), (3, 4, reason\\'), (3, 5, reason\\'), (5, 6, reason\\')]}\\n',\n",
       "  '### Output:\\n{\"argument_types\": [\\'fact\\', \\'testimony\\', \\'testimony\\', \\'fact\\', \\'policy\\', \\'policy\\', \\'policy\\']}\\n{\"relation_types\": [(1, 2, reason\\'), (4, 2, reason\\'), (5, 6, reason\\'), (6, 7, reason\\')]}\\n',\n",
       "  '### Output:\\n{\"argument_types\": [\\'value\\', \\'policy\\', \\'policy\\', \\'policy\\']}\\n{\"relation_types\": []}\\n',\n",
       "  '### Output:\\n{\"argument_types\": [\\'value\\', \\'value\\', \\'fact\\']}\\n{\"relation_types\": [(2, 3, reason\\')]}\\n',\n",
       "  '### Output:\\n{\"argument_types\": [\\'fact\\', \\'fact\\', \\'testimony\\', \\'value\\']}\\n{\"relation_types\": []}\\n',\n",
       "  '### Output:\\n{\"argument_types\": [\\'value\\', \\'fact\\', \\'fact\\', \\'value\\', \\'value\\']}\\n{\"relation_types\": [(1, 2, reason\\'), (1, 3, reason\\'), (3, 2, reason\\'), (4, 5, reason\\')]}\\n',\n",
       "  '### Output:\\n{\"argument_types\": [\\'value\\', \\'value\\', \\'value\\']}\\n{\"relation_types\": [(1, 2, reason\\'), (1, 3, reason\\')]}\\n',\n",
       "  '### Output:\\n{\"argument_types\": [\\'value\\', \\'value\\', \\'value\\', \\'value\\', \\'testimony\\', \\'value\\', \\'testimony\\', \\'testimony\\', \\'testimony\\', \\'value\\', \\'testimony\\', \\'testimony\\', \\'testimony\\', \\'value\\', \\'value\\', \\'value\\', \\'value\\', \\'value\\']}\\n{\"relation_types\": [(3, 4, reason\\'), (17, 18, reason\\'), (18, 19, reason\\')]}\\n',\n",
       "  '### Output:\\n{\"argument_types\": [\\'value\\', \\'fact\\', \\'fact\\', \\'value\\', \\'value\\', \\'value\\', \\'value\\', \\'value\\', \\'value\\', \\'value\\', \\'value\\', \\'value\\', \\'value\\', \\'value\\', \\'value\\', \\'value\\', \\'value\\']}\\n{\"relation_types\": [(13, 14, reason\\'), (15, 13, reason\\'), (16, 15, reason\\')]}\\n',\n",
       "  '### Output:\\n{\"argument_types\": [\\'value\\', \\'value\\', \\'value\\', \\'value\\', \\'value\\', \\'value\\', \\'value\\', \\'fact\\', \\'fact\\', \\'fact\\', \\'value\\', \\'value\\', \\'policy\\', \\'value\\', \\'fact\\', \\'fact\\', \\'value\\', \\'value\\', \\'policy\\', \\'value\\', \\'value\\', \\'value\\', \\'policy\\', \\'policy\\', \\'policy\\', \\'policy\\', \\'policy\\', \\'fact\\', \\'policy\\', \\'policy\\', \\'value\\', \\'fact\\', \\'value\\']}\\n{\"relation_types\": [(4, 2, reason\\'), (4, 3, reason\\'), (11, 10, reason\\'), (13, 14, reason\\'), (17, 18, reason\\'), (20, 19, reason\\'), (21, 22, reason\\'), (27, 28, reason\\')]}\\n',\n",
       "  '### Output:\\n{\"argument_types\": [\\'value\\', \\'value\\', \\'policy\\', \\'value\\']}\\n{\"relation_types\": [(1, 2, reason\\'), (3, 4, reason\\')]}\\n',\n",
       "  '### Output:\\n{\"argument_types\": [\\'fact\\', \\'fact\\', \\'value\\', \\'value\\']}\\n{\"relation_types\": []}\\n',\n",
       "  '### Output:\\n{\"argument_types\": [\\'value\\', \\'value\\', \\'value\\', \\'value\\', \\'value\\', \\'value\\', \\'value\\', \\'value\\', \\'value\\', \\'value\\', \\'value\\', \\'policy\\', \\'value\\', \\'policy\\', \\'policy\\']}\\n{\"relation_types\": [(2, 3, reason\\'), (2, 4, reason\\'), (2, 5, reason\\'), (2, 7, reason\\'), (2, 8, reason\\'), (2, 9, reason\\'), (2, 10, reason\\'), (2, 11, reason\\'), (5, 4, reason\\'), (12, 1, reason\\'), (14, 13, reason\\')]}\\n',\n",
       "  '### Output:\\n{\"argument_types\": [\\'value\\', \\'value\\', \\'value\\', \\'value\\']}\\n{\"relation_types\": [(3, 2, reason\\'), (4, 3, reason\\')]}\\n',\n",
       "  '### Output:\\n{\"argument_types\": [\\'testimony\\', \\'testimony\\', \\'testimony\\', \\'testimony\\', \\'testimony\\', \\'testimony\\', \\'testimony\\', \\'value\\', \\'testimony\\', \\'value\\', \\'value\\', \\'policy\\']}\\n{\"relation_types\": [(3, 4, reason\\')]}\\n',\n",
       "  '### Output:\\n{\"argument_types\": [\\'fact\\', \\'fact\\', \\'fact\\', \\'fact\\', \\'value\\', \\'value\\', \\'fact\\', \\'fact\\', \\'fact\\']}\\n{\"relation_types\": []}\\n',\n",
       "  '### Output:\\n{\"argument_types\": [\\'value\\', \\'value\\']}\\n{\"relation_types\": []}\\n',\n",
       "  '### Output:\\n{\"argument_types\": [\\'policy\\', \\'fact\\', \\'policy\\', \\'policy\\', \\'testimony\\', \\'testimony\\', \\'value\\', \\'testimony\\', \\'fact\\', \\'value\\', \\'value\\', \\'value\\', \\'value\\', \\'testimony\\']}\\n{\"relation_types\": [(3, 4, reason\\'), (11, 12, reason\\'), (13, 14, reason\\')]}\\n',\n",
       "  '### Output:\\n{\"argument_types\": [\\'value\\', \\'fact\\', \\'value\\', \\'value\\', \\'value\\', \\'fact\\', \\'value\\', \\'value\\', \\'policy\\', \\'value\\', \\'fact\\', \\'fact\\', \\'fact\\', \\'fact\\', \\'value\\', \\'value\\', \\'value\\', \\'policy\\', \\'policy\\', \\'value\\', \\'value\\', \\'value\\', \\'value\\']}\\n{\"relation_types\": [(3, 4, reason\\'), (5, 4, reason\\'), (9, 10, reason\\'), (11, 12, reason\\'), (11, 13, reason\\'), (14, 15, reason\\'), (20, 21, reason\\'), (20, 22, reason\\')]}\\n',\n",
       "  '### Output:\\n{\"argument_types\": [\\'testimony\\', \\'fact\\', \\'fact\\', \\'value\\', \\'value\\', \\'policy\\']}\\n{\"relation_types\": [(3, 2, reason\\')]}\\n',\n",
       "  '### Output:\\n{\"argument_types\": [\\'testimony\\', \\'testimony\\', \\'testimony\\', \\'value\\', \\'policy\\', \\'testimony\\']}\\n{\"relation_types\": [(5, 4, reason\\')]}\\n',\n",
       "  '### Output:\\n{\"argument_types\": [\\'value\\', \\'policy\\', \\'value\\', \\'testimony\\', \\'testimony\\', \\'policy\\', \\'value\\']}\\n{\"relation_types\": [(3, 4, reason\\'), (3, 5, reason\\')]}\\n',\n",
       "  '### Output:\\n{\"argument_types\": [\\'policy\\', \\'testimony\\', \\'testimony\\', \\'testimony\\', \\'testimony\\', \\'testimony\\', \\'testimony\\', \\'testimony\\', \\'testimony\\', \\'testimony\\', \\'value\\']}\\n{\"relation_types\": []}\\n',\n",
       "  '### Output:\\n{\"argument_types\": [\\'fact\\', \\'fact\\', \\'fact\\', \\'fact\\', \\'policy\\', \\'fact\\', \\'testimony\\', \\'value\\', \\'value\\', \\'testimony\\', \\'policy\\', \\'value\\']}\\n{\"relation_types\": [(5, 6, reason\\'), (5, 7, reason\\')]}\\n',\n",
       "  '### Output:\\n{\"argument_types\": [\\'testimony\\', \\'testimony\\', \\'testimony\\', \\'testimony\\', \\'testimony\\', \\'testimony\\', \\'testimony\\', \\'value\\']}\\n{\"relation_types\": []}\\n',\n",
       "  '### Output:\\n{\"argument_types\": [\\'fact\\', \\'fact\\', \\'value\\', \\'value\\', \\'value\\', \\'policy\\', \\'value\\']}\\n{\"relation_types\": [(3, 2, reason\\'), (6, 7, reason\\')]}\\n',\n",
       "  '### Output:\\n{\"argument_types\": [\\'testimony\\', \\'testimony\\', \\'testimony\\', \\'value\\', \\'value\\']}\\n{\"relation_types\": [(4, 5, reason\\')]}\\n',\n",
       "  '### Output:\\n{\"argument_types\": [\\'policy\\', \\'policy\\', \\'value\\', \\'value\\', \\'testimony\\', \\'value\\', \\'policy\\', \\'value\\', \\'value\\']}\\n{\"relation_types\": [(2, 4, reason\\'), (7, 8, reason\\'), (7, 9, reason\\')]}\\n',\n",
       "  '### Output:\\n{\"argument_types\": [\\'testimony\\', \\'value\\', \\'value\\', \\'fact\\', \\'value\\', \\'value\\', \\'fact\\', \\'value\\', \\'policy\\', \\'value\\', \\'fact\\', \\'value\\', \\'testimony\\', \\'value\\', \\'policy\\', \\'policy\\', \\'fact\\', \\'policy\\', \\'policy\\', \\'policy\\', \\'policy\\', \\'policy\\', \\'value\\', \\'fact\\', \\'value\\', \\'value\\', \\'value\\', \\'policy\\']}\\n{\"relation_types\": [(5, 4, reason\\'), (6, 7, reason\\'), (6, 8, reason\\'), (15, 14, reason\\'), (20, 19, reason\\'), (21, 20, reason\\'), (22, 23, reason\\')]}\\n',\n",
       "  '### Output:\\n{\"argument_types\": [\\'testimony\\', \\'testimony\\', \\'testimony\\', \\'testimony\\']}\\n{\"relation_types\": []}\\n',\n",
       "  '### Output:\\n{\"argument_types\": [\\'value\\', \\'value\\', \\'value\\', \\'fact\\', \\'fact\\', \\'value\\', \\'value\\', \\'value\\', \\'value\\']}\\n{\"relation_types\": [(1, 3, reason\\'), (3, 4, reason\\'), (3, 5, reason\\'), (6, 7, reason\\'), (6, 8, reason\\')]}\\n',\n",
       "  '### Output:\\n{\"argument_types\": [\\'value\\', \\'policy\\', \\'fact\\', \\'value\\', \\'value\\']}\\n{\"relation_types\": [(4, 5, reason\\')]}\\n',\n",
       "  '### Output:\\n{\"argument_types\": [\\'value\\', \\'policy\\', \\'value\\', \\'policy\\', \\'policy\\', \\'value\\']}\\n{\"relation_types\": [(2, 1, reason\\'), (5, 6, reason\\')]}\\n',\n",
       "  '### Output:\\n{\"argument_types\": [\\'value\\', \\'value\\', \\'fact\\', \\'value\\']}\\n{\"relation_types\": [(2, 4, reason\\')]}\\n',\n",
       "  '### Output:\\n{\"argument_types\": [\\'value\\', \\'fact\\', \\'fact\\']}\\n{\"relation_types\": [(2, 3, reason\\')]}\\n',\n",
       "  '### Output:\\n{\"argument_types\": [\\'value\\', \\'value\\']}\\n{\"relation_types\": [(1, 2, reason\\')]}\\n',\n",
       "  '### Output:\\n{\"argument_types\": [\\'value\\', \\'fact\\', \\'value\\']}\\n{\"relation_types\": [(1, 2, reason\\')]}\\n',\n",
       "  '### Output:\\n{\"argument_types\": [\\'policy\\', \\'value\\', \\'testimony\\', \\'testimony\\', \\'testimony\\', \\'value\\', \\'value\\', \\'value\\', \\'value\\', \\'value\\', \\'value\\', \\'policy\\']}\\n{\"relation_types\": [(2, 3, reason\\'), (2, 4, reason\\'), (2, 9, reason\\'), (2, 10, reason\\'), (2, 11, reason\\'), (9, 10, reason\\'), (9, 11, reason\\'), (10, 11, reason\\'), (11, 10, reason\\'), (1, 2, reason\\'), (12, 10, reason\\'), (12, 11, reason\\')]}\\n',\n",
       "  '### Output:\\n{\"argument_types\": [\\'value\\', \\'policy\\', \\'value\\', \\'policy\\']}\\n{\"relation_types\": [(4, 3, reason\\')]}\\n',\n",
       "  '### Output:\\n{\"argument_types\": [\\'testimony\\', \\'testimony\\', \\'testimony\\', \\'testimony\\', \\'testimony\\', \\'testimony\\', \\'value\\', \\'testimony\\']}\\n{\"relation_types\": [(5, 6, reason\\')]}\\n',\n",
       "  '### Output:\\n{\"argument_types\": [\\'policy\\', \\'value\\', \\'value\\', \\'value\\', \\'value\\', \\'value\\', \\'policy\\', \\'value\\', \\'value\\']}\\n{\"relation_types\": [(2, 3, reason\\'), (4, 5, reason\\'), (4, 6, reason\\'), (7, 8, reason\\'), (7, 9, reason\\')]}\\n',\n",
       "  '### Output:\\n{\"argument_types\": [\\'value\\', \\'value\\', \\'value\\', \\'testimony\\', \\'value\\', \\'value\\', \\'policy\\', \\'value\\']}\\n{\"relation_types\": [(1, 2, reason\\')]}\\n',\n",
       "  '### Output:\\n{\"argument_types\": [\\'policy\\', \\'value\\', \\'value\\', \\'testimony\\', \\'value\\', \\'policy\\', \\'value\\']}\\n{\"relation_types\": [(1, 2, reason\\'), (1, 3, reason\\'), (1, 5, reason\\'), (5, 4, reason\\')]}\\n',\n",
       "  '### Output:\\n{\"argument_types\": [\\'policy\\', \\'policy\\']}\\n{\"relation_types\": []}\\n',\n",
       "  '### Output:\\n{\"argument_types\": [\\'fact\\', \\'testimony\\', \\'testimony\\', \\'testimony\\', \\'value\\']}\\n{\"relation_types\": [(1, 2, reason\\'), (1, 3, reason\\'), (1, 4, reason\\'), (1, 5, reason\\')]}\\n',\n",
       "  '### Output:\\n{\"argument_types\": [\\'value\\', \\'fact\\']}\\n{\"relation_types\": [(1, 2, reason\\')]}\\n',\n",
       "  '### Output:\\n{\"argument_types\": [\\'fact\\', \\'fact\\', \\'value\\']}\\n{\"relation_types\": [(3, 1, reason\\'), (3, 2, reason\\')]}\\n',\n",
       "  '### Output:\\n{\"argument_types\": [\\'policy\\', \\'policy\\']}\\n{\"relation_types\": []}\\n',\n",
       "  '### Output:\\n{\"argument_types\": [\\'policy\\', \\'policy\\', \\'policy\\', \\'value\\', \\'policy\\', \\'value\\']}\\n{\"relation_types\": [(1, 4, reason\\')]}\\n',\n",
       "  '### Output:\\n{\"argument_types\": [\\'value\\', \\'value\\', \\'value\\', \\'fact\\', \\'testimony\\', \\'value\\', \\'value\\', \\'value\\', \\'value\\', \\'value\\']}\\n{\"relation_types\": [(2, 1, reason\\'), (6, 5, reason\\')]}\\n',\n",
       "  '### Output:\\n{\"argument_types\": [\\'value\\', \\'value\\', \\'value\\', \\'value\\', \\'testimony\\', \\'testimony\\', \\'testimony\\', \\'value\\', \\'policy\\']}\\n{\"relation_types\": [(1, 2, reason\\'), (2, 4, reason\\'), (4, 5, reason\\'), (4, 6, reason\\'), (4, 7, reason\\'), (9, 4, reason\\')]}\\n',\n",
       "  '### Output:\\n{\"argument_types\": [\\'value\\', \\'value\\', \\'value\\', \\'policy\\']}\\n{\"relation_types\": []}\\n',\n",
       "  '### Output:\\n{\"argument_types\": [\\'value\\', \\'value\\']}\\n{\"relation_types\": []}\\n',\n",
       "  '### Output:\\n{\"argument_types\": [\\'policy\\', \\'value\\', \\'value\\', \\'policy\\', \\'value\\']}\\n{\"relation_types\": [(1, 2, reason\\'), (1, 2, reason\\'), (2, 3, reason\\'), (4, 5, reason\\')]}\\n',\n",
       "  '### Output:\\n{\"argument_types\": [\\'policy\\', \\'value\\', \\'policy\\', \\'testimony\\']}\\n{\"relation_types\": [(3, 4, reason\\')]}\\n',\n",
       "  '### Output:\\n{\"argument_types\": [\\'value\\', \\'value\\', \\'value\\', \\'value\\', \\'testimony\\', \\'testimony\\', \\'testimony\\', \\'testimony\\', \\'testimony\\', \\'value\\', \\'value\\', \\'value\\', \\'value\\', \\'value\\', \\'value\\']}\\n{\"relation_types\": [(2, 1, reason\\')]}\\n',\n",
       "  '### Output:\\n{\"argument_types\": [\\'value\\', \\'value\\', \\'policy\\', \\'value\\']}\\n{\"relation_types\": [(3, 2, reason\\')]}\\n',\n",
       "  '### Output:\\n{\"argument_types\": [\\'testimony\\', \\'fact\\', \\'value\\', \\'value\\', \\'value\\']}\\n{\"relation_types\": []}\\n',\n",
       "  '### Output:\\n{\"argument_types\": [\\'value\\', \\'value\\', \\'testimony\\', \\'testimony\\']}\\n{\"relation_types\": [(2, 3, \\'evidence\\'), (2, 4, \\'evidence\\')]}\\n',\n",
       "  '### Output:\\n{\"argument_types\": [\\'testimony\\', \\'fact\\', \\'fact\\', \\'value\\', \\'value\\', \\'value\\', \\'value\\', \\'fact\\', \\'fact\\', \\'policy\\']}\\n{\"relation_types\": [(7, 8, reason\\'), (7, 9, reason\\'), (10, 6, reason\\')]}\\n',\n",
       "  '### Output:\\n{\"argument_types\": [\\'value\\', \\'testimony\\', \\'fact\\']}\\n{\"relation_types\": []}\\n',\n",
       "  '### Output:\\n{\"argument_types\": [\\'fact\\', \\'value\\']}\\n{\"relation_types\": [(2, 1, reason\\')]}\\n',\n",
       "  '### Output:\\n{\"argument_types\": [\\'value\\', \\'testimony\\']}\\n{\"relation_types\": []}\\n',\n",
       "  '### Output:\\n{\"argument_types\": [\\'policy\\', \\'policy\\']}\\n{\"relation_types\": []}\\n',\n",
       "  '### Output:\\n{\"argument_types\": [\\'value\\', \\'value\\', \\'value\\', \\'policy\\', \\'value\\', \\'value\\']}\\n{\"relation_types\": [(1, 2, reason\\'), (1, 3, reason\\'), (4, 5, reason\\'), (5, 6, reason\\')]}\\n',\n",
       "  '### Output:\\n{\"argument_types\": [\\'fact\\', \\'fact\\']}\\n{\"relation_types\": []}\\n',\n",
       "  '### Output:\\n{\"argument_types\": [\\'fact\\', \\'value\\', \\'value\\', \\'value\\', \\'value\\', \\'value\\', \\'value\\', \\'value\\']}\\n{\"relation_types\": []}\\n',\n",
       "  '### Output:\\n{\"argument_types\": [\\'policy\\', \\'testimony\\', \\'testimony\\', \\'testimony\\', \\'value\\', \\'policy\\', \\'policy\\', \\'policy\\']}\\n{\"relation_types\": [(1, 2, reason\\'), (1, 3, reason\\'), (6, 5, reason\\'), (7, 8, reason\\')]}\\n',\n",
       "  '### Output:\\n{\"argument_types\": [\\'value\\', \\'value\\', \\'value\\', \\'value\\', \\'policy\\']}\\n{\"relation_types\": []}\\n',\n",
       "  '### Output:\\n{\"argument_types\": [\\'testimony\\', \\'testimony\\', \\'testimony\\', \\'testimony\\', \\'testimony\\']}\\n{\"relation_types\": []}\\n',\n",
       "  '### Output:\\n{\"argument_types\": [\\'value\\', \\'fact\\', \\'fact\\', \\'value\\']}\\n{\"relation_types\": []}\\n',\n",
       "  '### Output:\\n{\"argument_types\": [\\'value\\', \\'policy\\', \\'policy\\', \\'policy\\', \\'value\\', \\'value\\']}\\n{\"relation_types\": [(4, 5, reason\\'), (5, 6, reason\\')]}\\n',\n",
       "  '### Output:\\n{\"argument_types\": [\\'value\\', \\'value\\']}\\n{\"relation_types\": [(1, 2, reason\\')]}\\n',\n",
       "  '### Output:\\n{\"argument_types\": [\\'testimony\\', \\'fact\\', \\'fact\\', \\'fact\\', \\'testimony\\', \\'testimony\\', \\'policy\\', \\'value\\', \\'value\\', \\'testimony\\', \\'testimony\\', \\'testimony\\', \\'fact\\', \\'policy\\']}\\n{\"relation_types\": [(3, 4, reason\\'), (7, 5, reason\\'), (7, 6, reason\\'), (14, 13, reason\\')]}\\n',\n",
       "  '### Output:\\n{\"argument_types\": [\\'policy\\', \\'policy\\', \\'policy\\', \\'value\\']}\\n{\"relation_types\": [(3, 4, reason\\')]}\\n',\n",
       "  '### Output:\\n{\"argument_types\": [\\'value\\', \\'fact\\', \\'value\\', \\'testimony\\', \\'policy\\', \\'value\\']}\\n{\"relation_types\": [(1, 2, reason\\'), (1, 3, reason\\'), (1, 4, reason\\'), (5, 6, reason\\')]}\\n',\n",
       "  '### Output:\\n{\"argument_types\": [\\'value\\', \\'policy\\', \\'value\\', \\'value\\', \\'value\\', \\'policy\\', \\'value\\']}\\n{\"relation_types\": [(4, 5, reason\\'), (6, 5, reason\\')]}\\n',\n",
       "  '### Output:\\n{\"argument_types\": [\\'policy\\', \\'value\\', \\'value\\']}\\n{\"relation_types\": [(1, 2, reason\\')]}\\n',\n",
       "  '### Output:\\n{\"argument_types\": [\\'fact\\', \\'fact\\', \\'fact\\', \\'fact\\', \\'fact\\', \\'value\\', \\'policy\\']}\\n{\"relation_types\": []}\\n',\n",
       "  '### Output:\\n{\"argument_types\": [\\'value\\', \\'value\\', \\'fact\\', \\'fact\\', \\'value\\', \\'value\\', \\'testimony\\', \\'testimony\\', \\'value\\', \\'testimony\\', \\'value\\', \\'value\\', \\'value\\', \\'value\\', \\'value\\', \\'value\\', \\'value\\', \\'value\\', \\'value\\', \\'value\\', \\'value\\', \\'value\\', \\'value\\']}\\n{\"relation_types\": [(2, 3, reason\\'), (5, 6, reason\\'), (16, 15, reason\\'), (17, 18, reason\\')]}\\n',\n",
       "  '### Output:\\n{\"argument_types\": [\\'value\\', \\'value\\', \\'testimony\\', \\'value\\', \\'value\\', \\'value\\', \\'value\\', \\'value\\', \\'value\\', \\'fact\\', \\'value\\', \\'policy\\', \\'value\\']}\\n{\"relation_types\": [(8, 9, reason\\')]}\\n',\n",
       "  '### Output:\\n{\"argument_types\": [\\'value\\', \\'value\\']}\\n{\"relation_types\": []}\\n',\n",
       "  '### Output:\\n{\"argument_types\": [\\'value\\', \\'value\\', \\'value\\', \\'value\\', \\'testimony\\', \\'value\\', \\'value\\', \\'value\\', \\'value\\', \\'value\\', \\'value\\', \\'value\\', \\'value\\', \\'testimony\\', \\'policy\\']}\\n{\"relation_types\": [(3, 4, reason\\'), (8, 9, reason\\'), (10, 11, reason\\'), (12, 13, reason\\'), (15, 14, reason\\')]}\\n',\n",
       "  '### Output:\\n{\"argument_types\": [\\'reference\\', \\'value\\', \\'value\\']}\\n{\"relation_types\": [(2, 1, reason\\')]}\\n']}"
      ]
     },
     "execution_count": 5,
     "metadata": {},
     "output_type": "execute_result"
    }
   ],
   "source": [
    "results"
   ]
  },
  {
   "cell_type": "code",
   "execution_count": 6,
   "id": "911df15f-a6db-4cb7-a41d-d6252afe9218",
   "metadata": {},
   "outputs": [],
   "source": [
    "grounds_global = results[\"grounds\"]"
   ]
  },
  {
   "cell_type": "code",
   "execution_count": 7,
   "id": "1273284e-f3d7-46d3-842f-d8a8ebde974e",
   "metadata": {},
   "outputs": [],
   "source": [
    "preds_global = results[\"predictions\"]"
   ]
  },
  {
   "cell_type": "code",
   "execution_count": 8,
   "id": "95d24a40-391b-4249-b041-c225fbc3dd23",
   "metadata": {},
   "outputs": [
    {
     "data": {
      "text/plain": [
       "(150, 150)"
      ]
     },
     "execution_count": 8,
     "metadata": {},
     "output_type": "execute_result"
    }
   ],
   "source": [
    "len(grounds_global), len(preds_global)"
   ]
  },
  {
   "cell_type": "markdown",
   "id": "4c6bcd80-226f-4922-b6c5-44bf6b723eea",
   "metadata": {},
   "source": [
    "## ACC post-processing"
   ]
  },
  {
   "cell_type": "code",
   "execution_count": 14,
   "id": "b771ddc5",
   "metadata": {},
   "outputs": [
    {
     "data": {
      "text/plain": [
       "'{\"argument_types\": [\\'fact\\', \\'value\\', \\'policy\\']}'"
      ]
     },
     "execution_count": 14,
     "metadata": {},
     "output_type": "execute_result"
    }
   ],
   "source": [
    "grounds_global[0].split(\"\\n\")[1]"
   ]
  },
  {
   "cell_type": "code",
   "execution_count": 16,
   "id": "3e20283f-0b64-4db9-ac49-1ad9c3f4955f",
   "metadata": {},
   "outputs": [],
   "source": [
    "grounds_acc = [json.loads(x.replace('### Output:\\n', '').strip().split('\\n')[0].replace(\"'\", '\"'))[\"argument_types\"] for x in grounds_global]"
   ]
  },
  {
   "cell_type": "code",
   "execution_count": 17,
   "id": "27412c25-029d-4ceb-912b-d33b843a6e3a",
   "metadata": {},
   "outputs": [],
   "source": [
    "predictions_acc = [json.loads(x.replace('### Output:\\n', '').strip().split('\\n')[0].replace(\"'\", '\"'))[\"argument_types\"] for x in preds_global]"
   ]
  },
  {
   "cell_type": "code",
   "execution_count": 18,
   "id": "67026857-986d-4c96-b043-eb6845555bdf",
   "metadata": {},
   "outputs": [
    {
     "data": {
      "text/plain": [
       "(150, 150)"
      ]
     },
     "execution_count": 18,
     "metadata": {},
     "output_type": "execute_result"
    }
   ],
   "source": [
    "len(grounds_acc), len(predictions_acc)"
   ]
  },
  {
   "cell_type": "code",
   "execution_count": 19,
   "id": "992e83a2-ba18-46a0-a51c-29176d62a2b7",
   "metadata": {},
   "outputs": [
    {
     "name": "stdout",
     "output_type": "stream",
     "text": [
      "73\n",
      "75\n"
     ]
    }
   ],
   "source": [
    "bad_idx = []\n",
    "for i,(x,y) in enumerate(zip(grounds_acc, predictions_acc)):\n",
    "    \n",
    "    if len(x) != len(y):\n",
    "        bad_idx.append(i)\n",
    "        print(i)\n",
    "        #preds[i] = harmonize_preds(x, y)"
   ]
  },
  {
   "cell_type": "code",
   "execution_count": 20,
   "id": "087db954-f94c-467f-b298-00328cc6199d",
   "metadata": {},
   "outputs": [],
   "source": [
    "grounds_acc = [elem for idx, elem in enumerate(grounds_acc) if idx not in bad_idx]\n",
    "predictions_acc = [elem for idx, elem in enumerate(predictions_acc) if idx not in bad_idx]"
   ]
  },
  {
   "cell_type": "code",
   "execution_count": 21,
   "id": "c50b77e1-26ca-4eb3-b253-e9a588d1ad6e",
   "metadata": {},
   "outputs": [],
   "source": [
    "ATC_preds = [item for row in predictions_acc for item in row]\n",
    "ATC_grounds = [item for row in grounds_acc for item in row]"
   ]
  },
  {
   "cell_type": "code",
   "execution_count": 22,
   "id": "779c7dc5-843d-4a51-8c2d-e8ba386e770e",
   "metadata": {},
   "outputs": [
    {
     "data": {
      "text/plain": [
       "True"
      ]
     },
     "execution_count": 22,
     "metadata": {},
     "output_type": "execute_result"
    }
   ],
   "source": [
    "# sanity check: \n",
    "len(ATC_preds) == len(ATC_grounds)"
   ]
  },
  {
   "cell_type": "code",
   "execution_count": 23,
   "id": "ab2d03ac-f035-4fd6-a7ed-269de3445333",
   "metadata": {},
   "outputs": [],
   "source": [
    "from sklearn.metrics import classification_report"
   ]
  },
  {
   "cell_type": "code",
   "execution_count": 24,
   "id": "554dc526-d033-405a-8a0b-57e85e81975c",
   "metadata": {},
   "outputs": [
    {
     "name": "stdout",
     "output_type": "stream",
     "text": [
      "              precision    recall  f1-score   support\n",
      "\n",
      "        fact      0.694     0.656     0.675       128\n",
      "      policy      0.907     0.958     0.932       143\n",
      "   reference      1.000     1.000     1.000         1\n",
      "   testimony      0.922     0.852     0.886       237\n",
      "       value      0.852     0.884     0.868       464\n",
      "\n",
      "    accuracy                          0.857       973\n",
      "   macro avg      0.875     0.870     0.872       973\n",
      "weighted avg      0.857     0.857     0.856       973\n",
      "\n"
     ]
    }
   ],
   "source": [
    "print(classification_report(ATC_grounds, ATC_preds, digits=3))"
   ]
  },
  {
   "cell_type": "raw",
   "id": "8917c85d",
   "metadata": {
    "vscode": {
     "languageId": "raw"
    }
   },
   "source": [
    "precision    recall  f1-score   support\n",
    "\n",
    "        fact      0.575     0.583     0.579       132\n",
    "      policy      0.894     0.830     0.861       153\n",
    "   reference      1.000     1.000     1.000         1\n",
    "   testimony      0.904     0.852     0.878       244\n",
    "       value      0.823     0.861     0.841       496\n",
    "\n",
    "    accuracy                          0.819      1026\n",
    "   macro avg      0.839     0.825     0.832      1026\n",
    "weighted avg      0.821     0.819     0.819      1026\n",
    "\n",
    "old results ###"
   ]
  },
  {
   "cell_type": "markdown",
   "id": "ffc32bae-7a9c-4904-959a-92257d8268a0",
   "metadata": {},
   "source": [
    "### ARIC"
   ]
  },
  {
   "cell_type": "code",
   "execution_count": 32,
   "id": "3d8d6462",
   "metadata": {},
   "outputs": [],
   "source": [
    "import re"
   ]
  },
  {
   "cell_type": "code",
   "execution_count": 24,
   "id": "a392b93c-737a-467e-84e7-8287e60f9b9c",
   "metadata": {},
   "outputs": [
    {
     "data": {
      "text/plain": [
       "(150, 150)"
      ]
     },
     "execution_count": 24,
     "metadata": {},
     "output_type": "execute_result"
    }
   ],
   "source": [
    "len(grounds_global), len(preds_global)"
   ]
  },
  {
   "cell_type": "code",
   "execution_count": 25,
   "id": "6db466ed",
   "metadata": {},
   "outputs": [],
   "source": [
    "grounds_aric = [json.loads(json.dumps(ast.literal_eval(x.replace('### Output:\\n', '').strip().split('\\n')[1])))[\"relation_types\"] for x in grounds_global]"
   ]
  },
  {
   "cell_type": "code",
   "execution_count": 27,
   "id": "134e5563",
   "metadata": {},
   "outputs": [
    {
     "data": {
      "text/plain": [
       "[[[3, 2, 'reason']],\n",
       " [],\n",
       " [],\n",
       " [],\n",
       " [[5, 3, 'reason'], [5, 4, 'reason']],\n",
       " [[5, 1, 'reason'], [5, 2, 'reason'], [5, 3, 'reason'], [5, 4, 'reason']],\n",
       " [[2, 3, 'evidence'],\n",
       "  [2, 4, 'evidence'],\n",
       "  [2, 5, 'evidence'],\n",
       "  [1, 4, 'reason'],\n",
       "  [1, 5, 'reason']],\n",
       " [[1, 2, 'reason'], [4, 3, 'reason'], [6, 3, 'reason']],\n",
       " [[4, 5, 'reason'],\n",
       "  [4, 6, 'reason'],\n",
       "  [6, 8, 'reason'],\n",
       "  [6, 9, 'reason'],\n",
       "  [6, 10, 'reason']],\n",
       " [[1, 2, 'reason'], [1, 4, 'reason']],\n",
       " [[2, 3, 'reason'],\n",
       "  [2, 4, 'reason'],\n",
       "  [2, 5, 'reason'],\n",
       "  [6, 7, 'reason'],\n",
       "  [6, 8, 'reason']],\n",
       " [[3, 4, 'reason']],\n",
       " [[1, 2, 'reason'], [1, 3, 'reason'], [5, 2, 'reason']],\n",
       " [],\n",
       " [[2, 3, 'reason'], [2, 4, 'reason']],\n",
       " [[1, 2, 'reason'], [3, 4, 'reason']],\n",
       " [[1, 2, 'reason'], [1, 3, 'reason'], [1, 4, 'reason']],\n",
       " [[1, 2, 'reason'], [1, 3, 'reason'], [1, 4, 'reason']],\n",
       " [],\n",
       " [],\n",
       " [[1, 3, 'reason'], [3, 2, 'reason'], [5, 6, 'reason']],\n",
       " [[2, 3, 'reason'], [2, 4, 'reason'], [7, 8, 'reason'], [8, 9, 'reason']],\n",
       " [[3, 4, 'reason']],\n",
       " [],\n",
       " [],\n",
       " [[2, 3, 'reason'],\n",
       "  [2, 4, 'reason'],\n",
       "  [2, 5, 'reason'],\n",
       "  [9, 11, 'reason'],\n",
       "  [9, 12, 'reason'],\n",
       "  [9, 10, 'reason'],\n",
       "  [14, 13, 'reason'],\n",
       "  [26, 25, 'reason'],\n",
       "  [26, 27, 'reason']],\n",
       " [[5, 4, 'reason']],\n",
       " [],\n",
       " [[2, 3, 'evidence'],\n",
       "  [2, 4, 'evidence'],\n",
       "  [5, 1, 'reason'],\n",
       "  [5, 2, 'reason'],\n",
       "  [6, 7, 'reason'],\n",
       "  [7, 1, 'reason'],\n",
       "  [7, 2, 'reason']],\n",
       " [],\n",
       " [[1, 2, 'reason'], [5, 6, 'reason']],\n",
       " [],\n",
       " [],\n",
       " [],\n",
       " [],\n",
       " [],\n",
       " [[2, 1, 'reason']],\n",
       " [[1, 2, 'reason'], [1, 3, 'reason'], [4, 5, 'reason'], [6, 5, 'reason']],\n",
       " [[1, 3, 'reason'],\n",
       "  [1, 4, 'reason'],\n",
       "  [1, 5, 'reason'],\n",
       "  [6, 3, 'reason'],\n",
       "  [6, 4, 'reason'],\n",
       "  [6, 5, 'reason']],\n",
       " [],\n",
       " [],\n",
       " [],\n",
       " [[1, 2, 'reason']],\n",
       " [[1, 2, 'evidence'],\n",
       "  [1, 3, 'evidence'],\n",
       "  [1, 4, 'evidence'],\n",
       "  [1, 5, 'evidence'],\n",
       "  [1, 6, 'evidence'],\n",
       "  [1, 7, 'evidence'],\n",
       "  [1, 8, 'evidence']],\n",
       " [[2, 3, 'reason'], [2, 4, 'reason'], [2, 5, 'reason']],\n",
       " [],\n",
       " [],\n",
       " [[4, 3, 'reason'], [7, 6, 'reason'], [8, 2, 'reason'], [8, 4, 'reason']],\n",
       " [],\n",
       " [],\n",
       " [[1, 2, 'reason'], [1, 3, 'reason'], [5, 6, 'reason']],\n",
       " [[10, 9, 'reason'], [12, 13, 'reason']],\n",
       " [[7, 8, 'reason']],\n",
       " [[1, 2, 'reason']],\n",
       " [[1, 2, 'reason'], [7, 6, 'reason']],\n",
       " [[8, 9, 'evidence'],\n",
       "  [2, 3, 'reason'],\n",
       "  [12, 11, 'reason'],\n",
       "  [14, 13, 'reason']],\n",
       " [],\n",
       " [[2, 3, 'reason'], [2, 4, 'reason']],\n",
       " [[1, 3, 'reason'], [1, 4, 'reason']],\n",
       " [[1, 2, 'reason'], [1, 3, 'reason'], [1, 4, 'reason']],\n",
       " [[1, 5, 'reason'],\n",
       "  [3, 4, 'reason'],\n",
       "  [3, 5, 'reason'],\n",
       "  [6, 7, 'reason'],\n",
       "  [11, 13, 'reason'],\n",
       "  [11, 14, 'reason'],\n",
       "  [12, 11, 'reason'],\n",
       "  [15, 13, 'reason'],\n",
       "  [15, 14, 'reason']],\n",
       " [[3, 2, 'reason']],\n",
       " [[1, 2, 'reason'],\n",
       "  [1, 3, 'reason'],\n",
       "  [4, 5, 'reason'],\n",
       "  [8, 9, 'reason'],\n",
       "  [12, 13, 'reason'],\n",
       "  [15, 16, 'reason']],\n",
       " [],\n",
       " [[1, 2, 'reason'],\n",
       "  [1, 3, 'reason'],\n",
       "  [1, 4, 'reason'],\n",
       "  [1, 5, 'reason'],\n",
       "  [1, 6, 'reason'],\n",
       "  [3, 4, 'reason'],\n",
       "  [4, 5, 'reason'],\n",
       "  [7, 8, 'reason']],\n",
       " [],\n",
       " [[1, 2, 'reason'], [3, 4, 'reason'], [6, 5, 'reason']],\n",
       " [[1, 2, 'evidence'],\n",
       "  [1, 3, 'evidence'],\n",
       "  [1, 4, 'evidence'],\n",
       "  [6, 7, 'reason']],\n",
       " [],\n",
       " [[2, 3, 'reason']],\n",
       " [],\n",
       " [[1, 2, 'reason'], [1, 3, 'reason']],\n",
       " [[1, 2, 'reason'], [3, 2, 'reason']],\n",
       " [[3, 4, 'reason'],\n",
       "  [4, 5, 'reason'],\n",
       "  [4, 6, 'reason'],\n",
       "  [4, 7, 'reason'],\n",
       "  [4, 8, 'reason'],\n",
       "  [4, 9, 'reason'],\n",
       "  [4, 10, 'reason'],\n",
       "  [4, 11, 'reason'],\n",
       "  [4, 12, 'reason'],\n",
       "  [4, 13, 'reason'],\n",
       "  [15, 16, 'reason'],\n",
       "  [17, 18, 'reason'],\n",
       "  [18, 19, 'reason']],\n",
       " [[7, 8, 'reason'], [9, 10, 'reason'], [10, 11, 'reason'], [16, 15, 'reason']],\n",
       " [[1, 2, 'reason'],\n",
       "  [1, 3, 'reason'],\n",
       "  [13, 14, 'reason'],\n",
       "  [20, 19, 'reason'],\n",
       "  [22, 21, 'reason'],\n",
       "  [27, 28, 'reason'],\n",
       "  [31, 32, 'reason']],\n",
       " [[1, 2, 'reason'], [3, 4, 'reason']],\n",
       " [[3, 4, 'reason']],\n",
       " [[1, 2, 'reason'],\n",
       "  [2, 13, 'reason'],\n",
       "  [2, 3, 'reason'],\n",
       "  [2, 4, 'reason'],\n",
       "  [2, 6, 'reason'],\n",
       "  [2, 9, 'reason'],\n",
       "  [2, 10, 'reason'],\n",
       "  [5, 4, 'reason'],\n",
       "  [9, 8, 'reason'],\n",
       "  [11, 10, 'reason'],\n",
       "  [14, 13, 'reason']],\n",
       " [[3, 2, 'reason'], [4, 3, 'reason']],\n",
       " [[3, 4, 'reason'], [12, 11, 'reason']],\n",
       " [],\n",
       " [],\n",
       " [[3, 4, 'reason'], [13, 14, 'reason']],\n",
       " [[3, 4, 'reason'],\n",
       "  [5, 3, 'reason'],\n",
       "  [5, 4, 'reason'],\n",
       "  [6, 7, 'reason'],\n",
       "  [9, 10, 'reason'],\n",
       "  [11, 12, 'reason'],\n",
       "  [11, 13, 'reason']],\n",
       " [[3, 2, 'reason']],\n",
       " [[5, 3, 'reason']],\n",
       " [[1, 3, 'reason'], [6, 4, 'reason'], [6, 5, 'reason']],\n",
       " [[1, 2, 'reason'],\n",
       "  [1, 3, 'reason'],\n",
       "  [1, 4, 'reason'],\n",
       "  [1, 5, 'reason'],\n",
       "  [1, 6, 'reason'],\n",
       "  [1, 7, 'reason'],\n",
       "  [1, 8, 'reason'],\n",
       "  [1, 9, 'reason'],\n",
       "  [1, 10, 'reason'],\n",
       "  [1, 11, 'reason']],\n",
       " [[1, 2, 'reason']],\n",
       " [[5, 4, 'reason']],\n",
       " [[3, 2, 'reason'], [6, 5, 'reason'], [6, 7, 'reason']],\n",
       " [[4, 5, 'reason'], [5, 1, 'reason'], [5, 2, 'reason']],\n",
       " [[4, 5, 'reason'], [4, 6, 'reason'], [7, 8, 'reason'], [8, 9, 'reason']],\n",
       " [[2, 1, 'reason'],\n",
       "  [5, 4, 'reason'],\n",
       "  [6, 7, 'reason'],\n",
       "  [6, 8, 'reason'],\n",
       "  [11, 10, 'reason'],\n",
       "  [12, 13, 'reason'],\n",
       "  [20, 21, 'reason'],\n",
       "  [22, 23, 'reason']],\n",
       " [[2, 3, 'reason']],\n",
       " [[1, 2, 'reason'], [2, 3, 'reason']],\n",
       " [[4, 5, 'reason']],\n",
       " [[2, 1, 'reason'], [5, 6, 'reason']],\n",
       " [],\n",
       " [[2, 3, 'reason']],\n",
       " [[1, 2, 'reason']],\n",
       " [[3, 2, 'reason']],\n",
       " [],\n",
       " [[2, 1, 'reason'], [4, 3, 'reason']],\n",
       " [[5, 6, 'reason'],\n",
       "  [7, 1, 'reason'],\n",
       "  [7, 2, 'reason'],\n",
       "  [7, 3, 'reason'],\n",
       "  [7, 4, 'reason'],\n",
       "  [7, 5, 'reason']],\n",
       " [],\n",
       " [[7, 6, 'reason']],\n",
       " [[1, 2, 'reason'], [1, 3, 'reason'], [4, 5, 'reason']],\n",
       " [],\n",
       " [[1, 2, 'evidence'],\n",
       "  [1, 3, 'evidence'],\n",
       "  [1, 4, 'evidence'],\n",
       "  [1, 5, 'evidence'],\n",
       "  [4, 5, 'reason']],\n",
       " [[1, 2, 'reason']],\n",
       " [[2, 1, 'reason'], [3, 2, 'reason']],\n",
       " [],\n",
       " [[1, 4, 'reason'], [1, 6, 'reason'], [3, 4, 'reason'], [5, 6, 'reason']],\n",
       " [[6, 5, 'evidence'], [2, 1, 'reason']],\n",
       " [[2, 4, 'reason'],\n",
       "  [3, 2, 'reason'],\n",
       "  [4, 5, 'reason'],\n",
       "  [4, 6, 'reason'],\n",
       "  [4, 7, 'reason'],\n",
       "  [4, 8, 'reason'],\n",
       "  [9, 4, 'reason']],\n",
       " [],\n",
       " [],\n",
       " [[1, 2, 'reason'], [4, 5, 'reason']],\n",
       " [],\n",
       " [[4, 5, 'evidence'],\n",
       "  [4, 6, 'evidence'],\n",
       "  [4, 7, 'evidence'],\n",
       "  [4, 8, 'evidence'],\n",
       "  [4, 9, 'evidence'],\n",
       "  [2, 1, 'reason'],\n",
       "  [9, 8, 'reason']],\n",
       " [],\n",
       " [],\n",
       " [[2, 3, 'reason']],\n",
       " [[5, 4, 'reason'], [7, 8, 'reason']],\n",
       " [],\n",
       " [[2, 1, 'reason']],\n",
       " [],\n",
       " [],\n",
       " [[1, 2, 'reason'],\n",
       "  [4, 2, 'reason'],\n",
       "  [4, 3, 'reason'],\n",
       "  [4, 5, 'reason'],\n",
       "  [6, 2, 'reason'],\n",
       "  [6, 3, 'reason']],\n",
       " [],\n",
       " [],\n",
       " [[6, 5, 'reason']],\n",
       " [],\n",
       " [],\n",
       " [[3, 2, 'reason']],\n",
       " [[5, 6, 'reason']],\n",
       " [],\n",
       " [[3, 4, 'reason'], [6, 5, 'reason'], [7, 8, 'reason']],\n",
       " [[3, 4, 'reason']],\n",
       " [[5, 6, 'reason']],\n",
       " [[2, 1, 'reason'],\n",
       "  [4, 5, 'reason'],\n",
       "  [4, 7, 'reason'],\n",
       "  [6, 5, 'reason'],\n",
       "  [6, 7, 'reason']],\n",
       " [[1, 2, 'reason']],\n",
       " [],\n",
       " [[17, 18, 'reason'], [20, 22, 'reason']],\n",
       " [[5, 4, 'reason'], [8, 9, 'reason']],\n",
       " [[1, 2, 'reason']],\n",
       " [[1, 4, 'reason'],\n",
       "  [4, 5, 'reason'],\n",
       "  [6, 5, 'reason'],\n",
       "  [7, 4, 'reason'],\n",
       "  [8, 9, 'reason'],\n",
       "  [10, 11, 'reason'],\n",
       "  [12, 13, 'reason'],\n",
       "  [14, 13, 'reason']],\n",
       " []]"
      ]
     },
     "execution_count": 27,
     "metadata": {},
     "output_type": "execute_result"
    }
   ],
   "source": [
    "grounds_aric"
   ]
  },
  {
   "cell_type": "code",
   "execution_count": 35,
   "id": "2b6d1dd1",
   "metadata": {},
   "outputs": [],
   "source": [
    "def safe_eval(s):\n",
    "    try:\n",
    "        return ast.literal_eval(s)\n",
    "    except (SyntaxError, ValueError):\n",
    "        # Fix unquoted 'reason' strings like: (3, 1, reason') → (3, 1, 'reason')\n",
    "        s = re.sub(r\"\\((\\d+),\\s*(\\d+),\\s*([a-zA-Z_][a-zA-Z0-9_]*)'\\)\", r\"(\\1, \\2, '\\3')\", s)\n",
    "        try:\n",
    "            return ast.literal_eval(s)\n",
    "        except Exception as e:\n",
    "            print(\"Still failed to parse:\", s)\n",
    "            return {}"
   ]
  },
  {
   "cell_type": "code",
   "execution_count": 36,
   "id": "872fe838",
   "metadata": {},
   "outputs": [],
   "source": [
    "predictions_aric = []\n",
    "\n",
    "for x in preds_global:\n",
    "    try:\n",
    "        output_line = x.replace('### Output:\\n', '').strip().split('\\n')[1]\n",
    "        parsed = safe_eval(output_line)\n",
    "        if isinstance(parsed, dict) and \"relation_types\" in parsed:\n",
    "            predictions_aric.append(parsed[\"relation_types\"])\n",
    "        else:\n",
    "            predictions_aric.append([])  # Fallback for malformed inputs\n",
    "    except Exception as e:\n",
    "        print(f\"Error parsing line: {x}\\n{e}\")\n",
    "        predictions_aric.append([])  # Add empty entry on failure"
   ]
  },
  {
   "cell_type": "code",
   "execution_count": 37,
   "id": "c73fb8ad",
   "metadata": {},
   "outputs": [
    {
     "data": {
      "text/plain": [
       "(150, 150)"
      ]
     },
     "execution_count": 37,
     "metadata": {},
     "output_type": "execute_result"
    }
   ],
   "source": [
    "len(grounds_aric), len(predictions_aric)"
   ]
  },
  {
   "cell_type": "code",
   "execution_count": 38,
   "id": "ee8ff61a",
   "metadata": {},
   "outputs": [],
   "source": [
    "def process_grounds_aric(grounds_l, nr_acs):\n",
    "    \n",
    "    relations_aric = []\n",
    "    \n",
    "    relation_dict = {(i, j): rel for i, j, rel in grounds_l}\n",
    "    \n",
    "    for i in range(1, nr_acs + 1):\n",
    "        for j in range(1, nr_acs + 1):\n",
    "            if i != j:\n",
    "                relation = relation_dict.get((i, j), \"NR\")\n",
    "                relations_aric.append((i, j, relation))\n",
    "                \n",
    "    return relations_aric"
   ]
  },
  {
   "cell_type": "code",
   "execution_count": 42,
   "id": "8ba6452f",
   "metadata": {},
   "outputs": [],
   "source": [
    "nr_acs_l = [len(elem) for elem in grounds_acc]"
   ]
  },
  {
   "cell_type": "code",
   "execution_count": 40,
   "id": "b5318d27",
   "metadata": {},
   "outputs": [],
   "source": [
    "ground_relations = []\n",
    "\n",
    "for i, j in zip(grounds_aric, nr_acs_l):\n",
    "    ground_relations.append(process_grounds_aric(i, j))"
   ]
  },
  {
   "cell_type": "code",
   "execution_count": 41,
   "id": "666e87e5",
   "metadata": {},
   "outputs": [
    {
     "data": {
      "text/plain": [
       "148"
      ]
     },
     "execution_count": 41,
     "metadata": {},
     "output_type": "execute_result"
    }
   ],
   "source": [
    "len(ground_relations)"
   ]
  },
  {
   "cell_type": "code",
   "execution_count": 43,
   "id": "8a060aaf",
   "metadata": {},
   "outputs": [],
   "source": [
    "def process_predictions_aric(predictions_l, nr_acs):\n",
    "    \n",
    "    relations_aric = []\n",
    "    \n",
    "    relation_dict = {(i, j): rel for i, j, rel in predictions_l}\n",
    "    \n",
    "    for i in range(1, nr_acs + 1):\n",
    "        for j in range(1, nr_acs + 1):\n",
    "            if i != j:\n",
    "                relation = relation_dict.get((i, j), \"NR\")\n",
    "                relations_aric.append((i, j, relation))\n",
    "                \n",
    "    return relations_aric"
   ]
  },
  {
   "cell_type": "code",
   "execution_count": 44,
   "id": "7b583b9f",
   "metadata": {},
   "outputs": [],
   "source": [
    "prediction_relations = []\n",
    "\n",
    "for i, j in zip(predictions_aric, nr_acs_l):\n",
    "    prediction_relations.append(process_predictions_aric(i, j))"
   ]
  },
  {
   "cell_type": "code",
   "execution_count": null,
   "id": "7f776ce8",
   "metadata": {},
   "outputs": [
    {
     "data": {
      "text/plain": [
       "148"
      ]
     },
     "execution_count": 45,
     "metadata": {},
     "output_type": "execute_result"
    }
   ],
   "source": [
    "len(prediction_relations)"
   ]
  },
  {
   "cell_type": "code",
   "execution_count": 46,
   "id": "edb6f976",
   "metadata": {},
   "outputs": [],
   "source": [
    "grounds_l = [elem[2] for sl in ground_relations for elem in sl]\n",
    "predictions_l = [elem[2] for sl in prediction_relations for elem in sl]"
   ]
  },
  {
   "cell_type": "code",
   "execution_count": 47,
   "id": "d93028d6",
   "metadata": {},
   "outputs": [
    {
     "data": {
      "text/plain": [
       "(8864, 8864)"
      ]
     },
     "execution_count": 47,
     "metadata": {},
     "output_type": "execute_result"
    }
   ],
   "source": [
    "len(grounds_l), len(predictions_l)"
   ]
  },
  {
   "cell_type": "code",
   "execution_count": 48,
   "id": "3cacd3d1",
   "metadata": {},
   "outputs": [
    {
     "name": "stdout",
     "output_type": "stream",
     "text": [
      "              precision    recall  f1-score   support\n",
      "\n",
      "          NR      0.982     0.989     0.986      8606\n",
      "    evidence      0.000     0.000     0.000        19\n",
      "      reason      0.507     0.427     0.464       239\n",
      "\n",
      "    accuracy                          0.972      8864\n",
      "   macro avg      0.497     0.472     0.483      8864\n",
      "weighted avg      0.968     0.972     0.969      8864\n",
      "\n"
     ]
    }
   ],
   "source": [
    "print(classification_report(grounds_l, predictions_l, digits=3))"
   ]
  },
  {
   "cell_type": "raw",
   "id": "2842d2b7",
   "metadata": {
    "vscode": {
     "languageId": "raw"
    }
   },
   "source": [
    "precision    recall  f1-score   support\n",
    "\n",
    "       N-Rel      0.985     0.988     0.986     10078\n",
    "         Rel      0.434     0.380     0.405       250\n",
    "\n",
    "    accuracy                          0.973     10328\n",
    "   macro avg      0.709     0.684     0.696     10328\n",
    "weighted avg      0.971     0.973     0.972     10328\n",
    "\n",
    "old results"
   ]
  }
 ],
 "metadata": {
  "kernelspec": {
   "display_name": "Python (17M_env)",
   "language": "python",
   "name": "17m_env"
  },
  "language_info": {
   "codemirror_mode": {
    "name": "ipython",
    "version": 3
   },
   "file_extension": ".py",
   "mimetype": "text/x-python",
   "name": "python",
   "nbconvert_exporter": "python",
   "pygments_lexer": "ipython3",
   "version": "3.11.11"
  }
 },
 "nbformat": 4,
 "nbformat_minor": 5
}
