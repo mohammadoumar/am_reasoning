{
 "cells": [
  {
   "cell_type": "code",
   "execution_count": 6,
   "id": "5d5d59b3",
   "metadata": {},
   "outputs": [],
   "source": [
    "import pandas as pd\n",
    "import json"
   ]
  },
  {
   "cell_type": "code",
   "execution_count": 8,
   "id": "230487f6",
   "metadata": {},
   "outputs": [],
   "source": [
    "with open(\"/Utilisateurs/umushtaq/am_reasoning/QT30/raw_files/nodeset17929.json\", \"r\", encoding=\"utf-8\") as f:\n",
    "    data = json.load(f)"
   ]
  },
  {
   "cell_type": "code",
   "execution_count": 9,
   "id": "74941e09",
   "metadata": {},
   "outputs": [],
   "source": [
    "df = pd.DataFrame(data[\"nodes\"])"
   ]
  },
  {
   "cell_type": "code",
   "execution_count": 10,
   "id": "aec24346",
   "metadata": {},
   "outputs": [
    {
     "data": {
      "text/html": [
       "<div>\n",
       "<style scoped>\n",
       "    .dataframe tbody tr th:only-of-type {\n",
       "        vertical-align: middle;\n",
       "    }\n",
       "\n",
       "    .dataframe tbody tr th {\n",
       "        vertical-align: top;\n",
       "    }\n",
       "\n",
       "    .dataframe thead th {\n",
       "        text-align: right;\n",
       "    }\n",
       "</style>\n",
       "<table border=\"1\" class=\"dataframe\">\n",
       "  <thead>\n",
       "    <tr style=\"text-align: right;\">\n",
       "      <th></th>\n",
       "      <th>nodeID</th>\n",
       "      <th>text</th>\n",
       "      <th>type</th>\n",
       "      <th>timestamp</th>\n",
       "      <th>scheme</th>\n",
       "      <th>schemeID</th>\n",
       "    </tr>\n",
       "  </thead>\n",
       "  <tbody>\n",
       "    <tr>\n",
       "      <th>0</th>\n",
       "      <td>511850</td>\n",
       "      <td>Fiona Bruce : the BMA were initially supportin...</td>\n",
       "      <td>L</td>\n",
       "      <td>2020-05-28 20:04:45</td>\n",
       "      <td>NaN</td>\n",
       "      <td>NaN</td>\n",
       "    </tr>\n",
       "    <tr>\n",
       "      <th>1</th>\n",
       "      <td>511851</td>\n",
       "      <td>Asserting</td>\n",
       "      <td>YA</td>\n",
       "      <td>2020-05-28 20:04:45</td>\n",
       "      <td>Asserting</td>\n",
       "      <td>74</td>\n",
       "    </tr>\n",
       "    <tr>\n",
       "      <th>2</th>\n",
       "      <td>511852</td>\n",
       "      <td>the BMA were initially supporting unions in sa...</td>\n",
       "      <td>I</td>\n",
       "      <td>2020-05-28 20:04:45</td>\n",
       "      <td>NaN</td>\n",
       "      <td>NaN</td>\n",
       "    </tr>\n",
       "    <tr>\n",
       "      <th>3</th>\n",
       "      <td>511853</td>\n",
       "      <td>Mascha: Fiona Bruce : the BMA were initially s...</td>\n",
       "      <td>L</td>\n",
       "      <td>2020-05-28 20:04:45</td>\n",
       "      <td>NaN</td>\n",
       "      <td>NaN</td>\n",
       "    </tr>\n",
       "    <tr>\n",
       "      <th>4</th>\n",
       "      <td>511854</td>\n",
       "      <td>Camilla Tominey :  they softened that stance</td>\n",
       "      <td>L</td>\n",
       "      <td>2020-05-28 20:04:46</td>\n",
       "      <td>NaN</td>\n",
       "      <td>NaN</td>\n",
       "    </tr>\n",
       "    <tr>\n",
       "      <th>...</th>\n",
       "      <td>...</td>\n",
       "      <td>...</td>\n",
       "      <td>...</td>\n",
       "      <td>...</td>\n",
       "      <td>...</td>\n",
       "      <td>...</td>\n",
       "    </tr>\n",
       "    <tr>\n",
       "      <th>209</th>\n",
       "      <td>512059</td>\n",
       "      <td>Mascha: Camilla Tominey :  if it is safe to do so</td>\n",
       "      <td>L</td>\n",
       "      <td>2020-05-28 20:05:14</td>\n",
       "      <td>NaN</td>\n",
       "      <td>NaN</td>\n",
       "    </tr>\n",
       "    <tr>\n",
       "      <th>210</th>\n",
       "      <td>512060</td>\n",
       "      <td>Default Transition</td>\n",
       "      <td>TA</td>\n",
       "      <td>2020-05-28 20:05:14</td>\n",
       "      <td>Default Transition</td>\n",
       "      <td>82</td>\n",
       "    </tr>\n",
       "    <tr>\n",
       "      <th>211</th>\n",
       "      <td>512061</td>\n",
       "      <td>Default Transition</td>\n",
       "      <td>TA</td>\n",
       "      <td>2020-05-28 20:05:14</td>\n",
       "      <td>Default Transition</td>\n",
       "      <td>82</td>\n",
       "    </tr>\n",
       "    <tr>\n",
       "      <th>212</th>\n",
       "      <td>512062</td>\n",
       "      <td>Default Inference</td>\n",
       "      <td>RA</td>\n",
       "      <td>2020-05-28 20:05:15</td>\n",
       "      <td>Default Inference</td>\n",
       "      <td>72</td>\n",
       "    </tr>\n",
       "    <tr>\n",
       "      <th>213</th>\n",
       "      <td>512063</td>\n",
       "      <td>Arguing</td>\n",
       "      <td>YA</td>\n",
       "      <td>2020-05-28 20:05:15</td>\n",
       "      <td>Arguing</td>\n",
       "      <td>80</td>\n",
       "    </tr>\n",
       "  </tbody>\n",
       "</table>\n",
       "<p>214 rows × 6 columns</p>\n",
       "</div>"
      ],
      "text/plain": [
       "     nodeID                                               text type  \\\n",
       "0    511850  Fiona Bruce : the BMA were initially supportin...    L   \n",
       "1    511851                                          Asserting   YA   \n",
       "2    511852  the BMA were initially supporting unions in sa...    I   \n",
       "3    511853  Mascha: Fiona Bruce : the BMA were initially s...    L   \n",
       "4    511854       Camilla Tominey :  they softened that stance    L   \n",
       "..      ...                                                ...  ...   \n",
       "209  512059  Mascha: Camilla Tominey :  if it is safe to do so    L   \n",
       "210  512060                                 Default Transition   TA   \n",
       "211  512061                                 Default Transition   TA   \n",
       "212  512062                                  Default Inference   RA   \n",
       "213  512063                                            Arguing   YA   \n",
       "\n",
       "               timestamp              scheme schemeID  \n",
       "0    2020-05-28 20:04:45                 NaN      NaN  \n",
       "1    2020-05-28 20:04:45           Asserting       74  \n",
       "2    2020-05-28 20:04:45                 NaN      NaN  \n",
       "3    2020-05-28 20:04:45                 NaN      NaN  \n",
       "4    2020-05-28 20:04:46                 NaN      NaN  \n",
       "..                   ...                 ...      ...  \n",
       "209  2020-05-28 20:05:14                 NaN      NaN  \n",
       "210  2020-05-28 20:05:14  Default Transition       82  \n",
       "211  2020-05-28 20:05:14  Default Transition       82  \n",
       "212  2020-05-28 20:05:15   Default Inference       72  \n",
       "213  2020-05-28 20:05:15             Arguing       80  \n",
       "\n",
       "[214 rows x 6 columns]"
      ]
     },
     "execution_count": 10,
     "metadata": {},
     "output_type": "execute_result"
    }
   ],
   "source": [
    "df"
   ]
  },
  {
   "cell_type": "code",
   "execution_count": 11,
   "id": "d3bdccaf",
   "metadata": {},
   "outputs": [
    {
     "data": {
      "text/plain": [
       "type\n",
       "L     72\n",
       "YA    55\n",
       "TA    33\n",
       "I     32\n",
       "MA    11\n",
       "RA    10\n",
       "CA     1\n",
       "Name: count, dtype: int64"
      ]
     },
     "execution_count": 11,
     "metadata": {},
     "output_type": "execute_result"
    }
   ],
   "source": [
    "df.type.value_counts()"
   ]
  },
  {
   "cell_type": "code",
   "execution_count": 12,
   "id": "3fe255b0",
   "metadata": {},
   "outputs": [
    {
     "data": {
      "text/plain": [
       "scheme\n",
       "Default Transition    33\n",
       "Asserting             30\n",
       "Default Rephrase      11\n",
       "Restating             11\n",
       "Default Inference     10\n",
       "Arguing               10\n",
       "PureQuestioning        2\n",
       "Default Conflict       1\n",
       "Disagreeing            1\n",
       "Agreeing               1\n",
       "Name: count, dtype: int64"
      ]
     },
     "execution_count": 12,
     "metadata": {},
     "output_type": "execute_result"
    }
   ],
   "source": [
    "df.scheme.value_counts()"
   ]
  },
  {
   "cell_type": "code",
   "execution_count": 18,
   "id": "c40a3e7c",
   "metadata": {},
   "outputs": [],
   "source": [
    "z = df[df.scheme.isna()]"
   ]
  },
  {
   "cell_type": "code",
   "execution_count": 19,
   "id": "b8a52cd5",
   "metadata": {},
   "outputs": [
    {
     "data": {
      "text/html": [
       "<div>\n",
       "<style scoped>\n",
       "    .dataframe tbody tr th:only-of-type {\n",
       "        vertical-align: middle;\n",
       "    }\n",
       "\n",
       "    .dataframe tbody tr th {\n",
       "        vertical-align: top;\n",
       "    }\n",
       "\n",
       "    .dataframe thead th {\n",
       "        text-align: right;\n",
       "    }\n",
       "</style>\n",
       "<table border=\"1\" class=\"dataframe\">\n",
       "  <thead>\n",
       "    <tr style=\"text-align: right;\">\n",
       "      <th></th>\n",
       "      <th>nodeID</th>\n",
       "      <th>text</th>\n",
       "      <th>type</th>\n",
       "      <th>timestamp</th>\n",
       "      <th>scheme</th>\n",
       "      <th>schemeID</th>\n",
       "    </tr>\n",
       "  </thead>\n",
       "  <tbody>\n",
       "    <tr>\n",
       "      <th>0</th>\n",
       "      <td>511850</td>\n",
       "      <td>Fiona Bruce : the BMA were initially supportin...</td>\n",
       "      <td>L</td>\n",
       "      <td>2020-05-28 20:04:45</td>\n",
       "      <td>NaN</td>\n",
       "      <td>NaN</td>\n",
       "    </tr>\n",
       "    <tr>\n",
       "      <th>2</th>\n",
       "      <td>511852</td>\n",
       "      <td>the BMA were initially supporting unions in sa...</td>\n",
       "      <td>I</td>\n",
       "      <td>2020-05-28 20:04:45</td>\n",
       "      <td>NaN</td>\n",
       "      <td>NaN</td>\n",
       "    </tr>\n",
       "    <tr>\n",
       "      <th>3</th>\n",
       "      <td>511853</td>\n",
       "      <td>Mascha: Fiona Bruce : the BMA were initially s...</td>\n",
       "      <td>L</td>\n",
       "      <td>2020-05-28 20:04:45</td>\n",
       "      <td>NaN</td>\n",
       "      <td>NaN</td>\n",
       "    </tr>\n",
       "    <tr>\n",
       "      <th>4</th>\n",
       "      <td>511854</td>\n",
       "      <td>Camilla Tominey :  they softened that stance</td>\n",
       "      <td>L</td>\n",
       "      <td>2020-05-28 20:04:46</td>\n",
       "      <td>NaN</td>\n",
       "      <td>NaN</td>\n",
       "    </tr>\n",
       "    <tr>\n",
       "      <th>6</th>\n",
       "      <td>511856</td>\n",
       "      <td>the BMA softened their stance that children sh...</td>\n",
       "      <td>I</td>\n",
       "      <td>2020-05-28 20:04:46</td>\n",
       "      <td>NaN</td>\n",
       "      <td>NaN</td>\n",
       "    </tr>\n",
       "    <tr>\n",
       "      <th>...</th>\n",
       "      <td>...</td>\n",
       "      <td>...</td>\n",
       "      <td>...</td>\n",
       "      <td>...</td>\n",
       "      <td>...</td>\n",
       "      <td>...</td>\n",
       "    </tr>\n",
       "    <tr>\n",
       "      <th>201</th>\n",
       "      <td>512051</td>\n",
       "      <td>Mascha: Camilla Tominey : said schools should ...</td>\n",
       "      <td>L</td>\n",
       "      <td>2020-05-28 20:05:13</td>\n",
       "      <td>NaN</td>\n",
       "      <td>NaN</td>\n",
       "    </tr>\n",
       "    <tr>\n",
       "      <th>205</th>\n",
       "      <td>512055</td>\n",
       "      <td>Mascha: Camilla Tominey : f it is safe to do so</td>\n",
       "      <td>L</td>\n",
       "      <td>2020-05-28 20:05:14</td>\n",
       "      <td>NaN</td>\n",
       "      <td>NaN</td>\n",
       "    </tr>\n",
       "    <tr>\n",
       "      <th>206</th>\n",
       "      <td>512056</td>\n",
       "      <td>Camilla Tominey :  if it is safe to do so</td>\n",
       "      <td>L</td>\n",
       "      <td>2020-05-28 20:05:14</td>\n",
       "      <td>NaN</td>\n",
       "      <td>NaN</td>\n",
       "    </tr>\n",
       "    <tr>\n",
       "      <th>208</th>\n",
       "      <td>512058</td>\n",
       "      <td>if it is safe to reopen schools on 1 June chil...</td>\n",
       "      <td>I</td>\n",
       "      <td>2020-05-28 20:05:14</td>\n",
       "      <td>NaN</td>\n",
       "      <td>NaN</td>\n",
       "    </tr>\n",
       "    <tr>\n",
       "      <th>209</th>\n",
       "      <td>512059</td>\n",
       "      <td>Mascha: Camilla Tominey :  if it is safe to do so</td>\n",
       "      <td>L</td>\n",
       "      <td>2020-05-28 20:05:14</td>\n",
       "      <td>NaN</td>\n",
       "      <td>NaN</td>\n",
       "    </tr>\n",
       "  </tbody>\n",
       "</table>\n",
       "<p>104 rows × 6 columns</p>\n",
       "</div>"
      ],
      "text/plain": [
       "     nodeID                                               text type  \\\n",
       "0    511850  Fiona Bruce : the BMA were initially supportin...    L   \n",
       "2    511852  the BMA were initially supporting unions in sa...    I   \n",
       "3    511853  Mascha: Fiona Bruce : the BMA were initially s...    L   \n",
       "4    511854       Camilla Tominey :  they softened that stance    L   \n",
       "6    511856  the BMA softened their stance that children sh...    I   \n",
       "..      ...                                                ...  ...   \n",
       "201  512051  Mascha: Camilla Tominey : said schools should ...    L   \n",
       "205  512055    Mascha: Camilla Tominey : f it is safe to do so    L   \n",
       "206  512056          Camilla Tominey :  if it is safe to do so    L   \n",
       "208  512058  if it is safe to reopen schools on 1 June chil...    I   \n",
       "209  512059  Mascha: Camilla Tominey :  if it is safe to do so    L   \n",
       "\n",
       "               timestamp scheme schemeID  \n",
       "0    2020-05-28 20:04:45    NaN      NaN  \n",
       "2    2020-05-28 20:04:45    NaN      NaN  \n",
       "3    2020-05-28 20:04:45    NaN      NaN  \n",
       "4    2020-05-28 20:04:46    NaN      NaN  \n",
       "6    2020-05-28 20:04:46    NaN      NaN  \n",
       "..                   ...    ...      ...  \n",
       "201  2020-05-28 20:05:13    NaN      NaN  \n",
       "205  2020-05-28 20:05:14    NaN      NaN  \n",
       "206  2020-05-28 20:05:14    NaN      NaN  \n",
       "208  2020-05-28 20:05:14    NaN      NaN  \n",
       "209  2020-05-28 20:05:14    NaN      NaN  \n",
       "\n",
       "[104 rows x 6 columns]"
      ]
     },
     "execution_count": 19,
     "metadata": {},
     "output_type": "execute_result"
    }
   ],
   "source": [
    "z"
   ]
  },
  {
   "cell_type": "code",
   "execution_count": 20,
   "id": "5257112e",
   "metadata": {},
   "outputs": [
    {
     "data": {
      "text/plain": [
       "type\n",
       "L    72\n",
       "I    32\n",
       "Name: count, dtype: int64"
      ]
     },
     "execution_count": 20,
     "metadata": {},
     "output_type": "execute_result"
    }
   ],
   "source": [
    "z.type.value_counts()"
   ]
  },
  {
   "cell_type": "code",
   "execution_count": 21,
   "id": "0c09f9e5",
   "metadata": {},
   "outputs": [
    {
     "data": {
      "text/plain": [
       "Series([], Name: count, dtype: int64)"
      ]
     },
     "execution_count": 21,
     "metadata": {},
     "output_type": "execute_result"
    }
   ],
   "source": [
    "z.scheme.value_counts()"
   ]
  },
  {
   "cell_type": "code",
   "execution_count": 22,
   "id": "4587c02c",
   "metadata": {},
   "outputs": [
    {
     "data": {
      "text/plain": [
       "Series([], Name: count, dtype: int64)"
      ]
     },
     "execution_count": 22,
     "metadata": {},
     "output_type": "execute_result"
    }
   ],
   "source": [
    "z.schemeID.value_counts()"
   ]
  },
  {
   "cell_type": "code",
   "execution_count": null,
   "id": "706e3596",
   "metadata": {},
   "outputs": [],
   "source": []
  }
 ],
 "metadata": {
  "kernelspec": {
   "display_name": "Python (17M_env)",
   "language": "python",
   "name": "17m_env"
  },
  "language_info": {
   "codemirror_mode": {
    "name": "ipython",
    "version": 3
   },
   "file_extension": ".py",
   "mimetype": "text/x-python",
   "name": "python",
   "nbconvert_exporter": "python",
   "pygments_lexer": "ipython3",
   "version": "3.11.11"
  }
 },
 "nbformat": 4,
 "nbformat_minor": 5
}
