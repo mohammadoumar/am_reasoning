{
 "cells": [
  {
   "cell_type": "code",
   "execution_count": 1,
   "metadata": {},
   "outputs": [],
   "source": [
    "import os\n",
    "import re\n",
    "import pandas as pd\n",
    "from tqdm import tqdm"
   ]
  },
  {
   "cell_type": "code",
   "execution_count": 2,
   "metadata": {},
   "outputs": [],
   "source": [
    "train_ann_files_directory = \"/Utilisateurs/umushtaq/am_reasoning/abstRCT/raw_files/train/neoplasm_train\"\n",
    "dev_ann_files_directory = \"/Utilisateurs/umushtaq/am_reasoning/abstRCT/raw_files/dev/neoplasm_dev\"\n",
    "neo_test_ann_files_directory = \"/Utilisateurs/umushtaq/am_reasoning/abstRCT/raw_files/test/neoplasm_test\"\n",
    "mix_test_ann_files_directory = \"/Utilisateurs/umushtaq/am_reasoning/abstRCT/raw_files/test/mixed_test\"\n",
    "gla_test_ann_files_directory = \"/Utilisateurs/umushtaq/am_reasoning/abstRCT/raw_files/test/glaucoma_test\"\n",
    "#text_files_directory = \"/Utilisateurs/umushtaq/am_reasoning/raw_files/txt_files\""
   ]
  },
  {
   "cell_type": "code",
   "execution_count": 3,
   "metadata": {},
   "outputs": [],
   "source": [
    "# train_data = []\n",
    "# dev_data = []\n",
    "# neo_test_data = []\n",
    "# mix_test_data = []\n",
    "# gla_test_data = []"
   ]
  },
  {
   "cell_type": "code",
   "execution_count": 49,
   "metadata": {},
   "outputs": [],
   "source": [
    "def process_files(dir):\n",
    "    \n",
    "    component_data = []\n",
    "    relations_data = []\n",
    "    \n",
    "    for filename in tqdm([f for f in os.listdir(dir) if f.endswith('.ann')], desc=\"Parsing annotation files for components ...\"):\n",
    "    \n",
    "        #print(\"processing: \" + filename)\n",
    "        #if filename.endswith(\".ann\"):  # Process only text files\n",
    "        file_path = os.path.join(dir, filename)\n",
    "        \n",
    "        with open(file_path, \"r\", encoding=\"utf-8\") as file:\n",
    "            for line in file:\n",
    "                parts = line.strip().split(\"\\t\")\n",
    "                #print(parts)\n",
    "                # Process \"T\" lines (claims/premises)\n",
    "                if line.startswith(\"T\"):\n",
    "                    t_id = parts[0]  # Extract T ID (e.g., T1)\n",
    "                    t_type = parts[1].split(\" \")[0]  # Extract type (e.g., MajorClaim, Claim, Premise)\n",
    "                    t_s_bound = parts[1].split(\" \")[1]\n",
    "                    t_e_bound = parts[1].split(\" \")[2]\n",
    "                    text = parts[2] #if len(parts) > 3 else \"\"  # Extract text if available\n",
    "                    component_data.append([\"T\", filename, t_id, t_type, t_s_bound, t_e_bound, text])\n",
    "                    \n",
    "    for filename in tqdm([f for f in os.listdir(dir) if f.endswith('.ann')], desc=\"Parsing annotation files for relations ... \"):\n",
    "    \n",
    "        #print(\"processing: \" + filename)\n",
    "        #if filename.endswith(\".ann\"):  # Process only text files\n",
    "        file_path = os.path.join(dir, filename)\n",
    "        \n",
    "        with open(file_path, \"r\", encoding=\"utf-8\") as file:\n",
    "            has_relation = False\n",
    "            for line in file:\n",
    "                parts = line.strip().split(\"\\t\")\n",
    "                #print(parts)\n",
    "                # Process \"T\" lines (claims/premises)\n",
    "                if line.startswith(\"R\"):\n",
    "                    has_relation = True\n",
    "                    parts = line.strip().split()\n",
    "                    relation_type = parts[1]  # \"supports\" or \"attacks\"\n",
    "                    arg1 = parts[2].split(\":\")[1]  # Extract T value from Arg1\n",
    "                    arg2 = parts[3].split(\":\")[1]  # Extract T value from Arg2\n",
    "                    relations_data.append([\"R\", filename, arg1, arg2, relation_type])\n",
    "                    \n",
    "            if not has_relation:\n",
    "                relations_data.append([\"R\", filename, None, None, None])\n",
    "                    \n",
    "    return component_data, relations_data"
   ]
  },
  {
   "cell_type": "code",
   "execution_count": 50,
   "metadata": {},
   "outputs": [
    {
     "name": "stderr",
     "output_type": "stream",
     "text": [
      "Parsing annotation files for components ...:   0%|          | 0/350 [00:00<?, ?it/s]"
     ]
    },
    {
     "name": "stderr",
     "output_type": "stream",
     "text": [
      "Parsing annotation files for components ...: 100%|██████████| 350/350 [00:00<00:00, 1404.74it/s]\n",
      "Parsing annotation files for relations ... : 100%|██████████| 350/350 [00:00<00:00, 1353.62it/s]\n"
     ]
    }
   ],
   "source": [
    "train_component_data, train_relations_data = process_files(train_ann_files_directory)"
   ]
  },
  {
   "cell_type": "code",
   "execution_count": 51,
   "metadata": {},
   "outputs": [
    {
     "name": "stderr",
     "output_type": "stream",
     "text": [
      "Parsing annotation files for components ...: 100%|██████████| 50/50 [00:00<00:00, 1434.53it/s]\n",
      "Parsing annotation files for relations ... :   0%|          | 0/50 [00:00<?, ?it/s]"
     ]
    },
    {
     "name": "stderr",
     "output_type": "stream",
     "text": [
      "Parsing annotation files for relations ... : 100%|██████████| 50/50 [00:00<00:00, 1498.98it/s]\n"
     ]
    }
   ],
   "source": [
    "dev_component_data, dev_relations_data = process_files(dev_ann_files_directory)"
   ]
  },
  {
   "cell_type": "code",
   "execution_count": 52,
   "metadata": {},
   "outputs": [
    {
     "name": "stderr",
     "output_type": "stream",
     "text": [
      "Parsing annotation files for components ...:   0%|          | 0/100 [00:00<?, ?it/s]"
     ]
    },
    {
     "name": "stderr",
     "output_type": "stream",
     "text": [
      "Parsing annotation files for components ...: 100%|██████████| 100/100 [00:00<00:00, 1443.17it/s]\n",
      "Parsing annotation files for relations ... : 100%|██████████| 100/100 [00:00<00:00, 1381.46it/s]\n"
     ]
    }
   ],
   "source": [
    "neo_test_component_data, neo_test_relations_data = process_files(neo_test_ann_files_directory)"
   ]
  },
  {
   "cell_type": "code",
   "execution_count": 53,
   "metadata": {},
   "outputs": [
    {
     "name": "stderr",
     "output_type": "stream",
     "text": [
      "Parsing annotation files for components ...: 100%|██████████| 100/100 [00:00<00:00, 1279.43it/s]\n",
      "Parsing annotation files for relations ... : 100%|██████████| 100/100 [00:00<00:00, 1443.24it/s]\n"
     ]
    }
   ],
   "source": [
    "mix_test_component_data, mix_test_relations_data = process_files(mix_test_ann_files_directory)"
   ]
  },
  {
   "cell_type": "code",
   "execution_count": 54,
   "metadata": {},
   "outputs": [
    {
     "name": "stderr",
     "output_type": "stream",
     "text": [
      "Parsing annotation files for components ...: 100%|██████████| 100/100 [00:00<00:00, 1275.84it/s]\n",
      "Parsing annotation files for relations ... : 100%|██████████| 100/100 [00:00<00:00, 1090.69it/s]\n"
     ]
    }
   ],
   "source": [
    "gla_test_component_data, gla_test_relations_data = process_files(gla_test_ann_files_directory)"
   ]
  },
  {
   "cell_type": "code",
   "execution_count": 55,
   "metadata": {},
   "outputs": [],
   "source": [
    "df = pd.DataFrame(train_component_data)"
   ]
  },
  {
   "cell_type": "code",
   "execution_count": 56,
   "metadata": {},
   "outputs": [
    {
     "data": {
      "text/html": [
       "<div>\n",
       "<style scoped>\n",
       "    .dataframe tbody tr th:only-of-type {\n",
       "        vertical-align: middle;\n",
       "    }\n",
       "\n",
       "    .dataframe tbody tr th {\n",
       "        vertical-align: top;\n",
       "    }\n",
       "\n",
       "    .dataframe thead th {\n",
       "        text-align: right;\n",
       "    }\n",
       "</style>\n",
       "<table border=\"1\" class=\"dataframe\">\n",
       "  <thead>\n",
       "    <tr style=\"text-align: right;\">\n",
       "      <th></th>\n",
       "      <th>0</th>\n",
       "      <th>1</th>\n",
       "      <th>2</th>\n",
       "      <th>3</th>\n",
       "      <th>4</th>\n",
       "      <th>5</th>\n",
       "      <th>6</th>\n",
       "    </tr>\n",
       "  </thead>\n",
       "  <tbody>\n",
       "    <tr>\n",
       "      <th>0</th>\n",
       "      <td>T</td>\n",
       "      <td>10561201.ann</td>\n",
       "      <td>T1</td>\n",
       "      <td>MajorClaim</td>\n",
       "      <td>1</td>\n",
       "      <td>162</td>\n",
       "      <td>A combination of mitoxantrone plus prednisone ...</td>\n",
       "    </tr>\n",
       "    <tr>\n",
       "      <th>1</th>\n",
       "      <td>T</td>\n",
       "      <td>10561201.ann</td>\n",
       "      <td>T2</td>\n",
       "      <td>Premise</td>\n",
       "      <td>992</td>\n",
       "      <td>1058</td>\n",
       "      <td>At 6 weeks, both groups showed improvement in ...</td>\n",
       "    </tr>\n",
       "    <tr>\n",
       "      <th>2</th>\n",
       "      <td>T</td>\n",
       "      <td>10561201.ann</td>\n",
       "      <td>T3</td>\n",
       "      <td>Premise</td>\n",
       "      <td>1063</td>\n",
       "      <td>1187</td>\n",
       "      <td>only physical functioning and pain were better...</td>\n",
       "    </tr>\n",
       "    <tr>\n",
       "      <th>3</th>\n",
       "      <td>T</td>\n",
       "      <td>10561201.ann</td>\n",
       "      <td>T4</td>\n",
       "      <td>Premise</td>\n",
       "      <td>1188</td>\n",
       "      <td>1447</td>\n",
       "      <td>After 6 weeks, patients taking prednisone show...</td>\n",
       "    </tr>\n",
       "    <tr>\n",
       "      <th>4</th>\n",
       "      <td>T</td>\n",
       "      <td>10561201.ann</td>\n",
       "      <td>T6</td>\n",
       "      <td>Premise</td>\n",
       "      <td>1452</td>\n",
       "      <td>1568</td>\n",
       "      <td>the improvement (&gt; 10 units on a scale of 0 to...</td>\n",
       "    </tr>\n",
       "    <tr>\n",
       "      <th>...</th>\n",
       "      <td>...</td>\n",
       "      <td>...</td>\n",
       "      <td>...</td>\n",
       "      <td>...</td>\n",
       "      <td>...</td>\n",
       "      <td>...</td>\n",
       "      <td>...</td>\n",
       "    </tr>\n",
       "    <tr>\n",
       "      <th>2262</th>\n",
       "      <td>T</td>\n",
       "      <td>9890172.ann</td>\n",
       "      <td>T2</td>\n",
       "      <td>Premise</td>\n",
       "      <td>1260</td>\n",
       "      <td>1450</td>\n",
       "      <td>Vinorelbine-treated patients scored better tha...</td>\n",
       "    </tr>\n",
       "    <tr>\n",
       "      <th>2263</th>\n",
       "      <td>T</td>\n",
       "      <td>9890172.ann</td>\n",
       "      <td>T5</td>\n",
       "      <td>Premise</td>\n",
       "      <td>1451</td>\n",
       "      <td>1563</td>\n",
       "      <td>There was a statistically significant (two-sid...</td>\n",
       "    </tr>\n",
       "    <tr>\n",
       "      <th>2264</th>\n",
       "      <td>T</td>\n",
       "      <td>9890172.ann</td>\n",
       "      <td>T6</td>\n",
       "      <td>Premise</td>\n",
       "      <td>1564</td>\n",
       "      <td>1643</td>\n",
       "      <td>median survival increased from 21 to 28 weeks ...</td>\n",
       "    </tr>\n",
       "    <tr>\n",
       "      <th>2265</th>\n",
       "      <td>T</td>\n",
       "      <td>9890172.ann</td>\n",
       "      <td>T7</td>\n",
       "      <td>Premise</td>\n",
       "      <td>1644</td>\n",
       "      <td>1736</td>\n",
       "      <td>The relative hazard of death for vinorelbine-t...</td>\n",
       "    </tr>\n",
       "    <tr>\n",
       "      <th>2266</th>\n",
       "      <td>T</td>\n",
       "      <td>9890172.ann</td>\n",
       "      <td>T8</td>\n",
       "      <td>Claim</td>\n",
       "      <td>1737</td>\n",
       "      <td>1841</td>\n",
       "      <td>Vinorelbine improves survival of elderly patie...</td>\n",
       "    </tr>\n",
       "  </tbody>\n",
       "</table>\n",
       "<p>2267 rows × 7 columns</p>\n",
       "</div>"
      ],
      "text/plain": [
       "      0             1   2           3     4     5  \\\n",
       "0     T  10561201.ann  T1  MajorClaim     1   162   \n",
       "1     T  10561201.ann  T2     Premise   992  1058   \n",
       "2     T  10561201.ann  T3     Premise  1063  1187   \n",
       "3     T  10561201.ann  T4     Premise  1188  1447   \n",
       "4     T  10561201.ann  T6     Premise  1452  1568   \n",
       "...  ..           ...  ..         ...   ...   ...   \n",
       "2262  T   9890172.ann  T2     Premise  1260  1450   \n",
       "2263  T   9890172.ann  T5     Premise  1451  1563   \n",
       "2264  T   9890172.ann  T6     Premise  1564  1643   \n",
       "2265  T   9890172.ann  T7     Premise  1644  1736   \n",
       "2266  T   9890172.ann  T8       Claim  1737  1841   \n",
       "\n",
       "                                                      6  \n",
       "0     A combination of mitoxantrone plus prednisone ...  \n",
       "1     At 6 weeks, both groups showed improvement in ...  \n",
       "2     only physical functioning and pain were better...  \n",
       "3     After 6 weeks, patients taking prednisone show...  \n",
       "4     the improvement (> 10 units on a scale of 0 to...  \n",
       "...                                                 ...  \n",
       "2262  Vinorelbine-treated patients scored better tha...  \n",
       "2263  There was a statistically significant (two-sid...  \n",
       "2264  median survival increased from 21 to 28 weeks ...  \n",
       "2265  The relative hazard of death for vinorelbine-t...  \n",
       "2266  Vinorelbine improves survival of elderly patie...  \n",
       "\n",
       "[2267 rows x 7 columns]"
      ]
     },
     "execution_count": 56,
     "metadata": {},
     "output_type": "execute_result"
    }
   ],
   "source": [
    "df"
   ]
  },
  {
   "cell_type": "code",
   "execution_count": 57,
   "metadata": {},
   "outputs": [],
   "source": [
    "df.columns = [\"type\", \"filename\", \"ac_id\", \"ac_type\", \"ac_start_bound\", \"ac_end_bound\", \"ac\"]"
   ]
  },
  {
   "cell_type": "code",
   "execution_count": 58,
   "metadata": {},
   "outputs": [
    {
     "data": {
      "text/plain": [
       "350"
      ]
     },
     "execution_count": 58,
     "metadata": {},
     "output_type": "execute_result"
    }
   ],
   "source": [
    "len(df.filename.unique().tolist())"
   ]
  },
  {
   "cell_type": "code",
   "execution_count": 59,
   "metadata": {},
   "outputs": [],
   "source": [
    "train_gdf = df.groupby([\"filename\"], sort=False).agg({\n",
    "    'type': list,\n",
    "    'ac_id': list,\n",
    "    \"ac_type\": list,\n",
    "    'ac_start_bound': list,\n",
    "    'ac_end_bound': list,\n",
    "    'ac': list,\n",
    "}).reset_index()"
   ]
  },
  {
   "cell_type": "code",
   "execution_count": 60,
   "metadata": {},
   "outputs": [
    {
     "data": {
      "text/html": [
       "<div>\n",
       "<style scoped>\n",
       "    .dataframe tbody tr th:only-of-type {\n",
       "        vertical-align: middle;\n",
       "    }\n",
       "\n",
       "    .dataframe tbody tr th {\n",
       "        vertical-align: top;\n",
       "    }\n",
       "\n",
       "    .dataframe thead th {\n",
       "        text-align: right;\n",
       "    }\n",
       "</style>\n",
       "<table border=\"1\" class=\"dataframe\">\n",
       "  <thead>\n",
       "    <tr style=\"text-align: right;\">\n",
       "      <th></th>\n",
       "      <th>filename</th>\n",
       "      <th>type</th>\n",
       "      <th>ac_id</th>\n",
       "      <th>ac_type</th>\n",
       "      <th>ac_start_bound</th>\n",
       "      <th>ac_end_bound</th>\n",
       "      <th>ac</th>\n",
       "    </tr>\n",
       "  </thead>\n",
       "  <tbody>\n",
       "    <tr>\n",
       "      <th>0</th>\n",
       "      <td>10561201.ann</td>\n",
       "      <td>[T, T, T, T, T, T, T]</td>\n",
       "      <td>[T1, T2, T3, T4, T6, T7, T8]</td>\n",
       "      <td>[MajorClaim, Premise, Premise, Premise, Premis...</td>\n",
       "      <td>[1, 992, 1063, 1188, 1452, 1569, 1769]</td>\n",
       "      <td>[162, 1058, 1187, 1447, 1568, 1768, 1945]</td>\n",
       "      <td>[A combination of mitoxantrone plus prednisone...</td>\n",
       "    </tr>\n",
       "    <tr>\n",
       "      <th>1</th>\n",
       "      <td>10561203.ann</td>\n",
       "      <td>[T, T, T, T, T, T, T]</td>\n",
       "      <td>[T1, T3, T4, T5, T6, T7, T8]</td>\n",
       "      <td>[Claim, Premise, Premise, Premise, Premise, Pr...</td>\n",
       "      <td>[1, 1354, 1443, 1593, 1828, 1979, 2056]</td>\n",
       "      <td>[318, 1442, 1592, 1827, 1978, 2055, 2167]</td>\n",
       "      <td>[In endocrine therapy trials in advanced breas...</td>\n",
       "    </tr>\n",
       "    <tr>\n",
       "      <th>2</th>\n",
       "      <td>10653877.ann</td>\n",
       "      <td>[T, T, T, T, T, T, T, T, T]</td>\n",
       "      <td>[T1, T2, T3, T4, T5, T6, T7, T8, T9]</td>\n",
       "      <td>[Claim, Premise, Premise, Premise, Premise, Pr...</td>\n",
       "      <td>[1, 957, 1204, 1297, 1465, 1612, 1865, 1938, 2...</td>\n",
       "      <td>[156, 1203, 1296, 1464, 1611, 1864, 1928, 2001...</td>\n",
       "      <td>[Treatment with cisplatin-based chemotherapy p...</td>\n",
       "    </tr>\n",
       "    <tr>\n",
       "      <th>3</th>\n",
       "      <td>10675381.ann</td>\n",
       "      <td>[T, T, T, T, T, T, T, T]</td>\n",
       "      <td>[T1, T2, T3, T4, T5, T6, T7, T8]</td>\n",
       "      <td>[MajorClaim, Premise, Premise, Premise, Premis...</td>\n",
       "      <td>[218, 1028, 1209, 1395, 1580, 1647, 1844, 2193]</td>\n",
       "      <td>[449, 1208, 1394, 1579, 1646, 1843, 2152, 2288]</td>\n",
       "      <td>[In nonrandomized studies involving patients w...</td>\n",
       "    </tr>\n",
       "    <tr>\n",
       "      <th>4</th>\n",
       "      <td>10735887.ann</td>\n",
       "      <td>[T, T, T, T, T, T, T]</td>\n",
       "      <td>[T1, T2, T3, T4, T5, T6, T7]</td>\n",
       "      <td>[Premise, Premise, Premise, Premise, Claim, Pr...</td>\n",
       "      <td>[552, 678, 758, 1102, 1196, 1228, 1306]</td>\n",
       "      <td>[677, 757, 1101, 1195, 1227, 1305, 1555]</td>\n",
       "      <td>[Overall objective response (OR) rates were hi...</td>\n",
       "    </tr>\n",
       "    <tr>\n",
       "      <th>...</th>\n",
       "      <td>...</td>\n",
       "      <td>...</td>\n",
       "      <td>...</td>\n",
       "      <td>...</td>\n",
       "      <td>...</td>\n",
       "      <td>...</td>\n",
       "      <td>...</td>\n",
       "    </tr>\n",
       "    <tr>\n",
       "      <th>345</th>\n",
       "      <td>9807987.ann</td>\n",
       "      <td>[T, T, T, T, T]</td>\n",
       "      <td>[T1, T2, T3, T4, T5]</td>\n",
       "      <td>[Premise, Premise, Premise, Premise, Claim]</td>\n",
       "      <td>[812, 1026, 1140, 1342, 1469]</td>\n",
       "      <td>[1025, 1139, 1341, 1468, 1760]</td>\n",
       "      <td>[With a median follow-up of 13 months, the ove...</td>\n",
       "    </tr>\n",
       "    <tr>\n",
       "      <th>346</th>\n",
       "      <td>9849452.ann</td>\n",
       "      <td>[T, T, T, T, T, T, T, T, T]</td>\n",
       "      <td>[T1, T2, T3, T4, T5, T6, T7, T8, T9]</td>\n",
       "      <td>[Premise, Premise, Premise, Premise, Premise, ...</td>\n",
       "      <td>[983, 1124, 1187, 1250, 1327, 1349, 1503, 1624...</td>\n",
       "      <td>[1123, 1186, 1249, 1326, 1348, 1502, 1623, 166...</td>\n",
       "      <td>[Patients in the chemotherapy group reported b...</td>\n",
       "    </tr>\n",
       "    <tr>\n",
       "      <th>347</th>\n",
       "      <td>9849454.ann</td>\n",
       "      <td>[T, T, T, T, T, T]</td>\n",
       "      <td>[T1, T2, T3, T4, T5, T6]</td>\n",
       "      <td>[Premise, Premise, Premise, Premise, Claim, Cl...</td>\n",
       "      <td>[1149, 1215, 1381, 1507, 2258, 2523]</td>\n",
       "      <td>[1214, 1380, 1506, 1699, 2522, 2655]</td>\n",
       "      <td>[Complete remission was achieved in 91% (170/1...</td>\n",
       "    </tr>\n",
       "    <tr>\n",
       "      <th>348</th>\n",
       "      <td>9850014.ann</td>\n",
       "      <td>[T, T, T, T, T, T]</td>\n",
       "      <td>[T1, T2, T3, T4, T5, T6]</td>\n",
       "      <td>[Premise, Premise, Premise, Premise, Premise, ...</td>\n",
       "      <td>[891, 1041, 1139, 1264, 1357, 1578]</td>\n",
       "      <td>[1040, 1138, 1263, 1356, 1577, 1770]</td>\n",
       "      <td>[An objective response (complete [CR] or parti...</td>\n",
       "    </tr>\n",
       "    <tr>\n",
       "      <th>349</th>\n",
       "      <td>9890172.ann</td>\n",
       "      <td>[T, T, T, T, T, T]</td>\n",
       "      <td>[T1, T2, T5, T6, T7, T8]</td>\n",
       "      <td>[Claim, Premise, Premise, Premise, Premise, Cl...</td>\n",
       "      <td>[1, 1260, 1451, 1564, 1644, 1737]</td>\n",
       "      <td>[154, 1450, 1563, 1643, 1736, 1841]</td>\n",
       "      <td>[Vinorelbine, a semisynthetic vinca alkaloid, ...</td>\n",
       "    </tr>\n",
       "  </tbody>\n",
       "</table>\n",
       "<p>350 rows × 7 columns</p>\n",
       "</div>"
      ],
      "text/plain": [
       "         filename                         type  \\\n",
       "0    10561201.ann        [T, T, T, T, T, T, T]   \n",
       "1    10561203.ann        [T, T, T, T, T, T, T]   \n",
       "2    10653877.ann  [T, T, T, T, T, T, T, T, T]   \n",
       "3    10675381.ann     [T, T, T, T, T, T, T, T]   \n",
       "4    10735887.ann        [T, T, T, T, T, T, T]   \n",
       "..            ...                          ...   \n",
       "345   9807987.ann              [T, T, T, T, T]   \n",
       "346   9849452.ann  [T, T, T, T, T, T, T, T, T]   \n",
       "347   9849454.ann           [T, T, T, T, T, T]   \n",
       "348   9850014.ann           [T, T, T, T, T, T]   \n",
       "349   9890172.ann           [T, T, T, T, T, T]   \n",
       "\n",
       "                                    ac_id  \\\n",
       "0            [T1, T2, T3, T4, T6, T7, T8]   \n",
       "1            [T1, T3, T4, T5, T6, T7, T8]   \n",
       "2    [T1, T2, T3, T4, T5, T6, T7, T8, T9]   \n",
       "3        [T1, T2, T3, T4, T5, T6, T7, T8]   \n",
       "4            [T1, T2, T3, T4, T5, T6, T7]   \n",
       "..                                    ...   \n",
       "345                  [T1, T2, T3, T4, T5]   \n",
       "346  [T1, T2, T3, T4, T5, T6, T7, T8, T9]   \n",
       "347              [T1, T2, T3, T4, T5, T6]   \n",
       "348              [T1, T2, T3, T4, T5, T6]   \n",
       "349              [T1, T2, T5, T6, T7, T8]   \n",
       "\n",
       "                                               ac_type  \\\n",
       "0    [MajorClaim, Premise, Premise, Premise, Premis...   \n",
       "1    [Claim, Premise, Premise, Premise, Premise, Pr...   \n",
       "2    [Claim, Premise, Premise, Premise, Premise, Pr...   \n",
       "3    [MajorClaim, Premise, Premise, Premise, Premis...   \n",
       "4    [Premise, Premise, Premise, Premise, Claim, Pr...   \n",
       "..                                                 ...   \n",
       "345        [Premise, Premise, Premise, Premise, Claim]   \n",
       "346  [Premise, Premise, Premise, Premise, Premise, ...   \n",
       "347  [Premise, Premise, Premise, Premise, Claim, Cl...   \n",
       "348  [Premise, Premise, Premise, Premise, Premise, ...   \n",
       "349  [Claim, Premise, Premise, Premise, Premise, Cl...   \n",
       "\n",
       "                                        ac_start_bound  \\\n",
       "0               [1, 992, 1063, 1188, 1452, 1569, 1769]   \n",
       "1              [1, 1354, 1443, 1593, 1828, 1979, 2056]   \n",
       "2    [1, 957, 1204, 1297, 1465, 1612, 1865, 1938, 2...   \n",
       "3      [218, 1028, 1209, 1395, 1580, 1647, 1844, 2193]   \n",
       "4              [552, 678, 758, 1102, 1196, 1228, 1306]   \n",
       "..                                                 ...   \n",
       "345                      [812, 1026, 1140, 1342, 1469]   \n",
       "346  [983, 1124, 1187, 1250, 1327, 1349, 1503, 1624...   \n",
       "347               [1149, 1215, 1381, 1507, 2258, 2523]   \n",
       "348                [891, 1041, 1139, 1264, 1357, 1578]   \n",
       "349                  [1, 1260, 1451, 1564, 1644, 1737]   \n",
       "\n",
       "                                          ac_end_bound  \\\n",
       "0            [162, 1058, 1187, 1447, 1568, 1768, 1945]   \n",
       "1            [318, 1442, 1592, 1827, 1978, 2055, 2167]   \n",
       "2    [156, 1203, 1296, 1464, 1611, 1864, 1928, 2001...   \n",
       "3      [449, 1208, 1394, 1579, 1646, 1843, 2152, 2288]   \n",
       "4             [677, 757, 1101, 1195, 1227, 1305, 1555]   \n",
       "..                                                 ...   \n",
       "345                     [1025, 1139, 1341, 1468, 1760]   \n",
       "346  [1123, 1186, 1249, 1326, 1348, 1502, 1623, 166...   \n",
       "347               [1214, 1380, 1506, 1699, 2522, 2655]   \n",
       "348               [1040, 1138, 1263, 1356, 1577, 1770]   \n",
       "349                [154, 1450, 1563, 1643, 1736, 1841]   \n",
       "\n",
       "                                                    ac  \n",
       "0    [A combination of mitoxantrone plus prednisone...  \n",
       "1    [In endocrine therapy trials in advanced breas...  \n",
       "2    [Treatment with cisplatin-based chemotherapy p...  \n",
       "3    [In nonrandomized studies involving patients w...  \n",
       "4    [Overall objective response (OR) rates were hi...  \n",
       "..                                                 ...  \n",
       "345  [With a median follow-up of 13 months, the ove...  \n",
       "346  [Patients in the chemotherapy group reported b...  \n",
       "347  [Complete remission was achieved in 91% (170/1...  \n",
       "348  [An objective response (complete [CR] or parti...  \n",
       "349  [Vinorelbine, a semisynthetic vinca alkaloid, ...  \n",
       "\n",
       "[350 rows x 7 columns]"
      ]
     },
     "execution_count": 60,
     "metadata": {},
     "output_type": "execute_result"
    }
   ],
   "source": [
    "train_gdf"
   ]
  },
  {
   "cell_type": "code",
   "execution_count": 61,
   "metadata": {},
   "outputs": [],
   "source": [
    "r_df = pd.DataFrame(train_relations_data)"
   ]
  },
  {
   "cell_type": "code",
   "execution_count": 62,
   "metadata": {},
   "outputs": [
    {
     "data": {
      "text/html": [
       "<div>\n",
       "<style scoped>\n",
       "    .dataframe tbody tr th:only-of-type {\n",
       "        vertical-align: middle;\n",
       "    }\n",
       "\n",
       "    .dataframe tbody tr th {\n",
       "        vertical-align: top;\n",
       "    }\n",
       "\n",
       "    .dataframe thead th {\n",
       "        text-align: right;\n",
       "    }\n",
       "</style>\n",
       "<table border=\"1\" class=\"dataframe\">\n",
       "  <thead>\n",
       "    <tr style=\"text-align: right;\">\n",
       "      <th></th>\n",
       "      <th>0</th>\n",
       "      <th>1</th>\n",
       "      <th>2</th>\n",
       "      <th>3</th>\n",
       "      <th>4</th>\n",
       "    </tr>\n",
       "  </thead>\n",
       "  <tbody>\n",
       "    <tr>\n",
       "      <th>0</th>\n",
       "      <td>R</td>\n",
       "      <td>10561201.ann</td>\n",
       "      <td>T8</td>\n",
       "      <td>T1</td>\n",
       "      <td>Support</td>\n",
       "    </tr>\n",
       "    <tr>\n",
       "      <th>1</th>\n",
       "      <td>R</td>\n",
       "      <td>10561201.ann</td>\n",
       "      <td>T2</td>\n",
       "      <td>T8</td>\n",
       "      <td>Support</td>\n",
       "    </tr>\n",
       "    <tr>\n",
       "      <th>2</th>\n",
       "      <td>R</td>\n",
       "      <td>10561201.ann</td>\n",
       "      <td>T3</td>\n",
       "      <td>T8</td>\n",
       "      <td>Support</td>\n",
       "    </tr>\n",
       "    <tr>\n",
       "      <th>3</th>\n",
       "      <td>R</td>\n",
       "      <td>10561201.ann</td>\n",
       "      <td>T6</td>\n",
       "      <td>T8</td>\n",
       "      <td>Support</td>\n",
       "    </tr>\n",
       "    <tr>\n",
       "      <th>4</th>\n",
       "      <td>R</td>\n",
       "      <td>10561201.ann</td>\n",
       "      <td>T4</td>\n",
       "      <td>T8</td>\n",
       "      <td>Support</td>\n",
       "    </tr>\n",
       "    <tr>\n",
       "      <th>...</th>\n",
       "      <td>...</td>\n",
       "      <td>...</td>\n",
       "      <td>...</td>\n",
       "      <td>...</td>\n",
       "      <td>...</td>\n",
       "    </tr>\n",
       "    <tr>\n",
       "      <th>1420</th>\n",
       "      <td>R</td>\n",
       "      <td>9890172.ann</td>\n",
       "      <td>T8</td>\n",
       "      <td>T1</td>\n",
       "      <td>Support</td>\n",
       "    </tr>\n",
       "    <tr>\n",
       "      <th>1421</th>\n",
       "      <td>R</td>\n",
       "      <td>9890172.ann</td>\n",
       "      <td>T5</td>\n",
       "      <td>T8</td>\n",
       "      <td>Support</td>\n",
       "    </tr>\n",
       "    <tr>\n",
       "      <th>1422</th>\n",
       "      <td>R</td>\n",
       "      <td>9890172.ann</td>\n",
       "      <td>T6</td>\n",
       "      <td>T8</td>\n",
       "      <td>Support</td>\n",
       "    </tr>\n",
       "    <tr>\n",
       "      <th>1423</th>\n",
       "      <td>R</td>\n",
       "      <td>9890172.ann</td>\n",
       "      <td>T2</td>\n",
       "      <td>T8</td>\n",
       "      <td>Support</td>\n",
       "    </tr>\n",
       "    <tr>\n",
       "      <th>1424</th>\n",
       "      <td>R</td>\n",
       "      <td>9890172.ann</td>\n",
       "      <td>T7</td>\n",
       "      <td>T8</td>\n",
       "      <td>Support</td>\n",
       "    </tr>\n",
       "  </tbody>\n",
       "</table>\n",
       "<p>1425 rows × 5 columns</p>\n",
       "</div>"
      ],
      "text/plain": [
       "      0             1   2   3        4\n",
       "0     R  10561201.ann  T8  T1  Support\n",
       "1     R  10561201.ann  T2  T8  Support\n",
       "2     R  10561201.ann  T3  T8  Support\n",
       "3     R  10561201.ann  T6  T8  Support\n",
       "4     R  10561201.ann  T4  T8  Support\n",
       "...  ..           ...  ..  ..      ...\n",
       "1420  R   9890172.ann  T8  T1  Support\n",
       "1421  R   9890172.ann  T5  T8  Support\n",
       "1422  R   9890172.ann  T6  T8  Support\n",
       "1423  R   9890172.ann  T2  T8  Support\n",
       "1424  R   9890172.ann  T7  T8  Support\n",
       "\n",
       "[1425 rows x 5 columns]"
      ]
     },
     "execution_count": 62,
     "metadata": {},
     "output_type": "execute_result"
    }
   ],
   "source": [
    "r_df"
   ]
  },
  {
   "cell_type": "code",
   "execution_count": 63,
   "metadata": {},
   "outputs": [],
   "source": [
    "r_df.columns = [\"type\", \"filename\", \"source\", \"target\", \"relation_type\"]"
   ]
  },
  {
   "cell_type": "code",
   "execution_count": 64,
   "metadata": {},
   "outputs": [
    {
     "data": {
      "text/plain": [
       "350"
      ]
     },
     "execution_count": 64,
     "metadata": {},
     "output_type": "execute_result"
    }
   ],
   "source": [
    "len(r_df.filename.unique().tolist())"
   ]
  },
  {
   "cell_type": "code",
   "execution_count": 65,
   "metadata": {},
   "outputs": [],
   "source": [
    "x= df.filename.unique().tolist()\n",
    "y = r_df.filename.unique().tolist()"
   ]
  },
  {
   "cell_type": "code",
   "execution_count": 66,
   "metadata": {},
   "outputs": [
    {
     "data": {
      "text/plain": [
       "[]"
      ]
     },
     "execution_count": 66,
     "metadata": {},
     "output_type": "execute_result"
    }
   ],
   "source": [
    "[elem for elem in x if elem not in y]"
   ]
  },
  {
   "cell_type": "code",
   "execution_count": 67,
   "metadata": {},
   "outputs": [],
   "source": [
    "rtrain_gdf = r_df.groupby([\"filename\"], sort=False).agg({\n",
    "    'type': list,\n",
    "    'source': list,\n",
    "    \"target\": list,\n",
    "    'relation_type': list,\n",
    "}).reset_index()"
   ]
  },
  {
   "cell_type": "code",
   "execution_count": 68,
   "metadata": {},
   "outputs": [
    {
     "data": {
      "text/html": [
       "<div>\n",
       "<style scoped>\n",
       "    .dataframe tbody tr th:only-of-type {\n",
       "        vertical-align: middle;\n",
       "    }\n",
       "\n",
       "    .dataframe tbody tr th {\n",
       "        vertical-align: top;\n",
       "    }\n",
       "\n",
       "    .dataframe thead th {\n",
       "        text-align: right;\n",
       "    }\n",
       "</style>\n",
       "<table border=\"1\" class=\"dataframe\">\n",
       "  <thead>\n",
       "    <tr style=\"text-align: right;\">\n",
       "      <th></th>\n",
       "      <th>filename</th>\n",
       "      <th>type</th>\n",
       "      <th>source</th>\n",
       "      <th>target</th>\n",
       "      <th>relation_type</th>\n",
       "    </tr>\n",
       "  </thead>\n",
       "  <tbody>\n",
       "    <tr>\n",
       "      <th>0</th>\n",
       "      <td>10561201.ann</td>\n",
       "      <td>[R, R, R, R, R, R]</td>\n",
       "      <td>[T8, T2, T3, T6, T4, T7]</td>\n",
       "      <td>[T1, T8, T8, T8, T8, T1]</td>\n",
       "      <td>[Support, Support, Support, Support, Support, ...</td>\n",
       "    </tr>\n",
       "    <tr>\n",
       "      <th>1</th>\n",
       "      <td>10561203.ann</td>\n",
       "      <td>[R, R, R, R, R]</td>\n",
       "      <td>[T7, T3, T4, T5, T6]</td>\n",
       "      <td>[T8, T8, T8, T8, T8]</td>\n",
       "      <td>[Partial-Attack, Support, Support, Support, Pa...</td>\n",
       "    </tr>\n",
       "    <tr>\n",
       "      <th>2</th>\n",
       "      <td>10653877.ann</td>\n",
       "      <td>[R, R, R, R, R]</td>\n",
       "      <td>[T8, T6, T2, T4, T5]</td>\n",
       "      <td>[T9, T9, T9, T9, T9]</td>\n",
       "      <td>[Support, Support, Support, Support, Support]</td>\n",
       "    </tr>\n",
       "    <tr>\n",
       "      <th>3</th>\n",
       "      <td>10675381.ann</td>\n",
       "      <td>[R, R, R, R, R]</td>\n",
       "      <td>[T2, T4, T5, T6, T7]</td>\n",
       "      <td>[T8, T8, T8, T8, T8]</td>\n",
       "      <td>[Support, Support, Support, Support, Support]</td>\n",
       "    </tr>\n",
       "    <tr>\n",
       "      <th>4</th>\n",
       "      <td>10735887.ann</td>\n",
       "      <td>[R, R, R, R]</td>\n",
       "      <td>[T1, T3, T4, T5]</td>\n",
       "      <td>[T7, T7, T7, T7]</td>\n",
       "      <td>[Support, Support, Support, Support]</td>\n",
       "    </tr>\n",
       "    <tr>\n",
       "      <th>...</th>\n",
       "      <td>...</td>\n",
       "      <td>...</td>\n",
       "      <td>...</td>\n",
       "      <td>...</td>\n",
       "      <td>...</td>\n",
       "    </tr>\n",
       "    <tr>\n",
       "      <th>345</th>\n",
       "      <td>9807987.ann</td>\n",
       "      <td>[R, R, R]</td>\n",
       "      <td>[T4, T3, T1]</td>\n",
       "      <td>[T5, T5, T5]</td>\n",
       "      <td>[Support, Support, Support]</td>\n",
       "    </tr>\n",
       "    <tr>\n",
       "      <th>346</th>\n",
       "      <td>9849452.ann</td>\n",
       "      <td>[R, R, R, R, R]</td>\n",
       "      <td>[T5, T1, T3, T6, T7]</td>\n",
       "      <td>[T4, T9, T2, T9, T9]</td>\n",
       "      <td>[Partial-Attack, Support, Partial-Attack, Supp...</td>\n",
       "    </tr>\n",
       "    <tr>\n",
       "      <th>347</th>\n",
       "      <td>9849454.ann</td>\n",
       "      <td>[R, R, R, R]</td>\n",
       "      <td>[T1, T4, T3, T2]</td>\n",
       "      <td>[T6, T6, T5, T5]</td>\n",
       "      <td>[Support, Support, Support, Support]</td>\n",
       "    </tr>\n",
       "    <tr>\n",
       "      <th>348</th>\n",
       "      <td>9850014.ann</td>\n",
       "      <td>[R, R, R]</td>\n",
       "      <td>[T4, T5, T3]</td>\n",
       "      <td>[T6, T6, T6]</td>\n",
       "      <td>[Support, Support, Support]</td>\n",
       "    </tr>\n",
       "    <tr>\n",
       "      <th>349</th>\n",
       "      <td>9890172.ann</td>\n",
       "      <td>[R, R, R, R, R]</td>\n",
       "      <td>[T8, T5, T6, T2, T7]</td>\n",
       "      <td>[T1, T8, T8, T8, T8]</td>\n",
       "      <td>[Support, Support, Support, Support, Support]</td>\n",
       "    </tr>\n",
       "  </tbody>\n",
       "</table>\n",
       "<p>350 rows × 5 columns</p>\n",
       "</div>"
      ],
      "text/plain": [
       "         filename                type                    source  \\\n",
       "0    10561201.ann  [R, R, R, R, R, R]  [T8, T2, T3, T6, T4, T7]   \n",
       "1    10561203.ann     [R, R, R, R, R]      [T7, T3, T4, T5, T6]   \n",
       "2    10653877.ann     [R, R, R, R, R]      [T8, T6, T2, T4, T5]   \n",
       "3    10675381.ann     [R, R, R, R, R]      [T2, T4, T5, T6, T7]   \n",
       "4    10735887.ann        [R, R, R, R]          [T1, T3, T4, T5]   \n",
       "..            ...                 ...                       ...   \n",
       "345   9807987.ann           [R, R, R]              [T4, T3, T1]   \n",
       "346   9849452.ann     [R, R, R, R, R]      [T5, T1, T3, T6, T7]   \n",
       "347   9849454.ann        [R, R, R, R]          [T1, T4, T3, T2]   \n",
       "348   9850014.ann           [R, R, R]              [T4, T5, T3]   \n",
       "349   9890172.ann     [R, R, R, R, R]      [T8, T5, T6, T2, T7]   \n",
       "\n",
       "                       target  \\\n",
       "0    [T1, T8, T8, T8, T8, T1]   \n",
       "1        [T8, T8, T8, T8, T8]   \n",
       "2        [T9, T9, T9, T9, T9]   \n",
       "3        [T8, T8, T8, T8, T8]   \n",
       "4            [T7, T7, T7, T7]   \n",
       "..                        ...   \n",
       "345              [T5, T5, T5]   \n",
       "346      [T4, T9, T2, T9, T9]   \n",
       "347          [T6, T6, T5, T5]   \n",
       "348              [T6, T6, T6]   \n",
       "349      [T1, T8, T8, T8, T8]   \n",
       "\n",
       "                                         relation_type  \n",
       "0    [Support, Support, Support, Support, Support, ...  \n",
       "1    [Partial-Attack, Support, Support, Support, Pa...  \n",
       "2        [Support, Support, Support, Support, Support]  \n",
       "3        [Support, Support, Support, Support, Support]  \n",
       "4                 [Support, Support, Support, Support]  \n",
       "..                                                 ...  \n",
       "345                        [Support, Support, Support]  \n",
       "346  [Partial-Attack, Support, Partial-Attack, Supp...  \n",
       "347               [Support, Support, Support, Support]  \n",
       "348                        [Support, Support, Support]  \n",
       "349      [Support, Support, Support, Support, Support]  \n",
       "\n",
       "[350 rows x 5 columns]"
      ]
     },
     "execution_count": 68,
     "metadata": {},
     "output_type": "execute_result"
    }
   ],
   "source": [
    "rtrain_gdf"
   ]
  },
  {
   "cell_type": "code",
   "execution_count": 69,
   "metadata": {},
   "outputs": [],
   "source": [
    "train_df = train_gdf.merge(rtrain_gdf, on=\"filename\")"
   ]
  },
  {
   "cell_type": "code",
   "execution_count": 70,
   "metadata": {},
   "outputs": [
    {
     "data": {
      "text/html": [
       "<div>\n",
       "<style scoped>\n",
       "    .dataframe tbody tr th:only-of-type {\n",
       "        vertical-align: middle;\n",
       "    }\n",
       "\n",
       "    .dataframe tbody tr th {\n",
       "        vertical-align: top;\n",
       "    }\n",
       "\n",
       "    .dataframe thead th {\n",
       "        text-align: right;\n",
       "    }\n",
       "</style>\n",
       "<table border=\"1\" class=\"dataframe\">\n",
       "  <thead>\n",
       "    <tr style=\"text-align: right;\">\n",
       "      <th></th>\n",
       "      <th>filename</th>\n",
       "      <th>type_x</th>\n",
       "      <th>ac_id</th>\n",
       "      <th>ac_type</th>\n",
       "      <th>ac_start_bound</th>\n",
       "      <th>ac_end_bound</th>\n",
       "      <th>ac</th>\n",
       "      <th>type_y</th>\n",
       "      <th>source</th>\n",
       "      <th>target</th>\n",
       "      <th>relation_type</th>\n",
       "    </tr>\n",
       "  </thead>\n",
       "  <tbody>\n",
       "    <tr>\n",
       "      <th>0</th>\n",
       "      <td>10561201.ann</td>\n",
       "      <td>[T, T, T, T, T, T, T]</td>\n",
       "      <td>[T1, T2, T3, T4, T6, T7, T8]</td>\n",
       "      <td>[MajorClaim, Premise, Premise, Premise, Premis...</td>\n",
       "      <td>[1, 992, 1063, 1188, 1452, 1569, 1769]</td>\n",
       "      <td>[162, 1058, 1187, 1447, 1568, 1768, 1945]</td>\n",
       "      <td>[A combination of mitoxantrone plus prednisone...</td>\n",
       "      <td>[R, R, R, R, R, R]</td>\n",
       "      <td>[T8, T2, T3, T6, T4, T7]</td>\n",
       "      <td>[T1, T8, T8, T8, T8, T1]</td>\n",
       "      <td>[Support, Support, Support, Support, Support, ...</td>\n",
       "    </tr>\n",
       "    <tr>\n",
       "      <th>1</th>\n",
       "      <td>10561203.ann</td>\n",
       "      <td>[T, T, T, T, T, T, T]</td>\n",
       "      <td>[T1, T3, T4, T5, T6, T7, T8]</td>\n",
       "      <td>[Claim, Premise, Premise, Premise, Premise, Pr...</td>\n",
       "      <td>[1, 1354, 1443, 1593, 1828, 1979, 2056]</td>\n",
       "      <td>[318, 1442, 1592, 1827, 1978, 2055, 2167]</td>\n",
       "      <td>[In endocrine therapy trials in advanced breas...</td>\n",
       "      <td>[R, R, R, R, R]</td>\n",
       "      <td>[T7, T3, T4, T5, T6]</td>\n",
       "      <td>[T8, T8, T8, T8, T8]</td>\n",
       "      <td>[Partial-Attack, Support, Support, Support, Pa...</td>\n",
       "    </tr>\n",
       "    <tr>\n",
       "      <th>2</th>\n",
       "      <td>10653877.ann</td>\n",
       "      <td>[T, T, T, T, T, T, T, T, T]</td>\n",
       "      <td>[T1, T2, T3, T4, T5, T6, T7, T8, T9]</td>\n",
       "      <td>[Claim, Premise, Premise, Premise, Premise, Pr...</td>\n",
       "      <td>[1, 957, 1204, 1297, 1465, 1612, 1865, 1938, 2...</td>\n",
       "      <td>[156, 1203, 1296, 1464, 1611, 1864, 1928, 2001...</td>\n",
       "      <td>[Treatment with cisplatin-based chemotherapy p...</td>\n",
       "      <td>[R, R, R, R, R]</td>\n",
       "      <td>[T8, T6, T2, T4, T5]</td>\n",
       "      <td>[T9, T9, T9, T9, T9]</td>\n",
       "      <td>[Support, Support, Support, Support, Support]</td>\n",
       "    </tr>\n",
       "    <tr>\n",
       "      <th>3</th>\n",
       "      <td>10675381.ann</td>\n",
       "      <td>[T, T, T, T, T, T, T, T]</td>\n",
       "      <td>[T1, T2, T3, T4, T5, T6, T7, T8]</td>\n",
       "      <td>[MajorClaim, Premise, Premise, Premise, Premis...</td>\n",
       "      <td>[218, 1028, 1209, 1395, 1580, 1647, 1844, 2193]</td>\n",
       "      <td>[449, 1208, 1394, 1579, 1646, 1843, 2152, 2288]</td>\n",
       "      <td>[In nonrandomized studies involving patients w...</td>\n",
       "      <td>[R, R, R, R, R]</td>\n",
       "      <td>[T2, T4, T5, T6, T7]</td>\n",
       "      <td>[T8, T8, T8, T8, T8]</td>\n",
       "      <td>[Support, Support, Support, Support, Support]</td>\n",
       "    </tr>\n",
       "    <tr>\n",
       "      <th>4</th>\n",
       "      <td>10735887.ann</td>\n",
       "      <td>[T, T, T, T, T, T, T]</td>\n",
       "      <td>[T1, T2, T3, T4, T5, T6, T7]</td>\n",
       "      <td>[Premise, Premise, Premise, Premise, Claim, Pr...</td>\n",
       "      <td>[552, 678, 758, 1102, 1196, 1228, 1306]</td>\n",
       "      <td>[677, 757, 1101, 1195, 1227, 1305, 1555]</td>\n",
       "      <td>[Overall objective response (OR) rates were hi...</td>\n",
       "      <td>[R, R, R, R]</td>\n",
       "      <td>[T1, T3, T4, T5]</td>\n",
       "      <td>[T7, T7, T7, T7]</td>\n",
       "      <td>[Support, Support, Support, Support]</td>\n",
       "    </tr>\n",
       "    <tr>\n",
       "      <th>...</th>\n",
       "      <td>...</td>\n",
       "      <td>...</td>\n",
       "      <td>...</td>\n",
       "      <td>...</td>\n",
       "      <td>...</td>\n",
       "      <td>...</td>\n",
       "      <td>...</td>\n",
       "      <td>...</td>\n",
       "      <td>...</td>\n",
       "      <td>...</td>\n",
       "      <td>...</td>\n",
       "    </tr>\n",
       "    <tr>\n",
       "      <th>345</th>\n",
       "      <td>9807987.ann</td>\n",
       "      <td>[T, T, T, T, T]</td>\n",
       "      <td>[T1, T2, T3, T4, T5]</td>\n",
       "      <td>[Premise, Premise, Premise, Premise, Claim]</td>\n",
       "      <td>[812, 1026, 1140, 1342, 1469]</td>\n",
       "      <td>[1025, 1139, 1341, 1468, 1760]</td>\n",
       "      <td>[With a median follow-up of 13 months, the ove...</td>\n",
       "      <td>[R, R, R]</td>\n",
       "      <td>[T4, T3, T1]</td>\n",
       "      <td>[T5, T5, T5]</td>\n",
       "      <td>[Support, Support, Support]</td>\n",
       "    </tr>\n",
       "    <tr>\n",
       "      <th>346</th>\n",
       "      <td>9849452.ann</td>\n",
       "      <td>[T, T, T, T, T, T, T, T, T]</td>\n",
       "      <td>[T1, T2, T3, T4, T5, T6, T7, T8, T9]</td>\n",
       "      <td>[Premise, Premise, Premise, Premise, Premise, ...</td>\n",
       "      <td>[983, 1124, 1187, 1250, 1327, 1349, 1503, 1624...</td>\n",
       "      <td>[1123, 1186, 1249, 1326, 1348, 1502, 1623, 166...</td>\n",
       "      <td>[Patients in the chemotherapy group reported b...</td>\n",
       "      <td>[R, R, R, R, R]</td>\n",
       "      <td>[T5, T1, T3, T6, T7]</td>\n",
       "      <td>[T4, T9, T2, T9, T9]</td>\n",
       "      <td>[Partial-Attack, Support, Partial-Attack, Supp...</td>\n",
       "    </tr>\n",
       "    <tr>\n",
       "      <th>347</th>\n",
       "      <td>9849454.ann</td>\n",
       "      <td>[T, T, T, T, T, T]</td>\n",
       "      <td>[T1, T2, T3, T4, T5, T6]</td>\n",
       "      <td>[Premise, Premise, Premise, Premise, Claim, Cl...</td>\n",
       "      <td>[1149, 1215, 1381, 1507, 2258, 2523]</td>\n",
       "      <td>[1214, 1380, 1506, 1699, 2522, 2655]</td>\n",
       "      <td>[Complete remission was achieved in 91% (170/1...</td>\n",
       "      <td>[R, R, R, R]</td>\n",
       "      <td>[T1, T4, T3, T2]</td>\n",
       "      <td>[T6, T6, T5, T5]</td>\n",
       "      <td>[Support, Support, Support, Support]</td>\n",
       "    </tr>\n",
       "    <tr>\n",
       "      <th>348</th>\n",
       "      <td>9850014.ann</td>\n",
       "      <td>[T, T, T, T, T, T]</td>\n",
       "      <td>[T1, T2, T3, T4, T5, T6]</td>\n",
       "      <td>[Premise, Premise, Premise, Premise, Premise, ...</td>\n",
       "      <td>[891, 1041, 1139, 1264, 1357, 1578]</td>\n",
       "      <td>[1040, 1138, 1263, 1356, 1577, 1770]</td>\n",
       "      <td>[An objective response (complete [CR] or parti...</td>\n",
       "      <td>[R, R, R]</td>\n",
       "      <td>[T4, T5, T3]</td>\n",
       "      <td>[T6, T6, T6]</td>\n",
       "      <td>[Support, Support, Support]</td>\n",
       "    </tr>\n",
       "    <tr>\n",
       "      <th>349</th>\n",
       "      <td>9890172.ann</td>\n",
       "      <td>[T, T, T, T, T, T]</td>\n",
       "      <td>[T1, T2, T5, T6, T7, T8]</td>\n",
       "      <td>[Claim, Premise, Premise, Premise, Premise, Cl...</td>\n",
       "      <td>[1, 1260, 1451, 1564, 1644, 1737]</td>\n",
       "      <td>[154, 1450, 1563, 1643, 1736, 1841]</td>\n",
       "      <td>[Vinorelbine, a semisynthetic vinca alkaloid, ...</td>\n",
       "      <td>[R, R, R, R, R]</td>\n",
       "      <td>[T8, T5, T6, T2, T7]</td>\n",
       "      <td>[T1, T8, T8, T8, T8]</td>\n",
       "      <td>[Support, Support, Support, Support, Support]</td>\n",
       "    </tr>\n",
       "  </tbody>\n",
       "</table>\n",
       "<p>350 rows × 11 columns</p>\n",
       "</div>"
      ],
      "text/plain": [
       "         filename                       type_x  \\\n",
       "0    10561201.ann        [T, T, T, T, T, T, T]   \n",
       "1    10561203.ann        [T, T, T, T, T, T, T]   \n",
       "2    10653877.ann  [T, T, T, T, T, T, T, T, T]   \n",
       "3    10675381.ann     [T, T, T, T, T, T, T, T]   \n",
       "4    10735887.ann        [T, T, T, T, T, T, T]   \n",
       "..            ...                          ...   \n",
       "345   9807987.ann              [T, T, T, T, T]   \n",
       "346   9849452.ann  [T, T, T, T, T, T, T, T, T]   \n",
       "347   9849454.ann           [T, T, T, T, T, T]   \n",
       "348   9850014.ann           [T, T, T, T, T, T]   \n",
       "349   9890172.ann           [T, T, T, T, T, T]   \n",
       "\n",
       "                                    ac_id  \\\n",
       "0            [T1, T2, T3, T4, T6, T7, T8]   \n",
       "1            [T1, T3, T4, T5, T6, T7, T8]   \n",
       "2    [T1, T2, T3, T4, T5, T6, T7, T8, T9]   \n",
       "3        [T1, T2, T3, T4, T5, T6, T7, T8]   \n",
       "4            [T1, T2, T3, T4, T5, T6, T7]   \n",
       "..                                    ...   \n",
       "345                  [T1, T2, T3, T4, T5]   \n",
       "346  [T1, T2, T3, T4, T5, T6, T7, T8, T9]   \n",
       "347              [T1, T2, T3, T4, T5, T6]   \n",
       "348              [T1, T2, T3, T4, T5, T6]   \n",
       "349              [T1, T2, T5, T6, T7, T8]   \n",
       "\n",
       "                                               ac_type  \\\n",
       "0    [MajorClaim, Premise, Premise, Premise, Premis...   \n",
       "1    [Claim, Premise, Premise, Premise, Premise, Pr...   \n",
       "2    [Claim, Premise, Premise, Premise, Premise, Pr...   \n",
       "3    [MajorClaim, Premise, Premise, Premise, Premis...   \n",
       "4    [Premise, Premise, Premise, Premise, Claim, Pr...   \n",
       "..                                                 ...   \n",
       "345        [Premise, Premise, Premise, Premise, Claim]   \n",
       "346  [Premise, Premise, Premise, Premise, Premise, ...   \n",
       "347  [Premise, Premise, Premise, Premise, Claim, Cl...   \n",
       "348  [Premise, Premise, Premise, Premise, Premise, ...   \n",
       "349  [Claim, Premise, Premise, Premise, Premise, Cl...   \n",
       "\n",
       "                                        ac_start_bound  \\\n",
       "0               [1, 992, 1063, 1188, 1452, 1569, 1769]   \n",
       "1              [1, 1354, 1443, 1593, 1828, 1979, 2056]   \n",
       "2    [1, 957, 1204, 1297, 1465, 1612, 1865, 1938, 2...   \n",
       "3      [218, 1028, 1209, 1395, 1580, 1647, 1844, 2193]   \n",
       "4              [552, 678, 758, 1102, 1196, 1228, 1306]   \n",
       "..                                                 ...   \n",
       "345                      [812, 1026, 1140, 1342, 1469]   \n",
       "346  [983, 1124, 1187, 1250, 1327, 1349, 1503, 1624...   \n",
       "347               [1149, 1215, 1381, 1507, 2258, 2523]   \n",
       "348                [891, 1041, 1139, 1264, 1357, 1578]   \n",
       "349                  [1, 1260, 1451, 1564, 1644, 1737]   \n",
       "\n",
       "                                          ac_end_bound  \\\n",
       "0            [162, 1058, 1187, 1447, 1568, 1768, 1945]   \n",
       "1            [318, 1442, 1592, 1827, 1978, 2055, 2167]   \n",
       "2    [156, 1203, 1296, 1464, 1611, 1864, 1928, 2001...   \n",
       "3      [449, 1208, 1394, 1579, 1646, 1843, 2152, 2288]   \n",
       "4             [677, 757, 1101, 1195, 1227, 1305, 1555]   \n",
       "..                                                 ...   \n",
       "345                     [1025, 1139, 1341, 1468, 1760]   \n",
       "346  [1123, 1186, 1249, 1326, 1348, 1502, 1623, 166...   \n",
       "347               [1214, 1380, 1506, 1699, 2522, 2655]   \n",
       "348               [1040, 1138, 1263, 1356, 1577, 1770]   \n",
       "349                [154, 1450, 1563, 1643, 1736, 1841]   \n",
       "\n",
       "                                                    ac              type_y  \\\n",
       "0    [A combination of mitoxantrone plus prednisone...  [R, R, R, R, R, R]   \n",
       "1    [In endocrine therapy trials in advanced breas...     [R, R, R, R, R]   \n",
       "2    [Treatment with cisplatin-based chemotherapy p...     [R, R, R, R, R]   \n",
       "3    [In nonrandomized studies involving patients w...     [R, R, R, R, R]   \n",
       "4    [Overall objective response (OR) rates were hi...        [R, R, R, R]   \n",
       "..                                                 ...                 ...   \n",
       "345  [With a median follow-up of 13 months, the ove...           [R, R, R]   \n",
       "346  [Patients in the chemotherapy group reported b...     [R, R, R, R, R]   \n",
       "347  [Complete remission was achieved in 91% (170/1...        [R, R, R, R]   \n",
       "348  [An objective response (complete [CR] or parti...           [R, R, R]   \n",
       "349  [Vinorelbine, a semisynthetic vinca alkaloid, ...     [R, R, R, R, R]   \n",
       "\n",
       "                       source                    target  \\\n",
       "0    [T8, T2, T3, T6, T4, T7]  [T1, T8, T8, T8, T8, T1]   \n",
       "1        [T7, T3, T4, T5, T6]      [T8, T8, T8, T8, T8]   \n",
       "2        [T8, T6, T2, T4, T5]      [T9, T9, T9, T9, T9]   \n",
       "3        [T2, T4, T5, T6, T7]      [T8, T8, T8, T8, T8]   \n",
       "4            [T1, T3, T4, T5]          [T7, T7, T7, T7]   \n",
       "..                        ...                       ...   \n",
       "345              [T4, T3, T1]              [T5, T5, T5]   \n",
       "346      [T5, T1, T3, T6, T7]      [T4, T9, T2, T9, T9]   \n",
       "347          [T1, T4, T3, T2]          [T6, T6, T5, T5]   \n",
       "348              [T4, T5, T3]              [T6, T6, T6]   \n",
       "349      [T8, T5, T6, T2, T7]      [T1, T8, T8, T8, T8]   \n",
       "\n",
       "                                         relation_type  \n",
       "0    [Support, Support, Support, Support, Support, ...  \n",
       "1    [Partial-Attack, Support, Support, Support, Pa...  \n",
       "2        [Support, Support, Support, Support, Support]  \n",
       "3        [Support, Support, Support, Support, Support]  \n",
       "4                 [Support, Support, Support, Support]  \n",
       "..                                                 ...  \n",
       "345                        [Support, Support, Support]  \n",
       "346  [Partial-Attack, Support, Partial-Attack, Supp...  \n",
       "347               [Support, Support, Support, Support]  \n",
       "348                        [Support, Support, Support]  \n",
       "349      [Support, Support, Support, Support, Support]  \n",
       "\n",
       "[350 rows x 11 columns]"
      ]
     },
     "execution_count": 70,
     "metadata": {},
     "output_type": "execute_result"
    }
   ],
   "source": [
    "train_df"
   ]
  },
  {
   "cell_type": "code",
   "execution_count": 115,
   "metadata": {},
   "outputs": [],
   "source": [
    "# for filename in tqdm([f for f in os.listdir(train_ann_files_directory) if f.endswith('.ann')], desc=\"Parsing annotation files for components ...\"):\n",
    "    \n",
    "#     print(\"processing: \" + filename)\n",
    "#     #if filename.endswith(\".ann\"):  # Process only text files\n",
    "#     file_path = os.path.join(train_ann_files_directory, filename)\n",
    "    \n",
    "#     with open(file_path, \"r\", encoding=\"utf-8\") as file:\n",
    "#         for line in file:\n",
    "#             parts = line.strip().split(\"\\t\")\n",
    "#             #print(parts)\n",
    "#             # Process \"T\" lines (claims/premises)\n",
    "#             if line.startswith(\"T\"):\n",
    "#                 t_id = parts[0]  # Extract T ID (e.g., T1)\n",
    "#                 t_type = parts[1].split(\" \")[0]  # Extract type (e.g., MajorClaim, Claim, Premise)\n",
    "#                 t_s_bound = parts[1].split(\" \")[1]\n",
    "#                 t_e_bound = parts[1].split(\" \")[2]\n",
    "#                 text = parts[2] #if len(parts) > 3 else \"\"  # Extract text if available\n",
    "#                 train_data.append([\"T\", filename, t_id, t_type, t_s_bound, t_e_bound, text])"
   ]
  },
  {
   "cell_type": "code",
   "execution_count": 26,
   "metadata": {},
   "outputs": [],
   "source": [
    "# for filename in tqdm(os.listdir(ann_files_directory), desc=\"Parsing annotation files for relations ... \"):\n",
    "    \n",
    "#     print(\"processing: \" + filename)\n",
    "#     #if filename.endswith(\".ann\"):  # Process only text files\n",
    "#     file_path = os.path.join(ann_files_directory, filename)\n",
    "    \n",
    "#     with open(file_path, \"r\", encoding=\"utf-8\") as file:\n",
    "#         for line in file:\n",
    "#             parts = line.strip().split(\"\\t\")\n",
    "#             #print(parts)\n",
    "#             # Process \"T\" lines (claims/premises)\n",
    "#             if line.startswith(\"R\"):\n",
    "#                 parts = line.strip().split()\n",
    "#                 relation_type = parts[1]  # \"supports\" or \"attacks\"\n",
    "#                 arg1 = parts[2].split(\":\")[1]  # Extract T value from Arg1\n",
    "#                 arg2 = parts[3].split(\":\")[1]  # Extract T value from Arg2\n",
    "#                 relations_data.append([\"R\", filename, arg1, arg2, relation_type])"
   ]
  },
  {
   "cell_type": "code",
   "execution_count": 27,
   "metadata": {},
   "outputs": [],
   "source": [
    "# for filename in tqdm(os.listdir(ann_files_directory), desc=\"Parsing annotation files for stances ... \"):\n",
    "    \n",
    "#     print(\"processing: \" + filename)\n",
    "#     #if filename.endswith(\".ann\"):  # Process only text files\n",
    "#     file_path = os.path.join(ann_files_directory, filename)\n",
    "    \n",
    "#     with open(file_path, \"r\", encoding=\"utf-8\") as file:\n",
    "#         for line in file:\n",
    "#             parts = line.strip().split(\"\\t\")\n",
    "#             #print(parts)\n",
    "#             # Process \"T\" lines (claims/premises)\n",
    "#             if line.startswith(\"A\"):\n",
    "#                 parts = line.strip().split()\n",
    "#                 relation_type = parts[-1]  # \"supports\" or \"attacks\"\n",
    "#                 #arg1 = parts[2].split(\":\")[1]  # Extract T value from Arg1\n",
    "#                 #arg2 = parts[3].split(\":\")[1]  # Extract T value from Arg2\n",
    "#                 stances_data.append([\"A\", filename, relation_type])"
   ]
  },
  {
   "cell_type": "code",
   "execution_count": 28,
   "metadata": {},
   "outputs": [],
   "source": [
    "# for filename in tqdm(os.listdir(text_files_directory), desc=\"Parsing text files for esssays ... \"):\n",
    "    \n",
    "#     print(\"processing: \" + filename)\n",
    "#     #if filename.endswith(\".ann\"):  # Process only text files\n",
    "#     file_path = os.path.join(text_files_directory, filename)\n",
    "#     filename_ann = filename.replace(\".txt\", \".ann\")\n",
    "    \n",
    "#     with open(file_path, \"r\", encoding=\"utf-8\") as file:\n",
    "        \n",
    "#         lines = file.readlines()\n",
    "#         essay_title = lines[0].strip()\n",
    "#         essay_text = \"\".join(lines[1:]).strip()\n",
    "        \n",
    "#         essays_data.append([filename.replace(\".txt\", \".ann\"), essay_title, essay_text])"
   ]
  },
  {
   "cell_type": "code",
   "execution_count": 29,
   "metadata": {},
   "outputs": [],
   "source": [
    "# components_df = pd.DataFrame(components_data)\n",
    "# relations_df = pd.DataFrame(relations_data)\n",
    "# stances_df = pd.DataFrame(stances_data)\n",
    "# essays_df = pd.DataFrame(essays_data)"
   ]
  },
  {
   "cell_type": "code",
   "execution_count": 30,
   "metadata": {},
   "outputs": [],
   "source": [
    "# essays_df"
   ]
  },
  {
   "cell_type": "code",
   "execution_count": 31,
   "metadata": {},
   "outputs": [],
   "source": [
    "# components_df = components_df.drop(columns=components_df.columns[0])\n",
    "# components_df.columns = [\"file_name\", \"argument_id\", \"argument_type\", \"arg_bound_1\", \"arg_bound2\", \"argument_component\"]"
   ]
  },
  {
   "cell_type": "code",
   "execution_count": 32,
   "metadata": {},
   "outputs": [],
   "source": [
    "# relations_df = relations_df.drop(columns=relations_df.columns[0])\n",
    "# relations_df.columns = [\"file_name\", \"source_arg\", \"target_arg\", \"relation_type\"]"
   ]
  },
  {
   "cell_type": "code",
   "execution_count": 33,
   "metadata": {},
   "outputs": [],
   "source": [
    "# stances_df = stances_df.drop(columns=stances_df.columns[0])\n",
    "# stances_df.columns = [\"file_name\", \"stance_type\"]"
   ]
  },
  {
   "cell_type": "code",
   "execution_count": 34,
   "metadata": {},
   "outputs": [],
   "source": [
    "# essays_df.columns = [\"file_name\", \"essay_title\", \"essay_text\"]"
   ]
  },
  {
   "cell_type": "markdown",
   "metadata": {},
   "source": [
    "<!-- ### Group and Merge -->"
   ]
  },
  {
   "cell_type": "code",
   "execution_count": 35,
   "metadata": {},
   "outputs": [],
   "source": [
    "# comp_grouped_df = components_df.groupby(['file_name'], sort=False).agg({\n",
    "#     'argument_id': list,\n",
    "#     'argument_type': list,\n",
    "#     'arg_bound_1': list,\n",
    "#     'arg_bound2': list,\n",
    "#     'argument_component': list,\n",
    "# }).reset_index()"
   ]
  },
  {
   "cell_type": "code",
   "execution_count": 36,
   "metadata": {},
   "outputs": [],
   "source": [
    "# rels_grouped_df = relations_df.groupby(['file_name'], sort=False).agg({\n",
    "#     'source_arg': list,\n",
    "#     'target_arg': list,\n",
    "#     'relation_type': list,\n",
    "# }).reset_index()"
   ]
  },
  {
   "cell_type": "code",
   "execution_count": 37,
   "metadata": {},
   "outputs": [],
   "source": [
    "# stance_grouped_df = stances_df.groupby(['file_name'], sort=False).agg({\n",
    "#     'stance_type': list,\n",
    "# }).reset_index()"
   ]
  },
  {
   "cell_type": "code",
   "execution_count": 38,
   "metadata": {},
   "outputs": [],
   "source": [
    "# pe_df = comp_grouped_df.merge(rels_grouped_df, on=\"file_name\").merge(stance_grouped_df, on=\"file_name\").merge(essays_df, on=\"file_name\")"
   ]
  },
  {
   "cell_type": "code",
   "execution_count": 39,
   "metadata": {},
   "outputs": [],
   "source": [
    "# pe_df.columns = ['ann_file_name', 'argument_ids', 'argument_types', 'arg_start_bounds',\n",
    "#        'arg_end_bounds', 'argument_components', 'source_args', 'target_args',\n",
    "#        'relation_types', 'stance_types', 'essay_title', 'essay_text']"
   ]
  },
  {
   "cell_type": "code",
   "execution_count": 40,
   "metadata": {},
   "outputs": [],
   "source": [
    "# pe_df"
   ]
  },
  {
   "cell_type": "code",
   "execution_count": 41,
   "metadata": {},
   "outputs": [],
   "source": [
    "# def claim_sanity(row):\n",
    "    \n",
    "#     return 1 if len([elem for elem in row.argument_types if elem == \"Claim\"]) == len(row.stance_types) else 0"
   ]
  },
  {
   "cell_type": "code",
   "execution_count": 42,
   "metadata": {},
   "outputs": [],
   "source": [
    "# pe_df['sanity_claims'] = pe_df.apply(lambda row: claim_sanity(row), axis=1)"
   ]
  },
  {
   "cell_type": "code",
   "execution_count": 43,
   "metadata": {},
   "outputs": [],
   "source": [
    "# pe_df['sanity_claims'].value_counts()"
   ]
  },
  {
   "cell_type": "code",
   "execution_count": 44,
   "metadata": {},
   "outputs": [],
   "source": [
    "## Sanity Checks"
   ]
  },
  {
   "cell_type": "code",
   "execution_count": 45,
   "metadata": {},
   "outputs": [],
   "source": [
    "# def is_ordered(row):\n",
    "#     \"\"\"Checks if the list is in the correct order.\"\"\"\n",
    "#     extracted_numbers = [int(re.search(r'\\d+', item).group()) for item in row.argument_ids] # type: ignore\n",
    "#     return extracted_numbers == sorted(extracted_numbers)"
   ]
  },
  {
   "cell_type": "code",
   "execution_count": 46,
   "metadata": {},
   "outputs": [],
   "source": [
    "# pe_df['sanity_check_1'] = pe_df.apply(lambda row: is_ordered(row), axis=1)"
   ]
  },
  {
   "cell_type": "code",
   "execution_count": 47,
   "metadata": {},
   "outputs": [],
   "source": [
    "# pe_df['sanity_check_1'].value_counts()"
   ]
  },
  {
   "cell_type": "code",
   "execution_count": 48,
   "metadata": {},
   "outputs": [],
   "source": [
    "# pe_df[pe_df['sanity_check_1'] == False]"
   ]
  },
  {
   "cell_type": "code",
   "execution_count": 49,
   "metadata": {},
   "outputs": [],
   "source": [
    "# def get_source_acs(row):\n",
    "    \n",
    "#     arg_ids = row.argument_ids    \n",
    "#     source_ids = row.source_args\n",
    "#     acs = row.argument_components\n",
    "    \n",
    "#     source_acs = []\n",
    "    \n",
    "#     for id in source_ids:\n",
    "        \n",
    "#         idx = arg_ids.index(id)\n",
    "#         source_acs.append(acs[idx])\n",
    "        \n",
    "#     return source_acs"
   ]
  },
  {
   "cell_type": "code",
   "execution_count": 50,
   "metadata": {},
   "outputs": [],
   "source": [
    "# get_source_acs(pe_df.iloc[0])"
   ]
  },
  {
   "cell_type": "code",
   "execution_count": 51,
   "metadata": {},
   "outputs": [],
   "source": [
    "# def get_target_acs(row):\n",
    "    \n",
    "#     arg_ids = row.argument_ids    \n",
    "#     target_ids = row.target_args\n",
    "#     acs = row.argument_components\n",
    "    \n",
    "#     target_acs = []\n",
    "    \n",
    "#     for id in target_ids:\n",
    "        \n",
    "#         idx = arg_ids.index(id)\n",
    "#         target_acs.append(acs[idx])\n",
    "        \n",
    "#     return target_acs"
   ]
  },
  {
   "cell_type": "code",
   "execution_count": 52,
   "metadata": {},
   "outputs": [],
   "source": [
    "# get_target_acs(pe_df.iloc[0])"
   ]
  },
  {
   "cell_type": "code",
   "execution_count": 53,
   "metadata": {},
   "outputs": [],
   "source": [
    "# pe_df.iloc[0]"
   ]
  },
  {
   "cell_type": "code",
   "execution_count": 54,
   "metadata": {},
   "outputs": [],
   "source": [
    "# pe_df.iloc[0]['argument_components']"
   ]
  },
  {
   "cell_type": "code",
   "execution_count": 55,
   "metadata": {},
   "outputs": [],
   "source": [
    "# pe_df['source_acs'] = pe_df.apply(lambda row: get_source_acs(row), axis=1)"
   ]
  },
  {
   "cell_type": "code",
   "execution_count": 56,
   "metadata": {},
   "outputs": [],
   "source": [
    "# pe_df['target_acs'] = pe_df.apply(lambda row: get_target_acs(row), axis=1)"
   ]
  },
  {
   "cell_type": "code",
   "execution_count": 57,
   "metadata": {},
   "outputs": [],
   "source": [
    "# pe_df"
   ]
  },
  {
   "cell_type": "code",
   "execution_count": 58,
   "metadata": {},
   "outputs": [],
   "source": [
    "# def build_pairs(row):\n",
    "    \n",
    "#     source_acs = row.source_acs\n",
    "#     target_acs = row.target_acs\n",
    "#     essay_acs_l = row.argument_components\n",
    "#     stances_l = row.relation_types\n",
    "    \n",
    "#     pairs = []\n",
    "    \n",
    "#     for s_ac, t_ac, stance in zip(source_acs, target_acs, stances_l):\n",
    "        \n",
    "#         pairs.append((essay_acs_l.index(s_ac)+1, essay_acs_l.index(t_ac)+1, stance))\n",
    "        \n",
    "#     return pairs"
   ]
  },
  {
   "cell_type": "code",
   "execution_count": 59,
   "metadata": {},
   "outputs": [],
   "source": [
    "# build_pairs(pe_df.iloc[370])"
   ]
  },
  {
   "cell_type": "code",
   "execution_count": 60,
   "metadata": {},
   "outputs": [],
   "source": [
    "# pe_df['relation_pairs'] = pe_df.apply(lambda row: build_pairs(row), axis=1)"
   ]
  },
  {
   "cell_type": "code",
   "execution_count": 61,
   "metadata": {},
   "outputs": [],
   "source": [
    "# sum(pe_df.relation_pairs.apply(len))"
   ]
  },
  {
   "cell_type": "code",
   "execution_count": 62,
   "metadata": {},
   "outputs": [],
   "source": [
    "# sum(pe_df.relation_types.apply(len))"
   ]
  },
  {
   "cell_type": "code",
   "execution_count": 63,
   "metadata": {},
   "outputs": [],
   "source": [
    "# sum(pe_df.stance_types.apply(len))"
   ]
  },
  {
   "cell_type": "code",
   "execution_count": 64,
   "metadata": {},
   "outputs": [],
   "source": [
    "# pe_df"
   ]
  },
  {
   "cell_type": "code",
   "execution_count": 65,
   "metadata": {},
   "outputs": [],
   "source": [
    "# def c_mc_pairs(row):\n",
    "    \n",
    "#     arg_types = row.argument_types\n",
    "#     stances = row.stance_types\n",
    "    \n",
    "#     pairs = [(i+1, j+1) for i, _ in enumerate(arg_types) for j, _ in enumerate(arg_types) if (arg_types[i] == \"Claim\" and arg_types[j] == \"MajorClaim\")]\n",
    "    \n",
    "#     triplets = []\n",
    "#     i = 0\n",
    "    \n",
    "#     stance = stances[i]\n",
    "#     source = pairs[0][0]\n",
    "    \n",
    "#     for pair in pairs:\n",
    "        \n",
    "#         new_source = pair[0]\n",
    "#         if new_source != source:\n",
    "#             i+=1\n",
    "#             stance = stances[i]\n",
    "        \n",
    "#         #print((pair, stance))\n",
    "#         triplets.append((pair[0], pair[1], stance))\n",
    "#         source = new_source\n",
    "    \n",
    "#     return triplets\n",
    "#     #triplets = [(pair, stance) for pair in pairs for idx, stance in enumerate(stances) if [elem for elem in arg_types if elem == \"Claim\"][idx]]"
   ]
  },
  {
   "cell_type": "code",
   "execution_count": 66,
   "metadata": {},
   "outputs": [],
   "source": [
    "# c_mc_pairs(pe_df.iloc[0])"
   ]
  },
  {
   "cell_type": "code",
   "execution_count": 67,
   "metadata": {},
   "outputs": [],
   "source": [
    "# pe_df.iloc[0]"
   ]
  },
  {
   "cell_type": "code",
   "execution_count": 68,
   "metadata": {},
   "outputs": [],
   "source": [
    "# pe_df['stance_pairs'] = pe_df.apply(lambda row: c_mc_pairs(row), axis=1)"
   ]
  },
  {
   "cell_type": "code",
   "execution_count": 69,
   "metadata": {},
   "outputs": [],
   "source": [
    "# pe_df"
   ]
  },
  {
   "cell_type": "code",
   "execution_count": 70,
   "metadata": {},
   "outputs": [],
   "source": [
    "# pe_df.columns"
   ]
  },
  {
   "cell_type": "code",
   "execution_count": 71,
   "metadata": {},
   "outputs": [],
   "source": [
    "# pe_df = pe_df.drop(columns=['sanity_claims', 'sanity_check_1'])"
   ]
  },
  {
   "cell_type": "code",
   "execution_count": 72,
   "metadata": {},
   "outputs": [],
   "source": [
    "# split_df = pd.read_csv(\"/Utilisateurs/umushtaq/am_reasoning/data_files/train-test-split.csv\", delimiter=\";\")"
   ]
  },
  {
   "cell_type": "code",
   "execution_count": 73,
   "metadata": {},
   "outputs": [],
   "source": [
    "# split_df"
   ]
  },
  {
   "cell_type": "code",
   "execution_count": 74,
   "metadata": {},
   "outputs": [],
   "source": [
    "# pe_df['split'] = split_df.SET"
   ]
  },
  {
   "cell_type": "code",
   "execution_count": 75,
   "metadata": {},
   "outputs": [],
   "source": [
    "# pe_df.to_csv(\"/Utilisateurs/umushtaq/am_reasoning/data_files/pe_dataset_final.csv\")"
   ]
  },
  {
   "cell_type": "code",
   "execution_count": 76,
   "metadata": {},
   "outputs": [],
   "source": [
    "# "
   ]
  },
  {
   "cell_type": "code",
   "execution_count": 77,
   "metadata": {},
   "outputs": [],
   "source": [
    "# "
   ]
  },
  {
   "cell_type": "code",
   "execution_count": 78,
   "metadata": {},
   "outputs": [],
   "source": [
    "# "
   ]
  },
  {
   "cell_type": "code",
   "execution_count": 79,
   "metadata": {},
   "outputs": [],
   "source": [
    "# "
   ]
  },
  {
   "cell_type": "code",
   "execution_count": 80,
   "metadata": {},
   "outputs": [],
   "source": [
    "# "
   ]
  },
  {
   "cell_type": "code",
   "execution_count": 81,
   "metadata": {},
   "outputs": [],
   "source": [
    "# "
   ]
  },
  {
   "cell_type": "code",
   "execution_count": 82,
   "metadata": {},
   "outputs": [],
   "source": [
    "# components_df"
   ]
  },
  {
   "cell_type": "code",
   "execution_count": 83,
   "metadata": {},
   "outputs": [],
   "source": [
    "# components_df = components_df.drop(columns=components_df.columns[0])"
   ]
  },
  {
   "cell_type": "code",
   "execution_count": 84,
   "metadata": {},
   "outputs": [],
   "source": [
    "# "
   ]
  },
  {
   "cell_type": "code",
   "execution_count": 85,
   "metadata": {},
   "outputs": [],
   "source": [
    "# "
   ]
  },
  {
   "cell_type": "code",
   "execution_count": 86,
   "metadata": {},
   "outputs": [],
   "source": [
    "# "
   ]
  },
  {
   "cell_type": "code",
   "execution_count": 87,
   "metadata": {},
   "outputs": [],
   "source": [
    "# "
   ]
  },
  {
   "cell_type": "code",
   "execution_count": 88,
   "metadata": {},
   "outputs": [],
   "source": [
    "# relations_df"
   ]
  },
  {
   "cell_type": "code",
   "execution_count": 89,
   "metadata": {},
   "outputs": [],
   "source": [
    "# relations_df = relations_df.drop(columns=relations_df.columns[0])"
   ]
  },
  {
   "cell_type": "code",
   "execution_count": 90,
   "metadata": {},
   "outputs": [],
   "source": [
    "# relations_df.columns = [\"file_name\", \"source_arg\", \"target_arg\", \"relation_type\"]"
   ]
  },
  {
   "cell_type": "code",
   "execution_count": 91,
   "metadata": {},
   "outputs": [],
   "source": [
    "# "
   ]
  },
  {
   "cell_type": "code",
   "execution_count": 92,
   "metadata": {},
   "outputs": [],
   "source": [
    "# "
   ]
  },
  {
   "cell_type": "code",
   "execution_count": 93,
   "metadata": {},
   "outputs": [],
   "source": [
    "# for filename in tqdm(os.listdir(text_files_directory), desc=\"Parsing text files\"):\n",
    "    \n",
    "#     print(\"processing: \" + filename)\n",
    "#     #if filename.endswith(\".ann\"):  # Process only text files\n",
    "#     file_path = os.path.join(text_files_directory, filename)\n",
    "#     filename_ann = filename.replace(\".txt\", \".ann\")\n",
    "    \n",
    "#     with open(file_path, \"r\", encoding=\"utf-8\") as file:\n",
    "        \n",
    "#         lines = file.readlines()\n",
    "#         essay_title = lines[0].strip()\n",
    "#         essay_text = \"\".join(lines[1:]).strip()\n",
    "        \n",
    "#         essays_data.append([filename.replace(\".txt\", \".ann\"), essay_title, essay_text])"
   ]
  },
  {
   "cell_type": "code",
   "execution_count": 94,
   "metadata": {},
   "outputs": [],
   "source": [
    "# essays_df = pd.DataFrame(essays_data)"
   ]
  },
  {
   "cell_type": "code",
   "execution_count": 95,
   "metadata": {},
   "outputs": [],
   "source": [
    "# essays_df"
   ]
  },
  {
   "cell_type": "code",
   "execution_count": 96,
   "metadata": {},
   "outputs": [],
   "source": [
    "# essays_df.columns = [\"file_name\", \"essay_title\", \"essay_text\"]"
   ]
  },
  {
   "cell_type": "code",
   "execution_count": 97,
   "metadata": {},
   "outputs": [],
   "source": [
    "# essays_df"
   ]
  },
  {
   "cell_type": "markdown",
   "metadata": {},
   "source": [
    "<!-- ### Group dfs and then merge -->"
   ]
  },
  {
   "cell_type": "code",
   "execution_count": 98,
   "metadata": {},
   "outputs": [
    {
     "data": {
      "text/plain": [
       "('file_name',\n",
       " 'argument_id',\n",
       " 'argument_type',\n",
       " 'arg_bound_1',\n",
       " 'arg_bound2',\n",
       " 'argument_component')"
      ]
     },
     "execution_count": 98,
     "metadata": {},
     "output_type": "execute_result"
    }
   ],
   "source": [
    "\"file_name\", \"argument_id\", \"argument_type\", \"arg_bound_1\", \"arg_bound2\", \"argument_component\""
   ]
  },
  {
   "cell_type": "code",
   "execution_count": 99,
   "metadata": {},
   "outputs": [],
   "source": [
    "# comp_grouped_df = components_df.groupby(['file_name'], sort=False).agg({\n",
    "#     'argument_id': list,\n",
    "#     'argument_type': list,\n",
    "#     'arg_bound_1': list,\n",
    "#     'arg_bound2': list,\n",
    "#     'argument_component': list,\n",
    "# }).reset_index()"
   ]
  },
  {
   "cell_type": "code",
   "execution_count": 100,
   "metadata": {},
   "outputs": [],
   "source": [
    "# comp_grouped_df"
   ]
  },
  {
   "cell_type": "code",
   "execution_count": 101,
   "metadata": {},
   "outputs": [],
   "source": [
    "# rels_grouped_df = relations_df.groupby(['file_name'], sort=False).agg({\n",
    "#     'source_arg': list,\n",
    "#     'target_arg': list,\n",
    "#     'relation_type': list,\n",
    "# }).reset_index()\n",
    "\n",
    "# # source_arg\ttarget_arg\trelation_type"
   ]
  },
  {
   "cell_type": "code",
   "execution_count": 102,
   "metadata": {},
   "outputs": [],
   "source": [
    "# rels_grouped_df"
   ]
  },
  {
   "cell_type": "markdown",
   "metadata": {},
   "source": [
    "<!-- ### MERGE -->"
   ]
  },
  {
   "cell_type": "code",
   "execution_count": 103,
   "metadata": {},
   "outputs": [],
   "source": [
    "# merged_df = comp_grouped_df.merge(rels_grouped_df, on=\"file_name\").merge(essays_df, on=\"file_name\")"
   ]
  },
  {
   "cell_type": "code",
   "execution_count": 104,
   "metadata": {},
   "outputs": [],
   "source": [
    "# merged_df"
   ]
  },
  {
   "cell_type": "code",
   "execution_count": 105,
   "metadata": {},
   "outputs": [],
   "source": [
    "# merged_df.columns"
   ]
  },
  {
   "cell_type": "code",
   "execution_count": 106,
   "metadata": {},
   "outputs": [],
   "source": [
    "# merged_df.columns = ['ann_file_name', 'argument_ids', 'argument_types', 'arg_start_bounds',\n",
    "#        'arg_end_bounds', 'argument_components', 'source_args', 'target_args',\n",
    "#        'relation_types', 'essay_title', 'essay_text']"
   ]
  },
  {
   "cell_type": "code",
   "execution_count": 107,
   "metadata": {},
   "outputs": [],
   "source": [
    "# merged_df"
   ]
  },
  {
   "cell_type": "markdown",
   "metadata": {},
   "source": [
    "<!-- #### sanity checks -->"
   ]
  },
  {
   "cell_type": "code",
   "execution_count": 108,
   "metadata": {},
   "outputs": [],
   "source": [
    "# def egal_1(row):\n",
    "    \n",
    "#     return 1 if (len(row.argument_ids) == len(row.argument_types) == len(row.arg_start_bounds) == len(row.arg_end_bounds) == len(row.argument_components)) else 0"
   ]
  },
  {
   "cell_type": "code",
   "execution_count": 109,
   "metadata": {},
   "outputs": [],
   "source": [
    "# merged_df['egal_1'] = merged_df.apply(lambda row: egal_1(row), axis=1)"
   ]
  },
  {
   "cell_type": "code",
   "execution_count": 110,
   "metadata": {},
   "outputs": [],
   "source": [
    "# merged_df['egal_1'].value_counts()"
   ]
  },
  {
   "cell_type": "code",
   "execution_count": 111,
   "metadata": {},
   "outputs": [],
   "source": [
    "# def egal_2(row):\n",
    "    \n",
    "#     return 1 if (len(row.source_args) == len(row.target_args) == len(row.relation_types)) else 0"
   ]
  },
  {
   "cell_type": "code",
   "execution_count": 112,
   "metadata": {},
   "outputs": [],
   "source": [
    "# merged_df['egal_2'] = merged_df.apply(lambda row: egal_2(row), axis=1)"
   ]
  },
  {
   "cell_type": "code",
   "execution_count": 113,
   "metadata": {},
   "outputs": [],
   "source": [
    "# merged_df['egal_2'].value_counts()"
   ]
  },
  {
   "cell_type": "code",
   "execution_count": 114,
   "metadata": {},
   "outputs": [],
   "source": [
    "# "
   ]
  }
 ],
 "metadata": {
  "kernelspec": {
   "display_name": "Python (17M_env)",
   "language": "python",
   "name": "17m_env"
  },
  "language_info": {
   "codemirror_mode": {
    "name": "ipython",
    "version": 3
   },
   "file_extension": ".py",
   "mimetype": "text/x-python",
   "name": "python",
   "nbconvert_exporter": "python",
   "pygments_lexer": "ipython3",
   "version": "3.11.11"
  }
 },
 "nbformat": 4,
 "nbformat_minor": 2
}
