{
 "cells": [
  {
   "cell_type": "markdown",
   "id": "0315cc87",
   "metadata": {},
   "source": [
    "- Prepare AbstRCT datasets for llama factory.\n",
    "\n",
    "- Joint Pipeline (acc + aric) task.\n",
    "\n",
    "- We create the data files: `abstRCT_pipeline_train.json`, `abstRCT_pipeline_test_neo.json`, `abstRCT_pipeline_test_gla.json`, `abstRCT_pipeline_test_mix.json`"
   ]
  },
  {
   "cell_type": "code",
   "execution_count": 1,
   "id": "5193cb93",
   "metadata": {},
   "outputs": [],
   "source": [
    "import os\n",
    "import re\n",
    "import ast\n",
    "import json\n",
    "import random\n",
    "import pickle\n",
    "import pandas as pd\n",
    "\n",
    "from pathlib import Path"
   ]
  },
  {
   "cell_type": "markdown",
   "id": "606d852b",
   "metadata": {},
   "source": [
    "### Read CSV into dataframes"
   ]
  },
  {
   "cell_type": "code",
   "execution_count": 2,
   "id": "33624760",
   "metadata": {},
   "outputs": [],
   "source": [
    "DATAFILES_DIR = Path(\"/home/umushtaq/am_reasoning/abstRCT/data_files\")"
   ]
  },
  {
   "cell_type": "code",
   "execution_count": 3,
   "id": "d6d13533",
   "metadata": {},
   "outputs": [],
   "source": [
    "neo_train_df = pd.read_csv(DATAFILES_DIR / \"neo_train.csv\", index_col=0)\n",
    "neo_dev_df = pd.read_csv(DATAFILES_DIR / \"neo_dev.csv\", index_col=0)\n",
    "gla_test_df = pd.read_csv(DATAFILES_DIR / \"gla_test.csv\", index_col=0)\n",
    "mix_test_df = pd.read_csv(DATAFILES_DIR / \"mix_test.csv\", index_col=0)\n",
    "neo_test_df = pd.read_csv(DATAFILES_DIR / \"neo_test.csv\", index_col=0)"
   ]
  },
  {
   "cell_type": "code",
   "execution_count": 4,
   "id": "841a19bc",
   "metadata": {},
   "outputs": [
    {
     "data": {
      "text/plain": [
       "Index(['filename', 'type_indicator_x', 'ac_id', 'ac_type', 'ac_start_bound',\n",
       "       'ac_end_bound', 'ac', 'type_indicator_y', 'source', 'target',\n",
       "       'relation_type', 'text_file', 'abstract_text', 'source_acs',\n",
       "       'target_acs', 'source_ids', 'target_ids', 'relations', 'egalite'],\n",
       "      dtype='object')"
      ]
     },
     "execution_count": 4,
     "metadata": {},
     "output_type": "execute_result"
    }
   ],
   "source": [
    "neo_train_df.columns"
   ]
  },
  {
   "cell_type": "code",
   "execution_count": 5,
   "id": "eedea0c8",
   "metadata": {},
   "outputs": [
    {
     "data": {
      "text/plain": [
       "Index(['filename', 'type_indicator_x', 'ac_id', 'ac_type', 'ac_start_bound',\n",
       "       'ac_end_bound', 'ac', 'type_indicator_y', 'source', 'target',\n",
       "       'relation_type', 'text_file', 'abstract_text', 'source_acs',\n",
       "       'target_acs', 'source_ids', 'target_ids', 'relations', 'egalite'],\n",
       "      dtype='object')"
      ]
     },
     "execution_count": 5,
     "metadata": {},
     "output_type": "execute_result"
    }
   ],
   "source": [
    "gla_test_df.columns"
   ]
  },
  {
   "cell_type": "code",
   "execution_count": 6,
   "id": "e4fcb073",
   "metadata": {},
   "outputs": [
    {
     "data": {
      "text/plain": [
       "filename                                                 19590523.ann\n",
       "type_indicator_x                                 ['T', 'T', 'T', 'T']\n",
       "ac_id                                        ['T1', 'T2', 'T3', 'T4']\n",
       "ac_type                    ['Premise', 'Claim', 'Premise', 'Premise']\n",
       "ac_start_bound                       ['1030', '1422', '1153', '1258']\n",
       "ac_end_bound                         ['1152', '1528', '1257', '1421']\n",
       "ac                  [\"At 24 months, complete success rates were 53...\n",
       "type_indicator_y                                      ['R', 'R', 'R']\n",
       "source                                             ['T1', 'T4', 'T3']\n",
       "target                                             ['T2', 'T2', 'T2']\n",
       "relation_type                       ['Support', 'Support', 'Support']\n",
       "text_file                                                19590523.txt\n",
       "abstract_text       \\n\\nTo compare the effectiveness and safety of...\n",
       "source_acs          [\"At 24 months, complete success rates were 53...\n",
       "target_acs          ['Both ELT and SLT proved to be effective tech...\n",
       "source_ids                                                  [1, 4, 3]\n",
       "target_ids                                                  [2, 2, 2]\n",
       "relations                                    [(1, 2), (4, 2), (3, 2)]\n",
       "egalite                                                             1\n",
       "Name: 57, dtype: object"
      ]
     },
     "execution_count": 6,
     "metadata": {},
     "output_type": "execute_result"
    }
   ],
   "source": [
    "gla_test_df.iloc[57]"
   ]
  },
  {
   "cell_type": "markdown",
   "id": "d42e6384",
   "metadata": {},
   "source": [
    "### Prepare Prompts"
   ]
  },
  {
   "cell_type": "code",
   "execution_count": 7,
   "id": "f733d99b",
   "metadata": {},
   "outputs": [],
   "source": [
    "def formatting_fct(instruction, input, output):\n",
    "    \n",
    "    prompt_d ={\n",
    "            \n",
    "        \"instruction\": f\"\"\"{instruction}\"\"\",\n",
    "        \"input\": f\"\"\"{input}\"\"\",\n",
    "        \"output\": f\"\"\"{output}\"\"\"\n",
    "            \n",
    "        }\n",
    "    \n",
    "    return prompt_d"
   ]
  },
  {
   "cell_type": "code",
   "execution_count": 8,
   "id": "29c29831",
   "metadata": {},
   "outputs": [],
   "source": [
    "def build_instruction():\n",
    "    \n",
    "    instruction = \"\"\"### You are an expert in Argument Mining tasked with analyzing biomedical abstracts. \n",
    "\n",
    "INPUT:\n",
    "You will receive:\n",
    "- A biomedical abstract text.\n",
    "- An enumerated list of identified arguments in the biomedical abstract.\n",
    "\n",
    "TASK 1: Argument Classification\n",
    "- Classify each argument in the biomedical abstract into one of the following categories: \"MajorClaim\"(M), \"Claim\"(C) or \"Premise\"(P).\n",
    "- MajorClaim (M): Major claims are broad conclusions supported by specific claims or general statements about treatments or diseases.\n",
    "- Claim (C): A claim is the author's concluding statement, summarizing how the new treatment compares to existing treatments based on the study's results.\n",
    "- Premise (P): A premise is an observed or measured fact—such as side effects or outcomes—that supports or challenges a claim. \n",
    "- You must return a list of argument types in following JSON format: {\"argument_types\": [argument_types (str), argument_types (str), ..., argument_types (str)]}\n",
    "\n",
    "TASK 2: Argument Relations Identification and Classification\n",
    "- Identify relationships between arguments by determining which arguments support or attack other arguments.\n",
    "- For each related argument pair, classify the relationship as either: \"Support\"(S) or \"Attack\"(A).\n",
    "- You must return a list of triplets in the following JSON format: {\"argument_relations\": [(target_index (int), source_index (int), relation_type (str)), (target_index (int), source_index (int), relation_type (str)), ...]}\n",
    "- Note: Indices are 1-based, referring to the position in the provided arguments list.\n",
    "\n",
    "Example:\n",
    "\n",
    "### Output:\n",
    "{\"argument_types\": ['M', 'P', 'P', 'P', 'P', 'P', 'C']}\n",
    "{\"argument_relations\": [(7, 1, 'S'), (2, 7, 'S'), (3, 7, 'S'), (5, 7, 'S'), (4, 7, 'S'), (6, 1, 'S')]}\n",
    "\"\"\"\n",
    "\n",
    "    return instruction"
   ]
  },
  {
   "cell_type": "code",
   "execution_count": 9,
   "id": "336dd0b2",
   "metadata": {},
   "outputs": [],
   "source": [
    "def build_input(abstract_text, acs, ac_types):\n",
    "    \n",
    "    question = f\"\"\"### Abstract text:\\n{abstract_text}\\n\"\"\"    \n",
    "    ac_l = [ac for ac, ac_type in zip(eval(acs), eval(ac_types)) if ac_type != \"none\"]\n",
    "    \n",
    "    numbered_string = '\\n'.join(f\"{i+1}. {item}\" for i, item in enumerate(ac_l))\n",
    "    args = f\"\"\"### List of arguments in the abstract:\\n{numbered_string}\"\"\"\n",
    "    \n",
    "    return question + args"
   ]
  },
  {
   "cell_type": "code",
   "execution_count": 10,
   "id": "6c7494d0",
   "metadata": {},
   "outputs": [
    {
     "name": "stdout",
     "output_type": "stream",
     "text": [
      "### Abstract text:\n",
      " A combination of mitoxantrone plus prednisone is preferable to prednisone alone for reduction of pain in men with metastatic, hormone-resistant, prostate cancer. The purpose of this study was to assess the effects of these treatments on health-related quality of life (HQL). Men with metastatic prostate cancer (n = 161) were randomized to receive either daily prednisone alone or mitoxantrone (every 3 weeks) plus prednisone. Those who received prednisone alone could have mitoxantrone added after 6 weeks if there was no improvement in pain. HQL was assessed before treatment initiation and then every 3 weeks using the European Organization for Research and Treatment of Cancer Quality-of-Life Questionnaire C30 (EORTC QLQ-C30) and the Quality of Life Module-Prostate 14 (QOLM-P14), a trial-specific module developed for this study. An intent-to-treat analysis was used to determine the mean duration of HQL improvement and differences in improvement duration between groups of patients. At 6 weeks, both groups showed improvement in several HQL domains, and only physical functioning and pain were better in the mitoxantrone-plus-prednisone group than in the prednisone-alone group. After 6 weeks, patients taking prednisone showed no improvement in HQL scores, whereas those taking mitoxantrone plus prednisone showed significant improvements in global quality of life (P =.009), four functioning domains, and nine symptoms (.001 < P <. 01), and the improvement (> 10 units on a scale of 0 to100) lasted longer than in the prednisone-alone group (.004 < P <.05). The addition of mitoxantrone to prednisone after failure of prednisone alone was associated with improvements in pain, pain impact, pain relief, insomnia, and global quality of life (.001 < P <.003). Treatment with mitoxantrone plus prednisone was associated with greater and longer-lasting improvement in several HQL domains and symptoms than treatment with prednisone alone. \n",
      "### List of arguments in the abstract:\n",
      "1. A combination of mitoxantrone plus prednisone is preferable to prednisone alone for reduction of pain in men with metastatic, hormone-resistant, prostate cancer.\n",
      "2. At 6 weeks, both groups showed improvement in several HQL domains,\n",
      "3. only physical functioning and pain were better in the mitoxantrone-plus-prednisone group than in the prednisone-alone group.\n",
      "4. After 6 weeks, patients taking prednisone showed no improvement in HQL scores, whereas those taking mitoxantrone plus prednisone showed significant improvements in global quality of life (P =.009), four functioning domains, and nine symptoms (.001 < P <. 01),\n",
      "5. the improvement (> 10 units on a scale of 0 to100) lasted longer than in the prednisone-alone group (.004 < P <.05).\n",
      "6. The addition of mitoxantrone to prednisone after failure of prednisone alone was associated with improvements in pain, pain impact, pain relief, insomnia, and global quality of life (.001 < P <.003).\n",
      "7. Treatment with mitoxantrone plus prednisone was associated with greater and longer-lasting improvement in several HQL domains and symptoms than treatment with prednisone alone.\n"
     ]
    }
   ],
   "source": [
    "print(build_input(neo_train_df.iloc[0].abstract_text, neo_train_df.iloc[0].ac, neo_train_df.iloc[0].ac_type))"
   ]
  },
  {
   "cell_type": "code",
   "execution_count": 11,
   "id": "0f02ac03",
   "metadata": {},
   "outputs": [],
   "source": [
    "def build_answer(relations, relation_types, ac_types):\n",
    "    \n",
    "    relation_types = [(pair[0], pair[1], r) for pair, r in zip(eval(relations), eval(relation_types))]\n",
    "    \n",
    "    \n",
    "    ac_type_d = {\"Premise\": \"P\", \"Claim\": \"C\", \"MajorClaim\": \"M\"}\n",
    "    rel_type_d = {\"Support\": \"S\", \"Attack\": \"A\"}\n",
    "\n",
    "    output_indic = \"### Output:\\n\"\n",
    "    \n",
    "    ac_types = [ac_type_d[label] for label in eval(ac_types) if label != 'none']   \n",
    "    ac_types = f'{{\"argument_types\": {ac_types}}}\\n'\n",
    "    \n",
    "    rels_types = [(i, j, rel_type_d[r_type]) for i, j , r_type in relation_types]\n",
    "    rels_types = f'{{\"relation_types\": {rels_types}}}\\n'\n",
    "    \n",
    "\n",
    "    return output_indic + ac_types + rels_types"
   ]
  },
  {
   "cell_type": "code",
   "execution_count": 12,
   "id": "311a0512",
   "metadata": {},
   "outputs": [
    {
     "name": "stdout",
     "output_type": "stream",
     "text": [
      "### Output:\n",
      "{\"argument_types\": ['M', 'P', 'P', 'P', 'P', 'P', 'C']}\n",
      "{\"relation_types\": [(7, 1, 'S'), (2, 7, 'S'), (3, 7, 'S'), (5, 7, 'S'), (4, 7, 'S'), (6, 1, 'S')]}\n",
      "\n"
     ]
    }
   ],
   "source": [
    "print(build_answer(neo_train_df.iloc[0].relations, neo_train_df.iloc[0].relation_type, neo_train_df.iloc[0].ac_type))"
   ]
  },
  {
   "cell_type": "markdown",
   "id": "4f78eca9",
   "metadata": {},
   "source": [
    "### Build Data Files "
   ]
  },
  {
   "cell_type": "code",
   "execution_count": 13,
   "id": "8a9f1663",
   "metadata": {},
   "outputs": [],
   "source": [
    "data_file_train = []\n",
    "\n",
    "for _, row in neo_train_df.iterrows():\n",
    "\n",
    "    instruction = build_instruction()\n",
    "    question = build_input(row.abstract_text, row.ac, row.ac_type)\n",
    "    answer = build_answer(row.relations, row.relation_type, row.ac_type)\n",
    "    \n",
    "    data_file_train.append( formatting_fct(instruction, question, answer) )"
   ]
  },
  {
   "cell_type": "code",
   "execution_count": 14,
   "id": "7ab9aec0",
   "metadata": {},
   "outputs": [
    {
     "data": {
      "text/plain": [
       "350"
      ]
     },
     "execution_count": 14,
     "metadata": {},
     "output_type": "execute_result"
    }
   ],
   "source": [
    "len(data_file_train)"
   ]
  },
  {
   "cell_type": "code",
   "execution_count": 15,
   "id": "ce36faf7",
   "metadata": {},
   "outputs": [
    {
     "name": "stdout",
     "output_type": "stream",
     "text": [
      "### You are an expert in Argument Mining tasked with analyzing biomedical abstracts. \n",
      "\n",
      "INPUT:\n",
      "You will receive:\n",
      "- A biomedical abstract text.\n",
      "- An enumerated list of identified arguments in the biomedical abstract.\n",
      "\n",
      "TASK 1: Argument Classification\n",
      "- Classify each argument in the biomedical abstract into one of the following categories: \"MajorClaim\"(M), \"Claim\"(C) or \"Premise\"(P).\n",
      "- MajorClaim (M): Major claims are broad conclusions supported by specific claims or general statements about treatments or diseases.\n",
      "- Claim (C): A claim is the author's concluding statement, summarizing how the new treatment compares to existing treatments based on the study's results.\n",
      "- Premise (P): A premise is an observed or measured fact—such as side effects or outcomes—that supports or challenges a claim. \n",
      "- You must return a list of argument types in following JSON format: {\"argument_types\": [argument_types (str), argument_types (str), ..., argument_types (str)]}\n",
      "\n",
      "TASK 2: Argument Relations Identification and Classification\n",
      "- Identify relationships between arguments by determining which arguments support or attack other arguments.\n",
      "- For each related argument pair, classify the relationship as either: \"Support\"(S) or \"Attack\"(A).\n",
      "- You must return a list of triplets in the following JSON format: {\"argument_relations\": [(target_index (int), source_index (int), relation_type (str)), (target_index (int), source_index (int), relation_type (str)), ...]}\n",
      "- Note: Indices are 1-based, referring to the position in the provided arguments list.\n",
      "\n",
      "Example:\n",
      "\n",
      "### Output:\n",
      "{\"argument_types\": ['M', 'P', 'P', 'P', 'P', 'P', 'C']}\n",
      "{\"argument_relations\": [(7, 1, 'S'), (2, 7, 'S'), (3, 7, 'S'), (5, 7, 'S'), (4, 7, 'S'), (6, 1, 'S')]}\n",
      "\n"
     ]
    }
   ],
   "source": [
    "print(data_file_train[0]['instruction'])"
   ]
  },
  {
   "cell_type": "code",
   "execution_count": 16,
   "id": "aab28df0",
   "metadata": {},
   "outputs": [
    {
     "name": "stdout",
     "output_type": "stream",
     "text": [
      "### Abstract text:\n",
      " A combination of mitoxantrone plus prednisone is preferable to prednisone alone for reduction of pain in men with metastatic, hormone-resistant, prostate cancer. The purpose of this study was to assess the effects of these treatments on health-related quality of life (HQL). Men with metastatic prostate cancer (n = 161) were randomized to receive either daily prednisone alone or mitoxantrone (every 3 weeks) plus prednisone. Those who received prednisone alone could have mitoxantrone added after 6 weeks if there was no improvement in pain. HQL was assessed before treatment initiation and then every 3 weeks using the European Organization for Research and Treatment of Cancer Quality-of-Life Questionnaire C30 (EORTC QLQ-C30) and the Quality of Life Module-Prostate 14 (QOLM-P14), a trial-specific module developed for this study. An intent-to-treat analysis was used to determine the mean duration of HQL improvement and differences in improvement duration between groups of patients. At 6 weeks, both groups showed improvement in several HQL domains, and only physical functioning and pain were better in the mitoxantrone-plus-prednisone group than in the prednisone-alone group. After 6 weeks, patients taking prednisone showed no improvement in HQL scores, whereas those taking mitoxantrone plus prednisone showed significant improvements in global quality of life (P =.009), four functioning domains, and nine symptoms (.001 < P <. 01), and the improvement (> 10 units on a scale of 0 to100) lasted longer than in the prednisone-alone group (.004 < P <.05). The addition of mitoxantrone to prednisone after failure of prednisone alone was associated with improvements in pain, pain impact, pain relief, insomnia, and global quality of life (.001 < P <.003). Treatment with mitoxantrone plus prednisone was associated with greater and longer-lasting improvement in several HQL domains and symptoms than treatment with prednisone alone. \n",
      "### List of arguments in the abstract:\n",
      "1. A combination of mitoxantrone plus prednisone is preferable to prednisone alone for reduction of pain in men with metastatic, hormone-resistant, prostate cancer.\n",
      "2. At 6 weeks, both groups showed improvement in several HQL domains,\n",
      "3. only physical functioning and pain were better in the mitoxantrone-plus-prednisone group than in the prednisone-alone group.\n",
      "4. After 6 weeks, patients taking prednisone showed no improvement in HQL scores, whereas those taking mitoxantrone plus prednisone showed significant improvements in global quality of life (P =.009), four functioning domains, and nine symptoms (.001 < P <. 01),\n",
      "5. the improvement (> 10 units on a scale of 0 to100) lasted longer than in the prednisone-alone group (.004 < P <.05).\n",
      "6. The addition of mitoxantrone to prednisone after failure of prednisone alone was associated with improvements in pain, pain impact, pain relief, insomnia, and global quality of life (.001 < P <.003).\n",
      "7. Treatment with mitoxantrone plus prednisone was associated with greater and longer-lasting improvement in several HQL domains and symptoms than treatment with prednisone alone.\n"
     ]
    }
   ],
   "source": [
    "print(data_file_train[0]['input'])"
   ]
  },
  {
   "cell_type": "code",
   "execution_count": 17,
   "id": "21666c5c",
   "metadata": {},
   "outputs": [
    {
     "name": "stdout",
     "output_type": "stream",
     "text": [
      "### Output:\n",
      "{\"argument_types\": ['M', 'P', 'P', 'P', 'P', 'P', 'C']}\n",
      "{\"relation_types\": [(7, 1, 'S'), (2, 7, 'S'), (3, 7, 'S'), (5, 7, 'S'), (4, 7, 'S'), (6, 1, 'S')]}\n",
      "\n"
     ]
    }
   ],
   "source": [
    "print(data_file_train[0]['output'])"
   ]
  },
  {
   "cell_type": "code",
   "execution_count": 18,
   "id": "928954ea",
   "metadata": {},
   "outputs": [],
   "source": [
    "for _, row in neo_dev_df.iterrows():\n",
    "\n",
    "    instruction = build_instruction()\n",
    "    question = build_input(row.abstract_text, row.ac, row.ac_type)\n",
    "    answer = build_answer(row.relations, row.relation_type, row.ac_type)\n",
    "    \n",
    "    data_file_train.append( formatting_fct(instruction, question, answer) )"
   ]
  },
  {
   "cell_type": "code",
   "execution_count": 19,
   "id": "75a7e611",
   "metadata": {},
   "outputs": [],
   "source": [
    "#### Test data files"
   ]
  },
  {
   "cell_type": "code",
   "execution_count": 20,
   "id": "b6c4a927",
   "metadata": {},
   "outputs": [],
   "source": [
    "data_file_test_neo = []\n",
    "\n",
    "for _, row in neo_test_df.iterrows():\n",
    "\n",
    "    instruction = build_instruction()\n",
    "    question = build_input(row.abstract_text, row.ac, row.ac_type)\n",
    "    answer = build_answer(row.relations, row.relation_type, row.ac_type)\n",
    "    \n",
    "    data_file_test_neo.append(formatting_fct(instruction, question, answer))"
   ]
  },
  {
   "cell_type": "code",
   "execution_count": 21,
   "id": "90a80d0f",
   "metadata": {},
   "outputs": [],
   "source": [
    "data_file_test_mix = []\n",
    "\n",
    "for _, row in mix_test_df.iterrows():\n",
    "\n",
    "    instruction = build_instruction()\n",
    "    question = build_input(row.abstract_text, row.ac, row.ac_type)\n",
    "    answer = build_answer(row.relations, row.relation_type, row.ac_type)\n",
    "    \n",
    "    data_file_test_mix.append(formatting_fct(instruction, question, answer))"
   ]
  },
  {
   "cell_type": "code",
   "execution_count": 22,
   "id": "dfeebc76",
   "metadata": {},
   "outputs": [],
   "source": [
    "data_file_test_gla = []\n",
    "\n",
    "for _, row in gla_test_df.iterrows():\n",
    "\n",
    "    instruction = build_instruction()\n",
    "    question = build_input(row.abstract_text, row.ac, row.ac_type)\n",
    "    answer = build_answer(row.relations, row.relation_type, row.ac_type)\n",
    "    \n",
    "    data_file_test_gla.append(formatting_fct(instruction, question, answer))"
   ]
  },
  {
   "cell_type": "code",
   "execution_count": 23,
   "id": "3eada14f",
   "metadata": {},
   "outputs": [
    {
     "data": {
      "text/plain": [
       "(100, 100, 100)"
      ]
     },
     "execution_count": 23,
     "metadata": {},
     "output_type": "execute_result"
    }
   ],
   "source": [
    "len(data_file_test_neo), len(data_file_test_gla), len(data_file_test_mix)"
   ]
  },
  {
   "cell_type": "code",
   "execution_count": 24,
   "id": "adda152a",
   "metadata": {},
   "outputs": [
    {
     "name": "stdout",
     "output_type": "stream",
     "text": [
      "### You are an expert in Argument Mining tasked with analyzing biomedical abstracts. \n",
      "\n",
      "INPUT:\n",
      "You will receive:\n",
      "- A biomedical abstract text.\n",
      "- An enumerated list of identified arguments in the biomedical abstract.\n",
      "\n",
      "TASK 1: Argument Classification\n",
      "- Classify each argument in the biomedical abstract into one of the following categories: \"MajorClaim\"(M), \"Claim\"(C) or \"Premise\"(P).\n",
      "- MajorClaim (M): Major claims are broad conclusions supported by specific claims or general statements about treatments or diseases.\n",
      "- Claim (C): A claim is the author's concluding statement, summarizing how the new treatment compares to existing treatments based on the study's results.\n",
      "- Premise (P): A premise is an observed or measured fact—such as side effects or outcomes—that supports or challenges a claim. \n",
      "- You must return a list of argument types in following JSON format: {\"argument_types\": [argument_types (str), argument_types (str), ..., argument_types (str)]}\n",
      "\n",
      "TASK 2: Argument Relations Identification and Classification\n",
      "- Identify relationships between arguments by determining which arguments support or attack other arguments.\n",
      "- For each related argument pair, classify the relationship as either: \"Support\"(S) or \"Attack\"(A).\n",
      "- You must return a list of triplets in the following JSON format: {\"argument_relations\": [(target_index (int), source_index (int), relation_type (str)), (target_index (int), source_index (int), relation_type (str)), ...]}\n",
      "- Note: Indices are 1-based, referring to the position in the provided arguments list.\n",
      "\n",
      "Example:\n",
      "\n",
      "### Output:\n",
      "{\"argument_types\": ['M', 'P', 'P', 'P', 'P', 'P', 'C']}\n",
      "{\"argument_relations\": [(7, 1, 'S'), (2, 7, 'S'), (3, 7, 'S'), (5, 7, 'S'), (4, 7, 'S'), (6, 1, 'S')]}\n",
      "\n"
     ]
    }
   ],
   "source": [
    "print(data_file_test_gla[57]['instruction'])"
   ]
  },
  {
   "cell_type": "code",
   "execution_count": 25,
   "id": "f880ecbf",
   "metadata": {},
   "outputs": [
    {
     "name": "stdout",
     "output_type": "stream",
     "text": [
      "### Abstract text:\n",
      "\n",
      "\n",
      "To compare the effectiveness and safety of excimer laser trabeculotomy (ELT) ab interno vs selective laser trabeculoplasty (SLT) over 24 months of follow-up in patients with primary open-angle glaucoma (POAG) refractory to medical therapy.\n",
      "This prospective, randomized study included 30 consecutive eyes assigned randomly to either ELT or SLT group. ELT was carried out using a XeCl Excimer Laser with an emission wavelength of 308 nm. Eight spots were equally distributed at a distance of 500 microm from one another over the anterior trabeculum. The SLT patients were treated with a frequency-doubled q-switched neodymium:yytrium-aluminum-garnet laser (wavelength 532 nm). Approximately 50 adjacent, but not overlapping, laser spots were distributed over 180 degrees of the trabecular meshwork, using an energy level ranging from 0.7 to 1.0 mJ per pulse. The main outcome measure was intraocular pressure (IOP) lowering after ELT and SLT. Success was defined as >or=20% reduction in IOP without further glaucoma intervention.\n",
      "At 24 months, complete success rates were 53.3% for the ELT group and 40% for the SLT group (P=0.35, Fisher's exact test); qualified success rates were 33.3% for the ELT and 26.6% for the SLT group (P=0.5, Fisher's exact test). Mean IOP decreased from 25.0+/-1.9 to 17.6+/-2.2 mmHg (-29.6%; P<0.0001) in the ELT group and from 23.9+/-0.9 to 19.1+/-1.8 mmHg (-21%; P<0.0001) in the SLT group.\n",
      "Both ELT and SLT proved to be effective techniques in the treatment of POAG refractory to medical therapy.\n",
      "\n",
      "### List of arguments in the abstract:\n",
      "1. At 24 months, complete success rates were 53.3% for the ELT group and 40% for the SLT group (P=0.35, Fisher's exact test);\n",
      "2. Both ELT and SLT proved to be effective techniques in the treatment of POAG refractory to medical therapy.\n",
      "3. qualified success rates were 33.3% for the ELT and 26.6% for the SLT group (P=0.5, Fisher's exact test).\n",
      "4. Mean IOP decreased from 25.0+/-1.9 to 17.6+/-2.2 mmHg (-29.6%; P<0.0001) in the ELT group and from 23.9+/-0.9 to 19.1+/-1.8 mmHg (-21%; P<0.0001) in the SLT group.\n"
     ]
    }
   ],
   "source": [
    "print(data_file_test_gla[57]['input'])"
   ]
  },
  {
   "cell_type": "code",
   "execution_count": 26,
   "id": "5343e97c",
   "metadata": {},
   "outputs": [
    {
     "name": "stdout",
     "output_type": "stream",
     "text": [
      "### Output:\n",
      "{\"argument_types\": ['P', 'C', 'P', 'P']}\n",
      "{\"relation_types\": [(1, 2, 'S'), (4, 2, 'S'), (3, 2, 'S')]}\n",
      "\n"
     ]
    }
   ],
   "source": [
    "print(data_file_test_gla[57]['output'])"
   ]
  },
  {
   "cell_type": "code",
   "execution_count": 27,
   "id": "c64f34c0",
   "metadata": {},
   "outputs": [],
   "source": [
    "### Save JSON files"
   ]
  },
  {
   "cell_type": "code",
   "execution_count": 28,
   "id": "b6f5184c",
   "metadata": {},
   "outputs": [],
   "source": [
    "DATASETS_DIR = Path(\"/home/umushtaq/am_reasoning/abstRCT/datasets\")"
   ]
  },
  {
   "cell_type": "code",
   "execution_count": 29,
   "id": "d0920fef",
   "metadata": {},
   "outputs": [],
   "source": [
    "file_path = DATASETS_DIR / \"abstRCT_pipeline_neo_train.json\"\n",
    "\n",
    "with open(file_path, 'w') as file:\n",
    "    \n",
    "    json.dump(data_file_train, file)"
   ]
  },
  {
   "cell_type": "code",
   "execution_count": 30,
   "id": "d468409b",
   "metadata": {},
   "outputs": [],
   "source": [
    "file_path = DATASETS_DIR / \"abstRCT_pipeline_neo_test.json\"\n",
    "\n",
    "with open(file_path, 'w') as file:\n",
    "    \n",
    "    json.dump(data_file_test_neo, file)"
   ]
  },
  {
   "cell_type": "code",
   "execution_count": 31,
   "id": "ae7ae8c8",
   "metadata": {},
   "outputs": [],
   "source": [
    "file_path = DATASETS_DIR / \"abstRCT_pipeline_mix_test.json\"\n",
    "\n",
    "with open(file_path, 'w') as file:\n",
    "    \n",
    "    json.dump(data_file_test_mix, file)"
   ]
  },
  {
   "cell_type": "code",
   "execution_count": 32,
   "id": "01a46adf",
   "metadata": {},
   "outputs": [],
   "source": [
    "file_path =  DATASETS_DIR / \"abstRCT_pipeline_gla_test.json\"\n",
    "\n",
    "with open(file_path, 'w') as file:\n",
    "    \n",
    "    json.dump(data_file_test_gla, file)"
   ]
  },
  {
   "cell_type": "code",
   "execution_count": null,
   "id": "9d5c50ed",
   "metadata": {},
   "outputs": [],
   "source": []
  }
 ],
 "metadata": {
  "kernelspec": {
   "display_name": "icdar_env",
   "language": "python",
   "name": "python3"
  },
  "language_info": {
   "codemirror_mode": {
    "name": "ipython",
    "version": 3
   },
   "file_extension": ".py",
   "mimetype": "text/x-python",
   "name": "python",
   "nbconvert_exporter": "python",
   "pygments_lexer": "ipython3",
   "version": "3.10.16"
  }
 },
 "nbformat": 4,
 "nbformat_minor": 5
}
