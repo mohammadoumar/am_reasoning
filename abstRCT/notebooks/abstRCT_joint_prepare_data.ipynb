{
 "cells": [
  {
   "cell_type": "markdown",
   "id": "9b092f16-851d-4a47-ae4f-2a85603d6c77",
   "metadata": {},
   "source": [
    "# Prepare dataset (jsonl file)"
   ]
  },
  {
   "cell_type": "markdown",
   "id": "8798ef15",
   "metadata": {},
   "source": [
    "- Prepare AbstRCT datasets for llama factory.\n",
    "\n",
    "- Joint (acc, aric) task.\n",
    "\n",
    "- We create the data files: `abstRCT_joint_train.json`, `abstRCT_joint_test_neo.json`, `abstRCT_joint_test_gla.json`, `abstRCT_joint_test_mix.json`"
   ]
  },
  {
   "cell_type": "markdown",
   "id": "afdfbf4b-663f-41af-85a1-266a48239c9e",
   "metadata": {},
   "source": [
    "## Libraries"
   ]
  },
  {
   "cell_type": "code",
   "execution_count": 10,
   "id": "872238e4-5235-4176-bd84-4cc384bca8d4",
   "metadata": {
    "tags": []
   },
   "outputs": [],
   "source": [
    "import os\n",
    "import re\n",
    "import ast\n",
    "import json\n",
    "import random\n",
    "import pickle\n",
    "import pandas as pd\n",
    "\n",
    "from pathlib import Path"
   ]
  },
  {
   "cell_type": "markdown",
   "id": "73e8dd5a-d4ae-4bec-8a19-112540ec03e1",
   "metadata": {},
   "source": [
    "### Helper Functions"
   ]
  },
  {
   "cell_type": "code",
   "execution_count": 119,
   "id": "f76eecf7-5aec-4513-a532-c561263ec6ef",
   "metadata": {},
   "outputs": [],
   "source": [
    "def get_triplet(x):\n",
    "\n",
    "    return [x.adu_pos, x.parent_pos, x.afu]"
   ]
  },
  {
   "cell_type": "code",
   "execution_count": 120,
   "id": "b11c9994-2b90-47b8-a265-2649e31dcf81",
   "metadata": {},
   "outputs": [],
   "source": [
    "def process_aty(x):\n",
    "\n",
    "    x = x.aty\n",
    "    x = x.split(\" \")\n",
    "    return x"
   ]
  },
  {
   "cell_type": "code",
   "execution_count": 121,
   "id": "26a0b41e-890f-4924-9499-bfbede6cb78a",
   "metadata": {},
   "outputs": [],
   "source": [
    "def filter_nones(x):\n",
    "\n",
    "    ar_l = x.relation_type\n",
    "\n",
    "    rel_l = [item for item in ar_l if item[2] != 'none']\n",
    "\n",
    "    return rel_l"
   ]
  },
  {
   "cell_type": "code",
   "execution_count": 122,
   "id": "252f338c-05a6-4b3c-b7eb-8b373fe45786",
   "metadata": {},
   "outputs": [],
   "source": [
    "def insert_ac_tags(x):\n",
    "\n",
    "    abstract_text = x.abstract_text\n",
    "    acs_list = x.acs_list\n",
    "    ac_types_list = x.ac_types\n",
    "\n",
    "    \n",
    "    # for idx, ac in enumerate(acs_list):\n",
    "    \n",
    "    counter = 1\n",
    "    for idx, (ac, ac_type) in enumerate(zip(acs_list, ac_types_list)):\n",
    "\n",
    "        # if ac != '':\n",
    "        \n",
    "        if ac != '' and ac_type != 'none':\n",
    "\n",
    "            # ac_tags_w_tags = f\"<AC> \" + ac + f\" </AC>\"\n",
    "            \n",
    "            ac_tags_w_tags = f\"\"\"<AC{counter}> \"\"\" + ac + f\"\"\" </AC{counter}>\"\"\" \n",
    "            abstract_text = abstract_text.replace(ac, ac_tags_w_tags) \n",
    "            counter += 1\n",
    "\n",
    "    return abstract_text"
   ]
  },
  {
   "cell_type": "code",
   "execution_count": 123,
   "id": "779dcc66-df7a-4fee-a1a1-a1f86a012ebf",
   "metadata": {},
   "outputs": [],
   "source": [
    "def get_dataframe(dataset):\n",
    "\n",
    "    rct_df = pd.read_csv(os.path.join(data_dir, dataset))\n",
    "    rct_df['relation_type'] = rct_df.apply(lambda x: get_triplet(x), axis=1)\n",
    "    rct_df = rct_df.drop_duplicates(subset=[\"text\"], keep=\"first\")   \n",
    "\n",
    "    \n",
    "    abstract_texts_df = rct_df.fillna('').groupby([\"doc_id\"]).agg({\"text\": \"\".join, \"aty\": \" \".join}).reset_index()\n",
    "    abstract_acs_df = rct_df.fillna('').groupby('doc_id')['text'].agg(list).reset_index()\n",
    "    abstract_ars_df = rct_df.fillna('').groupby('doc_id')['relation_type'].agg(list).reset_index()\n",
    "    \n",
    "    abstract_texts_df[\"ac_types\"] = abstract_texts_df.apply(lambda x: process_aty(x), axis=1)\n",
    "\n",
    "    abstract_texts_df.rename(columns={'text': 'abstract_text'}, inplace=True)\n",
    "    abstract_texts_df.drop(columns=['aty'], inplace=True)\n",
    "    abstract_acs_df.rename(columns={'text': 'acs_list'}, inplace=True)\n",
    "    \n",
    "    df_merged_1 = pd.merge(abstract_texts_df, abstract_acs_df, on='doc_id')\n",
    "    df_merged = pd.merge(df_merged_1, abstract_ars_df, on='doc_id')\n",
    "\n",
    "    df_merged[\"tagged_abstract_text\"] = df_merged.apply(lambda x: insert_ac_tags(x), axis=1)\n",
    "    df_merged['relations_list'] = df_merged.apply(lambda x: filter_nones(x), axis=1)\n",
    "\n",
    "    return df_merged    "
   ]
  },
  {
   "cell_type": "markdown",
   "id": "7af75678-bbcc-4cfa-9b81-c9a66d170182",
   "metadata": {},
   "source": [
    "## Load Data"
   ]
  },
  {
   "cell_type": "code",
   "execution_count": 124,
   "id": "1e527239",
   "metadata": {},
   "outputs": [],
   "source": [
    "abstRCT_dir = Path.cwd().parent / \"am_reasoning\" / \"abstRCT\""
   ]
  },
  {
   "cell_type": "code",
   "execution_count": 125,
   "id": "59c6cc90",
   "metadata": {},
   "outputs": [
    {
     "data": {
      "text/plain": [
       "PosixPath('/Utilisateurs/umushtaq/am_reasoning/abstRCT')"
      ]
     },
     "execution_count": 125,
     "metadata": {},
     "output_type": "execute_result"
    }
   ],
   "source": [
    "abstRCT_dir\n",
    "# /Utilisateurs/umushtaq/am_reasoning/abstRCT"
   ]
  },
  {
   "cell_type": "code",
   "execution_count": 126,
   "id": "0da5ee17-0803-41cc-91c9-1cec32f672d4",
   "metadata": {
    "tags": []
   },
   "outputs": [],
   "source": [
    "data_dir = abstRCT_dir / \"data_files\""
   ]
  },
  {
   "cell_type": "code",
   "execution_count": 127,
   "id": "6c29d518-a1d6-4166-8071-8f92460153a9",
   "metadata": {},
   "outputs": [],
   "source": [
    "neo_train_df = get_dataframe(\"neo/train.csv\")"
   ]
  },
  {
   "cell_type": "code",
   "execution_count": 128,
   "id": "0ecb4ffa-4a74-40dd-973f-78daadec1303",
   "metadata": {},
   "outputs": [],
   "source": [
    "neo_test_df = get_dataframe(\"neo/test.csv\")"
   ]
  },
  {
   "cell_type": "code",
   "execution_count": 129,
   "id": "6f2d4cf8-da3d-4188-b771-cb1cc3e33516",
   "metadata": {},
   "outputs": [],
   "source": [
    "gla_test_df = get_dataframe(\"gla/test.csv\")"
   ]
  },
  {
   "cell_type": "code",
   "execution_count": 130,
   "id": "1686a4f9-3aeb-48e8-9112-1dcd8be809a9",
   "metadata": {},
   "outputs": [],
   "source": [
    "mix_test_df = get_dataframe(\"mix/test.csv\")"
   ]
  },
  {
   "cell_type": "code",
   "execution_count": 131,
   "id": "dc93c186-096a-4d0e-9bb2-117e167796ed",
   "metadata": {},
   "outputs": [
    {
     "data": {
      "text/html": [
       "<div>\n",
       "<style scoped>\n",
       "    .dataframe tbody tr th:only-of-type {\n",
       "        vertical-align: middle;\n",
       "    }\n",
       "\n",
       "    .dataframe tbody tr th {\n",
       "        vertical-align: top;\n",
       "    }\n",
       "\n",
       "    .dataframe thead th {\n",
       "        text-align: right;\n",
       "    }\n",
       "</style>\n",
       "<table border=\"1\" class=\"dataframe\">\n",
       "  <thead>\n",
       "    <tr style=\"text-align: right;\">\n",
       "      <th></th>\n",
       "      <th>doc_id</th>\n",
       "      <th>abstract_text</th>\n",
       "      <th>ac_types</th>\n",
       "      <th>acs_list</th>\n",
       "      <th>relation_type</th>\n",
       "      <th>tagged_abstract_text</th>\n",
       "      <th>relations_list</th>\n",
       "    </tr>\n",
       "  </thead>\n",
       "  <tbody>\n",
       "    <tr>\n",
       "      <th>0</th>\n",
       "      <td>7502428</td>\n",
       "      <td>Single-agent therapy with bicalutamide, a non...</td>\n",
       "      <td>[none, Premise, Premise, Premise, Premise, Pre...</td>\n",
       "      <td>[ Single-agent therapy with bicalutamide, a no...</td>\n",
       "      <td>[[0, 0, none], [1, 8, attack], [2, 8, support]...</td>\n",
       "      <td>Single-agent therapy with bicalutamide, a non...</td>\n",
       "      <td>[[1, 8, attack], [2, 8, support], [3, 2, attac...</td>\n",
       "    </tr>\n",
       "    <tr>\n",
       "      <th>1</th>\n",
       "      <td>7680374</td>\n",
       "      <td>An open, randomized study was performed to as...</td>\n",
       "      <td>[none, Premise, Premise, Claim, Premise, Premi...</td>\n",
       "      <td>[ An open, randomized study was performed to a...</td>\n",
       "      <td>[[0, 0, none], [1, 8, support], [2, 0, none], ...</td>\n",
       "      <td>An open, randomized study was performed to as...</td>\n",
       "      <td>[[1, 8, support], [3, 9, support], [4, 8, supp...</td>\n",
       "    </tr>\n",
       "    <tr>\n",
       "      <th>2</th>\n",
       "      <td>7786823</td>\n",
       "      <td>From 1984 to 1989, the Swiss Group for Clinic...</td>\n",
       "      <td>[none, Premise, Premise, Premise, Premise, Pre...</td>\n",
       "      <td>[ From 1984 to 1989, the Swiss Group for Clini...</td>\n",
       "      <td>[[0, 0, none], [1, 8, support], [2, 8, support...</td>\n",
       "      <td>From 1984 to 1989, the Swiss Group for Clinic...</td>\n",
       "      <td>[[1, 8, support], [2, 8, support], [3, 8, supp...</td>\n",
       "    </tr>\n",
       "    <tr>\n",
       "      <th>3</th>\n",
       "      <td>7989941</td>\n",
       "      <td>Taxol (paclitaxel; Bristol-Myers Squibb, Walli...</td>\n",
       "      <td>[Premise, none, Premise, Premise, Premise, Pre...</td>\n",
       "      <td>[Taxol (paclitaxel; Bristol-Myers Squibb, Wall...</td>\n",
       "      <td>[[1, 0, none], [0, 0, none], [2, 9, support], ...</td>\n",
       "      <td>&lt;AC1&gt; Taxol (paclitaxel; Bristol-Myers Squibb,...</td>\n",
       "      <td>[[2, 9, support], [3, 7, attack], [4, 3, attac...</td>\n",
       "    </tr>\n",
       "    <tr>\n",
       "      <th>4</th>\n",
       "      <td>8229122</td>\n",
       "      <td>The impact of the side effects of megestrol a...</td>\n",
       "      <td>[none, Premise, Premise, Premise, Claim]</td>\n",
       "      <td>[ The impact of the side effects of megestrol ...</td>\n",
       "      <td>[[0, 0, none], [1, 4, support], [2, 4, attack]...</td>\n",
       "      <td>The impact of the side effects of megestrol a...</td>\n",
       "      <td>[[1, 4, support], [2, 4, attack], [3, 2, attack]]</td>\n",
       "    </tr>\n",
       "    <tr>\n",
       "      <th>...</th>\n",
       "      <td>...</td>\n",
       "      <td>...</td>\n",
       "      <td>...</td>\n",
       "      <td>...</td>\n",
       "      <td>...</td>\n",
       "      <td>...</td>\n",
       "      <td>...</td>\n",
       "    </tr>\n",
       "    <tr>\n",
       "      <th>345</th>\n",
       "      <td>23989945</td>\n",
       "      <td>Care closer to home is being explored as a me...</td>\n",
       "      <td>[none, Premise, Premise, none, Premise, Premis...</td>\n",
       "      <td>[ Care closer to home is being explored as a m...</td>\n",
       "      <td>[[0, 0, none], [1, 7, support], [2, 6, support...</td>\n",
       "      <td>Care closer to home is being explored as a me...</td>\n",
       "      <td>[[1, 7, support], [2, 6, support], [3, 7, supp...</td>\n",
       "    </tr>\n",
       "    <tr>\n",
       "      <th>346</th>\n",
       "      <td>23993401</td>\n",
       "      <td>The optimal duration over which lung SBRT sho...</td>\n",
       "      <td>[none, Premise, Premise, Premise, Premise, Cla...</td>\n",
       "      <td>[ The optimal duration over which lung SBRT sh...</td>\n",
       "      <td>[[0, 0, none], [1, 5, support], [2, 6, support...</td>\n",
       "      <td>The optimal duration over which lung SBRT sho...</td>\n",
       "      <td>[[1, 5, support], [2, 6, support], [3, 6, supp...</td>\n",
       "    </tr>\n",
       "    <tr>\n",
       "      <th>347</th>\n",
       "      <td>24001635</td>\n",
       "      <td>Patients experience reductions in quality of ...</td>\n",
       "      <td>[none, Premise, Premise, Claim, none]</td>\n",
       "      <td>[ Patients experience reductions in quality of...</td>\n",
       "      <td>[[0, 0, none], [1, 3, support], [2, 3, support...</td>\n",
       "      <td>Patients experience reductions in quality of ...</td>\n",
       "      <td>[[1, 3, support], [2, 3, support]]</td>\n",
       "    </tr>\n",
       "    <tr>\n",
       "      <th>348</th>\n",
       "      <td>24067488</td>\n",
       "      <td>Chronic gastrointestinal symptoms after pelvi...</td>\n",
       "      <td>[none, Premise, Premise, Claim, Claim]</td>\n",
       "      <td>[ Chronic gastrointestinal symptoms after pelv...</td>\n",
       "      <td>[[0, 0, none], [1, 3, support], [2, 4, support...</td>\n",
       "      <td>Chronic gastrointestinal symptoms after pelvi...</td>\n",
       "      <td>[[1, 3, support], [2, 4, support]]</td>\n",
       "    </tr>\n",
       "    <tr>\n",
       "      <th>349</th>\n",
       "      <td>24075621</td>\n",
       "      <td>Abiraterone acetate plus prednisone significan...</td>\n",
       "      <td>[Claim, none, Premise, Premise, Premise, Claim...</td>\n",
       "      <td>[Abiraterone acetate plus prednisone significa...</td>\n",
       "      <td>[[1, 0, none], [0, 0, none], [2, 5, support], ...</td>\n",
       "      <td>&lt;AC1&gt; Abiraterone acetate plus prednisone sign...</td>\n",
       "      <td>[[2, 5, support], [3, 5, support], [4, 5, supp...</td>\n",
       "    </tr>\n",
       "  </tbody>\n",
       "</table>\n",
       "<p>350 rows × 7 columns</p>\n",
       "</div>"
      ],
      "text/plain": [
       "       doc_id                                      abstract_text  \\\n",
       "0     7502428   Single-agent therapy with bicalutamide, a non...   \n",
       "1     7680374   An open, randomized study was performed to as...   \n",
       "2     7786823   From 1984 to 1989, the Swiss Group for Clinic...   \n",
       "3     7989941  Taxol (paclitaxel; Bristol-Myers Squibb, Walli...   \n",
       "4     8229122   The impact of the side effects of megestrol a...   \n",
       "..        ...                                                ...   \n",
       "345  23989945   Care closer to home is being explored as a me...   \n",
       "346  23993401   The optimal duration over which lung SBRT sho...   \n",
       "347  24001635   Patients experience reductions in quality of ...   \n",
       "348  24067488   Chronic gastrointestinal symptoms after pelvi...   \n",
       "349  24075621  Abiraterone acetate plus prednisone significan...   \n",
       "\n",
       "                                              ac_types  \\\n",
       "0    [none, Premise, Premise, Premise, Premise, Pre...   \n",
       "1    [none, Premise, Premise, Claim, Premise, Premi...   \n",
       "2    [none, Premise, Premise, Premise, Premise, Pre...   \n",
       "3    [Premise, none, Premise, Premise, Premise, Pre...   \n",
       "4             [none, Premise, Premise, Premise, Claim]   \n",
       "..                                                 ...   \n",
       "345  [none, Premise, Premise, none, Premise, Premis...   \n",
       "346  [none, Premise, Premise, Premise, Premise, Cla...   \n",
       "347              [none, Premise, Premise, Claim, none]   \n",
       "348             [none, Premise, Premise, Claim, Claim]   \n",
       "349  [Claim, none, Premise, Premise, Premise, Claim...   \n",
       "\n",
       "                                              acs_list  \\\n",
       "0    [ Single-agent therapy with bicalutamide, a no...   \n",
       "1    [ An open, randomized study was performed to a...   \n",
       "2    [ From 1984 to 1989, the Swiss Group for Clini...   \n",
       "3    [Taxol (paclitaxel; Bristol-Myers Squibb, Wall...   \n",
       "4    [ The impact of the side effects of megestrol ...   \n",
       "..                                                 ...   \n",
       "345  [ Care closer to home is being explored as a m...   \n",
       "346  [ The optimal duration over which lung SBRT sh...   \n",
       "347  [ Patients experience reductions in quality of...   \n",
       "348  [ Chronic gastrointestinal symptoms after pelv...   \n",
       "349  [Abiraterone acetate plus prednisone significa...   \n",
       "\n",
       "                                         relation_type  \\\n",
       "0    [[0, 0, none], [1, 8, attack], [2, 8, support]...   \n",
       "1    [[0, 0, none], [1, 8, support], [2, 0, none], ...   \n",
       "2    [[0, 0, none], [1, 8, support], [2, 8, support...   \n",
       "3    [[1, 0, none], [0, 0, none], [2, 9, support], ...   \n",
       "4    [[0, 0, none], [1, 4, support], [2, 4, attack]...   \n",
       "..                                                 ...   \n",
       "345  [[0, 0, none], [1, 7, support], [2, 6, support...   \n",
       "346  [[0, 0, none], [1, 5, support], [2, 6, support...   \n",
       "347  [[0, 0, none], [1, 3, support], [2, 3, support...   \n",
       "348  [[0, 0, none], [1, 3, support], [2, 4, support...   \n",
       "349  [[1, 0, none], [0, 0, none], [2, 5, support], ...   \n",
       "\n",
       "                                  tagged_abstract_text  \\\n",
       "0     Single-agent therapy with bicalutamide, a non...   \n",
       "1     An open, randomized study was performed to as...   \n",
       "2     From 1984 to 1989, the Swiss Group for Clinic...   \n",
       "3    <AC1> Taxol (paclitaxel; Bristol-Myers Squibb,...   \n",
       "4     The impact of the side effects of megestrol a...   \n",
       "..                                                 ...   \n",
       "345   Care closer to home is being explored as a me...   \n",
       "346   The optimal duration over which lung SBRT sho...   \n",
       "347   Patients experience reductions in quality of ...   \n",
       "348   Chronic gastrointestinal symptoms after pelvi...   \n",
       "349  <AC1> Abiraterone acetate plus prednisone sign...   \n",
       "\n",
       "                                        relations_list  \n",
       "0    [[1, 8, attack], [2, 8, support], [3, 2, attac...  \n",
       "1    [[1, 8, support], [3, 9, support], [4, 8, supp...  \n",
       "2    [[1, 8, support], [2, 8, support], [3, 8, supp...  \n",
       "3    [[2, 9, support], [3, 7, attack], [4, 3, attac...  \n",
       "4    [[1, 4, support], [2, 4, attack], [3, 2, attack]]  \n",
       "..                                                 ...  \n",
       "345  [[1, 7, support], [2, 6, support], [3, 7, supp...  \n",
       "346  [[1, 5, support], [2, 6, support], [3, 6, supp...  \n",
       "347                 [[1, 3, support], [2, 3, support]]  \n",
       "348                 [[1, 3, support], [2, 4, support]]  \n",
       "349  [[2, 5, support], [3, 5, support], [4, 5, supp...  \n",
       "\n",
       "[350 rows x 7 columns]"
      ]
     },
     "execution_count": 131,
     "metadata": {},
     "output_type": "execute_result"
    }
   ],
   "source": [
    "neo_train_df"
   ]
  },
  {
   "cell_type": "code",
   "execution_count": 175,
   "id": "8aeffc99-351c-484f-807b-831e06eb0d0f",
   "metadata": {},
   "outputs": [
    {
     "data": {
      "text/plain": [
       "[' We conducted a prospective, randomized, multicentre clinical trial comparing the effects and costs of GM-CSF as an adjunct to intensive chemotherapy in elderly patients with acute myeloid leukaemia (AML). The patients were randomized to either daunomycin-cytosine arabinoside (control arm: n = 161) or daunomycin-cytosine arabinoside with GM-CSF (GM-CSF arm: n = 157). The primary end-point was the effect of GM-CSF on the percentage of complete remissions (CR). Survival duration, disease-free survival, quality of life and costs were evaluated separately.',\n",
       " 'CR after remission induction treatment was achieved in 55% of the patients in the control group and in 56% of the patients in the GM-CSF group (P = NS).',\n",
       " 'The duration of survival and disease-free survival at 2 years after randomization were estimated at 22% and 19% for the control group and 22% and 14% for the GM-CSF group (P = NS).',\n",
       " 'Considering the short-term quality of life, the administration of GM-CSF resulted in more problems with regard to depressed mood, diarrhoea and rash/eczema.',\n",
       " 'With regard to the long-term quality of life there were no significant differences between the two groups.',\n",
       " 'The average costs of the primary treatment were higher in GM-CSF-treated patients than in the control group, i.e. US$40782 and US$34465, respectively (P < 0.01).',\n",
       " 'The costs during the follow-up period did not differ between the two groups.',\n",
       " 'The results of this randomized clinical trial indicate that daunomycin-cytosine arabinoside plus GM-CSF is not a cost-effective treatment strategy when compared with daunomycin-cytosine arabinoside alone.']"
      ]
     },
     "execution_count": 175,
     "metadata": {},
     "output_type": "execute_result"
    }
   ],
   "source": [
    "neo_train_df.iloc[10]['acs_list']"
   ]
  },
  {
   "cell_type": "code",
   "execution_count": 176,
   "id": "d48e1dc3",
   "metadata": {},
   "outputs": [
    {
     "data": {
      "text/plain": [
       "(['none',\n",
       "  'Premise',\n",
       "  'Premise',\n",
       "  'Premise',\n",
       "  'Premise',\n",
       "  'Premise',\n",
       "  'Premise',\n",
       "  'Claim'],\n",
       " 8)"
      ]
     },
     "execution_count": 176,
     "metadata": {},
     "output_type": "execute_result"
    }
   ],
   "source": [
    "neo_train_df.iloc[10]['ac_types'], len(neo_train_df.iloc[10]['ac_types'])"
   ]
  },
  {
   "cell_type": "code",
   "execution_count": 177,
   "id": "d125b84e",
   "metadata": {},
   "outputs": [
    {
     "data": {
      "text/plain": [
       "[[0, 0, 'none'],\n",
       " [1, 0, 'none'],\n",
       " [2, 0, 'none'],\n",
       " [3, 0, 'none'],\n",
       " [4, 0, 'none'],\n",
       " [5, 7, 'support'],\n",
       " [6, 7, 'attack'],\n",
       " [7, 0, 'none']]"
      ]
     },
     "execution_count": 177,
     "metadata": {},
     "output_type": "execute_result"
    }
   ],
   "source": [
    "neo_train_df.iloc[10]['relation_type']"
   ]
  },
  {
   "cell_type": "code",
   "execution_count": 178,
   "id": "d88ef2be",
   "metadata": {},
   "outputs": [
    {
     "data": {
      "text/plain": [
       "[[5, 7, 'support'], [6, 7, 'attack']]"
      ]
     },
     "execution_count": 178,
     "metadata": {},
     "output_type": "execute_result"
    }
   ],
   "source": [
    "neo_train_df.iloc[10]['relations_list']"
   ]
  },
  {
   "cell_type": "code",
   "execution_count": 168,
   "id": "66caff6c",
   "metadata": {},
   "outputs": [],
   "source": [
    "def adjust_ac_idxes(row):\n",
    "    \n",
    "    ac_types = row['ac_types']\n",
    "    relations_list = row['relations_list']\n",
    "    \n",
    "    index_map = {}\n",
    "    new_labels = []\n",
    "    new_relations = []\n",
    "    \n",
    "    for i, label in enumerate(ac_types):\n",
    "        if label != 'none':\n",
    "            index_map[i] = len(new_labels)\n",
    "            new_labels.append(label)\n",
    "            \n",
    "  \n",
    "    for src, tgt, rel_type in relations_list:\n",
    "        if src in index_map and tgt in index_map:\n",
    "            new_relations.append([index_map[src] + 1, index_map[tgt] + 1, rel_type])\n",
    "\n",
    "    return new_labels, new_relations"
   ]
  },
  {
   "cell_type": "code",
   "execution_count": 174,
   "id": "d64321cb",
   "metadata": {},
   "outputs": [
    {
     "data": {
      "text/plain": [
       "(['Premise',\n",
       "  'Premise',\n",
       "  'Premise',\n",
       "  'Premise',\n",
       "  'Premise',\n",
       "  'Premise',\n",
       "  'Premise',\n",
       "  'Claim'],\n",
       " [[1, 8, 'attack'],\n",
       "  [2, 8, 'support'],\n",
       "  [3, 2, 'attack'],\n",
       "  [4, 8, 'support'],\n",
       "  [5, 8, 'support'],\n",
       "  [6, 8, 'support'],\n",
       "  [7, 8, 'attack']])"
      ]
     },
     "execution_count": 174,
     "metadata": {},
     "output_type": "execute_result"
    }
   ],
   "source": [
    "adjust_ac_idxes(neo_train_df.iloc[0])"
   ]
  },
  {
   "cell_type": "code",
   "execution_count": null,
   "id": "a6f1278e",
   "metadata": {},
   "outputs": [],
   "source": []
  },
  {
   "cell_type": "code",
   "execution_count": null,
   "id": "5d116901",
   "metadata": {},
   "outputs": [],
   "source": []
  },
  {
   "cell_type": "code",
   "execution_count": null,
   "id": "df4c942c",
   "metadata": {},
   "outputs": [],
   "source": []
  },
  {
   "cell_type": "code",
   "execution_count": 139,
   "id": "d3c7d925-84a2-4135-8684-90d09657cb54",
   "metadata": {},
   "outputs": [],
   "source": [
    "neo_train_df.to_pickle(data_dir / \"neo_train_df.pkl\")\n",
    "neo_test_df.to_pickle(data_dir / \"neo_test_df.pkl\")\n",
    "gla_test_df.to_pickle(data_dir / \"gla_test_df.pkl\")\n",
    "mix_test_df.to_pickle(data_dir / \"mix_test_df.pkl\")"
   ]
  },
  {
   "cell_type": "markdown",
   "id": "63a578e2-63f5-4860-965c-ef5e659149a7",
   "metadata": {},
   "source": [
    "## Prepare prompt"
   ]
  },
  {
   "cell_type": "code",
   "execution_count": 140,
   "id": "f02ffd05-4249-4830-9752-5b96c2d48d27",
   "metadata": {
    "tags": []
   },
   "outputs": [],
   "source": [
    "def formatting_fct(instruction=\"\", input=\"\", output=\"\"):\n",
    "    \n",
    "    prompt_d ={\n",
    "            \n",
    "        \"instruction\": f\"\"\"{instruction}\"\"\",\n",
    "        \"input\": f\"\"\"{input}\"\"\",\n",
    "        \"output\": f\"\"\"{output}\"\"\"\n",
    "            \n",
    "        }\n",
    "    \n",
    "    return prompt_d"
   ]
  },
  {
   "cell_type": "code",
   "execution_count": 141,
   "id": "ae5d7d10-d513-47fc-a179-3000cb220ab0",
   "metadata": {},
   "outputs": [],
   "source": [
    "# def write_instruction():\n",
    "\n",
    "#     # results = json.dumps([\"component_type (str)\"] * nr_acs)\n",
    "\n",
    "#     instruction = \"\"\"### You are an expert in Argument Mining. You are given a biomedical abstract text which contains numbered argument components enclosed by <AC></AC> tags. Your task is to identify argument relations between argument components in the abstract text and classify their relation type as either \"support\" or \"attack\". You must return a list of triplets in the following JSON format: {\"list_argument_relation_types\": [[source AC (int), target AC (int), relation_type (str)], ..., [source AC (int), target AC (int), relation_type (str)]]} where each element \"relation_type (str)\" is replaced by either \"support\" or \"attack\".\n",
    "# \"\"\"\n",
    "    \n",
    "#     return instruction"
   ]
  },
  {
   "cell_type": "raw",
   "id": "52303765",
   "metadata": {
    "vscode": {
     "languageId": "raw"
    }
   },
   "source": [
    "a claim is a concluding statement made by the author about the outcome of the\n",
    "study. It is a general hypothesis that describes the relation of a new treatment\n",
    "(intervention arm) to existing treatments (control arm) and should emerge from\n",
    "the described results.\n",
    "\n",
    "A claim is the author’s concluding statement, summarizing how the new treatment compares to existing treatments based on the study’s results.\n",
    "\n",
    "\n",
    "major claims are either more a general/\n",
    "concluding claim, which is supported by other, more specific, claims or\n",
    "general statements about properties of treatments or diseases\n",
    "\n",
    "\n",
    "Major claims are broad conclusions supported by specific claims or general statements about treatments or diseases.\n",
    "\n",
    "A premise in a RCT context is an observation or measurement in the study\n",
    "(ground truth), which supports or attacks another argument component, usually\n",
    "a claim. Those observations comprise side effects and the measured outcome of\n",
    "the intervention and control arm. It is important that they are observed facts,\n",
    "and therefore credible without further evidence, since this is the ground truth\n",
    "the argumentation is based on.\n",
    "\n",
    "a premise is an observed or measured fact—such as side effects or outcomes—that supports or challenges a claim. \n",
    "\n",
    "[(1, 8, 'S'), (3, 9, 'S'), (4, 8, 'S'), (5, 8, 'S'), (7, 6, 'A'), (9, 8, 'A'), (10, 8, 'A')]\n",
    "\n",
    "(['none',\n",
    "  'Premise',\n",
    "  'Premise',\n",
    "  'Claim',\n",
    "  'Premise',\n",
    "  'Premise',\n",
    "  'Premise',\n",
    "  'Claim',\n",
    "  'Claim',\n",
    "  'Claim',\n",
    "  'Claim'],\n",
    " 11)\n",
    "\n"
   ]
  },
  {
   "cell_type": "code",
   "execution_count": 142,
   "id": "579cd5e0",
   "metadata": {},
   "outputs": [],
   "source": [
    "def build_instruction():\n",
    "    \n",
    "    instruction = \"\"\"### You are an expert in Argument Mining tasked with analyzing biomedical abstracts. \n",
    "\n",
    "INPUT:\n",
    "You will receive:\n",
    "- A biomedical abstract text.\n",
    "- An enumerated list of identified arguments in the biomedical abstract.\n",
    "\n",
    "TASK 1: Argument Classification\n",
    "- Classify each argument in the biomedical abstract into one of the following categories: \"MajorClaim\"(M), \"Claim\"(C) or \"Premise\"(P).\n",
    "- MajorClaim (M): Major claims are broad conclusions supported by specific claims or general statements about treatments or diseases.\n",
    "- Claim (C): A claim is the author’s concluding statement, summarizing how the new treatment compares to existing treatments based on the study’s results.\n",
    "- Premise (P): A premise is an observed or measured fact—such as side effects or outcomes—that supports or challenges a claim. \n",
    "- You must return a list of argument types in following JSON format: {\"argument_types\": [argument_types (str), argument_types (str), ..., argument_types (str)]}\n",
    "\n",
    "TASK 2: Argument Relations Identification and Classification\n",
    "- Identify relationships between arguments by determining which arguments support or attack other arguments.\n",
    "- For each related argument pair, classify the relationship as either: \"Support\"(S) or \"Attack\"(A).\n",
    "- You must return a list of triplets in the following JSON format: {\"argument_relations\": [(target_index (int), source_index (int), relation_type (str)), (target_index (int), source_index (int), relation_type (str)), ...]}\n",
    "- Note: Indices are 1-based, referring to the position in the provided arguments list.\n",
    "\n",
    "Example:\n",
    "\n",
    "### Output:\n",
    "{\"argument_types\": ['P', 'P', 'C', 'P', 'P', 'P', 'C', 'C', 'C', 'C']}\n",
    "{\"argument_relations\": [(1, 8, 'S'), (3, 9, 'S'), (4, 8, 'S'), (5, 8, 'S'), (7, 6, 'A'), (9, 8, 'A'), (10, 8, 'A')]}\n",
    "\"\"\"\n",
    "\n",
    "    return instruction"
   ]
  },
  {
   "cell_type": "code",
   "execution_count": 143,
   "id": "259d514f-fc74-4af1-ad9f-ff2010d9a817",
   "metadata": {},
   "outputs": [
    {
     "name": "stdout",
     "output_type": "stream",
     "text": [
      "### You are an expert in Argument Mining tasked with analyzing biomedical abstracts. \n",
      "\n",
      "INPUT:\n",
      "You will receive:\n",
      "- A biomedical abstract text.\n",
      "- An enumerated list of identified arguments in the biomedical abstract.\n",
      "\n",
      "TASK 1: Argument Classification\n",
      "- Classify each argument in the biomedical abstract into one of the following categories: \"MajorClaim\"(M), \"Claim\"(C) or \"Premise\"(P).\n",
      "- MajorClaim (M): Major claims are broad conclusions supported by specific claims or general statements about treatments or diseases.\n",
      "- Claim (C): A claim is the author’s concluding statement, summarizing how the new treatment compares to existing treatments based on the study’s results.\n",
      "- Premise (P): A premise is an observed or measured fact—such as side effects or outcomes—that supports or challenges a claim. \n",
      "- You must return a list of argument types in following JSON format: {\"argument_types\": [argument_types (str), argument_types (str), ..., argument_types (str)]}\n",
      "\n",
      "TASK 2: Argument Relations Identification and Classification\n",
      "- Identify relationships between arguments by determining which arguments support or attack other arguments.\n",
      "- For each related argument pair, classify the relationship as either: \"Support\"(S) or \"Attack\"(A).\n",
      "- You must return a list of triplets in the following JSON format: {\"argument_relations\": [(target_index (int), source_index (int), relation_type (str)), (target_index (int), source_index (int), relation_type (str)), ...]}\n",
      "- Note: Indices are 1-based, referring to the position in the provided arguments list.\n",
      "\n",
      "Example:\n",
      "\n",
      "### Output:\n",
      "{\"argument_types\": ['P', 'P', 'C', 'P', 'P', 'P', 'C', 'C', 'C', 'C']}\n",
      "{\"argument_relations\": [(1, 8, 'S'), (3, 9, 'S'), (4, 8, 'S'), (5, 8, 'S'), (7, 6, 'A'), (9, 8, 'A'), (10, 8, 'A')]}\n",
      "\n"
     ]
    }
   ],
   "source": [
    "print(build_instruction())"
   ]
  },
  {
   "cell_type": "code",
   "execution_count": 144,
   "id": "0c4cafc8-0d86-4fe4-9e94-294a4452aea7",
   "metadata": {},
   "outputs": [],
   "source": [
    "def build_input(abstract_text, acs, ac_types):\n",
    "    \n",
    "    question = f\"\"\"### Abstract text:\\n{abstract_text}\\n\"\"\"    \n",
    "    ac_l = [ac for ac, ac_type in zip(acs, ac_types) if ac_type != \"none\"]\n",
    "    \n",
    "    numbered_string = '\\n'.join(f\"{i+1}. {item}\" for i, item in enumerate(ac_l))\n",
    "    args = f\"\"\"### List of arguments in the abstract:\\n{numbered_string}\"\"\"\n",
    "    \n",
    "    return question + args"
   ]
  },
  {
   "cell_type": "code",
   "execution_count": 145,
   "id": "a8e99d0f-db25-41f3-b3e7-2ac1633ba923",
   "metadata": {},
   "outputs": [],
   "source": [
    "def build_answer(relation_types, ac_types):\n",
    "    \n",
    "    ac_type_d = {\"Premise\": \"P\", \"Claim\": \"C\", \"MajorClaim\": \"M\"}\n",
    "    rel_type_d = {\"support\": \"S\", \"attack\": \"A\"}\n",
    "\n",
    "    output_indic = \"### Output:\\n\"\n",
    "    \n",
    "    ac_types = [ac_type_d[label] for label in ac_types if label != 'none']   \n",
    "    ac_types = f'{{\"argument_types\": {ac_types}}}\\n'\n",
    "    \n",
    "    rels_types = [(i, j, rel_type_d[r_type]) for i, j , r_type in relation_types]\n",
    "    rels_types = f'{{\"relation_types\": {rels_types}}}\\n'\n",
    "    \n",
    "    \n",
    "    #ac_types = ['Claim' if label == 'MajorClaim' else label for label in ac_types]\n",
    "    return output_indic + ac_types + rels_types"
   ]
  },
  {
   "cell_type": "markdown",
   "id": "f31d0903-ee1f-49a1-a8b9-0009fce405cb",
   "metadata": {},
   "source": [
    "## Prepare data files"
   ]
  },
  {
   "cell_type": "markdown",
   "id": "17e0797b-50be-40e6-9eb8-632737d694e9",
   "metadata": {},
   "source": [
    "### train file (neo)"
   ]
  },
  {
   "cell_type": "code",
   "execution_count": 146,
   "id": "a7b9ef0d-3571-4400-b182-63112067fb35",
   "metadata": {},
   "outputs": [],
   "source": [
    "data_file_train = []\n",
    "\n",
    "for _, row in neo_train_df.iterrows():\n",
    "\n",
    "    instruction = build_instruction()\n",
    "    question = build_input(row.abstract_text, row.acs_list, row.ac_types)\n",
    "    answer = build_answer(row.relations_list, row.ac_types)\n",
    "    \n",
    "    data_file_train.append( formatting_fct(instruction, question, answer) )"
   ]
  },
  {
   "cell_type": "code",
   "execution_count": 147,
   "id": "a19bd3b3-1590-48a1-8efd-19ba363eaa38",
   "metadata": {},
   "outputs": [
    {
     "data": {
      "text/plain": [
       "350"
      ]
     },
     "execution_count": 147,
     "metadata": {},
     "output_type": "execute_result"
    }
   ],
   "source": [
    "len(data_file_train)"
   ]
  },
  {
   "cell_type": "code",
   "execution_count": 148,
   "id": "456cd2de-03c4-4c2d-80a6-6afaa9265551",
   "metadata": {
    "scrolled": true
   },
   "outputs": [
    {
     "name": "stdout",
     "output_type": "stream",
     "text": [
      "### You are an expert in Argument Mining tasked with analyzing biomedical abstracts. \n",
      "\n",
      "INPUT:\n",
      "You will receive:\n",
      "- A biomedical abstract text.\n",
      "- An enumerated list of identified arguments in the biomedical abstract.\n",
      "\n",
      "TASK 1: Argument Classification\n",
      "- Classify each argument in the biomedical abstract into one of the following categories: \"MajorClaim\"(M), \"Claim\"(C) or \"Premise\"(P).\n",
      "- MajorClaim (M): Major claims are broad conclusions supported by specific claims or general statements about treatments or diseases.\n",
      "- Claim (C): A claim is the author’s concluding statement, summarizing how the new treatment compares to existing treatments based on the study’s results.\n",
      "- Premise (P): A premise is an observed or measured fact—such as side effects or outcomes—that supports or challenges a claim. \n",
      "- You must return a list of argument types in following JSON format: {\"argument_types\": [argument_types (str), argument_types (str), ..., argument_types (str)]}\n",
      "\n",
      "TASK 2: Argument Relations Identification and Classification\n",
      "- Identify relationships between arguments by determining which arguments support or attack other arguments.\n",
      "- For each related argument pair, classify the relationship as either: \"Support\"(S) or \"Attack\"(A).\n",
      "- You must return a list of triplets in the following JSON format: {\"argument_relations\": [(target_index (int), source_index (int), relation_type (str)), (target_index (int), source_index (int), relation_type (str)), ...]}\n",
      "- Note: Indices are 1-based, referring to the position in the provided arguments list.\n",
      "\n",
      "Example:\n",
      "\n",
      "### Output:\n",
      "{\"argument_types\": ['P', 'P', 'C', 'P', 'P', 'P', 'C', 'C', 'C', 'C']}\n",
      "{\"argument_relations\": [(1, 8, 'S'), (3, 9, 'S'), (4, 8, 'S'), (5, 8, 'S'), (7, 6, 'A'), (9, 8, 'A'), (10, 8, 'A')]}\n",
      "\n"
     ]
    }
   ],
   "source": [
    "print(data_file_train[0]['instruction'])"
   ]
  },
  {
   "cell_type": "code",
   "execution_count": 149,
   "id": "30c62a5d",
   "metadata": {},
   "outputs": [
    {
     "name": "stdout",
     "output_type": "stream",
     "text": [
      "### Abstract text:\n",
      " Single-agent therapy with bicalutamide, a nonsteroidal antiandrogen, was compared with castration, either surgical or medical, in patients with untreated Stage D2 prostate cancer. In an open, randomized, multicenter trial, patients were randomized to treatment with 50 mg bicalutamide (n = 243) once daily or to castration (n = 243), either orchiectomy or depot injection of goserelin acetate every 28 days. Primary efficacy endpoints were times to treatment failure and objective disease progression and survival. Assessments included review of measurable metastases, prostate dimensions, Eastern Cooperative Oncology Group performance status, pain, analgesic requirements, and quality of life responses. The median duration of therapy was 39 weeks for bicalutamide-treated patients and 42 weeks for castrated patients; treatment failure occurred in 53% and 42% and disease progression in 43% and 33%, respectively.Treatment effects favored castration for both endpoints (P < or = 0.002), with hazard ratios (bicalutamide:castration) of 1.54 (95% confidence interval [CI], 1.18 to 2.00) for time to treatment failure and 1.6 (95% CI, 1.19 to 2.15) for time to disease progression.From the 1-year survival analysis, the hazard ratio for probability of death was 1.29 (95% CI, 0.96 to 1.72).Thus far, with a median follow-up of 86 weeks, median survival has not been reached in either group.Changes from baseline in several quality of life variables were significantly different (P < or = 0.01) between treatment groups periodically from months 1 to 6, and all favored bicalutamide.Overall, the antiandrogen was well tolerated compared with castration;with bicalutamide, hot flushes occurred less often and breast tenderness and gynecomastia more often.Although a dosage of 50 mg of bicalutamide once daily was not as effective as castration,the favorable quality of life outcomes and the low incidence of nonhormonal adverse events provide reasons to evaluate bicalutamide, as a single therapeutic agent, at higher doses.\n",
      "### List of arguments in the abstract:\n",
      "1. Treatment effects favored castration for both endpoints (P < or = 0.002), with hazard ratios (bicalutamide:castration) of 1.54 (95% confidence interval [CI], 1.18 to 2.00) for time to treatment failure and 1.6 (95% CI, 1.19 to 2.15) for time to disease progression.\n",
      "2. From the 1-year survival analysis, the hazard ratio for probability of death was 1.29 (95% CI, 0.96 to 1.72).\n",
      "3. Thus far, with a median follow-up of 86 weeks, median survival has not been reached in either group.\n",
      "4. Changes from baseline in several quality of life variables were significantly different (P < or = 0.01) between treatment groups periodically from months 1 to 6, and all favored bicalutamide.\n",
      "5. Overall, the antiandrogen was well tolerated compared with castration;\n",
      "6. with bicalutamide, hot flushes occurred less often and breast tenderness and gynecomastia more often.\n",
      "7. Although a dosage of 50 mg of bicalutamide once daily was not as effective as castration,\n",
      "8. the favorable quality of life outcomes and the low incidence of nonhormonal adverse events provide reasons to evaluate bicalutamide, as a single therapeutic agent, at higher doses.\n"
     ]
    }
   ],
   "source": [
    "print(data_file_train[0]['input'])"
   ]
  },
  {
   "cell_type": "code",
   "execution_count": 150,
   "id": "1ed08919",
   "metadata": {},
   "outputs": [
    {
     "name": "stdout",
     "output_type": "stream",
     "text": [
      "### Output:\n",
      "{\"argument_types\": ['P', 'P', 'P', 'P', 'P', 'P', 'P', 'C']}\n",
      "{\"relation_types\": [(1, 8, 'A'), (2, 8, 'S'), (3, 2, 'A'), (4, 8, 'S'), (5, 8, 'S'), (6, 8, 'S'), (7, 8, 'A')]}\n",
      "\n"
     ]
    }
   ],
   "source": [
    "print(data_file_train[0]['output'])"
   ]
  },
  {
   "cell_type": "markdown",
   "id": "83d26419-bcf0-4f1b-a7a5-de559f071424",
   "metadata": {},
   "source": [
    "### test file (neo)"
   ]
  },
  {
   "cell_type": "code",
   "execution_count": 151,
   "id": "2448b927-fb4c-4685-b815-a69149051360",
   "metadata": {},
   "outputs": [],
   "source": [
    "data_file_test_neo = []\n",
    "\n",
    "for _, row in neo_test_df.iterrows():    \n",
    "    \n",
    "    instruction = build_instruction()\n",
    "    question = build_input(row.abstract_text, row.acs_list, row.ac_types)\n",
    "    answer = build_answer(row.relations_list, row.ac_types)\n",
    "    \n",
    "    data_file_test_neo.append( formatting_fct(instruction, question, answer) )"
   ]
  },
  {
   "cell_type": "code",
   "execution_count": 152,
   "id": "39343c8e-81b8-417e-814b-32cc389926d7",
   "metadata": {},
   "outputs": [
    {
     "data": {
      "text/plain": [
       "100"
      ]
     },
     "execution_count": 152,
     "metadata": {},
     "output_type": "execute_result"
    }
   ],
   "source": [
    "len(data_file_test_neo)"
   ]
  },
  {
   "cell_type": "code",
   "execution_count": 153,
   "id": "65ab5a50-88bc-4758-b261-4b315e98f193",
   "metadata": {
    "scrolled": true
   },
   "outputs": [
    {
     "name": "stdout",
     "output_type": "stream",
     "text": [
      "### You are an expert in Argument Mining tasked with analyzing biomedical abstracts. \n",
      "\n",
      "INPUT:\n",
      "You will receive:\n",
      "- A biomedical abstract text.\n",
      "- An enumerated list of identified arguments in the biomedical abstract.\n",
      "\n",
      "TASK 1: Argument Classification\n",
      "- Classify each argument in the biomedical abstract into one of the following categories: \"MajorClaim\"(M), \"Claim\"(C) or \"Premise\"(P).\n",
      "- MajorClaim (M): Major claims are broad conclusions supported by specific claims or general statements about treatments or diseases.\n",
      "- Claim (C): A claim is the author’s concluding statement, summarizing how the new treatment compares to existing treatments based on the study’s results.\n",
      "- Premise (P): A premise is an observed or measured fact—such as side effects or outcomes—that supports or challenges a claim. \n",
      "- You must return a list of argument types in following JSON format: {\"argument_types\": [argument_types (str), argument_types (str), ..., argument_types (str)]}\n",
      "\n",
      "TASK 2: Argument Relations Identification and Classification\n",
      "- Identify relationships between arguments by determining which arguments support or attack other arguments.\n",
      "- For each related argument pair, classify the relationship as either: \"Support\"(S) or \"Attack\"(A).\n",
      "- You must return a list of triplets in the following JSON format: {\"argument_relations\": [(target_index (int), source_index (int), relation_type (str)), (target_index (int), source_index (int), relation_type (str)), ...]}\n",
      "- Note: Indices are 1-based, referring to the position in the provided arguments list.\n",
      "\n",
      "Example:\n",
      "\n",
      "### Output:\n",
      "{\"argument_types\": ['P', 'P', 'C', 'P', 'P', 'P', 'C', 'C', 'C', 'C']}\n",
      "{\"argument_relations\": [(1, 8, 'S'), (3, 9, 'S'), (4, 8, 'S'), (5, 8, 'S'), (7, 6, 'A'), (9, 8, 'A'), (10, 8, 'A')]}\n",
      "\n"
     ]
    }
   ],
   "source": [
    "print(data_file_test_neo[0]['instruction'])"
   ]
  },
  {
   "cell_type": "code",
   "execution_count": 154,
   "id": "ec0311c8",
   "metadata": {},
   "outputs": [
    {
     "name": "stdout",
     "output_type": "stream",
     "text": [
      "### Abstract text:\n",
      " To investigate the effects of medroxyprogesterone acetate (MPA) on appetite, weight, and quality of life (QL) in patients with advanced-stage, incurable, non-hormone-sensitive cancer. Two hundred six eligible patients were randomized between double-blind MPA 500 mg twice daily or placebo. Appetite (0 to 10 numerical rating scale), weight, and QL (European Organization for Research and Treatment of Cancer Quality of Life Questionnaire [EORTC-QLQ-C30]) were assessed before the start of treatment (t = 0), and 6 weeks (t = 6) and 12 weeks (t = 12) thereafter. One hundred thirty-four patients (68 MPA and 66 placebo) were assessable at t = 6 and 99 patients (53 MPA and 46 placebo) at t = 12.A beneficial effect of MPA on appetite was observed after both 6 weeks (P = .008) and 12 weeks (P = .01) of treatment.After 12 weeks, a mean weight gain of 0.6 +/- 4.4 kg was seen in the MPA, versus an ongoing mean weight loss of 1.4 +/- 4.6 kg in the placebo group.This difference of 2.0 kg was statistically significant (P = .04).During the study, several areas of QL deteriorated in the total group of patients.With the exception of an improvement in appetite and possible also a reduction in nausea and vomiting, no measurable beneficial effects of MPA on QL could be demonstrated.The side effects profile of MPA was favorable: only a trend toward an increase in (usually mild) peripheral edema was observed.In weight-losing, advanced-stage non-hormone-sensitive cancer patients, MPA exhibits a mild side effects profile, has a beneficial effect on appetite, and may prevent further weight loss.However, general QL in the present study was not measurably influenced by MPA treatment.\n",
      "### List of arguments in the abstract:\n",
      "1. A beneficial effect of MPA on appetite was observed after both 6 weeks (P = .008) and 12 weeks (P = .01) of treatment.\n",
      "2. After 12 weeks, a mean weight gain of 0.6 +/- 4.4 kg was seen in the MPA, versus an ongoing mean weight loss of 1.4 +/- 4.6 kg in the placebo group.\n",
      "3. This difference of 2.0 kg was statistically significant (P = .04).\n",
      "4. During the study, several areas of QL deteriorated in the total group of patients.\n",
      "5. With the exception of an improvement in appetite and possible also a reduction in nausea and vomiting, no measurable beneficial effects of MPA on QL could be demonstrated.\n",
      "6. The side effects profile of MPA was favorable: only a trend toward an increase in (usually mild) peripheral edema was observed.\n",
      "7. In weight-losing, advanced-stage non-hormone-sensitive cancer patients, MPA exhibits a mild side effects profile, has a beneficial effect on appetite, and may prevent further weight loss.\n",
      "8. However, general QL in the present study was not measurably influenced by MPA treatment.\n"
     ]
    }
   ],
   "source": [
    "print(data_file_test_neo[0]['input'])"
   ]
  },
  {
   "cell_type": "code",
   "execution_count": 155,
   "id": "d07e4493",
   "metadata": {},
   "outputs": [
    {
     "name": "stdout",
     "output_type": "stream",
     "text": [
      "### Output:\n",
      "{\"argument_types\": ['P', 'P', 'P', 'P', 'C', 'P', 'C', 'C']}\n",
      "{\"relation_types\": [(1, 7, 'S'), (2, 7, 'S'), (3, 2, 'S'), (4, 5, 'S'), (5, 8, 'S'), (6, 7, 'S'), (8, 7, 'A')]}\n",
      "\n"
     ]
    }
   ],
   "source": [
    "print(data_file_test_neo[0]['output'])"
   ]
  },
  {
   "cell_type": "code",
   "execution_count": 156,
   "id": "295d3c5f-a8ae-4426-b521-2d492b558fa1",
   "metadata": {},
   "outputs": [],
   "source": [
    "# Error!\n",
    "# Error corrected !"
   ]
  },
  {
   "cell_type": "markdown",
   "id": "67a7c21d-e630-4cbe-9c0d-034a91bab852",
   "metadata": {},
   "source": [
    "### test file (gla)"
   ]
  },
  {
   "cell_type": "code",
   "execution_count": 157,
   "id": "d23954ab-52eb-4fc2-b94c-3aa5ba0ea1c3",
   "metadata": {},
   "outputs": [],
   "source": [
    "data_file_test_gla = []\n",
    "\n",
    "for _, row in gla_test_df.iterrows():    \n",
    "    \n",
    "    instruction = build_instruction()\n",
    "    question = build_input(row.abstract_text, row.acs_list, row.ac_types)\n",
    "    answer = build_answer(row.relations_list, row.ac_types)\n",
    "    \n",
    "    data_file_test_gla.append( formatting_fct(instruction, question, answer) )"
   ]
  },
  {
   "cell_type": "code",
   "execution_count": 158,
   "id": "53b7e9df-a49d-4446-84d4-5c35a048f8d5",
   "metadata": {},
   "outputs": [
    {
     "data": {
      "text/plain": [
       "100"
      ]
     },
     "execution_count": 158,
     "metadata": {},
     "output_type": "execute_result"
    }
   ],
   "source": [
    "len(data_file_test_gla)"
   ]
  },
  {
   "cell_type": "code",
   "execution_count": 159,
   "id": "fa7d8a1d-26b1-42a3-a098-584b0cfb639c",
   "metadata": {
    "scrolled": true
   },
   "outputs": [
    {
     "name": "stdout",
     "output_type": "stream",
     "text": [
      "### You are an expert in Argument Mining tasked with analyzing biomedical abstracts. \n",
      "\n",
      "INPUT:\n",
      "You will receive:\n",
      "- A biomedical abstract text.\n",
      "- An enumerated list of identified arguments in the biomedical abstract.\n",
      "\n",
      "TASK 1: Argument Classification\n",
      "- Classify each argument in the biomedical abstract into one of the following categories: \"MajorClaim\"(M), \"Claim\"(C) or \"Premise\"(P).\n",
      "- MajorClaim (M): Major claims are broad conclusions supported by specific claims or general statements about treatments or diseases.\n",
      "- Claim (C): A claim is the author’s concluding statement, summarizing how the new treatment compares to existing treatments based on the study’s results.\n",
      "- Premise (P): A premise is an observed or measured fact—such as side effects or outcomes—that supports or challenges a claim. \n",
      "- You must return a list of argument types in following JSON format: {\"argument_types\": [argument_types (str), argument_types (str), ..., argument_types (str)]}\n",
      "\n",
      "TASK 2: Argument Relations Identification and Classification\n",
      "- Identify relationships between arguments by determining which arguments support or attack other arguments.\n",
      "- For each related argument pair, classify the relationship as either: \"Support\"(S) or \"Attack\"(A).\n",
      "- You must return a list of triplets in the following JSON format: {\"argument_relations\": [(target_index (int), source_index (int), relation_type (str)), (target_index (int), source_index (int), relation_type (str)), ...]}\n",
      "- Note: Indices are 1-based, referring to the position in the provided arguments list.\n",
      "\n",
      "Example:\n",
      "\n",
      "### Output:\n",
      "{\"argument_types\": ['P', 'P', 'C', 'P', 'P', 'P', 'C', 'C', 'C', 'C']}\n",
      "{\"argument_relations\": [(1, 8, 'S'), (3, 9, 'S'), (4, 8, 'S'), (5, 8, 'S'), (7, 6, 'A'), (9, 8, 'A'), (10, 8, 'A')]}\n",
      "\n"
     ]
    }
   ],
   "source": [
    "print(data_file_test_gla[0]['instruction'])"
   ]
  },
  {
   "cell_type": "code",
   "execution_count": 160,
   "id": "6cacc09e",
   "metadata": {},
   "outputs": [
    {
     "name": "stdout",
     "output_type": "stream",
     "text": [
      "### Abstract text:\n",
      "\n",
      "\n",
      "In a randomized clinical trial, the authors compared the use of postoperative subconjunctival injections of 5-fluorouracil (5-FU) in 19 eyes with a single intraoperative application of subconjunctival mitomycin (MMC) at the filtering site in 20 eyes at high risk for failure of glaucoma filtering surgery.Six months after surgery, intraocular pressures averaged 10.9 +/- 5.3 mmHg (mean +/- standard deviation) in the MMC-treated eyes versus 14.2 +/- 5.5 mmHg in the 5-FU-treated eyes (P = 0.08) and were less than or equal to 12 mmHg in 60.0% of MMC-treated eyes and 21.1% of 5-FU-treated eyes (P = 0.03).Mitomycin-treated eyes were receiving an average of 0.3 +/- 0.5 medications for intraocular pressure control, and 5-FU-treated eyes were receiving an average of 1.1 +/- 1.1 medications (P = 0.01).Drug-induced corneal epithelial defects were seen in nine 5-FU-treated eyes and in no MMC-treated eyes (P = 0.0004).These results suggest that intraoperative MMC may be a viable alternative to postoperative 5-FU, with lower overall intraocular pressures, decreased dependence on postoperative ocular antihypertensive medications, and decreased corneal toxicity.\n",
      "### List of arguments in the abstract:\n",
      "1. Six months after surgery, intraocular pressures averaged 10.9 +/- 5.3 mmHg (mean +/- standard deviation) in the MMC-treated eyes versus 14.2 +/- 5.5 mmHg in the 5-FU-treated eyes (P = 0.08) and were less than or equal to 12 mmHg in 60.0% of MMC-treated eyes and 21.1% of 5-FU-treated eyes (P = 0.03).\n",
      "2. Drug-induced corneal epithelial defects were seen in nine 5-FU-treated eyes and in no MMC-treated eyes (P = 0.0004).\n",
      "3. These results suggest that intraoperative MMC may be a viable alternative to postoperative 5-FU, with lower overall intraocular pressures, decreased dependence on postoperative ocular antihypertensive medications, and decreased corneal toxicity.\n"
     ]
    }
   ],
   "source": [
    "print(data_file_test_gla[0]['input'])"
   ]
  },
  {
   "cell_type": "code",
   "execution_count": 161,
   "id": "07e86e46",
   "metadata": {},
   "outputs": [
    {
     "name": "stdout",
     "output_type": "stream",
     "text": [
      "### Output:\n",
      "{\"argument_types\": ['P', 'P', 'C']}\n",
      "{\"relation_types\": [(1, 3, 'S'), (2, 3, 'S')]}\n",
      "\n"
     ]
    }
   ],
   "source": [
    "print(data_file_test_gla[0]['output'])"
   ]
  },
  {
   "cell_type": "code",
   "execution_count": 162,
   "id": "325c4e6c-6e7e-4b75-b132-a9f17e7731e9",
   "metadata": {},
   "outputs": [],
   "source": [
    "# Error!\n",
    "# Error corrected!"
   ]
  },
  {
   "cell_type": "markdown",
   "id": "85c4871d-6b82-446b-8e77-aa2c0536e944",
   "metadata": {},
   "source": [
    "### test file (mix)"
   ]
  },
  {
   "cell_type": "code",
   "execution_count": 163,
   "id": "1b505b09-320e-40e1-b664-260a14b4bc53",
   "metadata": {},
   "outputs": [],
   "source": [
    "data_file_test_mix = []\n",
    "\n",
    "for _, row in mix_test_df.iterrows():    \n",
    "    \n",
    "    instruction = build_instruction()\n",
    "    question = build_input(row.abstract_text, row.acs_list, row.ac_types)\n",
    "    answer = build_answer(row.relations_list, row.ac_types)\n",
    "    \n",
    "    data_file_test_mix.append( formatting_fct(instruction, question, answer) )"
   ]
  },
  {
   "cell_type": "code",
   "execution_count": 164,
   "id": "bb4068fe-58aa-4d0b-b00d-f870321c13a7",
   "metadata": {},
   "outputs": [
    {
     "data": {
      "text/plain": [
       "100"
      ]
     },
     "execution_count": 164,
     "metadata": {},
     "output_type": "execute_result"
    }
   ],
   "source": [
    "len(data_file_test_mix)"
   ]
  },
  {
   "cell_type": "code",
   "execution_count": 165,
   "id": "6c056716-5cd4-4cec-9639-9c6387f6227b",
   "metadata": {
    "scrolled": true
   },
   "outputs": [
    {
     "name": "stdout",
     "output_type": "stream",
     "text": [
      "### You are an expert in Argument Mining tasked with analyzing biomedical abstracts. \n",
      "\n",
      "INPUT:\n",
      "You will receive:\n",
      "- A biomedical abstract text.\n",
      "- An enumerated list of identified arguments in the biomedical abstract.\n",
      "\n",
      "TASK 1: Argument Classification\n",
      "- Classify each argument in the biomedical abstract into one of the following categories: \"MajorClaim\"(M), \"Claim\"(C) or \"Premise\"(P).\n",
      "- MajorClaim (M): Major claims are broad conclusions supported by specific claims or general statements about treatments or diseases.\n",
      "- Claim (C): A claim is the author’s concluding statement, summarizing how the new treatment compares to existing treatments based on the study’s results.\n",
      "- Premise (P): A premise is an observed or measured fact—such as side effects or outcomes—that supports or challenges a claim. \n",
      "- You must return a list of argument types in following JSON format: {\"argument_types\": [argument_types (str), argument_types (str), ..., argument_types (str)]}\n",
      "\n",
      "TASK 2: Argument Relations Identification and Classification\n",
      "- Identify relationships between arguments by determining which arguments support or attack other arguments.\n",
      "- For each related argument pair, classify the relationship as either: \"Support\"(S) or \"Attack\"(A).\n",
      "- You must return a list of triplets in the following JSON format: {\"argument_relations\": [(target_index (int), source_index (int), relation_type (str)), (target_index (int), source_index (int), relation_type (str)), ...]}\n",
      "- Note: Indices are 1-based, referring to the position in the provided arguments list.\n",
      "\n",
      "Example:\n",
      "\n",
      "### Output:\n",
      "{\"argument_types\": ['P', 'P', 'C', 'P', 'P', 'P', 'C', 'C', 'C', 'C']}\n",
      "{\"argument_relations\": [(1, 8, 'S'), (3, 9, 'S'), (4, 8, 'S'), (5, 8, 'S'), (7, 6, 'A'), (9, 8, 'A'), (10, 8, 'A')]}\n",
      "\n"
     ]
    }
   ],
   "source": [
    "print(data_file_test_mix[0]['instruction'])"
   ]
  },
  {
   "cell_type": "code",
   "execution_count": 166,
   "id": "cb8f612f",
   "metadata": {},
   "outputs": [
    {
     "name": "stdout",
     "output_type": "stream",
     "text": [
      "### Abstract text:\n",
      " To evaluate the efficacy and safety of a slow-release formulation of cytarabine (DepoCyt; Chiron Corp, Emeryville, CA, and Skye Pharma, Inc, San Diego, CA) that maintains cytotoxic concentrations of cytarabine (ara-C) in the CSF of most patients for more than 14 days. Twenty-eight patients with lymphoma and a positive CSF cytology were randomized to receive DepoCyt 50 mg once every 2 weeks or free ara-C 50 mg twice a week for 1 month. Patients whose CSF cytology converted to negative and who did not have neurologic progression received an additional 3 months of consolidation therapy and then 4 months of maintenance therapy. All patients received dexamethasone 4 mg orally bid on days 1 through 5 of each 2-week cycle.The response rate was 71% for DepoCyt and 15% for ara-C on an intent-to-treat basis (P =.006).All of the patients on the DepoCyt arm but only 53% of those on the ara-C arm were able to complete the planned 1-month induction therapy regimen.Time to neurologic progression and survival trend in favor of DepoCyt (median, 78.5 v 42 days and 99.5 v 63 days, respectively; P >.05).DepoCyt treatment was associated with an improved mean change in Karnofsky performance score at the end of induction (P =.041).The major adverse events on both arms were headache and arachnoiditis, which were often caused by the underlying disease.DepoCyt injected once every 2 weeks produced a high response rate and a better quality of life as measured by Karnofsky score relative to that produced by free ara-C injected twice a week.\n",
      "### List of arguments in the abstract:\n",
      "1. The response rate was 71% for DepoCyt and 15% for ara-C on an intent-to-treat basis (P =.006).\n",
      "2. All of the patients on the DepoCyt arm but only 53% of those on the ara-C arm were able to complete the planned 1-month induction therapy regimen.\n",
      "3. Time to neurologic progression and survival trend in favor of DepoCyt (median, 78.5 v 42 days and 99.5 v 63 days, respectively; P >.05).\n",
      "4. DepoCyt treatment was associated with an improved mean change in Karnofsky performance score at the end of induction (P =.041).\n",
      "5. The major adverse events on both arms were headache and arachnoiditis, which were often caused by the underlying disease.\n",
      "6. DepoCyt injected once every 2 weeks produced a high response rate and a better quality of life as measured by Karnofsky score relative to that produced by free ara-C injected twice a week.\n"
     ]
    }
   ],
   "source": [
    "print(data_file_test_mix[0]['input'])"
   ]
  },
  {
   "cell_type": "code",
   "execution_count": 167,
   "id": "6dc8dff7",
   "metadata": {},
   "outputs": [
    {
     "name": "stdout",
     "output_type": "stream",
     "text": [
      "### Output:\n",
      "{\"argument_types\": ['P', 'P', 'P', 'P', 'P', 'C']}\n",
      "{\"relation_types\": [(1, 6, 'S'), (4, 6, 'S')]}\n",
      "\n"
     ]
    }
   ],
   "source": [
    "print(data_file_test_mix[0]['output'])"
   ]
  },
  {
   "cell_type": "code",
   "execution_count": 34,
   "id": "6cecfd14-caa4-4289-b7ea-773e28bcf108",
   "metadata": {},
   "outputs": [],
   "source": [
    "# Error!\n",
    "# Error corrected!"
   ]
  },
  {
   "cell_type": "markdown",
   "id": "13a8dad5-0a92-4460-a027-64e9d6ffba6a",
   "metadata": {},
   "source": [
    "## Save `jsonl` files"
   ]
  },
  {
   "cell_type": "code",
   "execution_count": 35,
   "id": "828863ac-a9f2-497a-8a1f-92b7685d1a48",
   "metadata": {
    "tags": []
   },
   "outputs": [],
   "source": [
    "file_path = os.path.join(os.getcwd(), \"../datasets/abstRCT_joint_train_neo.json\")\n",
    "\n",
    "with open(file_path, 'w') as file:\n",
    "    \n",
    "    json.dump(data_file_train, file)"
   ]
  },
  {
   "cell_type": "code",
   "execution_count": 36,
   "id": "7c0ed1c8-af63-42e5-831b-7a4b501241f7",
   "metadata": {
    "tags": []
   },
   "outputs": [],
   "source": [
    "file_path = os.path.join(os.getcwd(), \"../datasets/abstRCT_joint_test_neo.json\")\n",
    "\n",
    "with open(file_path, 'w') as file:\n",
    "    \n",
    "    json.dump(data_file_test_neo, file)"
   ]
  },
  {
   "cell_type": "code",
   "execution_count": 37,
   "id": "b6234952-fc1f-4f58-9a0a-25131e430049",
   "metadata": {
    "tags": []
   },
   "outputs": [],
   "source": [
    "file_path = os.path.join(os.getcwd(), \"../datasets/abstRCT_joint_test_gla.json\")\n",
    "\n",
    "with open(file_path, 'w') as file:\n",
    "    \n",
    "    json.dump(data_file_test_gla, file)"
   ]
  },
  {
   "cell_type": "code",
   "execution_count": 38,
   "id": "5b947b2f-2989-4d1b-a07d-87ff80aa8cb7",
   "metadata": {},
   "outputs": [],
   "source": [
    "file_path = os.path.join(os.getcwd(), \"../datasets/abstRCT_joint_test_mix.json\")\n",
    "\n",
    "with open(file_path, 'w') as file:\n",
    "    \n",
    "    json.dump(data_file_test_mix, file)"
   ]
  },
  {
   "cell_type": "code",
   "execution_count": null,
   "id": "70bf0fc1-0b75-4cdc-9d9c-4b4636c9e032",
   "metadata": {},
   "outputs": [],
   "source": []
  }
 ],
 "metadata": {
  "kernelspec": {
   "display_name": "Python (17M_env)",
   "language": "python",
   "name": "17m_env"
  }
 },
 "nbformat": 4,
 "nbformat_minor": 5
}
