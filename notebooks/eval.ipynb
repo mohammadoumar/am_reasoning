{
 "cells": [
  {
   "cell_type": "code",
   "execution_count": 1,
   "metadata": {},
   "outputs": [],
   "source": [
    "import re\n",
    "import json\n",
    "import pickle\n",
    "\n",
    "from sklearn.metrics import classification_report"
   ]
  },
  {
   "cell_type": "code",
   "execution_count": 2,
   "metadata": {},
   "outputs": [],
   "source": [
    "with open(\"/Utilisateurs/umushtaq/am_reasoning/saved_models/pe_pipeline_Meta-Llama-3.1-8B-Instruct-bnb-4bit/pe_pipeline_results_5.pickle\", 'rb') as f:\n",
    "    \n",
    "    results = pickle.load(f)"
   ]
  },
  {
   "cell_type": "code",
   "execution_count": 3,
   "metadata": {},
   "outputs": [],
   "source": [
    "grounds = results['grounds']\n",
    "predictions = results['predictions']"
   ]
  },
  {
   "cell_type": "markdown",
   "metadata": {},
   "source": [
    "### Process Grounds"
   ]
  },
  {
   "cell_type": "code",
   "execution_count": 4,
   "metadata": {},
   "outputs": [],
   "source": [
    "def process_grounds(grounds):\n",
    "    \n",
    "    arg_types = []\n",
    "    rel_pairs = []\n",
    "    rel_types = []\n",
    "    \n",
    "    for ground in grounds:\n",
    "        \n",
    "        args = ground.split(\"\\n\")[1].replace(\"'\", '\"')\n",
    "        arg_types.append(json.loads(args)[\"argument_types\"])\n",
    "        \n",
    "        rels = re.sub(r'\\((\\d+), (\\d+)\\)', r'[\\1, \\2]', ground.split(\"\\n\")[2])\n",
    "        related_args = [tuple(pair) for pair in json.loads(rels)[\"related_arguments\"]]\n",
    "        rel_pairs.append(related_args)\n",
    "        \n",
    "        \n",
    "        rel_t = ground.split(\"\\n\")[3].replace(\"'\", '\"')\n",
    "        rel_types.append(json.loads(rel_t)[\"relation_types\"])\n",
    "        \n",
    "    return arg_types, rel_pairs, rel_types"
   ]
  },
  {
   "cell_type": "code",
   "execution_count": 5,
   "metadata": {},
   "outputs": [],
   "source": [
    "grounds_acc, grounds_ari, grounds_arc  = process_grounds(grounds)"
   ]
  },
  {
   "cell_type": "markdown",
   "metadata": {},
   "source": [
    "### Process Predictions"
   ]
  },
  {
   "cell_type": "code",
   "execution_count": 6,
   "metadata": {},
   "outputs": [],
   "source": [
    "def process_predictions(predictions):\n",
    "    \n",
    "    arg_types = []\n",
    "    rel_pairs = []\n",
    "    rel_types = []\n",
    "    \n",
    "    for pred in predictions:\n",
    "        \n",
    "        args = pred.split(\"\\n\")[1].replace(\"'\", '\"')\n",
    "        arg_types.append(json.loads(args)[\"argument_types\"])\n",
    "        \n",
    "        rels = re.sub(r'\\((\\d+), (\\d+)\\)', r'[\\1, \\2]', pred.split(\"\\n\")[2])\n",
    "        related_args = [tuple(pair) for pair in json.loads(rels)[\"related_arguments\"]]\n",
    "        rel_pairs.append(related_args)\n",
    "        \n",
    "        \n",
    "        rel_t = pred.split(\"\\n\")[3].replace(\"'\", '\"')\n",
    "        rel_types.append(json.loads(rel_t)[\"relation_types\"])\n",
    "        \n",
    "    return arg_types, rel_pairs, rel_types"
   ]
  },
  {
   "cell_type": "code",
   "execution_count": 7,
   "metadata": {},
   "outputs": [],
   "source": [
    "predictions_acc, predictions_ari, predictions_arc  = process_predictions(predictions)"
   ]
  },
  {
   "cell_type": "markdown",
   "metadata": {},
   "source": [
    "### Compute ACC metrics"
   ]
  },
  {
   "cell_type": "code",
   "execution_count": 8,
   "metadata": {},
   "outputs": [
    {
     "data": {
      "text/plain": [
       "(80, 80)"
      ]
     },
     "execution_count": 8,
     "metadata": {},
     "output_type": "execute_result"
    }
   ],
   "source": [
    "len(grounds_acc), len(predictions_acc)"
   ]
  },
  {
   "cell_type": "code",
   "execution_count": 9,
   "metadata": {},
   "outputs": [],
   "source": [
    "grounds = [elem for sublist in grounds_acc for elem in sublist]\n",
    "predictions = [elem for sublist in predictions_acc for elem in sublist]"
   ]
  },
  {
   "cell_type": "code",
   "execution_count": 10,
   "metadata": {},
   "outputs": [
    {
     "name": "stdout",
     "output_type": "stream",
     "text": [
      "              precision    recall  f1-score   support\n",
      "\n",
      "           C      0.793     0.766     0.779       304\n",
      "           M      0.903     0.908     0.906       153\n",
      "           P      0.932     0.942     0.937       809\n",
      "\n",
      "    accuracy                          0.896      1266\n",
      "   macro avg      0.876     0.872     0.874      1266\n",
      "weighted avg      0.895     0.896     0.895      1266\n",
      "\n"
     ]
    }
   ],
   "source": [
    "print(classification_report(grounds, predictions, digits=3))"
   ]
  },
  {
   "cell_type": "markdown",
   "metadata": {},
   "source": [
    "### Compute ARI metrics"
   ]
  },
  {
   "cell_type": "code",
   "execution_count": 13,
   "metadata": {},
   "outputs": [
    {
     "data": {
      "text/plain": [
       "(80, 80)"
      ]
     },
     "execution_count": 13,
     "metadata": {},
     "output_type": "execute_result"
    }
   ],
   "source": [
    "len(grounds_ari), len(predictions_ari)"
   ]
  },
  {
   "cell_type": "code",
   "execution_count": 16,
   "metadata": {},
   "outputs": [],
   "source": [
    "nr_acs = [len(elem) for elem in grounds_acc]"
   ]
  },
  {
   "cell_type": "code",
   "execution_count": 19,
   "metadata": {},
   "outputs": [],
   "source": [
    "all_pairs_l = [[(i, j) for i in range(1, n+1) for j in range(1, n+1) if i != j] for n in nr_acs]"
   ]
  },
  {
   "cell_type": "code",
   "execution_count": 20,
   "metadata": {},
   "outputs": [
    {
     "data": {
      "text/plain": [
       "80"
      ]
     },
     "execution_count": 20,
     "metadata": {},
     "output_type": "execute_result"
    }
   ],
   "source": [
    "len(all_pairs_l)"
   ]
  },
  {
   "cell_type": "code",
   "execution_count": null,
   "metadata": {},
   "outputs": [],
   "source": [
    "def process_pairs(all_pairs_l, grounds_ari):\n",
    "    \n",
    "    results = []\n",
    "    \n",
    "    for all_pairs, reference_pairs in zip(all_pairs_l, grounds_ari):\n",
    "        \n",
    "        result = [\"R\" if pair in reference_pairs else \"NR\" for pair in all_pairs]\n",
    "        results.append(result)\n",
    "    \n",
    "    return results"
   ]
  },
  {
   "cell_type": "code",
   "execution_count": 39,
   "metadata": {},
   "outputs": [],
   "source": [
    "grounds_l = process_pairs(all_pairs_l, grounds_ari)"
   ]
  },
  {
   "cell_type": "code",
   "execution_count": 40,
   "metadata": {},
   "outputs": [
    {
     "data": {
      "text/plain": [
       "80"
      ]
     },
     "execution_count": 40,
     "metadata": {},
     "output_type": "execute_result"
    }
   ],
   "source": [
    "len(grounds_l)"
   ]
  },
  {
   "cell_type": "code",
   "execution_count": 41,
   "metadata": {},
   "outputs": [],
   "source": [
    "predictions_l = process_pairs(all_pairs_l, predictions_ari)"
   ]
  },
  {
   "cell_type": "code",
   "execution_count": 42,
   "metadata": {},
   "outputs": [
    {
     "data": {
      "text/plain": [
       "80"
      ]
     },
     "execution_count": 42,
     "metadata": {},
     "output_type": "execute_result"
    }
   ],
   "source": [
    "len(predictions_l)"
   ]
  },
  {
   "cell_type": "code",
   "execution_count": 43,
   "metadata": {},
   "outputs": [],
   "source": [
    "grounds = [elem for sublist in grounds_l for elem in sublist]\n",
    "predictions = [elem for sublist in predictions_l for elem in sublist]"
   ]
  },
  {
   "cell_type": "code",
   "execution_count": 44,
   "metadata": {},
   "outputs": [
    {
     "name": "stdout",
     "output_type": "stream",
     "text": [
      "              precision    recall  f1-score   support\n",
      "\n",
      "          NR      0.980     0.980     0.980     19386\n",
      "           R      0.514     0.507     0.511       806\n",
      "\n",
      "    accuracy                          0.961     20192\n",
      "   macro avg      0.747     0.744     0.745     20192\n",
      "weighted avg      0.961     0.961     0.961     20192\n",
      "\n"
     ]
    }
   ],
   "source": [
    "print(classification_report(grounds, predictions, digits=3))"
   ]
  },
  {
   "cell_type": "markdown",
   "metadata": {},
   "source": [
    "### Compute ARC metrics"
   ]
  },
  {
   "cell_type": "code",
   "execution_count": 105,
   "metadata": {},
   "outputs": [
    {
     "data": {
      "text/plain": [
       "[['S', 'S', 'S', 'S', 'S', 'S'],\n",
       " ['S', 'A', 'A', 'S', 'S', 'S'],\n",
       " ['S', 'S', 'S', 'S', 'S', 'S', 'S', 'S', 'S', 'S', 'S', 'S', 'S'],\n",
       " ['S', 'S', 'S', 'S', 'S', 'S', 'S', 'S', 'S', 'S', 'A', 'S'],\n",
       " ['S', 'S', 'S', 'S', 'S', 'S'],\n",
       " ['S', 'S', 'S', 'S', 'S', 'S', 'S', 'S', 'S', 'S'],\n",
       " ['S', 'S', 'S', 'S', 'S', 'S', 'S', 'S', 'S', 'S', 'S', 'S', 'S', 'S', 'S'],\n",
       " ['S', 'S', 'S', 'A', 'S', 'S'],\n",
       " ['S', 'S', 'S', 'A'],\n",
       " ['S', 'S', 'S', 'S', 'S', 'S', 'S'],\n",
       " ['S', 'S', 'S', 'S', 'S', 'S', 'S', 'S', 'S'],\n",
       " ['S', 'S', 'S', 'S'],\n",
       " ['S', 'S', 'S', 'S', 'S', 'S', 'S', 'S'],\n",
       " ['S', 'S', 'S', 'S', 'S', 'S', 'S', 'S'],\n",
       " ['S', 'S', 'S', 'S', 'S', 'S', 'S', 'S', 'A', 'A', 'S', 'S', 'S'],\n",
       " ['S', 'S', 'S', 'S', 'S', 'A'],\n",
       " ['S', 'S', 'S', 'S'],\n",
       " ['S', 'S', 'S', 'S', 'S', 'S', 'S', 'S', 'S', 'A'],\n",
       " ['S', 'S', 'S', 'S', 'S', 'S', 'S', 'S'],\n",
       " ['S', 'S', 'S', 'S', 'S', 'S', 'S', 'S', 'S', 'S', 'S'],\n",
       " ['S', 'S', 'A', 'S', 'S'],\n",
       " ['S', 'S', 'S', 'S', 'S', 'S', 'S', 'S', 'S', 'S', 'S', 'S', 'S'],\n",
       " ['S', 'S', 'S', 'S', 'S', 'S', 'A', 'A', 'S'],\n",
       " ['S', 'S', 'S', 'S', 'S', 'S', 'S'],\n",
       " ['S', 'S', 'S', 'S', 'S', 'S', 'S', 'S'],\n",
       " ['S', 'S', 'S', 'S', 'S', 'S', 'S', 'S', 'A', 'S'],\n",
       " ['S',\n",
       "  'S',\n",
       "  'S',\n",
       "  'S',\n",
       "  'S',\n",
       "  'S',\n",
       "  'S',\n",
       "  'S',\n",
       "  'S',\n",
       "  'S',\n",
       "  'S',\n",
       "  'S',\n",
       "  'S',\n",
       "  'S',\n",
       "  'S',\n",
       "  'S'],\n",
       " ['S',\n",
       "  'S',\n",
       "  'S',\n",
       "  'S',\n",
       "  'S',\n",
       "  'S',\n",
       "  'S',\n",
       "  'S',\n",
       "  'S',\n",
       "  'S',\n",
       "  'S',\n",
       "  'S',\n",
       "  'S',\n",
       "  'S',\n",
       "  'S',\n",
       "  'S',\n",
       "  'S',\n",
       "  'S'],\n",
       " ['S', 'S', 'S', 'S', 'S', 'S'],\n",
       " ['S', 'S', 'S', 'S', 'S', 'S', 'S', 'S', 'S', 'S'],\n",
       " ['S',\n",
       "  'S',\n",
       "  'S',\n",
       "  'S',\n",
       "  'S',\n",
       "  'A',\n",
       "  'S',\n",
       "  'S',\n",
       "  'S',\n",
       "  'S',\n",
       "  'S',\n",
       "  'S',\n",
       "  'S',\n",
       "  'S',\n",
       "  'S',\n",
       "  'S',\n",
       "  'S',\n",
       "  'S',\n",
       "  'A',\n",
       "  'A'],\n",
       " ['S',\n",
       "  'S',\n",
       "  'S',\n",
       "  'S',\n",
       "  'S',\n",
       "  'A',\n",
       "  'S',\n",
       "  'S',\n",
       "  'S',\n",
       "  'S',\n",
       "  'S',\n",
       "  'S',\n",
       "  'S',\n",
       "  'S',\n",
       "  'S',\n",
       "  'S',\n",
       "  'A'],\n",
       " ['S', 'S', 'S', 'S', 'S', 'S', 'S', 'S', 'S', 'S', 'S', 'S', 'S', 'S', 'S'],\n",
       " ['S', 'S', 'S', 'S', 'S', 'S', 'S', 'S', 'S', 'S', 'S', 'S'],\n",
       " ['S', 'S', 'S', 'S', 'S', 'S', 'S', 'S', 'S', 'S'],\n",
       " ['S', 'S', 'S', 'S', 'A'],\n",
       " ['S', 'S', 'S', 'S', 'S', 'S', 'S', 'S', 'S', 'S'],\n",
       " ['S', 'S', 'S', 'S', 'S', 'S', 'S'],\n",
       " ['S',\n",
       "  'S',\n",
       "  'S',\n",
       "  'S',\n",
       "  'S',\n",
       "  'S',\n",
       "  'S',\n",
       "  'S',\n",
       "  'S',\n",
       "  'S',\n",
       "  'S',\n",
       "  'S',\n",
       "  'S',\n",
       "  'S',\n",
       "  'S',\n",
       "  'S',\n",
       "  'S'],\n",
       " ['S', 'S', 'S', 'S', 'S', 'S', 'S', 'S', 'S', 'S', 'S', 'S', 'S'],\n",
       " ['S', 'S', 'S', 'S', 'S', 'S', 'S', 'A', 'S', 'A'],\n",
       " ['S', 'S', 'S', 'S', 'S', 'S', 'S', 'S', 'S', 'S', 'S', 'S', 'S'],\n",
       " ['S', 'S', 'S', 'S', 'S', 'S', 'S', 'S', 'S', 'S'],\n",
       " ['S', 'S', 'S', 'S', 'S', 'S', 'S', 'S', 'S', 'S', 'S', 'S', 'S', 'S'],\n",
       " ['S', 'S', 'S', 'S', 'S', 'S', 'S', 'S', 'S', 'S', 'S', 'S', 'S'],\n",
       " ['A', 'A', 'S', 'S', 'S', 'S', 'S', 'S'],\n",
       " ['S', 'S', 'S', 'S', 'S', 'S', 'S', 'S', 'A', 'S', 'S'],\n",
       " ['S', 'S', 'S', 'S', 'S', 'S', 'S', 'S', 'S', 'S', 'S', 'S', 'S'],\n",
       " ['S', 'S', 'S', 'S', 'S', 'S'],\n",
       " ['S', 'S', 'A', 'A', 'S', 'S', 'S', 'S'],\n",
       " ['S',\n",
       "  'S',\n",
       "  'S',\n",
       "  'S',\n",
       "  'S',\n",
       "  'S',\n",
       "  'S',\n",
       "  'S',\n",
       "  'S',\n",
       "  'S',\n",
       "  'S',\n",
       "  'S',\n",
       "  'S',\n",
       "  'S',\n",
       "  'S',\n",
       "  'S',\n",
       "  'S'],\n",
       " ['S', 'S', 'S', 'S', 'S', 'S', 'S', 'S', 'S', 'S'],\n",
       " ['S', 'S', 'S', 'S', 'S', 'S', 'S', 'S', 'S', 'S', 'S', 'A', 'S', 'S', 'A'],\n",
       " ['S', 'S', 'S', 'S', 'S', 'S', 'S', 'S', 'S', 'A'],\n",
       " ['S', 'S', 'S', 'S', 'S', 'S', 'S', 'S'],\n",
       " ['S', 'S', 'S', 'S', 'S', 'S', 'S', 'S', 'S', 'S', 'S', 'S'],\n",
       " ['S', 'A', 'S', 'S', 'S', 'S', 'S', 'S', 'S', 'S'],\n",
       " ['S', 'S', 'S', 'S', 'S', 'S', 'S', 'S'],\n",
       " ['S', 'S', 'S', 'S', 'S', 'S', 'S', 'S', 'S', 'S', 'S', 'S'],\n",
       " ['S', 'S', 'S', 'S', 'S', 'S', 'S'],\n",
       " ['S',\n",
       "  'S',\n",
       "  'S',\n",
       "  'S',\n",
       "  'S',\n",
       "  'S',\n",
       "  'S',\n",
       "  'S',\n",
       "  'S',\n",
       "  'S',\n",
       "  'S',\n",
       "  'S',\n",
       "  'S',\n",
       "  'S',\n",
       "  'S',\n",
       "  'S'],\n",
       " ['S', 'S', 'S', 'S', 'S', 'S', 'A', 'S', 'S', 'S'],\n",
       " ['S', 'S', 'S', 'S', 'S', 'S', 'S', 'S', 'S'],\n",
       " ['S', 'S', 'S', 'S', 'S', 'S', 'S', 'S', 'S', 'S', 'S', 'S', 'S', 'S', 'S'],\n",
       " ['S', 'S', 'S', 'S', 'S', 'S', 'S', 'S', 'S', 'S'],\n",
       " ['S', 'S', 'S', 'S', 'S', 'S', 'S', 'S'],\n",
       " ['S', 'S', 'S', 'S', 'S', 'A', 'S', 'S', 'S', 'S', 'S'],\n",
       " ['S', 'S', 'S', 'S', 'S', 'S', 'S', 'S', 'S', 'S', 'S', 'S', 'S', 'S'],\n",
       " ['S', 'S', 'S'],\n",
       " ['A', 'A', 'S', 'S', 'S', 'S', 'S', 'S', 'A', 'S'],\n",
       " ['S', 'S', 'S', 'S', 'A', 'A', 'S', 'A', 'A', 'S', 'S', 'S', 'S'],\n",
       " ['S', 'S', 'S', 'S', 'S', 'S', 'S'],\n",
       " ['S', 'S', 'S', 'S', 'A', 'A', 'A', 'S', 'S'],\n",
       " ['S', 'S', 'S', 'S', 'S', 'S', 'S', 'S', 'S', 'S'],\n",
       " ['S', 'S', 'S', 'S', 'S', 'S', 'S', 'S', 'S', 'S', 'S', 'S'],\n",
       " ['S',\n",
       "  'S',\n",
       "  'S',\n",
       "  'S',\n",
       "  'S',\n",
       "  'S',\n",
       "  'S',\n",
       "  'S',\n",
       "  'S',\n",
       "  'S',\n",
       "  'S',\n",
       "  'S',\n",
       "  'S',\n",
       "  'S',\n",
       "  'S',\n",
       "  'S'],\n",
       " ['S', 'S', 'S', 'S', 'S'],\n",
       " ['S', 'S', 'S', 'S', 'S'],\n",
       " ['S', 'S', 'S', 'S', 'S', 'S'],\n",
       " ['S', 'S', 'S', 'S', 'S', 'S', 'S', 'S', 'S', 'S', 'S']]"
      ]
     },
     "execution_count": 105,
     "metadata": {},
     "output_type": "execute_result"
    }
   ],
   "source": [
    "grounds_arc"
   ]
  },
  {
   "cell_type": "code",
   "execution_count": 106,
   "metadata": {},
   "outputs": [
    {
     "data": {
      "text/plain": [
       "[[(8, 4), (7, 4), (6, 4), (10, 11), (9, 5), (11, 5)],\n",
       " [(6, 3), (7, 4), (8, 7), (9, 4), (10, 5), (11, 5)],\n",
       " [(7, 4),\n",
       "  (8, 9),\n",
       "  (10, 9),\n",
       "  (9, 4),\n",
       "  (11, 5),\n",
       "  (12, 5),\n",
       "  (13, 6),\n",
       "  (14, 6),\n",
       "  (15, 6),\n",
       "  (16, 6),\n",
       "  (17, 16),\n",
       "  (18, 16),\n",
       "  (19, 16)],\n",
       " [(5, 3),\n",
       "  (4, 3),\n",
       "  (9, 6),\n",
       "  (11, 13),\n",
       "  (12, 13),\n",
       "  (10, 6),\n",
       "  (13, 6),\n",
       "  (14, 7),\n",
       "  (15, 7),\n",
       "  (18, 8),\n",
       "  (17, 16),\n",
       "  (16, 8)],\n",
       " [(6, 4), (7, 4), (8, 7), (9, 7), (10, 5), (11, 5)],\n",
       " [(5, 2),\n",
       "  (6, 2),\n",
       "  (7, 2),\n",
       "  (8, 2),\n",
       "  (9, 2),\n",
       "  (10, 2),\n",
       "  (11, 4),\n",
       "  (4, 3),\n",
       "  (12, 13),\n",
       "  (13, 3)],\n",
       " [(11, 10),\n",
       "  (12, 10),\n",
       "  (7, 4),\n",
       "  (8, 4),\n",
       "  (9, 4),\n",
       "  (10, 4),\n",
       "  (13, 5),\n",
       "  (14, 5),\n",
       "  (15, 5),\n",
       "  (16, 5),\n",
       "  (17, 6),\n",
       "  (18, 6),\n",
       "  (19, 6),\n",
       "  (20, 6),\n",
       "  (21, 6)],\n",
       " [(6, 4), (8, 9), (7, 9), (9, 5), (10, 5), (11, 5)],\n",
       " [(6, 3), (7, 4), (8, 4), (9, 5)],\n",
       " [(5, 4), (6, 4), (7, 4), (8, 4), (11, 9), (12, 13), (9, 13)],\n",
       " [(8, 3),\n",
       "  (9, 3),\n",
       "  (10, 3),\n",
       "  (11, 3),\n",
       "  (12, 13),\n",
       "  (13, 4),\n",
       "  (14, 4),\n",
       "  (6, 5),\n",
       "  (7, 5)],\n",
       " [(4, 3), (6, 7), (7, 5), (9, 10)],\n",
       " [(9, 3), (8, 3), (10, 4), (11, 4), (12, 4), (13, 4), (14, 5), (15, 6)],\n",
       " [(5, 3), (4, 3), (2, 3), (8, 7), (7, 6), (14, 13), (13, 12), (12, 11)],\n",
       " [(6, 3),\n",
       "  (7, 8),\n",
       "  (8, 4),\n",
       "  (9, 4),\n",
       "  (10, 5),\n",
       "  (11, 5),\n",
       "  (12, 5),\n",
       "  (13, 5),\n",
       "  (18, 17),\n",
       "  (17, 13),\n",
       "  (14, 13),\n",
       "  (15, 13),\n",
       "  (16, 13)],\n",
       " [(4, 3), (5, 3), (9, 8), (7, 6), (8, 6), (11, 10)],\n",
       " [(2, 1), (3, 1), (5, 4), (6, 4)],\n",
       " [(4, 5),\n",
       "  (7, 6),\n",
       "  (9, 8),\n",
       "  (5, 3),\n",
       "  (6, 3),\n",
       "  (8, 3),\n",
       "  (12, 10),\n",
       "  (11, 10),\n",
       "  (14, 15),\n",
       "  (15, 13)],\n",
       " [(5, 4), (2, 3), (3, 6), (4, 6), (11, 10), (12, 11), (9, 8), (8, 10)],\n",
       " [(3, 2),\n",
       "  (4, 2),\n",
       "  (6, 5),\n",
       "  (7, 5),\n",
       "  (10, 9),\n",
       "  (9, 8),\n",
       "  (11, 8),\n",
       "  (12, 8),\n",
       "  (13, 8),\n",
       "  (14, 13),\n",
       "  (15, 13)],\n",
       " [(4, 3), (5, 6), (7, 8), (9, 8), (10, 8)],\n",
       " [(7, 1),\n",
       "  (8, 1),\n",
       "  (3, 1),\n",
       "  (4, 3),\n",
       "  (5, 3),\n",
       "  (10, 9),\n",
       "  (11, 9),\n",
       "  (12, 9),\n",
       "  (13, 9),\n",
       "  (14, 17),\n",
       "  (15, 17),\n",
       "  (16, 17),\n",
       "  (6, 3)],\n",
       " [(8, 7),\n",
       "  (7, 5),\n",
       "  (5, 6),\n",
       "  (11, 10),\n",
       "  (10, 12),\n",
       "  (9, 12),\n",
       "  (16, 15),\n",
       "  (15, 13),\n",
       "  (14, 13)],\n",
       " [(4, 3), (5, 3), (6, 3), (7, 3), (8, 3), (11, 9), (10, 9)],\n",
       " [(4, 5), (3, 5), (9, 8), (7, 6), (8, 6), (10, 6), (13, 11), (12, 11)],\n",
       " [(7, 8),\n",
       "  (5, 4),\n",
       "  (6, 5),\n",
       "  (8, 4),\n",
       "  (10, 2),\n",
       "  (9, 2),\n",
       "  (12, 11),\n",
       "  (13, 14),\n",
       "  (14, 11),\n",
       "  (15, 14)],\n",
       " [(6, 7),\n",
       "  (9, 4),\n",
       "  (5, 7),\n",
       "  (8, 7),\n",
       "  (14, 13),\n",
       "  (10, 7),\n",
       "  (11, 7),\n",
       "  (12, 7),\n",
       "  (4, 7),\n",
       "  (18, 19),\n",
       "  (16, 15),\n",
       "  (17, 15),\n",
       "  (19, 15),\n",
       "  (20, 15),\n",
       "  (21, 15),\n",
       "  (13, 12)],\n",
       " [(7, 6),\n",
       "  (8, 6),\n",
       "  (9, 6),\n",
       "  (10, 6),\n",
       "  (12, 11),\n",
       "  (13, 11),\n",
       "  (14, 11),\n",
       "  (15, 11),\n",
       "  (16, 11),\n",
       "  (17, 11),\n",
       "  (18, 11),\n",
       "  (20, 19),\n",
       "  (21, 19),\n",
       "  (22, 19),\n",
       "  (23, 19),\n",
       "  (24, 19),\n",
       "  (25, 19),\n",
       "  (26, 19)],\n",
       " [(4, 3), (5, 6), (12, 6), (7, 6), (9, 8), (10, 11)],\n",
       " [(3, 2),\n",
       "  (4, 2),\n",
       "  (6, 5),\n",
       "  (7, 5),\n",
       "  (8, 5),\n",
       "  (10, 9),\n",
       "  (11, 9),\n",
       "  (12, 9),\n",
       "  (14, 15),\n",
       "  (15, 13)],\n",
       " [(15, 11),\n",
       "  (14, 11),\n",
       "  (13, 11),\n",
       "  (8, 11),\n",
       "  (12, 11),\n",
       "  (6, 5),\n",
       "  (17, 20),\n",
       "  (18, 20),\n",
       "  (16, 20),\n",
       "  (28, 20),\n",
       "  (19, 28),\n",
       "  (21, 9),\n",
       "  (22, 9),\n",
       "  (23, 22),\n",
       "  (24, 22),\n",
       "  (25, 22),\n",
       "  (26, 10),\n",
       "  (27, 10),\n",
       "  (4, 3),\n",
       "  (3, 2)],\n",
       " [(7, 6),\n",
       "  (4, 3),\n",
       "  (5, 3),\n",
       "  (6, 3),\n",
       "  (8, 3),\n",
       "  (10, 9),\n",
       "  (11, 9),\n",
       "  (12, 9),\n",
       "  (13, 9),\n",
       "  (18, 19),\n",
       "  (19, 17),\n",
       "  (17, 14),\n",
       "  (16, 14),\n",
       "  (15, 14),\n",
       "  (20, 14),\n",
       "  (21, 14),\n",
       "  (22, 14)],\n",
       " [(3, 5),\n",
       "  (9, 4),\n",
       "  (8, 4),\n",
       "  (7, 4),\n",
       "  (6, 4),\n",
       "  (12, 11),\n",
       "  (13, 11),\n",
       "  (14, 11),\n",
       "  (11, 10),\n",
       "  (18, 20),\n",
       "  (19, 20),\n",
       "  (20, 15),\n",
       "  (21, 15),\n",
       "  (16, 15),\n",
       "  (17, 15)],\n",
       " [(7, 6),\n",
       "  (9, 5),\n",
       "  (5, 6),\n",
       "  (8, 6),\n",
       "  (13, 10),\n",
       "  (12, 10),\n",
       "  (11, 10),\n",
       "  (15, 14),\n",
       "  (16, 14),\n",
       "  (17, 14),\n",
       "  (18, 14),\n",
       "  (19, 14)],\n",
       " [(12, 10),\n",
       "  (14, 13),\n",
       "  (10, 11),\n",
       "  (13, 11),\n",
       "  (6, 3),\n",
       "  (7, 3),\n",
       "  (5, 3),\n",
       "  (4, 3),\n",
       "  (8, 9),\n",
       "  (15, 9)],\n",
       " [(4, 3), (10, 9), (11, 9), (6, 5), (8, 7)],\n",
       " [(3, 2),\n",
       "  (4, 2),\n",
       "  (5, 2),\n",
       "  (7, 6),\n",
       "  (8, 6),\n",
       "  (9, 6),\n",
       "  (10, 6),\n",
       "  (11, 6),\n",
       "  (13, 12),\n",
       "  (14, 12)],\n",
       " [(6, 5), (7, 5), (8, 5), (9, 5), (11, 10), (12, 10), (13, 10)],\n",
       " [(11, 10),\n",
       "  (6, 16),\n",
       "  (8, 16),\n",
       "  (10, 16),\n",
       "  (12, 16),\n",
       "  (13, 16),\n",
       "  (14, 16),\n",
       "  (15, 16),\n",
       "  (9, 7),\n",
       "  (17, 7),\n",
       "  (18, 7),\n",
       "  (19, 7),\n",
       "  (20, 7),\n",
       "  (21, 7),\n",
       "  (2, 1),\n",
       "  (3, 1),\n",
       "  (4, 1)],\n",
       " [(5, 6),\n",
       "  (6, 4),\n",
       "  (7, 4),\n",
       "  (9, 8),\n",
       "  (10, 8),\n",
       "  (11, 8),\n",
       "  (12, 8),\n",
       "  (13, 8),\n",
       "  (15, 14),\n",
       "  (16, 14),\n",
       "  (17, 14),\n",
       "  (18, 14),\n",
       "  (19, 14)],\n",
       " [(3, 6),\n",
       "  (4, 6),\n",
       "  (5, 6),\n",
       "  (10, 7),\n",
       "  (11, 7),\n",
       "  (9, 7),\n",
       "  (8, 7),\n",
       "  (13, 12),\n",
       "  (14, 13),\n",
       "  (15, 12)],\n",
       " [(6, 7),\n",
       "  (7, 3),\n",
       "  (4, 3),\n",
       "  (5, 3),\n",
       "  (9, 8),\n",
       "  (10, 8),\n",
       "  (11, 8),\n",
       "  (12, 8),\n",
       "  (13, 8),\n",
       "  (15, 8),\n",
       "  (14, 8),\n",
       "  (17, 8),\n",
       "  (16, 15)],\n",
       " [(4, 3),\n",
       "  (5, 3),\n",
       "  (6, 4),\n",
       "  (7, 3),\n",
       "  (2, 3),\n",
       "  (9, 8),\n",
       "  (10, 11),\n",
       "  (12, 11),\n",
       "  (13, 12),\n",
       "  (14, 12)],\n",
       " [(9, 5),\n",
       "  (8, 5),\n",
       "  (7, 5),\n",
       "  (6, 5),\n",
       "  (4, 5),\n",
       "  (15, 10),\n",
       "  (14, 13),\n",
       "  (10, 13),\n",
       "  (11, 13),\n",
       "  (12, 13),\n",
       "  (19, 20),\n",
       "  (18, 20),\n",
       "  (17, 20),\n",
       "  (16, 20)],\n",
       " [(11, 10),\n",
       "  (6, 5),\n",
       "  (7, 5),\n",
       "  (8, 5),\n",
       "  (9, 5),\n",
       "  (10, 5),\n",
       "  (13, 12),\n",
       "  (14, 12),\n",
       "  (15, 12),\n",
       "  (16, 19),\n",
       "  (17, 19),\n",
       "  (18, 19),\n",
       "  (20, 19)],\n",
       " [(5, 4), (4, 7), (8, 7), (6, 7), (12, 10), (9, 10), (11, 10), (13, 10)],\n",
       " [(7, 9),\n",
       "  (8, 9),\n",
       "  (5, 9),\n",
       "  (3, 9),\n",
       "  (4, 9),\n",
       "  (6, 9),\n",
       "  (10, 11),\n",
       "  (14, 15),\n",
       "  (13, 14),\n",
       "  (11, 15),\n",
       "  (12, 15)],\n",
       " [(18, 17),\n",
       "  (15, 14),\n",
       "  (16, 14),\n",
       "  (17, 14),\n",
       "  (6, 10),\n",
       "  (10, 13),\n",
       "  (13, 12),\n",
       "  (11, 12),\n",
       "  (19, 5),\n",
       "  (7, 4),\n",
       "  (4, 5),\n",
       "  (8, 9),\n",
       "  (9, 5)],\n",
       " [(4, 2), (3, 2), (6, 5), (5, 9), (8, 7), (7, 9)],\n",
       " [(3, 2), (5, 4), (7, 6), (6, 4), (9, 8), (11, 12), (10, 12), (14, 13)],\n",
       " [(6, 5),\n",
       "  (4, 3),\n",
       "  (3, 2),\n",
       "  (5, 2),\n",
       "  (7, 2),\n",
       "  (10, 9),\n",
       "  (8, 9),\n",
       "  (11, 10),\n",
       "  (12, 8),\n",
       "  (13, 8),\n",
       "  (14, 8),\n",
       "  (16, 17),\n",
       "  (19, 18),\n",
       "  (20, 18),\n",
       "  (21, 18),\n",
       "  (18, 15),\n",
       "  (17, 15)],\n",
       " [(3, 2),\n",
       "  (5, 4),\n",
       "  (2, 4),\n",
       "  (9, 10),\n",
       "  (8, 10),\n",
       "  (6, 7),\n",
       "  (7, 10),\n",
       "  (11, 13),\n",
       "  (12, 13),\n",
       "  (15, 14)],\n",
       " [(10, 9),\n",
       "  (5, 6),\n",
       "  (8, 7),\n",
       "  (9, 7),\n",
       "  (6, 7),\n",
       "  (11, 7),\n",
       "  (14, 12),\n",
       "  (13, 12),\n",
       "  (15, 12),\n",
       "  (16, 12),\n",
       "  (18, 17),\n",
       "  (19, 17),\n",
       "  (20, 19),\n",
       "  (21, 22),\n",
       "  (22, 17)],\n",
       " [(5, 6),\n",
       "  (6, 4),\n",
       "  (3, 4),\n",
       "  (8, 7),\n",
       "  (9, 7),\n",
       "  (11, 10),\n",
       "  (12, 10),\n",
       "  (14, 13),\n",
       "  (13, 10),\n",
       "  (15, 11)],\n",
       " [(5, 8), (4, 8), (6, 8), (7, 8), (11, 10), (10, 9), (12, 9), (13, 9)],\n",
       " [(8, 4),\n",
       "  (5, 4),\n",
       "  (7, 4),\n",
       "  (17, 4),\n",
       "  (6, 4),\n",
       "  (11, 12),\n",
       "  (12, 9),\n",
       "  (14, 15),\n",
       "  (15, 9),\n",
       "  (16, 9),\n",
       "  (10, 9),\n",
       "  (13, 9)],\n",
       " [(5, 11),\n",
       "  (6, 11),\n",
       "  (7, 6),\n",
       "  (8, 7),\n",
       "  (9, 11),\n",
       "  (10, 11),\n",
       "  (13, 12),\n",
       "  (14, 12),\n",
       "  (15, 12),\n",
       "  (16, 12)],\n",
       " [(3, 4), (2, 4), (8, 5), (5, 6), (7, 6), (12, 10), (11, 10), (9, 10)],\n",
       " [(7, 5),\n",
       "  (6, 5),\n",
       "  (8, 4),\n",
       "  (5, 4),\n",
       "  (9, 4),\n",
       "  (14, 10),\n",
       "  (12, 10),\n",
       "  (13, 10),\n",
       "  (11, 10),\n",
       "  (16, 15),\n",
       "  (17, 15),\n",
       "  (18, 15)],\n",
       " [(6, 9), (7, 9), (8, 9), (11, 10), (12, 10), (13, 10), (14, 10)],\n",
       " [(11, 12),\n",
       "  (12, 8),\n",
       "  (10, 8),\n",
       "  (9, 8),\n",
       "  (15, 14),\n",
       "  (13, 16),\n",
       "  (17, 20),\n",
       "  (18, 20),\n",
       "  (14, 20),\n",
       "  (16, 20),\n",
       "  (21, 22),\n",
       "  (25, 24),\n",
       "  (22, 24),\n",
       "  (23, 24),\n",
       "  (6, 5),\n",
       "  (7, 5)],\n",
       " [(4, 6),\n",
       "  (5, 6),\n",
       "  (9, 8),\n",
       "  (7, 11),\n",
       "  (8, 11),\n",
       "  (10, 11),\n",
       "  (16, 12),\n",
       "  (13, 12),\n",
       "  (15, 14),\n",
       "  (14, 12)],\n",
       " [(3, 5),\n",
       "  (4, 5),\n",
       "  (8, 7),\n",
       "  (6, 9),\n",
       "  (7, 9),\n",
       "  (10, 14),\n",
       "  (11, 14),\n",
       "  (12, 14),\n",
       "  (13, 14)],\n",
       " [(13, 14),\n",
       "  (7, 6),\n",
       "  (8, 6),\n",
       "  (9, 6),\n",
       "  (6, 10),\n",
       "  (5, 10),\n",
       "  (16, 15),\n",
       "  (12, 15),\n",
       "  (11, 15),\n",
       "  (17, 15),\n",
       "  (14, 15),\n",
       "  (18, 22),\n",
       "  (19, 22),\n",
       "  (20, 22),\n",
       "  (21, 22)],\n",
       " [(7, 6),\n",
       "  (9, 8),\n",
       "  (3, 8),\n",
       "  (4, 8),\n",
       "  (5, 8),\n",
       "  (6, 8),\n",
       "  (11, 10),\n",
       "  (12, 10),\n",
       "  (13, 10),\n",
       "  (14, 10)],\n",
       " [(8, 7), (9, 7), (10, 7), (11, 7), (12, 7), (14, 13), (16, 15), (13, 15)],\n",
       " [(10, 3),\n",
       "  (9, 8),\n",
       "  (4, 3),\n",
       "  (5, 3),\n",
       "  (6, 3),\n",
       "  (7, 3),\n",
       "  (8, 7),\n",
       "  (12, 11),\n",
       "  (13, 11),\n",
       "  (11, 14),\n",
       "  (14, 15)],\n",
       " [(2, 7),\n",
       "  (3, 7),\n",
       "  (4, 7),\n",
       "  (6, 5),\n",
       "  (8, 5),\n",
       "  (5, 7),\n",
       "  (9, 12),\n",
       "  (10, 12),\n",
       "  (11, 12),\n",
       "  (13, 15),\n",
       "  (14, 15),\n",
       "  (19, 18),\n",
       "  (17, 18),\n",
       "  (20, 18)],\n",
       " [(6, 5), (4, 5), (3, 2)],\n",
       " [(3, 2),\n",
       "  (2, 4),\n",
       "  (9, 8),\n",
       "  (6, 7),\n",
       "  (5, 4),\n",
       "  (7, 4),\n",
       "  (8, 4),\n",
       "  (10, 4),\n",
       "  (13, 12),\n",
       "  (12, 11)],\n",
       " [(3, 9),\n",
       "  (4, 5),\n",
       "  (5, 9),\n",
       "  (6, 9),\n",
       "  (7, 6),\n",
       "  (8, 7),\n",
       "  (11, 10),\n",
       "  (12, 11),\n",
       "  (13, 12),\n",
       "  (14, 10),\n",
       "  (16, 17),\n",
       "  (17, 10),\n",
       "  (15, 10)],\n",
       " [(7, 4), (8, 4), (6, 5), (5, 4), (12, 9), (11, 9), (10, 9)],\n",
       " [(5, 6),\n",
       "  (3, 6),\n",
       "  (4, 6),\n",
       "  (7, 13),\n",
       "  (8, 13),\n",
       "  (9, 8),\n",
       "  (10, 8),\n",
       "  (11, 13),\n",
       "  (12, 13)],\n",
       " [(9, 8),\n",
       "  (8, 7),\n",
       "  (6, 5),\n",
       "  (7, 11),\n",
       "  (10, 7),\n",
       "  (5, 16),\n",
       "  (16, 11),\n",
       "  (12, 15),\n",
       "  (14, 13),\n",
       "  (13, 15)],\n",
       " [(4, 5),\n",
       "  (5, 6),\n",
       "  (3, 8),\n",
       "  (6, 8),\n",
       "  (7, 8),\n",
       "  (13, 12),\n",
       "  (12, 11),\n",
       "  (10, 9),\n",
       "  (9, 14),\n",
       "  (11, 14),\n",
       "  (16, 15),\n",
       "  (17, 15)],\n",
       " [(4, 22),\n",
       "  (22, 2),\n",
       "  (3, 2),\n",
       "  (5, 2),\n",
       "  (14, 15),\n",
       "  (12, 15),\n",
       "  (13, 15),\n",
       "  (21, 15),\n",
       "  (20, 15),\n",
       "  (19, 15),\n",
       "  (17, 18),\n",
       "  (7, 6),\n",
       "  (6, 9),\n",
       "  (8, 9),\n",
       "  (11, 9),\n",
       "  (10, 9)],\n",
       " [(5, 4), (6, 4), (8, 7), (7, 10), (9, 10)],\n",
       " [(4, 6), (5, 6), (7, 10), (8, 10), (9, 10)],\n",
       " [(4, 2), (3, 2), (6, 5), (7, 5), (8, 10), (9, 10)],\n",
       " [(3, 8),\n",
       "  (4, 8),\n",
       "  (5, 8),\n",
       "  (6, 8),\n",
       "  (7, 8),\n",
       "  (13, 12),\n",
       "  (14, 12),\n",
       "  (11, 10),\n",
       "  (9, 10),\n",
       "  (15, 10),\n",
       "  (16, 10)]]"
      ]
     },
     "execution_count": 106,
     "metadata": {},
     "output_type": "execute_result"
    }
   ],
   "source": [
    "grounds_ari"
   ]
  },
  {
   "cell_type": "code",
   "execution_count": 107,
   "metadata": {},
   "outputs": [],
   "source": [
    "aric_grounds = []\n",
    "    \n",
    "for rel_pairs, rel_types in zip(grounds_ari, grounds_arc):\n",
    "    \n",
    "    result = list(zip(rel_pairs, rel_types))\n",
    "    aric_grounds.append(result)"
   ]
  },
  {
   "cell_type": "code",
   "execution_count": 108,
   "metadata": {},
   "outputs": [
    {
     "data": {
      "text/plain": [
       "80"
      ]
     },
     "execution_count": 108,
     "metadata": {},
     "output_type": "execute_result"
    }
   ],
   "source": [
    "len(aric_grounds)"
   ]
  },
  {
   "cell_type": "code",
   "execution_count": 109,
   "metadata": {},
   "outputs": [
    {
     "data": {
      "text/plain": [
       "[((8, 4), 'S'),\n",
       " ((7, 4), 'S'),\n",
       " ((6, 4), 'S'),\n",
       " ((10, 11), 'S'),\n",
       " ((9, 5), 'S'),\n",
       " ((11, 5), 'S')]"
      ]
     },
     "execution_count": 109,
     "metadata": {},
     "output_type": "execute_result"
    }
   ],
   "source": [
    "aric_grounds[0]"
   ]
  },
  {
   "cell_type": "code",
   "execution_count": 110,
   "metadata": {},
   "outputs": [],
   "source": [
    "aric_predictions = []\n",
    "    \n",
    "for rel_pairs, rel_types in zip(predictions_ari, predictions_arc):\n",
    "        \n",
    "    result = list(zip(rel_pairs, rel_types))\n",
    "    aric_predictions.append(result)"
   ]
  },
  {
   "cell_type": "code",
   "execution_count": 111,
   "metadata": {},
   "outputs": [
    {
     "data": {
      "text/plain": [
       "80"
      ]
     },
     "execution_count": 111,
     "metadata": {},
     "output_type": "execute_result"
    }
   ],
   "source": [
    "len(aric_predictions)"
   ]
  },
  {
   "cell_type": "code",
   "execution_count": 112,
   "metadata": {},
   "outputs": [
    {
     "data": {
      "text/plain": [
       "[((7, 4), 'S'), ((8, 4), 'S'), ((10, 5), 'S'), ((11, 5), 'S'), ((6, 4), 'S')]"
      ]
     },
     "execution_count": 112,
     "metadata": {},
     "output_type": "execute_result"
    }
   ],
   "source": [
    "aric_predictions[0]"
   ]
  },
  {
   "cell_type": "code",
   "execution_count": 121,
   "metadata": {},
   "outputs": [],
   "source": [
    "correct_predictions = []\n",
    "correct_grounds = []\n",
    "\n",
    "for aric_ground, aric_pred in zip(aric_grounds, aric_predictions):\n",
    "    \n",
    "    common_elements = [item for item in aric_pred if item in aric_ground]\n",
    "            \n",
    "    correct_predictions.append(common_elements)\n",
    "    correct_grounds.append(aric_ground)"
   ]
  },
  {
   "cell_type": "code",
   "execution_count": 122,
   "metadata": {},
   "outputs": [
    {
     "data": {
      "text/plain": [
       "(80, 80)"
      ]
     },
     "execution_count": 122,
     "metadata": {},
     "output_type": "execute_result"
    }
   ],
   "source": [
    "len(correct_predictions), len(correct_grounds)"
   ]
  },
  {
   "cell_type": "code",
   "execution_count": 123,
   "metadata": {},
   "outputs": [
    {
     "data": {
      "text/plain": [
       "[((7, 4), 'S'), ((8, 4), 'S'), ((11, 5), 'S'), ((6, 4), 'S')]"
      ]
     },
     "execution_count": 123,
     "metadata": {},
     "output_type": "execute_result"
    }
   ],
   "source": [
    "correct_predictions[0]"
   ]
  },
  {
   "cell_type": "code",
   "execution_count": 124,
   "metadata": {},
   "outputs": [
    {
     "data": {
      "text/plain": [
       "[((8, 4), 'S'),\n",
       " ((7, 4), 'S'),\n",
       " ((6, 4), 'S'),\n",
       " ((10, 11), 'S'),\n",
       " ((9, 5), 'S'),\n",
       " ((11, 5), 'S')]"
      ]
     },
     "execution_count": 124,
     "metadata": {},
     "output_type": "execute_result"
    }
   ],
   "source": [
    "correct_grounds[0]"
   ]
  },
  {
   "cell_type": "code",
   "execution_count": null,
   "metadata": {},
   "outputs": [],
   "source": []
  },
  {
   "cell_type": "code",
   "execution_count": 128,
   "metadata": {},
   "outputs": [],
   "source": [
    "ground_types = [[item[1] for item in sublist] for sublist in correct_grounds]"
   ]
  },
  {
   "cell_type": "code",
   "execution_count": 130,
   "metadata": {},
   "outputs": [
    {
     "data": {
      "text/plain": [
       "80"
      ]
     },
     "execution_count": 130,
     "metadata": {},
     "output_type": "execute_result"
    }
   ],
   "source": [
    "len(ground_types)"
   ]
  },
  {
   "cell_type": "code",
   "execution_count": 131,
   "metadata": {},
   "outputs": [],
   "source": [
    "prediction_types = [[item[1] for item in sublist] for sublist in correct_predictions]"
   ]
  },
  {
   "cell_type": "code",
   "execution_count": 132,
   "metadata": {},
   "outputs": [
    {
     "data": {
      "text/plain": [
       "80"
      ]
     },
     "execution_count": 132,
     "metadata": {},
     "output_type": "execute_result"
    }
   ],
   "source": [
    "len(prediction_types)"
   ]
  },
  {
   "cell_type": "code",
   "execution_count": 139,
   "metadata": {},
   "outputs": [
    {
     "name": "stdout",
     "output_type": "stream",
     "text": [
      "0 6 4\n",
      "1 6 4\n",
      "2 13 8\n",
      "3 12 2\n",
      "4 6 3\n",
      "5 10 4\n",
      "6 15 13\n",
      "7 6 3\n",
      "9 7 5\n",
      "10 9 8\n",
      "11 4 1\n",
      "12 8 7\n",
      "13 8 2\n",
      "14 13 2\n",
      "15 6 5\n",
      "16 4 2\n",
      "17 10 5\n",
      "18 8 5\n",
      "19 11 7\n",
      "20 5 1\n",
      "21 13 3\n",
      "22 9 3\n",
      "23 7 6\n",
      "24 8 5\n",
      "25 10 2\n",
      "26 16 1\n",
      "28 6 2\n",
      "29 10 4\n",
      "30 20 5\n",
      "31 17 13\n",
      "32 15 0\n",
      "33 12 6\n",
      "34 10 6\n",
      "35 5 4\n",
      "36 10 0\n",
      "38 17 8\n",
      "39 13 10\n",
      "40 10 5\n",
      "41 13 11\n",
      "42 10 2\n",
      "43 14 7\n",
      "44 13 8\n",
      "45 8 5\n",
      "46 11 5\n",
      "47 13 5\n",
      "48 6 4\n",
      "49 8 4\n",
      "50 17 5\n",
      "51 10 6\n",
      "52 15 11\n",
      "53 10 5\n",
      "54 8 1\n",
      "55 12 10\n",
      "56 10 0\n",
      "57 8 1\n",
      "58 12 10\n",
      "59 7 5\n",
      "60 16 2\n",
      "61 10 5\n",
      "62 9 8\n",
      "63 15 5\n",
      "64 10 2\n",
      "65 8 0\n",
      "66 11 5\n",
      "67 14 9\n",
      "69 10 5\n",
      "70 13 0\n",
      "71 7 6\n",
      "72 9 0\n",
      "73 10 4\n",
      "74 12 8\n",
      "75 16 8\n",
      "76 5 1\n",
      "79 11 6\n"
     ]
    }
   ],
   "source": [
    "bad_idx = []\n",
    "\n",
    "for idx, (i,j) in enumerate(zip(ground_types, prediction_types)):\n",
    "    \n",
    "    if len(i) != len(j):\n",
    "        print(idx, len(i), len(j))\n",
    "        bad_idx.append(idx)"
   ]
  },
  {
   "cell_type": "code",
   "execution_count": 140,
   "metadata": {},
   "outputs": [
    {
     "data": {
      "text/plain": [
       "74"
      ]
     },
     "execution_count": 140,
     "metadata": {},
     "output_type": "execute_result"
    }
   ],
   "source": [
    "len(bad_idx)"
   ]
  },
  {
   "cell_type": "code",
   "execution_count": null,
   "metadata": {},
   "outputs": [],
   "source": [
    "### Maybe it makes no sense to do ari and arc separately."
   ]
  }
 ],
 "metadata": {
  "kernelspec": {
   "display_name": "Python 3 (ipykernel)",
   "language": "python",
   "name": "python3"
  },
  "language_info": {
   "codemirror_mode": {
    "name": "ipython",
    "version": 3
   },
   "file_extension": ".py",
   "mimetype": "text/x-python",
   "name": "python",
   "nbconvert_exporter": "python",
   "pygments_lexer": "ipython3",
   "version": "3.11.11"
  }
 },
 "nbformat": 4,
 "nbformat_minor": 2
}
