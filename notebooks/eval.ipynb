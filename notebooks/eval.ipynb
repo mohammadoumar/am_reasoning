{
 "cells": [
  {
   "cell_type": "code",
   "execution_count": 83,
   "metadata": {},
   "outputs": [],
   "source": [
    "import re\n",
    "import json\n",
    "import pickle\n",
    "\n",
    "from sklearn.metrics import classification_report"
   ]
  },
  {
   "cell_type": "code",
   "execution_count": null,
   "metadata": {},
   "outputs": [],
   "source": [
    "with open(\"/Utilisateurs/umushtaq/emotion_analysis_comics/comics_FT/saved_models/comics35_pg_llama-3-8b-Instruct-bnb-4bit/comics35_results_3.pickle\", 'rb') as f:\n",
    "    \n",
    "    results = pickle.load(f)"
   ]
  },
  {
   "cell_type": "code",
   "execution_count": null,
   "metadata": {},
   "outputs": [],
   "source": [
    "grounds = results['grounds']\n",
    "predictions = results['predictions']"
   ]
  },
  {
   "cell_type": "markdown",
   "metadata": {},
   "source": [
    "### Process Grounds"
   ]
  },
  {
   "cell_type": "code",
   "execution_count": 84,
   "metadata": {},
   "outputs": [],
   "source": [
    "grounds = ['''### Output:\n",
    "{\"argument_types\": ['M', 'M', 'C', 'C', 'C', 'P', 'P', 'P', 'P', 'P', 'P']}\n",
    "{\"related_arguments\": [(8, 4), (7, 4), (6, 4), (10, 11), (9, 5), (11, 5)]}\n",
    "{\"relation_types\": ['S', 'S', 'S', 'S', 'S', 'S']}\n",
    "''']"
   ]
  },
  {
   "cell_type": "code",
   "execution_count": 101,
   "metadata": {},
   "outputs": [],
   "source": [
    "def process_grounds(grounds):\n",
    "    \n",
    "    arg_types = []\n",
    "    rel_pairs = []\n",
    "    rel_types = []\n",
    "    \n",
    "    for ground in grounds:\n",
    "        \n",
    "        args = ground.split(\"\\n\")[1].replace(\"'\", '\"')\n",
    "        arg_types.append(json.loads(args)[\"argument_types\"])\n",
    "        \n",
    "        rels = re.sub(r'\\((\\d+), (\\d+)\\)', r'[\\1, \\2]', ground.split(\"\\n\")[2])\n",
    "        related_args = [tuple(pair) for pair in json.loads(rels)[\"related_arguments\"]]\n",
    "        rel_pairs.append(related_args)\n",
    "        \n",
    "        \n",
    "        rel_t = ground.split(\"\\n\")[3].replace(\"'\", '\"')\n",
    "        rel_types.append(json.loads(rel_t)[\"relation_types\"])\n",
    "        \n",
    "    return arg_types, rel_pairs, rel_types"
   ]
  },
  {
   "cell_type": "code",
   "execution_count": null,
   "metadata": {},
   "outputs": [],
   "source": [
    "grounds_acc, grounds_ari, grounds_arc  = process_grounds(grounds)"
   ]
  },
  {
   "cell_type": "markdown",
   "metadata": {},
   "source": [
    "### Process Predictions"
   ]
  },
  {
   "cell_type": "code",
   "execution_count": null,
   "metadata": {},
   "outputs": [],
   "source": [
    "def process_predictions(predictions):\n",
    "    \n",
    "    arg_types = []\n",
    "    rel_pairs = []\n",
    "    rel_types = []\n",
    "    \n",
    "    for pred in predictions:\n",
    "        \n",
    "        args = pred.split(\"\\n\")[1].replace(\"'\", '\"')\n",
    "        arg_types.append(json.loads(args)[\"argument_types\"])\n",
    "        \n",
    "        rels = re.sub(r'\\((\\d+), (\\d+)\\)', r'[\\1, \\2]', pred.split(\"\\n\")[2])\n",
    "        related_args = [tuple(pair) for pair in json.loads(rels)[\"related_arguments\"]]\n",
    "        rel_pairs.append(related_args)\n",
    "        \n",
    "        \n",
    "        rel_t = pred.split(\"\\n\")[3].replace(\"'\", '\"')\n",
    "        rel_types.append(json.loads(rel_t)[\"relation_types\"])\n",
    "        \n",
    "    return arg_types, rel_pairs, rel_types"
   ]
  },
  {
   "cell_type": "code",
   "execution_count": null,
   "metadata": {},
   "outputs": [],
   "source": [
    "predictions_acc, predictions_ari, predictions_arc  = process_predictions(predictions)"
   ]
  },
  {
   "cell_type": "markdown",
   "metadata": {},
   "source": [
    "### Compute ACC metrics"
   ]
  },
  {
   "cell_type": "code",
   "execution_count": null,
   "metadata": {},
   "outputs": [],
   "source": [
    "len(grounds_acc), len(predictions_acc)"
   ]
  },
  {
   "cell_type": "code",
   "execution_count": null,
   "metadata": {},
   "outputs": [],
   "source": [
    "grounds = [elem for sublist in grounds_acc for elem in sublist]\n",
    "predictions = [elem for sublist in predictions_acc for elem in sublist]"
   ]
  },
  {
   "cell_type": "code",
   "execution_count": null,
   "metadata": {},
   "outputs": [],
   "source": [
    "print(classification_report(grounds, predictions, digits=3))"
   ]
  },
  {
   "cell_type": "markdown",
   "metadata": {},
   "source": [
    "### Compute ARI metrics"
   ]
  },
  {
   "cell_type": "code",
   "execution_count": null,
   "metadata": {},
   "outputs": [],
   "source": []
  }
 ],
 "metadata": {
  "kernelspec": {
   "display_name": "Python 3 (ipykernel)",
   "language": "python",
   "name": "python3"
  },
  "language_info": {
   "codemirror_mode": {
    "name": "ipython",
    "version": 3
   },
   "file_extension": ".py",
   "mimetype": "text/x-python",
   "name": "python",
   "nbconvert_exporter": "python",
   "pygments_lexer": "ipython3",
   "version": "3.11.11"
  }
 },
 "nbformat": 4,
 "nbformat_minor": 2
}
