{
 "cells": [
  {
   "cell_type": "markdown",
   "id": "58242aea-b433-487d-9484-4e06cec9d92d",
   "metadata": {},
   "source": [
    "# Build PE dataset"
   ]
  },
  {
   "cell_type": "markdown",
   "id": "1e20ba6c-2742-4323-afbe-49bf455a9214",
   "metadata": {},
   "source": [
    "## Librairies"
   ]
  },
  {
   "cell_type": "code",
   "execution_count": 1,
   "id": "69d073e1-3f59-4032-9f4e-79db1e4e473c",
   "metadata": {},
   "outputs": [],
   "source": [
    "import os\n",
    "import pandas as pd\n",
    "import numpy as np"
   ]
  },
  {
   "cell_type": "markdown",
   "id": "07dc1f5b-ee98-46bc-b82d-9421762f9269",
   "metadata": {},
   "source": [
    "## Load data"
   ]
  },
  {
   "cell_type": "code",
   "execution_count": 2,
   "id": "390b1a08-51a0-40c5-90b0-ef5ce6464dea",
   "metadata": {},
   "outputs": [],
   "source": [
    "df = pd.read_csv(\"/Utilisateurs/umushtaq/am_reasoning/data_files/pe_dataset_final.csv\", index_col=0)"
   ]
  },
  {
   "cell_type": "code",
   "execution_count": 3,
   "id": "1fdf8140-b1c0-47c6-af2b-75eb006a5eb3",
   "metadata": {},
   "outputs": [
    {
     "data": {
      "text/html": [
       "<div>\n",
       "<style scoped>\n",
       "    .dataframe tbody tr th:only-of-type {\n",
       "        vertical-align: middle;\n",
       "    }\n",
       "\n",
       "    .dataframe tbody tr th {\n",
       "        vertical-align: top;\n",
       "    }\n",
       "\n",
       "    .dataframe thead th {\n",
       "        text-align: right;\n",
       "    }\n",
       "</style>\n",
       "<table border=\"1\" class=\"dataframe\">\n",
       "  <thead>\n",
       "    <tr style=\"text-align: right;\">\n",
       "      <th></th>\n",
       "      <th>ann_file_name</th>\n",
       "      <th>argument_ids</th>\n",
       "      <th>argument_types</th>\n",
       "      <th>arg_start_bounds</th>\n",
       "      <th>arg_end_bounds</th>\n",
       "      <th>argument_components</th>\n",
       "      <th>source_args</th>\n",
       "      <th>target_args</th>\n",
       "      <th>relation_types</th>\n",
       "      <th>stance_types</th>\n",
       "      <th>essay_title</th>\n",
       "      <th>essay_text</th>\n",
       "      <th>source_acs</th>\n",
       "      <th>target_acs</th>\n",
       "      <th>relation_pairs</th>\n",
       "      <th>stance_pairs</th>\n",
       "      <th>split</th>\n",
       "    </tr>\n",
       "  </thead>\n",
       "  <tbody>\n",
       "    <tr>\n",
       "      <th>0</th>\n",
       "      <td>essay001.ann</td>\n",
       "      <td>['T1', 'T2', 'T3', 'T4', 'T5', 'T6', 'T7', 'T8...</td>\n",
       "      <td>['MajorClaim', 'MajorClaim', 'Claim', 'Premise...</td>\n",
       "      <td>['503', '2154', '591', '716', '853', '1088', '...</td>\n",
       "      <td>['575', '2231', '714', '851', '1086', '1191', ...</td>\n",
       "      <td>['we should attach more importance to cooperat...</td>\n",
       "      <td>['T4', 'T5', 'T6', 'T10', 'T9', 'T8']</td>\n",
       "      <td>['T3', 'T3', 'T3', 'T11', 'T11', 'T7']</td>\n",
       "      <td>['supports', 'supports', 'supports', 'supports...</td>\n",
       "      <td>['For', 'Against', 'For']</td>\n",
       "      <td>Should students be taught to compete or to coo...</td>\n",
       "      <td>It is always said that competition can effecti...</td>\n",
       "      <td>['What we acquired from team work is not only ...</td>\n",
       "      <td>['through cooperation, children can learn abou...</td>\n",
       "      <td>[(4, 3, 'supports'), (5, 3, 'supports'), (6, 3...</td>\n",
       "      <td>[(3, 1, 'For'), (3, 2, 'For'), (7, 1, 'Against...</td>\n",
       "      <td>TRAIN</td>\n",
       "    </tr>\n",
       "    <tr>\n",
       "      <th>1</th>\n",
       "      <td>essay002.ann</td>\n",
       "      <td>['T1', 'T2', 'T3', 'T4', 'T5', 'T6', 'T7', 'T8...</td>\n",
       "      <td>['MajorClaim', 'MajorClaim', 'Premise', 'Claim...</td>\n",
       "      <td>['391', '1936', '500', '1089', '626', '841', '...</td>\n",
       "      <td>['489', '2077', '624', '1156', '839', '946', '...</td>\n",
       "      <td>['they are able to sustain their cultural iden...</td>\n",
       "      <td>['T9', 'T11', 'T12', 'T13', 'T5', 'T6', 'T7', ...</td>\n",
       "      <td>['T8', 'T10', 'T10', 'T10', 'T4', 'T4', 'T4', ...</td>\n",
       "      <td>['supports', 'supports', 'supports', 'supports...</td>\n",
       "      <td>['For', 'For', 'Against']</td>\n",
       "      <td>More people are migrating to other countries t...</td>\n",
       "      <td>The last 50 years have seen an increasing numb...</td>\n",
       "      <td>['they need a connection back to their country...</td>\n",
       "      <td>['it is crucial to keep one’s identity', 'keep...</td>\n",
       "      <td>[(9, 8, 'supports'), (11, 10, 'supports'), (12...</td>\n",
       "      <td>[(4, 1, 'For'), (4, 2, 'For'), (10, 1, 'For'),...</td>\n",
       "      <td>TRAIN</td>\n",
       "    </tr>\n",
       "    <tr>\n",
       "      <th>2</th>\n",
       "      <td>essay003.ann</td>\n",
       "      <td>['T1', 'T2', 'T3', 'T4', 'T5', 'T6', 'T7', 'T8...</td>\n",
       "      <td>['MajorClaim', 'MajorClaim', 'Claim', 'Premise...</td>\n",
       "      <td>['352', '1568', '955', '487', '615', '786', '1...</td>\n",
       "      <td>['475', '1701', '1012', '613', '784', '943', '...</td>\n",
       "      <td>['it has contributed to the economic developme...</td>\n",
       "      <td>['T10', 'T9', 'T6', 'T5', 'T4', 'T7']</td>\n",
       "      <td>['T8', 'T8', 'T3', 'T3', 'T3', 'T8']</td>\n",
       "      <td>['supports', 'supports', 'supports', 'supports...</td>\n",
       "      <td>['For', 'For']</td>\n",
       "      <td>International tourism is now more common than ...</td>\n",
       "      <td>The last decade has seen an increasing number ...</td>\n",
       "      <td>['Without this support and profit from tourism...</td>\n",
       "      <td>['tourism has survived many non-tangible cultu...</td>\n",
       "      <td>[(10, 8, 'supports'), (9, 8, 'supports'), (6, ...</td>\n",
       "      <td>[(3, 1, 'For'), (3, 2, 'For'), (8, 1, 'For'), ...</td>\n",
       "      <td>TRAIN</td>\n",
       "    </tr>\n",
       "    <tr>\n",
       "      <th>3</th>\n",
       "      <td>essay004.ann</td>\n",
       "      <td>['T1', 'T2', 'T3', 'T4', 'T5', 'T6', 'T7', 'T8...</td>\n",
       "      <td>['MajorClaim', 'MajorClaim', 'Claim', 'Claim',...</td>\n",
       "      <td>['262', '1663', '179', '953', '1578', '417', '...</td>\n",
       "      <td>['376', '1758', '239', '1031', '1624', '530', ...</td>\n",
       "      <td>['this industry has affected the cultural attr...</td>\n",
       "      <td>['T8', 'T7', 'T6', 'T10', 'T9', 'T11']</td>\n",
       "      <td>['T4', 'T4', 'T4', 'T11', 'T5', 'T5']</td>\n",
       "      <td>['supports', 'supports', 'supports', 'supports...</td>\n",
       "      <td>['Against', 'For', 'For']</td>\n",
       "      <td>International tourism is now more common than ...</td>\n",
       "      <td>The last 50 years have seen a significant incr...</td>\n",
       "      <td>['This was due to the lack of adequate control...</td>\n",
       "      <td>['international tourism can create negative im...</td>\n",
       "      <td>[(8, 4, 'supports'), (7, 4, 'supports'), (6, 4...</td>\n",
       "      <td>[(3, 1, 'Against'), (3, 2, 'Against'), (4, 1, ...</td>\n",
       "      <td>TEST</td>\n",
       "    </tr>\n",
       "    <tr>\n",
       "      <th>4</th>\n",
       "      <td>essay005.ann</td>\n",
       "      <td>['T1', 'T2', 'T3', 'T4', 'T5', 'T6', 'T7', 'T8...</td>\n",
       "      <td>['MajorClaim', 'MajorClaim', 'Claim', 'Claim',...</td>\n",
       "      <td>['286', '1535', '388', '775', '1330', '566', '...</td>\n",
       "      <td>['359', '1652', '564', '883', '1425', '765', '...</td>\n",
       "      <td>['one who studies overseas will gain many skil...</td>\n",
       "      <td>['T6', 'T7', 'T8', 'T9', 'T10', 'T11']</td>\n",
       "      <td>['T3', 'T4', 'T7', 'T4', 'T5', 'T5']</td>\n",
       "      <td>['supports', 'attacks', 'attacks', 'supports',...</td>\n",
       "      <td>['For', 'For', 'For', 'Against']</td>\n",
       "      <td>Living and studying overseas</td>\n",
       "      <td>It is every student's desire to study at a goo...</td>\n",
       "      <td>['Compared to the peers studying in the home c...</td>\n",
       "      <td>['studying at an overseas university gives ind...</td>\n",
       "      <td>[(6, 3, 'supports'), (7, 4, 'attacks'), (8, 7,...</td>\n",
       "      <td>[(3, 1, 'For'), (3, 2, 'For'), (4, 1, 'For'), ...</td>\n",
       "      <td>TEST</td>\n",
       "    </tr>\n",
       "    <tr>\n",
       "      <th>...</th>\n",
       "      <td>...</td>\n",
       "      <td>...</td>\n",
       "      <td>...</td>\n",
       "      <td>...</td>\n",
       "      <td>...</td>\n",
       "      <td>...</td>\n",
       "      <td>...</td>\n",
       "      <td>...</td>\n",
       "      <td>...</td>\n",
       "      <td>...</td>\n",
       "      <td>...</td>\n",
       "      <td>...</td>\n",
       "      <td>...</td>\n",
       "      <td>...</td>\n",
       "      <td>...</td>\n",
       "      <td>...</td>\n",
       "      <td>...</td>\n",
       "    </tr>\n",
       "    <tr>\n",
       "      <th>397</th>\n",
       "      <td>essay398.ann</td>\n",
       "      <td>['T1', 'T2', 'T3', 'T4', 'T5', 'T6', 'T7', 'T8...</td>\n",
       "      <td>['Claim', 'MajorClaim', 'Premise', 'Premise', ...</td>\n",
       "      <td>['254', '1751', '409', '557', '647', '778', '9...</td>\n",
       "      <td>['318', '1951', '541', '645', '767', '897', '1...</td>\n",
       "      <td>['many different characters exist between male...</td>\n",
       "      <td>['T3', 'T4', 'T5', 'T6', 'T7', 'T13', 'T14', '...</td>\n",
       "      <td>['T8', 'T8', 'T8', 'T8', 'T8', 'T12', 'T12', '...</td>\n",
       "      <td>['supports', 'supports', 'supports', 'supports...</td>\n",
       "      <td>['For', 'For', 'For', 'For']</td>\n",
       "      <td>We can not forcedly put the same numbers of ma...</td>\n",
       "      <td>There is a view that universities and colleges...</td>\n",
       "      <td>['Most of male students tend to use their left...</td>\n",
       "      <td>['boys and girls have the diversity in psychol...</td>\n",
       "      <td>[(3, 8, 'supports'), (4, 8, 'supports'), (5, 8...</td>\n",
       "      <td>[(1, 2, 'For'), (8, 2, 'For'), (10, 2, 'For'),...</td>\n",
       "      <td>TEST</td>\n",
       "    </tr>\n",
       "    <tr>\n",
       "      <th>398</th>\n",
       "      <td>essay399.ann</td>\n",
       "      <td>['T1', 'T2', 'T3', 'T4', 'T5', 'T6', 'T7', 'T8...</td>\n",
       "      <td>['MajorClaim', 'MajorClaim', 'Claim', 'Premise...</td>\n",
       "      <td>['367', '1323', '527', '431', '661', '787', '9...</td>\n",
       "      <td>['429', '1390', '645', '525', '737', '951', '1...</td>\n",
       "      <td>['this is a worrying tread which has negative ...</td>\n",
       "      <td>['T4', 'T5', 'T6', 'T8', 'T10']</td>\n",
       "      <td>['T3', 'T3', 'T7', 'T7', 'T9']</td>\n",
       "      <td>['supports', 'supports', 'supports', 'supports...</td>\n",
       "      <td>['For', 'For', 'For']</td>\n",
       "      <td>Drugs, alcohol and messy sex lives</td>\n",
       "      <td>Celebrities, for example movie stars, are usua...</td>\n",
       "      <td>['The first impression of the celebrities seem...</td>\n",
       "      <td>['This gives children the idea that it is not ...</td>\n",
       "      <td>[(4, 3, 'supports'), (5, 3, 'supports'), (6, 7...</td>\n",
       "      <td>[(3, 1, 'For'), (3, 2, 'For'), (7, 1, 'For'), ...</td>\n",
       "      <td>TRAIN</td>\n",
       "    </tr>\n",
       "    <tr>\n",
       "      <th>399</th>\n",
       "      <td>essay400.ann</td>\n",
       "      <td>['T1', 'T2', 'T3', 'T4', 'T5', 'T6', 'T7', 'T8...</td>\n",
       "      <td>['MajorClaim', 'MajorClaim', 'Claim', 'Premise...</td>\n",
       "      <td>['274', '1619', '736', '541', '805', '389', '1...</td>\n",
       "      <td>['387', '1812', '796', '723', '944', '524', '1...</td>\n",
       "      <td>['governments should devote a greater portion ...</td>\n",
       "      <td>['T4', 'T5', 'T6', 'T7', 'T9', 'T8']</td>\n",
       "      <td>['T3', 'T3', 'T3', 'T8', 'T8', 'T10']</td>\n",
       "      <td>['supports', 'supports', 'supports', 'supports...</td>\n",
       "      <td>['For', 'For']</td>\n",
       "      <td>A greater proportion of the budget should be a...</td>\n",
       "      <td>In today's world, the concept of the welfare s...</td>\n",
       "      <td>['decreasing the number of patients in the hea...</td>\n",
       "      <td>['society should be educated and became aware ...</td>\n",
       "      <td>[(4, 3, 'supports'), (5, 3, 'supports'), (6, 3...</td>\n",
       "      <td>[(3, 1, 'For'), (3, 2, 'For'), (10, 1, 'For'),...</td>\n",
       "      <td>TRAIN</td>\n",
       "    </tr>\n",
       "    <tr>\n",
       "      <th>400</th>\n",
       "      <td>essay401.ann</td>\n",
       "      <td>['T1', 'T2', 'T3', 'T4', 'T5', 'T6', 'T7', 'T8...</td>\n",
       "      <td>['MajorClaim', 'MajorClaim', 'Premise', 'Premi...</td>\n",
       "      <td>['311', '1496', '502', '622', '386', '954', '1...</td>\n",
       "      <td>['384', '1667', '607', '815', '488', '1087', '...</td>\n",
       "      <td>['fatherhood is a as vital part of a healty pa...</td>\n",
       "      <td>['T3', 'T7', 'T10', 'T4', 'T9', 'T6']</td>\n",
       "      <td>['T5', 'T6', 'T8', 'T3', 'T8', 'T8']</td>\n",
       "      <td>['supports', 'supports', 'supports', 'supports...</td>\n",
       "      <td>['For', 'For']</td>\n",
       "      <td>Fatherhood should be as present as motherhood ...</td>\n",
       "      <td>In today's world, having and raising children ...</td>\n",
       "      <td>[\"the role models within a family play a signi...</td>\n",
       "      <td>[\"The first reason why the father's role shoul...</td>\n",
       "      <td>[(3, 5, 'supports'), (7, 6, 'supports'), (10, ...</td>\n",
       "      <td>[(5, 1, 'For'), (5, 2, 'For'), (8, 1, 'For'), ...</td>\n",
       "      <td>TRAIN</td>\n",
       "    </tr>\n",
       "    <tr>\n",
       "      <th>401</th>\n",
       "      <td>essay402.ann</td>\n",
       "      <td>['T1', 'T2', 'T3', 'T5', 'T6', 'T7', 'T8', 'T4...</td>\n",
       "      <td>['MajorClaim', 'MajorClaim', 'Premise', 'Premi...</td>\n",
       "      <td>['238', '1543', '379', '544', '725', '827', '3...</td>\n",
       "      <td>['307', '1620', '462', '723', '810', '896', '3...</td>\n",
       "      <td>['both of studying hard and playing sports are...</td>\n",
       "      <td>['T5', 'T3', 'T6', 'T11', 'T12', 'T4', 'T13', ...</td>\n",
       "      <td>['T8', 'T8', 'T5', 'T10', 'T13', 'T15', 'T4', ...</td>\n",
       "      <td>['supports', 'supports', 'supports', 'supports...</td>\n",
       "      <td>['For', 'For']</td>\n",
       "      <td>Children should studying hard or playing sport...</td>\n",
       "      <td>Some people believe that studying hard is esse...</td>\n",
       "      <td>['children who always studying hard and gettin...</td>\n",
       "      <td>['studying hard will give children a better fu...</td>\n",
       "      <td>[(4, 7, 'supports'), (3, 7, 'supports'), (5, 4...</td>\n",
       "      <td>[(7, 1, 'For'), (7, 2, 'For'), (15, 1, 'For'),...</td>\n",
       "      <td>TRAIN</td>\n",
       "    </tr>\n",
       "  </tbody>\n",
       "</table>\n",
       "<p>402 rows × 17 columns</p>\n",
       "</div>"
      ],
      "text/plain": [
       "    ann_file_name                                       argument_ids  \\\n",
       "0    essay001.ann  ['T1', 'T2', 'T3', 'T4', 'T5', 'T6', 'T7', 'T8...   \n",
       "1    essay002.ann  ['T1', 'T2', 'T3', 'T4', 'T5', 'T6', 'T7', 'T8...   \n",
       "2    essay003.ann  ['T1', 'T2', 'T3', 'T4', 'T5', 'T6', 'T7', 'T8...   \n",
       "3    essay004.ann  ['T1', 'T2', 'T3', 'T4', 'T5', 'T6', 'T7', 'T8...   \n",
       "4    essay005.ann  ['T1', 'T2', 'T3', 'T4', 'T5', 'T6', 'T7', 'T8...   \n",
       "..            ...                                                ...   \n",
       "397  essay398.ann  ['T1', 'T2', 'T3', 'T4', 'T5', 'T6', 'T7', 'T8...   \n",
       "398  essay399.ann  ['T1', 'T2', 'T3', 'T4', 'T5', 'T6', 'T7', 'T8...   \n",
       "399  essay400.ann  ['T1', 'T2', 'T3', 'T4', 'T5', 'T6', 'T7', 'T8...   \n",
       "400  essay401.ann  ['T1', 'T2', 'T3', 'T4', 'T5', 'T6', 'T7', 'T8...   \n",
       "401  essay402.ann  ['T1', 'T2', 'T3', 'T5', 'T6', 'T7', 'T8', 'T4...   \n",
       "\n",
       "                                        argument_types  \\\n",
       "0    ['MajorClaim', 'MajorClaim', 'Claim', 'Premise...   \n",
       "1    ['MajorClaim', 'MajorClaim', 'Premise', 'Claim...   \n",
       "2    ['MajorClaim', 'MajorClaim', 'Claim', 'Premise...   \n",
       "3    ['MajorClaim', 'MajorClaim', 'Claim', 'Claim',...   \n",
       "4    ['MajorClaim', 'MajorClaim', 'Claim', 'Claim',...   \n",
       "..                                                 ...   \n",
       "397  ['Claim', 'MajorClaim', 'Premise', 'Premise', ...   \n",
       "398  ['MajorClaim', 'MajorClaim', 'Claim', 'Premise...   \n",
       "399  ['MajorClaim', 'MajorClaim', 'Claim', 'Premise...   \n",
       "400  ['MajorClaim', 'MajorClaim', 'Premise', 'Premi...   \n",
       "401  ['MajorClaim', 'MajorClaim', 'Premise', 'Premi...   \n",
       "\n",
       "                                      arg_start_bounds  \\\n",
       "0    ['503', '2154', '591', '716', '853', '1088', '...   \n",
       "1    ['391', '1936', '500', '1089', '626', '841', '...   \n",
       "2    ['352', '1568', '955', '487', '615', '786', '1...   \n",
       "3    ['262', '1663', '179', '953', '1578', '417', '...   \n",
       "4    ['286', '1535', '388', '775', '1330', '566', '...   \n",
       "..                                                 ...   \n",
       "397  ['254', '1751', '409', '557', '647', '778', '9...   \n",
       "398  ['367', '1323', '527', '431', '661', '787', '9...   \n",
       "399  ['274', '1619', '736', '541', '805', '389', '1...   \n",
       "400  ['311', '1496', '502', '622', '386', '954', '1...   \n",
       "401  ['238', '1543', '379', '544', '725', '827', '3...   \n",
       "\n",
       "                                        arg_end_bounds  \\\n",
       "0    ['575', '2231', '714', '851', '1086', '1191', ...   \n",
       "1    ['489', '2077', '624', '1156', '839', '946', '...   \n",
       "2    ['475', '1701', '1012', '613', '784', '943', '...   \n",
       "3    ['376', '1758', '239', '1031', '1624', '530', ...   \n",
       "4    ['359', '1652', '564', '883', '1425', '765', '...   \n",
       "..                                                 ...   \n",
       "397  ['318', '1951', '541', '645', '767', '897', '1...   \n",
       "398  ['429', '1390', '645', '525', '737', '951', '1...   \n",
       "399  ['387', '1812', '796', '723', '944', '524', '1...   \n",
       "400  ['384', '1667', '607', '815', '488', '1087', '...   \n",
       "401  ['307', '1620', '462', '723', '810', '896', '3...   \n",
       "\n",
       "                                   argument_components  \\\n",
       "0    ['we should attach more importance to cooperat...   \n",
       "1    ['they are able to sustain their cultural iden...   \n",
       "2    ['it has contributed to the economic developme...   \n",
       "3    ['this industry has affected the cultural attr...   \n",
       "4    ['one who studies overseas will gain many skil...   \n",
       "..                                                 ...   \n",
       "397  ['many different characters exist between male...   \n",
       "398  ['this is a worrying tread which has negative ...   \n",
       "399  ['governments should devote a greater portion ...   \n",
       "400  ['fatherhood is a as vital part of a healty pa...   \n",
       "401  ['both of studying hard and playing sports are...   \n",
       "\n",
       "                                           source_args  \\\n",
       "0                ['T4', 'T5', 'T6', 'T10', 'T9', 'T8']   \n",
       "1    ['T9', 'T11', 'T12', 'T13', 'T5', 'T6', 'T7', ...   \n",
       "2                ['T10', 'T9', 'T6', 'T5', 'T4', 'T7']   \n",
       "3               ['T8', 'T7', 'T6', 'T10', 'T9', 'T11']   \n",
       "4               ['T6', 'T7', 'T8', 'T9', 'T10', 'T11']   \n",
       "..                                                 ...   \n",
       "397  ['T3', 'T4', 'T5', 'T6', 'T7', 'T13', 'T14', '...   \n",
       "398                    ['T4', 'T5', 'T6', 'T8', 'T10']   \n",
       "399               ['T4', 'T5', 'T6', 'T7', 'T9', 'T8']   \n",
       "400              ['T3', 'T7', 'T10', 'T4', 'T9', 'T6']   \n",
       "401  ['T5', 'T3', 'T6', 'T11', 'T12', 'T4', 'T13', ...   \n",
       "\n",
       "                                           target_args  \\\n",
       "0               ['T3', 'T3', 'T3', 'T11', 'T11', 'T7']   \n",
       "1    ['T8', 'T10', 'T10', 'T10', 'T4', 'T4', 'T4', ...   \n",
       "2                 ['T8', 'T8', 'T3', 'T3', 'T3', 'T8']   \n",
       "3                ['T4', 'T4', 'T4', 'T11', 'T5', 'T5']   \n",
       "4                 ['T3', 'T4', 'T7', 'T4', 'T5', 'T5']   \n",
       "..                                                 ...   \n",
       "397  ['T8', 'T8', 'T8', 'T8', 'T8', 'T12', 'T12', '...   \n",
       "398                     ['T3', 'T3', 'T7', 'T7', 'T9']   \n",
       "399              ['T3', 'T3', 'T3', 'T8', 'T8', 'T10']   \n",
       "400               ['T5', 'T6', 'T8', 'T3', 'T8', 'T8']   \n",
       "401  ['T8', 'T8', 'T5', 'T10', 'T13', 'T15', 'T4', ...   \n",
       "\n",
       "                                        relation_types  \\\n",
       "0    ['supports', 'supports', 'supports', 'supports...   \n",
       "1    ['supports', 'supports', 'supports', 'supports...   \n",
       "2    ['supports', 'supports', 'supports', 'supports...   \n",
       "3    ['supports', 'supports', 'supports', 'supports...   \n",
       "4    ['supports', 'attacks', 'attacks', 'supports',...   \n",
       "..                                                 ...   \n",
       "397  ['supports', 'supports', 'supports', 'supports...   \n",
       "398  ['supports', 'supports', 'supports', 'supports...   \n",
       "399  ['supports', 'supports', 'supports', 'supports...   \n",
       "400  ['supports', 'supports', 'supports', 'supports...   \n",
       "401  ['supports', 'supports', 'supports', 'supports...   \n",
       "\n",
       "                         stance_types  \\\n",
       "0           ['For', 'Against', 'For']   \n",
       "1           ['For', 'For', 'Against']   \n",
       "2                      ['For', 'For']   \n",
       "3           ['Against', 'For', 'For']   \n",
       "4    ['For', 'For', 'For', 'Against']   \n",
       "..                                ...   \n",
       "397      ['For', 'For', 'For', 'For']   \n",
       "398             ['For', 'For', 'For']   \n",
       "399                    ['For', 'For']   \n",
       "400                    ['For', 'For']   \n",
       "401                    ['For', 'For']   \n",
       "\n",
       "                                           essay_title  \\\n",
       "0    Should students be taught to compete or to coo...   \n",
       "1    More people are migrating to other countries t...   \n",
       "2    International tourism is now more common than ...   \n",
       "3    International tourism is now more common than ...   \n",
       "4                         Living and studying overseas   \n",
       "..                                                 ...   \n",
       "397  We can not forcedly put the same numbers of ma...   \n",
       "398                 Drugs, alcohol and messy sex lives   \n",
       "399  A greater proportion of the budget should be a...   \n",
       "400  Fatherhood should be as present as motherhood ...   \n",
       "401  Children should studying hard or playing sport...   \n",
       "\n",
       "                                            essay_text  \\\n",
       "0    It is always said that competition can effecti...   \n",
       "1    The last 50 years have seen an increasing numb...   \n",
       "2    The last decade has seen an increasing number ...   \n",
       "3    The last 50 years have seen a significant incr...   \n",
       "4    It is every student's desire to study at a goo...   \n",
       "..                                                 ...   \n",
       "397  There is a view that universities and colleges...   \n",
       "398  Celebrities, for example movie stars, are usua...   \n",
       "399  In today's world, the concept of the welfare s...   \n",
       "400  In today's world, having and raising children ...   \n",
       "401  Some people believe that studying hard is esse...   \n",
       "\n",
       "                                            source_acs  \\\n",
       "0    ['What we acquired from team work is not only ...   \n",
       "1    ['they need a connection back to their country...   \n",
       "2    ['Without this support and profit from tourism...   \n",
       "3    ['This was due to the lack of adequate control...   \n",
       "4    ['Compared to the peers studying in the home c...   \n",
       "..                                                 ...   \n",
       "397  ['Most of male students tend to use their left...   \n",
       "398  ['The first impression of the celebrities seem...   \n",
       "399  ['decreasing the number of patients in the hea...   \n",
       "400  [\"the role models within a family play a signi...   \n",
       "401  ['children who always studying hard and gettin...   \n",
       "\n",
       "                                            target_acs  \\\n",
       "0    ['through cooperation, children can learn abou...   \n",
       "1    ['it is crucial to keep one’s identity', 'keep...   \n",
       "2    ['tourism has survived many non-tangible cultu...   \n",
       "3    ['international tourism can create negative im...   \n",
       "4    ['studying at an overseas university gives ind...   \n",
       "..                                                 ...   \n",
       "397  ['boys and girls have the diversity in psychol...   \n",
       "398  ['This gives children the idea that it is not ...   \n",
       "399  ['society should be educated and became aware ...   \n",
       "400  [\"The first reason why the father's role shoul...   \n",
       "401  ['studying hard will give children a better fu...   \n",
       "\n",
       "                                        relation_pairs  \\\n",
       "0    [(4, 3, 'supports'), (5, 3, 'supports'), (6, 3...   \n",
       "1    [(9, 8, 'supports'), (11, 10, 'supports'), (12...   \n",
       "2    [(10, 8, 'supports'), (9, 8, 'supports'), (6, ...   \n",
       "3    [(8, 4, 'supports'), (7, 4, 'supports'), (6, 4...   \n",
       "4    [(6, 3, 'supports'), (7, 4, 'attacks'), (8, 7,...   \n",
       "..                                                 ...   \n",
       "397  [(3, 8, 'supports'), (4, 8, 'supports'), (5, 8...   \n",
       "398  [(4, 3, 'supports'), (5, 3, 'supports'), (6, 7...   \n",
       "399  [(4, 3, 'supports'), (5, 3, 'supports'), (6, 3...   \n",
       "400  [(3, 5, 'supports'), (7, 6, 'supports'), (10, ...   \n",
       "401  [(4, 7, 'supports'), (3, 7, 'supports'), (5, 4...   \n",
       "\n",
       "                                          stance_pairs  split  \n",
       "0    [(3, 1, 'For'), (3, 2, 'For'), (7, 1, 'Against...  TRAIN  \n",
       "1    [(4, 1, 'For'), (4, 2, 'For'), (10, 1, 'For'),...  TRAIN  \n",
       "2    [(3, 1, 'For'), (3, 2, 'For'), (8, 1, 'For'), ...  TRAIN  \n",
       "3    [(3, 1, 'Against'), (3, 2, 'Against'), (4, 1, ...   TEST  \n",
       "4    [(3, 1, 'For'), (3, 2, 'For'), (4, 1, 'For'), ...   TEST  \n",
       "..                                                 ...    ...  \n",
       "397  [(1, 2, 'For'), (8, 2, 'For'), (10, 2, 'For'),...   TEST  \n",
       "398  [(3, 1, 'For'), (3, 2, 'For'), (7, 1, 'For'), ...  TRAIN  \n",
       "399  [(3, 1, 'For'), (3, 2, 'For'), (10, 1, 'For'),...  TRAIN  \n",
       "400  [(5, 1, 'For'), (5, 2, 'For'), (8, 1, 'For'), ...  TRAIN  \n",
       "401  [(7, 1, 'For'), (7, 2, 'For'), (15, 1, 'For'),...  TRAIN  \n",
       "\n",
       "[402 rows x 17 columns]"
      ]
     },
     "execution_count": 3,
     "metadata": {},
     "output_type": "execute_result"
    }
   ],
   "source": [
    "df"
   ]
  },
  {
   "cell_type": "code",
   "execution_count": 4,
   "id": "ac34793b-62e0-46a3-966c-281052cc2ebb",
   "metadata": {},
   "outputs": [
    {
     "name": "stdout",
     "output_type": "stream",
     "text": [
      "AC 1: MajorClaim\n",
      " we should attach more importance to cooperation during primary education \n",
      "\n",
      "AC 2: MajorClaim\n",
      " a more cooperative attitudes towards life is more profitable in one's success \n",
      "\n",
      "AC 3: Claim\n",
      " through cooperation, children can learn about interpersonal skills which are significant in the future life of all students \n",
      "\n",
      "AC 4: Premise\n",
      " What we acquired from team work is not only how to achieve the same goal with others but more importantly, how to get along with others \n",
      "\n",
      "AC 5: Premise\n",
      " During the process of cooperation, children can learn about how to listen to opinions of others, how to communicate with others, how to think comprehensively, and even how to compromise with other team members when conflicts occurred \n",
      "\n",
      "AC 6: Premise\n",
      " All of these skills help them to get on well with other people and will benefit them for the whole life \n",
      "\n",
      "AC 7: Claim\n",
      " competition makes the society more effective \n",
      "\n",
      "AC 8: Premise\n",
      " the significance of competition is that how to become more excellence to gain the victory \n",
      "\n",
      "AC 9: Premise\n",
      " when we consider about the question that how to win the game, we always find that we need the cooperation \n",
      "\n",
      "AC 10: Premise\n",
      " Take Olympic games which is a form of competition for instance, it is hard to imagine how an athlete could win the game without the training of his or her coach, and the help of other professional staffs such as the people who take care of his diet, and those who are in charge of the medical care \n",
      "\n",
      "AC 11: Claim\n",
      " without the cooperation, there would be no victory of competition \n",
      "\n"
     ]
    }
   ],
   "source": [
    "for (i, ac), typ in zip(enumerate(eval(df.iloc[0].argument_components)), eval(df.iloc[0].argument_types)):\n",
    "    print(f\"AC {i+1}: {typ}\\n\", ac, \"\\n\")"
   ]
  },
  {
   "cell_type": "markdown",
   "id": "59bfade5-dffd-42a7-8e01-b8da38255f70",
   "metadata": {},
   "source": [
    "## Sort ACs"
   ]
  },
  {
   "cell_type": "code",
   "execution_count": 5,
   "id": "8dd03c4f-d284-4fcc-92d1-532f12596c74",
   "metadata": {},
   "outputs": [],
   "source": [
    "# Sanity check\n",
    "\n",
    "for i, row in df.iterrows():\n",
    "    if len(eval(row.argument_types)) != len(eval(row.arg_start_bounds)):\n",
    "        print(f\"Error in row {i}!\")"
   ]
  },
  {
   "cell_type": "code",
   "execution_count": 6,
   "id": "f8c58701-a063-4dde-b89f-9008a516c79b",
   "metadata": {},
   "outputs": [],
   "source": [
    "def eval_list(l):\n",
    "    return [eval(x) for x in eval(l)]"
   ]
  },
  {
   "cell_type": "code",
   "execution_count": 7,
   "id": "5fba9d2a-3330-4f12-a94b-59a0212d2a18",
   "metadata": {},
   "outputs": [],
   "source": [
    "def sort_with_order(start_indices, acs):\n",
    "\n",
    "    paired = sorted(zip(eval_list(start_indices), eval(acs)), key=lambda x: x[0])  # Sort l1 and apply to l2\n",
    "    _, acs_sorted = zip(*paired)  # Unzip sorted pairs\n",
    "    return list(acs_sorted)\n",
    "\n",
    "# # Example usage\n",
    "# l1 = [3, 1, 2]\n",
    "# l2 = ['c', 'a', 'b']\n",
    "\n",
    "# l2_sorted = sort_with_order(l1, l2)\n",
    "# print(l2_sorted)  # ['a', 'b', 'c']"
   ]
  },
  {
   "cell_type": "code",
   "execution_count": 8,
   "id": "041b58ae-82cb-4a61-821a-eaf43b9381e3",
   "metadata": {},
   "outputs": [],
   "source": [
    "df[\"sorted_acs\"] = df.apply(lambda row : sort_with_order(row.arg_start_bounds, row.argument_components), axis=1)\n",
    "df[\"sorted_ac_types\"] = df.apply(lambda row : sort_with_order(row.arg_start_bounds, row.argument_types), axis=1)"
   ]
  },
  {
   "cell_type": "code",
   "execution_count": 9,
   "id": "88e0a201-e563-479e-a4e9-eb3815ca20c1",
   "metadata": {},
   "outputs": [
    {
     "name": "stdout",
     "output_type": "stream",
     "text": [
      "the best way for teachers to make students more interested in a subject is to explain how that subject can help and apply to their lives outside school *** MajorClaim \n",
      "\n",
      "by explaining how the subject contributes to daily life, students will have vivid impression on that subject thus become more interested and active in acquiring the knowledge on that subject *** Claim \n",
      "\n",
      "Take chemistry for example, merely memorizing the names of the substances and the structural formulas seems to be very boring, while representing where and how those chemical reactions really happen near students will raise their curiosity and lead them to digest those theories learned from the class *** Premise \n",
      "\n",
      "While I was in senior high school, my chemical teacher once showed us how the detergent dissolves oil by an experiment and later on taught us how to describe this process with formal structural formulas *** Premise \n",
      "\n",
      "This type of learning method is more fun and eventually the results are good *** Premise \n",
      "\n",
      "I connected the visual images of that experiment with the formula and I barely forget, even though now I'm not studying chemistry anymore *** Premise \n",
      "\n",
      "by bridging the theories with daily life events, students are given the chance to apply knowledge to their lives and develop their own ability of problem-solving *** Claim \n",
      "\n",
      "This will address students' interests *** Premise \n",
      "\n",
      "it's the assignment that needs real life participation *** Premise \n",
      "\n",
      "in law class, students are informed their rights and duties and they are taught how they can apply law to different situations that might happen upon them *** Premise \n",
      "\n",
      "When any one of the situations occurs, they can think independently and figure out how to react *** Premise \n",
      "\n",
      "using life experiences and examples to demonstrate the knowledge on a subject is an effective way to attract students' attention and keep them eager on learning *** MajorClaim \n",
      "\n",
      "it reinforces students' impression on the knowledge but also invites students to practice the knowledge out on their own *** Claim \n",
      "\n"
     ]
    }
   ],
   "source": [
    "for x, y in zip(df.iloc[252].sorted_acs, df.iloc[252].sorted_ac_types):\n",
    "    print(x, \"***\", y, \"\\n\")"
   ]
  },
  {
   "cell_type": "code",
   "execution_count": 10,
   "id": "7e2abca6-ce91-4fc3-8af8-0b3e617ea974",
   "metadata": {},
   "outputs": [
    {
     "data": {
      "text/plain": [
       "(\"['MajorClaim', 'MajorClaim', 'Claim', 'Premise', 'Premise', 'Premise', 'Claim', 'Premise', 'Premise', 'Premise', 'Claim']\",\n",
       " \"['503', '2154', '591', '716', '853', '1088', '1332', '1212', '1387', '1549', '1927']\",\n",
       " ['MajorClaim',\n",
       "  'Claim',\n",
       "  'Premise',\n",
       "  'Premise',\n",
       "  'Premise',\n",
       "  'Premise',\n",
       "  'Claim',\n",
       "  'Premise',\n",
       "  'Premise',\n",
       "  'Claim',\n",
       "  'MajorClaim'])"
      ]
     },
     "execution_count": 10,
     "metadata": {},
     "output_type": "execute_result"
    }
   ],
   "source": [
    "df.iloc[0].argument_types, df.iloc[0].arg_start_bounds, df.iloc[0].sorted_ac_types"
   ]
  },
  {
   "cell_type": "markdown",
   "id": "8a34c4d9-c959-49e0-a4df-d5353e459996",
   "metadata": {},
   "source": [
    "## Set paragraph structure to ACs (list of lists)"
   ]
  },
  {
   "cell_type": "code",
   "execution_count": 11,
   "id": "417c3988-d335-4b1b-be02-4554b594c8ef",
   "metadata": {},
   "outputs": [],
   "source": [
    "def get_nb_paras(text):\n",
    "    return len(text.split(\"\\n\"))"
   ]
  },
  {
   "cell_type": "code",
   "execution_count": 12,
   "id": "a44f1d3d-13e0-4124-ad2f-db377f4750f5",
   "metadata": {},
   "outputs": [
    {
     "data": {
      "text/plain": [
       "4"
      ]
     },
     "execution_count": 12,
     "metadata": {},
     "output_type": "execute_result"
    }
   ],
   "source": [
    "get_nb_paras(df.iloc[0].essay_text)"
   ]
  },
  {
   "cell_type": "code",
   "execution_count": 13,
   "id": "7a23c323-fe97-4873-89a1-1f6fe1961d7a",
   "metadata": {},
   "outputs": [],
   "source": [
    "def build_para_acs(row):\n",
    "\n",
    "    acs = row.sorted_acs\n",
    "    ac_types = row.sorted_ac_types\n",
    "    paras = row.essay_text.split(\"\\n\")\n",
    "    \n",
    "    para_acs_d = {}\n",
    "    \n",
    "    for (i1, ac), act in zip(enumerate(acs), ac_types):\n",
    "        for j, para in enumerate(paras):\n",
    "            if j not in para_acs_d.keys():\n",
    "                para_acs_d[j] = []\n",
    "            if ac in para:\n",
    "                para_acs_d[j].append((ac, act, i1+1))\n",
    "    \n",
    "    acs_final = []\n",
    "    acs_types_final = []\n",
    "    paras_final = []\n",
    "    \n",
    "    for i in range(len(paras)):\n",
    "        \n",
    "        acs_final.append([x[0] for x in para_acs_d[i]])\n",
    "        acs_types_final.append([x[1] for x in para_acs_d[i]])\n",
    "        paras_final.append([x[2] for x in para_acs_d[i]])\n",
    "    \n",
    "    return acs_final, acs_types_final, paras_final"
   ]
  },
  {
   "cell_type": "code",
   "execution_count": 14,
   "id": "cc524f9a-c11e-45a6-9dd5-ad7c8051047e",
   "metadata": {},
   "outputs": [
    {
     "data": {
      "text/plain": [
       "([['universities should provide free of cost education to the interested scholars',\n",
       "   'now-a-days universities with good name charge high fees and this leads one to think about affordability',\n",
       "   'many of the interested scholars failed to get the admission in good universities',\n",
       "   'they have to think about work along with the studies, and this left them with only one choice, which is work'],\n",
       "  ['University is more likely to become a money making business',\n",
       "   'the issue of affordability has become crucial to the students',\n",
       "   'In today’s world education is getting expensive, and people are tending to apply for self-finance education in order to get the admission',\n",
       "   'the scholars are facing a lot of difficulties apart from their high requirements of previous education, they has a lot to face the other difficulties and burden while getting admission such as accommodation, food, traveling, clothing, etc'],\n",
       "  ['it is hard to get manage two things at a time for instance, working and studying is not an easy job for the scholars, they need to concentrate on their studies',\n",
       "   'MPhils and PhDs scholars are probably engage in the research work, which takes their full concentration and surveys',\n",
       "   'The idea of free of charge education inspires those scholars who really want to put their efforts and get a degree from best universities'],\n",
       "  ['universities have to look over the issues face by most of the scholars; their message should be spread education, not making money, and motivate those scholars who want to get education']],\n",
       " [['MajorClaim', 'Claim', 'Premise', 'Premise'],\n",
       "  ['Premise', 'Claim', 'Premise', 'Premise'],\n",
       "  ['Premise', 'Premise', 'Claim'],\n",
       "  ['MajorClaim']],\n",
       " [[1, 2, 3, 4], [5, 6, 7, 8], [9, 10, 11], [12]])"
      ]
     },
     "execution_count": 14,
     "metadata": {},
     "output_type": "execute_result"
    }
   ],
   "source": [
    "acs_final, acs_types_final, paras_final = build_para_acs(df.iloc[234])\n",
    "acs_final, acs_types_final, paras_final "
   ]
  },
  {
   "cell_type": "code",
   "execution_count": 15,
   "id": "30d1f169-8ea0-4f2c-a40a-6476de4b5371",
   "metadata": {},
   "outputs": [],
   "source": [
    "df[\"para_acs\"] = df.apply(lambda row : build_para_acs(row)[0], axis=1)\n",
    "df[\"para_ac_types\"] = df.apply(lambda row : build_para_acs(row)[1], axis=1)\n",
    "df[\"paras_structure\"] = df.apply(lambda row : build_para_acs(row)[2], axis=1)"
   ]
  },
  {
   "cell_type": "code",
   "execution_count": 16,
   "id": "b0afbb30",
   "metadata": {},
   "outputs": [
    {
     "name": "stderr",
     "output_type": "stream",
     "text": [
      "/tmp/ipykernel_1754100/1371394211.py:1: SettingWithCopyWarning: \n",
      "A value is trying to be set on a copy of a slice from a DataFrame\n",
      "\n",
      "See the caveats in the documentation: https://pandas.pydata.org/pandas-docs/stable/user_guide/indexing.html#returning-a-view-versus-a-copy\n",
      "  df.iloc[153]['paras_structure'] = [[1, 2], [3, 4, 5, 6, 7], [8, 9, 10, 11, 12, 13, 14, 15], [16, 17, 18, 19, 20, 21, 22, 23], [24, 25, 26]]\n"
     ]
    }
   ],
   "source": [
    "df.iloc[153]['paras_structure'] = [[1, 2], [3, 4, 5, 6, 7], [8, 9, 10, 11, 12, 13, 14, 15], [16, 17, 18, 19, 20, 21, 22, 23], [24, 25, 26]]"
   ]
  },
  {
   "cell_type": "markdown",
   "id": "e4c18ef8-85fe-4f5e-b73f-7a2b91114f65",
   "metadata": {},
   "source": [
    "## Get inter-paragraph relations and intra-paragraph stances"
   ]
  },
  {
   "cell_type": "code",
   "execution_count": 17,
   "id": "d850d6f3-63e8-4a9e-9642-5094734264b4",
   "metadata": {},
   "outputs": [],
   "source": [
    "# def build_all_para_ac_pairs(row):\n",
    "    \n",
    "#     para_structure = row.paras_structure\n",
    "#     return [ [(i,j, \"NR\") for i in para_structure[p] \n",
    "#               for j in para_structure[p] if j != i] \n",
    "#             for p in range(len(para_structure)) ]"
   ]
  },
  {
   "cell_type": "code",
   "execution_count": 18,
   "id": "ebf86571",
   "metadata": {},
   "outputs": [],
   "source": [
    "#[153, 163, 166, 181, 185, 263, 285]"
   ]
  },
  {
   "cell_type": "code",
   "execution_count": 19,
   "id": "56dd1ef5",
   "metadata": {},
   "outputs": [
    {
     "data": {
      "text/plain": [
       "[[1, 2, 8], [3, 4, 5, 6, 7], [2, 8, 9, 10, 11, 12, 13], [14]]"
      ]
     },
     "execution_count": 19,
     "metadata": {},
     "output_type": "execute_result"
    }
   ],
   "source": [
    "df.iloc[263]['paras_structure']"
   ]
  },
  {
   "cell_type": "code",
   "execution_count": 20,
   "id": "979669f0",
   "metadata": {},
   "outputs": [
    {
     "data": {
      "text/plain": [
       "1"
      ]
     },
     "execution_count": 20,
     "metadata": {},
     "output_type": "execute_result"
    }
   ],
   "source": [
    "df.iloc[153]['paras_structure'][4].pop(0)"
   ]
  },
  {
   "cell_type": "code",
   "execution_count": 21,
   "id": "c07d8aa5",
   "metadata": {},
   "outputs": [
    {
     "data": {
      "text/plain": [
       "16"
      ]
     },
     "execution_count": 21,
     "metadata": {},
     "output_type": "execute_result"
    }
   ],
   "source": [
    "df.iloc[163]['paras_structure'][0].pop(1)"
   ]
  },
  {
   "cell_type": "code",
   "execution_count": 22,
   "id": "5287c2e6",
   "metadata": {},
   "outputs": [
    {
     "data": {
      "text/plain": [
       "15"
      ]
     },
     "execution_count": 22,
     "metadata": {},
     "output_type": "execute_result"
    }
   ],
   "source": [
    "df.iloc[166]['paras_structure'][0].pop(2)"
   ]
  },
  {
   "cell_type": "code",
   "execution_count": 23,
   "id": "5d35e6b6",
   "metadata": {},
   "outputs": [
    {
     "data": {
      "text/plain": [
       "12"
      ]
     },
     "execution_count": 23,
     "metadata": {},
     "output_type": "execute_result"
    }
   ],
   "source": [
    "df.iloc[181]['paras_structure'][0].pop(2)"
   ]
  },
  {
   "cell_type": "code",
   "execution_count": 24,
   "id": "b43bf4cc",
   "metadata": {},
   "outputs": [
    {
     "data": {
      "text/plain": [
       "19"
      ]
     },
     "execution_count": 24,
     "metadata": {},
     "output_type": "execute_result"
    }
   ],
   "source": [
    "df.iloc[181]['paras_structure'][2].pop()"
   ]
  },
  {
   "cell_type": "code",
   "execution_count": 25,
   "id": "b12127d6",
   "metadata": {},
   "outputs": [
    {
     "data": {
      "text/plain": [
       "18"
      ]
     },
     "execution_count": 25,
     "metadata": {},
     "output_type": "execute_result"
    }
   ],
   "source": [
    "df.iloc[185]['paras_structure'][0].pop(1)"
   ]
  },
  {
   "cell_type": "code",
   "execution_count": 26,
   "id": "4e8943e6",
   "metadata": {},
   "outputs": [
    {
     "data": {
      "text/plain": [
       "1"
      ]
     },
     "execution_count": 26,
     "metadata": {},
     "output_type": "execute_result"
    }
   ],
   "source": [
    "df.iloc[185]['paras_structure'][-1].pop(0)"
   ]
  },
  {
   "cell_type": "code",
   "execution_count": 27,
   "id": "8082b6f1",
   "metadata": {},
   "outputs": [
    {
     "data": {
      "text/plain": [
       "8"
      ]
     },
     "execution_count": 27,
     "metadata": {},
     "output_type": "execute_result"
    }
   ],
   "source": [
    "df.iloc[263]['paras_structure'][0].pop(2)"
   ]
  },
  {
   "cell_type": "code",
   "execution_count": 28,
   "id": "4ea6ea60",
   "metadata": {},
   "outputs": [
    {
     "data": {
      "text/plain": [
       "2"
      ]
     },
     "execution_count": 28,
     "metadata": {},
     "output_type": "execute_result"
    }
   ],
   "source": [
    "df.iloc[263]['paras_structure'][2].pop(0)"
   ]
  },
  {
   "cell_type": "code",
   "execution_count": 29,
   "id": "ede9542e",
   "metadata": {},
   "outputs": [
    {
     "data": {
      "text/plain": [
       "22"
      ]
     },
     "execution_count": 29,
     "metadata": {},
     "output_type": "execute_result"
    }
   ],
   "source": [
    "df.iloc[285]['paras_structure'][1].pop()"
   ]
  },
  {
   "cell_type": "code",
   "execution_count": 30,
   "id": "39f36409",
   "metadata": {},
   "outputs": [
    {
     "data": {
      "text/plain": [
       "10"
      ]
     },
     "execution_count": 30,
     "metadata": {},
     "output_type": "execute_result"
    }
   ],
   "source": [
    "df.iloc[285]['paras_structure'][-1].pop(0)"
   ]
  },
  {
   "cell_type": "code",
   "execution_count": 31,
   "id": "51d62970",
   "metadata": {},
   "outputs": [],
   "source": [
    "def build_all_para_ac_pairs(row):\n",
    "    \n",
    "    para_structure = row.paras_structure\n",
    "    #print()\n",
    "    \n",
    "    para_pairs = []\n",
    "    \n",
    "    \n",
    "    for para in para_structure:\n",
    "        \n",
    "        all_pairs = [(i,j, \"NR\") for i in para for j in para if i != j]\n",
    "        para_pairs.append(all_pairs)\n",
    "    \n",
    "    return para_pairs"
   ]
  },
  {
   "cell_type": "code",
   "execution_count": 32,
   "id": "35859c08-eefb-4643-88d5-21953991cada",
   "metadata": {},
   "outputs": [
    {
     "data": {
      "text/plain": [
       "[[(1, 2, 'NR'), (2, 1, 'NR')],\n",
       " [(3, 4, 'NR'),\n",
       "  (3, 5, 'NR'),\n",
       "  (3, 6, 'NR'),\n",
       "  (3, 7, 'NR'),\n",
       "  (4, 3, 'NR'),\n",
       "  (4, 5, 'NR'),\n",
       "  (4, 6, 'NR'),\n",
       "  (4, 7, 'NR'),\n",
       "  (5, 3, 'NR'),\n",
       "  (5, 4, 'NR'),\n",
       "  (5, 6, 'NR'),\n",
       "  (5, 7, 'NR'),\n",
       "  (6, 3, 'NR'),\n",
       "  (6, 4, 'NR'),\n",
       "  (6, 5, 'NR'),\n",
       "  (6, 7, 'NR'),\n",
       "  (7, 3, 'NR'),\n",
       "  (7, 4, 'NR'),\n",
       "  (7, 5, 'NR'),\n",
       "  (7, 6, 'NR')],\n",
       " [(8, 9, 'NR'),\n",
       "  (8, 10, 'NR'),\n",
       "  (8, 11, 'NR'),\n",
       "  (8, 12, 'NR'),\n",
       "  (8, 13, 'NR'),\n",
       "  (8, 14, 'NR'),\n",
       "  (8, 15, 'NR'),\n",
       "  (9, 8, 'NR'),\n",
       "  (9, 10, 'NR'),\n",
       "  (9, 11, 'NR'),\n",
       "  (9, 12, 'NR'),\n",
       "  (9, 13, 'NR'),\n",
       "  (9, 14, 'NR'),\n",
       "  (9, 15, 'NR'),\n",
       "  (10, 8, 'NR'),\n",
       "  (10, 9, 'NR'),\n",
       "  (10, 11, 'NR'),\n",
       "  (10, 12, 'NR'),\n",
       "  (10, 13, 'NR'),\n",
       "  (10, 14, 'NR'),\n",
       "  (10, 15, 'NR'),\n",
       "  (11, 8, 'NR'),\n",
       "  (11, 9, 'NR'),\n",
       "  (11, 10, 'NR'),\n",
       "  (11, 12, 'NR'),\n",
       "  (11, 13, 'NR'),\n",
       "  (11, 14, 'NR'),\n",
       "  (11, 15, 'NR'),\n",
       "  (12, 8, 'NR'),\n",
       "  (12, 9, 'NR'),\n",
       "  (12, 10, 'NR'),\n",
       "  (12, 11, 'NR'),\n",
       "  (12, 13, 'NR'),\n",
       "  (12, 14, 'NR'),\n",
       "  (12, 15, 'NR'),\n",
       "  (13, 8, 'NR'),\n",
       "  (13, 9, 'NR'),\n",
       "  (13, 10, 'NR'),\n",
       "  (13, 11, 'NR'),\n",
       "  (13, 12, 'NR'),\n",
       "  (13, 14, 'NR'),\n",
       "  (13, 15, 'NR'),\n",
       "  (14, 8, 'NR'),\n",
       "  (14, 9, 'NR'),\n",
       "  (14, 10, 'NR'),\n",
       "  (14, 11, 'NR'),\n",
       "  (14, 12, 'NR'),\n",
       "  (14, 13, 'NR'),\n",
       "  (14, 15, 'NR'),\n",
       "  (15, 8, 'NR'),\n",
       "  (15, 9, 'NR'),\n",
       "  (15, 10, 'NR'),\n",
       "  (15, 11, 'NR'),\n",
       "  (15, 12, 'NR'),\n",
       "  (15, 13, 'NR'),\n",
       "  (15, 14, 'NR')],\n",
       " [(16, 17, 'NR'),\n",
       "  (16, 18, 'NR'),\n",
       "  (16, 19, 'NR'),\n",
       "  (16, 20, 'NR'),\n",
       "  (16, 21, 'NR'),\n",
       "  (16, 22, 'NR'),\n",
       "  (16, 23, 'NR'),\n",
       "  (17, 16, 'NR'),\n",
       "  (17, 18, 'NR'),\n",
       "  (17, 19, 'NR'),\n",
       "  (17, 20, 'NR'),\n",
       "  (17, 21, 'NR'),\n",
       "  (17, 22, 'NR'),\n",
       "  (17, 23, 'NR'),\n",
       "  (18, 16, 'NR'),\n",
       "  (18, 17, 'NR'),\n",
       "  (18, 19, 'NR'),\n",
       "  (18, 20, 'NR'),\n",
       "  (18, 21, 'NR'),\n",
       "  (18, 22, 'NR'),\n",
       "  (18, 23, 'NR'),\n",
       "  (19, 16, 'NR'),\n",
       "  (19, 17, 'NR'),\n",
       "  (19, 18, 'NR'),\n",
       "  (19, 20, 'NR'),\n",
       "  (19, 21, 'NR'),\n",
       "  (19, 22, 'NR'),\n",
       "  (19, 23, 'NR'),\n",
       "  (20, 16, 'NR'),\n",
       "  (20, 17, 'NR'),\n",
       "  (20, 18, 'NR'),\n",
       "  (20, 19, 'NR'),\n",
       "  (20, 21, 'NR'),\n",
       "  (20, 22, 'NR'),\n",
       "  (20, 23, 'NR'),\n",
       "  (21, 16, 'NR'),\n",
       "  (21, 17, 'NR'),\n",
       "  (21, 18, 'NR'),\n",
       "  (21, 19, 'NR'),\n",
       "  (21, 20, 'NR'),\n",
       "  (21, 22, 'NR'),\n",
       "  (21, 23, 'NR'),\n",
       "  (22, 16, 'NR'),\n",
       "  (22, 17, 'NR'),\n",
       "  (22, 18, 'NR'),\n",
       "  (22, 19, 'NR'),\n",
       "  (22, 20, 'NR'),\n",
       "  (22, 21, 'NR'),\n",
       "  (22, 23, 'NR'),\n",
       "  (23, 16, 'NR'),\n",
       "  (23, 17, 'NR'),\n",
       "  (23, 18, 'NR'),\n",
       "  (23, 19, 'NR'),\n",
       "  (23, 20, 'NR'),\n",
       "  (23, 21, 'NR'),\n",
       "  (23, 22, 'NR')],\n",
       " [(24, 25, 'NR'),\n",
       "  (24, 26, 'NR'),\n",
       "  (25, 24, 'NR'),\n",
       "  (25, 26, 'NR'),\n",
       "  (26, 24, 'NR'),\n",
       "  (26, 25, 'NR')]]"
      ]
     },
     "execution_count": 32,
     "metadata": {},
     "output_type": "execute_result"
    }
   ],
   "source": [
    "build_all_para_ac_pairs(df.iloc[153])"
   ]
  },
  {
   "cell_type": "code",
   "execution_count": 33,
   "id": "57462999-3d96-4a24-8055-6c2b5ce8a134",
   "metadata": {},
   "outputs": [],
   "source": [
    "df[\"para_ac_all_pairs\"] = df.apply(lambda row : build_all_para_ac_pairs(row), axis=1)"
   ]
  },
  {
   "cell_type": "code",
   "execution_count": 34,
   "id": "ca2d3697-4628-42f2-af86-3bc246c2050a",
   "metadata": {},
   "outputs": [],
   "source": [
    "def build_para_ac_pairs(row):\n",
    "\n",
    "    acs = row.sorted_acs\n",
    "    para_ac_all_pairs = row.para_ac_all_pairs\n",
    "    sources = eval(row.source_acs)\n",
    "    targets = eval(row.target_acs)\n",
    "    rels = eval(row.relation_types)\n",
    "    \n",
    "    acs_mapping = {ac : i+1 for i, ac in enumerate(acs)}\n",
    "    \n",
    "    ac_pairs = []\n",
    "    \n",
    "    for source, target, rel in zip(sources, targets, rels):\n",
    "        i, j = acs_mapping[source], acs_mapping[target]\n",
    "        ac_pairs.append((i, j, rel))\n",
    "    \n",
    "    for l in para_ac_all_pairs:\n",
    "        for i, (source, target, rel) in enumerate(l):\n",
    "            if (source, target, \"supports\") in ac_pairs:\n",
    "                l[i] = (source, target, \"supports\")\n",
    "            elif (source, target, \"attacks\") in ac_pairs:\n",
    "                l[i] = (source, target, \"attacks\")\n",
    "                \n",
    "    return para_ac_all_pairs"
   ]
  },
  {
   "cell_type": "code",
   "execution_count": 35,
   "id": "8ca0e720-b073-416a-95e2-5f62849c511f",
   "metadata": {},
   "outputs": [],
   "source": [
    "df[\"para_ac_rels\"] = df.apply(lambda row : build_para_ac_pairs(row), axis=1)"
   ]
  },
  {
   "cell_type": "code",
   "execution_count": 60,
   "id": "5652c179-e39b-45df-ba58-81a0d549f330",
   "metadata": {},
   "outputs": [
    {
     "data": {
      "text/plain": [
       "[[],\n",
       " [(2, 3, 'NR'),\n",
       "  (2, 4, 'NR'),\n",
       "  (2, 5, 'NR'),\n",
       "  (3, 2, 'supports'),\n",
       "  (3, 4, 'NR'),\n",
       "  (3, 5, 'NR'),\n",
       "  (4, 2, 'supports'),\n",
       "  (4, 3, 'NR'),\n",
       "  (4, 5, 'NR'),\n",
       "  (5, 2, 'supports'),\n",
       "  (5, 3, 'NR'),\n",
       "  (5, 4, 'NR')],\n",
       " [(6, 7, 'supports'),\n",
       "  (6, 8, 'NR'),\n",
       "  (6, 9, 'NR'),\n",
       "  (6, 10, 'NR'),\n",
       "  (7, 6, 'NR'),\n",
       "  (7, 8, 'NR'),\n",
       "  (7, 9, 'NR'),\n",
       "  (7, 10, 'NR'),\n",
       "  (8, 6, 'NR'),\n",
       "  (8, 7, 'NR'),\n",
       "  (8, 9, 'NR'),\n",
       "  (8, 10, 'supports'),\n",
       "  (9, 6, 'NR'),\n",
       "  (9, 7, 'NR'),\n",
       "  (9, 8, 'NR'),\n",
       "  (9, 10, 'supports'),\n",
       "  (10, 6, 'NR'),\n",
       "  (10, 7, 'NR'),\n",
       "  (10, 8, 'NR'),\n",
       "  (10, 9, 'NR')],\n",
       " []]"
      ]
     },
     "execution_count": 60,
     "metadata": {},
     "output_type": "execute_result"
    }
   ],
   "source": [
    "df.iloc[0].para_ac_rels"
   ]
  },
  {
   "cell_type": "code",
   "execution_count": 61,
   "id": "a21e3b4c",
   "metadata": {},
   "outputs": [
    {
     "data": {
      "text/plain": [
       "['we should attach more importance to cooperation during primary education',\n",
       " 'through cooperation, children can learn about interpersonal skills which are significant in the future life of all students',\n",
       " 'What we acquired from team work is not only how to achieve the same goal with others but more importantly, how to get along with others',\n",
       " 'During the process of cooperation, children can learn about how to listen to opinions of others, how to communicate with others, how to think comprehensively, and even how to compromise with other team members when conflicts occurred',\n",
       " 'All of these skills help them to get on well with other people and will benefit them for the whole life',\n",
       " 'the significance of competition is that how to become more excellence to gain the victory',\n",
       " 'competition makes the society more effective',\n",
       " 'when we consider about the question that how to win the game, we always find that we need the cooperation',\n",
       " 'Take Olympic games which is a form of competition for instance, it is hard to imagine how an athlete could win the game without the training of his or her coach, and the help of other professional staffs such as the people who take care of his diet, and those who are in charge of the medical care',\n",
       " 'without the cooperation, there would be no victory of competition',\n",
       " \"a more cooperative attitudes towards life is more profitable in one's success\"]"
      ]
     },
     "execution_count": 61,
     "metadata": {},
     "output_type": "execute_result"
    }
   ],
   "source": [
    "df.iloc[0]['sorted_acs']"
   ]
  },
  {
   "cell_type": "code",
   "execution_count": 62,
   "id": "d96c5c51",
   "metadata": {},
   "outputs": [
    {
     "data": {
      "text/plain": [
       "['MajorClaim',\n",
       " 'Claim',\n",
       " 'Premise',\n",
       " 'Premise',\n",
       " 'Premise',\n",
       " 'Premise',\n",
       " 'Claim',\n",
       " 'Premise',\n",
       " 'Premise',\n",
       " 'Claim',\n",
       " 'MajorClaim']"
      ]
     },
     "execution_count": 62,
     "metadata": {},
     "output_type": "execute_result"
    }
   ],
   "source": [
    "df.iloc[0]['sorted_ac_types']"
   ]
  },
  {
   "cell_type": "code",
   "execution_count": 64,
   "id": "c190d6ed",
   "metadata": {},
   "outputs": [
    {
     "data": {
      "text/plain": [
       "[[],\n",
       " [(2, 3, 'NR'),\n",
       "  (2, 4, 'NR'),\n",
       "  (2, 5, 'NR'),\n",
       "  (3, 2, 'supports'),\n",
       "  (3, 4, 'NR'),\n",
       "  (3, 5, 'NR'),\n",
       "  (4, 2, 'supports'),\n",
       "  (4, 3, 'NR'),\n",
       "  (4, 5, 'NR'),\n",
       "  (5, 2, 'supports'),\n",
       "  (5, 3, 'NR'),\n",
       "  (5, 4, 'NR')],\n",
       " [(6, 7, 'supports'),\n",
       "  (6, 8, 'NR'),\n",
       "  (6, 9, 'NR'),\n",
       "  (6, 10, 'NR'),\n",
       "  (7, 6, 'NR'),\n",
       "  (7, 8, 'NR'),\n",
       "  (7, 9, 'NR'),\n",
       "  (7, 10, 'NR'),\n",
       "  (8, 6, 'NR'),\n",
       "  (8, 7, 'NR'),\n",
       "  (8, 9, 'NR'),\n",
       "  (8, 10, 'supports'),\n",
       "  (9, 6, 'NR'),\n",
       "  (9, 7, 'NR'),\n",
       "  (9, 8, 'NR'),\n",
       "  (9, 10, 'supports'),\n",
       "  (10, 6, 'NR'),\n",
       "  (10, 7, 'NR'),\n",
       "  (10, 8, 'NR'),\n",
       "  (10, 9, 'NR')],\n",
       " []]"
      ]
     },
     "execution_count": 64,
     "metadata": {},
     "output_type": "execute_result"
    }
   ],
   "source": [
    "df.iloc[0]['para_ac_rels']"
   ]
  },
  {
   "cell_type": "code",
   "execution_count": null,
   "id": "475be0f2-213a-43b4-86d6-724c5a2b12c0",
   "metadata": {},
   "outputs": [],
   "source": [
    "def build_stances(row):\n",
    "    \n",
    "    stance_types = eval(row.stance_types)\n",
    "    #para_ac_pairs = row.para_ac_rels\n",
    "    ac_types = row.sorted_ac_types\n",
    "    #paras = row.paras_structure\n",
    "    \n",
    "    claims = []\n",
    "    major_claims = []\n",
    "    \n",
    "    for i, ac_type in enumerate(ac_types):\n",
    "        if ac_type == \"Claim\":\n",
    "            claims.append(i+1)\n",
    "        elif ac_type == \"MajorClaim\":\n",
    "            major_claims.append(i+1)\n",
    "    \n",
    "    stances = []\n",
    "    mapping = {'For' : 'supports', 'Against' : 'attacks'}\n",
    "    \n",
    "    for i, c in enumerate(claims):\n",
    "        for mj in major_claims:\n",
    "            stances.append((c, mj, mapping[stance_types[i]]))\n",
    "\n",
    "    return stances"
   ]
  },
  {
   "cell_type": "code",
   "execution_count": 52,
   "id": "7b51b74c",
   "metadata": {},
   "outputs": [
    {
     "data": {
      "text/plain": [
       "\"['Against', 'For', 'Against']\""
      ]
     },
     "execution_count": 52,
     "metadata": {},
     "output_type": "execute_result"
    }
   ],
   "source": [
    "df.iloc[33]['stance_types']"
   ]
  },
  {
   "cell_type": "code",
   "execution_count": 38,
   "id": "ccfb06f9-df97-4bc8-a3c0-ee75934c4255",
   "metadata": {},
   "outputs": [
    {
     "data": {
      "text/plain": [
       "[(6, 1, 'attacks'),\n",
       " (6, 14, 'attacks'),\n",
       " (8, 1, 'supports'),\n",
       " (8, 14, 'supports'),\n",
       " (15, 1, 'attacks'),\n",
       " (15, 14, 'attacks')]"
      ]
     },
     "execution_count": 38,
     "metadata": {},
     "output_type": "execute_result"
    }
   ],
   "source": [
    "build_stances(df.iloc[33])"
   ]
  },
  {
   "cell_type": "code",
   "execution_count": 39,
   "id": "51837af9-39c1-4452-825f-74115c9f9437",
   "metadata": {},
   "outputs": [
    {
     "data": {
      "text/plain": [
       "([[1], [2, 3, 4, 5, 6, 7], [8, 9, 10, 11, 12, 13], [14, 15, 16, 17]],\n",
       " ['MajorClaim',\n",
       "  'Premise',\n",
       "  'Premise',\n",
       "  'Premise',\n",
       "  'Premise',\n",
       "  'Claim',\n",
       "  'Premise',\n",
       "  'Claim',\n",
       "  'Premise',\n",
       "  'Premise',\n",
       "  'Premise',\n",
       "  'Premise',\n",
       "  'Premise',\n",
       "  'MajorClaim',\n",
       "  'Claim',\n",
       "  'Premise',\n",
       "  'Premise'])"
      ]
     },
     "execution_count": 39,
     "metadata": {},
     "output_type": "execute_result"
    }
   ],
   "source": [
    "df.iloc[33].paras_structure, df.iloc[33].sorted_ac_types"
   ]
  },
  {
   "cell_type": "code",
   "execution_count": 40,
   "id": "1593464a-8b3c-4128-92ec-3de8b992086a",
   "metadata": {},
   "outputs": [],
   "source": [
    "df[\"para_ac_stances\"] = df.apply(lambda row : build_stances(row), axis=1)"
   ]
  },
  {
   "cell_type": "code",
   "execution_count": 41,
   "id": "5152c1e0-d053-42e8-aa36-8d432044f28c",
   "metadata": {},
   "outputs": [
    {
     "data": {
      "text/plain": [
       "Index(['ann_file_name', 'argument_ids', 'argument_types', 'arg_start_bounds',\n",
       "       'arg_end_bounds', 'argument_components', 'source_args', 'target_args',\n",
       "       'relation_types', 'stance_types', 'essay_title', 'essay_text',\n",
       "       'source_acs', 'target_acs', 'relation_pairs', 'stance_pairs', 'split',\n",
       "       'sorted_acs', 'sorted_ac_types', 'para_acs', 'para_ac_types',\n",
       "       'paras_structure', 'para_ac_all_pairs', 'para_ac_rels',\n",
       "       'para_ac_stances'],\n",
       "      dtype='object')"
      ]
     },
     "execution_count": 41,
     "metadata": {},
     "output_type": "execute_result"
    }
   ],
   "source": [
    "df.columns"
   ]
  },
  {
   "cell_type": "code",
   "execution_count": 42,
   "id": "9672373e-d7cc-4cd3-b6a0-34893bd715bf",
   "metadata": {},
   "outputs": [
    {
     "data": {
      "text/plain": [
       "[(6, 1, 'attacks'),\n",
       " (6, 14, 'attacks'),\n",
       " (8, 1, 'supports'),\n",
       " (8, 14, 'supports'),\n",
       " (15, 1, 'attacks'),\n",
       " (15, 14, 'attacks')]"
      ]
     },
     "execution_count": 42,
     "metadata": {},
     "output_type": "execute_result"
    }
   ],
   "source": [
    "df.iloc[33].para_ac_stances"
   ]
  },
  {
   "cell_type": "code",
   "execution_count": 43,
   "id": "2271e66d-f073-4c35-ac6b-ea3d9c631f09",
   "metadata": {},
   "outputs": [
    {
     "data": {
      "text/plain": [
       "['MajorClaim',\n",
       " 'Premise',\n",
       " 'Premise',\n",
       " 'Premise',\n",
       " 'Premise',\n",
       " 'Claim',\n",
       " 'Premise',\n",
       " 'Claim',\n",
       " 'Premise',\n",
       " 'Premise',\n",
       " 'Premise',\n",
       " 'Premise',\n",
       " 'Premise',\n",
       " 'MajorClaim',\n",
       " 'Claim',\n",
       " 'Premise',\n",
       " 'Premise']"
      ]
     },
     "execution_count": 43,
     "metadata": {},
     "output_type": "execute_result"
    }
   ],
   "source": [
    "df.iloc[33].sorted_ac_types"
   ]
  },
  {
   "cell_type": "code",
   "execution_count": 44,
   "id": "2adbf831-dd6c-4e2e-b2b3-7f0a27fefe52",
   "metadata": {},
   "outputs": [
    {
     "data": {
      "text/plain": [
       "[[],\n",
       " [(2, 3, 'NR'),\n",
       "  (2, 4, 'NR'),\n",
       "  (2, 5, 'NR'),\n",
       "  (3, 2, 'supports'),\n",
       "  (3, 4, 'NR'),\n",
       "  (3, 5, 'NR'),\n",
       "  (4, 2, 'supports'),\n",
       "  (4, 3, 'NR'),\n",
       "  (4, 5, 'NR'),\n",
       "  (5, 2, 'supports'),\n",
       "  (5, 3, 'NR'),\n",
       "  (5, 4, 'NR')],\n",
       " [(6, 7, 'supports'),\n",
       "  (6, 8, 'NR'),\n",
       "  (6, 9, 'NR'),\n",
       "  (6, 10, 'NR'),\n",
       "  (7, 6, 'NR'),\n",
       "  (7, 8, 'NR'),\n",
       "  (7, 9, 'NR'),\n",
       "  (7, 10, 'NR'),\n",
       "  (8, 6, 'NR'),\n",
       "  (8, 7, 'NR'),\n",
       "  (8, 9, 'NR'),\n",
       "  (8, 10, 'supports'),\n",
       "  (9, 6, 'NR'),\n",
       "  (9, 7, 'NR'),\n",
       "  (9, 8, 'NR'),\n",
       "  (9, 10, 'supports'),\n",
       "  (10, 6, 'NR'),\n",
       "  (10, 7, 'NR'),\n",
       "  (10, 8, 'NR'),\n",
       "  (10, 9, 'NR')],\n",
       " []]"
      ]
     },
     "execution_count": 44,
     "metadata": {},
     "output_type": "execute_result"
    }
   ],
   "source": [
    "df.iloc[0].para_ac_rels"
   ]
  },
  {
   "cell_type": "code",
   "execution_count": 45,
   "id": "1311a8bd",
   "metadata": {},
   "outputs": [
    {
     "data": {
      "text/plain": [
       "1833"
      ]
     },
     "execution_count": 45,
     "metadata": {},
     "output_type": "execute_result"
    }
   ],
   "source": [
    "sum(df.para_ac_rels.apply(len))"
   ]
  },
  {
   "cell_type": "code",
   "execution_count": 46,
   "id": "b990f47c",
   "metadata": {},
   "outputs": [],
   "source": [
    "z = [elem for sl in df.para_ac_all_pairs for elem in sl]"
   ]
  },
  {
   "cell_type": "code",
   "execution_count": 47,
   "id": "35c8c332",
   "metadata": {},
   "outputs": [
    {
     "data": {
      "text/plain": [
       "1833"
      ]
     },
     "execution_count": 47,
     "metadata": {},
     "output_type": "execute_result"
    }
   ],
   "source": [
    "len(z)"
   ]
  },
  {
   "cell_type": "code",
   "execution_count": 48,
   "id": "e77bcf7b",
   "metadata": {},
   "outputs": [
    {
     "data": {
      "text/plain": [
       "[(2, 3, 'NR'),\n",
       " (2, 4, 'NR'),\n",
       " (2, 5, 'NR'),\n",
       " (3, 2, 'supports'),\n",
       " (3, 4, 'NR'),\n",
       " (3, 5, 'NR'),\n",
       " (4, 2, 'supports'),\n",
       " (4, 3, 'NR'),\n",
       " (4, 5, 'NR'),\n",
       " (5, 2, 'supports'),\n",
       " (5, 3, 'NR'),\n",
       " (5, 4, 'NR')]"
      ]
     },
     "execution_count": 48,
     "metadata": {},
     "output_type": "execute_result"
    }
   ],
   "source": [
    "z[1]"
   ]
  },
  {
   "cell_type": "code",
   "execution_count": 49,
   "id": "4c512460",
   "metadata": {},
   "outputs": [],
   "source": [
    "z1 = [elem for sl in z for elem in sl]"
   ]
  },
  {
   "cell_type": "code",
   "execution_count": 50,
   "id": "a5cb0994",
   "metadata": {},
   "outputs": [
    {
     "data": {
      "text/plain": [
       "22172"
      ]
     },
     "execution_count": 50,
     "metadata": {},
     "output_type": "execute_result"
    }
   ],
   "source": [
    "len(z1)"
   ]
  },
  {
   "cell_type": "code",
   "execution_count": 51,
   "id": "e2f52c91",
   "metadata": {},
   "outputs": [
    {
     "data": {
      "text/plain": [
       "2841"
      ]
     },
     "execution_count": 51,
     "metadata": {},
     "output_type": "execute_result"
    }
   ],
   "source": [
    "sum(df.para_ac_stances.apply(len))"
   ]
  },
  {
   "cell_type": "code",
   "execution_count": 53,
   "id": "d71ef01e",
   "metadata": {},
   "outputs": [
    {
     "data": {
      "text/plain": [
       "0      [(2, 1, supports), (2, 11, supports), (7, 1, a...\n",
       "1      [(6, 1, supports), (6, 14, supports), (12, 1, ...\n",
       "2      [(5, 1, supports), (5, 10, supports), (9, 1, s...\n",
       "3      [(1, 2, attacks), (1, 11, attacks), (6, 2, sup...\n",
       "4      [(2, 1, supports), (2, 12, supports), (4, 1, s...\n",
       "                             ...                        \n",
       "397    [(1, 16, supports), (2, 16, supports), (8, 16,...\n",
       "398    [(3, 1, supports), (3, 10, supports), (7, 1, s...\n",
       "399    [(4, 1, supports), (4, 10, supports), (6, 1, s...\n",
       "400    [(2, 1, supports), (2, 10, supports), (5, 1, s...\n",
       "401    [(2, 1, supports), (2, 15, supports), (7, 1, s...\n",
       "Name: para_ac_stances, Length: 402, dtype: object"
      ]
     },
     "execution_count": 53,
     "metadata": {},
     "output_type": "execute_result"
    }
   ],
   "source": [
    "df.para_ac_stances"
   ]
  },
  {
   "cell_type": "code",
   "execution_count": 55,
   "id": "bff5a90a",
   "metadata": {},
   "outputs": [],
   "source": [
    "listo = []\n",
    "\n",
    "for idx, l in enumerate(df.para_ac_stances):\n",
    "    listo.append(set([elem[0] for elem in l]))"
   ]
  },
  {
   "cell_type": "code",
   "execution_count": 56,
   "id": "1218c6c1",
   "metadata": {},
   "outputs": [
    {
     "data": {
      "text/plain": [
       "402"
      ]
     },
     "execution_count": 56,
     "metadata": {},
     "output_type": "execute_result"
    }
   ],
   "source": [
    "len(listo)"
   ]
  },
  {
   "cell_type": "code",
   "execution_count": 57,
   "id": "a9b46caf",
   "metadata": {},
   "outputs": [
    {
     "data": {
      "text/plain": [
       "{2, 7, 10}"
      ]
     },
     "execution_count": 57,
     "metadata": {},
     "output_type": "execute_result"
    }
   ],
   "source": [
    "listo[0]"
   ]
  },
  {
   "cell_type": "code",
   "execution_count": 58,
   "id": "c3e19040",
   "metadata": {},
   "outputs": [
    {
     "data": {
      "text/plain": [
       "1506"
      ]
     },
     "execution_count": 58,
     "metadata": {},
     "output_type": "execute_result"
    }
   ],
   "source": [
    "sum([len(i) for i in listo])"
   ]
  },
  {
   "cell_type": "code",
   "execution_count": 59,
   "id": "9f44e271",
   "metadata": {},
   "outputs": [],
   "source": [
    "df.to_csv(\"/Utilisateurs/umushtaq/am_reasoning/data_files/pe_dataset_final_c.csv\")"
   ]
  },
  {
   "cell_type": "code",
   "execution_count": null,
   "id": "76508446",
   "metadata": {},
   "outputs": [],
   "source": []
  }
 ],
 "metadata": {
  "kernelspec": {
   "display_name": "Python (17M_env)",
   "language": "python",
   "name": "17m_env"
  },
  "language_info": {
   "codemirror_mode": {
    "name": "ipython",
    "version": 3
   },
   "file_extension": ".py",
   "mimetype": "text/x-python",
   "name": "python",
   "nbconvert_exporter": "python",
   "pygments_lexer": "ipython3",
   "version": "3.11.11"
  }
 },
 "nbformat": 4,
 "nbformat_minor": 5
}
