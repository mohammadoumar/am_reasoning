{
 "cells": [
  {
   "cell_type": "code",
   "execution_count": 3,
   "metadata": {},
   "outputs": [],
   "source": [
    "import pandas as pd\n",
    "from pathlib import Path"
   ]
  },
  {
   "cell_type": "code",
   "execution_count": 11,
   "metadata": {},
   "outputs": [],
   "source": [
    "DATA_DIR = Path.cwd() / \"am_reasoning\" / \"data_files\""
   ]
  },
  {
   "cell_type": "code",
   "execution_count": 15,
   "metadata": {},
   "outputs": [],
   "source": [
    "df = pd.read_csv((DATA_DIR / \"pe_dataset.csv\"), index_col=0)"
   ]
  },
  {
   "cell_type": "code",
   "execution_count": 32,
   "metadata": {},
   "outputs": [
    {
     "data": {
      "text/html": [
       "<div>\n",
       "<style scoped>\n",
       "    .dataframe tbody tr th:only-of-type {\n",
       "        vertical-align: middle;\n",
       "    }\n",
       "\n",
       "    .dataframe tbody tr th {\n",
       "        vertical-align: top;\n",
       "    }\n",
       "\n",
       "    .dataframe thead th {\n",
       "        text-align: right;\n",
       "    }\n",
       "</style>\n",
       "<table border=\"1\" class=\"dataframe\">\n",
       "  <thead>\n",
       "    <tr style=\"text-align: right;\">\n",
       "      <th></th>\n",
       "      <th>split</th>\n",
       "      <th>title</th>\n",
       "      <th>argument_bound_1</th>\n",
       "      <th>argument_bound_2</th>\n",
       "      <th>argument_id</th>\n",
       "      <th>ac</th>\n",
       "      <th>label</th>\n",
       "      <th>essay</th>\n",
       "    </tr>\n",
       "  </thead>\n",
       "  <tbody>\n",
       "    <tr>\n",
       "      <th>0</th>\n",
       "      <td>TRAIN</td>\n",
       "      <td>Should students be taught to compete or to coo...</td>\n",
       "      <td>503</td>\n",
       "      <td>575</td>\n",
       "      <td>1</td>\n",
       "      <td>we should attach more importance to cooperatio...</td>\n",
       "      <td>MajorClaim</td>\n",
       "      <td>Should students be taught to compete or to coo...</td>\n",
       "    </tr>\n",
       "    <tr>\n",
       "      <th>1</th>\n",
       "      <td>TRAIN</td>\n",
       "      <td>Should students be taught to compete or to coo...</td>\n",
       "      <td>591</td>\n",
       "      <td>714</td>\n",
       "      <td>2</td>\n",
       "      <td>through cooperation, children can learn about ...</td>\n",
       "      <td>Claim</td>\n",
       "      <td>Should students be taught to compete or to coo...</td>\n",
       "    </tr>\n",
       "    <tr>\n",
       "      <th>2</th>\n",
       "      <td>TRAIN</td>\n",
       "      <td>Should students be taught to compete or to coo...</td>\n",
       "      <td>716</td>\n",
       "      <td>851</td>\n",
       "      <td>3</td>\n",
       "      <td>What we acquired from team work is not only ho...</td>\n",
       "      <td>Premise</td>\n",
       "      <td>Should students be taught to compete or to coo...</td>\n",
       "    </tr>\n",
       "    <tr>\n",
       "      <th>3</th>\n",
       "      <td>TRAIN</td>\n",
       "      <td>Should students be taught to compete or to coo...</td>\n",
       "      <td>853</td>\n",
       "      <td>1086</td>\n",
       "      <td>4</td>\n",
       "      <td>During the process of cooperation, children ca...</td>\n",
       "      <td>Premise</td>\n",
       "      <td>Should students be taught to compete or to coo...</td>\n",
       "    </tr>\n",
       "    <tr>\n",
       "      <th>4</th>\n",
       "      <td>TRAIN</td>\n",
       "      <td>Should students be taught to compete or to coo...</td>\n",
       "      <td>1088</td>\n",
       "      <td>1191</td>\n",
       "      <td>5</td>\n",
       "      <td>All of these skills help them to get on well w...</td>\n",
       "      <td>Premise</td>\n",
       "      <td>Should students be taught to compete or to coo...</td>\n",
       "    </tr>\n",
       "    <tr>\n",
       "      <th>...</th>\n",
       "      <td>...</td>\n",
       "      <td>...</td>\n",
       "      <td>...</td>\n",
       "      <td>...</td>\n",
       "      <td>...</td>\n",
       "      <td>...</td>\n",
       "      <td>...</td>\n",
       "      <td>...</td>\n",
       "    </tr>\n",
       "    <tr>\n",
       "      <th>6084</th>\n",
       "      <td>TRAIN</td>\n",
       "      <td>Children should studying hard or playing sport...</td>\n",
       "      <td>1275</td>\n",
       "      <td>1339</td>\n",
       "      <td>11</td>\n",
       "      <td>indirectly they will learn how to socialize ea...</td>\n",
       "      <td>Premise</td>\n",
       "      <td>Children should studying hard or playing sport...</td>\n",
       "    </tr>\n",
       "    <tr>\n",
       "      <th>6085</th>\n",
       "      <td>TRAIN</td>\n",
       "      <td>Children should studying hard or playing sport...</td>\n",
       "      <td>1341</td>\n",
       "      <td>1388</td>\n",
       "      <td>12</td>\n",
       "      <td>That will make children getting lots of friends</td>\n",
       "      <td>Premise</td>\n",
       "      <td>Children should studying hard or playing sport...</td>\n",
       "    </tr>\n",
       "    <tr>\n",
       "      <th>6086</th>\n",
       "      <td>TRAIN</td>\n",
       "      <td>Children should studying hard or playing sport...</td>\n",
       "      <td>1393</td>\n",
       "      <td>1436</td>\n",
       "      <td>13</td>\n",
       "      <td>they can contribute positively to community</td>\n",
       "      <td>Premise</td>\n",
       "      <td>Children should studying hard or playing sport...</td>\n",
       "    </tr>\n",
       "    <tr>\n",
       "      <th>6087</th>\n",
       "      <td>TRAIN</td>\n",
       "      <td>Children should studying hard or playing sport...</td>\n",
       "      <td>1448</td>\n",
       "      <td>1525</td>\n",
       "      <td>14</td>\n",
       "      <td>playing sport makes children getting healthy a...</td>\n",
       "      <td>Premise</td>\n",
       "      <td>Children should studying hard or playing sport...</td>\n",
       "    </tr>\n",
       "    <tr>\n",
       "      <th>6088</th>\n",
       "      <td>TRAIN</td>\n",
       "      <td>Children should studying hard or playing sport...</td>\n",
       "      <td>1543</td>\n",
       "      <td>1620</td>\n",
       "      <td>15</td>\n",
       "      <td>both studying hard at school and playing sport...</td>\n",
       "      <td>MajorClaim</td>\n",
       "      <td>Children should studying hard or playing sport...</td>\n",
       "    </tr>\n",
       "  </tbody>\n",
       "</table>\n",
       "<p>6089 rows × 8 columns</p>\n",
       "</div>"
      ],
      "text/plain": [
       "      split                                              title  \\\n",
       "0     TRAIN  Should students be taught to compete or to coo...   \n",
       "1     TRAIN  Should students be taught to compete or to coo...   \n",
       "2     TRAIN  Should students be taught to compete or to coo...   \n",
       "3     TRAIN  Should students be taught to compete or to coo...   \n",
       "4     TRAIN  Should students be taught to compete or to coo...   \n",
       "...     ...                                                ...   \n",
       "6084  TRAIN  Children should studying hard or playing sport...   \n",
       "6085  TRAIN  Children should studying hard or playing sport...   \n",
       "6086  TRAIN  Children should studying hard or playing sport...   \n",
       "6087  TRAIN  Children should studying hard or playing sport...   \n",
       "6088  TRAIN  Children should studying hard or playing sport...   \n",
       "\n",
       "      argument_bound_1  argument_bound_2  argument_id  \\\n",
       "0                  503               575            1   \n",
       "1                  591               714            2   \n",
       "2                  716               851            3   \n",
       "3                  853              1086            4   \n",
       "4                 1088              1191            5   \n",
       "...                ...               ...          ...   \n",
       "6084              1275              1339           11   \n",
       "6085              1341              1388           12   \n",
       "6086              1393              1436           13   \n",
       "6087              1448              1525           14   \n",
       "6088              1543              1620           15   \n",
       "\n",
       "                                                     ac       label  \\\n",
       "0     we should attach more importance to cooperatio...  MajorClaim   \n",
       "1     through cooperation, children can learn about ...       Claim   \n",
       "2     What we acquired from team work is not only ho...     Premise   \n",
       "3     During the process of cooperation, children ca...     Premise   \n",
       "4     All of these skills help them to get on well w...     Premise   \n",
       "...                                                 ...         ...   \n",
       "6084  indirectly they will learn how to socialize ea...     Premise   \n",
       "6085    That will make children getting lots of friends     Premise   \n",
       "6086        they can contribute positively to community     Premise   \n",
       "6087  playing sport makes children getting healthy a...     Premise   \n",
       "6088  both studying hard at school and playing sport...  MajorClaim   \n",
       "\n",
       "                                                  essay  \n",
       "0     Should students be taught to compete or to coo...  \n",
       "1     Should students be taught to compete or to coo...  \n",
       "2     Should students be taught to compete or to coo...  \n",
       "3     Should students be taught to compete or to coo...  \n",
       "4     Should students be taught to compete or to coo...  \n",
       "...                                                 ...  \n",
       "6084  Children should studying hard or playing sport...  \n",
       "6085  Children should studying hard or playing sport...  \n",
       "6086  Children should studying hard or playing sport...  \n",
       "6087  Children should studying hard or playing sport...  \n",
       "6088  Children should studying hard or playing sport...  \n",
       "\n",
       "[6089 rows x 8 columns]"
      ]
     },
     "execution_count": 32,
     "metadata": {},
     "output_type": "execute_result"
    }
   ],
   "source": [
    "df"
   ]
  },
  {
   "cell_type": "code",
   "execution_count": 17,
   "metadata": {},
   "outputs": [
    {
     "data": {
      "text/plain": [
       "Index(['split', 'title', 'argument_bound_1', 'argument_bound_2', 'argument_id',\n",
       "       'ac', 'label', 'essay'],\n",
       "      dtype='object')"
      ]
     },
     "execution_count": 17,
     "metadata": {},
     "output_type": "execute_result"
    }
   ],
   "source": [
    "df.columns"
   ]
  },
  {
   "cell_type": "code",
   "execution_count": 18,
   "metadata": {},
   "outputs": [
    {
     "data": {
      "text/plain": [
       "395"
      ]
     },
     "execution_count": 18,
     "metadata": {},
     "output_type": "execute_result"
    }
   ],
   "source": [
    "len(df.title.unique().tolist())"
   ]
  },
  {
   "cell_type": "code",
   "execution_count": 21,
   "metadata": {},
   "outputs": [
    {
     "data": {
      "text/plain": [
       "399"
      ]
     },
     "execution_count": 21,
     "metadata": {},
     "output_type": "execute_result"
    }
   ],
   "source": [
    "len(df.essay.unique().tolist())"
   ]
  },
  {
   "cell_type": "code",
   "execution_count": 22,
   "metadata": {},
   "outputs": [
    {
     "data": {
      "text/plain": [
       "label\n",
       "Premise       3832\n",
       "Claim         1506\n",
       "MajorClaim     751\n",
       "Name: count, dtype: int64"
      ]
     },
     "execution_count": 22,
     "metadata": {},
     "output_type": "execute_result"
    }
   ],
   "source": [
    "df.label.value_counts()"
   ]
  }
 ],
 "metadata": {
  "kernelspec": {
   "display_name": "Python 3 (ipykernel)",
   "language": "python",
   "name": "python3"
  }
 },
 "nbformat": 4,
 "nbformat_minor": 2
}
