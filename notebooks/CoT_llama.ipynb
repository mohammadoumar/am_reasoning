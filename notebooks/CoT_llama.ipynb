{
 "cells": [
  {
   "cell_type": "code",
   "execution_count": 1,
   "metadata": {},
   "outputs": [],
   "source": [
    "import torch\n",
    "import pandas as pd\n",
    "\n",
    "from tqdm import tqdm\n",
    "from pathlib import Path\n",
    "from transformers import AutoTokenizer, AutoModelForCausalLM"
   ]
  },
  {
   "cell_type": "markdown",
   "metadata": {},
   "source": [
    "### Tokenizer and Model"
   ]
  },
  {
   "cell_type": "code",
   "execution_count": 4,
   "metadata": {},
   "outputs": [],
   "source": [
    "model_id = \"unsloth/Llama-3.1-8B-Instruct-bnb-4bit\""
   ]
  },
  {
   "cell_type": "code",
   "execution_count": 5,
   "metadata": {},
   "outputs": [
    {
     "data": {
      "application/vnd.jupyter.widget-view+json": {
       "model_id": "5a3e26706c914f8fa162884c4d9a7710",
       "version_major": 2,
       "version_minor": 0
      },
      "text/plain": [
       "tokenizer_config.json:   0%|          | 0.00/55.5k [00:00<?, ?B/s]"
      ]
     },
     "metadata": {},
     "output_type": "display_data"
    },
    {
     "data": {
      "application/vnd.jupyter.widget-view+json": {
       "model_id": "77fe3f4814f1450186cfcea26286fe26",
       "version_major": 2,
       "version_minor": 0
      },
      "text/plain": [
       "tokenizer.json:   0%|          | 0.00/17.2M [00:00<?, ?B/s]"
      ]
     },
     "metadata": {},
     "output_type": "display_data"
    },
    {
     "data": {
      "application/vnd.jupyter.widget-view+json": {
       "model_id": "2d5299495b0e484eaa52bd5bb0c155e0",
       "version_major": 2,
       "version_minor": 0
      },
      "text/plain": [
       "special_tokens_map.json:   0%|          | 0.00/454 [00:00<?, ?B/s]"
      ]
     },
     "metadata": {},
     "output_type": "display_data"
    }
   ],
   "source": [
    "tokenizer = AutoTokenizer.from_pretrained(model_id)"
   ]
  },
  {
   "cell_type": "code",
   "execution_count": 6,
   "metadata": {},
   "outputs": [
    {
     "data": {
      "application/vnd.jupyter.widget-view+json": {
       "model_id": "e191be75d9214b44a130d8547b41e080",
       "version_major": 2,
       "version_minor": 0
      },
      "text/plain": [
       "config.json:   0%|          | 0.00/1.53k [00:00<?, ?B/s]"
      ]
     },
     "metadata": {},
     "output_type": "display_data"
    },
    {
     "data": {
      "application/vnd.jupyter.widget-view+json": {
       "model_id": "5a4eb916d09d4372b7df00a440ba7d42",
       "version_major": 2,
       "version_minor": 0
      },
      "text/plain": [
       "model.safetensors:   0%|          | 0.00/5.70G [00:00<?, ?B/s]"
      ]
     },
     "metadata": {},
     "output_type": "display_data"
    },
    {
     "data": {
      "application/vnd.jupyter.widget-view+json": {
       "model_id": "2dc3e956c8754f8cb32c8b0657669531",
       "version_major": 2,
       "version_minor": 0
      },
      "text/plain": [
       "generation_config.json:   0%|          | 0.00/239 [00:00<?, ?B/s]"
      ]
     },
     "metadata": {},
     "output_type": "display_data"
    }
   ],
   "source": [
    "model = AutoModelForCausalLM.from_pretrained(\n",
    "    model_id,\n",
    "    torch_dtype=torch.bfloat16,\n",
    "    device_map=\"auto\",\n",
    ")"
   ]
  },
  {
   "cell_type": "code",
   "execution_count": 7,
   "metadata": {},
   "outputs": [
    {
     "data": {
      "text/plain": [
       "LlamaConfig {\n",
       "  \"_attn_implementation_autoset\": true,\n",
       "  \"_name_or_path\": \"unsloth/Llama-3.1-8B-Instruct-bnb-4bit\",\n",
       "  \"architectures\": [\n",
       "    \"LlamaForCausalLM\"\n",
       "  ],\n",
       "  \"attention_bias\": false,\n",
       "  \"attention_dropout\": 0.0,\n",
       "  \"bos_token_id\": 128000,\n",
       "  \"eos_token_id\": 128009,\n",
       "  \"head_dim\": 128,\n",
       "  \"hidden_act\": \"silu\",\n",
       "  \"hidden_size\": 4096,\n",
       "  \"initializer_range\": 0.02,\n",
       "  \"intermediate_size\": 14336,\n",
       "  \"max_position_embeddings\": 131072,\n",
       "  \"mlp_bias\": false,\n",
       "  \"model_type\": \"llama\",\n",
       "  \"num_attention_heads\": 32,\n",
       "  \"num_hidden_layers\": 32,\n",
       "  \"num_key_value_heads\": 8,\n",
       "  \"pad_token_id\": 128004,\n",
       "  \"pretraining_tp\": 1,\n",
       "  \"quantization_config\": {\n",
       "    \"_load_in_4bit\": true,\n",
       "    \"_load_in_8bit\": false,\n",
       "    \"bnb_4bit_compute_dtype\": \"bfloat16\",\n",
       "    \"bnb_4bit_quant_storage\": \"uint8\",\n",
       "    \"bnb_4bit_quant_type\": \"nf4\",\n",
       "    \"bnb_4bit_use_double_quant\": true,\n",
       "    \"llm_int8_enable_fp32_cpu_offload\": false,\n",
       "    \"llm_int8_has_fp16_weight\": false,\n",
       "    \"llm_int8_skip_modules\": [\n",
       "      \"lm_head\",\n",
       "      \"multi_modal_projector\",\n",
       "      \"merger\",\n",
       "      \"modality_projection\"\n",
       "    ],\n",
       "    \"llm_int8_threshold\": 6.0,\n",
       "    \"load_in_4bit\": true,\n",
       "    \"load_in_8bit\": false,\n",
       "    \"quant_method\": \"bitsandbytes\"\n",
       "  },\n",
       "  \"rms_norm_eps\": 1e-05,\n",
       "  \"rope_scaling\": {\n",
       "    \"factor\": 8.0,\n",
       "    \"high_freq_factor\": 4.0,\n",
       "    \"low_freq_factor\": 1.0,\n",
       "    \"original_max_position_embeddings\": 8192,\n",
       "    \"rope_type\": \"llama3\"\n",
       "  },\n",
       "  \"rope_theta\": 500000.0,\n",
       "  \"tie_word_embeddings\": false,\n",
       "  \"torch_dtype\": \"bfloat16\",\n",
       "  \"transformers_version\": \"4.49.0\",\n",
       "  \"unsloth_fixed\": true,\n",
       "  \"use_cache\": true,\n",
       "  \"vocab_size\": 128256\n",
       "}"
      ]
     },
     "execution_count": 7,
     "metadata": {},
     "output_type": "execute_result"
    }
   ],
   "source": [
    "model.config"
   ]
  },
  {
   "cell_type": "markdown",
   "metadata": {},
   "source": [
    "### Data"
   ]
  },
  {
   "cell_type": "code",
   "execution_count": 8,
   "metadata": {},
   "outputs": [],
   "source": [
    "DATA_DIR = Path.cwd() / \"am_reasoning\" / \"data_files\""
   ]
  },
  {
   "cell_type": "code",
   "execution_count": 9,
   "metadata": {},
   "outputs": [],
   "source": [
    "df = pd.read_csv((DATA_DIR / \"pe_dataset.csv\"), index_col=0)"
   ]
  },
  {
   "cell_type": "code",
   "execution_count": 10,
   "metadata": {},
   "outputs": [
    {
     "data": {
      "text/plain": [
       "Index(['split', 'title', 'argument_bound_1', 'argument_bound_2', 'argument_id',\n",
       "       'ac', 'label', 'essay'],\n",
       "      dtype='object')"
      ]
     },
     "execution_count": 10,
     "metadata": {},
     "output_type": "execute_result"
    }
   ],
   "source": [
    "df.columns"
   ]
  },
  {
   "cell_type": "code",
   "execution_count": 11,
   "metadata": {},
   "outputs": [
    {
     "data": {
      "text/plain": [
       "(6089, 8)"
      ]
     },
     "execution_count": 11,
     "metadata": {},
     "output_type": "execute_result"
    }
   ],
   "source": [
    "df.shape"
   ]
  },
  {
   "cell_type": "code",
   "execution_count": 43,
   "metadata": {},
   "outputs": [
    {
     "data": {
      "text/plain": [
       "split\n",
       "TRAIN    4823\n",
       "TEST     1266\n",
       "Name: count, dtype: int64"
      ]
     },
     "execution_count": 43,
     "metadata": {},
     "output_type": "execute_result"
    }
   ],
   "source": [
    "df.split.value_counts()"
   ]
  },
  {
   "cell_type": "markdown",
   "metadata": {},
   "source": [
    "### Template Messages"
   ]
  },
  {
   "cell_type": "code",
   "execution_count": 12,
   "metadata": {},
   "outputs": [],
   "source": [
    "# sys_msg = \"\"\"You are an expert in argumentation analysis. You will be given a complete argument. Your task is to analyze the argument holistically and classify it as exactly ONE of the following categories: Position, Claim, or Premise. \n",
    "\n",
    "# First, think through your analysis step by step, considering the function and structure of the argument. Explain your reasoning, identifying key characteristics that point to a specific classification.\n",
    "\n",
    "# Then, provide your final classification as a single word: Position, Claim, or Premise.\"\"\""
   ]
  },
  {
   "cell_type": "code",
   "execution_count": 13,
   "metadata": {},
   "outputs": [],
   "source": [
    "# instruction = \"\"\"### You are an expert in Argument Mining. You are given an argument component from an essay. Your task is to classify the argument component as either \"MajorClaim\", \"Claim\" or \"Premise\". You must return the argument component type in following JSON format:: {\"component_type\": [component_type (str)]}\n",
    "\n",
    "\n",
    "# \"\"\""
   ]
  },
  {
   "cell_type": "code",
   "execution_count": 14,
   "metadata": {},
   "outputs": [],
   "source": [
    "# instruction = \"\"\"### You are an expert in Argument Mining and discourse analysis. \n",
    "\n",
    "# INPUT:\n",
    "# - You are given an argument component from an essay. \n",
    "# - You are given the full text of the essay.\n",
    "\n",
    "# TASK:\n",
    "# - Your task is to classify the whole argument component, as ONLY ONE of: \"MajorClaim\", \"Claim\" or \"Premise\".\n",
    "# - Explain your reasoning step-by-step before making your final classification.\n",
    "\n",
    "# Then, return your final classification in the following JSON format:\n",
    "# {\"component_type\": [Answer]}\n",
    "\n",
    "# Example:\n",
    "\n",
    "# {\"component_type\": [\"Claim\"]}\n",
    "\n",
    "# \"\"\""
   ]
  },
  {
   "cell_type": "code",
   "execution_count": 15,
   "metadata": {},
   "outputs": [],
   "source": [
    "reasons_d = {}"
   ]
  },
  {
   "cell_type": "code",
   "execution_count": 16,
   "metadata": {},
   "outputs": [],
   "source": [
    "instruction = \"\"\"### You are an expert in Argument Mining and discourse analysis. \n",
    "\n",
    "INPUT:\n",
    "- You are given a single argument component from an essay. \n",
    "- You are also given the full text of the essay for context.\n",
    "\n",
    "TASK:\n",
    "- Your task is to classify the ENTIRE argument component as ONE of these three categories ONLY: \"MajorClaim\", \"Claim\" or \"Premise\".\n",
    "- Do NOT break down the argument component into smaller parts with different classifications.\n",
    "- The WHOLE component must receive exactly ONE classification.\n",
    "\n",
    "REASONING PROCESS:\n",
    "First, analyze the component considering these factors:\n",
    "1. Semantic content: What is the meaning and purpose of this component in the argument?\n",
    "2. Syntactic structure: How is this component phrased? (declarative statement, supporting evidence, etc.)\n",
    "3. Context: How does this component relate to the overall essay thesis?\n",
    "4. Function: \n",
    "   - Does it express the author's central position on the main topic? (MajorClaim)\n",
    "   - Does it express a specific stance that supports or develops the main position? (Claim)\n",
    "   - Does it provide evidence, examples, or justification for a claim? (Premise)\n",
    "\n",
    "Provide your step-by-step reasoning, then classify the ENTIRE argument component as exactly ONE of: \"MajorClaim\", \"Claim\", or \"Premise\".\n",
    "\n",
    "Finally, return your classification in the following JSON format:\n",
    "{\"component_type\": [\"Your Answer\"]}\n",
    "\n",
    "Example:\n",
    "{\"component_type\": [\"Claim\"]}\n",
    "\n",
    "\"\"\""
   ]
  },
  {
   "cell_type": "code",
   "execution_count": 18,
   "metadata": {},
   "outputs": [],
   "source": [
    "df_s = df.sample(20).reset_index(drop=True)"
   ]
  },
  {
   "cell_type": "code",
   "execution_count": 19,
   "metadata": {},
   "outputs": [],
   "source": [
    "sys_msgs = []\n",
    "user_msgs = []\n",
    "\n",
    "for _, row in df_s.iterrows():\n",
    "\n",
    "    sys_msg = {\"role\": \"system\", \"content\": instruction}\n",
    "    #usr_msg = {\"role\": \"user\", \"content\": f\"\"\"### Here is the argument component to be classified: {row['ac']}\"\"\"} \n",
    "    \n",
    "    #msg_c = f\"\"\"### Here is the complete essay text: {df.iloc[0]['essay']}\"\"\" + \"\\n\\n\" + f\"\"\"### Here is the argument component to be classified: {row['ac']}\"\"\"\n",
    "    \n",
    "    usr_msg = {\"role\": \"user\", \"content\": f\"\"\"### Here is the complete essay text: {row['essay']}\"\"\" + \"\\n\\n\" + f\"\"\"### Here is the argument component to be classified: {row['ac']}\"\"\"}\n",
    "    \n",
    "    \n",
    "    sys_msgs.append(sys_msg)\n",
    "    user_msgs.append(usr_msg)    \n",
    "    "
   ]
  },
  {
   "cell_type": "code",
   "execution_count": 20,
   "metadata": {},
   "outputs": [],
   "source": [
    "messages = []\n",
    "\n",
    "for i in range(len(sys_msgs)):\n",
    "    messages.append([sys_msgs[i], user_msgs[i]])"
   ]
  },
  {
   "cell_type": "code",
   "execution_count": 21,
   "metadata": {},
   "outputs": [
    {
     "data": {
      "text/plain": [
       "20"
      ]
     },
     "execution_count": 21,
     "metadata": {},
     "output_type": "execute_result"
    }
   ],
   "source": [
    "len(messages)"
   ]
  },
  {
   "cell_type": "code",
   "execution_count": 22,
   "metadata": {},
   "outputs": [
    {
     "data": {
      "text/plain": [
       "\" Here is the argument component to be classified: many people's jobs are now at high stake\""
      ]
     },
     "execution_count": 22,
     "metadata": {},
     "output_type": "execute_result"
    }
   ],
   "source": [
    "messages[5][1]['content'].split(\"###\")[2]"
   ]
  },
  {
   "cell_type": "code",
   "execution_count": 23,
   "metadata": {},
   "outputs": [],
   "source": [
    "#print(usr_msg)"
   ]
  },
  {
   "cell_type": "code",
   "execution_count": 24,
   "metadata": {},
   "outputs": [],
   "source": [
    "# messages = [\n",
    "#     {\"role\": \"system\", \"content\": instruction},\n",
    "#     {\"role\": \"user\", \"content\": usr_msg},\n",
    "# ]"
   ]
  },
  {
   "cell_type": "code",
   "execution_count": 25,
   "metadata": {},
   "outputs": [],
   "source": [
    "terminators = [\n",
    "    tokenizer.eos_token_id,\n",
    "    tokenizer.convert_tokens_to_ids(\"<|eot_id|>\")\n",
    "]"
   ]
  },
  {
   "cell_type": "code",
   "execution_count": 26,
   "metadata": {},
   "outputs": [
    {
     "name": "stderr",
     "output_type": "stream",
     "text": [
      "generating CoT: 100%|██████████| 20/20 [03:20<00:00, 10.02s/it]\n"
     ]
    }
   ],
   "source": [
    "for i, message in tqdm(enumerate(messages), \"generating CoT\", len(messages)):\n",
    "\n",
    "    input_ids = tokenizer.apply_chat_template(message, add_generation_prompt=True, return_tensors=\"pt\").to(model.device) # type: ignore\n",
    "    outputs = model.generate(input_ids, max_new_tokens=1024, eos_token_id=terminators, do_sample=True, temperature=0.1, top_p=0.9)\n",
    "    \n",
    "    response = outputs[0][input_ids.shape[-1]:]\n",
    "    reasons_d[message[1]['content'].split(\"###\")[2]] = tokenizer.decode(response, skip_special_tokens=True)"
   ]
  },
  {
   "cell_type": "code",
   "execution_count": 27,
   "metadata": {},
   "outputs": [
    {
     "data": {
      "text/plain": [
       "{' Here is the argument component to be classified: He or she should always keep the passion in her field': '### Step-by-Step Reasoning:\\n\\n1. **Semantic Content**: The component \"He or she should always keep the passion in her field\" expresses a specific requirement or condition for a professor to be effective in their role. It implies that maintaining passion in their field is essential for a professor\\'s performance.\\n\\n2. **Syntactic Structure**: The component is phrased as a declarative statement, indicating a fact or a requirement. It is not a question or a request, but rather a statement that sets a condition for a professor\\'s success.\\n\\n3. **Context**: In the context of the essay, this component is part of the argument that professors should spend more time doing research. It is used to justify why professors should prioritize research over teaching.\\n\\n4. **Function**: This component does not express the author\\'s central position on the main topic (MajorClaim), nor does it provide evidence or examples to support a claim (Premise). Instead, it expresses a specific stance that supports or develops the main position, which is that professors should prioritize research.\\n\\n### Classification:\\n\\nBased on the analysis, the entire argument component \"He or she should always keep the passion in her field\" should be classified as a **Claim**. It expresses a specific stance that supports or develops the main position, which is that professors should prioritize research.\\n\\n### JSON Classification:\\n\\n{\"component_type\": [\"Claim\"]}',\n",
       " ' Here is the argument component to be classified: there is no argument and punishment for them': '### Step-by-Step Reasoning:\\n\\n1. **Semantic content**: The component \"there is no argument and punishment for them\" describes a characteristic of childhood, specifically the lack of restrictions and consequences. This suggests that it is a descriptive statement rather than a claim or a premise.\\n\\n2. **Syntactic structure**: The component is phrased as a declarative statement, indicating a fact or a characteristic. This structure is typical of premises, which provide evidence or justification for a claim.\\n\\n3. **Context**: In the essay, this component is used to support the author\\'s claim that childhood is the happiest time of people\\'s life. It provides a reason why childhood is considered happy, which is a key function of premises.\\n\\n4. **Function**: The component does not express the author\\'s central position on the main topic (MajorClaim), nor does it express a specific stance that supports or develops the main position (Claim). Instead, it provides evidence or justification for the claim that childhood is happy.\\n\\n### Classification:\\n\\nBased on the analysis, the entire argument component \"there is no argument and punishment for them\" should be classified as a **Premise**.\\n\\n### JSON Classification:\\n\\n{\"component_type\": [\"Premise\"]}',\n",
       " ' Here is the argument component to be classified: Taxation may have tackled the environmental issue simply by diverting people to public transportations such as trains, buses or ferries': '### Step-by-Step Reasoning:\\n\\n1. **Semantic content**: This component presents a potential benefit of increasing taxation on petrol and diesel fuel, specifically that it may divert people to public transportation, thus addressing the environmental issue.\\n\\n2. **Syntactic structure**: The component is phrased as a declarative statement, presenting a fact or an idea.\\n\\n3. **Context**: This component is part of the essay\\'s discussion on the potential effects of increased taxation on petrol and diesel fuel. It is presented as a possible advantage of such taxation.\\n\\n4. **Function**: This component does not express the author\\'s central position on the main topic (MajorClaim), nor does it express a specific stance that supports or develops the main position (Claim). Instead, it provides evidence or justification for a claim, which is that increased taxation on petrol and diesel fuel may have a positive effect on the environment.\\n\\n### Classification:\\n\\nBased on the analysis, the entire argument component should be classified as a **Premise**, as it provides evidence or justification for a claim.\\n\\n### JSON Classification:\\n\\n{\"component_type\": [\"Premise\"]}',\n",
       " ' Here is the argument component to be classified: traditional skills rely little on fossil energy': '### Step-by-Step Reasoning:\\n\\n1. **Semantic content**: The component \"traditional skills rely little on fossil energy\" provides a specific reason or justification for the importance of traditional skills. It highlights a positive aspect of traditional skills, which is their environmental-friendliness.\\n\\n2. **Syntactic structure**: The component is phrased as a declarative statement, providing a factual information about traditional skills.\\n\\n3. **Context**: In the essay, this component is used to support the author\\'s claim that traditional skills are important and should be promoted. It is presented as a reason why traditional skills are valuable, especially in the context of environmental protection.\\n\\n4. **Function**: The component provides evidence or justification for the claim that traditional skills are important. It highlights a specific benefit of traditional skills, which is their environmental-friendliness.\\n\\n### Classification:\\n\\nBased on the analysis, the entire argument component \"traditional skills rely little on fossil energy\" should be classified as a **Premise**. This is because it provides a specific reason or justification for the importance of traditional skills, and is used to support the author\\'s claim.\\n\\n### JSON Classification:\\n\\n{\"component_type\": [\"Premise\"]}',\n",
       " ' Here is the argument component to be classified: students, who study from great schools which have great performance teacher, graduate with great knowledge to survive in next steps of life': '### Step-by-Step Reasoning:\\n\\n1. **Semantic content**: The component discusses the outcome or consequence of students studying in great schools with high-performance teachers. It highlights the benefits of this scenario, specifically the graduates\\' ability to acquire great knowledge.\\n\\n2. **Syntactic structure**: The component is phrased as a declarative statement, providing a conclusion or a result of a particular situation.\\n\\n3. **Context**: The component is part of the essay\\'s conclusion, summarizing the benefits of students evaluating their teachers. It relates to the overall thesis, which emphasizes the importance of student evaluations in improving teacher and school performance.\\n\\n4. **Function**: The component serves as a summary of the essay\\'s main points, emphasizing the benefits of student evaluations. It does not express a specific stance that supports or develops the main position (Claim) but rather provides a conclusion or a result of the argument (MajorClaim).\\n\\n### Classification:\\n\\nBased on the analysis, the entire argument component should be classified as a **MajorClaim**. This is because it expresses the author\\'s central position on the main topic, summarizing the benefits of student evaluations and providing a conclusion to the essay.\\n\\n### JSON Classification:\\n\\n{\"component_type\": [\"MajorClaim\"]}',\n",
       " \" Here is the argument component to be classified: many people's jobs are now at high stake\": '### Step-by-Step Reasoning:\\n\\n1. **Semantic content**: The component \"many people\\'s jobs are now at high stake\" indicates a situation or a consequence that is likely to be a result of the technological advancements and economic changes mentioned in the essay. It does not express a central position or a specific stance, but rather provides a supporting detail.\\n\\n2. **Syntactic structure**: The component is phrased as a declarative statement, indicating a fact or a situation. It does not have a clear syntactic structure that would suggest it is a claim or a major claim.\\n\\n3. **Context**: The component is part of a larger argument that discusses the reasons why people are now more conscious to gain more educational qualification. It is used to support the idea that the economic changes and technological advancements are driving people to seek multiple jobs or further qualifications.\\n\\n4. **Function**: The component does not express the author\\'s central position on the main topic (MajorClaim), nor does it express a specific stance that supports or develops the main position (Claim). Instead, it provides evidence or justification for the claim that people are now more conscious to gain more educational qualification.\\n\\n### Classification:\\n\\nBased on the analysis, the entire argument component \"many people\\'s jobs are now at high stake\" should be classified as a **Premise**.\\n\\n### JSON Classification:\\n\\n{\"component_type\": [\"Premise\"]}',\n",
       " ' Here is the argument component to be classified: there are a number of chances through internships, deeper discussion, independent life, and exchange scholarships': '### Step-by-Step Reasoning:\\n\\n1. **Semantic content**: The component discusses the benefits of university education, specifically highlighting the opportunities provided to students through internships, deeper discussions, independent life, and exchange scholarships. This suggests that the component is focused on supporting or developing the main position in favor of university education.\\n\\n2. **Syntactic structure**: The component is phrased as a declarative statement, listing various opportunities that universities offer to students. This structure implies that the component is providing evidence or justification for a claim.\\n\\n3. **Context**: The component is part of the essay\\'s discussion of the benefits of university education, which is presented as a counterargument to the view that university education is impractical. This suggests that the component is supporting the main position in favor of university education.\\n\\n4. **Function**: The component provides evidence and justification for the claim that university education is beneficial, specifically highlighting the opportunities provided to students. This suggests that the component is a **Premise**, as it provides supporting evidence for a claim.\\n\\n### Classification:\\n\\nBased on the analysis, the entire argument component should be classified as a **Premise**.\\n\\n### JSON Classification:\\n\\n{\"component_type\": [\"Premise\"]}',\n",
       " ' Here is the argument component to be classified: could work whenever I want, or I do not need to give reasons to my boss for a delay': '### Step-by-Step Reasoning:\\n\\n1. **Semantic content**: The component discusses the benefits of being self-employed, specifically the freedom to manage one\\'s time and work without needing to justify delays to a boss.\\n2. **Syntactic structure**: The component is phrased as a declarative statement, presenting a specific advantage of self-employment.\\n3. **Context**: The component is part of a larger argument in favor of self-employment, supporting the author\\'s central position.\\n4. **Function**: The component expresses a specific stance that supports or develops the main position, highlighting a benefit of self-employment.\\n\\n### Classification:\\n\\nBased on the analysis, the entire argument component \"could work whenever I want, or I do not need to give reasons to my boss for a delay\" is classified as a **Claim**. It presents a specific argument in support of the author\\'s preference for self-employment, highlighting a key advantage of this choice.\\n\\n### Classification in JSON format:\\n\\n{\"component_type\": [\"Claim\"]}',\n",
       " ' Here is the argument component to be classified: rare people have been aware that this has contributed to a modification of cooking habits, which may cause the loss of our custom and culture about cooking': '### Step-by-Step Reasoning:\\n\\n1. **Semantic Content**: The component discusses the potential consequences of relying on prepared food, specifically the loss of cooking skills and the modification of cooking habits, which may lead to the loss of cultural customs.\\n\\n2. **Syntactic Structure**: The component is phrased as a declarative statement, providing a reason or consequence related to the main topic.\\n\\n3. **Context**: The component is part of a larger argument that discusses the negative influences of prepared food, including the use of artificial ingredients, lack of nutrition, and loss of cooking skills.\\n\\n4. **Function**: The component does not express the author\\'s central position on the main topic (MajorClaim), nor does it express a specific stance that supports or develops the main position (Claim). Instead, it provides evidence or justification for a claim, highlighting the potential consequences of relying on prepared food.\\n\\n### Classification:\\n\\nBased on the analysis, the entire argument component should be classified as a **Premise**, as it provides a reason or evidence to support the author\\'s claim that prepared food is not a good thing.\\n\\n### JSON Classification:\\n\\n{\"component_type\": [\"Premise\"]}',\n",
       " ' Here is the argument component to be classified: fiction books pay more attention to details': '### Step-by-Step Reasoning\\n\\n1. **Semantic Content**: The component \"fiction books pay more attention to details\" expresses a specific stance that highlights the advantages of fiction books over other forms of entertainment. It emphasizes the depth and richness of fiction books, which is a key aspect of the author\\'s argument.\\n\\n2. **Syntactic Structure**: The component is phrased as a declarative statement, which is typical of claims or premises in an argument. It presents a specific idea or fact that supports the author\\'s main position.\\n\\n3. **Context**: In the context of the entire essay, this component is part of the author\\'s main argument. It is presented as one of the reasons why reading fiction is more enjoyable than watching movies.\\n\\n4. **Function**: The component does not express the author\\'s central position on the main topic (MajorClaim), nor does it provide evidence or justification for a claim (Premise). Instead, it presents a specific stance that supports or develops the main position (Claim).\\n\\n### Classification\\n\\nBased on the analysis, the entire argument component \"fiction books pay more attention to details\" should be classified as a **Claim**.\\n\\n### JSON Classification\\n\\n{\"component_type\": [\"Claim\"]}',\n",
       " ' Here is the argument component to be classified: I got 1st rank in final exam': '### Step-by-Step Reasoning:\\n\\n1. **Semantic content**: The component \"I got 1st rank in final exam\" is a statement that describes a personal experience and its outcome. It is a specific instance that supports the author\\'s claim about the effectiveness of classroom learning.\\n\\n2. **Syntactic structure**: The component is phrased as a declarative statement, providing a specific example to illustrate the benefits of classroom learning.\\n\\n3. **Context**: The component is part of a larger argument that emphasizes the advantages of classroom learning over online classes. It is used to support the author\\'s claim that classroom learning is the best way to provide education.\\n\\n4. **Function**: The component provides a specific example to illustrate the benefits of classroom learning, which is a key aspect of the author\\'s argument. It is not the central position on the main topic (MajorClaim), nor is it a general stance that supports or develops the main position (Claim). Instead, it is a supporting instance that helps to justify the author\\'s claim.\\n\\n### Classification:\\n\\nBased on the analysis, the entire argument component \"I got 1st rank in final exam\" should be classified as a **Premise**.\\n\\n### JSON Classification:\\n\\n{\"component_type\": [\"Premise\"]}',\n",
       " ' Here is the argument component to be classified: In order to meet the needs of tourists, local governments are likely to build more facilities and infrastructures around tourist attractions, which may result in the destruction of natural habitats': '### Step-by-Step Reasoning:\\n\\n1. **Semantic content**: The component discusses the potential negative impact of tourism on the environment, specifically the destruction of natural habitats due to the construction of facilities and infrastructures.\\n\\n2. **Syntactic structure**: The component is phrased as a declarative statement, providing a cause-and-effect relationship between tourism and environmental degradation.\\n\\n3. **Context**: The component is part of the essay\\'s discussion of the problems associated with international tourism, and it serves to support the author\\'s argument that tourism should not be encouraged.\\n\\n4. **Function**: The component provides evidence or justification for the claim that tourism can have a negative impact on the environment. It does not express the author\\'s central position on the main topic (MajorClaim) or a specific stance that supports or develops the main position (Claim). Instead, it offers a supporting explanation for the potential consequences of tourism.\\n\\n### Classification:\\n\\nBased on the analysis, the entire argument component should be classified as a **Premise**.\\n\\n### JSON Classification:\\n\\n{\"component_type\": [\"Premise\"]}',\n",
       " ' Here is the argument component to be classified: the governments should help arts': '### Step-by-Step Reasoning\\n\\n1. **Semantic Content**: The component \"the governments should help arts\" expresses a specific stance that supports or develops the main position of the author. The author is arguing in favor of funding artists, and this component is a key point in their argument.\\n\\n2. **Syntactic Structure**: The component is phrased as a declarative statement, which is typical of claims or premises in an argument. However, the structure is more general and less specific than a typical premise, which usually provides evidence or examples.\\n\\n3. **Context**: The component is part of a larger argument that aims to persuade the reader that governments should fund artists. It is a key point in the author\\'s argument, but it is not the central claim itself.\\n\\n4. **Function**: The component does not express the author\\'s central position on the main topic (MajorClaim), nor does it provide evidence or examples to support a claim (Premise). Instead, it expresses a specific stance that supports or develops the main position (Claim).\\n\\n### Classification\\n\\nBased on the analysis above, the entire argument component \"the governments should help arts\" should be classified as a **Claim**.\\n\\n### JSON Classification\\n\\n{\"component_type\": [\"Claim\"]}',\n",
       " ' Here is the argument component to be classified: this example clearly shows the linkage between using machines and adverse health effects': '### Step-by-Step Reasoning:\\n\\n1. **Semantic content**: The component presents an example to illustrate a point, specifically highlighting the negative effects of using machines on human health. It aims to demonstrate a causal relationship between machine usage and adverse health effects.\\n\\n2. **Syntactic structure**: The component is phrased as a declarative statement, providing a specific instance to support a claim. It uses the phrase \"this example clearly shows\" to emphasize the connection between machine usage and health effects.\\n\\n3. **Context**: The component is part of the essay\\'s discussion on the negative effects of machines on humans. It is presented as a counterpoint to the argument that machines make work easier and less time-consuming.\\n\\n4. **Function**: The component provides evidence or justification for the claim that machines have negative effects on human health. It is not the central position of the essay (MajorClaim), nor does it express a specific stance that supports or develops the main position (Claim). Instead, it offers a supporting example to illustrate the negative effects of machine usage.\\n\\n### Classification:\\n\\nBased on the analysis, the entire argument component should be classified as a **Premise**. It provides evidence or justification for a claim, in this case, the negative effects of machine usage on human health.\\n\\n### JSON Classification:\\n\\n{\"component_type\": [\"Premise\"]}',\n",
       " ' Here is the argument component to be classified: It is conceivable that before we talk, it is necessary for us to be imprudent about our words': '### Step-by-Step Reasoning\\n\\n1. **Semantic Content**: The component discusses the importance of being cautious with words before communicating, which is a supporting idea for the author\\'s stance on face-to-face communication. It does not express the author\\'s central position on the main topic.\\n\\n2. **Syntactic Structure**: The component is phrased as a declarative statement, providing a supporting idea for the author\\'s argument.\\n\\n3. **Context**: The component is part of the essay\\'s discussion on the advantages of face-to-face communication, specifically addressing potential counterarguments.\\n\\n4. **Function**: The component provides a supporting idea that develops the author\\'s position on face-to-face communication, but it does not express the author\\'s central position on the main topic.\\n\\n### Classification\\n\\nBased on the analysis, the entire argument component should be classified as a \"Claim\". It expresses a specific stance that supports or develops the author\\'s main position on face-to-face communication.\\n\\n### JSON Classification\\n\\n{\"component_type\": [\"Claim\"]}',\n",
       " ' Here is the argument component to be classified: the very nature and wildness are all brought into zoos and spending time there help us to forget all stress as well as pressure': '### Step-by-Step Reasoning:\\n\\n1. **Semantic content**: The component discusses the benefits of zoos, specifically how they bring the \"very nature and wildness\" into them, allowing people to forget stress and pressure. This suggests a positive stance on zoos.\\n\\n2. **Syntactic structure**: The component is phrased as a declarative statement, presenting a fact or an idea. It does not ask a question or provide evidence, but rather makes a claim.\\n\\n3. **Context**: The component is part of a larger argument in favor of zoos, which suggests that it is a supporting point for the author\\'s main position.\\n\\n4. **Function**: The component expresses a specific stance that supports or develops the main position, which is that zoos serve a useful function. It does not provide evidence or justification for this claim, but rather presents a key idea.\\n\\n### Classification:\\n\\nBased on the above analysis, the entire argument component should be classified as a **Claim**. This is because it expresses a specific stance that supports or develops the main position, without providing evidence or justification.\\n\\n### JSON Classification:\\n\\n{\"component_type\": [\"Claim\"]}',\n",
       " ' Here is the argument component to be classified: the idea that computers could be a help has been neglected': '### Step-by-Step Reasoning:\\n\\n1. **Semantic content**: The component discusses the idea that computers could be a help, but this idea has been neglected. It implies that the author is presenting a counterargument to the notion that computers are beneficial.\\n\\n2. **Syntactic structure**: The component is phrased as a declarative statement, indicating a specific stance or claim.\\n\\n3. **Context**: The component is part of a larger argument that discusses the influence of computers on society. The author presents both positive and negative aspects of computer use, and this component is a key part of the counterargument.\\n\\n4. **Function**: The component expresses a specific stance that supports or develops the main position (i.e., that computers have a negative influence on society). It does not express the author\\'s central position on the main topic (MajorClaim) or provide evidence, examples, or justification for a claim (Premise).\\n\\n### Classification:\\n\\nBased on the analysis, the entire argument component should be classified as a **Claim**.\\n\\n### JSON Classification:\\n\\n{\"component_type\": [\"Claim\"]}',\n",
       " ' Here is the argument component to be classified: I feel that after working out, I am easily to fall asleep': '### Step-by-Step Reasoning:\\n\\n1. **Semantic content**: The component expresses a personal experience and its outcome, which is a key aspect of supporting a claim. It describes the author\\'s experience of exercising and its effect on their sleep.\\n2. **Syntactic structure**: The component is phrased as a declarative statement, indicating a fact or an experience. It is not a question or a command, but rather a statement that describes a situation.\\n3. **Context**: The component is part of a larger argument that discusses ways to reduce stress. It is presented as an example to support the claim that exercising is an effective way to reduce stress.\\n4. **Function**: The component provides a specific example or evidence to support the claim that exercising is beneficial. It is not the central position on the main topic (MajorClaim), nor is it a general statement that expresses a stance (Claim). Instead, it is a supporting detail that illustrates the effect of exercising.\\n\\n### Classification:\\n\\nBased on the analysis, the entire argument component \"I feel that after working out, I am easily to fall asleep\" should be classified as a **Premise**. This is because it provides a specific example or evidence to support the claim that exercising is beneficial.\\n\\n### JSON Classification:\\n\\n{\"component_type\": [\"Premise\"]}',\n",
       " \" Here is the argument component to be classified: it's one way of recent communications\": '### Step-by-Step Reasoning:\\n\\n1. **Semantic content**: The component \"it\\'s one way of recent communications\" seems to be a statement that provides a general explanation or a supporting idea for the author\\'s main position. It does not express a central position on the main topic, nor does it provide evidence or examples.\\n\\n2. **Syntactic structure**: The component is phrased as a declarative statement, which is typical of a premise or a supporting idea.\\n\\n3. **Context**: The component is part of the essay\\'s body, where the author is presenting supporting ideas for their main position. It relates to the overall essay thesis, which is that TV helps people get connected with each other.\\n\\n4. **Function**: \\n   - The component does not express the author\\'s central position on the main topic (MajorClaim).\\n   - It does not express a specific stance that supports or develops the main position (Claim).\\n   - It provides a general explanation or supporting idea that helps to justify the author\\'s claim (Premise).\\n\\n### Classification:\\n\\nBased on the analysis, the entire argument component \"it\\'s one way of recent communications\" should be classified as a **Premise**.\\n\\n### JSON Classification:\\n\\n{\"component_type\": [\"Premise\"]}',\n",
       " ' Here is the argument component to be classified: Charging drivers one more fee makes no sense and is ridiculous': '### Step-by-Step Reasoning:\\n\\n1. **Semantic content**: The component expresses a stance that supports or develops the main position that drivers should not be charged an extra fee for driving during rush hours. It highlights the absurdity and potential unlawfulness of such a fee.\\n\\n2. **Syntactic structure**: The component is phrased as a declarative statement, emphasizing the illogical nature of charging drivers an additional fee.\\n\\n3. **Context**: The component is part of a larger argument that aims to persuade the reader that charging drivers an extra fee for driving during rush hours is unreasonable. It supports the main contention that no additional payment should be charged on drivers.\\n\\n4. **Function**: The component expresses a specific stance that supports or develops the main position, highlighting the absurdity and potential unlawfulness of charging drivers an extra fee.\\n\\n### Classification:\\n\\nBased on the analysis, the entire argument component should be classified as a **Claim**. It expresses a specific stance that supports or develops the main position, highlighting the absurdity and potential unlawfulness of charging drivers an extra fee.\\n\\n### Classification in JSON format:\\n\\n{\"component_type\": [\"Claim\"]}'}"
      ]
     },
     "execution_count": 27,
     "metadata": {},
     "output_type": "execute_result"
    }
   ],
   "source": [
    "reasons_d"
   ]
  },
  {
   "cell_type": "code",
   "execution_count": 28,
   "metadata": {},
   "outputs": [],
   "source": [
    "reasons_l = [v.split(\"\\n\\n\")[1:] for k,v in reasons_d.items()]"
   ]
  },
  {
   "cell_type": "code",
   "execution_count": 29,
   "metadata": {},
   "outputs": [
    {
     "data": {
      "text/plain": [
       "[['1. **Semantic Content**: The component \"He or she should always keep the passion in her field\" expresses a specific requirement or condition for a professor to be effective in their role. It implies that maintaining passion in their field is essential for a professor\\'s performance.',\n",
       "  \"2. **Syntactic Structure**: The component is phrased as a declarative statement, indicating a fact or a requirement. It is not a question or a request, but rather a statement that sets a condition for a professor's success.\",\n",
       "  '3. **Context**: In the context of the essay, this component is part of the argument that professors should spend more time doing research. It is used to justify why professors should prioritize research over teaching.',\n",
       "  \"4. **Function**: This component does not express the author's central position on the main topic (MajorClaim), nor does it provide evidence or examples to support a claim (Premise). Instead, it expresses a specific stance that supports or develops the main position, which is that professors should prioritize research.\",\n",
       "  '### Classification:',\n",
       "  'Based on the analysis, the entire argument component \"He or she should always keep the passion in her field\" should be classified as a **Claim**. It expresses a specific stance that supports or develops the main position, which is that professors should prioritize research.',\n",
       "  '### JSON Classification:',\n",
       "  '{\"component_type\": [\"Claim\"]}'],\n",
       " ['1. **Semantic content**: The component \"there is no argument and punishment for them\" describes a characteristic of childhood, specifically the lack of restrictions and consequences. This suggests that it is a descriptive statement rather than a claim or a premise.',\n",
       "  '2. **Syntactic structure**: The component is phrased as a declarative statement, indicating a fact or a characteristic. This structure is typical of premises, which provide evidence or justification for a claim.',\n",
       "  \"3. **Context**: In the essay, this component is used to support the author's claim that childhood is the happiest time of people's life. It provides a reason why childhood is considered happy, which is a key function of premises.\",\n",
       "  \"4. **Function**: The component does not express the author's central position on the main topic (MajorClaim), nor does it express a specific stance that supports or develops the main position (Claim). Instead, it provides evidence or justification for the claim that childhood is happy.\",\n",
       "  '### Classification:',\n",
       "  'Based on the analysis, the entire argument component \"there is no argument and punishment for them\" should be classified as a **Premise**.',\n",
       "  '### JSON Classification:',\n",
       "  '{\"component_type\": [\"Premise\"]}'],\n",
       " ['1. **Semantic content**: This component presents a potential benefit of increasing taxation on petrol and diesel fuel, specifically that it may divert people to public transportation, thus addressing the environmental issue.',\n",
       "  '2. **Syntactic structure**: The component is phrased as a declarative statement, presenting a fact or an idea.',\n",
       "  \"3. **Context**: This component is part of the essay's discussion on the potential effects of increased taxation on petrol and diesel fuel. It is presented as a possible advantage of such taxation.\",\n",
       "  \"4. **Function**: This component does not express the author's central position on the main topic (MajorClaim), nor does it express a specific stance that supports or develops the main position (Claim). Instead, it provides evidence or justification for a claim, which is that increased taxation on petrol and diesel fuel may have a positive effect on the environment.\",\n",
       "  '### Classification:',\n",
       "  'Based on the analysis, the entire argument component should be classified as a **Premise**, as it provides evidence or justification for a claim.',\n",
       "  '### JSON Classification:',\n",
       "  '{\"component_type\": [\"Premise\"]}'],\n",
       " ['1. **Semantic content**: The component \"traditional skills rely little on fossil energy\" provides a specific reason or justification for the importance of traditional skills. It highlights a positive aspect of traditional skills, which is their environmental-friendliness.',\n",
       "  '2. **Syntactic structure**: The component is phrased as a declarative statement, providing a factual information about traditional skills.',\n",
       "  \"3. **Context**: In the essay, this component is used to support the author's claim that traditional skills are important and should be promoted. It is presented as a reason why traditional skills are valuable, especially in the context of environmental protection.\",\n",
       "  '4. **Function**: The component provides evidence or justification for the claim that traditional skills are important. It highlights a specific benefit of traditional skills, which is their environmental-friendliness.',\n",
       "  '### Classification:',\n",
       "  'Based on the analysis, the entire argument component \"traditional skills rely little on fossil energy\" should be classified as a **Premise**. This is because it provides a specific reason or justification for the importance of traditional skills, and is used to support the author\\'s claim.',\n",
       "  '### JSON Classification:',\n",
       "  '{\"component_type\": [\"Premise\"]}'],\n",
       " [\"1. **Semantic content**: The component discusses the outcome or consequence of students studying in great schools with high-performance teachers. It highlights the benefits of this scenario, specifically the graduates' ability to acquire great knowledge.\",\n",
       "  '2. **Syntactic structure**: The component is phrased as a declarative statement, providing a conclusion or a result of a particular situation.',\n",
       "  \"3. **Context**: The component is part of the essay's conclusion, summarizing the benefits of students evaluating their teachers. It relates to the overall thesis, which emphasizes the importance of student evaluations in improving teacher and school performance.\",\n",
       "  \"4. **Function**: The component serves as a summary of the essay's main points, emphasizing the benefits of student evaluations. It does not express a specific stance that supports or develops the main position (Claim) but rather provides a conclusion or a result of the argument (MajorClaim).\",\n",
       "  '### Classification:',\n",
       "  \"Based on the analysis, the entire argument component should be classified as a **MajorClaim**. This is because it expresses the author's central position on the main topic, summarizing the benefits of student evaluations and providing a conclusion to the essay.\",\n",
       "  '### JSON Classification:',\n",
       "  '{\"component_type\": [\"MajorClaim\"]}'],\n",
       " ['1. **Semantic content**: The component \"many people\\'s jobs are now at high stake\" indicates a situation or a consequence that is likely to be a result of the technological advancements and economic changes mentioned in the essay. It does not express a central position or a specific stance, but rather provides a supporting detail.',\n",
       "  '2. **Syntactic structure**: The component is phrased as a declarative statement, indicating a fact or a situation. It does not have a clear syntactic structure that would suggest it is a claim or a major claim.',\n",
       "  '3. **Context**: The component is part of a larger argument that discusses the reasons why people are now more conscious to gain more educational qualification. It is used to support the idea that the economic changes and technological advancements are driving people to seek multiple jobs or further qualifications.',\n",
       "  \"4. **Function**: The component does not express the author's central position on the main topic (MajorClaim), nor does it express a specific stance that supports or develops the main position (Claim). Instead, it provides evidence or justification for the claim that people are now more conscious to gain more educational qualification.\",\n",
       "  '### Classification:',\n",
       "  'Based on the analysis, the entire argument component \"many people\\'s jobs are now at high stake\" should be classified as a **Premise**.',\n",
       "  '### JSON Classification:',\n",
       "  '{\"component_type\": [\"Premise\"]}'],\n",
       " ['1. **Semantic content**: The component discusses the benefits of university education, specifically highlighting the opportunities provided to students through internships, deeper discussions, independent life, and exchange scholarships. This suggests that the component is focused on supporting or developing the main position in favor of university education.',\n",
       "  '2. **Syntactic structure**: The component is phrased as a declarative statement, listing various opportunities that universities offer to students. This structure implies that the component is providing evidence or justification for a claim.',\n",
       "  \"3. **Context**: The component is part of the essay's discussion of the benefits of university education, which is presented as a counterargument to the view that university education is impractical. This suggests that the component is supporting the main position in favor of university education.\",\n",
       "  '4. **Function**: The component provides evidence and justification for the claim that university education is beneficial, specifically highlighting the opportunities provided to students. This suggests that the component is a **Premise**, as it provides supporting evidence for a claim.',\n",
       "  '### Classification:',\n",
       "  'Based on the analysis, the entire argument component should be classified as a **Premise**.',\n",
       "  '### JSON Classification:',\n",
       "  '{\"component_type\": [\"Premise\"]}'],\n",
       " [\"1. **Semantic content**: The component discusses the benefits of being self-employed, specifically the freedom to manage one's time and work without needing to justify delays to a boss.\\n2. **Syntactic structure**: The component is phrased as a declarative statement, presenting a specific advantage of self-employment.\\n3. **Context**: The component is part of a larger argument in favor of self-employment, supporting the author's central position.\\n4. **Function**: The component expresses a specific stance that supports or develops the main position, highlighting a benefit of self-employment.\",\n",
       "  '### Classification:',\n",
       "  'Based on the analysis, the entire argument component \"could work whenever I want, or I do not need to give reasons to my boss for a delay\" is classified as a **Claim**. It presents a specific argument in support of the author\\'s preference for self-employment, highlighting a key advantage of this choice.',\n",
       "  '### Classification in JSON format:',\n",
       "  '{\"component_type\": [\"Claim\"]}'],\n",
       " ['1. **Semantic Content**: The component discusses the potential consequences of relying on prepared food, specifically the loss of cooking skills and the modification of cooking habits, which may lead to the loss of cultural customs.',\n",
       "  '2. **Syntactic Structure**: The component is phrased as a declarative statement, providing a reason or consequence related to the main topic.',\n",
       "  '3. **Context**: The component is part of a larger argument that discusses the negative influences of prepared food, including the use of artificial ingredients, lack of nutrition, and loss of cooking skills.',\n",
       "  \"4. **Function**: The component does not express the author's central position on the main topic (MajorClaim), nor does it express a specific stance that supports or develops the main position (Claim). Instead, it provides evidence or justification for a claim, highlighting the potential consequences of relying on prepared food.\",\n",
       "  '### Classification:',\n",
       "  \"Based on the analysis, the entire argument component should be classified as a **Premise**, as it provides a reason or evidence to support the author's claim that prepared food is not a good thing.\",\n",
       "  '### JSON Classification:',\n",
       "  '{\"component_type\": [\"Premise\"]}'],\n",
       " ['1. **Semantic Content**: The component \"fiction books pay more attention to details\" expresses a specific stance that highlights the advantages of fiction books over other forms of entertainment. It emphasizes the depth and richness of fiction books, which is a key aspect of the author\\'s argument.',\n",
       "  \"2. **Syntactic Structure**: The component is phrased as a declarative statement, which is typical of claims or premises in an argument. It presents a specific idea or fact that supports the author's main position.\",\n",
       "  \"3. **Context**: In the context of the entire essay, this component is part of the author's main argument. It is presented as one of the reasons why reading fiction is more enjoyable than watching movies.\",\n",
       "  \"4. **Function**: The component does not express the author's central position on the main topic (MajorClaim), nor does it provide evidence or justification for a claim (Premise). Instead, it presents a specific stance that supports or develops the main position (Claim).\",\n",
       "  '### Classification',\n",
       "  'Based on the analysis, the entire argument component \"fiction books pay more attention to details\" should be classified as a **Claim**.',\n",
       "  '### JSON Classification',\n",
       "  '{\"component_type\": [\"Claim\"]}'],\n",
       " ['1. **Semantic content**: The component \"I got 1st rank in final exam\" is a statement that describes a personal experience and its outcome. It is a specific instance that supports the author\\'s claim about the effectiveness of classroom learning.',\n",
       "  '2. **Syntactic structure**: The component is phrased as a declarative statement, providing a specific example to illustrate the benefits of classroom learning.',\n",
       "  \"3. **Context**: The component is part of a larger argument that emphasizes the advantages of classroom learning over online classes. It is used to support the author's claim that classroom learning is the best way to provide education.\",\n",
       "  \"4. **Function**: The component provides a specific example to illustrate the benefits of classroom learning, which is a key aspect of the author's argument. It is not the central position on the main topic (MajorClaim), nor is it a general stance that supports or develops the main position (Claim). Instead, it is a supporting instance that helps to justify the author's claim.\",\n",
       "  '### Classification:',\n",
       "  'Based on the analysis, the entire argument component \"I got 1st rank in final exam\" should be classified as a **Premise**.',\n",
       "  '### JSON Classification:',\n",
       "  '{\"component_type\": [\"Premise\"]}'],\n",
       " ['1. **Semantic content**: The component discusses the potential negative impact of tourism on the environment, specifically the destruction of natural habitats due to the construction of facilities and infrastructures.',\n",
       "  '2. **Syntactic structure**: The component is phrased as a declarative statement, providing a cause-and-effect relationship between tourism and environmental degradation.',\n",
       "  \"3. **Context**: The component is part of the essay's discussion of the problems associated with international tourism, and it serves to support the author's argument that tourism should not be encouraged.\",\n",
       "  \"4. **Function**: The component provides evidence or justification for the claim that tourism can have a negative impact on the environment. It does not express the author's central position on the main topic (MajorClaim) or a specific stance that supports or develops the main position (Claim). Instead, it offers a supporting explanation for the potential consequences of tourism.\",\n",
       "  '### Classification:',\n",
       "  'Based on the analysis, the entire argument component should be classified as a **Premise**.',\n",
       "  '### JSON Classification:',\n",
       "  '{\"component_type\": [\"Premise\"]}'],\n",
       " ['1. **Semantic Content**: The component \"the governments should help arts\" expresses a specific stance that supports or develops the main position of the author. The author is arguing in favor of funding artists, and this component is a key point in their argument.',\n",
       "  '2. **Syntactic Structure**: The component is phrased as a declarative statement, which is typical of claims or premises in an argument. However, the structure is more general and less specific than a typical premise, which usually provides evidence or examples.',\n",
       "  \"3. **Context**: The component is part of a larger argument that aims to persuade the reader that governments should fund artists. It is a key point in the author's argument, but it is not the central claim itself.\",\n",
       "  \"4. **Function**: The component does not express the author's central position on the main topic (MajorClaim), nor does it provide evidence or examples to support a claim (Premise). Instead, it expresses a specific stance that supports or develops the main position (Claim).\",\n",
       "  '### Classification',\n",
       "  'Based on the analysis above, the entire argument component \"the governments should help arts\" should be classified as a **Claim**.',\n",
       "  '### JSON Classification',\n",
       "  '{\"component_type\": [\"Claim\"]}'],\n",
       " ['1. **Semantic content**: The component presents an example to illustrate a point, specifically highlighting the negative effects of using machines on human health. It aims to demonstrate a causal relationship between machine usage and adverse health effects.',\n",
       "  '2. **Syntactic structure**: The component is phrased as a declarative statement, providing a specific instance to support a claim. It uses the phrase \"this example clearly shows\" to emphasize the connection between machine usage and health effects.',\n",
       "  \"3. **Context**: The component is part of the essay's discussion on the negative effects of machines on humans. It is presented as a counterpoint to the argument that machines make work easier and less time-consuming.\",\n",
       "  '4. **Function**: The component provides evidence or justification for the claim that machines have negative effects on human health. It is not the central position of the essay (MajorClaim), nor does it express a specific stance that supports or develops the main position (Claim). Instead, it offers a supporting example to illustrate the negative effects of machine usage.',\n",
       "  '### Classification:',\n",
       "  'Based on the analysis, the entire argument component should be classified as a **Premise**. It provides evidence or justification for a claim, in this case, the negative effects of machine usage on human health.',\n",
       "  '### JSON Classification:',\n",
       "  '{\"component_type\": [\"Premise\"]}'],\n",
       " [\"1. **Semantic Content**: The component discusses the importance of being cautious with words before communicating, which is a supporting idea for the author's stance on face-to-face communication. It does not express the author's central position on the main topic.\",\n",
       "  \"2. **Syntactic Structure**: The component is phrased as a declarative statement, providing a supporting idea for the author's argument.\",\n",
       "  \"3. **Context**: The component is part of the essay's discussion on the advantages of face-to-face communication, specifically addressing potential counterarguments.\",\n",
       "  \"4. **Function**: The component provides a supporting idea that develops the author's position on face-to-face communication, but it does not express the author's central position on the main topic.\",\n",
       "  '### Classification',\n",
       "  'Based on the analysis, the entire argument component should be classified as a \"Claim\". It expresses a specific stance that supports or develops the author\\'s main position on face-to-face communication.',\n",
       "  '### JSON Classification',\n",
       "  '{\"component_type\": [\"Claim\"]}'],\n",
       " ['1. **Semantic content**: The component discusses the benefits of zoos, specifically how they bring the \"very nature and wildness\" into them, allowing people to forget stress and pressure. This suggests a positive stance on zoos.',\n",
       "  '2. **Syntactic structure**: The component is phrased as a declarative statement, presenting a fact or an idea. It does not ask a question or provide evidence, but rather makes a claim.',\n",
       "  \"3. **Context**: The component is part of a larger argument in favor of zoos, which suggests that it is a supporting point for the author's main position.\",\n",
       "  '4. **Function**: The component expresses a specific stance that supports or develops the main position, which is that zoos serve a useful function. It does not provide evidence or justification for this claim, but rather presents a key idea.',\n",
       "  '### Classification:',\n",
       "  'Based on the above analysis, the entire argument component should be classified as a **Claim**. This is because it expresses a specific stance that supports or develops the main position, without providing evidence or justification.',\n",
       "  '### JSON Classification:',\n",
       "  '{\"component_type\": [\"Claim\"]}'],\n",
       " ['1. **Semantic content**: The component discusses the idea that computers could be a help, but this idea has been neglected. It implies that the author is presenting a counterargument to the notion that computers are beneficial.',\n",
       "  '2. **Syntactic structure**: The component is phrased as a declarative statement, indicating a specific stance or claim.',\n",
       "  '3. **Context**: The component is part of a larger argument that discusses the influence of computers on society. The author presents both positive and negative aspects of computer use, and this component is a key part of the counterargument.',\n",
       "  \"4. **Function**: The component expresses a specific stance that supports or develops the main position (i.e., that computers have a negative influence on society). It does not express the author's central position on the main topic (MajorClaim) or provide evidence, examples, or justification for a claim (Premise).\",\n",
       "  '### Classification:',\n",
       "  'Based on the analysis, the entire argument component should be classified as a **Claim**.',\n",
       "  '### JSON Classification:',\n",
       "  '{\"component_type\": [\"Claim\"]}'],\n",
       " [\"1. **Semantic content**: The component expresses a personal experience and its outcome, which is a key aspect of supporting a claim. It describes the author's experience of exercising and its effect on their sleep.\\n2. **Syntactic structure**: The component is phrased as a declarative statement, indicating a fact or an experience. It is not a question or a command, but rather a statement that describes a situation.\\n3. **Context**: The component is part of a larger argument that discusses ways to reduce stress. It is presented as an example to support the claim that exercising is an effective way to reduce stress.\\n4. **Function**: The component provides a specific example or evidence to support the claim that exercising is beneficial. It is not the central position on the main topic (MajorClaim), nor is it a general statement that expresses a stance (Claim). Instead, it is a supporting detail that illustrates the effect of exercising.\",\n",
       "  '### Classification:',\n",
       "  'Based on the analysis, the entire argument component \"I feel that after working out, I am easily to fall asleep\" should be classified as a **Premise**. This is because it provides a specific example or evidence to support the claim that exercising is beneficial.',\n",
       "  '### JSON Classification:',\n",
       "  '{\"component_type\": [\"Premise\"]}'],\n",
       " ['1. **Semantic content**: The component \"it\\'s one way of recent communications\" seems to be a statement that provides a general explanation or a supporting idea for the author\\'s main position. It does not express a central position on the main topic, nor does it provide evidence or examples.',\n",
       "  '2. **Syntactic structure**: The component is phrased as a declarative statement, which is typical of a premise or a supporting idea.',\n",
       "  \"3. **Context**: The component is part of the essay's body, where the author is presenting supporting ideas for their main position. It relates to the overall essay thesis, which is that TV helps people get connected with each other.\",\n",
       "  \"4. **Function**: \\n   - The component does not express the author's central position on the main topic (MajorClaim).\\n   - It does not express a specific stance that supports or develops the main position (Claim).\\n   - It provides a general explanation or supporting idea that helps to justify the author's claim (Premise).\",\n",
       "  '### Classification:',\n",
       "  'Based on the analysis, the entire argument component \"it\\'s one way of recent communications\" should be classified as a **Premise**.',\n",
       "  '### JSON Classification:',\n",
       "  '{\"component_type\": [\"Premise\"]}'],\n",
       " ['1. **Semantic content**: The component expresses a stance that supports or develops the main position that drivers should not be charged an extra fee for driving during rush hours. It highlights the absurdity and potential unlawfulness of such a fee.',\n",
       "  '2. **Syntactic structure**: The component is phrased as a declarative statement, emphasizing the illogical nature of charging drivers an additional fee.',\n",
       "  '3. **Context**: The component is part of a larger argument that aims to persuade the reader that charging drivers an extra fee for driving during rush hours is unreasonable. It supports the main contention that no additional payment should be charged on drivers.',\n",
       "  '4. **Function**: The component expresses a specific stance that supports or develops the main position, highlighting the absurdity and potential unlawfulness of charging drivers an extra fee.',\n",
       "  '### Classification:',\n",
       "  'Based on the analysis, the entire argument component should be classified as a **Claim**. It expresses a specific stance that supports or develops the main position, highlighting the absurdity and potential unlawfulness of charging drivers an extra fee.',\n",
       "  '### Classification in JSON format:',\n",
       "  '{\"component_type\": [\"Claim\"]}']]"
      ]
     },
     "execution_count": 29,
     "metadata": {},
     "output_type": "execute_result"
    }
   ],
   "source": [
    "reasons_l"
   ]
  },
  {
   "cell_type": "code",
   "execution_count": 32,
   "metadata": {},
   "outputs": [],
   "source": [
    "reasoning_chains = []\n",
    "classifications = []\n",
    "\n",
    "for chain in reasons_l:\n",
    "    reasoning_chains.append(chain[:-2])\n",
    "    classifications.append(chain[-1])"
   ]
  },
  {
   "cell_type": "code",
   "execution_count": 33,
   "metadata": {},
   "outputs": [
    {
     "data": {
      "text/plain": [
       "[['1. **Semantic Content**: The component \"He or she should always keep the passion in her field\" expresses a specific requirement or condition for a professor to be effective in their role. It implies that maintaining passion in their field is essential for a professor\\'s performance.',\n",
       "  \"2. **Syntactic Structure**: The component is phrased as a declarative statement, indicating a fact or a requirement. It is not a question or a request, but rather a statement that sets a condition for a professor's success.\",\n",
       "  '3. **Context**: In the context of the essay, this component is part of the argument that professors should spend more time doing research. It is used to justify why professors should prioritize research over teaching.',\n",
       "  \"4. **Function**: This component does not express the author's central position on the main topic (MajorClaim), nor does it provide evidence or examples to support a claim (Premise). Instead, it expresses a specific stance that supports or develops the main position, which is that professors should prioritize research.\",\n",
       "  '### Classification:',\n",
       "  'Based on the analysis, the entire argument component \"He or she should always keep the passion in her field\" should be classified as a **Claim**. It expresses a specific stance that supports or develops the main position, which is that professors should prioritize research.'],\n",
       " ['1. **Semantic content**: The component \"there is no argument and punishment for them\" describes a characteristic of childhood, specifically the lack of restrictions and consequences. This suggests that it is a descriptive statement rather than a claim or a premise.',\n",
       "  '2. **Syntactic structure**: The component is phrased as a declarative statement, indicating a fact or a characteristic. This structure is typical of premises, which provide evidence or justification for a claim.',\n",
       "  \"3. **Context**: In the essay, this component is used to support the author's claim that childhood is the happiest time of people's life. It provides a reason why childhood is considered happy, which is a key function of premises.\",\n",
       "  \"4. **Function**: The component does not express the author's central position on the main topic (MajorClaim), nor does it express a specific stance that supports or develops the main position (Claim). Instead, it provides evidence or justification for the claim that childhood is happy.\",\n",
       "  '### Classification:',\n",
       "  'Based on the analysis, the entire argument component \"there is no argument and punishment for them\" should be classified as a **Premise**.'],\n",
       " ['1. **Semantic content**: This component presents a potential benefit of increasing taxation on petrol and diesel fuel, specifically that it may divert people to public transportation, thus addressing the environmental issue.',\n",
       "  '2. **Syntactic structure**: The component is phrased as a declarative statement, presenting a fact or an idea.',\n",
       "  \"3. **Context**: This component is part of the essay's discussion on the potential effects of increased taxation on petrol and diesel fuel. It is presented as a possible advantage of such taxation.\",\n",
       "  \"4. **Function**: This component does not express the author's central position on the main topic (MajorClaim), nor does it express a specific stance that supports or develops the main position (Claim). Instead, it provides evidence or justification for a claim, which is that increased taxation on petrol and diesel fuel may have a positive effect on the environment.\",\n",
       "  '### Classification:',\n",
       "  'Based on the analysis, the entire argument component should be classified as a **Premise**, as it provides evidence or justification for a claim.'],\n",
       " ['1. **Semantic content**: The component \"traditional skills rely little on fossil energy\" provides a specific reason or justification for the importance of traditional skills. It highlights a positive aspect of traditional skills, which is their environmental-friendliness.',\n",
       "  '2. **Syntactic structure**: The component is phrased as a declarative statement, providing a factual information about traditional skills.',\n",
       "  \"3. **Context**: In the essay, this component is used to support the author's claim that traditional skills are important and should be promoted. It is presented as a reason why traditional skills are valuable, especially in the context of environmental protection.\",\n",
       "  '4. **Function**: The component provides evidence or justification for the claim that traditional skills are important. It highlights a specific benefit of traditional skills, which is their environmental-friendliness.',\n",
       "  '### Classification:',\n",
       "  'Based on the analysis, the entire argument component \"traditional skills rely little on fossil energy\" should be classified as a **Premise**. This is because it provides a specific reason or justification for the importance of traditional skills, and is used to support the author\\'s claim.'],\n",
       " [\"1. **Semantic content**: The component discusses the outcome or consequence of students studying in great schools with high-performance teachers. It highlights the benefits of this scenario, specifically the graduates' ability to acquire great knowledge.\",\n",
       "  '2. **Syntactic structure**: The component is phrased as a declarative statement, providing a conclusion or a result of a particular situation.',\n",
       "  \"3. **Context**: The component is part of the essay's conclusion, summarizing the benefits of students evaluating their teachers. It relates to the overall thesis, which emphasizes the importance of student evaluations in improving teacher and school performance.\",\n",
       "  \"4. **Function**: The component serves as a summary of the essay's main points, emphasizing the benefits of student evaluations. It does not express a specific stance that supports or develops the main position (Claim) but rather provides a conclusion or a result of the argument (MajorClaim).\",\n",
       "  '### Classification:',\n",
       "  \"Based on the analysis, the entire argument component should be classified as a **MajorClaim**. This is because it expresses the author's central position on the main topic, summarizing the benefits of student evaluations and providing a conclusion to the essay.\"],\n",
       " ['1. **Semantic content**: The component \"many people\\'s jobs are now at high stake\" indicates a situation or a consequence that is likely to be a result of the technological advancements and economic changes mentioned in the essay. It does not express a central position or a specific stance, but rather provides a supporting detail.',\n",
       "  '2. **Syntactic structure**: The component is phrased as a declarative statement, indicating a fact or a situation. It does not have a clear syntactic structure that would suggest it is a claim or a major claim.',\n",
       "  '3. **Context**: The component is part of a larger argument that discusses the reasons why people are now more conscious to gain more educational qualification. It is used to support the idea that the economic changes and technological advancements are driving people to seek multiple jobs or further qualifications.',\n",
       "  \"4. **Function**: The component does not express the author's central position on the main topic (MajorClaim), nor does it express a specific stance that supports or develops the main position (Claim). Instead, it provides evidence or justification for the claim that people are now more conscious to gain more educational qualification.\",\n",
       "  '### Classification:',\n",
       "  'Based on the analysis, the entire argument component \"many people\\'s jobs are now at high stake\" should be classified as a **Premise**.'],\n",
       " ['1. **Semantic content**: The component discusses the benefits of university education, specifically highlighting the opportunities provided to students through internships, deeper discussions, independent life, and exchange scholarships. This suggests that the component is focused on supporting or developing the main position in favor of university education.',\n",
       "  '2. **Syntactic structure**: The component is phrased as a declarative statement, listing various opportunities that universities offer to students. This structure implies that the component is providing evidence or justification for a claim.',\n",
       "  \"3. **Context**: The component is part of the essay's discussion of the benefits of university education, which is presented as a counterargument to the view that university education is impractical. This suggests that the component is supporting the main position in favor of university education.\",\n",
       "  '4. **Function**: The component provides evidence and justification for the claim that university education is beneficial, specifically highlighting the opportunities provided to students. This suggests that the component is a **Premise**, as it provides supporting evidence for a claim.',\n",
       "  '### Classification:',\n",
       "  'Based on the analysis, the entire argument component should be classified as a **Premise**.'],\n",
       " [\"1. **Semantic content**: The component discusses the benefits of being self-employed, specifically the freedom to manage one's time and work without needing to justify delays to a boss.\\n2. **Syntactic structure**: The component is phrased as a declarative statement, presenting a specific advantage of self-employment.\\n3. **Context**: The component is part of a larger argument in favor of self-employment, supporting the author's central position.\\n4. **Function**: The component expresses a specific stance that supports or develops the main position, highlighting a benefit of self-employment.\",\n",
       "  '### Classification:',\n",
       "  'Based on the analysis, the entire argument component \"could work whenever I want, or I do not need to give reasons to my boss for a delay\" is classified as a **Claim**. It presents a specific argument in support of the author\\'s preference for self-employment, highlighting a key advantage of this choice.'],\n",
       " ['1. **Semantic Content**: The component discusses the potential consequences of relying on prepared food, specifically the loss of cooking skills and the modification of cooking habits, which may lead to the loss of cultural customs.',\n",
       "  '2. **Syntactic Structure**: The component is phrased as a declarative statement, providing a reason or consequence related to the main topic.',\n",
       "  '3. **Context**: The component is part of a larger argument that discusses the negative influences of prepared food, including the use of artificial ingredients, lack of nutrition, and loss of cooking skills.',\n",
       "  \"4. **Function**: The component does not express the author's central position on the main topic (MajorClaim), nor does it express a specific stance that supports or develops the main position (Claim). Instead, it provides evidence or justification for a claim, highlighting the potential consequences of relying on prepared food.\",\n",
       "  '### Classification:',\n",
       "  \"Based on the analysis, the entire argument component should be classified as a **Premise**, as it provides a reason or evidence to support the author's claim that prepared food is not a good thing.\"],\n",
       " ['1. **Semantic Content**: The component \"fiction books pay more attention to details\" expresses a specific stance that highlights the advantages of fiction books over other forms of entertainment. It emphasizes the depth and richness of fiction books, which is a key aspect of the author\\'s argument.',\n",
       "  \"2. **Syntactic Structure**: The component is phrased as a declarative statement, which is typical of claims or premises in an argument. It presents a specific idea or fact that supports the author's main position.\",\n",
       "  \"3. **Context**: In the context of the entire essay, this component is part of the author's main argument. It is presented as one of the reasons why reading fiction is more enjoyable than watching movies.\",\n",
       "  \"4. **Function**: The component does not express the author's central position on the main topic (MajorClaim), nor does it provide evidence or justification for a claim (Premise). Instead, it presents a specific stance that supports or develops the main position (Claim).\",\n",
       "  '### Classification',\n",
       "  'Based on the analysis, the entire argument component \"fiction books pay more attention to details\" should be classified as a **Claim**.'],\n",
       " ['1. **Semantic content**: The component \"I got 1st rank in final exam\" is a statement that describes a personal experience and its outcome. It is a specific instance that supports the author\\'s claim about the effectiveness of classroom learning.',\n",
       "  '2. **Syntactic structure**: The component is phrased as a declarative statement, providing a specific example to illustrate the benefits of classroom learning.',\n",
       "  \"3. **Context**: The component is part of a larger argument that emphasizes the advantages of classroom learning over online classes. It is used to support the author's claim that classroom learning is the best way to provide education.\",\n",
       "  \"4. **Function**: The component provides a specific example to illustrate the benefits of classroom learning, which is a key aspect of the author's argument. It is not the central position on the main topic (MajorClaim), nor is it a general stance that supports or develops the main position (Claim). Instead, it is a supporting instance that helps to justify the author's claim.\",\n",
       "  '### Classification:',\n",
       "  'Based on the analysis, the entire argument component \"I got 1st rank in final exam\" should be classified as a **Premise**.'],\n",
       " ['1. **Semantic content**: The component discusses the potential negative impact of tourism on the environment, specifically the destruction of natural habitats due to the construction of facilities and infrastructures.',\n",
       "  '2. **Syntactic structure**: The component is phrased as a declarative statement, providing a cause-and-effect relationship between tourism and environmental degradation.',\n",
       "  \"3. **Context**: The component is part of the essay's discussion of the problems associated with international tourism, and it serves to support the author's argument that tourism should not be encouraged.\",\n",
       "  \"4. **Function**: The component provides evidence or justification for the claim that tourism can have a negative impact on the environment. It does not express the author's central position on the main topic (MajorClaim) or a specific stance that supports or develops the main position (Claim). Instead, it offers a supporting explanation for the potential consequences of tourism.\",\n",
       "  '### Classification:',\n",
       "  'Based on the analysis, the entire argument component should be classified as a **Premise**.'],\n",
       " ['1. **Semantic Content**: The component \"the governments should help arts\" expresses a specific stance that supports or develops the main position of the author. The author is arguing in favor of funding artists, and this component is a key point in their argument.',\n",
       "  '2. **Syntactic Structure**: The component is phrased as a declarative statement, which is typical of claims or premises in an argument. However, the structure is more general and less specific than a typical premise, which usually provides evidence or examples.',\n",
       "  \"3. **Context**: The component is part of a larger argument that aims to persuade the reader that governments should fund artists. It is a key point in the author's argument, but it is not the central claim itself.\",\n",
       "  \"4. **Function**: The component does not express the author's central position on the main topic (MajorClaim), nor does it provide evidence or examples to support a claim (Premise). Instead, it expresses a specific stance that supports or develops the main position (Claim).\",\n",
       "  '### Classification',\n",
       "  'Based on the analysis above, the entire argument component \"the governments should help arts\" should be classified as a **Claim**.'],\n",
       " ['1. **Semantic content**: The component presents an example to illustrate a point, specifically highlighting the negative effects of using machines on human health. It aims to demonstrate a causal relationship between machine usage and adverse health effects.',\n",
       "  '2. **Syntactic structure**: The component is phrased as a declarative statement, providing a specific instance to support a claim. It uses the phrase \"this example clearly shows\" to emphasize the connection between machine usage and health effects.',\n",
       "  \"3. **Context**: The component is part of the essay's discussion on the negative effects of machines on humans. It is presented as a counterpoint to the argument that machines make work easier and less time-consuming.\",\n",
       "  '4. **Function**: The component provides evidence or justification for the claim that machines have negative effects on human health. It is not the central position of the essay (MajorClaim), nor does it express a specific stance that supports or develops the main position (Claim). Instead, it offers a supporting example to illustrate the negative effects of machine usage.',\n",
       "  '### Classification:',\n",
       "  'Based on the analysis, the entire argument component should be classified as a **Premise**. It provides evidence or justification for a claim, in this case, the negative effects of machine usage on human health.'],\n",
       " [\"1. **Semantic Content**: The component discusses the importance of being cautious with words before communicating, which is a supporting idea for the author's stance on face-to-face communication. It does not express the author's central position on the main topic.\",\n",
       "  \"2. **Syntactic Structure**: The component is phrased as a declarative statement, providing a supporting idea for the author's argument.\",\n",
       "  \"3. **Context**: The component is part of the essay's discussion on the advantages of face-to-face communication, specifically addressing potential counterarguments.\",\n",
       "  \"4. **Function**: The component provides a supporting idea that develops the author's position on face-to-face communication, but it does not express the author's central position on the main topic.\",\n",
       "  '### Classification',\n",
       "  'Based on the analysis, the entire argument component should be classified as a \"Claim\". It expresses a specific stance that supports or develops the author\\'s main position on face-to-face communication.'],\n",
       " ['1. **Semantic content**: The component discusses the benefits of zoos, specifically how they bring the \"very nature and wildness\" into them, allowing people to forget stress and pressure. This suggests a positive stance on zoos.',\n",
       "  '2. **Syntactic structure**: The component is phrased as a declarative statement, presenting a fact or an idea. It does not ask a question or provide evidence, but rather makes a claim.',\n",
       "  \"3. **Context**: The component is part of a larger argument in favor of zoos, which suggests that it is a supporting point for the author's main position.\",\n",
       "  '4. **Function**: The component expresses a specific stance that supports or develops the main position, which is that zoos serve a useful function. It does not provide evidence or justification for this claim, but rather presents a key idea.',\n",
       "  '### Classification:',\n",
       "  'Based on the above analysis, the entire argument component should be classified as a **Claim**. This is because it expresses a specific stance that supports or develops the main position, without providing evidence or justification.'],\n",
       " ['1. **Semantic content**: The component discusses the idea that computers could be a help, but this idea has been neglected. It implies that the author is presenting a counterargument to the notion that computers are beneficial.',\n",
       "  '2. **Syntactic structure**: The component is phrased as a declarative statement, indicating a specific stance or claim.',\n",
       "  '3. **Context**: The component is part of a larger argument that discusses the influence of computers on society. The author presents both positive and negative aspects of computer use, and this component is a key part of the counterargument.',\n",
       "  \"4. **Function**: The component expresses a specific stance that supports or develops the main position (i.e., that computers have a negative influence on society). It does not express the author's central position on the main topic (MajorClaim) or provide evidence, examples, or justification for a claim (Premise).\",\n",
       "  '### Classification:',\n",
       "  'Based on the analysis, the entire argument component should be classified as a **Claim**.'],\n",
       " [\"1. **Semantic content**: The component expresses a personal experience and its outcome, which is a key aspect of supporting a claim. It describes the author's experience of exercising and its effect on their sleep.\\n2. **Syntactic structure**: The component is phrased as a declarative statement, indicating a fact or an experience. It is not a question or a command, but rather a statement that describes a situation.\\n3. **Context**: The component is part of a larger argument that discusses ways to reduce stress. It is presented as an example to support the claim that exercising is an effective way to reduce stress.\\n4. **Function**: The component provides a specific example or evidence to support the claim that exercising is beneficial. It is not the central position on the main topic (MajorClaim), nor is it a general statement that expresses a stance (Claim). Instead, it is a supporting detail that illustrates the effect of exercising.\",\n",
       "  '### Classification:',\n",
       "  'Based on the analysis, the entire argument component \"I feel that after working out, I am easily to fall asleep\" should be classified as a **Premise**. This is because it provides a specific example or evidence to support the claim that exercising is beneficial.'],\n",
       " ['1. **Semantic content**: The component \"it\\'s one way of recent communications\" seems to be a statement that provides a general explanation or a supporting idea for the author\\'s main position. It does not express a central position on the main topic, nor does it provide evidence or examples.',\n",
       "  '2. **Syntactic structure**: The component is phrased as a declarative statement, which is typical of a premise or a supporting idea.',\n",
       "  \"3. **Context**: The component is part of the essay's body, where the author is presenting supporting ideas for their main position. It relates to the overall essay thesis, which is that TV helps people get connected with each other.\",\n",
       "  \"4. **Function**: \\n   - The component does not express the author's central position on the main topic (MajorClaim).\\n   - It does not express a specific stance that supports or develops the main position (Claim).\\n   - It provides a general explanation or supporting idea that helps to justify the author's claim (Premise).\",\n",
       "  '### Classification:',\n",
       "  'Based on the analysis, the entire argument component \"it\\'s one way of recent communications\" should be classified as a **Premise**.'],\n",
       " ['1. **Semantic content**: The component expresses a stance that supports or develops the main position that drivers should not be charged an extra fee for driving during rush hours. It highlights the absurdity and potential unlawfulness of such a fee.',\n",
       "  '2. **Syntactic structure**: The component is phrased as a declarative statement, emphasizing the illogical nature of charging drivers an additional fee.',\n",
       "  '3. **Context**: The component is part of a larger argument that aims to persuade the reader that charging drivers an extra fee for driving during rush hours is unreasonable. It supports the main contention that no additional payment should be charged on drivers.',\n",
       "  '4. **Function**: The component expresses a specific stance that supports or develops the main position, highlighting the absurdity and potential unlawfulness of charging drivers an extra fee.',\n",
       "  '### Classification:',\n",
       "  'Based on the analysis, the entire argument component should be classified as a **Claim**. It expresses a specific stance that supports or develops the main position, highlighting the absurdity and potential unlawfulness of charging drivers an extra fee.']]"
      ]
     },
     "execution_count": 33,
     "metadata": {},
     "output_type": "execute_result"
    }
   ],
   "source": [
    "reasoning_chains"
   ]
  },
  {
   "cell_type": "code",
   "execution_count": 34,
   "metadata": {},
   "outputs": [
    {
     "data": {
      "text/plain": [
       "['{\"component_type\": [\"Claim\"]}',\n",
       " '{\"component_type\": [\"Premise\"]}',\n",
       " '{\"component_type\": [\"Premise\"]}',\n",
       " '{\"component_type\": [\"Premise\"]}',\n",
       " '{\"component_type\": [\"MajorClaim\"]}',\n",
       " '{\"component_type\": [\"Premise\"]}',\n",
       " '{\"component_type\": [\"Premise\"]}',\n",
       " '{\"component_type\": [\"Claim\"]}',\n",
       " '{\"component_type\": [\"Premise\"]}',\n",
       " '{\"component_type\": [\"Claim\"]}',\n",
       " '{\"component_type\": [\"Premise\"]}',\n",
       " '{\"component_type\": [\"Premise\"]}',\n",
       " '{\"component_type\": [\"Claim\"]}',\n",
       " '{\"component_type\": [\"Premise\"]}',\n",
       " '{\"component_type\": [\"Claim\"]}',\n",
       " '{\"component_type\": [\"Claim\"]}',\n",
       " '{\"component_type\": [\"Claim\"]}',\n",
       " '{\"component_type\": [\"Premise\"]}',\n",
       " '{\"component_type\": [\"Premise\"]}',\n",
       " '{\"component_type\": [\"Claim\"]}']"
      ]
     },
     "execution_count": 34,
     "metadata": {},
     "output_type": "execute_result"
    }
   ],
   "source": [
    "classifications"
   ]
  },
  {
   "cell_type": "code",
   "execution_count": 35,
   "metadata": {},
   "outputs": [],
   "source": [
    "import json"
   ]
  },
  {
   "cell_type": "code",
   "execution_count": 38,
   "metadata": {},
   "outputs": [],
   "source": [
    "predictions = [json.loads(elem)['component_type'][0] for elem in classifications]"
   ]
  },
  {
   "cell_type": "code",
   "execution_count": 39,
   "metadata": {},
   "outputs": [],
   "source": [
    "grounds = df_s.label.tolist()"
   ]
  },
  {
   "cell_type": "code",
   "execution_count": 40,
   "metadata": {},
   "outputs": [
    {
     "data": {
      "text/plain": [
       "(20, 20)"
      ]
     },
     "execution_count": 40,
     "metadata": {},
     "output_type": "execute_result"
    }
   ],
   "source": [
    "len(grounds), len(predictions)"
   ]
  },
  {
   "cell_type": "code",
   "execution_count": 42,
   "metadata": {},
   "outputs": [
    {
     "data": {
      "text/plain": [
       "['Claim',\n",
       " 'Premise',\n",
       " 'Premise',\n",
       " 'Premise',\n",
       " 'MajorClaim',\n",
       " 'Premise',\n",
       " 'Premise',\n",
       " 'Claim',\n",
       " 'Premise',\n",
       " 'Claim',\n",
       " 'Premise',\n",
       " 'Premise',\n",
       " 'Claim',\n",
       " 'Premise',\n",
       " 'Claim',\n",
       " 'Claim',\n",
       " 'Claim',\n",
       " 'Premise',\n",
       " 'Premise',\n",
       " 'Claim']"
      ]
     },
     "execution_count": 42,
     "metadata": {},
     "output_type": "execute_result"
    }
   ],
   "source": [
    "predictions"
   ]
  },
  {
   "cell_type": "code",
   "execution_count": 258,
   "metadata": {},
   "outputs": [],
   "source": [
    "# input_ids = tokenizer.apply_chat_template(\n",
    "#     messages,\n",
    "#     add_generation_prompt=True,\n",
    "#     return_tensors=\"pt\"\n",
    "# ).to(model.device) # type: ignore"
   ]
  },
  {
   "cell_type": "code",
   "execution_count": 259,
   "metadata": {},
   "outputs": [],
   "source": [
    "#input_ids"
   ]
  },
  {
   "cell_type": "code",
   "execution_count": 260,
   "metadata": {},
   "outputs": [],
   "source": [
    "#print(tokenizer.decode(input_ids[0]))"
   ]
  },
  {
   "cell_type": "code",
   "execution_count": 261,
   "metadata": {},
   "outputs": [],
   "source": [
    "# terminators = [\n",
    "#     tokenizer.eos_token_id,\n",
    "#     tokenizer.convert_tokens_to_ids(\"<|eot_id|>\")\n",
    "# ]"
   ]
  },
  {
   "cell_type": "code",
   "execution_count": 262,
   "metadata": {},
   "outputs": [],
   "source": [
    "# outputs = model.generate(\n",
    "#     input_ids,\n",
    "#     max_new_tokens=1024,\n",
    "#     eos_token_id=terminators,\n",
    "#     do_sample=True,\n",
    "#     temperature=0.1,\n",
    "#     top_p=0.9,\n",
    "# )"
   ]
  },
  {
   "cell_type": "code",
   "execution_count": 263,
   "metadata": {},
   "outputs": [],
   "source": [
    "#response = outputs[0][input_ids.shape[-1]:]"
   ]
  },
  {
   "cell_type": "code",
   "execution_count": 264,
   "metadata": {},
   "outputs": [],
   "source": [
    "#print(tokenizer.decode(response, skip_special_tokens=True))"
   ]
  },
  {
   "cell_type": "code",
   "execution_count": 265,
   "metadata": {},
   "outputs": [],
   "source": [
    "#reasons_d[usr_msg] = tokenizer.decode(response, skip_special_tokens=True)"
   ]
  },
  {
   "cell_type": "code",
   "execution_count": 266,
   "metadata": {},
   "outputs": [],
   "source": [
    "#reasons_d"
   ]
  },
  {
   "cell_type": "code",
   "execution_count": null,
   "metadata": {},
   "outputs": [],
   "source": []
  }
 ],
 "metadata": {
  "kernelspec": {
   "display_name": "Python 3 (ipykernel)",
   "language": "python",
   "name": "python3"
  },
  "language_info": {
   "codemirror_mode": {
    "name": "ipython",
    "version": 3
   },
   "file_extension": ".py",
   "mimetype": "text/x-python",
   "name": "python",
   "nbconvert_exporter": "python",
   "pygments_lexer": "ipython3",
   "version": "3.11.11"
  }
 },
 "nbformat": 4,
 "nbformat_minor": 2
}
