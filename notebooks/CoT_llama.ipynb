{
 "cells": [
  {
   "cell_type": "code",
   "execution_count": 1,
   "metadata": {},
   "outputs": [],
   "source": [
    "import torch\n",
    "import pandas as pd\n",
    "\n",
    "from pathlib import Path\n",
    "from transformers import AutoTokenizer, AutoModelForCausalLM"
   ]
  },
  {
   "cell_type": "markdown",
   "metadata": {},
   "source": [
    "### Tokenizer and Model"
   ]
  },
  {
   "cell_type": "code",
   "execution_count": 2,
   "metadata": {},
   "outputs": [],
   "source": [
    "model_id = \"unsloth/Llama-3.2-1B-Instruct-bnb-4bit\""
   ]
  },
  {
   "cell_type": "code",
   "execution_count": 3,
   "metadata": {},
   "outputs": [],
   "source": [
    "tokenizer = AutoTokenizer.from_pretrained(model_id)"
   ]
  },
  {
   "cell_type": "code",
   "execution_count": 4,
   "metadata": {},
   "outputs": [],
   "source": [
    "model = AutoModelForCausalLM.from_pretrained(\n",
    "    model_id,\n",
    "    torch_dtype=torch.bfloat16,\n",
    "    device_map=\"auto\",\n",
    ")"
   ]
  },
  {
   "cell_type": "code",
   "execution_count": 93,
   "metadata": {},
   "outputs": [
    {
     "data": {
      "text/plain": [
       "LlamaConfig {\n",
       "  \"_attn_implementation_autoset\": true,\n",
       "  \"_name_or_path\": \"unsloth/Llama-3.2-1B-Instruct-bnb-4bit\",\n",
       "  \"architectures\": [\n",
       "    \"LlamaForCausalLM\"\n",
       "  ],\n",
       "  \"attention_bias\": false,\n",
       "  \"attention_dropout\": 0.0,\n",
       "  \"bos_token_id\": 128000,\n",
       "  \"eos_token_id\": 128009,\n",
       "  \"head_dim\": 64,\n",
       "  \"hidden_act\": \"silu\",\n",
       "  \"hidden_size\": 2048,\n",
       "  \"initializer_range\": 0.02,\n",
       "  \"intermediate_size\": 8192,\n",
       "  \"max_position_embeddings\": 131072,\n",
       "  \"mlp_bias\": false,\n",
       "  \"model_type\": \"llama\",\n",
       "  \"num_attention_heads\": 32,\n",
       "  \"num_hidden_layers\": 16,\n",
       "  \"num_key_value_heads\": 8,\n",
       "  \"pad_token_id\": 128004,\n",
       "  \"pretraining_tp\": 1,\n",
       "  \"quantization_config\": {\n",
       "    \"_load_in_4bit\": true,\n",
       "    \"_load_in_8bit\": false,\n",
       "    \"bnb_4bit_compute_dtype\": \"bfloat16\",\n",
       "    \"bnb_4bit_quant_storage\": \"uint8\",\n",
       "    \"bnb_4bit_quant_type\": \"nf4\",\n",
       "    \"bnb_4bit_use_double_quant\": true,\n",
       "    \"llm_int8_enable_fp32_cpu_offload\": false,\n",
       "    \"llm_int8_has_fp16_weight\": false,\n",
       "    \"llm_int8_skip_modules\": [\n",
       "      \"lm_head\",\n",
       "      \"multi_modal_projector\",\n",
       "      \"merger\",\n",
       "      \"modality_projection\"\n",
       "    ],\n",
       "    \"llm_int8_threshold\": 6.0,\n",
       "    \"load_in_4bit\": true,\n",
       "    \"load_in_8bit\": false,\n",
       "    \"quant_method\": \"bitsandbytes\"\n",
       "  },\n",
       "  \"rms_norm_eps\": 1e-05,\n",
       "  \"rope_scaling\": {\n",
       "    \"factor\": 32.0,\n",
       "    \"high_freq_factor\": 4.0,\n",
       "    \"low_freq_factor\": 1.0,\n",
       "    \"original_max_position_embeddings\": 8192,\n",
       "    \"rope_type\": \"llama3\"\n",
       "  },\n",
       "  \"rope_theta\": 500000.0,\n",
       "  \"tie_word_embeddings\": true,\n",
       "  \"torch_dtype\": \"bfloat16\",\n",
       "  \"transformers_version\": \"4.49.0\",\n",
       "  \"unsloth_fixed\": true,\n",
       "  \"use_cache\": true,\n",
       "  \"vocab_size\": 128256\n",
       "}"
      ]
     },
     "execution_count": 93,
     "metadata": {},
     "output_type": "execute_result"
    }
   ],
   "source": [
    "model.config"
   ]
  },
  {
   "cell_type": "markdown",
   "metadata": {},
   "source": [
    "### Data"
   ]
  },
  {
   "cell_type": "code",
   "execution_count": 94,
   "metadata": {},
   "outputs": [],
   "source": [
    "DATA_DIR = Path.cwd() / \"am_reasoning\" / \"data_files\""
   ]
  },
  {
   "cell_type": "code",
   "execution_count": 95,
   "metadata": {},
   "outputs": [],
   "source": [
    "df = pd.read_csv((DATA_DIR / \"pe_dataset.csv\"), index_col=0)"
   ]
  },
  {
   "cell_type": "code",
   "execution_count": 111,
   "metadata": {},
   "outputs": [
    {
     "data": {
      "text/plain": [
       "Index(['split', 'title', 'argument_bound_1', 'argument_bound_2', 'argument_id',\n",
       "       'ac', 'label', 'essay'],\n",
       "      dtype='object')"
      ]
     },
     "execution_count": 111,
     "metadata": {},
     "output_type": "execute_result"
    }
   ],
   "source": [
    "df.columns"
   ]
  },
  {
   "cell_type": "markdown",
   "metadata": {},
   "source": [
    "### Template Messages"
   ]
  },
  {
   "cell_type": "code",
   "execution_count": null,
   "metadata": {},
   "outputs": [],
   "source": [
    "# sys_msg = \"\"\"You are an expert in argumentation analysis. You will be given a complete argument. Your task is to analyze the argument holistically and classify it as exactly ONE of the following categories: Position, Claim, or Premise. \n",
    "\n",
    "# First, think through your analysis step by step, considering the function and structure of the argument. Explain your reasoning, identifying key characteristics that point to a specific classification.\n",
    "\n",
    "# Then, provide your final classification as a single word: Position, Claim, or Premise.\"\"\""
   ]
  },
  {
   "cell_type": "code",
   "execution_count": null,
   "metadata": {},
   "outputs": [],
   "source": [
    "# instruction = \"\"\"### You are an expert in Argument Mining. You are given an argument component from an essay. Your task is to classify the argument component as either \"MajorClaim\", \"Claim\" or \"Premise\". You must return the argument component type in following JSON format:: {\"component_type\": [component_type (str)]}\n",
    "\n",
    "\n",
    "# \"\"\""
   ]
  },
  {
   "cell_type": "code",
   "execution_count": 163,
   "metadata": {},
   "outputs": [],
   "source": [
    "instruction = \"\"\"### You are an expert in Argument Mining and discourse analysis. \n",
    "\n",
    "INPUT:\n",
    "- You are given an argument component from an essay. \n",
    "- You are given the full text of the essay.\n",
    "\n",
    "TASK:\n",
    "- Your task is to classify the whole argument component as ONLY ONE of: \"MajorClaim\", \"Claim\" or \"Premise\".\n",
    "- Explain your reasoning step-by-step before making your final classification.\n",
    "\n",
    "Then, return your final classification in the following JSON format:\n",
    "{\"component_type\": [component_type (str)]}\n",
    "\n",
    "Example:\n",
    "\n",
    "{\"component_type\": [\"Claim\"]}\n",
    "\n",
    "\"\"\""
   ]
  },
  {
   "cell_type": "code",
   "execution_count": 164,
   "metadata": {},
   "outputs": [],
   "source": [
    "usr_msg = f\"\"\"### Essay text: {df.iloc[0]['essay']}\"\"\" + \"\\n\\n\" + f\"\"\"### Argument component: {df.iloc[0]['ac']}\"\"\""
   ]
  },
  {
   "cell_type": "code",
   "execution_count": 165,
   "metadata": {},
   "outputs": [
    {
     "name": "stdout",
     "output_type": "stream",
     "text": [
      "### Essay text: Should students be taught to compete or to cooperate?\n",
      "\n",
      "It is always said that competition can effectively promote the development of economy. In order to survive in the competition, companies continue to improve their products and service, and as a result, the whole society prospers. However, when we discuss the issue of competition or cooperation, what we are concerned about is not the whole society, but the development of an individual's whole life. From this point of view, I firmly believe that we should attach more importance to cooperation during primary education.\n",
      "First of all, through cooperation, children can learn about interpersonal skills which are significant in the future life of all students. What we acquired from team work is not only how to achieve the same goal with others but more importantly, how to get along with others. During the process of cooperation, children can learn about how to listen to opinions of others, how to communicate with others, how to think comprehensively, and even how to compromise with other team members when conflicts occurred. All of these skills help them to get on well with other people and will benefit them for the whole life.\n",
      "On the other hand, the significance of competition is that how to become more excellence to gain the victory. Hence it is always said that competition makes the society more effective. However, when we consider about the question that how to win the game, we always find that we need the cooperation. The greater our goal is, the more competition we need. Take Olympic games which is a form of competition for instance, it is hard to imagine how an athlete could win the game without the training of his or her coach, and the help of other professional staffs such as the people who take care of his diet, and those who are in charge of the medical care. The winner is the athlete but the success belongs to the whole team. Therefore without the cooperation, there would be no victory of competition.\n",
      "Consequently, no matter from the view of individual development or the relationship between competition and cooperation we can receive the same conclusion that a more cooperative attitudes towards life is more profitable in one's success.\n",
      "\n",
      "### Argument component: we should attach more importance to cooperation during primary education\n"
     ]
    }
   ],
   "source": [
    "print(usr_msg)"
   ]
  },
  {
   "cell_type": "code",
   "execution_count": 166,
   "metadata": {},
   "outputs": [],
   "source": [
    "messages = [\n",
    "    {\"role\": \"system\", \"content\": instruction},\n",
    "    {\"role\": \"user\", \"content\": usr_msg},\n",
    "]"
   ]
  },
  {
   "cell_type": "code",
   "execution_count": 167,
   "metadata": {},
   "outputs": [],
   "source": [
    "input_ids = tokenizer.apply_chat_template(\n",
    "    messages,\n",
    "    add_generation_prompt=True,\n",
    "    return_tensors=\"pt\"\n",
    ").to(model.device) # type: ignore"
   ]
  },
  {
   "cell_type": "code",
   "execution_count": 168,
   "metadata": {},
   "outputs": [
    {
     "data": {
      "text/plain": [
       "tensor([[128000, 128006,   9125, 128007,    271,  38766,   1303,  33025,   2696,\n",
       "             25,   6790,    220,   2366,     18,    198,  15724,   2696,     25,\n",
       "            220,    972,   2947,    220,   2366,     20,    271,  14711,   1472,\n",
       "            527,    459,   6335,    304,  14138,  26917,    323,  41602,   6492,\n",
       "             13,   4815,  30521,    512,     12,   1472,    527,   2728,    459,\n",
       "           5811,   3777,    505,    459,   9071,     13,    720,     12,   1472,\n",
       "            527,   2728,    279,   2539,   1495,    315,    279,   9071,    382,\n",
       "          66913,    512,     12,   4718,   3465,    374,    311,  49229,    279,\n",
       "           4459,   5811,   3777,    439,  27785,  25002,    315,     25,    330,\n",
       "          35575,  46644,    498,    330,  46644,      1,    477,    330,  42562,\n",
       "           1082,  23811,     12,  83017,    701,  33811,   3094,  14656,  30308,\n",
       "           1603,   3339,    701,   1620,  24790,    382,  12487,     11,    471,\n",
       "            701,   1620,  24790,    304,    279,   2768,   4823,   3645,    512,\n",
       "           5018,   8739,   1857,    794,    510,   8739,   1857,    320,    496,\n",
       "           7400,    633,  13617,   1473,   5018,   8739,   1857,    794,   4482,\n",
       "          46644,  93546, 128009, 128006,    882, 128007,    271,  14711,  27047,\n",
       "           1495,     25,  12540,   4236,    387,  15972,    311,  20874,    477,\n",
       "            311,  47903,   1980,   2181,    374,   2744,   1071,    430,  10937,\n",
       "            649,  13750,  12192,    279,   4500,    315,   8752,     13,    763,\n",
       "           2015,    311,  18167,    304,    279,  10937,     11,   5220,   3136,\n",
       "            311,   7417,    872,   3956,    323,   2532,     11,    323,    439,\n",
       "            264,   1121,     11,    279,   4459,   8396,    463,   2203,    388,\n",
       "             13,   4452,     11,    994,    584,   4358,    279,   4360,    315,\n",
       "          10937,    477,  23915,     11,   1148,    584,    527,  11920,    922,\n",
       "            374,    539,    279,   4459,   8396,     11,    719,    279,   4500,\n",
       "            315,    459,   3927,    596,   4459,   2324,     13,   5659,    420,\n",
       "           1486,    315,   1684,     11,    358,  32620,   4510,    430,    584,\n",
       "           1288,  15866,    810,  12939,    311,  23915,   2391,   6156,   6873,\n",
       "            627,   5451,    315,    682,     11,   1555,  23915,     11,   2911,\n",
       "            649,   4048,    922,  74958,   7512,    902,    527,   5199,    304,\n",
       "            279,   3938,   2324,    315,    682,   4236,     13,   3639,    584,\n",
       "          19426,    505,   2128,    990,    374,    539,   1193,   1268,    311,\n",
       "          11322,    279,   1890,   5915,    449,   3885,    719,    810,  23659,\n",
       "             11,   1268,    311,    636,   3235,    449,   3885,     13,  12220,\n",
       "            279,   1920,    315,  23915,     11,   2911,    649,   4048,    922,\n",
       "           1268,    311,   9020,    311,  18463,    315,   3885,     11,   1268,\n",
       "            311,  19570,    449,   3885,     11,   1268,    311,   1781,  12963,\n",
       "          28014,     11,    323,   1524,   1268,    311,  30485,    449,   1023,\n",
       "           2128,   3697,    994,  26885,  10222,     13,   2052,    315,   1521,\n",
       "           7512,   1520,   1124,    311,    636,    389,   1664,    449,   1023,\n",
       "           1274,    323,    690,   8935,   1124,    369,    279,   4459,   2324,\n",
       "            627,   1966,    279,   1023,   1450,     11,    279,  26431,    315,\n",
       "          10937,    374,    430,   1268,    311,   3719,    810,  38656,    311,\n",
       "           8895,    279,  12845,     13,  32140,    433,    374,   2744,   1071,\n",
       "            430,  10937,   3727,    279,   8396,    810,   7524,     13,   4452,\n",
       "             11,    994,    584,   2980,    922,    279,   3488,    430,   1268,\n",
       "            311,   3243,    279,   1847,     11,    584,   2744,   1505,    430,\n",
       "            584,   1205,    279,  23915,     13,    578,   7191,   1057,   5915,\n",
       "            374,     11,    279,    810,  10937,    584,   1205,     13,  12040,\n",
       "          25944,   3953,    902,    374,    264,   1376,    315,  10937,    369,\n",
       "           2937,     11,    433,    374,   2653,    311,  13085,   1268,    459,\n",
       "          34880,   1436,   3243,    279,   1847,   2085,    279,   4967,    315,\n",
       "            813,    477,   1077,   7395,     11,    323,    279,   1520,    315,\n",
       "           1023,   6721,   5687,     82,   1778,    439,    279,   1274,    889,\n",
       "           1935,   2512,    315,    813,  10173,     11,    323,   1884,    889,\n",
       "            527,    304,   6900,    315,    279,   6593,   2512,     13,    578,\n",
       "          13946,    374,    279,  34880,    719,    279,   2450,  17623,    311,\n",
       "            279,   4459,   2128,     13,  15636,   2085,    279,  23915,     11,\n",
       "           1070,   1053,    387,    912,  12845,    315,  10937,    627,   1128,\n",
       "          39742,     11,    912,   5030,    505,    279,   1684,    315,   3927,\n",
       "           4500,    477,    279,   5133,   1990,  10937,    323,  23915,    584,\n",
       "            649,   5371,    279,   1890,  17102,    430,    264,    810,  48566,\n",
       "          33726,   7119,   2324,    374,    810,  34235,    304,    832,    596,\n",
       "           2450,    382,  14711,  14138,   3777,     25,    584,   1288,  15866,\n",
       "            810,  12939,    311,  23915,   2391,   6156,   6873, 128009, 128006,\n",
       "          78191, 128007,    271]], device='cuda:0')"
      ]
     },
     "execution_count": 168,
     "metadata": {},
     "output_type": "execute_result"
    }
   ],
   "source": [
    "input_ids"
   ]
  },
  {
   "cell_type": "code",
   "execution_count": 169,
   "metadata": {},
   "outputs": [
    {
     "name": "stdout",
     "output_type": "stream",
     "text": [
      "<|begin_of_text|><|start_header_id|>system<|end_header_id|>\n",
      "\n",
      "Cutting Knowledge Date: December 2023\n",
      "Today Date: 18 Mar 2025\n",
      "\n",
      "### You are an expert in Argument Mining and discourse analysis. \n",
      "\n",
      "INPUT:\n",
      "- You are given an argument component from an essay. \n",
      "- You are given the full text of the essay.\n",
      "\n",
      "TASK:\n",
      "- Your task is to classify the whole argument component as ONLY ONE of: \"MajorClaim\", \"Claim\" or \"Premise\".\n",
      "- Explain your reasoning step-by-step before making your final classification.\n",
      "\n",
      "Then, return your final classification in the following JSON format:\n",
      "{\"component_type\": [component_type (str)]}\n",
      "\n",
      "Example:\n",
      "\n",
      "{\"component_type\": [\"Claim\"]}<|eot_id|><|start_header_id|>user<|end_header_id|>\n",
      "\n",
      "### Essay text: Should students be taught to compete or to cooperate?\n",
      "\n",
      "It is always said that competition can effectively promote the development of economy. In order to survive in the competition, companies continue to improve their products and service, and as a result, the whole society prospers. However, when we discuss the issue of competition or cooperation, what we are concerned about is not the whole society, but the development of an individual's whole life. From this point of view, I firmly believe that we should attach more importance to cooperation during primary education.\n",
      "First of all, through cooperation, children can learn about interpersonal skills which are significant in the future life of all students. What we acquired from team work is not only how to achieve the same goal with others but more importantly, how to get along with others. During the process of cooperation, children can learn about how to listen to opinions of others, how to communicate with others, how to think comprehensively, and even how to compromise with other team members when conflicts occurred. All of these skills help them to get on well with other people and will benefit them for the whole life.\n",
      "On the other hand, the significance of competition is that how to become more excellence to gain the victory. Hence it is always said that competition makes the society more effective. However, when we consider about the question that how to win the game, we always find that we need the cooperation. The greater our goal is, the more competition we need. Take Olympic games which is a form of competition for instance, it is hard to imagine how an athlete could win the game without the training of his or her coach, and the help of other professional staffs such as the people who take care of his diet, and those who are in charge of the medical care. The winner is the athlete but the success belongs to the whole team. Therefore without the cooperation, there would be no victory of competition.\n",
      "Consequently, no matter from the view of individual development or the relationship between competition and cooperation we can receive the same conclusion that a more cooperative attitudes towards life is more profitable in one's success.\n",
      "\n",
      "### Argument component: we should attach more importance to cooperation during primary education<|eot_id|><|start_header_id|>assistant<|end_header_id|>\n",
      "\n",
      "\n"
     ]
    }
   ],
   "source": [
    "print(tokenizer.decode(input_ids[0]))"
   ]
  },
  {
   "cell_type": "code",
   "execution_count": 170,
   "metadata": {},
   "outputs": [],
   "source": [
    "terminators = [\n",
    "    tokenizer.eos_token_id,\n",
    "    tokenizer.convert_tokens_to_ids(\"<|eot_id|>\")\n",
    "]"
   ]
  },
  {
   "cell_type": "code",
   "execution_count": 171,
   "metadata": {},
   "outputs": [],
   "source": [
    "outputs = model.generate(\n",
    "    input_ids,\n",
    "    max_new_tokens=1024,\n",
    "    eos_token_id=terminators,\n",
    "    do_sample=True,\n",
    "    temperature=0.1,\n",
    "    top_p=0.9,\n",
    ")"
   ]
  },
  {
   "cell_type": "code",
   "execution_count": 172,
   "metadata": {},
   "outputs": [],
   "source": [
    "response = outputs[0][input_ids.shape[-1]:]"
   ]
  },
  {
   "cell_type": "code",
   "execution_count": 173,
   "metadata": {},
   "outputs": [
    {
     "name": "stdout",
     "output_type": "stream",
     "text": [
      "### Step-by-Step Explanation\n",
      "\n",
      "1. **Understanding the Argument**: The argument starts by acknowledging the importance of competition in promoting economic development. However, it shifts its focus to the development of an individual's life, emphasizing the significance of cooperation during primary education.\n",
      "\n",
      "2. **Identifying Key Components**: The key components of the argument are:\n",
      "   - The importance of competition in promoting economic development.\n",
      "   - The significance of cooperation in achieving goals and overcoming conflicts.\n",
      "   - The need for cooperation in achieving success in competitions.\n",
      "\n",
      "3. **Analyzing the Argument Structure**: The argument structure can be broken down into two main parts:\n",
      "   - **Claim**: \"We should attach more importance to cooperation during primary education.\"\n",
      "   - **Premise**: \"The significance of competition is that how to become more excellence to gain the victory.\"\n",
      "\n",
      "4. **Classifying the Argument**: Based on the analysis, the argument can be classified as follows:\n",
      "   - **Major Claim**: \"We should attach more importance to cooperation during primary education.\"\n",
      "   - **Claim**: \"The significance of competition is that how to become more excellence to gain the victory.\"\n",
      "   - **Premise**: \"The significance of competition is that how to become more excellence to gain the victory.\"\n",
      "\n",
      "5. **Final Classification**: The final classification of the argument component is:\n",
      "   - **Component Type**: \"Claim\"\n"
     ]
    }
   ],
   "source": [
    "print(tokenizer.decode(response, skip_special_tokens=True))"
   ]
  },
  {
   "cell_type": "code",
   "execution_count": null,
   "metadata": {},
   "outputs": [],
   "source": []
  }
 ],
 "metadata": {
  "kernelspec": {
   "display_name": "Python 3 (ipykernel)",
   "language": "python",
   "name": "python3"
  },
  "language_info": {
   "codemirror_mode": {
    "name": "ipython",
    "version": 3
   },
   "file_extension": ".py",
   "mimetype": "text/x-python",
   "name": "python",
   "nbconvert_exporter": "python",
   "pygments_lexer": "ipython3",
   "version": "3.11.11"
  }
 },
 "nbformat": 4,
 "nbformat_minor": 2
}
