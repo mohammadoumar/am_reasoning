{
 "cells": [
  {
   "cell_type": "code",
   "execution_count": 1,
   "metadata": {},
   "outputs": [],
   "source": [
    "import torch\n",
    "import pandas as pd\n",
    "\n",
    "from pathlib import Path\n",
    "from transformers import AutoTokenizer, AutoModelForCausalLM"
   ]
  },
  {
   "cell_type": "markdown",
   "metadata": {},
   "source": [
    "### Tokenizer and Model"
   ]
  },
  {
   "cell_type": "code",
   "execution_count": 2,
   "metadata": {},
   "outputs": [],
   "source": [
    "model_id = \"unsloth/Llama-3.2-1B-Instruct-bnb-4bit\""
   ]
  },
  {
   "cell_type": "code",
   "execution_count": 3,
   "metadata": {},
   "outputs": [],
   "source": [
    "tokenizer = AutoTokenizer.from_pretrained(model_id)"
   ]
  },
  {
   "cell_type": "code",
   "execution_count": 4,
   "metadata": {},
   "outputs": [],
   "source": [
    "model = AutoModelForCausalLM.from_pretrained(\n",
    "    model_id,\n",
    "    torch_dtype=torch.bfloat16,\n",
    "    device_map=\"auto\",\n",
    ")"
   ]
  },
  {
   "cell_type": "code",
   "execution_count": 91,
   "metadata": {},
   "outputs": [
    {
     "data": {
      "text/plain": [
       "LlamaConfig {\n",
       "  \"_attn_implementation_autoset\": true,\n",
       "  \"_name_or_path\": \"unsloth/Llama-3.2-1B-Instruct-bnb-4bit\",\n",
       "  \"architectures\": [\n",
       "    \"LlamaForCausalLM\"\n",
       "  ],\n",
       "  \"attention_bias\": false,\n",
       "  \"attention_dropout\": 0.0,\n",
       "  \"bos_token_id\": 128000,\n",
       "  \"eos_token_id\": 128009,\n",
       "  \"head_dim\": 64,\n",
       "  \"hidden_act\": \"silu\",\n",
       "  \"hidden_size\": 2048,\n",
       "  \"initializer_range\": 0.02,\n",
       "  \"intermediate_size\": 8192,\n",
       "  \"max_position_embeddings\": 131072,\n",
       "  \"mlp_bias\": false,\n",
       "  \"model_type\": \"llama\",\n",
       "  \"num_attention_heads\": 32,\n",
       "  \"num_hidden_layers\": 16,\n",
       "  \"num_key_value_heads\": 8,\n",
       "  \"pad_token_id\": 128004,\n",
       "  \"pretraining_tp\": 1,\n",
       "  \"quantization_config\": {\n",
       "    \"_load_in_4bit\": true,\n",
       "    \"_load_in_8bit\": false,\n",
       "    \"bnb_4bit_compute_dtype\": \"bfloat16\",\n",
       "    \"bnb_4bit_quant_storage\": \"uint8\",\n",
       "    \"bnb_4bit_quant_type\": \"nf4\",\n",
       "    \"bnb_4bit_use_double_quant\": true,\n",
       "    \"llm_int8_enable_fp32_cpu_offload\": false,\n",
       "    \"llm_int8_has_fp16_weight\": false,\n",
       "    \"llm_int8_skip_modules\": [\n",
       "      \"lm_head\",\n",
       "      \"multi_modal_projector\",\n",
       "      \"merger\",\n",
       "      \"modality_projection\"\n",
       "    ],\n",
       "    \"llm_int8_threshold\": 6.0,\n",
       "    \"load_in_4bit\": true,\n",
       "    \"load_in_8bit\": false,\n",
       "    \"quant_method\": \"bitsandbytes\"\n",
       "  },\n",
       "  \"rms_norm_eps\": 1e-05,\n",
       "  \"rope_scaling\": {\n",
       "    \"factor\": 32.0,\n",
       "    \"high_freq_factor\": 4.0,\n",
       "    \"low_freq_factor\": 1.0,\n",
       "    \"original_max_position_embeddings\": 8192,\n",
       "    \"rope_type\": \"llama3\"\n",
       "  },\n",
       "  \"rope_theta\": 500000.0,\n",
       "  \"tie_word_embeddings\": true,\n",
       "  \"torch_dtype\": \"bfloat16\",\n",
       "  \"transformers_version\": \"4.49.0\",\n",
       "  \"unsloth_fixed\": true,\n",
       "  \"use_cache\": true,\n",
       "  \"vocab_size\": 128256\n",
       "}"
      ]
     },
     "execution_count": 91,
     "metadata": {},
     "output_type": "execute_result"
    }
   ],
   "source": [
    "model.config"
   ]
  },
  {
   "cell_type": "markdown",
   "metadata": {},
   "source": [
    "### Data"
   ]
  },
  {
   "cell_type": "code",
   "execution_count": 6,
   "metadata": {},
   "outputs": [],
   "source": [
    "DATA_DIR = Path.cwd() / \"am_reasoning\" / \"data_files\""
   ]
  },
  {
   "cell_type": "code",
   "execution_count": 7,
   "metadata": {},
   "outputs": [],
   "source": [
    "df = pd.read_csv((DATA_DIR / \"pe_dataset.csv\"), index_col=0)"
   ]
  },
  {
   "cell_type": "markdown",
   "metadata": {},
   "source": [
    "### Template Messages"
   ]
  },
  {
   "cell_type": "code",
   "execution_count": 73,
   "metadata": {},
   "outputs": [],
   "source": [
    "sys_msg = \"\"\"You are an expert in argumentation analysis. You will be given a complete argument. Your task is to analyze the argument holistically and classify it as exactly ONE of the following categories: Position, Claim, or Premise. \n",
    "\n",
    "First, think through your analysis step by step, considering the function and structure of the argument. Explain your reasoning, identifying key characteristics that point to a specific classification.\n",
    "\n",
    "Then, provide your final classification as a single word: Position, Claim, or Premise.\"\"\""
   ]
  },
  {
   "cell_type": "code",
   "execution_count": 74,
   "metadata": {},
   "outputs": [],
   "source": [
    "instruction = \"\"\"### You are an expert in Argument Mining. You are given an argument. Your task is to classify the argument as either \"MajorClaim\", \"Claim\" or \"Premise\". You must return the argument component in following JSON format: {\"component_type\": [component_type (str)]}\n",
    "\n",
    "DO NOT RETURN ANY EXPLANATION.\n",
    "\n",
    "\"\"\""
   ]
  },
  {
   "cell_type": "code",
   "execution_count": 75,
   "metadata": {},
   "outputs": [],
   "source": [
    "usr_msg = df.iloc[0]['ac']"
   ]
  },
  {
   "cell_type": "code",
   "execution_count": 76,
   "metadata": {},
   "outputs": [],
   "source": [
    "messages = [\n",
    "    {\"role\": \"system\", \"content\": instruction},\n",
    "    {\"role\": \"user\", \"content\": usr_msg},\n",
    "]"
   ]
  },
  {
   "cell_type": "code",
   "execution_count": 77,
   "metadata": {},
   "outputs": [],
   "source": [
    "input_ids = tokenizer.apply_chat_template(\n",
    "    messages,\n",
    "    add_generation_prompt=True,\n",
    "    return_tensors=\"pt\"\n",
    ").to(model.device) # type: ignore"
   ]
  },
  {
   "cell_type": "code",
   "execution_count": 78,
   "metadata": {},
   "outputs": [
    {
     "data": {
      "text/plain": [
       "tensor([[128000, 128006,   9125, 128007,    271,  38766,   1303,  33025,   2696,\n",
       "             25,   6790,    220,   2366,     18,    198,  15724,   2696,     25,\n",
       "            220,   1114,   2947,    220,   2366,     20,    271,  14711,   1472,\n",
       "            527,    459,   6335,    304,  14138,  26917,     13,   1472,    527,\n",
       "           2728,    459,   5811,     13,   4718,   3465,    374,    311,  49229,\n",
       "            279,   5811,    439,   3060,    330,  35575,  46644,    498,    330,\n",
       "          46644,      1,    477,    330,  42562,   1082,   3343,   1472,   2011,\n",
       "            471,    279,   5811,   3777,    304,   2768,   4823,   3645,     25,\n",
       "           5324,   8739,   1857,    794,    510,   8739,   1857,    320,    496,\n",
       "           7400,    633,   5989,   4276,  31980,   4230,   4154,  95179,   3579,\n",
       "             13, 128009, 128006,    882, 128007,    271,    906,   1288,  15866,\n",
       "            810,  12939,    311,  23915,   2391,   6156,   6873, 128009, 128006,\n",
       "          78191, 128007,    271]], device='cuda:0')"
      ]
     },
     "execution_count": 78,
     "metadata": {},
     "output_type": "execute_result"
    }
   ],
   "source": [
    "input_ids"
   ]
  },
  {
   "cell_type": "code",
   "execution_count": 79,
   "metadata": {},
   "outputs": [
    {
     "name": "stdout",
     "output_type": "stream",
     "text": [
      "<|begin_of_text|><|start_header_id|>system<|end_header_id|>\n",
      "\n",
      "Cutting Knowledge Date: December 2023\n",
      "Today Date: 17 Mar 2025\n",
      "\n",
      "### You are an expert in Argument Mining. You are given an argument. Your task is to classify the argument as either \"MajorClaim\", \"Claim\" or \"Premise\". You must return the argument component in following JSON format: {\"component_type\": [component_type (str)]}\n",
      "\n",
      "DO NOT RETURN ANY EXPLANATION.<|eot_id|><|start_header_id|>user<|end_header_id|>\n",
      "\n",
      "we should attach more importance to cooperation during primary education<|eot_id|><|start_header_id|>assistant<|end_header_id|>\n",
      "\n",
      "\n"
     ]
    }
   ],
   "source": [
    "print(tokenizer.decode(input_ids[0]))"
   ]
  },
  {
   "cell_type": "code",
   "execution_count": 80,
   "metadata": {},
   "outputs": [],
   "source": [
    "terminators = [\n",
    "    tokenizer.eos_token_id,\n",
    "    tokenizer.convert_tokens_to_ids(\"<|eot_id|>\")\n",
    "]"
   ]
  },
  {
   "cell_type": "code",
   "execution_count": 81,
   "metadata": {},
   "outputs": [],
   "source": [
    "outputs = model.generate(\n",
    "    input_ids,\n",
    "    max_new_tokens=512,\n",
    "    eos_token_id=terminators,\n",
    "    do_sample=True,\n",
    "    temperature=0.6,\n",
    "    top_p=0.9,\n",
    ")"
   ]
  },
  {
   "cell_type": "code",
   "execution_count": 82,
   "metadata": {},
   "outputs": [],
   "source": [
    "response = outputs[0][input_ids.shape[-1]:]"
   ]
  },
  {
   "cell_type": "code",
   "execution_count": 83,
   "metadata": {},
   "outputs": [
    {
     "name": "stdout",
     "output_type": "stream",
     "text": [
      "{\"component_type\": [\"Claim\"]}\n"
     ]
    }
   ],
   "source": [
    "print(tokenizer.decode(response, skip_special_tokens=True))"
   ]
  },
  {
   "cell_type": "code",
   "execution_count": 92,
   "metadata": {},
   "outputs": [
    {
     "data": {
      "text/plain": [
       "Tokenizer(version=\"1.0\", truncation=None, padding=None, added_tokens=[{\"id\":128000, \"content\":\"<|begin_of_text|>\", \"single_word\":False, \"lstrip\":False, \"rstrip\":False, \"normalized\":False, \"special\":True}, {\"id\":128001, \"content\":\"<|end_of_text|>\", \"single_word\":False, \"lstrip\":False, \"rstrip\":False, \"normalized\":False, \"special\":True}, {\"id\":128002, \"content\":\"<|reserved_special_token_0|>\", \"single_word\":False, \"lstrip\":False, \"rstrip\":False, \"normalized\":False, \"special\":True}, {\"id\":128003, \"content\":\"<|reserved_special_token_1|>\", \"single_word\":False, \"lstrip\":False, \"rstrip\":False, \"normalized\":False, \"special\":True}, {\"id\":128004, \"content\":\"<|finetune_right_pad_id|>\", \"single_word\":False, \"lstrip\":False, \"rstrip\":False, \"normalized\":False, \"special\":True}, {\"id\":128005, \"content\":\"<|reserved_special_token_2|>\", \"single_word\":False, \"lstrip\":False, \"rstrip\":False, \"normalized\":False, \"special\":True}, {\"id\":128006, \"content\":\"<|start_header_id|>\", \"single_word\":False, \"lstrip\":False, \"rstrip\":False, \"normalized\":False, \"special\":True}, {\"id\":128007, \"content\":\"<|end_header_id|>\", \"single_word\":False, \"lstrip\":False, \"rstrip\":False, \"normalized\":False, \"special\":True}, {\"id\":128008, \"content\":\"<|eom_id|>\", \"single_word\":False, \"lstrip\":False, \"rstrip\":False, \"normalized\":False, \"special\":True}, {\"id\":128009, \"content\":\"<|eot_id|>\", \"single_word\":False, \"lstrip\":False, \"rstrip\":False, \"normalized\":False, \"special\":True}, {\"id\":128010, \"content\":\"<|python_tag|>\", \"single_word\":False, \"lstrip\":False, \"rstrip\":False, \"normalized\":False, \"special\":True}, {\"id\":128011, \"content\":\"<|reserved_special_token_3|>\", \"single_word\":False, \"lstrip\":False, \"rstrip\":False, \"normalized\":False, \"special\":True}, {\"id\":128012, \"content\":\"<|reserved_special_token_4|>\", \"single_word\":False, \"lstrip\":False, \"rstrip\":False, \"normalized\":False, \"special\":True}, {\"id\":128013, \"content\":\"<|reserved_special_token_5|>\", \"single_word\":False, \"lstrip\":False, \"rstrip\":False, \"normalized\":False, \"special\":True}, {\"id\":128014, \"content\":\"<|reserved_special_token_6|>\", \"single_word\":False, \"lstrip\":False, \"rstrip\":False, \"normalized\":False, \"special\":True}, {\"id\":128015, \"content\":\"<|reserved_special_token_7|>\", \"single_word\":False, \"lstrip\":False, \"rstrip\":False, \"normalized\":False, \"special\":True}, {\"id\":128016, \"content\":\"<|reserved_special_token_8|>\", \"single_word\":False, \"lstrip\":False, \"rstrip\":False, \"normalized\":False, \"special\":True}, {\"id\":128017, \"content\":\"<|reserved_special_token_9|>\", \"single_word\":False, \"lstrip\":False, \"rstrip\":False, \"normalized\":False, \"special\":True}, {\"id\":128018, \"content\":\"<|reserved_special_token_10|>\", \"single_word\":False, \"lstrip\":False, \"rstrip\":False, \"normalized\":False, \"special\":True}, {\"id\":128019, \"content\":\"<|reserved_special_token_11|>\", \"single_word\":False, \"lstrip\":False, \"rstrip\":False, \"normalized\":False, \"special\":True}, {\"id\":128020, \"content\":\"<|reserved_special_token_12|>\", \"single_word\":False, \"lstrip\":False, \"rstrip\":False, \"normalized\":False, \"special\":True}, {\"id\":128021, \"content\":\"<|reserved_special_token_13|>\", \"single_word\":False, \"lstrip\":False, \"rstrip\":False, \"normalized\":False, \"special\":True}, {\"id\":128022, \"content\":\"<|reserved_special_token_14|>\", \"single_word\":False, \"lstrip\":False, \"rstrip\":False, \"normalized\":False, \"special\":True}, {\"id\":128023, \"content\":\"<|reserved_special_token_15|>\", \"single_word\":False, \"lstrip\":False, \"rstrip\":False, \"normalized\":False, \"special\":True}, {\"id\":128024, \"content\":\"<|reserved_special_token_16|>\", \"single_word\":False, \"lstrip\":False, \"rstrip\":False, \"normalized\":False, \"special\":True}, {\"id\":128025, \"content\":\"<|reserved_special_token_17|>\", \"single_word\":False, \"lstrip\":False, \"rstrip\":False, \"normalized\":False, \"special\":True}, {\"id\":128026, \"content\":\"<|reserved_special_token_18|>\", \"single_word\":False, \"lstrip\":False, \"rstrip\":False, \"normalized\":False, \"special\":True}, {\"id\":128027, \"content\":\"<|reserved_special_token_19|>\", \"single_word\":False, \"lstrip\":False, \"rstrip\":False, \"normalized\":False, \"special\":True}, {\"id\":128028, \"content\":\"<|reserved_special_token_20|>\", \"single_word\":False, \"lstrip\":False, \"rstrip\":False, \"normalized\":False, \"special\":True}, {\"id\":128029, \"content\":\"<|reserved_special_token_21|>\", \"single_word\":False, \"lstrip\":False, \"rstrip\":False, \"normalized\":False, \"special\":True}, {\"id\":128030, \"content\":\"<|reserved_special_token_22|>\", \"single_word\":False, \"lstrip\":False, \"rstrip\":False, \"normalized\":False, \"special\":True}, {\"id\":128031, \"content\":\"<|reserved_special_token_23|>\", \"single_word\":False, \"lstrip\":False, \"rstrip\":False, \"normalized\":False, \"special\":True}, {\"id\":128032, \"content\":\"<|reserved_special_token_24|>\", \"single_word\":False, \"lstrip\":False, \"rstrip\":False, \"normalized\":False, \"special\":True}, {\"id\":128033, \"content\":\"<|reserved_special_token_25|>\", \"single_word\":False, \"lstrip\":False, \"rstrip\":False, \"normalized\":False, \"special\":True}, {\"id\":128034, \"content\":\"<|reserved_special_token_26|>\", \"single_word\":False, \"lstrip\":False, \"rstrip\":False, \"normalized\":False, \"special\":True}, {\"id\":128035, \"content\":\"<|reserved_special_token_27|>\", \"single_word\":False, \"lstrip\":False, \"rstrip\":False, \"normalized\":False, \"special\":True}, {\"id\":128036, \"content\":\"<|reserved_special_token_28|>\", \"single_word\":False, \"lstrip\":False, \"rstrip\":False, \"normalized\":False, \"special\":True}, {\"id\":128037, \"content\":\"<|reserved_special_token_29|>\", \"single_word\":False, \"lstrip\":False, \"rstrip\":False, \"normalized\":False, \"special\":True}, {\"id\":128038, \"content\":\"<|reserved_special_token_30|>\", \"single_word\":False, \"lstrip\":False, \"rstrip\":False, \"normalized\":False, \"special\":True}, {\"id\":128039, \"content\":\"<|reserved_special_token_31|>\", \"single_word\":False, \"lstrip\":False, \"rstrip\":False, \"normalized\":False, \"special\":True}, {\"id\":128040, \"content\":\"<|reserved_special_token_32|>\", \"single_word\":False, \"lstrip\":False, \"rstrip\":False, \"normalized\":False, \"special\":True}, {\"id\":128041, \"content\":\"<|reserved_special_token_33|>\", \"single_word\":False, \"lstrip\":False, \"rstrip\":False, \"normalized\":False, \"special\":True}, {\"id\":128042, \"content\":\"<|reserved_special_token_34|>\", \"single_word\":False, \"lstrip\":False, \"rstrip\":False, \"normalized\":False, \"special\":True}, {\"id\":128043, \"content\":\"<|reserved_special_token_35|>\", \"single_word\":False, \"lstrip\":False, \"rstrip\":False, \"normalized\":False, \"special\":True}, {\"id\":128044, \"content\":\"<|reserved_special_token_36|>\", \"single_word\":False, \"lstrip\":False, \"rstrip\":False, \"normalized\":False, \"special\":True}, {\"id\":128045, \"content\":\"<|reserved_special_token_37|>\", \"single_word\":False, \"lstrip\":False, \"rstrip\":False, \"normalized\":False, \"special\":True}, {\"id\":128046, \"content\":\"<|reserved_special_token_38|>\", \"single_word\":False, \"lstrip\":False, \"rstrip\":False, \"normalized\":False, \"special\":True}, {\"id\":128047, \"content\":\"<|reserved_special_token_39|>\", \"single_word\":False, \"lstrip\":False, \"rstrip\":False, \"normalized\":False, \"special\":True}, {\"id\":128048, \"content\":\"<|reserved_special_token_40|>\", \"single_word\":False, \"lstrip\":False, \"rstrip\":False, \"normalized\":False, \"special\":True}, {\"id\":128049, \"content\":\"<|reserved_special_token_41|>\", \"single_word\":False, \"lstrip\":False, \"rstrip\":False, \"normalized\":False, \"special\":True}, {\"id\":128050, \"content\":\"<|reserved_special_token_42|>\", \"single_word\":False, \"lstrip\":False, \"rstrip\":False, \"normalized\":False, \"special\":True}, {\"id\":128051, \"content\":\"<|reserved_special_token_43|>\", \"single_word\":False, \"lstrip\":False, \"rstrip\":False, \"normalized\":False, \"special\":True}, {\"id\":128052, \"content\":\"<|reserved_special_token_44|>\", \"single_word\":False, \"lstrip\":False, \"rstrip\":False, \"normalized\":False, \"special\":True}, {\"id\":128053, \"content\":\"<|reserved_special_token_45|>\", \"single_word\":False, \"lstrip\":False, \"rstrip\":False, \"normalized\":False, \"special\":True}, {\"id\":128054, \"content\":\"<|reserved_special_token_46|>\", \"single_word\":False, \"lstrip\":False, \"rstrip\":False, \"normalized\":False, \"special\":True}, {\"id\":128055, \"content\":\"<|reserved_special_token_47|>\", \"single_word\":False, \"lstrip\":False, \"rstrip\":False, \"normalized\":False, \"special\":True}, {\"id\":128056, \"content\":\"<|reserved_special_token_48|>\", \"single_word\":False, \"lstrip\":False, \"rstrip\":False, \"normalized\":False, \"special\":True}, {\"id\":128057, \"content\":\"<|reserved_special_token_49|>\", \"single_word\":False, \"lstrip\":False, \"rstrip\":False, \"normalized\":False, \"special\":True}, {\"id\":128058, \"content\":\"<|reserved_special_token_50|>\", \"single_word\":False, \"lstrip\":False, \"rstrip\":False, \"normalized\":False, \"special\":True}, {\"id\":128059, \"content\":\"<|reserved_special_token_51|>\", \"single_word\":False, \"lstrip\":False, \"rstrip\":False, \"normalized\":False, \"special\":True}, {\"id\":128060, \"content\":\"<|reserved_special_token_52|>\", \"single_word\":False, \"lstrip\":False, \"rstrip\":False, \"normalized\":False, \"special\":True}, {\"id\":128061, \"content\":\"<|reserved_special_token_53|>\", \"single_word\":False, \"lstrip\":False, \"rstrip\":False, \"normalized\":False, \"special\":True}, {\"id\":128062, \"content\":\"<|reserved_special_token_54|>\", \"single_word\":False, \"lstrip\":False, \"rstrip\":False, \"normalized\":False, \"special\":True}, {\"id\":128063, \"content\":\"<|reserved_special_token_55|>\", \"single_word\":False, \"lstrip\":False, \"rstrip\":False, \"normalized\":False, \"special\":True}, {\"id\":128064, \"content\":\"<|reserved_special_token_56|>\", \"single_word\":False, \"lstrip\":False, \"rstrip\":False, \"normalized\":False, \"special\":True}, {\"id\":128065, \"content\":\"<|reserved_special_token_57|>\", \"single_word\":False, \"lstrip\":False, \"rstrip\":False, \"normalized\":False, \"special\":True}, {\"id\":128066, \"content\":\"<|reserved_special_token_58|>\", \"single_word\":False, \"lstrip\":False, \"rstrip\":False, \"normalized\":False, \"special\":True}, {\"id\":128067, \"content\":\"<|reserved_special_token_59|>\", \"single_word\":False, \"lstrip\":False, \"rstrip\":False, \"normalized\":False, \"special\":True}, {\"id\":128068, \"content\":\"<|reserved_special_token_60|>\", \"single_word\":False, \"lstrip\":False, \"rstrip\":False, \"normalized\":False, \"special\":True}, {\"id\":128069, \"content\":\"<|reserved_special_token_61|>\", \"single_word\":False, \"lstrip\":False, \"rstrip\":False, \"normalized\":False, \"special\":True}, {\"id\":128070, \"content\":\"<|reserved_special_token_62|>\", \"single_word\":False, \"lstrip\":False, \"rstrip\":False, \"normalized\":False, \"special\":True}, {\"id\":128071, \"content\":\"<|reserved_special_token_63|>\", \"single_word\":False, \"lstrip\":False, \"rstrip\":False, \"normalized\":False, \"special\":True}, {\"id\":128072, \"content\":\"<|reserved_special_token_64|>\", \"single_word\":False, \"lstrip\":False, \"rstrip\":False, \"normalized\":False, \"special\":True}, {\"id\":128073, \"content\":\"<|reserved_special_token_65|>\", \"single_word\":False, \"lstrip\":False, \"rstrip\":False, \"normalized\":False, \"special\":True}, {\"id\":128074, \"content\":\"<|reserved_special_token_66|>\", \"single_word\":False, \"lstrip\":False, \"rstrip\":False, \"normalized\":False, \"special\":True}, {\"id\":128075, \"content\":\"<|reserved_special_token_67|>\", \"single_word\":False, \"lstrip\":False, \"rstrip\":False, \"normalized\":False, \"special\":True}, {\"id\":128076, \"content\":\"<|reserved_special_token_68|>\", \"single_word\":False, \"lstrip\":False, \"rstrip\":False, \"normalized\":False, \"special\":True}, {\"id\":128077, \"content\":\"<|reserved_special_token_69|>\", \"single_word\":False, \"lstrip\":False, \"rstrip\":False, \"normalized\":False, \"special\":True}, {\"id\":128078, \"content\":\"<|reserved_special_token_70|>\", \"single_word\":False, \"lstrip\":False, \"rstrip\":False, \"normalized\":False, \"special\":True}, {\"id\":128079, \"content\":\"<|reserved_special_token_71|>\", \"single_word\":False, \"lstrip\":False, \"rstrip\":False, \"normalized\":False, \"special\":True}, {\"id\":128080, \"content\":\"<|reserved_special_token_72|>\", \"single_word\":False, \"lstrip\":False, \"rstrip\":False, \"normalized\":False, \"special\":True}, {\"id\":128081, \"content\":\"<|reserved_special_token_73|>\", \"single_word\":False, \"lstrip\":False, \"rstrip\":False, \"normalized\":False, \"special\":True}, {\"id\":128082, \"content\":\"<|reserved_special_token_74|>\", \"single_word\":False, \"lstrip\":False, \"rstrip\":False, \"normalized\":False, \"special\":True}, {\"id\":128083, \"content\":\"<|reserved_special_token_75|>\", \"single_word\":False, \"lstrip\":False, \"rstrip\":False, \"normalized\":False, \"special\":True}, {\"id\":128084, \"content\":\"<|reserved_special_token_76|>\", \"single_word\":False, \"lstrip\":False, \"rstrip\":False, \"normalized\":False, \"special\":True}, {\"id\":128085, \"content\":\"<|reserved_special_token_77|>\", \"single_word\":False, \"lstrip\":False, \"rstrip\":False, \"normalized\":False, \"special\":True}, {\"id\":128086, \"content\":\"<|reserved_special_token_78|>\", \"single_word\":False, \"lstrip\":False, \"rstrip\":False, \"normalized\":False, \"special\":True}, {\"id\":128087, \"content\":\"<|reserved_special_token_79|>\", \"single_word\":False, \"lstrip\":False, \"rstrip\":False, \"normalized\":False, \"special\":True}, {\"id\":128088, \"content\":\"<|reserved_special_token_80|>\", \"single_word\":False, \"lstrip\":False, \"rstrip\":False, \"normalized\":False, \"special\":True}, {\"id\":128089, \"content\":\"<|reserved_special_token_81|>\", \"single_word\":False, \"lstrip\":False, \"rstrip\":False, \"normalized\":False, \"special\":True}, {\"id\":128090, \"content\":\"<|reserved_special_token_82|>\", \"single_word\":False, \"lstrip\":False, \"rstrip\":False, \"normalized\":False, \"special\":True}, {\"id\":128091, \"content\":\"<|reserved_special_token_83|>\", \"single_word\":False, \"lstrip\":False, \"rstrip\":False, \"normalized\":False, \"special\":True}, {\"id\":128092, \"content\":\"<|reserved_special_token_84|>\", \"single_word\":False, \"lstrip\":False, \"rstrip\":False, \"normalized\":False, \"special\":True}, {\"id\":128093, \"content\":\"<|reserved_special_token_85|>\", \"single_word\":False, \"lstrip\":False, \"rstrip\":False, \"normalized\":False, \"special\":True}, {\"id\":128094, \"content\":\"<|reserved_special_token_86|>\", \"single_word\":False, \"lstrip\":False, \"rstrip\":False, \"normalized\":False, \"special\":True}, {\"id\":128095, \"content\":\"<|reserved_special_token_87|>\", \"single_word\":False, \"lstrip\":False, \"rstrip\":False, \"normalized\":False, \"special\":True}, {\"id\":128096, \"content\":\"<|reserved_special_token_88|>\", \"single_word\":False, \"lstrip\":False, \"rstrip\":False, \"normalized\":False, \"special\":True}, {\"id\":128097, \"content\":\"<|reserved_special_token_89|>\", \"single_word\":False, \"lstrip\":False, \"rstrip\":False, \"normalized\":False, \"special\":True}, {\"id\":128098, \"content\":\"<|reserved_special_token_90|>\", \"single_word\":False, \"lstrip\":False, \"rstrip\":False, \"normalized\":False, \"special\":True}, ...], normalizer=None, pre_tokenizer=Sequence(pretokenizers=[Split(pattern=Regex(\"(?i:'s|'t|'re|'ve|'m|'ll|'d)|[^\\r\\n\\p{L}\\p{N}]?\\p{L}+|\\p{N}{1,3}| ?[^\\s\\p{L}\\p{N}]+[\\r\\n]*|\\s*[\\r\\n]+|\\s+(?!\\S)|\\s+\"), behavior=Isolated, invert=False), ByteLevel(add_prefix_space=False, trim_offsets=True, use_regex=False)]), post_processor=Sequence(processors=[ByteLevel(add_prefix_space=True, trim_offsets=False, use_regex=True), TemplateProcessing(single=[SpecialToken(id=\"<|begin_of_text|>\", type_id=0), Sequence(id=A, type_id=0)], pair=[SpecialToken(id=\"<|begin_of_text|>\", type_id=0), Sequence(id=A, type_id=0), SpecialToken(id=\"<|begin_of_text|>\", type_id=1), Sequence(id=B, type_id=1)], special_tokens={\"<|begin_of_text|>\":SpecialToken(id=\"<|begin_of_text|>\", ids=[128000], tokens=[\"<|begin_of_text|>\"])})]), decoder=ByteLevel(add_prefix_space=True, trim_offsets=True, use_regex=True), model=BPE(dropout=None, unk_token=None, continuing_subword_prefix=None, end_of_word_suffix=None, fuse_unk=False, byte_fallback=False, ignore_merges=True, vocab={\"!\":0, \"\"\":1, \"#\":2, \"$\":3, \"%\":4, \"&\":5, \"'\":6, \"(\":7, \")\":8, \"*\":9, \"+\":10, \",\":11, \"-\":12, \".\":13, \"/\":14, \"0\":15, \"1\":16, \"2\":17, \"3\":18, \"4\":19, \"5\":20, \"6\":21, \"7\":22, \"8\":23, \"9\":24, \":\":25, \";\":26, \"<\":27, \"=\":28, \">\":29, \"?\":30, \"@\":31, \"A\":32, \"B\":33, \"C\":34, \"D\":35, \"E\":36, \"F\":37, \"G\":38, \"H\":39, \"I\":40, \"J\":41, \"K\":42, \"L\":43, \"M\":44, \"N\":45, \"O\":46, \"P\":47, \"Q\":48, \"R\":49, \"S\":50, \"T\":51, \"U\":52, \"V\":53, \"W\":54, \"X\":55, \"Y\":56, \"Z\":57, \"[\":58, \"\\\":59, \"]\":60, \"^\":61, \"_\":62, \"`\":63, \"a\":64, \"b\":65, \"c\":66, \"d\":67, \"e\":68, \"f\":69, \"g\":70, \"h\":71, \"i\":72, \"j\":73, \"k\":74, \"l\":75, \"m\":76, \"n\":77, \"o\":78, \"p\":79, \"q\":80, \"r\":81, \"s\":82, \"t\":83, \"u\":84, \"v\":85, \"w\":86, \"x\":87, \"y\":88, \"z\":89, \"{\":90, \"|\":91, \"}\":92, \"~\":93, \"¡\":94, \"¢\":95, \"£\":96, \"¤\":97, \"¥\":98, ...}, merges=[(\"Ġ\", \"Ġ\"), (\"Ġ\", \"ĠĠĠ\"), (\"ĠĠ\", \"ĠĠ\"), (\"ĠĠĠ\", \"Ġ\"), (\"i\", \"n\"), (\"Ġ\", \"t\"), (\"Ġ\", \"ĠĠĠĠĠĠĠ\"), (\"ĠĠ\", \"ĠĠĠĠĠĠ\"), (\"ĠĠĠĠ\", \"ĠĠĠĠ\"), (\"ĠĠĠ\", \"ĠĠĠĠĠ\"), (\"ĠĠĠĠĠĠĠ\", \"Ġ\"), (\"ĠĠĠĠĠ\", \"ĠĠĠ\"), (\"ĠĠĠĠĠĠ\", \"ĠĠ\"), (\"e\", \"r\"), (\"Ġ\", \"ĠĠ\"), (\"ĠĠ\", \"Ġ\"), (\"o\", \"n\"), (\"Ġ\", \"a\"), (\"r\", \"e\"), (\"a\", \"t\"), (\"s\", \"t\"), (\"e\", \"n\"), (\"o\", \"r\"), (\"Ġ\", \"th\"), (\"Ġt\", \"h\"), (\"Ċ\", \"Ċ\"), (\"Ġ\", \"c\"), (\"l\", \"e\"), (\"Ġ\", \"s\"), (\"i\", \"t\"), (\"a\", \"n\"), (\"a\", \"r\"), (\"a\", \"l\"), (\"Ġ\", \"the\"), (\"Ġt\", \"he\"), (\"Ġth\", \"e\"), (\";\", \"Ċ\"), (\"Ġ\", \"p\"), (\"Ġ\", \"f\"), (\"o\", \"u\"), (\"Ġ\", \"=\"), (\"i\", \"s\"), (\"Ġ\", \"ĠĠĠĠĠĠ\"), (\"ĠĠ\", \"ĠĠĠĠĠ\"), (\"ĠĠĠĠ\", \"ĠĠĠ\"), (\"ĠĠĠ\", \"ĠĠĠĠ\"), (\"ĠĠĠĠĠ\", \"ĠĠ\"), (\"ĠĠĠĠĠĠ\", \"Ġ\"), (\"i\", \"ng\"), (\"in\", \"g\"), (\"e\", \"s\"), (\"Ġ\", \"w\"), (\"i\", \"on\"), (\"io\", \"n\"), (\"e\", \"d\"), (\"i\", \"c\"), (\"Ġ\", \"b\"), (\"Ġ\", \"d\"), (\"e\", \"t\"), (\"Ġ\", \"m\"), (\"Ġ\", \"o\"), (\"ĉ\", \"ĉ\"), (\"r\", \"o\"), (\"a\", \"s\"), (\"e\", \"l\"), (\"c\", \"t\"), (\"n\", \"d\"), (\"Ġ\", \"in\"), (\"Ġi\", \"n\"), (\"Ġ\", \"h\"), (\"e\", \"nt\"), (\"en\", \"t\"), (\"i\", \"d\"), (\"Ġ\", \"n\"), (\"a\", \"m\"), (\"Ġ\", \"ĠĠĠĠĠĠĠĠĠĠ\"), (\"ĠĠ\", \"ĠĠĠĠĠĠĠĠĠ\"), (\"ĠĠĠĠ\", \"ĠĠĠĠĠĠĠ\"), (\"ĠĠĠĠĠĠĠĠ\", \"ĠĠĠ\"), (\"ĠĠĠ\", \"ĠĠĠĠĠĠĠĠ\"), (\"ĠĠĠĠĠĠĠ\", \"ĠĠĠĠ\"), (\"ĠĠĠĠĠ\", \"ĠĠĠĠĠĠ\"), (\"ĠĠĠĠĠĠĠĠĠ\", \"ĠĠ\"), (\"ĠĠĠĠĠĠ\", \"ĠĠĠĠĠ\"), (\"ĠĠĠĠĠĠĠĠĠĠ\", \"Ġ\"), (\"Ġ\", \"to\"), (\"Ġt\", \"o\"), (\"Ġ\", \"re\"), (\"Ġr\", \"e\"), (\"-\", \"-\"), (\"Ġ\", \"{\"), (\"Ġ\", \"of\"), (\"Ġo\", \"f\"), (\"o\", \"m\"), (\")\", \";Ċ\"), (\");\", \"Ċ\"), (\"i\", \"m\"), (\"č\", \"Ċ\"), (\"Ġ\", \"(\"), ...]))"
      ]
     },
     "execution_count": 92,
     "metadata": {},
     "output_type": "execute_result"
    }
   ],
   "source": [
    "tokenizer.backend_tokenizer"
   ]
  },
  {
   "cell_type": "code",
   "execution_count": null,
   "metadata": {},
   "outputs": [],
   "source": []
  }
 ],
 "metadata": {
  "kernelspec": {
   "display_name": "Python 3 (ipykernel)",
   "language": "python",
   "name": "python3"
  },
  "language_info": {
   "codemirror_mode": {
    "name": "ipython",
    "version": 3
   },
   "file_extension": ".py",
   "mimetype": "text/x-python",
   "name": "python",
   "nbconvert_exporter": "python",
   "pygments_lexer": "ipython3",
   "version": "3.11.11"
  }
 },
 "nbformat": 4,
 "nbformat_minor": 2
}
