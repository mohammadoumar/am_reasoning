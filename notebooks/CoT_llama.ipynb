{
 "cells": [
  {
   "cell_type": "code",
   "execution_count": null,
   "metadata": {},
   "outputs": [],
   "source": [
    "import torch\n",
    "import pandas as pd\n",
    "\n",
    "from tqdm import tqdm\n",
    "from pathlib import Path\n",
    "from transformers import AutoTokenizer, AutoModelForCausalLM"
   ]
  },
  {
   "cell_type": "markdown",
   "metadata": {},
   "source": [
    "### Tokenizer and Model"
   ]
  },
  {
   "cell_type": "code",
   "execution_count": 2,
   "metadata": {},
   "outputs": [],
   "source": [
    "model_id = \"unsloth/Llama-3.2-1B-Instruct-bnb-4bit\""
   ]
  },
  {
   "cell_type": "code",
   "execution_count": 3,
   "metadata": {},
   "outputs": [],
   "source": [
    "tokenizer = AutoTokenizer.from_pretrained(model_id)"
   ]
  },
  {
   "cell_type": "code",
   "execution_count": 4,
   "metadata": {},
   "outputs": [],
   "source": [
    "model = AutoModelForCausalLM.from_pretrained(\n",
    "    model_id,\n",
    "    torch_dtype=torch.bfloat16,\n",
    "    device_map=\"auto\",\n",
    ")"
   ]
  },
  {
   "cell_type": "code",
   "execution_count": 93,
   "metadata": {},
   "outputs": [
    {
     "data": {
      "text/plain": [
       "LlamaConfig {\n",
       "  \"_attn_implementation_autoset\": true,\n",
       "  \"_name_or_path\": \"unsloth/Llama-3.2-1B-Instruct-bnb-4bit\",\n",
       "  \"architectures\": [\n",
       "    \"LlamaForCausalLM\"\n",
       "  ],\n",
       "  \"attention_bias\": false,\n",
       "  \"attention_dropout\": 0.0,\n",
       "  \"bos_token_id\": 128000,\n",
       "  \"eos_token_id\": 128009,\n",
       "  \"head_dim\": 64,\n",
       "  \"hidden_act\": \"silu\",\n",
       "  \"hidden_size\": 2048,\n",
       "  \"initializer_range\": 0.02,\n",
       "  \"intermediate_size\": 8192,\n",
       "  \"max_position_embeddings\": 131072,\n",
       "  \"mlp_bias\": false,\n",
       "  \"model_type\": \"llama\",\n",
       "  \"num_attention_heads\": 32,\n",
       "  \"num_hidden_layers\": 16,\n",
       "  \"num_key_value_heads\": 8,\n",
       "  \"pad_token_id\": 128004,\n",
       "  \"pretraining_tp\": 1,\n",
       "  \"quantization_config\": {\n",
       "    \"_load_in_4bit\": true,\n",
       "    \"_load_in_8bit\": false,\n",
       "    \"bnb_4bit_compute_dtype\": \"bfloat16\",\n",
       "    \"bnb_4bit_quant_storage\": \"uint8\",\n",
       "    \"bnb_4bit_quant_type\": \"nf4\",\n",
       "    \"bnb_4bit_use_double_quant\": true,\n",
       "    \"llm_int8_enable_fp32_cpu_offload\": false,\n",
       "    \"llm_int8_has_fp16_weight\": false,\n",
       "    \"llm_int8_skip_modules\": [\n",
       "      \"lm_head\",\n",
       "      \"multi_modal_projector\",\n",
       "      \"merger\",\n",
       "      \"modality_projection\"\n",
       "    ],\n",
       "    \"llm_int8_threshold\": 6.0,\n",
       "    \"load_in_4bit\": true,\n",
       "    \"load_in_8bit\": false,\n",
       "    \"quant_method\": \"bitsandbytes\"\n",
       "  },\n",
       "  \"rms_norm_eps\": 1e-05,\n",
       "  \"rope_scaling\": {\n",
       "    \"factor\": 32.0,\n",
       "    \"high_freq_factor\": 4.0,\n",
       "    \"low_freq_factor\": 1.0,\n",
       "    \"original_max_position_embeddings\": 8192,\n",
       "    \"rope_type\": \"llama3\"\n",
       "  },\n",
       "  \"rope_theta\": 500000.0,\n",
       "  \"tie_word_embeddings\": true,\n",
       "  \"torch_dtype\": \"bfloat16\",\n",
       "  \"transformers_version\": \"4.49.0\",\n",
       "  \"unsloth_fixed\": true,\n",
       "  \"use_cache\": true,\n",
       "  \"vocab_size\": 128256\n",
       "}"
      ]
     },
     "execution_count": 93,
     "metadata": {},
     "output_type": "execute_result"
    }
   ],
   "source": [
    "model.config"
   ]
  },
  {
   "cell_type": "markdown",
   "metadata": {},
   "source": [
    "### Data"
   ]
  },
  {
   "cell_type": "code",
   "execution_count": 94,
   "metadata": {},
   "outputs": [],
   "source": [
    "DATA_DIR = Path.cwd() / \"am_reasoning\" / \"data_files\""
   ]
  },
  {
   "cell_type": "code",
   "execution_count": 95,
   "metadata": {},
   "outputs": [],
   "source": [
    "df = pd.read_csv((DATA_DIR / \"pe_dataset.csv\"), index_col=0)"
   ]
  },
  {
   "cell_type": "code",
   "execution_count": 111,
   "metadata": {},
   "outputs": [
    {
     "data": {
      "text/plain": [
       "Index(['split', 'title', 'argument_bound_1', 'argument_bound_2', 'argument_id',\n",
       "       'ac', 'label', 'essay'],\n",
       "      dtype='object')"
      ]
     },
     "execution_count": 111,
     "metadata": {},
     "output_type": "execute_result"
    }
   ],
   "source": [
    "df.columns"
   ]
  },
  {
   "cell_type": "code",
   "execution_count": 210,
   "metadata": {},
   "outputs": [
    {
     "data": {
      "text/plain": [
       "(6089, 8)"
      ]
     },
     "execution_count": 210,
     "metadata": {},
     "output_type": "execute_result"
    }
   ],
   "source": [
    "df.shape"
   ]
  },
  {
   "cell_type": "markdown",
   "metadata": {},
   "source": [
    "### Template Messages"
   ]
  },
  {
   "cell_type": "code",
   "execution_count": null,
   "metadata": {},
   "outputs": [],
   "source": [
    "# sys_msg = \"\"\"You are an expert in argumentation analysis. You will be given a complete argument. Your task is to analyze the argument holistically and classify it as exactly ONE of the following categories: Position, Claim, or Premise. \n",
    "\n",
    "# First, think through your analysis step by step, considering the function and structure of the argument. Explain your reasoning, identifying key characteristics that point to a specific classification.\n",
    "\n",
    "# Then, provide your final classification as a single word: Position, Claim, or Premise.\"\"\""
   ]
  },
  {
   "cell_type": "code",
   "execution_count": null,
   "metadata": {},
   "outputs": [],
   "source": [
    "# instruction = \"\"\"### You are an expert in Argument Mining. You are given an argument component from an essay. Your task is to classify the argument component as either \"MajorClaim\", \"Claim\" or \"Premise\". You must return the argument component type in following JSON format:: {\"component_type\": [component_type (str)]}\n",
    "\n",
    "\n",
    "# \"\"\""
   ]
  },
  {
   "cell_type": "code",
   "execution_count": 267,
   "metadata": {},
   "outputs": [],
   "source": [
    "reasons_d = {}"
   ]
  },
  {
   "cell_type": "code",
   "execution_count": 268,
   "metadata": {},
   "outputs": [],
   "source": [
    "instruction = \"\"\"### You are an expert in Argument Mining and discourse analysis. \n",
    "\n",
    "INPUT:\n",
    "- You are given an argument component from an essay. \n",
    "- You are given the full text of the essay.\n",
    "\n",
    "TASK:\n",
    "- Your task is to classify the whole argument component, as ONLY ONE of: \"MajorClaim\", \"Claim\" or \"Premise\".\n",
    "- Explain your reasoning step-by-step before making your final classification.\n",
    "\n",
    "Then, return your final classification in the following JSON format:\n",
    "{\"component_type\": [Answer]}\n",
    "\n",
    "Example:\n",
    "\n",
    "{\"component_type\": [\"Claim\"]}\n",
    "\n",
    "\"\"\""
   ]
  },
  {
   "cell_type": "code",
   "execution_count": 269,
   "metadata": {},
   "outputs": [],
   "source": [
    "df_s = df.sample(10)"
   ]
  },
  {
   "cell_type": "code",
   "execution_count": 270,
   "metadata": {},
   "outputs": [],
   "source": [
    "sys_msgs = []\n",
    "user_msgs = []\n",
    "\n",
    "for _, row in df_s.iterrows():\n",
    "\n",
    "    sys_msg = {\"role\": \"system\", \"content\": instruction}\n",
    "    usr_msg = {\"role\": \"user\", \"content\": f\"\"\"### Here is the argument component to be classified: {row['ac']}\"\"\"} \n",
    "    \n",
    "    \n",
    "    sys_msgs.append(sys_msg)\n",
    "    user_msgs.append(usr_msg)\n",
    "    \n",
    "    #usr_msg = f\"\"\"### Here is the complete essay text: {df.iloc[0]['essay']}\"\"\" + \"\\n\\n\" + f\"\"\"### Here is the argument component to be classified: {df.iloc[0]['ac']}\"\"\""
   ]
  },
  {
   "cell_type": "code",
   "execution_count": 271,
   "metadata": {},
   "outputs": [],
   "source": [
    "messages = []\n",
    "\n",
    "for i in range(len(sys_msgs)):\n",
    "    messages.append([sys_msgs[i], user_msgs[i]])"
   ]
  },
  {
   "cell_type": "code",
   "execution_count": 272,
   "metadata": {},
   "outputs": [
    {
     "data": {
      "text/plain": [
       "10"
      ]
     },
     "execution_count": 272,
     "metadata": {},
     "output_type": "execute_result"
    }
   ],
   "source": [
    "len(messages)"
   ]
  },
  {
   "cell_type": "code",
   "execution_count": 273,
   "metadata": {},
   "outputs": [
    {
     "data": {
      "text/plain": [
       "\"### Here is the argument component to be classified: Those who don't even take a word of criticism will eventually lose chances to get improved\""
      ]
     },
     "execution_count": 273,
     "metadata": {},
     "output_type": "execute_result"
    }
   ],
   "source": [
    "messages[5][1]['content']"
   ]
  },
  {
   "cell_type": "code",
   "execution_count": 274,
   "metadata": {},
   "outputs": [],
   "source": [
    "#print(usr_msg)"
   ]
  },
  {
   "cell_type": "code",
   "execution_count": 275,
   "metadata": {},
   "outputs": [],
   "source": [
    "# messages = [\n",
    "#     {\"role\": \"system\", \"content\": instruction},\n",
    "#     {\"role\": \"user\", \"content\": usr_msg},\n",
    "# ]"
   ]
  },
  {
   "cell_type": "code",
   "execution_count": 277,
   "metadata": {},
   "outputs": [],
   "source": [
    "terminators = [\n",
    "    tokenizer.eos_token_id,\n",
    "    tokenizer.convert_tokens_to_ids(\"<|eot_id|>\")\n",
    "]"
   ]
  },
  {
   "cell_type": "code",
   "execution_count": 278,
   "metadata": {},
   "outputs": [
    {
     "name": "stderr",
     "output_type": "stream",
     "text": [
      "  0%|          | 0/10 [00:00<?, ?it/s]"
     ]
    },
    {
     "name": "stderr",
     "output_type": "stream",
     "text": [
      "100%|██████████| 10/10 [01:24<00:00,  8.44s/it]\n"
     ]
    }
   ],
   "source": [
    "for message in tqdm(messages):\n",
    "\n",
    "    input_ids = tokenizer.apply_chat_template(message, add_generation_prompt=True, return_tensors=\"pt\").to(model.device) # type: ignore\n",
    "    outputs = model.generate(input_ids, max_new_tokens=1024, eos_token_id=terminators, do_sample=True, temperature=0.1, top_p=0.9)\n",
    "    \n",
    "    response = outputs[0][input_ids.shape[-1]:]\n",
    "    reasons_d[message[1]['content']] = tokenizer.decode(response, skip_special_tokens=True)"
   ]
  },
  {
   "cell_type": "code",
   "execution_count": 279,
   "metadata": {},
   "outputs": [
    {
     "data": {
      "text/plain": [
       "{'### Here is the argument component to be classified: we have to be aware to never judge with their appearance': '### Classification of the Argument Component\\n\\nTo classify the argument component, let\\'s break it down step by step:\\n\\n1. **Understanding the Argument Component**: The argument component is a statement that presents a claim or a position. In this case, it\\'s \"we have to be aware to never judge with their appearance\".\\n\\n2. **Identifying the Premise**: The first step in argument mining is to identify the premise, which is the foundation of the argument. In this case, the premise is \"we have to be aware\".\\n\\n3. **Analyzing the Premise**: The premise \"we have to be aware\" can be further broken down into two parts:\\n   - **Subject**: \"we\" (referring to the speaker or the group)\\n   - **Object**: \"be aware\" (referring to the action or the state)\\n\\n4. **Identifying the Premise\\'s Role**: The phrase \"we have to be aware\" implies that there is a responsibility or a duty to be aware. This suggests that the argument is not just about being aware, but also about the responsibility or duty that comes with it.\\n\\n5. **Determining the Component Type**: Based on the analysis, the argument component can be classified as follows:\\n   - **Major Claim**: \"We have to be aware\" is the major claim, as it presents the central idea or position of the argument.\\n   - **Claim**: \"We have to be aware\" is the claim, as it is the statement that the speaker or the group is making.\\n   - **Premise**: The premise \"we have to be aware\" is the premise, as it provides the foundation or the starting point for the argument.\\n\\n### Final Classification\\n\\nBased on the analysis, the final classification of the argument component is:\\n\\n{\"component_type\": [\"MajorClaim\"]}',\n",
       " '### Here is the argument component to be classified: it is certain that spending less time on cooking will be the main trend in near future': '### Classification of the Argument Component\\n\\nTo classify the argument component, let\\'s break it down step by step:\\n\\n1. **\"it is certain\"**: This phrase is an absolute statement, which means it is not open to debate or doubt. It implies a high degree of confidence or certainty.\\n\\n2. **\"spending less time on cooking will be the main trend in near future\"**: This statement is a claim, as it makes a specific assertion about the future. The claim is that spending less time on cooking will be the main trend in the near future.\\n\\n3. **\"Main Trend\"**: This phrase is a premise, as it sets the stage for the rest of the argument. It implies that the trend in question is significant and will have a major impact.\\n\\n4. **\"near future\"**: This phrase is a temporal reference, indicating when the trend is expected to occur.\\n\\nNow, let\\'s classify this argument component:\\n\\n- **\"MajorClaim\"**: This is the most general and specific type of claim. In this case, the claim is that \"spending less time on cooking will be the main trend in near future\". This is a major claim because it is specific, general, and makes a significant assertion about the future.\\n\\n- **\"Claim\"**: This is a more specific type of claim. In this case, the claim is that \"spending less time on cooking will be the main trend in near future\". This is a claim because it is a specific assertion about the future.\\n\\n- **\"Premise\"**: This is not applicable here, as the argument component is a claim, not a premise.\\n\\nTherefore, the classification of the argument component is:\\n\\n- **\"MajorClaim\"**: The claim is that \"spending less time on cooking will be the main trend in near future\".\\n\\nHere is the classification in JSON format:\\n\\n```json\\n{\"component_type\": [\"MajorClaim\"]}\\n```',\n",
       " '### Here is the argument component to be classified: In a big city you have more qualified teachers and a better access to technology': '### Classification of the Argument Component\\n\\nTo classify the argument component, let\\'s break it down step by step:\\n\\n1. **Identify the Premise**: The first step is to identify the main idea or premise of the argument. In this case, the premise is \"In a big city you have more qualified teachers and a better access to technology.\"\\n\\n2. **Determine the Claim**: The next step is to determine if the premise is a claim or not. A claim is a specific statement that can be either true or false. In this case, the premise is a statement about the benefits of having more qualified teachers and better access to technology in big cities.\\n\\n3. **Identify the Major Claim**: The major claim is the central idea or argument that the author is trying to make. In this case, the major claim is \"In a big city, having more qualified teachers and better access to technology is beneficial.\"\\n\\n4. **Check for Inductive Reasoning**: The author is making a general statement about the benefits of having more qualified teachers and better access to technology in big cities. This suggests that the argument is based on inductive reasoning, where the author is making a general conclusion based on specific observations.\\n\\n5. **Check for Logical Fallacy**: The author is making a causal link between having more qualified teachers and having better access to technology. However, it\\'s not clear if this is a necessary condition or a sufficient condition. For example, having better access to technology is not a necessary condition for having more qualified teachers.\\n\\n6. **Check for Counterexamples**: There are no clear counterexamples to the argument, suggesting that it is not universally true.\\n\\nBased on the analysis, I classify the argument component as:\\n\\n**\"MajorClaim\"**\\n\\nThe major claim is \"In a big city, having more qualified teachers and better access to technology is beneficial.\"',\n",
       " \"### Here is the argument component to be classified: following fashion trends constantly may undermine individuals' personalities\": '### Classification of the Argument Component\\n\\nTo classify the argument component, let\\'s break it down step by step:\\n\\n1. **Identify the Premise**: The first step is to identify the main idea or premise of the argument. In this case, the premise is \"following fashion trends constantly may undermine individuals\\' personalities.\"\\n\\n2. **Determine the Claim**: The next step is to determine if the premise is a claim or not. A claim is a specific statement that can be either true or false. In this case, the premise is a statement that can be either true or false.\\n\\n3. **Identify the Major Claim**: The major claim is the central idea or statement that the argument is trying to make. In this case, the major claim is \"following fashion trends constantly may undermine individuals\\' personalities.\"\\n\\n4. **Determine the Type of Argument**: Based on the major claim, we can determine the type of argument. In this case, the major claim is a claim, so the type of argument is \"Claim.\"\\n\\n5. **Classify the Argument Component**: Based on the classification of the major claim, we can classify the argument component. In this case, the argument component is a \"Claim\" because it is a specific statement that the argument is trying to make.\\n\\n### Final Classification\\n\\nBased on the above steps, the final classification of the argument component is:\\n\\n{\"component_type\": \"Claim\"}\\n\\n### JSON Format\\n\\nHere is the final classification in the required JSON format:\\n\\n{\"component_type\": \"Claim\"}',\n",
       " \"### Here is the argument component to be classified: tourism makes up one-third of the Czech Republic's economy\": '### Classification of the Argument Component\\n\\nTo classify the argument component, let\\'s break it down step by step:\\n\\n1. **Understanding the Argument Component**: The argument component is a statement that presents a claim or a statement about a particular topic. In this case, the topic is tourism and its economic contribution to the Czech Republic.\\n\\n2. **Identifying the Premise**: The premise is the foundation of the argument. It is the statement that sets the context and provides the basis for the rest of the argument. In this case, the premise is \"tourism makes up one-third of the Czech Republic\\'s economy.\"\\n\\n3. **Identifying the Conclusion**: The conclusion is the statement that follows the premise and provides the main argument or claim. In this case, the conclusion is \"tourism makes up one-third of the Czech Republic\\'s economy.\"\\n\\n4. **Analyzing the Argument**: The argument is a statement that connects the premise to the conclusion. It is a logical connection that shows how the premise leads to the conclusion.\\n\\n5. **Classification**: Based on the analysis, the argument component can be classified as follows:\\n\\n- **Major Claim**: The argument is making a claim about the economic contribution of tourism to the Czech Republic. Therefore, the Major Claim is \"Tourism makes up one-third of the Czech Republic\\'s economy.\"\\n\\n- **Claim**: The argument is stating a fact about the economic contribution of tourism. Therefore, the Claim is \"Tourism makes up one-third of the Czech Republic\\'s economy.\"\\n\\n- **Premise**: The argument is stating the foundation of the argument, which is the economic contribution of tourism to the Czech Republic. Therefore, the Premise is \"Tourism makes up one-third of the Czech Republic\\'s economy.\"\\n\\n### Final Classification\\n\\nBased on the analysis, the final classification of the argument component is:\\n\\n{\"component_type\": \"MajorClaim\"}\\n\\nThis classification indicates that the argument component is making a claim about the economic contribution of tourism to the Czech Republic, which is the Major Claim.',\n",
       " \"### Here is the argument component to be classified: Those who don't even take a word of criticism will eventually lose chances to get improved\": '### Classification of the Argument Component\\n\\nTo classify the argument component, let\\'s break it down step by step:\\n\\n1. **\"Those who don\\'t even take a word of criticism will eventually lose chances to get improved\"**\\n\\n   - This statement implies that there is a direct relationship between not taking criticism and losing chances to improve. It suggests that the absence of criticism leads to a negative outcome (loss of chances to improve).\\n\\n2. **\"Those\" implies a group or category**\\n\\n   - The phrase \"Those\" indicates that the argument is about a specific group or category. In this case, it\\'s about individuals who don\\'t take criticism.\\n\\n3. **\"don\\'t even take a word of criticism\" implies a negative action**\\n\\n   - The phrase \"don\\'t even take a word of criticism\" implies that the individuals in question are not taking any action (criticism) towards improving themselves or their situation.\\n\\n4. **\"will eventually lose chances to get improved\" implies a consequence**\\n\\n   - The phrase \"will eventually lose chances to get improved\" implies that there is a consequence or outcome that will occur as a result of not taking criticism. In this case, it\\'s \"losing chances to get improved\".\\n\\n5. **\"to get improved\" implies a goal or objective**\\n\\n   - The phrase \"to get improved\" implies that the goal or objective is to improve oneself or one\\'s situation. In this case, it\\'s about improving one\\'s chances of success or improvement.\\n\\nBased on these steps, I classify the argument component as follows:\\n\\n- **Major Claim**: \"Those who don\\'t even take a word of criticism will eventually lose chances to get improved.\"\\n\\nThis is because the major claim is the central idea or argument of the argument component, which is that individuals who don\\'t take criticism will eventually lose their chances of improving.\\n\\n### Final Classification\\n\\n{\"component_type\": \"MajorClaim\"}',\n",
       " '### Here is the argument component to be classified: To be out of poverty, it is fundamental to support basic industry related factors such as light, electricity, load, highways, natural resources, technology and buildings for companies': '### Classification of the Argument Component\\n\\nTo classify the argument component, I will break it down into its constituent parts and analyze each component separately.\\n\\n1. **\"To be out of poverty\"**: This phrase is a **Premise**. It is a general statement that sets the context for the argument. In this case, it is a statement about the importance of poverty reduction.\\n\\n2. **\"it is fundamental\"**: This phrase is a **Claim**. It is a statement that makes a specific assertion about the importance of poverty reduction. It is a conclusion drawn from the premise.\\n\\n3. **\"support basic industry related factors\"**: This phrase is a **Premise**. It is a statement that provides more specific details about the factors that are being supported.\\n\\n4. **\"such as light, electricity, load, highways, natural resources, technology and buildings for companies\"**: This phrase is a **Claim**. It is a statement that makes a specific assertion about the importance of these factors.\\n\\n### Final Classification\\n\\nBased on the analysis above, I classify the argument component as follows:\\n\\n* **Premise**: \"To be out of poverty, it is fundamental to support basic industry related factors such as light, electricity, load, highways, natural resources, technology and buildings for companies\"\\n* **Claim**: \"To be out of poverty, it is fundamental to support basic industry related factors such as light, electricity, load, highways, natural resources, technology and buildings for companies\"\\n\\n### Final Answer in JSON Format\\n\\n{\"component_type\": [\"Premise\", \"Claim\"]}',\n",
       " '### Here is the argument component to be classified: they are accessed by every individual in our society on a daily basis': '### Classification of the Argument Component\\n\\nTo classify the argument component, let\\'s break it down step by step:\\n\\n1. **\"they\"**: This is a pronoun, which is a type of word that refers to a person, place, thing, or idea. Pronouns are often used to make statements or questions. In this case, \"they\" is a pronoun referring to individuals in our society.\\n\\n2. **\"are\"**: This is a linking verb, which is a word that connects the subject of a sentence to the rest of the sentence. Linking verbs are used to form the subject of a sentence. In this case, \"are\" is a linking verb connecting the subject \"they\" to the rest of the sentence.\\n\\n3. **\"accessed\"**: This is a verb, which is a word that expresses an action or a state of being. Verbs are the building blocks of sentences. In this case, \"accessed\" is a verb indicating that individuals have access to our society on a daily basis.\\n\\n4. **\"by\"**: This is a preposition, which is a word that shows the relationship between a noun or pronoun and other words in a sentence. Prepositions are used to show the direction or relationship between the subject and other words in a sentence. In this case, \"by\" is a preposition indicating the relationship between \"they\" and the action of accessing our society.\\n\\n5. **\"every\"**: This is an adverb, which is a word that modifies a verb, an adjective, or another adverb. Adverbs are used to describe the manner, time, place, frequency, or degree of an action or a state of being. In this case, \"every\" is an adverb modifying the verb \"accessed\".\\n\\n6. **\"individuals\"**: This is a noun, which is a word that refers to a person, place, thing, or idea. Nouns are the main subjects of a sentence. In this case, \"individuals\" is a noun referring to people in our society.\\n\\n7. **\"in\"**: This is a preposition, which is a word that shows the relationship between a noun or pronoun and other words in a sentence. Prepositions are used to show the direction or relationship between the subject and other words in a sentence. In this case, \"in\" is a preposition indicating the location or scope of the individuals.\\n\\n8. **\"our\"**: This is a pronoun, which is a type of word that refers to a person, place, thing, or idea. Pronouns are often used to make statements or questions. In this case, \"our\" is a pronoun referring to the people in our society.\\n\\n9. **\"society\"**: This is a noun, which is a word that refers to a person, place, thing, or idea. Nouns are the main subjects of a sentence. In this case, \"society\" is a noun referring to the people in our society.\\n\\n10. **\"on\"**: This is a preposition, which is a word that shows the relationship between a noun or pronoun and other words in a sentence. Prepositions are used to show the direction or relationship between the subject and other words in a sentence. In this case, \"on\" is a preposition indicating the location or scope of the individuals.\\n\\n11. **\"a\"**: This is a determiner, which is a word that shows the relationship between a noun or pronoun and other words in a sentence. Determiners are used to show the relationship between a noun or pronoun and other words in a sentence. In this case, \"a\" is a determiner indicating the type of individuals.\\n\\n12. **\"daily\"**: This is an adverb, which is a word that modifies a verb, an adjective, or another adverb. Adverbs are used to describe the manner, time, place, frequency, or degree of an action or a state of being. In this case, \"daily\" is an adverb modifying the verb \"accessed\".\\n\\nNow, let\\'s combine all the parts to form a complete sentence:\\n\\n\"They are accessed by every individual in our society on a daily basis.\"\\n\\nThis sentence is a complete statement that can be classified as a **\"Claim\"**.\\n\\n### Final Classification\\n\\nBased on the analysis, the argument component can be classified as a **\"Claim\"**.\\n\\n### Final Answer\\n\\n{\"component_type\": [\"Claim\"]}',\n",
       " '### Here is the argument component to be classified: for the issue of education fee, richer countries should offer scholarships and loan to the qualified students': '### Classification of the Argument Component\\n\\nTo classify the argument component, let\\'s break it down step by step:\\n\\n1. **Identify the Premise**: The argument starts with a statement about the issue of education fees. The first sentence, \"for the issue of education fee,\" sets the context and introduces the problem.\\n\\n2. **Identify the Claim**: The claim is the main argument, which is \"richer countries should offer scholarships and loan to the qualified students.\" This statement is the core of the argument.\\n\\n3. **Identify the Reasoning**: The reasoning behind the claim is that richer countries should offer scholarships and loans to qualified students. This implies that the argument is making a moral or ethical argument, suggesting that richer countries have a moral obligation to help students.\\n\\n4. **Identify the Conclusion**: The conclusion is that richer countries should offer scholarships and loans to qualified students. This is the final statement of the argument.\\n\\nBased on these steps, I would classify the argument component as follows:\\n\\n- **Component Type:** Claim\\n- **Reasoning:** The argument is making a moral or ethical argument, suggesting that richer countries have a moral obligation to help students.\\n- **Conclusion:** The argument concludes that richer countries should offer scholarships and loans to qualified students.\\n\\nTherefore, my final classification is: {\"component_type\": \"Claim\", \"reasoning\": \"Moral Obligation\", \"conclusion\": \"Richer Countries Should Offer Scholarships and Loans to Qualified Students\"}',\n",
       " '### Here is the argument component to be classified: One of the difficulties was some of his histories, such as Mickey Mouse and Three Little Pigs, were turned down': '### Classification of the Argument Component\\n\\nTo classify the argument component, I will analyze the given text step-by-step.\\n\\n1. **Identify the main idea**: The main idea of the argument component is that some of his histories, such as Mickey Mouse and Three Little Pigs, were turned down.\\n\\n2. **Determine the type of argument**: Based on the main idea, I can classify the argument as a **Claim**. A claim is a statement that makes a specific assertion about a particular subject or issue.\\n\\n3. **Examine the structure of the argument**: The argument structure is as follows:\\n   - \"One of the difficulties was some of his histories, such as Mickey Mouse and Three Little Pigs, were turned down\"\\n   - This can be broken down into two parts:\\n     - \"One of the difficulties\"\\n     - \"was some of his histories, such as Mickey Mouse and Three Little Pigs, were turned down\"\\n   - The first part is a **Premise**. A premise is a statement that provides background information or sets the context for the argument.\\n   - The second part is a **Claim**. The claim is the main assertion made about the subject.\\n\\n4. **Consider the context**: The context in which the argument is presented is the essay, which suggests that the argument is being used to support a particular point or idea.\\n\\nBased on these steps, I can conclude that the argument component is a **Claim**.\\n\\n### Final Classification\\n\\n{\"component_type\": \"Claim\"}'}"
      ]
     },
     "execution_count": 279,
     "metadata": {},
     "output_type": "execute_result"
    }
   ],
   "source": [
    "reasons_d"
   ]
  },
  {
   "cell_type": "code",
   "execution_count": 280,
   "metadata": {},
   "outputs": [],
   "source": [
    "reasons_l = [v for k,v in reasons_d.items()]"
   ]
  },
  {
   "cell_type": "code",
   "execution_count": 281,
   "metadata": {},
   "outputs": [
    {
     "data": {
      "text/plain": [
       "['### Classification of the Argument Component\\n\\nTo classify the argument component, let\\'s break it down step by step:\\n\\n1. **Understanding the Argument Component**: The argument component is a statement that presents a claim or a position. In this case, it\\'s \"we have to be aware to never judge with their appearance\".\\n\\n2. **Identifying the Premise**: The first step in argument mining is to identify the premise, which is the foundation of the argument. In this case, the premise is \"we have to be aware\".\\n\\n3. **Analyzing the Premise**: The premise \"we have to be aware\" can be further broken down into two parts:\\n   - **Subject**: \"we\" (referring to the speaker or the group)\\n   - **Object**: \"be aware\" (referring to the action or the state)\\n\\n4. **Identifying the Premise\\'s Role**: The phrase \"we have to be aware\" implies that there is a responsibility or a duty to be aware. This suggests that the argument is not just about being aware, but also about the responsibility or duty that comes with it.\\n\\n5. **Determining the Component Type**: Based on the analysis, the argument component can be classified as follows:\\n   - **Major Claim**: \"We have to be aware\" is the major claim, as it presents the central idea or position of the argument.\\n   - **Claim**: \"We have to be aware\" is the claim, as it is the statement that the speaker or the group is making.\\n   - **Premise**: The premise \"we have to be aware\" is the premise, as it provides the foundation or the starting point for the argument.\\n\\n### Final Classification\\n\\nBased on the analysis, the final classification of the argument component is:\\n\\n{\"component_type\": [\"MajorClaim\"]}',\n",
       " '### Classification of the Argument Component\\n\\nTo classify the argument component, let\\'s break it down step by step:\\n\\n1. **\"it is certain\"**: This phrase is an absolute statement, which means it is not open to debate or doubt. It implies a high degree of confidence or certainty.\\n\\n2. **\"spending less time on cooking will be the main trend in near future\"**: This statement is a claim, as it makes a specific assertion about the future. The claim is that spending less time on cooking will be the main trend in the near future.\\n\\n3. **\"Main Trend\"**: This phrase is a premise, as it sets the stage for the rest of the argument. It implies that the trend in question is significant and will have a major impact.\\n\\n4. **\"near future\"**: This phrase is a temporal reference, indicating when the trend is expected to occur.\\n\\nNow, let\\'s classify this argument component:\\n\\n- **\"MajorClaim\"**: This is the most general and specific type of claim. In this case, the claim is that \"spending less time on cooking will be the main trend in near future\". This is a major claim because it is specific, general, and makes a significant assertion about the future.\\n\\n- **\"Claim\"**: This is a more specific type of claim. In this case, the claim is that \"spending less time on cooking will be the main trend in near future\". This is a claim because it is a specific assertion about the future.\\n\\n- **\"Premise\"**: This is not applicable here, as the argument component is a claim, not a premise.\\n\\nTherefore, the classification of the argument component is:\\n\\n- **\"MajorClaim\"**: The claim is that \"spending less time on cooking will be the main trend in near future\".\\n\\nHere is the classification in JSON format:\\n\\n```json\\n{\"component_type\": [\"MajorClaim\"]}\\n```',\n",
       " '### Classification of the Argument Component\\n\\nTo classify the argument component, let\\'s break it down step by step:\\n\\n1. **Identify the Premise**: The first step is to identify the main idea or premise of the argument. In this case, the premise is \"In a big city you have more qualified teachers and a better access to technology.\"\\n\\n2. **Determine the Claim**: The next step is to determine if the premise is a claim or not. A claim is a specific statement that can be either true or false. In this case, the premise is a statement about the benefits of having more qualified teachers and better access to technology in big cities.\\n\\n3. **Identify the Major Claim**: The major claim is the central idea or argument that the author is trying to make. In this case, the major claim is \"In a big city, having more qualified teachers and better access to technology is beneficial.\"\\n\\n4. **Check for Inductive Reasoning**: The author is making a general statement about the benefits of having more qualified teachers and better access to technology in big cities. This suggests that the argument is based on inductive reasoning, where the author is making a general conclusion based on specific observations.\\n\\n5. **Check for Logical Fallacy**: The author is making a causal link between having more qualified teachers and having better access to technology. However, it\\'s not clear if this is a necessary condition or a sufficient condition. For example, having better access to technology is not a necessary condition for having more qualified teachers.\\n\\n6. **Check for Counterexamples**: There are no clear counterexamples to the argument, suggesting that it is not universally true.\\n\\nBased on the analysis, I classify the argument component as:\\n\\n**\"MajorClaim\"**\\n\\nThe major claim is \"In a big city, having more qualified teachers and better access to technology is beneficial.\"',\n",
       " '### Classification of the Argument Component\\n\\nTo classify the argument component, let\\'s break it down step by step:\\n\\n1. **Identify the Premise**: The first step is to identify the main idea or premise of the argument. In this case, the premise is \"following fashion trends constantly may undermine individuals\\' personalities.\"\\n\\n2. **Determine the Claim**: The next step is to determine if the premise is a claim or not. A claim is a specific statement that can be either true or false. In this case, the premise is a statement that can be either true or false.\\n\\n3. **Identify the Major Claim**: The major claim is the central idea or statement that the argument is trying to make. In this case, the major claim is \"following fashion trends constantly may undermine individuals\\' personalities.\"\\n\\n4. **Determine the Type of Argument**: Based on the major claim, we can determine the type of argument. In this case, the major claim is a claim, so the type of argument is \"Claim.\"\\n\\n5. **Classify the Argument Component**: Based on the classification of the major claim, we can classify the argument component. In this case, the argument component is a \"Claim\" because it is a specific statement that the argument is trying to make.\\n\\n### Final Classification\\n\\nBased on the above steps, the final classification of the argument component is:\\n\\n{\"component_type\": \"Claim\"}\\n\\n### JSON Format\\n\\nHere is the final classification in the required JSON format:\\n\\n{\"component_type\": \"Claim\"}',\n",
       " '### Classification of the Argument Component\\n\\nTo classify the argument component, let\\'s break it down step by step:\\n\\n1. **Understanding the Argument Component**: The argument component is a statement that presents a claim or a statement about a particular topic. In this case, the topic is tourism and its economic contribution to the Czech Republic.\\n\\n2. **Identifying the Premise**: The premise is the foundation of the argument. It is the statement that sets the context and provides the basis for the rest of the argument. In this case, the premise is \"tourism makes up one-third of the Czech Republic\\'s economy.\"\\n\\n3. **Identifying the Conclusion**: The conclusion is the statement that follows the premise and provides the main argument or claim. In this case, the conclusion is \"tourism makes up one-third of the Czech Republic\\'s economy.\"\\n\\n4. **Analyzing the Argument**: The argument is a statement that connects the premise to the conclusion. It is a logical connection that shows how the premise leads to the conclusion.\\n\\n5. **Classification**: Based on the analysis, the argument component can be classified as follows:\\n\\n- **Major Claim**: The argument is making a claim about the economic contribution of tourism to the Czech Republic. Therefore, the Major Claim is \"Tourism makes up one-third of the Czech Republic\\'s economy.\"\\n\\n- **Claim**: The argument is stating a fact about the economic contribution of tourism. Therefore, the Claim is \"Tourism makes up one-third of the Czech Republic\\'s economy.\"\\n\\n- **Premise**: The argument is stating the foundation of the argument, which is the economic contribution of tourism to the Czech Republic. Therefore, the Premise is \"Tourism makes up one-third of the Czech Republic\\'s economy.\"\\n\\n### Final Classification\\n\\nBased on the analysis, the final classification of the argument component is:\\n\\n{\"component_type\": \"MajorClaim\"}\\n\\nThis classification indicates that the argument component is making a claim about the economic contribution of tourism to the Czech Republic, which is the Major Claim.',\n",
       " '### Classification of the Argument Component\\n\\nTo classify the argument component, let\\'s break it down step by step:\\n\\n1. **\"Those who don\\'t even take a word of criticism will eventually lose chances to get improved\"**\\n\\n   - This statement implies that there is a direct relationship between not taking criticism and losing chances to improve. It suggests that the absence of criticism leads to a negative outcome (loss of chances to improve).\\n\\n2. **\"Those\" implies a group or category**\\n\\n   - The phrase \"Those\" indicates that the argument is about a specific group or category. In this case, it\\'s about individuals who don\\'t take criticism.\\n\\n3. **\"don\\'t even take a word of criticism\" implies a negative action**\\n\\n   - The phrase \"don\\'t even take a word of criticism\" implies that the individuals in question are not taking any action (criticism) towards improving themselves or their situation.\\n\\n4. **\"will eventually lose chances to get improved\" implies a consequence**\\n\\n   - The phrase \"will eventually lose chances to get improved\" implies that there is a consequence or outcome that will occur as a result of not taking criticism. In this case, it\\'s \"losing chances to get improved\".\\n\\n5. **\"to get improved\" implies a goal or objective**\\n\\n   - The phrase \"to get improved\" implies that the goal or objective is to improve oneself or one\\'s situation. In this case, it\\'s about improving one\\'s chances of success or improvement.\\n\\nBased on these steps, I classify the argument component as follows:\\n\\n- **Major Claim**: \"Those who don\\'t even take a word of criticism will eventually lose chances to get improved.\"\\n\\nThis is because the major claim is the central idea or argument of the argument component, which is that individuals who don\\'t take criticism will eventually lose their chances of improving.\\n\\n### Final Classification\\n\\n{\"component_type\": \"MajorClaim\"}',\n",
       " '### Classification of the Argument Component\\n\\nTo classify the argument component, I will break it down into its constituent parts and analyze each component separately.\\n\\n1. **\"To be out of poverty\"**: This phrase is a **Premise**. It is a general statement that sets the context for the argument. In this case, it is a statement about the importance of poverty reduction.\\n\\n2. **\"it is fundamental\"**: This phrase is a **Claim**. It is a statement that makes a specific assertion about the importance of poverty reduction. It is a conclusion drawn from the premise.\\n\\n3. **\"support basic industry related factors\"**: This phrase is a **Premise**. It is a statement that provides more specific details about the factors that are being supported.\\n\\n4. **\"such as light, electricity, load, highways, natural resources, technology and buildings for companies\"**: This phrase is a **Claim**. It is a statement that makes a specific assertion about the importance of these factors.\\n\\n### Final Classification\\n\\nBased on the analysis above, I classify the argument component as follows:\\n\\n* **Premise**: \"To be out of poverty, it is fundamental to support basic industry related factors such as light, electricity, load, highways, natural resources, technology and buildings for companies\"\\n* **Claim**: \"To be out of poverty, it is fundamental to support basic industry related factors such as light, electricity, load, highways, natural resources, technology and buildings for companies\"\\n\\n### Final Answer in JSON Format\\n\\n{\"component_type\": [\"Premise\", \"Claim\"]}',\n",
       " '### Classification of the Argument Component\\n\\nTo classify the argument component, let\\'s break it down step by step:\\n\\n1. **\"they\"**: This is a pronoun, which is a type of word that refers to a person, place, thing, or idea. Pronouns are often used to make statements or questions. In this case, \"they\" is a pronoun referring to individuals in our society.\\n\\n2. **\"are\"**: This is a linking verb, which is a word that connects the subject of a sentence to the rest of the sentence. Linking verbs are used to form the subject of a sentence. In this case, \"are\" is a linking verb connecting the subject \"they\" to the rest of the sentence.\\n\\n3. **\"accessed\"**: This is a verb, which is a word that expresses an action or a state of being. Verbs are the building blocks of sentences. In this case, \"accessed\" is a verb indicating that individuals have access to our society on a daily basis.\\n\\n4. **\"by\"**: This is a preposition, which is a word that shows the relationship between a noun or pronoun and other words in a sentence. Prepositions are used to show the direction or relationship between the subject and other words in a sentence. In this case, \"by\" is a preposition indicating the relationship between \"they\" and the action of accessing our society.\\n\\n5. **\"every\"**: This is an adverb, which is a word that modifies a verb, an adjective, or another adverb. Adverbs are used to describe the manner, time, place, frequency, or degree of an action or a state of being. In this case, \"every\" is an adverb modifying the verb \"accessed\".\\n\\n6. **\"individuals\"**: This is a noun, which is a word that refers to a person, place, thing, or idea. Nouns are the main subjects of a sentence. In this case, \"individuals\" is a noun referring to people in our society.\\n\\n7. **\"in\"**: This is a preposition, which is a word that shows the relationship between a noun or pronoun and other words in a sentence. Prepositions are used to show the direction or relationship between the subject and other words in a sentence. In this case, \"in\" is a preposition indicating the location or scope of the individuals.\\n\\n8. **\"our\"**: This is a pronoun, which is a type of word that refers to a person, place, thing, or idea. Pronouns are often used to make statements or questions. In this case, \"our\" is a pronoun referring to the people in our society.\\n\\n9. **\"society\"**: This is a noun, which is a word that refers to a person, place, thing, or idea. Nouns are the main subjects of a sentence. In this case, \"society\" is a noun referring to the people in our society.\\n\\n10. **\"on\"**: This is a preposition, which is a word that shows the relationship between a noun or pronoun and other words in a sentence. Prepositions are used to show the direction or relationship between the subject and other words in a sentence. In this case, \"on\" is a preposition indicating the location or scope of the individuals.\\n\\n11. **\"a\"**: This is a determiner, which is a word that shows the relationship between a noun or pronoun and other words in a sentence. Determiners are used to show the relationship between a noun or pronoun and other words in a sentence. In this case, \"a\" is a determiner indicating the type of individuals.\\n\\n12. **\"daily\"**: This is an adverb, which is a word that modifies a verb, an adjective, or another adverb. Adverbs are used to describe the manner, time, place, frequency, or degree of an action or a state of being. In this case, \"daily\" is an adverb modifying the verb \"accessed\".\\n\\nNow, let\\'s combine all the parts to form a complete sentence:\\n\\n\"They are accessed by every individual in our society on a daily basis.\"\\n\\nThis sentence is a complete statement that can be classified as a **\"Claim\"**.\\n\\n### Final Classification\\n\\nBased on the analysis, the argument component can be classified as a **\"Claim\"**.\\n\\n### Final Answer\\n\\n{\"component_type\": [\"Claim\"]}',\n",
       " '### Classification of the Argument Component\\n\\nTo classify the argument component, let\\'s break it down step by step:\\n\\n1. **Identify the Premise**: The argument starts with a statement about the issue of education fees. The first sentence, \"for the issue of education fee,\" sets the context and introduces the problem.\\n\\n2. **Identify the Claim**: The claim is the main argument, which is \"richer countries should offer scholarships and loan to the qualified students.\" This statement is the core of the argument.\\n\\n3. **Identify the Reasoning**: The reasoning behind the claim is that richer countries should offer scholarships and loans to qualified students. This implies that the argument is making a moral or ethical argument, suggesting that richer countries have a moral obligation to help students.\\n\\n4. **Identify the Conclusion**: The conclusion is that richer countries should offer scholarships and loans to qualified students. This is the final statement of the argument.\\n\\nBased on these steps, I would classify the argument component as follows:\\n\\n- **Component Type:** Claim\\n- **Reasoning:** The argument is making a moral or ethical argument, suggesting that richer countries have a moral obligation to help students.\\n- **Conclusion:** The argument concludes that richer countries should offer scholarships and loans to qualified students.\\n\\nTherefore, my final classification is: {\"component_type\": \"Claim\", \"reasoning\": \"Moral Obligation\", \"conclusion\": \"Richer Countries Should Offer Scholarships and Loans to Qualified Students\"}',\n",
       " '### Classification of the Argument Component\\n\\nTo classify the argument component, I will analyze the given text step-by-step.\\n\\n1. **Identify the main idea**: The main idea of the argument component is that some of his histories, such as Mickey Mouse and Three Little Pigs, were turned down.\\n\\n2. **Determine the type of argument**: Based on the main idea, I can classify the argument as a **Claim**. A claim is a statement that makes a specific assertion about a particular subject or issue.\\n\\n3. **Examine the structure of the argument**: The argument structure is as follows:\\n   - \"One of the difficulties was some of his histories, such as Mickey Mouse and Three Little Pigs, were turned down\"\\n   - This can be broken down into two parts:\\n     - \"One of the difficulties\"\\n     - \"was some of his histories, such as Mickey Mouse and Three Little Pigs, were turned down\"\\n   - The first part is a **Premise**. A premise is a statement that provides background information or sets the context for the argument.\\n   - The second part is a **Claim**. The claim is the main assertion made about the subject.\\n\\n4. **Consider the context**: The context in which the argument is presented is the essay, which suggests that the argument is being used to support a particular point or idea.\\n\\nBased on these steps, I can conclude that the argument component is a **Claim**.\\n\\n### Final Classification\\n\\n{\"component_type\": \"Claim\"}']"
      ]
     },
     "execution_count": 281,
     "metadata": {},
     "output_type": "execute_result"
    }
   ],
   "source": [
    "reasons_l"
   ]
  },
  {
   "cell_type": "code",
   "execution_count": null,
   "metadata": {},
   "outputs": [],
   "source": []
  },
  {
   "cell_type": "code",
   "execution_count": 258,
   "metadata": {},
   "outputs": [],
   "source": [
    "# input_ids = tokenizer.apply_chat_template(\n",
    "#     messages,\n",
    "#     add_generation_prompt=True,\n",
    "#     return_tensors=\"pt\"\n",
    "# ).to(model.device) # type: ignore"
   ]
  },
  {
   "cell_type": "code",
   "execution_count": 259,
   "metadata": {},
   "outputs": [],
   "source": [
    "#input_ids"
   ]
  },
  {
   "cell_type": "code",
   "execution_count": 260,
   "metadata": {},
   "outputs": [],
   "source": [
    "#print(tokenizer.decode(input_ids[0]))"
   ]
  },
  {
   "cell_type": "code",
   "execution_count": 261,
   "metadata": {},
   "outputs": [],
   "source": [
    "# terminators = [\n",
    "#     tokenizer.eos_token_id,\n",
    "#     tokenizer.convert_tokens_to_ids(\"<|eot_id|>\")\n",
    "# ]"
   ]
  },
  {
   "cell_type": "code",
   "execution_count": 262,
   "metadata": {},
   "outputs": [],
   "source": [
    "# outputs = model.generate(\n",
    "#     input_ids,\n",
    "#     max_new_tokens=1024,\n",
    "#     eos_token_id=terminators,\n",
    "#     do_sample=True,\n",
    "#     temperature=0.1,\n",
    "#     top_p=0.9,\n",
    "# )"
   ]
  },
  {
   "cell_type": "code",
   "execution_count": 263,
   "metadata": {},
   "outputs": [],
   "source": [
    "#response = outputs[0][input_ids.shape[-1]:]"
   ]
  },
  {
   "cell_type": "code",
   "execution_count": 264,
   "metadata": {},
   "outputs": [],
   "source": [
    "#print(tokenizer.decode(response, skip_special_tokens=True))"
   ]
  },
  {
   "cell_type": "code",
   "execution_count": 265,
   "metadata": {},
   "outputs": [],
   "source": [
    "#reasons_d[usr_msg] = tokenizer.decode(response, skip_special_tokens=True)"
   ]
  },
  {
   "cell_type": "code",
   "execution_count": 266,
   "metadata": {},
   "outputs": [],
   "source": [
    "#reasons_d"
   ]
  },
  {
   "cell_type": "code",
   "execution_count": null,
   "metadata": {},
   "outputs": [],
   "source": []
  }
 ],
 "metadata": {
  "kernelspec": {
   "display_name": "Python 3 (ipykernel)",
   "language": "python",
   "name": "python3"
  },
  "language_info": {
   "codemirror_mode": {
    "name": "ipython",
    "version": 3
   },
   "file_extension": ".py",
   "mimetype": "text/x-python",
   "name": "python",
   "nbconvert_exporter": "python",
   "pygments_lexer": "ipython3",
   "version": "3.11.11"
  }
 },
 "nbformat": 4,
 "nbformat_minor": 2
}
