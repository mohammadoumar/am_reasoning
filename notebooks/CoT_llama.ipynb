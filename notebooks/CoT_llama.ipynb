{
 "cells": [
  {
   "cell_type": "code",
   "execution_count": null,
   "metadata": {},
   "outputs": [],
   "source": [
    "import torch\n",
    "import pandas as pd\n",
    "\n",
    "from tqdm import tqdm\n",
    "from pathlib import Path\n",
    "from transformers import AutoTokenizer, AutoModelForCausalLM"
   ]
  },
  {
   "cell_type": "markdown",
   "metadata": {},
   "source": [
    "### Tokenizer and Model"
   ]
  },
  {
   "cell_type": "code",
   "execution_count": 2,
   "metadata": {},
   "outputs": [],
   "source": [
    "model_id = \"unsloth/Llama-3.2-1B-Instruct-bnb-4bit\""
   ]
  },
  {
   "cell_type": "code",
   "execution_count": 3,
   "metadata": {},
   "outputs": [],
   "source": [
    "tokenizer = AutoTokenizer.from_pretrained(model_id)"
   ]
  },
  {
   "cell_type": "code",
   "execution_count": 4,
   "metadata": {},
   "outputs": [],
   "source": [
    "model = AutoModelForCausalLM.from_pretrained(\n",
    "    model_id,\n",
    "    torch_dtype=torch.bfloat16,\n",
    "    device_map=\"auto\",\n",
    ")"
   ]
  },
  {
   "cell_type": "code",
   "execution_count": 93,
   "metadata": {},
   "outputs": [
    {
     "data": {
      "text/plain": [
       "LlamaConfig {\n",
       "  \"_attn_implementation_autoset\": true,\n",
       "  \"_name_or_path\": \"unsloth/Llama-3.2-1B-Instruct-bnb-4bit\",\n",
       "  \"architectures\": [\n",
       "    \"LlamaForCausalLM\"\n",
       "  ],\n",
       "  \"attention_bias\": false,\n",
       "  \"attention_dropout\": 0.0,\n",
       "  \"bos_token_id\": 128000,\n",
       "  \"eos_token_id\": 128009,\n",
       "  \"head_dim\": 64,\n",
       "  \"hidden_act\": \"silu\",\n",
       "  \"hidden_size\": 2048,\n",
       "  \"initializer_range\": 0.02,\n",
       "  \"intermediate_size\": 8192,\n",
       "  \"max_position_embeddings\": 131072,\n",
       "  \"mlp_bias\": false,\n",
       "  \"model_type\": \"llama\",\n",
       "  \"num_attention_heads\": 32,\n",
       "  \"num_hidden_layers\": 16,\n",
       "  \"num_key_value_heads\": 8,\n",
       "  \"pad_token_id\": 128004,\n",
       "  \"pretraining_tp\": 1,\n",
       "  \"quantization_config\": {\n",
       "    \"_load_in_4bit\": true,\n",
       "    \"_load_in_8bit\": false,\n",
       "    \"bnb_4bit_compute_dtype\": \"bfloat16\",\n",
       "    \"bnb_4bit_quant_storage\": \"uint8\",\n",
       "    \"bnb_4bit_quant_type\": \"nf4\",\n",
       "    \"bnb_4bit_use_double_quant\": true,\n",
       "    \"llm_int8_enable_fp32_cpu_offload\": false,\n",
       "    \"llm_int8_has_fp16_weight\": false,\n",
       "    \"llm_int8_skip_modules\": [\n",
       "      \"lm_head\",\n",
       "      \"multi_modal_projector\",\n",
       "      \"merger\",\n",
       "      \"modality_projection\"\n",
       "    ],\n",
       "    \"llm_int8_threshold\": 6.0,\n",
       "    \"load_in_4bit\": true,\n",
       "    \"load_in_8bit\": false,\n",
       "    \"quant_method\": \"bitsandbytes\"\n",
       "  },\n",
       "  \"rms_norm_eps\": 1e-05,\n",
       "  \"rope_scaling\": {\n",
       "    \"factor\": 32.0,\n",
       "    \"high_freq_factor\": 4.0,\n",
       "    \"low_freq_factor\": 1.0,\n",
       "    \"original_max_position_embeddings\": 8192,\n",
       "    \"rope_type\": \"llama3\"\n",
       "  },\n",
       "  \"rope_theta\": 500000.0,\n",
       "  \"tie_word_embeddings\": true,\n",
       "  \"torch_dtype\": \"bfloat16\",\n",
       "  \"transformers_version\": \"4.49.0\",\n",
       "  \"unsloth_fixed\": true,\n",
       "  \"use_cache\": true,\n",
       "  \"vocab_size\": 128256\n",
       "}"
      ]
     },
     "execution_count": 93,
     "metadata": {},
     "output_type": "execute_result"
    }
   ],
   "source": [
    "model.config"
   ]
  },
  {
   "cell_type": "markdown",
   "metadata": {},
   "source": [
    "### Data"
   ]
  },
  {
   "cell_type": "code",
   "execution_count": 94,
   "metadata": {},
   "outputs": [],
   "source": [
    "DATA_DIR = Path.cwd() / \"am_reasoning\" / \"data_files\""
   ]
  },
  {
   "cell_type": "code",
   "execution_count": 95,
   "metadata": {},
   "outputs": [],
   "source": [
    "df = pd.read_csv((DATA_DIR / \"pe_dataset.csv\"), index_col=0)"
   ]
  },
  {
   "cell_type": "code",
   "execution_count": 111,
   "metadata": {},
   "outputs": [
    {
     "data": {
      "text/plain": [
       "Index(['split', 'title', 'argument_bound_1', 'argument_bound_2', 'argument_id',\n",
       "       'ac', 'label', 'essay'],\n",
       "      dtype='object')"
      ]
     },
     "execution_count": 111,
     "metadata": {},
     "output_type": "execute_result"
    }
   ],
   "source": [
    "df.columns"
   ]
  },
  {
   "cell_type": "code",
   "execution_count": 210,
   "metadata": {},
   "outputs": [
    {
     "data": {
      "text/plain": [
       "(6089, 8)"
      ]
     },
     "execution_count": 210,
     "metadata": {},
     "output_type": "execute_result"
    }
   ],
   "source": [
    "df.shape"
   ]
  },
  {
   "cell_type": "markdown",
   "metadata": {},
   "source": [
    "### Template Messages"
   ]
  },
  {
   "cell_type": "code",
   "execution_count": null,
   "metadata": {},
   "outputs": [],
   "source": [
    "# sys_msg = \"\"\"You are an expert in argumentation analysis. You will be given a complete argument. Your task is to analyze the argument holistically and classify it as exactly ONE of the following categories: Position, Claim, or Premise. \n",
    "\n",
    "# First, think through your analysis step by step, considering the function and structure of the argument. Explain your reasoning, identifying key characteristics that point to a specific classification.\n",
    "\n",
    "# Then, provide your final classification as a single word: Position, Claim, or Premise.\"\"\""
   ]
  },
  {
   "cell_type": "code",
   "execution_count": null,
   "metadata": {},
   "outputs": [],
   "source": [
    "# instruction = \"\"\"### You are an expert in Argument Mining. You are given an argument component from an essay. Your task is to classify the argument component as either \"MajorClaim\", \"Claim\" or \"Premise\". You must return the argument component type in following JSON format:: {\"component_type\": [component_type (str)]}\n",
    "\n",
    "\n",
    "# \"\"\""
   ]
  },
  {
   "cell_type": "code",
   "execution_count": null,
   "metadata": {},
   "outputs": [],
   "source": []
  },
  {
   "cell_type": "code",
   "execution_count": 287,
   "metadata": {},
   "outputs": [],
   "source": [
    "# instruction = \"\"\"### You are an expert in Argument Mining and discourse analysis. \n",
    "\n",
    "# INPUT:\n",
    "# - You are given an argument component from an essay. \n",
    "# - You are given the full text of the essay.\n",
    "\n",
    "# TASK:\n",
    "# - Your task is to classify the whole argument component, as ONLY ONE of: \"MajorClaim\", \"Claim\" or \"Premise\".\n",
    "# - Explain your reasoning step-by-step before making your final classification.\n",
    "\n",
    "# Then, return your final classification in the following JSON format:\n",
    "# {\"component_type\": [Answer]}\n",
    "\n",
    "# Example:\n",
    "\n",
    "# {\"component_type\": [\"Claim\"]}\n",
    "\n",
    "# \"\"\""
   ]
  },
  {
   "cell_type": "code",
   "execution_count": 317,
   "metadata": {},
   "outputs": [],
   "source": [
    "reasons_d = {}"
   ]
  },
  {
   "cell_type": "code",
   "execution_count": 318,
   "metadata": {},
   "outputs": [],
   "source": [
    "instruction = \"\"\"### You are an expert in Argument Mining and discourse analysis. \n",
    "\n",
    "INPUT:\n",
    "- You are given a single argument component from an essay. \n",
    "- You are also given the full text of the essay for context.\n",
    "\n",
    "TASK:\n",
    "- Your task is to classify the ENTIRE argument component as ONE of these three categories ONLY: \"MajorClaim\", \"Claim\" or \"Premise\".\n",
    "- Do NOT break down the argument component into smaller parts with different classifications.\n",
    "- The WHOLE component must receive exactly ONE classification.\n",
    "\n",
    "REASONING PROCESS:\n",
    "First, analyze the component considering these factors:\n",
    "1. Semantic content: What is the meaning and purpose of this component in the argument?\n",
    "2. Syntactic structure: How is this component phrased? (declarative statement, supporting evidence, etc.)\n",
    "3. Context: How does this component relate to the overall essay thesis?\n",
    "4. Function: \n",
    "   - Does it express the author's central position on the main topic? (MajorClaim)\n",
    "   - Does it express a specific stance that supports or develops the main position? (Claim)\n",
    "   - Does it provide evidence, examples, or justification for a claim? (Premise)\n",
    "\n",
    "Provide your step-by-step reasoning, then classify the ENTIRE argument component as exactly ONE of: \"MajorClaim\", \"Claim\", or \"Premise\".\n",
    "\n",
    "Finally, return your classification in the following JSON format:\n",
    "{\"component_type\": [\"Your Answer\"]}\n",
    "\n",
    "Example:\n",
    "{\"component_type\": [\"Claim\"]}\n",
    "\n",
    "\"\"\""
   ]
  },
  {
   "cell_type": "code",
   "execution_count": 319,
   "metadata": {},
   "outputs": [],
   "source": [
    "df_s = df.sample(10)"
   ]
  },
  {
   "cell_type": "code",
   "execution_count": 320,
   "metadata": {},
   "outputs": [],
   "source": [
    "sys_msgs = []\n",
    "user_msgs = []\n",
    "\n",
    "for _, row in df_s.iterrows():\n",
    "\n",
    "    sys_msg = {\"role\": \"system\", \"content\": instruction}\n",
    "    #usr_msg = {\"role\": \"user\", \"content\": f\"\"\"### Here is the argument component to be classified: {row['ac']}\"\"\"} \n",
    "    \n",
    "    #msg_c = f\"\"\"### Here is the complete essay text: {df.iloc[0]['essay']}\"\"\" + \"\\n\\n\" + f\"\"\"### Here is the argument component to be classified: {row['ac']}\"\"\"\n",
    "    \n",
    "    usr_msg = {\"role\": \"user\", \"content\": f\"\"\"### Here is the complete essay text: {row['essay']}\"\"\" + \"\\n\\n\" + f\"\"\"### Here is the argument component to be classified: {row['ac']}\"\"\"}\n",
    "    \n",
    "    \n",
    "    sys_msgs.append(sys_msg)\n",
    "    user_msgs.append(usr_msg)    \n",
    "    "
   ]
  },
  {
   "cell_type": "code",
   "execution_count": 321,
   "metadata": {},
   "outputs": [],
   "source": [
    "messages = []\n",
    "\n",
    "for i in range(len(sys_msgs)):\n",
    "    messages.append([sys_msgs[i], user_msgs[i]])"
   ]
  },
  {
   "cell_type": "code",
   "execution_count": 322,
   "metadata": {},
   "outputs": [
    {
     "data": {
      "text/plain": [
       "10"
      ]
     },
     "execution_count": 322,
     "metadata": {},
     "output_type": "execute_result"
    }
   ],
   "source": [
    "len(messages)"
   ]
  },
  {
   "cell_type": "code",
   "execution_count": 323,
   "metadata": {},
   "outputs": [
    {
     "data": {
      "text/plain": [
       "' Here is the argument component to be classified: When I was ten years old, I was a shy girl'"
      ]
     },
     "execution_count": 323,
     "metadata": {},
     "output_type": "execute_result"
    }
   ],
   "source": [
    "messages[5][1]['content'].split(\"###\")[2]"
   ]
  },
  {
   "cell_type": "code",
   "execution_count": 324,
   "metadata": {},
   "outputs": [],
   "source": [
    "#print(usr_msg)"
   ]
  },
  {
   "cell_type": "code",
   "execution_count": 325,
   "metadata": {},
   "outputs": [],
   "source": [
    "# messages = [\n",
    "#     {\"role\": \"system\", \"content\": instruction},\n",
    "#     {\"role\": \"user\", \"content\": usr_msg},\n",
    "# ]"
   ]
  },
  {
   "cell_type": "code",
   "execution_count": 326,
   "metadata": {},
   "outputs": [],
   "source": [
    "terminators = [\n",
    "    tokenizer.eos_token_id,\n",
    "    tokenizer.convert_tokens_to_ids(\"<|eot_id|>\")\n",
    "]"
   ]
  },
  {
   "cell_type": "code",
   "execution_count": 327,
   "metadata": {},
   "outputs": [
    {
     "name": "stderr",
     "output_type": "stream",
     "text": [
      "0it [00:00, ?it/s]"
     ]
    },
    {
     "name": "stderr",
     "output_type": "stream",
     "text": [
      "10it [00:58,  5.80s/it]\n"
     ]
    }
   ],
   "source": [
    "for i, message in tqdm(enumerate(messages)):\n",
    "\n",
    "    input_ids = tokenizer.apply_chat_template(message, add_generation_prompt=True, return_tensors=\"pt\").to(model.device) # type: ignore\n",
    "    outputs = model.generate(input_ids, max_new_tokens=1024, eos_token_id=terminators, do_sample=True, temperature=0.1, top_p=0.9)\n",
    "    \n",
    "    response = outputs[0][input_ids.shape[-1]:]\n",
    "    reasons_d[message[1]['content'].split(\"###\")[2]] = tokenizer.decode(response, skip_special_tokens=True)"
   ]
  },
  {
   "cell_type": "code",
   "execution_count": 328,
   "metadata": {},
   "outputs": [
    {
     "data": {
      "text/plain": [
       "{' Here is the argument component to be classified: school teachers are more qualified than parents in the field of education': '### Classification Process\\n\\n1. **Semantic Content**: The statement \"school teachers are more qualified than parents in the field of education\" conveys a specific aspect of the relationship between teachers and parents in children\\'s education.\\n\\n2. **Syntactic Structure**: The phrase \"school teachers are more qualified\" is a declarative statement, which is a fundamental building block of an argument.\\n\\n3. **Context**: The context of the essay is that the author is discussing the best option for children\\'s education. This context suggests that the author is making a claim about the superiority of teachers in this context.\\n\\n4. **Function**: The function of this argument component is to make a claim about the superiority of teachers in children\\'s education. It does not provide evidence or examples to support this claim.\\n\\n### Classification\\n\\nBased on the analysis, I classify the argument component as: **Claim**\\n\\nThe argument component \"school teachers are more qualified than parents in the field of education\" expresses a specific stance that supports the author\\'s main position on the best option for children\\'s education. It does not provide evidence or examples to support this claim, and it does not express the author\\'s central position on the main topic. Therefore, I classify it as a \"Claim\".\\n\\n### Classification in JSON Format\\n\\n{\"component_type\": [\"Claim\"]}',\n",
       " ' Here is the argument component to be classified: we need to consider that police armed with guns or any other kinds of legal weapons just attempts to protect not only civilians but also himself': '### Classification Process\\n\\n1. **Semantic Content**: The component \"we need to consider that police armed with guns or any other kinds of legal weapons just attempts to protect not only civilians but also himself\" conveys a specific stance on the issue of police carrying guns.\\n\\n2. **Syntactic Structure**: The phrase \"we need to consider\" is a declarative statement, indicating that the author is providing a perspective on the issue.\\n\\n3. **Context**: The context of the essay is that the police force is carrying guns, which is a significant issue that many people are concerned about. The author is analyzing the impact of this issue on the level of violence in society.\\n\\n4. **Function**: The function of this component is to express the author\\'s stance on the issue, specifically that the police force carrying guns is a problem.\\n\\n### Classification\\n\\nBased on the analysis, I classify the entire argument component as: **\"Claim\"**\\n\\nThe component \"we need to consider that police armed with guns or any other kinds of legal weapons just attempts to protect not only civilians but also himself\" is a specific stance that supports the author\\'s main position on the issue of police carrying guns. It is not a general premise (Premise) nor is it a major claim (MajorClaim) that is being made. The author is making a specific argument about the impact of police carrying guns on the level of violence in society.\\n\\n### Classification in JSON Format\\n\\n{\"component_type\": [\"Claim\"]}',\n",
       " ' Here is the argument component to be classified: the role of zoos towards both human and animals is undeniably indispensable': '### Step-by-step analysis:\\n\\n1. **Semantic content**: The phrase \"undeniably indispensable\" conveys a sense of necessity and importance. It implies that the role of zoos is not just a good idea, but a fundamental aspect of human and animal well-being.\\n2. **Syntactic structure**: The phrase \"undeniably indispensable\" is a compound sentence, consisting of two independent clauses joined by a coordinating conjunction \"and\". This structure suggests that the author is making a comparison between two things.\\n3. **Context**: The essay thesis is already established as \"The zoo deserves maintenance and public respect\". The author is using the phrase \"undeniably indispensable\" to reinforce this thesis.\\n4. **Function**: The phrase \"undeniably indispensable\" serves as a rhetorical device to emphasize the importance of zoos. It is not a direct statement, but rather a way of expressing the author\\'s opinion.\\n\\n### Classification:\\n\\nBased on the analysis, I classify the argument component as: \"Claim\"\\n\\nThe reason is that the phrase \"undeniably indispensable\" is used to express a specific stance, which is the author\\'s opinion on the role of zoos. It does not express a central position on the main topic, nor does it provide evidence or justification for a claim. Instead, it reinforces the author\\'s existing thesis.\\n\\n### Classification in JSON format:\\n\\n{\"component_type\": \"Claim\"}',\n",
       " ' Here is the argument component to be classified: restrictions on exposure to adolescents should apply': '### Classification Process\\n\\n1. **Semantic Content**: The component \"restrictions on exposure to adolescents should apply\" conveys a message about the government imposing restrictions on artists\\' work due to concerns about social misleading.\\n\\n2. **Syntactic Structure**: The phrase \"restrictions on exposure to adolescents should apply\" is a declarative statement, indicating a specific stance or position.\\n\\n3. **Context**: The context of the essay is about the importance of artists\\' freedom of expression and the need to protect it from government restrictions.\\n\\n4. **Function**: The function of this component is to express a specific stance or position on the main topic of \"restrictions on exposure to adolescents should apply\".\\n\\n### Classification\\n\\nBased on the analysis, I classify the entire argument component as: **\"Claim\"**\\n\\nThe component expresses a specific stance or position on the main topic, which is the need to protect artists\\' freedom of expression from government restrictions. The phrase \"restrictions on exposure to adolescents should apply\" is a clear expression of a claim, and it is not a premise or a major claim.\\n\\n### Classification in JSON Format\\n\\n{\"component_type\": [\"Claim\"]}',\n",
       " ' Here is the argument component to be classified: cost of living in the big city is extremely expensive, so this problem impresses some people who live under the poverty line to do anything to pay their basic needs': '### Classification Process\\n\\n1. **Semantic Content**: The statement \"cost of living in the big city is extremely expensive\" conveys a specific aspect of the issue, which is the high cost of living in urban areas. This is a key aspect of the argument, as it highlights a particular problem.\\n\\n2. **Syntactic Structure**: The phrase \"so this problem impresses some people who live under the poverty line\" is a supporting statement that provides additional context and explanation for the initial statement. It is a subordinate clause that explains the reason behind the initial statement.\\n\\n3. **Context**: The statement is part of a larger argument that discusses the relationship between the cost of living in the big city and the level of violence. The author is making a connection between the two issues, suggesting that the high cost of living may be contributing to the level of violence.\\n\\n4. **Function**: The statement serves as a counterargument to the initial claim that guns can increase the level of violence. By highlighting the high cost of living in the big city, the author is attempting to undermine the argument that guns are the primary cause of increased violence.\\n\\n### Classification\\n\\nBased on the analysis, I classify the entire argument component as: **\"Claim\"**\\n\\nThe statement \"cost of living in the big city is extremely expensive\" is a specific claim that supports the initial argument that guns can increase the level of violence. It is a particular aspect of the issue, and the author is using it to make a point about the relationship between the cost of living and the level of violence.\\n\\nThe supporting statement \"so this problem impresses some people who live under the poverty line\" is a subordinate clause that explains the reason behind the initial statement, but it does not change the initial claim. Therefore, the classification remains \"Claim\".',\n",
       " ' Here is the argument component to be classified: When I was ten years old, I was a shy girl': '### Step-by-step reasoning:\\n\\n1. **Semantic content**: The statement \"When I was ten years old, I was a shy girl\" conveys a personal experience and a specific aspect of the speaker\\'s life. It provides context and a personal anecdote, which is a common way to express a claim or premise in an argument.\\n\\n2. **Syntactic structure**: The statement is a declarative sentence, which is a type of statement that makes a claim or assertion. It follows a typical sentence structure, with a subject (I was a shy girl), a verb (was), and a direct object (I was ten years old).\\n\\n3. **Context**: The statement is related to the speaker\\'s personal experience and life, which is a key aspect of the argument. The speaker is using this experience to make a claim about the benefits of spending leisure time outdoors.\\n\\n4. **Function**: The statement is used to support the speaker\\'s claim about the benefits of spending leisure time outdoors. It provides a personal anecdote that illustrates the benefits of outdoor activities.\\n\\n### Classification:\\n\\nBased on the analysis, I classify the argument component as a **Claim**. The statement \"When I was ten years old, I was a shy girl\" is a specific instance of a general claim about the benefits of spending leisure time outdoors. It is a personal anecdote that supports the speaker\\'s argument, and it is not a premise or a major claim.\\n\\n### Classification in JSON format:\\n\\n{\"component_type\": [\"Claim\"]}',\n",
       " ' Here is the argument component to be classified: if the same words are expressed in talking, the counterparty will feel more relaxed': '### Step-by-step reasoning:\\n\\n1. **Semantic content**: The statement \"if the same words are expressed in talking, the counterparty will feel more relaxed\" conveys a specific idea about the impact of in-person communication on team dynamics and project efficiency.\\n\\n2. **Syntactic structure**: The phrase \"if the same words are expressed in talking\" suggests a conditional statement, where the condition is \"the same words are expressed in talking,\" and the consequence is \"the counterparty will feel more relaxed.\"\\n\\n3. **Context**: The context of the argument is about the preference for in-person communication over email for project work. This suggests that the author is considering the practical implications of in-person communication on team dynamics and project outcomes.\\n\\n4. **Function**: The function of the statement is to argue for the preference for in-person communication over email. It provides a specific example (the experiment with Beijing University) to support this argument.\\n\\n### Classification:\\n\\nBased on the analysis, I classify the argument component as: **\"Claim\"**\\n\\nThe argument component is a specific stance that supports the author\\'s preference for in-person communication over email. It provides a concrete example to support this argument, and its function is to persuade the reader to adopt the author\\'s view.\\n\\n### Classification in JSON format:\\n\\n{\"component_type\": [\"Claim\"]}',\n",
       " ' Here is the argument component to be classified: students will choose a career that they want including the job with high salary include': '### Step-by-step reasoning:\\n\\n1. **Semantic content**: The component \"students will choose a career that they want including the job with high salary include\" describes the outcome or result of the students\\' choices, which is a consequence of their actions. This suggests that the component is describing the effect of the students\\' choices, rather than the students\\' choices themselves.\\n\\n2. **Syntactic structure**: The component is a declarative statement, which is a type of sentence that states a fact or opinion. It is also a simple sentence with a clear subject-verb-object structure.\\n\\n3. **Context**: The component is part of a larger essay that discusses the benefits of studying multiple subjects in universities. The context suggests that the component is intended to support the main argument of the essay, which is that studying multiple subjects is beneficial for students.\\n\\n4. **Function**: The component is providing evidence or justification for the main argument of the essay. It is stating that students will choose careers that they want, which is a key benefit of studying multiple subjects in universities.\\n\\n### Classification:\\n\\nBased on the analysis, I classify the entire argument component as: \"Claim\"\\n\\nThe component is making a claim about the benefits of studying multiple subjects in universities, and it is providing evidence to support this claim. The component is not expressing a new idea or perspective, nor is it providing a justification for a claim. Instead, it is stating a fact or opinion about the outcome of students\\' choices.\\n\\n### Classification in JSON format:\\n\\n{\"component_type\": \"Claim\"}',\n",
       " ' Here is the argument component to be classified: There are many other needs which should come first, such as providing health care to all American, or improving public schools': '### Step-by-step reasoning:\\n\\n1. **Semantic content**: The component \"There are many other needs which should come first, such as providing health care to all American, or improving public schools\" describes a general statement about the importance of other needs beyond college education. It does not directly relate to the main topic of \"Should the Government Provide Free College?\".\\n\\n2. **Syntactic structure**: The phrase \"There are many other needs which should come first\" is a declarative statement, indicating a general opinion or fact. It does not provide evidence or examples to support a claim about college education.\\n\\n3. **Context**: The component discusses the importance of other needs beyond college education, which is relevant to the main topic of \"Should the Government Provide Free College?\".\\n\\n4. **Function**: The component expresses a general opinion or fact about the importance of other needs beyond college education, which is not directly related to the main topic of the essay.\\n\\n### Classification:\\n\\nBased on the analysis, I classify the component as \"Claim\" because it expresses a general opinion or fact about the importance of other needs beyond college education, which is not directly related to the main topic of the essay.\\n\\n### Classification in JSON format:\\n\\n{\"component_type\": [\"Claim\"]}',\n",
       " ' Here is the argument component to be classified: I have spent most of my time trying to reach a higher level to show-off to my friends': '### Step-by-step analysis:\\n\\n1. **Semantic content**: The phrase \"I have spent most of my time trying to reach a higher level to show-off to my friends\" conveys a sense of competition and achievement. It implies that the speaker is motivated by a desire to improve their status or reputation.\\n2. **Syntactic structure**: The phrase is a declarative statement, which is a type of sentence that states a fact or opinion.\\n3. **Context**: The context of the essay is about the negative impacts of mobile phones on young people. The speaker is discussing their own experience with mobile phones and how it has affected their behavior and relationships.\\n4. **Function**: The function of this phrase is to express the speaker\\'s personal experience and feelings about the negative impacts of mobile phones.\\n\\n### Classification:\\n\\nBased on the analysis, I classify the argument component as a **Claim**. A claim is a statement that expresses a specific stance or opinion, and in this case, the speaker is expressing their personal experience and feelings about the negative impacts of mobile phones.\\n\\n### Classification in JSON format:\\n\\n{\"component_type\": [\"Claim\"]}'}"
      ]
     },
     "execution_count": 328,
     "metadata": {},
     "output_type": "execute_result"
    }
   ],
   "source": [
    "reasons_d"
   ]
  },
  {
   "cell_type": "code",
   "execution_count": 329,
   "metadata": {},
   "outputs": [],
   "source": [
    "reasons_l = [v.split(\"\\n\\n\")[1:] for k,v in reasons_d.items()]"
   ]
  },
  {
   "cell_type": "code",
   "execution_count": 330,
   "metadata": {},
   "outputs": [
    {
     "data": {
      "text/plain": [
       "[['1. **Semantic Content**: The statement \"school teachers are more qualified than parents in the field of education\" conveys a specific aspect of the relationship between teachers and parents in children\\'s education.',\n",
       "  '2. **Syntactic Structure**: The phrase \"school teachers are more qualified\" is a declarative statement, which is a fundamental building block of an argument.',\n",
       "  \"3. **Context**: The context of the essay is that the author is discussing the best option for children's education. This context suggests that the author is making a claim about the superiority of teachers in this context.\",\n",
       "  \"4. **Function**: The function of this argument component is to make a claim about the superiority of teachers in children's education. It does not provide evidence or examples to support this claim.\",\n",
       "  '### Classification',\n",
       "  'Based on the analysis, I classify the argument component as: **Claim**',\n",
       "  'The argument component \"school teachers are more qualified than parents in the field of education\" expresses a specific stance that supports the author\\'s main position on the best option for children\\'s education. It does not provide evidence or examples to support this claim, and it does not express the author\\'s central position on the main topic. Therefore, I classify it as a \"Claim\".',\n",
       "  '### Classification in JSON Format',\n",
       "  '{\"component_type\": [\"Claim\"]}'],\n",
       " ['1. **Semantic Content**: The component \"we need to consider that police armed with guns or any other kinds of legal weapons just attempts to protect not only civilians but also himself\" conveys a specific stance on the issue of police carrying guns.',\n",
       "  '2. **Syntactic Structure**: The phrase \"we need to consider\" is a declarative statement, indicating that the author is providing a perspective on the issue.',\n",
       "  '3. **Context**: The context of the essay is that the police force is carrying guns, which is a significant issue that many people are concerned about. The author is analyzing the impact of this issue on the level of violence in society.',\n",
       "  \"4. **Function**: The function of this component is to express the author's stance on the issue, specifically that the police force carrying guns is a problem.\",\n",
       "  '### Classification',\n",
       "  'Based on the analysis, I classify the entire argument component as: **\"Claim\"**',\n",
       "  'The component \"we need to consider that police armed with guns or any other kinds of legal weapons just attempts to protect not only civilians but also himself\" is a specific stance that supports the author\\'s main position on the issue of police carrying guns. It is not a general premise (Premise) nor is it a major claim (MajorClaim) that is being made. The author is making a specific argument about the impact of police carrying guns on the level of violence in society.',\n",
       "  '### Classification in JSON Format',\n",
       "  '{\"component_type\": [\"Claim\"]}'],\n",
       " ['1. **Semantic content**: The phrase \"undeniably indispensable\" conveys a sense of necessity and importance. It implies that the role of zoos is not just a good idea, but a fundamental aspect of human and animal well-being.\\n2. **Syntactic structure**: The phrase \"undeniably indispensable\" is a compound sentence, consisting of two independent clauses joined by a coordinating conjunction \"and\". This structure suggests that the author is making a comparison between two things.\\n3. **Context**: The essay thesis is already established as \"The zoo deserves maintenance and public respect\". The author is using the phrase \"undeniably indispensable\" to reinforce this thesis.\\n4. **Function**: The phrase \"undeniably indispensable\" serves as a rhetorical device to emphasize the importance of zoos. It is not a direct statement, but rather a way of expressing the author\\'s opinion.',\n",
       "  '### Classification:',\n",
       "  'Based on the analysis, I classify the argument component as: \"Claim\"',\n",
       "  'The reason is that the phrase \"undeniably indispensable\" is used to express a specific stance, which is the author\\'s opinion on the role of zoos. It does not express a central position on the main topic, nor does it provide evidence or justification for a claim. Instead, it reinforces the author\\'s existing thesis.',\n",
       "  '### Classification in JSON format:',\n",
       "  '{\"component_type\": \"Claim\"}'],\n",
       " ['1. **Semantic Content**: The component \"restrictions on exposure to adolescents should apply\" conveys a message about the government imposing restrictions on artists\\' work due to concerns about social misleading.',\n",
       "  '2. **Syntactic Structure**: The phrase \"restrictions on exposure to adolescents should apply\" is a declarative statement, indicating a specific stance or position.',\n",
       "  \"3. **Context**: The context of the essay is about the importance of artists' freedom of expression and the need to protect it from government restrictions.\",\n",
       "  '4. **Function**: The function of this component is to express a specific stance or position on the main topic of \"restrictions on exposure to adolescents should apply\".',\n",
       "  '### Classification',\n",
       "  'Based on the analysis, I classify the entire argument component as: **\"Claim\"**',\n",
       "  'The component expresses a specific stance or position on the main topic, which is the need to protect artists\\' freedom of expression from government restrictions. The phrase \"restrictions on exposure to adolescents should apply\" is a clear expression of a claim, and it is not a premise or a major claim.',\n",
       "  '### Classification in JSON Format',\n",
       "  '{\"component_type\": [\"Claim\"]}'],\n",
       " ['1. **Semantic Content**: The statement \"cost of living in the big city is extremely expensive\" conveys a specific aspect of the issue, which is the high cost of living in urban areas. This is a key aspect of the argument, as it highlights a particular problem.',\n",
       "  '2. **Syntactic Structure**: The phrase \"so this problem impresses some people who live under the poverty line\" is a supporting statement that provides additional context and explanation for the initial statement. It is a subordinate clause that explains the reason behind the initial statement.',\n",
       "  '3. **Context**: The statement is part of a larger argument that discusses the relationship between the cost of living in the big city and the level of violence. The author is making a connection between the two issues, suggesting that the high cost of living may be contributing to the level of violence.',\n",
       "  '4. **Function**: The statement serves as a counterargument to the initial claim that guns can increase the level of violence. By highlighting the high cost of living in the big city, the author is attempting to undermine the argument that guns are the primary cause of increased violence.',\n",
       "  '### Classification',\n",
       "  'Based on the analysis, I classify the entire argument component as: **\"Claim\"**',\n",
       "  'The statement \"cost of living in the big city is extremely expensive\" is a specific claim that supports the initial argument that guns can increase the level of violence. It is a particular aspect of the issue, and the author is using it to make a point about the relationship between the cost of living and the level of violence.',\n",
       "  'The supporting statement \"so this problem impresses some people who live under the poverty line\" is a subordinate clause that explains the reason behind the initial statement, but it does not change the initial claim. Therefore, the classification remains \"Claim\".'],\n",
       " ['1. **Semantic content**: The statement \"When I was ten years old, I was a shy girl\" conveys a personal experience and a specific aspect of the speaker\\'s life. It provides context and a personal anecdote, which is a common way to express a claim or premise in an argument.',\n",
       "  '2. **Syntactic structure**: The statement is a declarative sentence, which is a type of statement that makes a claim or assertion. It follows a typical sentence structure, with a subject (I was a shy girl), a verb (was), and a direct object (I was ten years old).',\n",
       "  \"3. **Context**: The statement is related to the speaker's personal experience and life, which is a key aspect of the argument. The speaker is using this experience to make a claim about the benefits of spending leisure time outdoors.\",\n",
       "  \"4. **Function**: The statement is used to support the speaker's claim about the benefits of spending leisure time outdoors. It provides a personal anecdote that illustrates the benefits of outdoor activities.\",\n",
       "  '### Classification:',\n",
       "  'Based on the analysis, I classify the argument component as a **Claim**. The statement \"When I was ten years old, I was a shy girl\" is a specific instance of a general claim about the benefits of spending leisure time outdoors. It is a personal anecdote that supports the speaker\\'s argument, and it is not a premise or a major claim.',\n",
       "  '### Classification in JSON format:',\n",
       "  '{\"component_type\": [\"Claim\"]}'],\n",
       " ['1. **Semantic content**: The statement \"if the same words are expressed in talking, the counterparty will feel more relaxed\" conveys a specific idea about the impact of in-person communication on team dynamics and project efficiency.',\n",
       "  '2. **Syntactic structure**: The phrase \"if the same words are expressed in talking\" suggests a conditional statement, where the condition is \"the same words are expressed in talking,\" and the consequence is \"the counterparty will feel more relaxed.\"',\n",
       "  '3. **Context**: The context of the argument is about the preference for in-person communication over email for project work. This suggests that the author is considering the practical implications of in-person communication on team dynamics and project outcomes.',\n",
       "  '4. **Function**: The function of the statement is to argue for the preference for in-person communication over email. It provides a specific example (the experiment with Beijing University) to support this argument.',\n",
       "  '### Classification:',\n",
       "  'Based on the analysis, I classify the argument component as: **\"Claim\"**',\n",
       "  \"The argument component is a specific stance that supports the author's preference for in-person communication over email. It provides a concrete example to support this argument, and its function is to persuade the reader to adopt the author's view.\",\n",
       "  '### Classification in JSON format:',\n",
       "  '{\"component_type\": [\"Claim\"]}'],\n",
       " ['1. **Semantic content**: The component \"students will choose a career that they want including the job with high salary include\" describes the outcome or result of the students\\' choices, which is a consequence of their actions. This suggests that the component is describing the effect of the students\\' choices, rather than the students\\' choices themselves.',\n",
       "  '2. **Syntactic structure**: The component is a declarative statement, which is a type of sentence that states a fact or opinion. It is also a simple sentence with a clear subject-verb-object structure.',\n",
       "  '3. **Context**: The component is part of a larger essay that discusses the benefits of studying multiple subjects in universities. The context suggests that the component is intended to support the main argument of the essay, which is that studying multiple subjects is beneficial for students.',\n",
       "  '4. **Function**: The component is providing evidence or justification for the main argument of the essay. It is stating that students will choose careers that they want, which is a key benefit of studying multiple subjects in universities.',\n",
       "  '### Classification:',\n",
       "  'Based on the analysis, I classify the entire argument component as: \"Claim\"',\n",
       "  \"The component is making a claim about the benefits of studying multiple subjects in universities, and it is providing evidence to support this claim. The component is not expressing a new idea or perspective, nor is it providing a justification for a claim. Instead, it is stating a fact or opinion about the outcome of students' choices.\",\n",
       "  '### Classification in JSON format:',\n",
       "  '{\"component_type\": \"Claim\"}'],\n",
       " ['1. **Semantic content**: The component \"There are many other needs which should come first, such as providing health care to all American, or improving public schools\" describes a general statement about the importance of other needs beyond college education. It does not directly relate to the main topic of \"Should the Government Provide Free College?\".',\n",
       "  '2. **Syntactic structure**: The phrase \"There are many other needs which should come first\" is a declarative statement, indicating a general opinion or fact. It does not provide evidence or examples to support a claim about college education.',\n",
       "  '3. **Context**: The component discusses the importance of other needs beyond college education, which is relevant to the main topic of \"Should the Government Provide Free College?\".',\n",
       "  '4. **Function**: The component expresses a general opinion or fact about the importance of other needs beyond college education, which is not directly related to the main topic of the essay.',\n",
       "  '### Classification:',\n",
       "  'Based on the analysis, I classify the component as \"Claim\" because it expresses a general opinion or fact about the importance of other needs beyond college education, which is not directly related to the main topic of the essay.',\n",
       "  '### Classification in JSON format:',\n",
       "  '{\"component_type\": [\"Claim\"]}'],\n",
       " ['1. **Semantic content**: The phrase \"I have spent most of my time trying to reach a higher level to show-off to my friends\" conveys a sense of competition and achievement. It implies that the speaker is motivated by a desire to improve their status or reputation.\\n2. **Syntactic structure**: The phrase is a declarative statement, which is a type of sentence that states a fact or opinion.\\n3. **Context**: The context of the essay is about the negative impacts of mobile phones on young people. The speaker is discussing their own experience with mobile phones and how it has affected their behavior and relationships.\\n4. **Function**: The function of this phrase is to express the speaker\\'s personal experience and feelings about the negative impacts of mobile phones.',\n",
       "  '### Classification:',\n",
       "  'Based on the analysis, I classify the argument component as a **Claim**. A claim is a statement that expresses a specific stance or opinion, and in this case, the speaker is expressing their personal experience and feelings about the negative impacts of mobile phones.',\n",
       "  '### Classification in JSON format:',\n",
       "  '{\"component_type\": [\"Claim\"]}']]"
      ]
     },
     "execution_count": 330,
     "metadata": {},
     "output_type": "execute_result"
    }
   ],
   "source": [
    "reasons_l"
   ]
  },
  {
   "cell_type": "code",
   "execution_count": null,
   "metadata": {},
   "outputs": [],
   "source": []
  },
  {
   "cell_type": "code",
   "execution_count": 258,
   "metadata": {},
   "outputs": [],
   "source": [
    "# input_ids = tokenizer.apply_chat_template(\n",
    "#     messages,\n",
    "#     add_generation_prompt=True,\n",
    "#     return_tensors=\"pt\"\n",
    "# ).to(model.device) # type: ignore"
   ]
  },
  {
   "cell_type": "code",
   "execution_count": 259,
   "metadata": {},
   "outputs": [],
   "source": [
    "#input_ids"
   ]
  },
  {
   "cell_type": "code",
   "execution_count": 260,
   "metadata": {},
   "outputs": [],
   "source": [
    "#print(tokenizer.decode(input_ids[0]))"
   ]
  },
  {
   "cell_type": "code",
   "execution_count": 261,
   "metadata": {},
   "outputs": [],
   "source": [
    "# terminators = [\n",
    "#     tokenizer.eos_token_id,\n",
    "#     tokenizer.convert_tokens_to_ids(\"<|eot_id|>\")\n",
    "# ]"
   ]
  },
  {
   "cell_type": "code",
   "execution_count": 262,
   "metadata": {},
   "outputs": [],
   "source": [
    "# outputs = model.generate(\n",
    "#     input_ids,\n",
    "#     max_new_tokens=1024,\n",
    "#     eos_token_id=terminators,\n",
    "#     do_sample=True,\n",
    "#     temperature=0.1,\n",
    "#     top_p=0.9,\n",
    "# )"
   ]
  },
  {
   "cell_type": "code",
   "execution_count": 263,
   "metadata": {},
   "outputs": [],
   "source": [
    "#response = outputs[0][input_ids.shape[-1]:]"
   ]
  },
  {
   "cell_type": "code",
   "execution_count": 264,
   "metadata": {},
   "outputs": [],
   "source": [
    "#print(tokenizer.decode(response, skip_special_tokens=True))"
   ]
  },
  {
   "cell_type": "code",
   "execution_count": 265,
   "metadata": {},
   "outputs": [],
   "source": [
    "#reasons_d[usr_msg] = tokenizer.decode(response, skip_special_tokens=True)"
   ]
  },
  {
   "cell_type": "code",
   "execution_count": 266,
   "metadata": {},
   "outputs": [],
   "source": [
    "#reasons_d"
   ]
  },
  {
   "cell_type": "code",
   "execution_count": null,
   "metadata": {},
   "outputs": [],
   "source": []
  }
 ],
 "metadata": {
  "kernelspec": {
   "display_name": "Python 3 (ipykernel)",
   "language": "python",
   "name": "python3"
  },
  "language_info": {
   "codemirror_mode": {
    "name": "ipython",
    "version": 3
   },
   "file_extension": ".py",
   "mimetype": "text/x-python",
   "name": "python",
   "nbconvert_exporter": "python",
   "pygments_lexer": "ipython3",
   "version": "3.11.11"
  }
 },
 "nbformat": 4,
 "nbformat_minor": 2
}
